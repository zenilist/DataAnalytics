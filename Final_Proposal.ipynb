{
  "nbformat": 4,
  "nbformat_minor": 0,
  "metadata": {
    "colab": {
      "name": "Final Proposal.ipynb",
      "provenance": [],
      "authorship_tag": "ABX9TyPSxQgpsEoiuDlDY4Ywo1Gq",
      "include_colab_link": true
    },
    "kernelspec": {
      "name": "python3",
      "display_name": "Python 3"
    },
    "language_info": {
      "name": "python"
    }
  },
  "cells": [
    {
      "cell_type": "markdown",
      "metadata": {
        "id": "view-in-github",
        "colab_type": "text"
      },
      "source": [
        "<a href=\"https://colab.research.google.com/github/zenilist/DataAnalytics/blob/main/Final_Proposal.ipynb\" target=\"_parent\"><img src=\"https://colab.research.google.com/assets/colab-badge.svg\" alt=\"Open In Colab\"/></a>"
      ]
    },
    {
      "cell_type": "markdown",
      "source": [
        "#**Introduction**\n",
        "\n",
        "Soccer or otherwise known as football is a team sport played amongst 11 players where two teams try to kick the ball into the opposing team’s goal to score goals. There are 10 outfield players and 1 pers on designated as the goalkeeper. \n",
        "\n",
        "In this sport, the pro athletes are the ones that shine the most. Hosting one of the most well-known names in all sports such as Lionel Messi or Cristiano Ronaldo it is no surprise that these players are worth a large sum of money and that soccer itself is a booming industry. The transfer market of soccer has increased tremendously over the last decade [link](https://football-observatory.com/Monthly-Report-reveals-growing-football-transfer) going from 1.5 billion euros in 2010 to 6.6 billion in 2019."
      ],
      "metadata": {
        "id": "phuOvI-Qqer3"
      }
    },
    {
      "cell_type": "markdown",
      "source": [
        "#**Research Question and Data**: \n",
        "Does the nationality of players have a great effect in determining their transfer valuation?"
      ],
      "metadata": {
        "id": "2KdCkC5cqsui"
      }
    },
    {
      "cell_type": "markdown",
      "source": [
        "#**Data To be Used**: \n",
        "The dataset for the soccer transfers dataset was preprocessed and sourced from the Github user - [d2ski](https://github.com/d2ski/football-transfers-data). The data was originally scraped from Transfermarkt.com."
      ],
      "metadata": {
        "id": "ampg3mr9q4O-"
      }
    },
    {
      "cell_type": "markdown",
      "source": [
        "#**Approach**: \n",
        "The data will be managed by reading into the GitHub raw data link and performing necessary data preparation, cleaning, and scaling operations. We plan to do an entire EDA that includes searching for relationships among variables, testing for multicollinearity, and independence, showing charts, regressions, models, and much more."
      ],
      "metadata": {
        "id": "IfWKo04Cq92E"
      }
    }
  ]
}