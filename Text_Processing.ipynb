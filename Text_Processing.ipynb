{
  "nbformat": 4,
  "nbformat_minor": 0,
  "metadata": {
    "colab": {
      "name": "Text Processing.ipynb",
      "provenance": [],
      "authorship_tag": "ABX9TyPyJyL2MpEsr8CgUGoBebZR",
      "include_colab_link": true
    },
    "kernelspec": {
      "name": "python3",
      "display_name": "Python 3"
    },
    "language_info": {
      "name": "python"
    }
  },
  "cells": [
    {
      "cell_type": "markdown",
      "metadata": {
        "id": "view-in-github",
        "colab_type": "text"
      },
      "source": [
        "<a href=\"https://colab.research.google.com/github/zenilist/DataAnalytics/blob/main/Text_Processing.ipynb\" target=\"_parent\"><img src=\"https://colab.research.google.com/assets/colab-badge.svg\" alt=\"Open In Colab\"/></a>"
      ]
    },
    {
      "cell_type": "markdown",
      "source": [
        "##1. Extract the numbers\n"
      ],
      "metadata": {
        "id": "bd10Mcf-aD2r"
      }
    },
    {
      "cell_type": "code",
      "source": [
        "#import regular expressions and pandas library\n",
        "import re\n",
        "import pandas as pd\n",
        "\n",
        "\n",
        "str = \"555-1239Dr. Bernard Lander(636) 555-0113Hollingdorp, Donnatella555-6542Fitzgerald, F. Sco\\\n",
        "tt555 8904Rev. Martin Luther King636-555-3226Snodgrass, Theodore5553642Carlamina Scarfoni\"\n",
        "\n",
        "#source for regex syntax: https://docs.python.org/3/howto/regex.html and https://colab.research.google.com/drive/1NoxZMuOzl2AVTEbl5bvDRawH5QxOOS2v#scrollTo=x4NK661dBEu8\n",
        "ls = re.findall(\"[0-9\\-\\( )]+\",str)\n",
        "numbers = [i for i in ls if i != ' ']\n",
        "\n",
        "print(numbers)\n",
        "\n",
        "\n",
        "\n"
      ],
      "metadata": {
        "colab": {
          "base_uri": "https://localhost:8080/"
        },
        "id": "ynxe-TDXaHSl",
        "outputId": "c3bc587f-3740-4669-e75d-ab430c26d9cf"
      },
      "execution_count": 181,
      "outputs": [
        {
          "output_type": "stream",
          "name": "stdout",
          "text": [
            "['555-1239', '(636) 555-0113', '555-6542', '555 8904', '636-555-3226', '5553642']\n"
          ]
        }
      ]
    },
    {
      "cell_type": "markdown",
      "source": [
        "##2. Extract the names\n"
      ],
      "metadata": {
        "id": "YdF1vdVlimIp"
      }
    },
    {
      "cell_type": "code",
      "source": [
        "#source for regex syntax: https://docs.python.org/3/howto/regex.html and https://colab.research.google.com/drive/1NoxZMuOzl2AVTEbl5bvDRawH5QxOOS2v#scrollTo=x4NK661dBEu8\n",
        "\n",
        "names = re.findall(\"[\\D]+[a-zA-Z]\",str)\n",
        "print(names)\n"
      ],
      "metadata": {
        "colab": {
          "base_uri": "https://localhost:8080/"
        },
        "id": "UK7oa6cghAfS",
        "outputId": "ed86e1c8-ead8-47bb-98ba-3d4e824a92b3"
      },
      "execution_count": 78,
      "outputs": [
        {
          "output_type": "stream",
          "name": "stdout",
          "text": [
            "['Dr. Bernard Lander', 'Hollingdorp, Donnatella', 'Fitzgerald, F. Scott', 'Rev. Martin Luther King', 'Snodgrass, Theodore', 'Carlamina Scarfoni']\n"
          ]
        }
      ]
    },
    {
      "cell_type": "markdown",
      "source": [
        "##3. Rearrange the vector so that all elements conform to the standard “firstname lastname”, preserving any titles (e.g., “Rev.”, “Dr.”, etc) or middle/second names.\n"
      ],
      "metadata": {
        "id": "3eh6mDEyp1z4"
      }
    },
    {
      "cell_type": "code",
      "source": [
        "\n",
        "#source code: https://stackoverflow.com/questions/15704943/switch-lastname-firstname-to-firstname-lastname-inside-list\n",
        "names_arranged = [\" \".join(i.split(\", \")[::-1]) for i in names]\n",
        "print(names_arranged)"
      ],
      "metadata": {
        "colab": {
          "base_uri": "https://localhost:8080/"
        },
        "id": "LxA3tcXMp4QZ",
        "outputId": "f500cc0f-eed4-4516-8f8a-36d47c0298de"
      },
      "execution_count": 84,
      "outputs": [
        {
          "output_type": "stream",
          "name": "stdout",
          "text": [
            "['Dr. Bernard Lander', 'Donnatella Hollingdorp', 'F. Scott Fitzgerald', 'Rev. Martin Luther King', 'Theodore Snodgrass', 'Carlamina Scarfoni']\n"
          ]
        }
      ]
    },
    {
      "cell_type": "markdown",
      "source": [
        "##4. ***Construct*** a logical vector indicating whether a character has a title (i.e., Rev. and Dr.)\n"
      ],
      "metadata": {
        "id": "avaQ2hQFsnzc"
      }
    },
    {
      "cell_type": "code",
      "source": [
        "data = pd.Series(names_arranged)\n",
        "title = r'(Dr.|Rev.)'\n",
        "data.str.contains(title)"
      ],
      "metadata": {
        "colab": {
          "base_uri": "https://localhost:8080/"
        },
        "id": "o9_U68fvsrCl",
        "outputId": "769aa642-e992-4a26-c6ca-6c88732016b9"
      },
      "execution_count": 96,
      "outputs": [
        {
          "output_type": "stream",
          "name": "stderr",
          "text": [
            "/usr/local/lib/python3.7/dist-packages/ipykernel_launcher.py:3: UserWarning: This pattern has match groups. To actually get the groups, use str.extract.\n",
            "  This is separate from the ipykernel package so we can avoid doing imports until\n"
          ]
        },
        {
          "output_type": "execute_result",
          "data": {
            "text/plain": [
              "0     True\n",
              "1    False\n",
              "2    False\n",
              "3     True\n",
              "4    False\n",
              "5    False\n",
              "dtype: bool"
            ]
          },
          "metadata": {},
          "execution_count": 96
        }
      ]
    },
    {
      "cell_type": "markdown",
      "source": [
        "##5. Construct a logical vector indicating whether a character has a middle/second name.\n"
      ],
      "metadata": {
        "id": "w8ENvtAQrRWY"
      }
    },
    {
      "cell_type": "code",
      "source": [
        "#source code: https://regexland.com/regex-match-all-except/\n",
        "\n",
        "middle_name  = r'^(?!.*Dr.|Rev.).*[a-zA-Z.]+[\\s][a-zA-Z]+[\\s][a-zA-Z]'\n",
        "data.str.contains(middle_name)"
      ],
      "metadata": {
        "colab": {
          "base_uri": "https://localhost:8080/"
        },
        "id": "SO_hqps9uuYF",
        "outputId": "692d3848-15a5-4506-db38-bc6c99bdf3cc"
      },
      "execution_count": 134,
      "outputs": [
        {
          "output_type": "execute_result",
          "data": {
            "text/plain": [
              "0    False\n",
              "1    False\n",
              "2     True\n",
              "3    False\n",
              "4    False\n",
              "5    False\n",
              "dtype: bool"
            ]
          },
          "metadata": {},
          "execution_count": 134
        }
      ]
    },
    {
      "cell_type": "markdown",
      "source": [
        "##6. Consider the HTML string \\<title>+++BREAKING NEWS+++\\<title>. We would like to extract the first HTML tag (i.e., “\\<title>”). To do so we write the regular expression “\\<.+>”. Explain why this fails and correct the expression.\n"
      ],
      "metadata": {
        "id": "1xTbYMJz57TY"
      }
    },
    {
      "cell_type": "markdown",
      "source": [
        "***the last greater than sign is seen as the point at which the expression ends. Thus it yields the entire html expression ***"
      ],
      "metadata": {
        "id": "Ul8oOog7Pcj2"
      }
    },
    {
      "cell_type": "code",
      "source": [
        "new_str = \"<title>+++BREAKING NEWS+++<title>\"\n",
        "extract_new_str = re.findall(\"<.+>\",new_str)\n",
        "print(extract_new_str)"
      ],
      "metadata": {
        "colab": {
          "base_uri": "https://localhost:8080/"
        },
        "id": "F9L5cu_L5_Kv",
        "outputId": "76aa5a64-7918-4c19-b348-367c6a144a73"
      },
      "execution_count": 253,
      "outputs": [
        {
          "output_type": "stream",
          "name": "stdout",
          "text": [
            "['<title>+++BREAKING NEWS+++<title>']\n"
          ]
        }
      ]
    },
    {
      "cell_type": "code",
      "source": [
        "#source code: https://medium.com/@jorlugaqui/how-to-strip-html-tags-from-a-string-in-python-7cb81a2bbf44\n",
        "\n",
        "extract_new_str_correct = re.findall(\"<[^/].+?>\", new_str)\n",
        "print(extract_new_str_correct)"
      ],
      "metadata": {
        "colab": {
          "base_uri": "https://localhost:8080/"
        },
        "id": "TRVq8RVbP7qk",
        "outputId": "d79d6732-b6a5-4902-b9ca-06ca475f8108"
      },
      "execution_count": 254,
      "outputs": [
        {
          "output_type": "stream",
          "name": "stdout",
          "text": [
            "['<title>', '<title>']\n"
          ]
        }
      ]
    },
    {
      "cell_type": "markdown",
      "source": [
        "#7. Consider the string “(5-3)^2=5^2-2*5*3+3^2”. We would like to extract the equation in its entirety from the string. To do so we write the regular expression “[^0-9=+*()]+”. Explain why this fails and correct the expression.\n"
      ],
      "metadata": {
        "id": "jGTkYZ60T2x_"
      }
    },
    {
      "cell_type": "markdown",
      "source": [
        "##**This regex is incorrect since by having a caret inside the block will exclude all characters after it**."
      ],
      "metadata": {
        "id": "5PneoiK0Y22u"
      }
    },
    {
      "cell_type": "code",
      "source": [
        "str_3 = \"(5-3)^2=5^2-2*5*3+3^2\"\n",
        "\n",
        "equation = re.findall(\"[^0-9=+*()]+\", str_3)\n",
        "print(equation)\n"
      ],
      "metadata": {
        "colab": {
          "base_uri": "https://localhost:8080/"
        },
        "id": "b2uutpsvT6YY",
        "outputId": "0047c6f5-f097-456c-a4be-dc0320657c3e"
      },
      "execution_count": 207,
      "outputs": [
        {
          "output_type": "stream",
          "name": "stdout",
          "text": [
            "['-', '^', '^', '-', '^']\n"
          ]
        }
      ]
    },
    {
      "cell_type": "markdown",
      "source": [
        "## **We should also include - and ^ inside the block to get the entire equation correctl**y."
      ],
      "metadata": {
        "id": "HyczDedaZuSN"
      }
    },
    {
      "cell_type": "code",
      "source": [
        "correct_equation = re.findall(\"^[0-9=+*()-^]+\", str_3)\n",
        "print(correct_equation)"
      ],
      "metadata": {
        "colab": {
          "base_uri": "https://localhost:8080/"
        },
        "id": "hzBjJlkDXTrJ",
        "outputId": "3a5a8131-f451-4723-c3cc-fbc633551737"
      },
      "execution_count": 205,
      "outputs": [
        {
          "output_type": "stream",
          "name": "stdout",
          "text": [
            "['(5-3)^2=5^2-2*5*3+3^2']\n"
          ]
        }
      ]
    }
  ]
}