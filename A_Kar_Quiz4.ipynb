{
  "nbformat": 4,
  "nbformat_minor": 0,
  "metadata": {
    "colab": {
      "name": "A_Kar_Quiz4.ipynb",
      "provenance": [],
      "authorship_tag": "ABX9TyN61rRgJk703k+aZjYpvtml",
      "include_colab_link": true
    },
    "kernelspec": {
      "name": "python3",
      "display_name": "Python 3"
    },
    "language_info": {
      "name": "python"
    }
  },
  "cells": [
    {
      "cell_type": "markdown",
      "metadata": {
        "id": "view-in-github",
        "colab_type": "text"
      },
      "source": [
        "<a href=\"https://colab.research.google.com/github/zenilist/DataAnalytics/blob/main/A_Kar_Quiz4.ipynb\" target=\"_parent\"><img src=\"https://colab.research.google.com/assets/colab-badge.svg\" alt=\"Open In Colab\"/></a>"
      ]
    },
    {
      "cell_type": "markdown",
      "source": [
        "#**Introduction and Data Summary**"
      ],
      "metadata": {
        "id": "GY4kSwlna_-v"
      }
    },
    {
      "cell_type": "markdown",
      "source": [
        "In this assignment our task is to work on the Home Mortgage Disclosure Act data set sourced from the Federal Reserve Bank of Boston. The contents for the dataset can be found [here](https://vincentarelbundock.github.io/Rdatasets/doc/Ecdat/Hdma.html).\n",
        "\n",
        "Our primary goal is to contruct and compare a series of binary logistic regression models that would predict whether or not a given mortgage appication is likely to be denied. The response variable is \"**DENY\"**.\n",
        "\n",
        "Our road map would look this this:\n",
        "1. Load data set from github using pandas dataframe.\n",
        "2. Perform EDA work to get useful statistics of the given attributes.\n",
        "3. Perform Data Preparation work to transform the raw data if needed.\n",
        "4. Use various techniques to decide which variables to keep and/or discard.\n",
        "5. After the data has been cleaned we would divide the dataset into two sets - training and testing. We would use the training subset to create three binary regression models.\n",
        "6. We would then test those models and compare against each other to decide which one to keep based on different metrics like accuracy, complexity, performance. \n",
        "\n"
      ],
      "metadata": {
        "id": "k1bvryHjbGCw"
      }
    },
    {
      "cell_type": "markdown",
      "source": [
        "##**Data Attributes:**"
      ],
      "metadata": {
        "id": "dZQeDVRmecan"
      }
    },
    {
      "cell_type": "markdown",
      "source": [
        "| Attribute name | Attribute Description                                                                                 |   |   |   |\n",
        "|----------------|-------------------------------------------------------------------------------------------------------|---|---|---|\n",
        "| dir            | debt payments to total income ratio                                                                   |   |   |   |\n",
        "| hir            | housing expenses to income ratio                                                                      |   |   |   |\n",
        "| lvr            | ratio of size of loan to assessed value of property                                                   |   |   |   |\n",
        "| ccs            | consumer credit score from 1 to 6 (a low value being a good score)                                    |   |   |   |\n",
        "| mcs            | mortgage credit score from 1 to 4 (a low value being a good score)                                    |   |   |   |\n",
        "| pbcr           | public bad credit record ?                                                                            |   |   |   |\n",
        "| dmi            | denied mortgage insurance ?                                                                           |   |   |   |\n",
        "| self           | self employed ?                                                                                       |   |   |   |\n",
        "| single         | is the applicant single ?                                                                             |   |   |   |\n",
        "| uria           | 1989 Massachusetts unemployment rate in the applicant's industry                                      |   |   |   |\n",
        "| condominium    | is unit a condominium ? (was called comdominiom in version 0.2-9 and earlier versions of the package) |   |   |   |\n",
        "| black          | is the applicant black?                                                                               |   |   |   |\n",
        "| deny           | mortgage application denied ?                                                                         |   |   |   |"
      ],
      "metadata": {
        "id": "-b4gtdXQfdm_"
      }
    },
    {
      "cell_type": "markdown",
      "source": [
        "#**Data Loading**"
      ],
      "metadata": {
        "id": "gFsers-La2i3"
      }
    },
    {
      "cell_type": "code",
      "execution_count": 216,
      "metadata": {
        "colab": {
          "base_uri": "https://localhost:8080/",
          "height": 206
        },
        "id": "Jwdi8EIuHfWR",
        "outputId": "57c51029-a4f3-47a4-f6d0-47f3114538ad"
      },
      "outputs": [
        {
          "output_type": "execute_result",
          "data": {
            "text/plain": [
              "     dir    hir       lvr  ccs  mcs pbcr dmi self single  uria  comdominiom  \\\n",
              "1  0.221  0.221  0.800000  5.0  2.0   no  no   no     no   3.9            0   \n",
              "2  0.265  0.265  0.921875  2.0  2.0   no  no   no    yes   3.2            0   \n",
              "3  0.372  0.248  0.920398  1.0  2.0   no  no   no     no   3.2            0   \n",
              "4  0.320  0.250  0.860465  1.0  2.0   no  no   no     no   4.3            0   \n",
              "5  0.360  0.350  0.600000  1.0  1.0   no  no   no     no   3.2            0   \n",
              "\n",
              "  black deny  \n",
              "1    no   no  \n",
              "2    no   no  \n",
              "3    no   no  \n",
              "4    no   no  \n",
              "5    no   no  "
            ],
            "text/html": [
              "\n",
              "  <div id=\"df-65ad8a18-4062-4253-8f40-dfc47b1bd9be\">\n",
              "    <div class=\"colab-df-container\">\n",
              "      <div>\n",
              "<style scoped>\n",
              "    .dataframe tbody tr th:only-of-type {\n",
              "        vertical-align: middle;\n",
              "    }\n",
              "\n",
              "    .dataframe tbody tr th {\n",
              "        vertical-align: top;\n",
              "    }\n",
              "\n",
              "    .dataframe thead th {\n",
              "        text-align: right;\n",
              "    }\n",
              "</style>\n",
              "<table border=\"1\" class=\"dataframe\">\n",
              "  <thead>\n",
              "    <tr style=\"text-align: right;\">\n",
              "      <th></th>\n",
              "      <th>dir</th>\n",
              "      <th>hir</th>\n",
              "      <th>lvr</th>\n",
              "      <th>ccs</th>\n",
              "      <th>mcs</th>\n",
              "      <th>pbcr</th>\n",
              "      <th>dmi</th>\n",
              "      <th>self</th>\n",
              "      <th>single</th>\n",
              "      <th>uria</th>\n",
              "      <th>comdominiom</th>\n",
              "      <th>black</th>\n",
              "      <th>deny</th>\n",
              "    </tr>\n",
              "  </thead>\n",
              "  <tbody>\n",
              "    <tr>\n",
              "      <th>1</th>\n",
              "      <td>0.221</td>\n",
              "      <td>0.221</td>\n",
              "      <td>0.800000</td>\n",
              "      <td>5.0</td>\n",
              "      <td>2.0</td>\n",
              "      <td>no</td>\n",
              "      <td>no</td>\n",
              "      <td>no</td>\n",
              "      <td>no</td>\n",
              "      <td>3.9</td>\n",
              "      <td>0</td>\n",
              "      <td>no</td>\n",
              "      <td>no</td>\n",
              "    </tr>\n",
              "    <tr>\n",
              "      <th>2</th>\n",
              "      <td>0.265</td>\n",
              "      <td>0.265</td>\n",
              "      <td>0.921875</td>\n",
              "      <td>2.0</td>\n",
              "      <td>2.0</td>\n",
              "      <td>no</td>\n",
              "      <td>no</td>\n",
              "      <td>no</td>\n",
              "      <td>yes</td>\n",
              "      <td>3.2</td>\n",
              "      <td>0</td>\n",
              "      <td>no</td>\n",
              "      <td>no</td>\n",
              "    </tr>\n",
              "    <tr>\n",
              "      <th>3</th>\n",
              "      <td>0.372</td>\n",
              "      <td>0.248</td>\n",
              "      <td>0.920398</td>\n",
              "      <td>1.0</td>\n",
              "      <td>2.0</td>\n",
              "      <td>no</td>\n",
              "      <td>no</td>\n",
              "      <td>no</td>\n",
              "      <td>no</td>\n",
              "      <td>3.2</td>\n",
              "      <td>0</td>\n",
              "      <td>no</td>\n",
              "      <td>no</td>\n",
              "    </tr>\n",
              "    <tr>\n",
              "      <th>4</th>\n",
              "      <td>0.320</td>\n",
              "      <td>0.250</td>\n",
              "      <td>0.860465</td>\n",
              "      <td>1.0</td>\n",
              "      <td>2.0</td>\n",
              "      <td>no</td>\n",
              "      <td>no</td>\n",
              "      <td>no</td>\n",
              "      <td>no</td>\n",
              "      <td>4.3</td>\n",
              "      <td>0</td>\n",
              "      <td>no</td>\n",
              "      <td>no</td>\n",
              "    </tr>\n",
              "    <tr>\n",
              "      <th>5</th>\n",
              "      <td>0.360</td>\n",
              "      <td>0.350</td>\n",
              "      <td>0.600000</td>\n",
              "      <td>1.0</td>\n",
              "      <td>1.0</td>\n",
              "      <td>no</td>\n",
              "      <td>no</td>\n",
              "      <td>no</td>\n",
              "      <td>no</td>\n",
              "      <td>3.2</td>\n",
              "      <td>0</td>\n",
              "      <td>no</td>\n",
              "      <td>no</td>\n",
              "    </tr>\n",
              "  </tbody>\n",
              "</table>\n",
              "</div>\n",
              "      <button class=\"colab-df-convert\" onclick=\"convertToInteractive('df-65ad8a18-4062-4253-8f40-dfc47b1bd9be')\"\n",
              "              title=\"Convert this dataframe to an interactive table.\"\n",
              "              style=\"display:none;\">\n",
              "        \n",
              "  <svg xmlns=\"http://www.w3.org/2000/svg\" height=\"24px\"viewBox=\"0 0 24 24\"\n",
              "       width=\"24px\">\n",
              "    <path d=\"M0 0h24v24H0V0z\" fill=\"none\"/>\n",
              "    <path d=\"M18.56 5.44l.94 2.06.94-2.06 2.06-.94-2.06-.94-.94-2.06-.94 2.06-2.06.94zm-11 1L8.5 8.5l.94-2.06 2.06-.94-2.06-.94L8.5 2.5l-.94 2.06-2.06.94zm10 10l.94 2.06.94-2.06 2.06-.94-2.06-.94-.94-2.06-.94 2.06-2.06.94z\"/><path d=\"M17.41 7.96l-1.37-1.37c-.4-.4-.92-.59-1.43-.59-.52 0-1.04.2-1.43.59L10.3 9.45l-7.72 7.72c-.78.78-.78 2.05 0 2.83L4 21.41c.39.39.9.59 1.41.59.51 0 1.02-.2 1.41-.59l7.78-7.78 2.81-2.81c.8-.78.8-2.07 0-2.86zM5.41 20L4 18.59l7.72-7.72 1.47 1.35L5.41 20z\"/>\n",
              "  </svg>\n",
              "      </button>\n",
              "      \n",
              "  <style>\n",
              "    .colab-df-container {\n",
              "      display:flex;\n",
              "      flex-wrap:wrap;\n",
              "      gap: 12px;\n",
              "    }\n",
              "\n",
              "    .colab-df-convert {\n",
              "      background-color: #E8F0FE;\n",
              "      border: none;\n",
              "      border-radius: 50%;\n",
              "      cursor: pointer;\n",
              "      display: none;\n",
              "      fill: #1967D2;\n",
              "      height: 32px;\n",
              "      padding: 0 0 0 0;\n",
              "      width: 32px;\n",
              "    }\n",
              "\n",
              "    .colab-df-convert:hover {\n",
              "      background-color: #E2EBFA;\n",
              "      box-shadow: 0px 1px 2px rgba(60, 64, 67, 0.3), 0px 1px 3px 1px rgba(60, 64, 67, 0.15);\n",
              "      fill: #174EA6;\n",
              "    }\n",
              "\n",
              "    [theme=dark] .colab-df-convert {\n",
              "      background-color: #3B4455;\n",
              "      fill: #D2E3FC;\n",
              "    }\n",
              "\n",
              "    [theme=dark] .colab-df-convert:hover {\n",
              "      background-color: #434B5C;\n",
              "      box-shadow: 0px 1px 3px 1px rgba(0, 0, 0, 0.15);\n",
              "      filter: drop-shadow(0px 1px 2px rgba(0, 0, 0, 0.3));\n",
              "      fill: #FFFFFF;\n",
              "    }\n",
              "  </style>\n",
              "\n",
              "      <script>\n",
              "        const buttonEl =\n",
              "          document.querySelector('#df-65ad8a18-4062-4253-8f40-dfc47b1bd9be button.colab-df-convert');\n",
              "        buttonEl.style.display =\n",
              "          google.colab.kernel.accessAllowed ? 'block' : 'none';\n",
              "\n",
              "        async function convertToInteractive(key) {\n",
              "          const element = document.querySelector('#df-65ad8a18-4062-4253-8f40-dfc47b1bd9be');\n",
              "          const dataTable =\n",
              "            await google.colab.kernel.invokeFunction('convertToInteractive',\n",
              "                                                     [key], {});\n",
              "          if (!dataTable) return;\n",
              "\n",
              "          const docLinkHtml = 'Like what you see? Visit the ' +\n",
              "            '<a target=\"_blank\" href=https://colab.research.google.com/notebooks/data_table.ipynb>data table notebook</a>'\n",
              "            + ' to learn more about interactive tables.';\n",
              "          element.innerHTML = '';\n",
              "          dataTable['output_type'] = 'display_data';\n",
              "          await google.colab.output.renderOutput(dataTable, element);\n",
              "          const docLink = document.createElement('div');\n",
              "          docLink.innerHTML = docLinkHtml;\n",
              "          element.appendChild(docLink);\n",
              "        }\n",
              "      </script>\n",
              "    </div>\n",
              "  </div>\n",
              "  "
            ]
          },
          "metadata": {},
          "execution_count": 216
        }
      ],
      "source": [
        "#import required libraries\n",
        "import pandas as pd\n",
        "import numpy as np\n",
        "import matplotlib.pyplot as plt\n",
        "import seaborn as sns\n",
        "from sklearn.metrics import confusion_matrix, classification_report\n",
        "from sklearn.metrics import accuracy_score, recall_score, precision_score, f1_score, roc_auc_score, roc_curve\n",
        "from yellowbrick.classifier import ROCAUC\n",
        "from yellowbrick.target import FeatureCorrelation\n",
        "from sklearn.model_selection import train_test_split\n",
        "from sklearn.feature_selection import SelectKBest\n",
        "from sklearn.feature_selection import f_regression\n",
        "from sklearn.linear_model import LogisticRegression\n",
        "from sklearn import metrics\n",
        "import warnings\n",
        "warnings.filterwarnings(\"ignore\")\n",
        "from sklearn.model_selection import cross_val_score\n",
        "\n",
        "#load dataset\n",
        "df = pd.read_csv(\"https://raw.githubusercontent.com/zenilist/DataAnalytics/main/HDMA%20Boston%20Housing%20Data.csv\", index_col=0)\n",
        "#check first few rows\n",
        "df.head()"
      ]
    },
    {
      "cell_type": "code",
      "source": [
        "#check the dimensions\n",
        "df.shape"
      ],
      "metadata": {
        "colab": {
          "base_uri": "https://localhost:8080/"
        },
        "id": "uFDnrFb-OGwY",
        "outputId": "fc699dcd-8422-4c93-834c-9cfa5a5fbb19"
      },
      "execution_count": 217,
      "outputs": [
        {
          "output_type": "execute_result",
          "data": {
            "text/plain": [
              "(2381, 13)"
            ]
          },
          "metadata": {},
          "execution_count": 217
        }
      ]
    },
    {
      "cell_type": "code",
      "source": [
        "#check if there is any null data\n",
        "df.isnull().sum()\n"
      ],
      "metadata": {
        "colab": {
          "base_uri": "https://localhost:8080/"
        },
        "id": "-ziD_8JNVilM",
        "outputId": "93aab107-8587-4247-a6df-c823c70882ff"
      },
      "execution_count": 218,
      "outputs": [
        {
          "output_type": "execute_result",
          "data": {
            "text/plain": [
              "dir            0\n",
              "hir            0\n",
              "lvr            0\n",
              "ccs            0\n",
              "mcs            0\n",
              "pbcr           1\n",
              "dmi            0\n",
              "self           1\n",
              "single         0\n",
              "uria           0\n",
              "comdominiom    0\n",
              "black          0\n",
              "deny           0\n",
              "dtype: int64"
            ]
          },
          "metadata": {},
          "execution_count": 218
        }
      ]
    },
    {
      "cell_type": "code",
      "source": [
        "#check which index has null value\n",
        "#source code: https://stackoverflow.com/questions/14016247/find-integer-index-of-rows-with-nan-in-pandas-dataframe\n",
        "print(\"Index for pbcr: \",df.loc[pd.isna(df[\"pbcr\"]), :].index)\n",
        "print(\"Index for self: \",df.loc[pd.isna(df[\"self\"]), :].index)"
      ],
      "metadata": {
        "colab": {
          "base_uri": "https://localhost:8080/"
        },
        "id": "Yc19sFxkZAdW",
        "outputId": "5a1294f5-c848-445c-93a8-69b64346818f"
      },
      "execution_count": 219,
      "outputs": [
        {
          "output_type": "stream",
          "name": "stdout",
          "text": [
            "Index for pbcr:  Int64Index([2381], dtype='int64')\n",
            "Index for self:  Int64Index([2381], dtype='int64')\n"
          ]
        }
      ]
    },
    {
      "cell_type": "markdown",
      "source": [
        "This is interesting, both the NaN values are from the last row in the data frame."
      ],
      "metadata": {
        "id": "prfSmJy5Zp6S"
      }
    },
    {
      "cell_type": "code",
      "source": [
        "#check unique value for each variable \n",
        "df.nunique()"
      ],
      "metadata": {
        "colab": {
          "base_uri": "https://localhost:8080/"
        },
        "id": "TejL7gXVVsqB",
        "outputId": "cb98798d-bd4f-47ec-dbfd-58ee353b198d"
      },
      "execution_count": 220,
      "outputs": [
        {
          "output_type": "execute_result",
          "data": {
            "text/plain": [
              "dir             520\n",
              "hir             501\n",
              "lvr            1538\n",
              "ccs               7\n",
              "mcs               5\n",
              "pbcr              2\n",
              "dmi               2\n",
              "self              2\n",
              "single            2\n",
              "uria             11\n",
              "comdominiom       2\n",
              "black             2\n",
              "deny              2\n",
              "dtype: int64"
            ]
          },
          "metadata": {},
          "execution_count": 220
        }
      ]
    },
    {
      "cell_type": "markdown",
      "source": [
        "mcs has values 1-4, so there should only be 4 values but there is an extra one.\n",
        "same with ccs which is on a scale of 1-6 but has 7 unique values. Good thing to take note of.\n",
        "\n",
        "*edit: after checking the last row of the data it seems that there are two values with decimals.*\n",
        "\n",
        "All other variables are in the expected range."
      ],
      "metadata": {
        "id": "xq8eklNhW2QN"
      }
    },
    {
      "cell_type": "code",
      "source": [
        "#check data type of each variable\n",
        "df.dtypes"
      ],
      "metadata": {
        "colab": {
          "base_uri": "https://localhost:8080/"
        },
        "id": "xxUFitekWCug",
        "outputId": "5eaea8c6-b78c-49c4-e8d9-7ca4c085451a"
      },
      "execution_count": 221,
      "outputs": [
        {
          "output_type": "execute_result",
          "data": {
            "text/plain": [
              "dir            float64\n",
              "hir            float64\n",
              "lvr            float64\n",
              "ccs            float64\n",
              "mcs            float64\n",
              "pbcr            object\n",
              "dmi             object\n",
              "self            object\n",
              "single          object\n",
              "uria           float64\n",
              "comdominiom      int64\n",
              "black           object\n",
              "deny            object\n",
              "dtype: object"
            ]
          },
          "metadata": {},
          "execution_count": 221
        }
      ]
    },
    {
      "cell_type": "markdown",
      "source": [
        "Data types appear to be alright, requires no transformation."
      ],
      "metadata": {
        "id": "uctXe357WcqH"
      }
    },
    {
      "cell_type": "markdown",
      "source": [
        "#**Exploratory Data Analysis**"
      ],
      "metadata": {
        "id": "9YKTi97if0Qh"
      }
    },
    {
      "cell_type": "markdown",
      "source": [
        "In this section we would use our skills as a data practioner to make meaningful connections between different variables gain vital insights from various graphs."
      ],
      "metadata": {
        "id": "j5psX79Qf5cf"
      }
    },
    {
      "cell_type": "markdown",
      "source": [
        "##**Numeric Variables**"
      ],
      "metadata": {
        "id": "2b4E5A0rgU3G"
      }
    },
    {
      "cell_type": "code",
      "source": [
        "df.hist(figsize=(30,20), color='#2e59a8')"
      ],
      "metadata": {
        "colab": {
          "base_uri": "https://localhost:8080/",
          "height": 0
        },
        "id": "d0A0zlnFf4N7",
        "outputId": "d671e9e0-770b-4776-ab82-6e7cc001c63f"
      },
      "execution_count": 222,
      "outputs": [
        {
          "output_type": "execute_result",
          "data": {
            "text/plain": [
              "array([[<matplotlib.axes._subplots.AxesSubplot object at 0x7f94f453d350>,\n",
              "        <matplotlib.axes._subplots.AxesSubplot object at 0x7f94f3e7f410>,\n",
              "        <matplotlib.axes._subplots.AxesSubplot object at 0x7f94f45a33d0>],\n",
              "       [<matplotlib.axes._subplots.AxesSubplot object at 0x7f94f3ddd5d0>,\n",
              "        <matplotlib.axes._subplots.AxesSubplot object at 0x7f94f3d8fad0>,\n",
              "        <matplotlib.axes._subplots.AxesSubplot object at 0x7f94f3db8b10>],\n",
              "       [<matplotlib.axes._subplots.AxesSubplot object at 0x7f94f3d80590>,\n",
              "        <matplotlib.axes._subplots.AxesSubplot object at 0x7f94f3d349d0>,\n",
              "        <matplotlib.axes._subplots.AxesSubplot object at 0x7f94f3d34a10>]],\n",
              "      dtype=object)"
            ]
          },
          "metadata": {},
          "execution_count": 222
        },
        {
          "output_type": "display_data",
          "data": {
            "text/plain": [
              "<Figure size 2160x1440 with 9 Axes>"
            ],
            "image/png": "[encoded data removed]"
          },
          "metadata": {
            "needs_background": "light"
          }
        }
      ]
    },
    {
      "cell_type": "markdown",
      "source": [
        "* Almost 70% of the sample size have debt payments that is around 25-60% of their total income. There is a marginal group of people who have debt payments three times their income.\n",
        "* Housing payments ratio have outliers that mirror the distribution of dir. A fair question would be to ask if the people with dir>1 are in that position due to their housing payments.\n",
        "* Majority of loans are worth 60-95% of their property value. Some loans are worth more than 100% of the property value going as far as 1.8x. This might indicate that the value of the property has greatly fallen and/or interest accumulation from high interest loans. [for more info](https://www.quickenloans.com/learn/negative-equity#:~:text=Negative%20equity%20happens%20when%20you,values%20and%20high-interest%20loans.).\n",
        "* Around 200 people work in indusries with a high unemployemt rate of around 10%."
      ],
      "metadata": {
        "id": "JgfLLZ3RhZhd"
      }
    },
    {
      "cell_type": "code",
      "source": [
        "#statistics of numeric variables\n",
        "df.describe()"
      ],
      "metadata": {
        "colab": {
          "base_uri": "https://localhost:8080/",
          "height": 0
        },
        "id": "8_1wjsXqq7Eo",
        "outputId": "d9aac464-2f83-4d38-d3a8-a38e07f3fe8a"
      },
      "execution_count": 223,
      "outputs": [
        {
          "output_type": "execute_result",
          "data": {
            "text/plain": [
              "               dir          hir          lvr          ccs          mcs  \\\n",
              "count  2381.000000  2381.000000  2381.000000  2381.000000  2381.000000   \n",
              "mean      0.330814     0.255346     0.737760     2.116387     1.721008   \n",
              "std       0.107235     0.096635     0.178715     1.666370     0.537169   \n",
              "min       0.000000     0.000000     0.020000     1.000000     1.000000   \n",
              "25%       0.280000     0.214000     0.652850     1.000000     1.000000   \n",
              "50%       0.330000     0.260000     0.779412     1.000000     2.000000   \n",
              "75%       0.370000     0.298800     0.868421     2.000000     2.000000   \n",
              "max       3.000000     3.000000     1.950000     6.000000     4.000000   \n",
              "\n",
              "              uria  comdominiom  \n",
              "count  2381.000000  2381.000000  \n",
              "mean      3.774496     0.288114  \n",
              "std       2.026636     0.452980  \n",
              "min       1.800000     0.000000  \n",
              "25%       3.100000     0.000000  \n",
              "50%       3.200000     0.000000  \n",
              "75%       3.900000     1.000000  \n",
              "max      10.600000     1.000000  "
            ],
            "text/html": [
              "\n",
              "  <div id=\"df-626d9a5c-f450-4bae-be2b-16c0532b4e59\">\n",
              "    <div class=\"colab-df-container\">\n",
              "      <div>\n",
              "<style scoped>\n",
              "    .dataframe tbody tr th:only-of-type {\n",
              "        vertical-align: middle;\n",
              "    }\n",
              "\n",
              "    .dataframe tbody tr th {\n",
              "        vertical-align: top;\n",
              "    }\n",
              "\n",
              "    .dataframe thead th {\n",
              "        text-align: right;\n",
              "    }\n",
              "</style>\n",
              "<table border=\"1\" class=\"dataframe\">\n",
              "  <thead>\n",
              "    <tr style=\"text-align: right;\">\n",
              "      <th></th>\n",
              "      <th>dir</th>\n",
              "      <th>hir</th>\n",
              "      <th>lvr</th>\n",
              "      <th>ccs</th>\n",
              "      <th>mcs</th>\n",
              "      <th>uria</th>\n",
              "      <th>comdominiom</th>\n",
              "    </tr>\n",
              "  </thead>\n",
              "  <tbody>\n",
              "    <tr>\n",
              "      <th>count</th>\n",
              "      <td>2381.000000</td>\n",
              "      <td>2381.000000</td>\n",
              "      <td>2381.000000</td>\n",
              "      <td>2381.000000</td>\n",
              "      <td>2381.000000</td>\n",
              "      <td>2381.000000</td>\n",
              "      <td>2381.000000</td>\n",
              "    </tr>\n",
              "    <tr>\n",
              "      <th>mean</th>\n",
              "      <td>0.330814</td>\n",
              "      <td>0.255346</td>\n",
              "      <td>0.737760</td>\n",
              "      <td>2.116387</td>\n",
              "      <td>1.721008</td>\n",
              "      <td>3.774496</td>\n",
              "      <td>0.288114</td>\n",
              "    </tr>\n",
              "    <tr>\n",
              "      <th>std</th>\n",
              "      <td>0.107235</td>\n",
              "      <td>0.096635</td>\n",
              "      <td>0.178715</td>\n",
              "      <td>1.666370</td>\n",
              "      <td>0.537169</td>\n",
              "      <td>2.026636</td>\n",
              "      <td>0.452980</td>\n",
              "    </tr>\n",
              "    <tr>\n",
              "      <th>min</th>\n",
              "      <td>0.000000</td>\n",
              "      <td>0.000000</td>\n",
              "      <td>0.020000</td>\n",
              "      <td>1.000000</td>\n",
              "      <td>1.000000</td>\n",
              "      <td>1.800000</td>\n",
              "      <td>0.000000</td>\n",
              "    </tr>\n",
              "    <tr>\n",
              "      <th>25%</th>\n",
              "      <td>0.280000</td>\n",
              "      <td>0.214000</td>\n",
              "      <td>0.652850</td>\n",
              "      <td>1.000000</td>\n",
              "      <td>1.000000</td>\n",
              "      <td>3.100000</td>\n",
              "      <td>0.000000</td>\n",
              "    </tr>\n",
              "    <tr>\n",
              "      <th>50%</th>\n",
              "      <td>0.330000</td>\n",
              "      <td>0.260000</td>\n",
              "      <td>0.779412</td>\n",
              "      <td>1.000000</td>\n",
              "      <td>2.000000</td>\n",
              "      <td>3.200000</td>\n",
              "      <td>0.000000</td>\n",
              "    </tr>\n",
              "    <tr>\n",
              "      <th>75%</th>\n",
              "      <td>0.370000</td>\n",
              "      <td>0.298800</td>\n",
              "      <td>0.868421</td>\n",
              "      <td>2.000000</td>\n",
              "      <td>2.000000</td>\n",
              "      <td>3.900000</td>\n",
              "      <td>1.000000</td>\n",
              "    </tr>\n",
              "    <tr>\n",
              "      <th>max</th>\n",
              "      <td>3.000000</td>\n",
              "      <td>3.000000</td>\n",
              "      <td>1.950000</td>\n",
              "      <td>6.000000</td>\n",
              "      <td>4.000000</td>\n",
              "      <td>10.600000</td>\n",
              "      <td>1.000000</td>\n",
              "    </tr>\n",
              "  </tbody>\n",
              "</table>\n",
              "</div>\n",
              "      <button class=\"colab-df-convert\" onclick=\"convertToInteractive('df-626d9a5c-f450-4bae-be2b-16c0532b4e59')\"\n",
              "              title=\"Convert this dataframe to an interactive table.\"\n",
              "              style=\"display:none;\">\n",
              "        \n",
              "  <svg xmlns=\"http://www.w3.org/2000/svg\" height=\"24px\"viewBox=\"0 0 24 24\"\n",
              "       width=\"24px\">\n",
              "    <path d=\"M0 0h24v24H0V0z\" fill=\"none\"/>\n",
              "    <path d=\"M18.56 5.44l.94 2.06.94-2.06 2.06-.94-2.06-.94-.94-2.06-.94 2.06-2.06.94zm-11 1L8.5 8.5l.94-2.06 2.06-.94-2.06-.94L8.5 2.5l-.94 2.06-2.06.94zm10 10l.94 2.06.94-2.06 2.06-.94-2.06-.94-.94-2.06-.94 2.06-2.06.94z\"/><path d=\"M17.41 7.96l-1.37-1.37c-.4-.4-.92-.59-1.43-.59-.52 0-1.04.2-1.43.59L10.3 9.45l-7.72 7.72c-.78.78-.78 2.05 0 2.83L4 21.41c.39.39.9.59 1.41.59.51 0 1.02-.2 1.41-.59l7.78-7.78 2.81-2.81c.8-.78.8-2.07 0-2.86zM5.41 20L4 18.59l7.72-7.72 1.47 1.35L5.41 20z\"/>\n",
              "  </svg>\n",
              "      </button>\n",
              "      \n",
              "  <style>\n",
              "    .colab-df-container {\n",
              "      display:flex;\n",
              "      flex-wrap:wrap;\n",
              "      gap: 12px;\n",
              "    }\n",
              "\n",
              "    .colab-df-convert {\n",
              "      background-color: #E8F0FE;\n",
              "      border: none;\n",
              "      border-radius: 50%;\n",
              "      cursor: pointer;\n",
              "      display: none;\n",
              "      fill: #1967D2;\n",
              "      height: 32px;\n",
              "      padding: 0 0 0 0;\n",
              "      width: 32px;\n",
              "    }\n",
              "\n",
              "    .colab-df-convert:hover {\n",
              "      background-color: #E2EBFA;\n",
              "      box-shadow: 0px 1px 2px rgba(60, 64, 67, 0.3), 0px 1px 3px 1px rgba(60, 64, 67, 0.15);\n",
              "      fill: #174EA6;\n",
              "    }\n",
              "\n",
              "    [theme=dark] .colab-df-convert {\n",
              "      background-color: #3B4455;\n",
              "      fill: #D2E3FC;\n",
              "    }\n",
              "\n",
              "    [theme=dark] .colab-df-convert:hover {\n",
              "      background-color: #434B5C;\n",
              "      box-shadow: 0px 1px 3px 1px rgba(0, 0, 0, 0.15);\n",
              "      filter: drop-shadow(0px 1px 2px rgba(0, 0, 0, 0.3));\n",
              "      fill: #FFFFFF;\n",
              "    }\n",
              "  </style>\n",
              "\n",
              "      <script>\n",
              "        const buttonEl =\n",
              "          document.querySelector('#df-626d9a5c-f450-4bae-be2b-16c0532b4e59 button.colab-df-convert');\n",
              "        buttonEl.style.display =\n",
              "          google.colab.kernel.accessAllowed ? 'block' : 'none';\n",
              "\n",
              "        async function convertToInteractive(key) {\n",
              "          const element = document.querySelector('#df-626d9a5c-f450-4bae-be2b-16c0532b4e59');\n",
              "          const dataTable =\n",
              "            await google.colab.kernel.invokeFunction('convertToInteractive',\n",
              "                                                     [key], {});\n",
              "          if (!dataTable) return;\n",
              "\n",
              "          const docLinkHtml = 'Like what you see? Visit the ' +\n",
              "            '<a target=\"_blank\" href=https://colab.research.google.com/notebooks/data_table.ipynb>data table notebook</a>'\n",
              "            + ' to learn more about interactive tables.';\n",
              "          element.innerHTML = '';\n",
              "          dataTable['output_type'] = 'display_data';\n",
              "          await google.colab.output.renderOutput(dataTable, element);\n",
              "          const docLink = document.createElement('div');\n",
              "          docLink.innerHTML = docLinkHtml;\n",
              "          element.appendChild(docLink);\n",
              "        }\n",
              "      </script>\n",
              "    </div>\n",
              "  </div>\n",
              "  "
            ]
          },
          "metadata": {},
          "execution_count": 223
        }
      ]
    },
    {
      "cell_type": "markdown",
      "source": [
        "* The average and median unemployement rate for each industry appear to be normal.\n",
        "* It is odd that there is a zero dir and hir but lvr is .02. Is is safe to assume that if all three of the minimum values belong to the same person, then \n"
      ],
      "metadata": {
        "id": "7H0UxeDCsQ1_"
      }
    },
    {
      "cell_type": "code",
      "source": [
        "#correlation heatmap\n",
        "corr = df.corr()\n",
        "ax = plt.subplots(figsize=(15,15))\n",
        "sns.heatmap(data=corr, square=True , annot=True, cbar=True)"
      ],
      "metadata": {
        "colab": {
          "base_uri": "https://localhost:8080/",
          "height": 0
        },
        "id": "eqA2HH_3dG0-",
        "outputId": "c840d788-f234-4f06-af40-fcb7df3bec6e"
      },
      "execution_count": 224,
      "outputs": [
        {
          "output_type": "execute_result",
          "data": {
            "text/plain": [
              "<matplotlib.axes._subplots.AxesSubplot at 0x7f94f3a65f90>"
            ]
          },
          "metadata": {},
          "execution_count": 224
        },
        {
          "output_type": "display_data",
          "data": {
            "text/plain": [
              "<Figure size 1080x1080 with 2 Axes>"
            ],
            "image/png": "[encoded data removed]"
          },
          "metadata": {
            "needs_background": "light"
          }
        }
      ]
    },
    {
      "cell_type": "markdown",
      "source": [
        "Not much correlation between the variables except for debt payment ratio and housing expense ratio being strongly related."
      ],
      "metadata": {
        "id": "6OjSMlSpeIMa"
      }
    },
    {
      "cell_type": "markdown",
      "source": [
        "##**Categorical Variables**"
      ],
      "metadata": {
        "id": "r7qB3Z5PmNZQ"
      }
    },
    {
      "cell_type": "code",
      "source": [
        "#Frequency of categorical variables\n",
        "\n",
        "plt.figure(1)\n",
        "plt.subplot(321)\n",
        "df['pbcr'].value_counts().plot(figsize=(10,8),kind='bar',color='#17bebb')\n",
        "plt.title(\"Public Bad Credit Record\")\n",
        "\n",
        "\n",
        "\n",
        "plt.subplot(322)\n",
        "df['dmi'].value_counts().plot(figsize=(10,8),kind='bar',color='#2E282A')\n",
        "plt.title(\"Denied Mortgage insurance\")\n",
        "\n",
        "\n",
        "plt.subplot(323)\n",
        "df['self'].value_counts().plot(figsize=(10,8),kind='bar',color='#CD5334')\n",
        "plt.title(\"Self employed\")\n",
        "\n",
        "\n",
        "plt.subplot(324)\n",
        "df['single'].value_counts().plot(figsize=(10,8),kind='bar',color='#EDB88B')\n",
        "plt.title(\"Single\")\n",
        "\n",
        "\n",
        "plt.subplot(325)\n",
        "df['black'].value_counts().plot(figsize=(10,8),kind='bar',color='#FAD8D6')\n",
        "plt.title(\"Black\")\n",
        "\n",
        "\n",
        "plt.subplot(326)\n",
        "df['deny'].value_counts().plot(figsize=(10,8),kind='bar',color='#0A3200')\n",
        "plt.title(\"Mortage denied\")\n",
        "\n",
        "plt.tight_layout()\n",
        "plt.show()"
      ],
      "metadata": {
        "colab": {
          "base_uri": "https://localhost:8080/",
          "height": 0
        },
        "id": "aO325SmxG32O",
        "outputId": "fcd931e9-0fdc-45e7-8247-e2354595eff1"
      },
      "execution_count": 225,
      "outputs": [
        {
          "output_type": "display_data",
          "data": {
            "text/plain": [
              "<Figure size 720x576 with 6 Axes>"
            ],
            "image/png": "[encoded data removed]"
          },
          "metadata": {
            "needs_background": "light"
          }
        }
      ]
    },
    {
      "cell_type": "code",
      "source": [
        "sns.countplot(data=df, x='deny',hue='single')"
      ],
      "metadata": {
        "colab": {
          "base_uri": "https://localhost:8080/",
          "height": 0
        },
        "id": "RWGkuADsNZ9d",
        "outputId": "44d03fdc-402d-4079-e558-c773ca85b542"
      },
      "execution_count": 226,
      "outputs": [
        {
          "output_type": "execute_result",
          "data": {
            "text/plain": [
              "<matplotlib.axes._subplots.AxesSubplot at 0x7f94f4feed10>"
            ]
          },
          "metadata": {},
          "execution_count": 226
        },
        {
          "output_type": "display_data",
          "data": {
            "text/plain": [
              "<Figure size 432x288 with 1 Axes>"
            ],
            "image/png": "[encoded data removed]"
          },
          "metadata": {
            "needs_background": "light"
          }
        }
      ]
    },
    {
      "cell_type": "markdown",
      "source": [
        "Being single seems to have a positive correlation with getting one's mortagage application denied."
      ],
      "metadata": {
        "id": "T_2znzwOQVh6"
      }
    },
    {
      "cell_type": "code",
      "source": [
        "sns.countplot(data=df, x='deny',hue='black')"
      ],
      "metadata": {
        "colab": {
          "base_uri": "https://localhost:8080/",
          "height": 0
        },
        "id": "gcyiLkLSOHKO",
        "outputId": "702299a6-3992-4045-83bc-e0c4095d7b63"
      },
      "execution_count": 227,
      "outputs": [
        {
          "output_type": "execute_result",
          "data": {
            "text/plain": [
              "<matplotlib.axes._subplots.AxesSubplot at 0x7f94f4816d50>"
            ]
          },
          "metadata": {},
          "execution_count": 227
        },
        {
          "output_type": "display_data",
          "data": {
            "text/plain": [
              "<Figure size 432x288 with 1 Axes>"
            ],
            "image/png": "[encoded data removed]"
          },
          "metadata": {
            "needs_background": "light"
          }
        }
      ]
    },
    {
      "cell_type": "code",
      "source": [
        "sns.countplot(data=df, x='deny',hue='self')"
      ],
      "metadata": {
        "colab": {
          "base_uri": "https://localhost:8080/",
          "height": 0
        },
        "id": "F9HCVYTFQghS",
        "outputId": "a272b5a1-5115-4bc8-eef4-59b60dd4026e"
      },
      "execution_count": 228,
      "outputs": [
        {
          "output_type": "execute_result",
          "data": {
            "text/plain": [
              "<matplotlib.axes._subplots.AxesSubplot at 0x7f94f3718c10>"
            ]
          },
          "metadata": {},
          "execution_count": 228
        },
        {
          "output_type": "display_data",
          "data": {
            "text/plain": [
              "<Figure size 432x288 with 1 Axes>"
            ],
            "image/png": "[encoded data removed]"
          },
          "metadata": {
            "needs_background": "light"
          }
        }
      ]
    },
    {
      "cell_type": "code",
      "source": [
        "sns.countplot(data=df, x='deny',hue='pbcr')"
      ],
      "metadata": {
        "colab": {
          "base_uri": "https://localhost:8080/",
          "height": 0
        },
        "id": "3vB_OCG5QmJS",
        "outputId": "a2b8d5d4-0897-472b-9133-05727e0fef3e"
      },
      "execution_count": 229,
      "outputs": [
        {
          "output_type": "execute_result",
          "data": {
            "text/plain": [
              "<matplotlib.axes._subplots.AxesSubplot at 0x7f94f5a6ad10>"
            ]
          },
          "metadata": {},
          "execution_count": 229
        },
        {
          "output_type": "display_data",
          "data": {
            "text/plain": [
              "<Figure size 432x288 with 1 Axes>"
            ],
            "image/png": "[encoded data removed]"
          },
          "metadata": {
            "needs_background": "light"
          }
        }
      ]
    },
    {
      "cell_type": "code",
      "source": [
        "with sns.axes_style(\"white\"):\n",
        "    g = sns.FacetGrid(df, row=\"black\", col=\"deny\", margin_titles=True, height=2.5)\n",
        "g.map(sns.scatterplot, \"ccs\", \"mcs\", color=\"#334488\")\n",
        "g.set_axis_labels(\"ccs\", \"mcs\")\n",
        "g.set(xticks=[1, 2, 3, 4, 5, 6], yticks=[1, 2, 3, 4])\n",
        "g.figure.subplots_adjust(wspace=.02, hspace=.04)"
      ],
      "metadata": {
        "colab": {
          "base_uri": "https://localhost:8080/",
          "height": 0
        },
        "id": "hufYzJzdRWYq",
        "outputId": "bf055b7f-7eac-4933-d6a3-37ba1caf6d17"
      },
      "execution_count": 230,
      "outputs": [
        {
          "output_type": "display_data",
          "data": {
            "text/plain": [
              "<Figure size 360x360 with 4 Axes>"
            ],
            "image/png": "[encoded data removed]"
          },
          "metadata": {}
        }
      ]
    },
    {
      "cell_type": "markdown",
      "source": [
        "Some non black applicants who have a bad mcs are decent ccs (1-3) are given mortgages but this does not say much since there are no black applicats with bad mcs(4) and decent ccs.\n",
        "In summary, race does not appear to be a good predictor when mortgage credit score and consumer credit score are taken into consideration. Because the number of black applicants are a lot lower than non black applicants, the observations might not be entirely accurate."
      ],
      "metadata": {
        "id": "nPtFBouoUFf8"
      }
    },
    {
      "cell_type": "markdown",
      "source": [
        "#**Data Preparation**"
      ],
      "metadata": {
        "id": "fTtd-nM6Vixq"
      }
    },
    {
      "cell_type": "markdown",
      "source": [
        "##**Missing Data**"
      ],
      "metadata": {
        "id": "1DvwOjGniT80"
      }
    },
    {
      "cell_type": "code",
      "source": [
        "#use mode to fill in missing data\n",
        "\n",
        "df = df.fillna(df.mode().iloc[0])\n",
        "df.isnull().sum()"
      ],
      "metadata": {
        "colab": {
          "base_uri": "https://localhost:8080/"
        },
        "id": "Wsjod2bUiShy",
        "outputId": "cec18353-895d-4e0d-c2c7-eb2a18379f3e"
      },
      "execution_count": 231,
      "outputs": [
        {
          "output_type": "execute_result",
          "data": {
            "text/plain": [
              "dir            0\n",
              "hir            0\n",
              "lvr            0\n",
              "ccs            0\n",
              "mcs            0\n",
              "pbcr           0\n",
              "dmi            0\n",
              "self           0\n",
              "single         0\n",
              "uria           0\n",
              "comdominiom    0\n",
              "black          0\n",
              "deny           0\n",
              "dtype: int64"
            ]
          },
          "metadata": {},
          "execution_count": 231
        }
      ]
    },
    {
      "cell_type": "markdown",
      "source": [
        "##**Transform Data**"
      ],
      "metadata": {
        "id": "06BaBIbDm0oZ"
      }
    },
    {
      "cell_type": "markdown",
      "source": [
        "For logical regression modelling to work smoothly we will change all the variables that have yes/no values to 1/0s."
      ],
      "metadata": {
        "id": "ZrtREJC3eu1c"
      }
    },
    {
      "cell_type": "code",
      "source": [
        "from sklearn.preprocessing import LabelEncoder\n",
        "\n",
        "lb = LabelEncoder() \n",
        "df['pbcr'] = lb.fit_transform(df['pbcr'])\n",
        "df['dmi'] = lb.fit_transform(df['dmi'])\n",
        "df['self'] = lb.fit_transform(df['self'])\n",
        "df['single'] = lb.fit_transform(df['single'])\n",
        "df['comdominiom'] = lb.fit_transform(df['comdominiom'])\n",
        "df['black'] = lb.fit_transform(df['black'])\n",
        "df['deny'] = lb.fit_transform(df['deny'])\n",
        "df.dtypes"
      ],
      "metadata": {
        "colab": {
          "base_uri": "https://localhost:8080/"
        },
        "id": "9UyWH5FDfDYl",
        "outputId": "2bbe2555-59fd-4215-dc4b-50a84b019174"
      },
      "execution_count": 232,
      "outputs": [
        {
          "output_type": "execute_result",
          "data": {
            "text/plain": [
              "dir            float64\n",
              "hir            float64\n",
              "lvr            float64\n",
              "ccs            float64\n",
              "mcs            float64\n",
              "pbcr             int64\n",
              "dmi              int64\n",
              "self             int64\n",
              "single           int64\n",
              "uria           float64\n",
              "comdominiom      int64\n",
              "black            int64\n",
              "deny             int64\n",
              "dtype: object"
            ]
          },
          "metadata": {},
          "execution_count": 232
        }
      ]
    },
    {
      "cell_type": "markdown",
      "source": [
        "##**Feature Selection**"
      ],
      "metadata": {
        "id": "JCWJX_D87tbu"
      }
    },
    {
      "cell_type": "markdown",
      "source": [
        "Based on our correlation matrix we found that dir and hir are highly correlated, so using that we would filter out one of those features out of our predictive model"
      ],
      "metadata": {
        "id": "AE8Gv71r8Dyj"
      }
    },
    {
      "cell_type": "code",
      "source": [
        "df_t = df.copy()\n",
        "df_t = df_t.drop('hir', axis='columns')\n",
        "df_t.head()"
      ],
      "metadata": {
        "colab": {
          "base_uri": "https://localhost:8080/",
          "height": 0
        },
        "id": "zRdjRaCM9yJs",
        "outputId": "0651b5a3-27a9-4507-b268-8e72a59bd7b4"
      },
      "execution_count": 233,
      "outputs": [
        {
          "output_type": "execute_result",
          "data": {
            "text/plain": [
              "     dir       lvr  ccs  mcs  pbcr  dmi  self  single  uria  comdominiom  \\\n",
              "1  0.221  0.800000  5.0  2.0     0    0     0       0   3.9            0   \n",
              "2  0.265  0.921875  2.0  2.0     0    0     0       1   3.2            0   \n",
              "3  0.372  0.920398  1.0  2.0     0    0     0       0   3.2            0   \n",
              "4  0.320  0.860465  1.0  2.0     0    0     0       0   4.3            0   \n",
              "5  0.360  0.600000  1.0  1.0     0    0     0       0   3.2            0   \n",
              "\n",
              "   black  deny  \n",
              "1      0     0  \n",
              "2      0     0  \n",
              "3      0     0  \n",
              "4      0     0  \n",
              "5      0     0  "
            ],
            "text/html": [
              "\n",
              "  <div id=\"df-e181c5e6-c6e0-46a0-9877-134203ab3615\">\n",
              "    <div class=\"colab-df-container\">\n",
              "      <div>\n",
              "<style scoped>\n",
              "    .dataframe tbody tr th:only-of-type {\n",
              "        vertical-align: middle;\n",
              "    }\n",
              "\n",
              "    .dataframe tbody tr th {\n",
              "        vertical-align: top;\n",
              "    }\n",
              "\n",
              "    .dataframe thead th {\n",
              "        text-align: right;\n",
              "    }\n",
              "</style>\n",
              "<table border=\"1\" class=\"dataframe\">\n",
              "  <thead>\n",
              "    <tr style=\"text-align: right;\">\n",
              "      <th></th>\n",
              "      <th>dir</th>\n",
              "      <th>lvr</th>\n",
              "      <th>ccs</th>\n",
              "      <th>mcs</th>\n",
              "      <th>pbcr</th>\n",
              "      <th>dmi</th>\n",
              "      <th>self</th>\n",
              "      <th>single</th>\n",
              "      <th>uria</th>\n",
              "      <th>comdominiom</th>\n",
              "      <th>black</th>\n",
              "      <th>deny</th>\n",
              "    </tr>\n",
              "  </thead>\n",
              "  <tbody>\n",
              "    <tr>\n",
              "      <th>1</th>\n",
              "      <td>0.221</td>\n",
              "      <td>0.800000</td>\n",
              "      <td>5.0</td>\n",
              "      <td>2.0</td>\n",
              "      <td>0</td>\n",
              "      <td>0</td>\n",
              "      <td>0</td>\n",
              "      <td>0</td>\n",
              "      <td>3.9</td>\n",
              "      <td>0</td>\n",
              "      <td>0</td>\n",
              "      <td>0</td>\n",
              "    </tr>\n",
              "    <tr>\n",
              "      <th>2</th>\n",
              "      <td>0.265</td>\n",
              "      <td>0.921875</td>\n",
              "      <td>2.0</td>\n",
              "      <td>2.0</td>\n",
              "      <td>0</td>\n",
              "      <td>0</td>\n",
              "      <td>0</td>\n",
              "      <td>1</td>\n",
              "      <td>3.2</td>\n",
              "      <td>0</td>\n",
              "      <td>0</td>\n",
              "      <td>0</td>\n",
              "    </tr>\n",
              "    <tr>\n",
              "      <th>3</th>\n",
              "      <td>0.372</td>\n",
              "      <td>0.920398</td>\n",
              "      <td>1.0</td>\n",
              "      <td>2.0</td>\n",
              "      <td>0</td>\n",
              "      <td>0</td>\n",
              "      <td>0</td>\n",
              "      <td>0</td>\n",
              "      <td>3.2</td>\n",
              "      <td>0</td>\n",
              "      <td>0</td>\n",
              "      <td>0</td>\n",
              "    </tr>\n",
              "    <tr>\n",
              "      <th>4</th>\n",
              "      <td>0.320</td>\n",
              "      <td>0.860465</td>\n",
              "      <td>1.0</td>\n",
              "      <td>2.0</td>\n",
              "      <td>0</td>\n",
              "      <td>0</td>\n",
              "      <td>0</td>\n",
              "      <td>0</td>\n",
              "      <td>4.3</td>\n",
              "      <td>0</td>\n",
              "      <td>0</td>\n",
              "      <td>0</td>\n",
              "    </tr>\n",
              "    <tr>\n",
              "      <th>5</th>\n",
              "      <td>0.360</td>\n",
              "      <td>0.600000</td>\n",
              "      <td>1.0</td>\n",
              "      <td>1.0</td>\n",
              "      <td>0</td>\n",
              "      <td>0</td>\n",
              "      <td>0</td>\n",
              "      <td>0</td>\n",
              "      <td>3.2</td>\n",
              "      <td>0</td>\n",
              "      <td>0</td>\n",
              "      <td>0</td>\n",
              "    </tr>\n",
              "  </tbody>\n",
              "</table>\n",
              "</div>\n",
              "      <button class=\"colab-df-convert\" onclick=\"convertToInteractive('df-e181c5e6-c6e0-46a0-9877-134203ab3615')\"\n",
              "              title=\"Convert this dataframe to an interactive table.\"\n",
              "              style=\"display:none;\">\n",
              "        \n",
              "  <svg xmlns=\"http://www.w3.org/2000/svg\" height=\"24px\"viewBox=\"0 0 24 24\"\n",
              "       width=\"24px\">\n",
              "    <path d=\"M0 0h24v24H0V0z\" fill=\"none\"/>\n",
              "    <path d=\"M18.56 5.44l.94 2.06.94-2.06 2.06-.94-2.06-.94-.94-2.06-.94 2.06-2.06.94zm-11 1L8.5 8.5l.94-2.06 2.06-.94-2.06-.94L8.5 2.5l-.94 2.06-2.06.94zm10 10l.94 2.06.94-2.06 2.06-.94-2.06-.94-.94-2.06-.94 2.06-2.06.94z\"/><path d=\"M17.41 7.96l-1.37-1.37c-.4-.4-.92-.59-1.43-.59-.52 0-1.04.2-1.43.59L10.3 9.45l-7.72 7.72c-.78.78-.78 2.05 0 2.83L4 21.41c.39.39.9.59 1.41.59.51 0 1.02-.2 1.41-.59l7.78-7.78 2.81-2.81c.8-.78.8-2.07 0-2.86zM5.41 20L4 18.59l7.72-7.72 1.47 1.35L5.41 20z\"/>\n",
              "  </svg>\n",
              "      </button>\n",
              "      \n",
              "  <style>\n",
              "    .colab-df-container {\n",
              "      display:flex;\n",
              "      flex-wrap:wrap;\n",
              "      gap: 12px;\n",
              "    }\n",
              "\n",
              "    .colab-df-convert {\n",
              "      background-color: #E8F0FE;\n",
              "      border: none;\n",
              "      border-radius: 50%;\n",
              "      cursor: pointer;\n",
              "      display: none;\n",
              "      fill: #1967D2;\n",
              "      height: 32px;\n",
              "      padding: 0 0 0 0;\n",
              "      width: 32px;\n",
              "    }\n",
              "\n",
              "    .colab-df-convert:hover {\n",
              "      background-color: #E2EBFA;\n",
              "      box-shadow: 0px 1px 2px rgba(60, 64, 67, 0.3), 0px 1px 3px 1px rgba(60, 64, 67, 0.15);\n",
              "      fill: #174EA6;\n",
              "    }\n",
              "\n",
              "    [theme=dark] .colab-df-convert {\n",
              "      background-color: #3B4455;\n",
              "      fill: #D2E3FC;\n",
              "    }\n",
              "\n",
              "    [theme=dark] .colab-df-convert:hover {\n",
              "      background-color: #434B5C;\n",
              "      box-shadow: 0px 1px 3px 1px rgba(0, 0, 0, 0.15);\n",
              "      filter: drop-shadow(0px 1px 2px rgba(0, 0, 0, 0.3));\n",
              "      fill: #FFFFFF;\n",
              "    }\n",
              "  </style>\n",
              "\n",
              "      <script>\n",
              "        const buttonEl =\n",
              "          document.querySelector('#df-e181c5e6-c6e0-46a0-9877-134203ab3615 button.colab-df-convert');\n",
              "        buttonEl.style.display =\n",
              "          google.colab.kernel.accessAllowed ? 'block' : 'none';\n",
              "\n",
              "        async function convertToInteractive(key) {\n",
              "          const element = document.querySelector('#df-e181c5e6-c6e0-46a0-9877-134203ab3615');\n",
              "          const dataTable =\n",
              "            await google.colab.kernel.invokeFunction('convertToInteractive',\n",
              "                                                     [key], {});\n",
              "          if (!dataTable) return;\n",
              "\n",
              "          const docLinkHtml = 'Like what you see? Visit the ' +\n",
              "            '<a target=\"_blank\" href=https://colab.research.google.com/notebooks/data_table.ipynb>data table notebook</a>'\n",
              "            + ' to learn more about interactive tables.';\n",
              "          element.innerHTML = '';\n",
              "          dataTable['output_type'] = 'display_data';\n",
              "          await google.colab.output.renderOutput(dataTable, element);\n",
              "          const docLink = document.createElement('div');\n",
              "          docLink.innerHTML = docLinkHtml;\n",
              "          element.appendChild(docLink);\n",
              "        }\n",
              "      </script>\n",
              "    </div>\n",
              "  </div>\n",
              "  "
            ]
          },
          "metadata": {},
          "execution_count": 233
        }
      ]
    },
    {
      "cell_type": "markdown",
      "source": [
        "#**Prepped Data Review**"
      ],
      "metadata": {
        "id": "YTch5fn3-WDJ"
      }
    },
    {
      "cell_type": "markdown",
      "source": [
        "Let us run statistics and graphs to compare any change from the raw data."
      ],
      "metadata": {
        "id": "7r1ZEZ3--drC"
      }
    },
    {
      "cell_type": "code",
      "source": [
        "df_t.hist(figsize=(30,20), color='#2e59a8')"
      ],
      "metadata": {
        "colab": {
          "base_uri": "https://localhost:8080/",
          "height": 1000
        },
        "id": "M7THqlQk-pYm",
        "outputId": "e9aebbcd-3392-4203-daed-55314028c5d5"
      },
      "execution_count": 234,
      "outputs": [
        {
          "output_type": "execute_result",
          "data": {
            "text/plain": [
              "array([[<matplotlib.axes._subplots.AxesSubplot object at 0x7f94f3633a90>,\n",
              "        <matplotlib.axes._subplots.AxesSubplot object at 0x7f94f35d5e10>,\n",
              "        <matplotlib.axes._subplots.AxesSubplot object at 0x7f94f3597450>],\n",
              "       [<matplotlib.axes._subplots.AxesSubplot object at 0x7f94f35caa50>,\n",
              "        <matplotlib.axes._subplots.AxesSubplot object at 0x7f94f3575b90>,\n",
              "        <matplotlib.axes._subplots.AxesSubplot object at 0x7f94f3543690>],\n",
              "       [<matplotlib.axes._subplots.AxesSubplot object at 0x7f94f34f8d10>,\n",
              "        <matplotlib.axes._subplots.AxesSubplot object at 0x7f94f34bc150>,\n",
              "        <matplotlib.axes._subplots.AxesSubplot object at 0x7f94f34bc190>],\n",
              "       [<matplotlib.axes._subplots.AxesSubplot object at 0x7f94f3473890>,\n",
              "        <matplotlib.axes._subplots.AxesSubplot object at 0x7f94f33ed3d0>,\n",
              "        <matplotlib.axes._subplots.AxesSubplot object at 0x7f94f33a29d0>]],\n",
              "      dtype=object)"
            ]
          },
          "metadata": {},
          "execution_count": 234
        },
        {
          "output_type": "display_data",
          "data": {
            "text/plain": [
              "<Figure size 2160x1440 with 12 Axes>"
            ],
            "image/png": "[encoded data removed]"
          },
          "metadata": {
            "needs_background": "light"
          }
        }
      ]
    },
    {
      "cell_type": "code",
      "source": [
        "df_t.describe()"
      ],
      "metadata": {
        "colab": {
          "base_uri": "https://localhost:8080/",
          "height": 300
        },
        "id": "cEH75YQJCaYm",
        "outputId": "77950010-3a73-47df-e50c-fcb6ee7d7bf8"
      },
      "execution_count": 235,
      "outputs": [
        {
          "output_type": "execute_result",
          "data": {
            "text/plain": [
              "               dir          lvr          ccs          mcs         pbcr  \\\n",
              "count  2381.000000  2381.000000  2381.000000  2381.000000  2381.000000   \n",
              "mean      0.330814     0.737760     2.116387     1.721008     0.073499   \n",
              "std       0.107235     0.178715     1.666370     0.537169     0.261008   \n",
              "min       0.000000     0.020000     1.000000     1.000000     0.000000   \n",
              "25%       0.280000     0.652850     1.000000     1.000000     0.000000   \n",
              "50%       0.330000     0.779412     1.000000     2.000000     0.000000   \n",
              "75%       0.370000     0.868421     2.000000     2.000000     0.000000   \n",
              "max       3.000000     1.950000     6.000000     4.000000     1.000000   \n",
              "\n",
              "               dmi         self       single         uria  comdominiom  \\\n",
              "count  2381.000000  2381.000000  2381.000000  2381.000000  2381.000000   \n",
              "mean      0.020160     0.116338     0.393532     3.774496     0.288114   \n",
              "std       0.140576     0.320697     0.488636     2.026636     0.452980   \n",
              "min       0.000000     0.000000     0.000000     1.800000     0.000000   \n",
              "25%       0.000000     0.000000     0.000000     3.100000     0.000000   \n",
              "50%       0.000000     0.000000     0.000000     3.200000     0.000000   \n",
              "75%       0.000000     0.000000     1.000000     3.900000     1.000000   \n",
              "max       1.000000     1.000000     1.000000    10.600000     1.000000   \n",
              "\n",
              "             black         deny  \n",
              "count  2381.000000  2381.000000  \n",
              "mean      0.142377     0.119698  \n",
              "std       0.349510     0.324676  \n",
              "min       0.000000     0.000000  \n",
              "25%       0.000000     0.000000  \n",
              "50%       0.000000     0.000000  \n",
              "75%       0.000000     0.000000  \n",
              "max       1.000000     1.000000  "
            ],
            "text/html": [
              "\n",
              "  <div id=\"df-e50eab51-cd46-4fa2-a758-8c2771d81d64\">\n",
              "    <div class=\"colab-df-container\">\n",
              "      <div>\n",
              "<style scoped>\n",
              "    .dataframe tbody tr th:only-of-type {\n",
              "        vertical-align: middle;\n",
              "    }\n",
              "\n",
              "    .dataframe tbody tr th {\n",
              "        vertical-align: top;\n",
              "    }\n",
              "\n",
              "    .dataframe thead th {\n",
              "        text-align: right;\n",
              "    }\n",
              "</style>\n",
              "<table border=\"1\" class=\"dataframe\">\n",
              "  <thead>\n",
              "    <tr style=\"text-align: right;\">\n",
              "      <th></th>\n",
              "      <th>dir</th>\n",
              "      <th>lvr</th>\n",
              "      <th>ccs</th>\n",
              "      <th>mcs</th>\n",
              "      <th>pbcr</th>\n",
              "      <th>dmi</th>\n",
              "      <th>self</th>\n",
              "      <th>single</th>\n",
              "      <th>uria</th>\n",
              "      <th>comdominiom</th>\n",
              "      <th>black</th>\n",
              "      <th>deny</th>\n",
              "    </tr>\n",
              "  </thead>\n",
              "  <tbody>\n",
              "    <tr>\n",
              "      <th>count</th>\n",
              "      <td>2381.000000</td>\n",
              "      <td>2381.000000</td>\n",
              "      <td>2381.000000</td>\n",
              "      <td>2381.000000</td>\n",
              "      <td>2381.000000</td>\n",
              "      <td>2381.000000</td>\n",
              "      <td>2381.000000</td>\n",
              "      <td>2381.000000</td>\n",
              "      <td>2381.000000</td>\n",
              "      <td>2381.000000</td>\n",
              "      <td>2381.000000</td>\n",
              "      <td>2381.000000</td>\n",
              "    </tr>\n",
              "    <tr>\n",
              "      <th>mean</th>\n",
              "      <td>0.330814</td>\n",
              "      <td>0.737760</td>\n",
              "      <td>2.116387</td>\n",
              "      <td>1.721008</td>\n",
              "      <td>0.073499</td>\n",
              "      <td>0.020160</td>\n",
              "      <td>0.116338</td>\n",
              "      <td>0.393532</td>\n",
              "      <td>3.774496</td>\n",
              "      <td>0.288114</td>\n",
              "      <td>0.142377</td>\n",
              "      <td>0.119698</td>\n",
              "    </tr>\n",
              "    <tr>\n",
              "      <th>std</th>\n",
              "      <td>0.107235</td>\n",
              "      <td>0.178715</td>\n",
              "      <td>1.666370</td>\n",
              "      <td>0.537169</td>\n",
              "      <td>0.261008</td>\n",
              "      <td>0.140576</td>\n",
              "      <td>0.320697</td>\n",
              "      <td>0.488636</td>\n",
              "      <td>2.026636</td>\n",
              "      <td>0.452980</td>\n",
              "      <td>0.349510</td>\n",
              "      <td>0.324676</td>\n",
              "    </tr>\n",
              "    <tr>\n",
              "      <th>min</th>\n",
              "      <td>0.000000</td>\n",
              "      <td>0.020000</td>\n",
              "      <td>1.000000</td>\n",
              "      <td>1.000000</td>\n",
              "      <td>0.000000</td>\n",
              "      <td>0.000000</td>\n",
              "      <td>0.000000</td>\n",
              "      <td>0.000000</td>\n",
              "      <td>1.800000</td>\n",
              "      <td>0.000000</td>\n",
              "      <td>0.000000</td>\n",
              "      <td>0.000000</td>\n",
              "    </tr>\n",
              "    <tr>\n",
              "      <th>25%</th>\n",
              "      <td>0.280000</td>\n",
              "      <td>0.652850</td>\n",
              "      <td>1.000000</td>\n",
              "      <td>1.000000</td>\n",
              "      <td>0.000000</td>\n",
              "      <td>0.000000</td>\n",
              "      <td>0.000000</td>\n",
              "      <td>0.000000</td>\n",
              "      <td>3.100000</td>\n",
              "      <td>0.000000</td>\n",
              "      <td>0.000000</td>\n",
              "      <td>0.000000</td>\n",
              "    </tr>\n",
              "    <tr>\n",
              "      <th>50%</th>\n",
              "      <td>0.330000</td>\n",
              "      <td>0.779412</td>\n",
              "      <td>1.000000</td>\n",
              "      <td>2.000000</td>\n",
              "      <td>0.000000</td>\n",
              "      <td>0.000000</td>\n",
              "      <td>0.000000</td>\n",
              "      <td>0.000000</td>\n",
              "      <td>3.200000</td>\n",
              "      <td>0.000000</td>\n",
              "      <td>0.000000</td>\n",
              "      <td>0.000000</td>\n",
              "    </tr>\n",
              "    <tr>\n",
              "      <th>75%</th>\n",
              "      <td>0.370000</td>\n",
              "      <td>0.868421</td>\n",
              "      <td>2.000000</td>\n",
              "      <td>2.000000</td>\n",
              "      <td>0.000000</td>\n",
              "      <td>0.000000</td>\n",
              "      <td>0.000000</td>\n",
              "      <td>1.000000</td>\n",
              "      <td>3.900000</td>\n",
              "      <td>1.000000</td>\n",
              "      <td>0.000000</td>\n",
              "      <td>0.000000</td>\n",
              "    </tr>\n",
              "    <tr>\n",
              "      <th>max</th>\n",
              "      <td>3.000000</td>\n",
              "      <td>1.950000</td>\n",
              "      <td>6.000000</td>\n",
              "      <td>4.000000</td>\n",
              "      <td>1.000000</td>\n",
              "      <td>1.000000</td>\n",
              "      <td>1.000000</td>\n",
              "      <td>1.000000</td>\n",
              "      <td>10.600000</td>\n",
              "      <td>1.000000</td>\n",
              "      <td>1.000000</td>\n",
              "      <td>1.000000</td>\n",
              "    </tr>\n",
              "  </tbody>\n",
              "</table>\n",
              "</div>\n",
              "      <button class=\"colab-df-convert\" onclick=\"convertToInteractive('df-e50eab51-cd46-4fa2-a758-8c2771d81d64')\"\n",
              "              title=\"Convert this dataframe to an interactive table.\"\n",
              "              style=\"display:none;\">\n",
              "        \n",
              "  <svg xmlns=\"http://www.w3.org/2000/svg\" height=\"24px\"viewBox=\"0 0 24 24\"\n",
              "       width=\"24px\">\n",
              "    <path d=\"M0 0h24v24H0V0z\" fill=\"none\"/>\n",
              "    <path d=\"M18.56 5.44l.94 2.06.94-2.06 2.06-.94-2.06-.94-.94-2.06-.94 2.06-2.06.94zm-11 1L8.5 8.5l.94-2.06 2.06-.94-2.06-.94L8.5 2.5l-.94 2.06-2.06.94zm10 10l.94 2.06.94-2.06 2.06-.94-2.06-.94-.94-2.06-.94 2.06-2.06.94z\"/><path d=\"M17.41 7.96l-1.37-1.37c-.4-.4-.92-.59-1.43-.59-.52 0-1.04.2-1.43.59L10.3 9.45l-7.72 7.72c-.78.78-.78 2.05 0 2.83L4 21.41c.39.39.9.59 1.41.59.51 0 1.02-.2 1.41-.59l7.78-7.78 2.81-2.81c.8-.78.8-2.07 0-2.86zM5.41 20L4 18.59l7.72-7.72 1.47 1.35L5.41 20z\"/>\n",
              "  </svg>\n",
              "      </button>\n",
              "      \n",
              "  <style>\n",
              "    .colab-df-container {\n",
              "      display:flex;\n",
              "      flex-wrap:wrap;\n",
              "      gap: 12px;\n",
              "    }\n",
              "\n",
              "    .colab-df-convert {\n",
              "      background-color: #E8F0FE;\n",
              "      border: none;\n",
              "      border-radius: 50%;\n",
              "      cursor: pointer;\n",
              "      display: none;\n",
              "      fill: #1967D2;\n",
              "      height: 32px;\n",
              "      padding: 0 0 0 0;\n",
              "      width: 32px;\n",
              "    }\n",
              "\n",
              "    .colab-df-convert:hover {\n",
              "      background-color: #E2EBFA;\n",
              "      box-shadow: 0px 1px 2px rgba(60, 64, 67, 0.3), 0px 1px 3px 1px rgba(60, 64, 67, 0.15);\n",
              "      fill: #174EA6;\n",
              "    }\n",
              "\n",
              "    [theme=dark] .colab-df-convert {\n",
              "      background-color: #3B4455;\n",
              "      fill: #D2E3FC;\n",
              "    }\n",
              "\n",
              "    [theme=dark] .colab-df-convert:hover {\n",
              "      background-color: #434B5C;\n",
              "      box-shadow: 0px 1px 3px 1px rgba(0, 0, 0, 0.15);\n",
              "      filter: drop-shadow(0px 1px 2px rgba(0, 0, 0, 0.3));\n",
              "      fill: #FFFFFF;\n",
              "    }\n",
              "  </style>\n",
              "\n",
              "      <script>\n",
              "        const buttonEl =\n",
              "          document.querySelector('#df-e50eab51-cd46-4fa2-a758-8c2771d81d64 button.colab-df-convert');\n",
              "        buttonEl.style.display =\n",
              "          google.colab.kernel.accessAllowed ? 'block' : 'none';\n",
              "\n",
              "        async function convertToInteractive(key) {\n",
              "          const element = document.querySelector('#df-e50eab51-cd46-4fa2-a758-8c2771d81d64');\n",
              "          const dataTable =\n",
              "            await google.colab.kernel.invokeFunction('convertToInteractive',\n",
              "                                                     [key], {});\n",
              "          if (!dataTable) return;\n",
              "\n",
              "          const docLinkHtml = 'Like what you see? Visit the ' +\n",
              "            '<a target=\"_blank\" href=https://colab.research.google.com/notebooks/data_table.ipynb>data table notebook</a>'\n",
              "            + ' to learn more about interactive tables.';\n",
              "          element.innerHTML = '';\n",
              "          dataTable['output_type'] = 'display_data';\n",
              "          await google.colab.output.renderOutput(dataTable, element);\n",
              "          const docLink = document.createElement('div');\n",
              "          docLink.innerHTML = docLinkHtml;\n",
              "          element.appendChild(docLink);\n",
              "        }\n",
              "      </script>\n",
              "    </div>\n",
              "  </div>\n",
              "  "
            ]
          },
          "metadata": {},
          "execution_count": 235
        }
      ]
    },
    {
      "cell_type": "code",
      "source": [
        "#correlation heatmap\n",
        "corr = df_t.corr()\n",
        "ax = plt.subplots(figsize=(15,15))\n",
        "sns.heatmap(data=corr, square=True , annot=True, cbar=True)"
      ],
      "metadata": {
        "colab": {
          "base_uri": "https://localhost:8080/",
          "height": 867
        },
        "id": "y1JeaY4cB3Om",
        "outputId": "4d946374-d2df-446a-ea7d-8df4627944bf"
      },
      "execution_count": 236,
      "outputs": [
        {
          "output_type": "execute_result",
          "data": {
            "text/plain": [
              "<matplotlib.axes._subplots.AxesSubplot at 0x7f94f3249150>"
            ]
          },
          "metadata": {},
          "execution_count": 236
        },
        {
          "output_type": "display_data",
          "data": {
            "text/plain": [
              "<Figure size 1080x1080 with 2 Axes>"
            ],
            "image/png": "[encoded data removed]"
          },
          "metadata": {
            "needs_background": "light"
          }
        }
      ]
    },
    {
      "cell_type": "markdown",
      "source": [
        "#**Regressing Modeling**"
      ],
      "metadata": {
        "id": "iPgjP2qVCgZn"
      }
    },
    {
      "cell_type": "markdown",
      "source": [
        "Look at features that give the most information to determine whether an applicant gets denied"
      ],
      "metadata": {
        "id": "ak4TaKw8CkAK"
      }
    },
    {
      "cell_type": "code",
      "source": [
        "#use yellowbrick to look at feature dependency\n",
        "#source: https://www.udemy.com/course/python-for-all-with-a-focus-on-financial-applications/learn/lecture/24132044#overview\n",
        "\n",
        "\n",
        "df_test = df.copy()\n",
        "target = df_test['deny']\n",
        "features = df_test.drop('deny', axis=1).copy()\n",
        "feature_names = list(features.columns)\n",
        "\n",
        "visualizer = FeatureCorrelation(lables=feature_names,meathod='pearson',sort=True)\n",
        "visualizer.fit(features,target)\n",
        "visualizer.poof()"
      ],
      "metadata": {
        "colab": {
          "base_uri": "https://localhost:8080/",
          "height": 311
        },
        "id": "rOXPP-aIDvop",
        "outputId": "ab56124b-902e-40a1-ccda-575dbfb96008"
      },
      "execution_count": 237,
      "outputs": [
        {
          "output_type": "display_data",
          "data": {
            "text/plain": [
              "<Figure size 432x288 with 1 Axes>"
            ],
            "image/png": "[encoded data removed]"
          },
          "metadata": {
            "needs_background": "light"
          }
        },
        {
          "output_type": "execute_result",
          "data": {
            "text/plain": [
              "<matplotlib.axes._subplots.AxesSubplot at 0x7f94f31f2b50>"
            ]
          },
          "metadata": {},
          "execution_count": 237
        }
      ]
    },
    {
      "cell_type": "code",
      "source": [
        "target = df_t['deny']\n",
        "features = df_t.drop('deny', axis=1).copy()\n",
        "feature_names = list(features.columns)\n",
        "\n",
        "selection_kBest = SelectKBest(f_regression, k =5).fit(features,target)\n",
        "\n",
        "\n",
        "features_kbest = selection_kBest.get_support()\n",
        "print(\"Overall features: \", df_t.columns, '\\n')\n",
        "print(\"Chosen features: \", features.columns[features_kbest],'\\n')\n",
        "\n",
        "selection_kBest.scores_\n"
      ],
      "metadata": {
        "colab": {
          "base_uri": "https://localhost:8080/"
        },
        "id": "KxlkhHxVDxQn",
        "outputId": "b9bf5306-1622-4a73-9ed1-43ce9d4ce381"
      },
      "execution_count": 238,
      "outputs": [
        {
          "output_type": "stream",
          "name": "stdout",
          "text": [
            "Overall features:  Index(['dir', 'lvr', 'ccs', 'mcs', 'pbcr', 'dmi', 'self', 'single', 'uria',\n",
            "       'comdominiom', 'black', 'deny'],\n",
            "      dtype='object') \n",
            "\n",
            "Chosen features:  Index(['dir', 'ccs', 'pbcr', 'dmi', 'black'], dtype='object') \n",
            "\n"
          ]
        },
        {
          "output_type": "execute_result",
          "data": {
            "text/plain": [
              "array([ 98.44180896,  64.31953539, 175.85967302,  28.94913233,\n",
              "       191.52316913, 336.81573745,   6.40773209,  13.96378611,\n",
              "         4.52958742,   3.75069692, 104.58732528])"
            ]
          },
          "metadata": {},
          "execution_count": 238
        }
      ]
    },
    {
      "cell_type": "code",
      "source": [
        "#X is the independant variables and y is the response variable\n",
        "\n",
        "X = df_t[['dir', 'ccs', 'pbcr', 'dmi', 'black']].to_numpy()\n",
        "y = df[['deny']].to_numpy()\n",
        "X"
      ],
      "metadata": {
        "colab": {
          "base_uri": "https://localhost:8080/"
        },
        "id": "ROjdlgwGQAgz",
        "outputId": "77a601c2-e7c4-4d54-c290-346eb9424a65"
      },
      "execution_count": 239,
      "outputs": [
        {
          "output_type": "execute_result",
          "data": {
            "text/plain": [
              "array([[0.221     , 5.        , 0.        , 0.        , 0.        ],\n",
              "       [0.265     , 2.        , 0.        , 0.        , 0.        ],\n",
              "       [0.37200001, 1.        , 0.        , 0.        , 0.        ],\n",
              "       ...,\n",
              "       [0.32      , 6.        , 1.        , 0.        , 1.        ],\n",
              "       [0.35      , 2.        , 0.        , 0.        , 0.        ],\n",
              "       [0.33081357, 2.11638656, 0.        , 0.        , 0.        ]])"
            ]
          },
          "metadata": {},
          "execution_count": 239
        }
      ]
    },
    {
      "cell_type": "code",
      "source": [
        "\n",
        "#one line code to create the logistic regression model\n",
        "model = LogisticRegression()\n",
        "model = model.fit(X,y)"
      ],
      "metadata": {
        "id": "87yAK56KbWTt"
      },
      "execution_count": 240,
      "outputs": []
    },
    {
      "cell_type": "code",
      "source": [
        "model.score(X,y)\n"
      ],
      "metadata": {
        "colab": {
          "base_uri": "https://localhost:8080/"
        },
        "id": "qgYl2O9DM9pW",
        "outputId": "08b7f241-04d0-4acf-fc5a-9748021550b2"
      },
      "execution_count": 241,
      "outputs": [
        {
          "output_type": "execute_result",
          "data": {
            "text/plain": [
              "0.9038219235615288"
            ]
          },
          "metadata": {},
          "execution_count": 241
        }
      ]
    },
    {
      "cell_type": "markdown",
      "source": [
        "The model has a 90% accuracy rate."
      ],
      "metadata": {
        "id": "bu3_Fyy1YzsL"
      }
    },
    {
      "cell_type": "code",
      "source": [
        "y.mean()"
      ],
      "metadata": {
        "colab": {
          "base_uri": "https://localhost:8080/"
        },
        "id": "QZMFJ2gcY6eV",
        "outputId": "465fcc93-d701-4ffd-ec69-041bca7cc2e2"
      },
      "execution_count": 242,
      "outputs": [
        {
          "output_type": "execute_result",
          "data": {
            "text/plain": [
              "0.11969760604787905"
            ]
          },
          "metadata": {},
          "execution_count": 242
        }
      ]
    },
    {
      "cell_type": "markdown",
      "source": [
        "If the prediction model predicts 'no' every time, then the accuracy rate would be 88%.\n",
        "\n",
        "The improvement we gain by using logistic regression is only 2%.\n",
        "\n"
      ],
      "metadata": {
        "id": "Xix36n5UZFvN"
      }
    },
    {
      "cell_type": "code",
      "source": [
        "#coefficents of our model\n",
        "model.coef_"
      ],
      "metadata": {
        "colab": {
          "base_uri": "https://localhost:8080/"
        },
        "id": "ihMjEPnUb7-l",
        "outputId": "16d9487b-f28a-4d88-9834-13fe7fe02024"
      },
      "execution_count": 243,
      "outputs": [
        {
          "output_type": "execute_result",
          "data": {
            "text/plain": [
              "array([[3.16674417, 0.30085808, 1.24993953, 3.83710579, 0.80367413]])"
            ]
          },
          "metadata": {},
          "execution_count": 243
        }
      ]
    },
    {
      "cell_type": "markdown",
      "source": [
        "There is a very high likelihood that the applicant is denied a mortgage if he has been denied before. \n",
        "The spread of the coefficents are very similar to the dependency we got while doing feature selection."
      ],
      "metadata": {
        "id": "tWsZH61eiJmz"
      }
    },
    {
      "cell_type": "markdown",
      "source": [
        "#**Model Evaluation**"
      ],
      "metadata": {
        "id": "fhEnAKVgi6RF"
      }
    },
    {
      "cell_type": "markdown",
      "source": [
        "Reference for code: https://nbviewer.org/gist/justmarkham/6d5c061ca5aee67c4316471f8c2ae976"
      ],
      "metadata": {
        "id": "-eoKqRUM172g"
      }
    },
    {
      "cell_type": "code",
      "source": [
        "#set up train and train cases\n",
        "X_train, X_test, y_train, y_test = train_test_split(X, y, test_size=0.95, random_state=0)\n",
        "model_t = LogisticRegression()\n",
        "model_t.fit(X_train, y_train)"
      ],
      "metadata": {
        "colab": {
          "base_uri": "https://localhost:8080/"
        },
        "id": "s6y69OxFNIDK",
        "outputId": "4feb11fd-7340-4988-c88a-6540dcbdedaf"
      },
      "execution_count": 244,
      "outputs": [
        {
          "output_type": "execute_result",
          "data": {
            "text/plain": [
              "LogisticRegression()"
            ]
          },
          "metadata": {},
          "execution_count": 244
        }
      ]
    },
    {
      "cell_type": "code",
      "source": [
        "#predicted result for each applicant, 1-denied, 0-not denied\n",
        "predicted = model_t.predict(X_test)\n",
        "print(predicted)"
      ],
      "metadata": {
        "colab": {
          "base_uri": "https://localhost:8080/"
        },
        "id": "fppnS2iIjyxJ",
        "outputId": "adcda2d3-0b82-4601-a5d7-359708d9daf7"
      },
      "execution_count": 245,
      "outputs": [
        {
          "output_type": "stream",
          "name": "stdout",
          "text": [
            "[0 1 0 ... 0 0 0]\n"
          ]
        }
      ]
    },
    {
      "cell_type": "code",
      "source": [
        "probs = model_t.predict_proba(X_test)\n",
        "print(probs)"
      ],
      "metadata": {
        "colab": {
          "base_uri": "https://localhost:8080/"
        },
        "id": "_A8uhfR0kXyu",
        "outputId": "e1bb4bf2-e01e-40ce-c500-1ed44f98a8c4"
      },
      "execution_count": 246,
      "outputs": [
        {
          "output_type": "stream",
          "name": "stdout",
          "text": [
            "[[0.90371405 0.09628595]\n",
            " [0.42676518 0.57323482]\n",
            " [0.93266374 0.06733626]\n",
            " ...\n",
            " [0.86213685 0.13786315]\n",
            " [0.93209477 0.06790523]\n",
            " [0.93257148 0.06742852]]\n"
          ]
        }
      ]
    },
    {
      "cell_type": "markdown",
      "source": [
        "The model outputs 1(denied) when the second column is > .5."
      ],
      "metadata": {
        "id": "wjRON4Mfk2rh"
      }
    },
    {
      "cell_type": "code",
      "source": [
        "#Evaluation metrics\n",
        "print(metrics.accuracy_score(y_test, predicted))\n",
        "print(metrics.roc_auc_score(y_test, probs[:, 1]))"
      ],
      "metadata": {
        "colab": {
          "base_uri": "https://localhost:8080/"
        },
        "id": "tekZTd2zlGij",
        "outputId": "fb9370d0-aec0-4ff6-db2d-d02e1f952273"
      },
      "execution_count": 247,
      "outputs": [
        {
          "output_type": "stream",
          "name": "stdout",
          "text": [
            "0.8824049513704686\n",
            "0.7755205916256231\n"
          ]
        }
      ]
    },
    {
      "cell_type": "markdown",
      "source": [
        "There is a slight discrepancy of about 2% compared to our initial unsplit model."
      ],
      "metadata": {
        "id": "EjP_93BBmCpP"
      }
    },
    {
      "cell_type": "code",
      "source": [
        "print( metrics.confusion_matrix(y_test, predicted))\n",
        "print(metrics.classification_report(y_test, predicted))"
      ],
      "metadata": {
        "colab": {
          "base_uri": "https://localhost:8080/"
        },
        "id": "HgDc6hM2mTTx",
        "outputId": "a7a32126-abac-4e6a-d6c0-b5f4595c3ad5"
      },
      "execution_count": 248,
      "outputs": [
        {
          "output_type": "stream",
          "name": "stdout",
          "text": [
            "[[1951   43]\n",
            " [ 223   45]]\n",
            "              precision    recall  f1-score   support\n",
            "\n",
            "           0       0.90      0.98      0.94      1994\n",
            "           1       0.51      0.17      0.25       268\n",
            "\n",
            "    accuracy                           0.88      2262\n",
            "   macro avg       0.70      0.57      0.59      2262\n",
            "weighted avg       0.85      0.88      0.86      2262\n",
            "\n"
          ]
        }
      ]
    },
    {
      "cell_type": "markdown",
      "source": [
        "This logistic regression model gave us a f1 score of .95 for predicting 0 and .40 for predicting 1."
      ],
      "metadata": {
        "id": "Cl93s_UKTAEO"
      }
    },
    {
      "cell_type": "code",
      "source": [
        "# evaluate the model using 25-fold cross-validation\n",
        "scores = cross_val_score(LogisticRegression(), X, y, scoring='accuracy', cv=25)\n",
        "print(scores)\n",
        "print(scores.mean())"
      ],
      "metadata": {
        "colab": {
          "base_uri": "https://localhost:8080/"
        },
        "id": "iJqeFEQ9mzBa",
        "outputId": "d30cab4d-5a50-434b-e77e-6cedd83984ea"
      },
      "execution_count": 249,
      "outputs": [
        {
          "output_type": "stream",
          "name": "stdout",
          "text": [
            "[0.92708333 0.90625    0.88541667 0.84375    0.86458333 0.91666667\n",
            " 0.91578947 0.91578947 0.93684211 0.93684211 0.91578947 0.91578947\n",
            " 0.89473684 0.89473684 0.87368421 0.90526316 0.90526316 0.91578947\n",
            " 0.94736842 0.90526316 0.89473684 0.89473684 0.89473684 0.89473684\n",
            " 0.89473684]\n",
            "0.9038552631578948\n"
          ]
        }
      ]
    },
    {
      "cell_type": "markdown",
      "source": [
        "The model seems to be hovering around the 90% accuracy range which indicates that our model is working."
      ],
      "metadata": {
        "id": "txLKDWgwpD7c"
      }
    },
    {
      "cell_type": "markdown",
      "source": [
        "#**Concluding statements**"
      ],
      "metadata": {
        "id": "uZ9G11IttHKH"
      }
    },
    {
      "cell_type": "markdown",
      "source": [
        "*Let's ask an interesting question to the model:*\n",
        "Does **race** play an important role in determining if the applicant is **denied**?"
      ],
      "metadata": {
        "id": "ZwzytdeiqurE"
      }
    },
    {
      "cell_type": "markdown",
      "source": [
        "Situation 1:\n",
        "A non- black applicant that has zero debt payment, a perfect consumer credit score, and has not been denied mortage previously- (best case)"
      ],
      "metadata": {
        "id": "sUU03r60rM15"
      }
    },
    {
      "cell_type": "code",
      "source": [
        "#dir,ccs,pbcr,dmi,black\n",
        "model.predict_proba([[0,1,0,0,0]])"
      ],
      "metadata": {
        "colab": {
          "base_uri": "https://localhost:8080/"
        },
        "id": "uTj_khqkpjBw",
        "outputId": "c4ba7402-948f-4b62-e8c6-a8242c802b25"
      },
      "execution_count": 250,
      "outputs": [
        {
          "output_type": "execute_result",
          "data": {
            "text/plain": [
              "array([[0.98255027, 0.01744973]])"
            ]
          },
          "metadata": {},
          "execution_count": 250
        }
      ]
    },
    {
      "cell_type": "markdown",
      "source": [
        "We get a probability of 98.25% that he gets the mortgage based on our model."
      ],
      "metadata": {
        "id": "KJkcyYvmrtvE"
      }
    },
    {
      "cell_type": "markdown",
      "source": [
        "Situation 2: All parameters would stay the same, except if the applicant was black- (best case)"
      ],
      "metadata": {
        "id": "AJjNOSA8r1W0"
      }
    },
    {
      "cell_type": "code",
      "source": [
        "#\n",
        "#dir,ccs,pbcr,dmi,black\n",
        "model.predict_proba([[0,1,0,0,1]])"
      ],
      "metadata": {
        "colab": {
          "base_uri": "https://localhost:8080/"
        },
        "id": "xSY7_yMHqnlz",
        "outputId": "09147d70-6b22-4f09-ff04-813eabaf596c"
      },
      "execution_count": 251,
      "outputs": [
        {
          "output_type": "execute_result",
          "data": {
            "text/plain": [
              "array([[0.96184342, 0.03815658]])"
            ]
          },
          "metadata": {},
          "execution_count": 251
        }
      ]
    },
    {
      "cell_type": "markdown",
      "source": [
        "There is a 96.18% probability that he gets the mortgage."
      ],
      "metadata": {
        "id": "eJT13-JGr9MG"
      }
    },
    {
      "cell_type": "markdown",
      "source": [
        "Situation 3: A non- black applicant that has debt payments equaling total income, bad consumer credit score, and has been denied mortage previously- (worst case)."
      ],
      "metadata": {
        "id": "djtFcp4mt06c"
      }
    },
    {
      "cell_type": "code",
      "source": [
        "##dir,ccs,pbcr,dmi,black\n",
        "model.predict_proba([[1,6,1,1,0]])"
      ],
      "metadata": {
        "colab": {
          "base_uri": "https://localhost:8080/"
        },
        "id": "jSp5ovl9td4x",
        "outputId": "9cc1e931-290e-4753-c698-9bd22aba312f"
      },
      "execution_count": 252,
      "outputs": [
        {
          "output_type": "execute_result",
          "data": {
            "text/plain": [
              "array([[0.00324544, 0.99675456]])"
            ]
          },
          "metadata": {},
          "execution_count": 252
        }
      ]
    },
    {
      "cell_type": "markdown",
      "source": [
        "Probability that he gets denied is 99.67%."
      ],
      "metadata": {
        "id": "m3hesf8iuEBG"
      }
    },
    {
      "cell_type": "markdown",
      "source": [
        "Situation 2: All parameters would stay the same as situation 3, except if the applicant was black- (worst case)."
      ],
      "metadata": {
        "id": "m8WsRtLnuMTt"
      }
    },
    {
      "cell_type": "code",
      "source": [
        "##dir,ccs,pbcr,dmi,black\n",
        "model.predict_proba([[1,6,1,1,1]])"
      ],
      "metadata": {
        "colab": {
          "base_uri": "https://localhost:8080/"
        },
        "id": "UqZ4du5qtVi3",
        "outputId": "13291748-7c53-4de7-a4f2-7f9b23c659bb"
      },
      "execution_count": 253,
      "outputs": [
        {
          "output_type": "execute_result",
          "data": {
            "text/plain": [
              "array([[0.00145553, 0.99854447]])"
            ]
          },
          "metadata": {},
          "execution_count": 253
        }
      ]
    },
    {
      "cell_type": "markdown",
      "source": [
        "Probability that he get denied is 99.85%."
      ],
      "metadata": {
        "id": "PHiu5xO_uLC3"
      }
    },
    {
      "cell_type": "markdown",
      "source": [
        "The level of discrepancy is not significant enough to establish any indicator that race plays a primary or major role in mortgage lending. As this model takes into consideration 5 major features, the outcome may differ if we were to use a different set of features."
      ],
      "metadata": {
        "id": "GhQVLhMZsIUR"
      }
    }
  ]
}