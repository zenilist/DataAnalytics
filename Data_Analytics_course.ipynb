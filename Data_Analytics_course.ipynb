{
  "nbformat": 4,
  "nbformat_minor": 0,
  "metadata": {
    "colab": {
      "name": "Data Analytics course.ipynb",
      "provenance": [],
      "authorship_tag": "ABX9TyNgaHsAtyPGr0MH56AIdaQB",
      "include_colab_link": true
    },
    "kernelspec": {
      "name": "python3",
      "display_name": "Python 3"
    },
    "language_info": {
      "name": "python"
    }
  },
  "cells": [
    {
      "cell_type": "markdown",
      "metadata": {
        "id": "view-in-github",
        "colab_type": "text"
      },
      "source": [
        "<a href=\"https://colab.research.google.com/github/zenilist/DataAnalytics/blob/main/Data_Analytics_course.ipynb\" target=\"_parent\"><img src=\"https://colab.research.google.com/assets/colab-badge.svg\" alt=\"Open In Colab\"/></a>"
      ]
    },
    {
      "cell_type": "markdown",
      "source": [
        "# HW 1"
      ],
      "metadata": {
        "id": "BHEyZGNNprHG"
      }
    },
    {
      "cell_type": "markdown",
      "source": [
        "*Project Euler #20*"
      ],
      "metadata": {
        "id": "ZA3Fs7-qpxUI"
      }
    },
    {
      "cell_type": "code",
      "source": [
        "#Project Euler \n",
        "#Problem 20\n",
        "\n",
        "x = 100\n",
        "y = 1\n",
        "while(x !=0):\n",
        "    y = x*y\n",
        "    x -= 1\n",
        "y = str(y)\n",
        "sum = 0\n",
        "#iterate through each digit and add them up\n",
        "for i in str(y):\n",
        "    sum += int(i)\n",
        "print(sum)"
      ],
      "metadata": {
        "colab": {
          "base_uri": "https://localhost:8080/"
        },
        "id": "KZw4fY-zp2gp",
        "outputId": "7aa68cf6-c4fd-4533-9a88-c00de063730c"
      },
      "execution_count": 7,
      "outputs": [
        {
          "output_type": "stream",
          "name": "stdout",
          "text": [
            "648\n"
          ]
        }
      ]
    },
    {
      "cell_type": "markdown",
      "source": [
        "*Project Euler #14*"
      ],
      "metadata": {
        "id": "1DH4-_pIjDwU"
      }
    },
    {
      "cell_type": "code",
      "source": [
        "#Project Euler #14\n",
        "\n",
        "def collatz(x):\n",
        "    count = 1\n",
        "    while(x != 1):\n",
        "        count += 1\n",
        "        if x % 2 == 0:\n",
        "            x = x/2\n",
        "        else:\n",
        "            x = 3*x + 1\n",
        "    return count\n",
        "longest_chain = 1\n",
        "index = 1\n",
        "for i in range(2,1000000):\n",
        "    if longest_chain < collatz(i):\n",
        "        longest_chain = collatz(i)\n",
        "        index = i\n",
        "print(f'Number: {index} has the longest chain: {longest_chain}')"
      ],
      "metadata": {
        "colab": {
          "base_uri": "https://localhost:8080/"
        },
        "id": "ICplhOYvi-Qf",
        "outputId": "4f749854-1dd5-490b-c87d-fa237996bf15"
      },
      "execution_count": 6,
      "outputs": [
        {
          "output_type": "stream",
          "name": "stdout",
          "text": [
            "Number: 837799 has the longest chain: 525\n"
          ]
        }
      ]
    },
    {
      "cell_type": "markdown",
      "source": [
        "*Leetcode #17*"
      ],
      "metadata": {
        "id": "rCB6EhCLGHmX"
      }
    },
    {
      "cell_type": "code",
      "source": [
        "\n",
        "def letterCombinations(digits):\n",
        "        dict = {\n",
        "            '2': 'abc',\n",
        "            '3': 'def',\n",
        "            '4': 'ghi',\n",
        "            '5': 'jkl',\n",
        "            '6': 'mno',\n",
        "            '7': 'pqrs',\n",
        "            '8': 'tuv',\n",
        "            '9': 'wxyz'\n",
        "        }\n",
        "        ans = [\"\"]\n",
        "        for i in digits:\n",
        "            #list comprehension\n",
        "            ans = [j+k for j in ans for k in dict[i]]\n",
        "        return ans\n",
        "print(letterCombinations('23'))"
      ],
      "metadata": {
        "colab": {
          "base_uri": "https://localhost:8080/"
        },
        "id": "UOThp8sUGG7J",
        "outputId": "f3cb501b-a8d3-4af7-94dc-17654fd66c4d"
      },
      "execution_count": 5,
      "outputs": [
        {
          "output_type": "stream",
          "name": "stdout",
          "text": [
            "['ad', 'ae', 'af', 'bd', 'be', 'bf', 'cd', 'ce', 'cf']\n"
          ]
        }
      ]
    },
    {
      "cell_type": "markdown",
      "source": [
        "*Leetcode #11*\n",
        "\n",
        "\n"
      ],
      "metadata": {
        "id": "jHQRBkpwhveH"
      }
    },
    {
      "cell_type": "code",
      "source": [
        "class Solution:\n",
        "    def maxArea(height):\n",
        "        #area = shorter line * width between the two lines\n",
        "        max_area = 0\n",
        "        area = 0\n",
        "        l = 0 \n",
        "        r = len(height) - 1 \n",
        "        while l < r:\n",
        "            #width x height of shorted line\n",
        "            area = (r-l)*min(height[l],height[r])\n",
        "            if area>max_area:\n",
        "                max_area = area\n",
        "            if height[l] < height[r]:\n",
        "                l = l + 1\n",
        "            else:\n",
        "                r = r - 1\n",
        "        return max_area\n",
        "    print(maxArea([1,8,6,2,5,4,8,3,7]))"
      ],
      "metadata": {
        "colab": {
          "base_uri": "https://localhost:8080/"
        },
        "id": "yCNihO1rh1sX",
        "outputId": "4c64a669-ca05-466a-abdf-ec5a02c394dd"
      },
      "execution_count": 3,
      "outputs": [
        {
          "output_type": "stream",
          "name": "stdout",
          "text": [
            "49\n"
          ]
        }
      ]
    }
  ]
}