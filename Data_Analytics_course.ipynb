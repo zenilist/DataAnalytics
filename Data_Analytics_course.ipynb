{
  "nbformat": 4,
  "nbformat_minor": 0,
  "metadata": {
    "colab": {
      "name": "Data Analytics course.ipynb",
      "provenance": [],
      "authorship_tag": "ABX9TyPN1fKAF2ZGwvR3/fKcR2Z6",
      "include_colab_link": true
    },
    "kernelspec": {
      "name": "python3",
      "display_name": "Python 3"
    },
    "language_info": {
      "name": "python"
    }
  },
  "cells": [
    {
      "cell_type": "markdown",
      "metadata": {
        "id": "view-in-github",
        "colab_type": "text"
      },
      "source": [
        "<a href=\"https://colab.research.google.com/github/zenilist/DataAnalytics/blob/main/Data_Analytics_course.ipynb\" target=\"_parent\"><img src=\"https://colab.research.google.com/assets/colab-badge.svg\" alt=\"Open In Colab\"/></a>"
      ]
    },
    {
      "cell_type": "markdown",
      "source": [
        "# HW 1"
      ],
      "metadata": {
        "id": "BHEyZGNNprHG"
      }
    },
    {
      "cell_type": "markdown",
      "source": [
        "*Project Euler #20*"
      ],
      "metadata": {
        "id": "ZA3Fs7-qpxUI"
      }
    },
    {
      "cell_type": "code",
      "source": [
        "#Project Euler \n",
        "#Problem 20\n",
        "\n",
        "x = 100\n",
        "y = 1\n",
        "while(x !=0):\n",
        "    y = x*y\n",
        "    x -= 1\n",
        "y = str(y)\n",
        "sum = 0\n",
        "#iterate through each digit and add them up\n",
        "for i in str(y):\n",
        "    sum += int(i)\n",
        "print(sum)"
      ],
      "metadata": {
        "colab": {
          "base_uri": "https://localhost:8080/"
        },
        "id": "KZw4fY-zp2gp",
        "outputId": "7aa68cf6-c4fd-4533-9a88-c00de063730c"
      },
      "execution_count": null,
      "outputs": [
        {
          "output_type": "stream",
          "name": "stdout",
          "text": [
            "648\n"
          ]
        }
      ]
    },
    {
      "cell_type": "markdown",
      "source": [
        "*Project Euler #14*"
      ],
      "metadata": {
        "id": "1DH4-_pIjDwU"
      }
    },
    {
      "cell_type": "code",
      "source": [
        "#Project Euler #14\n",
        "\n",
        "def collatz(x):\n",
        "    count = 1\n",
        "    while(x != 1):\n",
        "        count += 1\n",
        "        if x % 2 == 0:\n",
        "            x = x/2\n",
        "        else:\n",
        "            x = 3*x + 1\n",
        "    return count\n",
        "longest_chain = 1\n",
        "index = 1\n",
        "for i in range(2,1000000):\n",
        "    if longest_chain < collatz(i):\n",
        "        longest_chain = collatz(i)\n",
        "        index = i\n",
        "print(f'Number: {index} has the longest chain: {longest_chain}')"
      ],
      "metadata": {
        "colab": {
          "base_uri": "https://localhost:8080/"
        },
        "id": "ICplhOYvi-Qf",
        "outputId": "4f749854-1dd5-490b-c87d-fa237996bf15"
      },
      "execution_count": null,
      "outputs": [
        {
          "output_type": "stream",
          "name": "stdout",
          "text": [
            "Number: 837799 has the longest chain: 525\n"
          ]
        }
      ]
    },
    {
      "cell_type": "markdown",
      "source": [
        "*Leetcode #17*"
      ],
      "metadata": {
        "id": "rCB6EhCLGHmX"
      }
    },
    {
      "cell_type": "code",
      "source": [
        "\n",
        "def letterCombinations(digits):\n",
        "        dict = {\n",
        "            '2': 'abc',\n",
        "            '3': 'def',\n",
        "            '4': 'ghi',\n",
        "            '5': 'jkl',\n",
        "            '6': 'mno',\n",
        "            '7': 'pqrs',\n",
        "            '8': 'tuv',\n",
        "            '9': 'wxyz'\n",
        "        }\n",
        "        ans = [\"\"]\n",
        "        for i in digits:\n",
        "            #list comprehension\n",
        "            ans = [j+k for j in ans for k in dict[i]]\n",
        "        return ans\n",
        "print(letterCombinations('23'))"
      ],
      "metadata": {
        "colab": {
          "base_uri": "https://localhost:8080/"
        },
        "id": "UOThp8sUGG7J",
        "outputId": "f3cb501b-a8d3-4af7-94dc-17654fd66c4d"
      },
      "execution_count": null,
      "outputs": [
        {
          "output_type": "stream",
          "name": "stdout",
          "text": [
            "['ad', 'ae', 'af', 'bd', 'be', 'bf', 'cd', 'ce', 'cf']\n"
          ]
        }
      ]
    },
    {
      "cell_type": "markdown",
      "source": [
        "*Leetcode #11*\n",
        "\n",
        "\n"
      ],
      "metadata": {
        "id": "jHQRBkpwhveH"
      }
    },
    {
      "cell_type": "code",
      "source": [
        "class Solution:\n",
        "    def maxArea(height):\n",
        "        #area = shorter line * width between the two lines\n",
        "        max_area = 0\n",
        "        area = 0\n",
        "        l = 0 \n",
        "        r = len(height) - 1 \n",
        "        while l < r:\n",
        "            #width x height of shorted line\n",
        "            area = (r-l)*min(height[l],height[r])\n",
        "            if area>max_area:\n",
        "                max_area = area\n",
        "            if height[l] < height[r]:\n",
        "                l = l + 1\n",
        "            else:\n",
        "                r = r - 1\n",
        "        return max_area\n",
        "    print(maxArea([1,8,6,2,5,4,8,3,7]))"
      ],
      "metadata": {
        "colab": {
          "base_uri": "https://localhost:8080/"
        },
        "id": "yCNihO1rh1sX",
        "outputId": "4c64a669-ca05-466a-abdf-ec5a02c394dd"
      },
      "execution_count": null,
      "outputs": [
        {
          "output_type": "stream",
          "name": "stdout",
          "text": [
            "49\n"
          ]
        }
      ]
    },
    {
      "cell_type": "markdown",
      "source": [
        "#**Uploading and Processing Data**"
      ],
      "metadata": {
        "id": "eMGJVZqgKutH"
      }
    },
    {
      "cell_type": "markdown",
      "source": [
        "1. Upload data from cars.docx file to python "
      ],
      "metadata": {
        "id": "-RgXReZ_K-8Z"
      }
    },
    {
      "cell_type": "code",
      "source": [
        "import pandas as pd\n",
        "\n",
        "#convert docx file to plain txt file then upload it to git, use the link of the raw file from git as the source of the dataset\n",
        "df = pd.read_csv('https://raw.githubusercontent.com/zenilist/DataAnalytics/main/cars-sample35.txt')\n",
        "\n",
        "#header names of the dataset stored in a list\n",
        "names = ['Price', 'Maintenance cost', 'Number of doors', 'Number of passengers', 'Luggage capacity', 'Safety rating', 'Classification of vehicle']\n",
        "df.columns = names\n",
        "\n",
        "#prints the dataset\n",
        "df.describe()"
      ],
      "metadata": {
        "colab": {
          "base_uri": "https://localhost:8080/",
          "height": 175
        },
        "id": "hULXoe4ffhJA",
        "outputId": "be080f4a-775a-4f6e-a3f0-855ee8a7f9f0"
      },
      "execution_count": 8,
      "outputs": [
        {
          "output_type": "execute_result",
          "data": {
            "text/plain": [
              "       Price Maintenance cost Number of doors Number of passengers  \\\n",
              "count     34               34              34                   34   \n",
              "unique     4                4               4                    3   \n",
              "top     high              low               2                    2   \n",
              "freq      10               16              10                   16   \n",
              "\n",
              "       Luggage capacity Safety rating Classification of vehicle  \n",
              "count                34            34                        34  \n",
              "unique                3             3                         3  \n",
              "top                 big          high                     unacc  \n",
              "freq                 14            12                        26  "
            ],
            "text/html": [
              "\n",
              "  <div id=\"df-6182c588-6411-413b-9f98-5061f86e26d3\">\n",
              "    <div class=\"colab-df-container\">\n",
              "      <div>\n",
              "<style scoped>\n",
              "    .dataframe tbody tr th:only-of-type {\n",
              "        vertical-align: middle;\n",
              "    }\n",
              "\n",
              "    .dataframe tbody tr th {\n",
              "        vertical-align: top;\n",
              "    }\n",
              "\n",
              "    .dataframe thead th {\n",
              "        text-align: right;\n",
              "    }\n",
              "</style>\n",
              "<table border=\"1\" class=\"dataframe\">\n",
              "  <thead>\n",
              "    <tr style=\"text-align: right;\">\n",
              "      <th></th>\n",
              "      <th>Price</th>\n",
              "      <th>Maintenance cost</th>\n",
              "      <th>Number of doors</th>\n",
              "      <th>Number of passengers</th>\n",
              "      <th>Luggage capacity</th>\n",
              "      <th>Safety rating</th>\n",
              "      <th>Classification of vehicle</th>\n",
              "    </tr>\n",
              "  </thead>\n",
              "  <tbody>\n",
              "    <tr>\n",
              "      <th>count</th>\n",
              "      <td>34</td>\n",
              "      <td>34</td>\n",
              "      <td>34</td>\n",
              "      <td>34</td>\n",
              "      <td>34</td>\n",
              "      <td>34</td>\n",
              "      <td>34</td>\n",
              "    </tr>\n",
              "    <tr>\n",
              "      <th>unique</th>\n",
              "      <td>4</td>\n",
              "      <td>4</td>\n",
              "      <td>4</td>\n",
              "      <td>3</td>\n",
              "      <td>3</td>\n",
              "      <td>3</td>\n",
              "      <td>3</td>\n",
              "    </tr>\n",
              "    <tr>\n",
              "      <th>top</th>\n",
              "      <td>high</td>\n",
              "      <td>low</td>\n",
              "      <td>2</td>\n",
              "      <td>2</td>\n",
              "      <td>big</td>\n",
              "      <td>high</td>\n",
              "      <td>unacc</td>\n",
              "    </tr>\n",
              "    <tr>\n",
              "      <th>freq</th>\n",
              "      <td>10</td>\n",
              "      <td>16</td>\n",
              "      <td>10</td>\n",
              "      <td>16</td>\n",
              "      <td>14</td>\n",
              "      <td>12</td>\n",
              "      <td>26</td>\n",
              "    </tr>\n",
              "  </tbody>\n",
              "</table>\n",
              "</div>\n",
              "      <button class=\"colab-df-convert\" onclick=\"convertToInteractive('df-6182c588-6411-413b-9f98-5061f86e26d3')\"\n",
              "              title=\"Convert this dataframe to an interactive table.\"\n",
              "              style=\"display:none;\">\n",
              "        \n",
              "  <svg xmlns=\"http://www.w3.org/2000/svg\" height=\"24px\"viewBox=\"0 0 24 24\"\n",
              "       width=\"24px\">\n",
              "    <path d=\"M0 0h24v24H0V0z\" fill=\"none\"/>\n",
              "    <path d=\"M18.56 5.44l.94 2.06.94-2.06 2.06-.94-2.06-.94-.94-2.06-.94 2.06-2.06.94zm-11 1L8.5 8.5l.94-2.06 2.06-.94-2.06-.94L8.5 2.5l-.94 2.06-2.06.94zm10 10l.94 2.06.94-2.06 2.06-.94-2.06-.94-.94-2.06-.94 2.06-2.06.94z\"/><path d=\"M17.41 7.96l-1.37-1.37c-.4-.4-.92-.59-1.43-.59-.52 0-1.04.2-1.43.59L10.3 9.45l-7.72 7.72c-.78.78-.78 2.05 0 2.83L4 21.41c.39.39.9.59 1.41.59.51 0 1.02-.2 1.41-.59l7.78-7.78 2.81-2.81c.8-.78.8-2.07 0-2.86zM5.41 20L4 18.59l7.72-7.72 1.47 1.35L5.41 20z\"/>\n",
              "  </svg>\n",
              "      </button>\n",
              "      \n",
              "  <style>\n",
              "    .colab-df-container {\n",
              "      display:flex;\n",
              "      flex-wrap:wrap;\n",
              "      gap: 12px;\n",
              "    }\n",
              "\n",
              "    .colab-df-convert {\n",
              "      background-color: #E8F0FE;\n",
              "      border: none;\n",
              "      border-radius: 50%;\n",
              "      cursor: pointer;\n",
              "      display: none;\n",
              "      fill: #1967D2;\n",
              "      height: 32px;\n",
              "      padding: 0 0 0 0;\n",
              "      width: 32px;\n",
              "    }\n",
              "\n",
              "    .colab-df-convert:hover {\n",
              "      background-color: #E2EBFA;\n",
              "      box-shadow: 0px 1px 2px rgba(60, 64, 67, 0.3), 0px 1px 3px 1px rgba(60, 64, 67, 0.15);\n",
              "      fill: #174EA6;\n",
              "    }\n",
              "\n",
              "    [theme=dark] .colab-df-convert {\n",
              "      background-color: #3B4455;\n",
              "      fill: #D2E3FC;\n",
              "    }\n",
              "\n",
              "    [theme=dark] .colab-df-convert:hover {\n",
              "      background-color: #434B5C;\n",
              "      box-shadow: 0px 1px 3px 1px rgba(0, 0, 0, 0.15);\n",
              "      filter: drop-shadow(0px 1px 2px rgba(0, 0, 0, 0.3));\n",
              "      fill: #FFFFFF;\n",
              "    }\n",
              "  </style>\n",
              "\n",
              "      <script>\n",
              "        const buttonEl =\n",
              "          document.querySelector('#df-6182c588-6411-413b-9f98-5061f86e26d3 button.colab-df-convert');\n",
              "        buttonEl.style.display =\n",
              "          google.colab.kernel.accessAllowed ? 'block' : 'none';\n",
              "\n",
              "        async function convertToInteractive(key) {\n",
              "          const element = document.querySelector('#df-6182c588-6411-413b-9f98-5061f86e26d3');\n",
              "          const dataTable =\n",
              "            await google.colab.kernel.invokeFunction('convertToInteractive',\n",
              "                                                     [key], {});\n",
              "          if (!dataTable) return;\n",
              "\n",
              "          const docLinkHtml = 'Like what you see? Visit the ' +\n",
              "            '<a target=\"_blank\" href=https://colab.research.google.com/notebooks/data_table.ipynb>data table notebook</a>'\n",
              "            + ' to learn more about interactive tables.';\n",
              "          element.innerHTML = '';\n",
              "          dataTable['output_type'] = 'display_data';\n",
              "          await google.colab.output.renderOutput(dataTable, element);\n",
              "          const docLink = document.createElement('div');\n",
              "          docLink.innerHTML = docLinkHtml;\n",
              "          element.appendChild(docLink);\n",
              "        }\n",
              "      </script>\n",
              "    </div>\n",
              "  </div>\n",
              "  "
            ]
          },
          "metadata": {},
          "execution_count": 8
        }
      ]
    },
    {
      "cell_type": "markdown",
      "source": [
        "2. Extract these seven attributes from each line of the file and create seven distinct Python list objects comprised solely of the values you extracted for a given attribute. In other words, you should have lists of prices, maintenance costs, number of doors, etc"
      ],
      "metadata": {
        "id": "MazhamE9jrnd"
      }
    },
    {
      "cell_type": "code",
      "source": [
        "#to_list function to convert datasets column headers to lists\n",
        "price = df['Price'].to_list()\n",
        "maintenance_cost = df['Maintenance cost'].to_list()\n",
        "number_of_doors = df['Number of doors'].to_list()\n",
        "number_of_passengers = df['Number of passengers'].to_list()\n",
        "luggage_capacity = df['Luggage capacity'].to_list()\n",
        "safety_rating = df['Safety rating'].to_list()\n",
        "classification_of_vehicle = df['Classification of vehicle'].to_list()\n"
      ],
      "metadata": {
        "id": "uaZvrRSkjtvT"
      },
      "execution_count": 13,
      "outputs": []
    },
    {
      "cell_type": "markdown",
      "source": [
        "3. Find the list index values of each automobile having a “price” rating of \"med\". Create a new list object with your result. HINT: you can accomplish this task by searching the list of price values you created earlier. Be sure to print your results.\n"
      ],
      "metadata": {
        "id": "hUqwqjUymKj4"
      }
    },
    {
      "cell_type": "code",
      "source": [
        "#create list and store indices of med prices\n",
        "med_price = []\n",
        "for i in range(len(price)):\n",
        "  if price[i] == 'med':\n",
        "    med_price.append(i)\n",
        "print(med_price)\n",
        "\n",
        "#list comprehension\n",
        "med_price_lc = [i for i in range(len(price)) if price[i] == 'med']\n",
        "print(med_price_lc)"
      ],
      "metadata": {
        "colab": {
          "base_uri": "https://localhost:8080/"
        },
        "id": "vyYJryF9mNnk",
        "outputId": "e8e0a484-3e82-4b0d-e696-3f4642dacbe5"
      },
      "execution_count": 22,
      "outputs": [
        {
          "output_type": "stream",
          "name": "stdout",
          "text": [
            "[5, 15, 19, 22, 25, 28]\n",
            "[5, 15, 19, 22, 25, 28]\n"
          ]
        }
      ]
    },
    {
      "cell_type": "markdown",
      "source": [
        "4. Find the \"number of passengers\" value for each auto having a \"price\" value of \"med\". Create a new list to store your findings and be sure to print your results.\n"
      ],
      "metadata": {
        "id": "GFSduoh2oHBz"
      }
    },
    {
      "cell_type": "code",
      "source": [
        "#use normal if statements and for loops to determine the values in passengers that correspond to med\n",
        "count_index = 0\n",
        "number_of_passengers_med = []\n",
        "for i in range(len(number_of_passengers)):\n",
        "  if count_index<len(med_price) and i == med_price[count_index]:\n",
        "    count_index+=1\n",
        "    number_of_passengers_med.append(number_of_passengers[i])\n",
        "print(number_of_passengers_med)\n"
      ],
      "metadata": {
        "colab": {
          "base_uri": "https://localhost:8080/"
        },
        "id": "vH_NNEEKoIkT",
        "outputId": "7b144c3c-199f-4a8b-b1eb-1e2ecabf0629"
      },
      "execution_count": 38,
      "outputs": [
        {
          "output_type": "stream",
          "name": "stdout",
          "text": [
            "['more', '2', '2', '2', '4', '2']\n"
          ]
        }
      ]
    },
    {
      "cell_type": "markdown",
      "source": [
        "5. Find the index value for each automobile having a “price” value of \"high\" and a “maintenance” value that is not \"low\". Create a new list to store your findings and be sure to print your results.\n"
      ],
      "metadata": {
        "id": "vCTSdOb7uJX1"
      }
    },
    {
      "cell_type": "code",
      "source": [
        "price_high_maintenance_not_low = []\n",
        "for i in range(len(price)):\n",
        "  if price[i] == 'high' and not maintenance_cost[i] == 'low':\n",
        "    price_high_maintenance_not_low.append(i)\n",
        "print(price_high_maintenance_not_low)\n",
        "print(price)\n",
        "print(maintenance_cost)"
      ],
      "metadata": {
        "colab": {
          "base_uri": "https://localhost:8080/"
        },
        "id": "govf8MCxuPu9",
        "outputId": "eb2489b1-8c30-4a09-84a2-385e6cfbe2a2"
      },
      "execution_count": 44,
      "outputs": [
        {
          "output_type": "stream",
          "name": "stdout",
          "text": [
            "[0, 1, 26, 30]\n",
            "['high', 'high', 'high', 'vhigh', 'low', 'med', 'low', 'vhigh', 'vhigh', 'low', 'vhigh', 'high', 'low', 'high', 'vhigh', 'med', 'high', 'low', 'low', 'med', 'low', 'vhigh', 'med', 'low', 'vhigh', 'med', 'high', 'low', 'med', 'high', 'high', 'low', 'vhigh', 'high']\n",
            "['high', 'high', 'low', 'low', 'high', 'med', 'low', 'low', 'high', 'low', 'low', 'low', 'vhigh', 'low', 'high', 'med', 'low', 'low', 'low', 'high', 'low', 'high', 'vhigh', 'vhigh', 'low', 'vhigh', 'high', 'high', 'high', 'low', 'vhigh', 'low', 'vhigh', 'low']\n"
          ]
        }
      ]
    }
  ]
}