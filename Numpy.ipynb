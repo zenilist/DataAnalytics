{
  "nbformat": 4,
  "nbformat_minor": 0,
  "metadata": {
    "colab": {
      "name": "Numpy.ipynb",
      "provenance": [],
      "collapsed_sections": [
        "Co4RTUQRjmJ3"
      ],
      "authorship_tag": "ABX9TyN9M2TdwNcadb+9thpUO+Qq",
      "include_colab_link": true
    },
    "kernelspec": {
      "name": "python3",
      "display_name": "Python 3"
    },
    "language_info": {
      "name": "python"
    }
  },
  "cells": [
    {
      "cell_type": "markdown",
      "metadata": {
        "id": "view-in-github",
        "colab_type": "text"
      },
      "source": [
        "<a href=\"https://colab.research.google.com/github/zenilist/DataAnalytics/blob/main/Numpy.ipynb\" target=\"_parent\"><img src=\"https://colab.research.google.com/assets/colab-badge.svg\" alt=\"Open In Colab\"/></a>"
      ]
    },
    {
      "cell_type": "markdown",
      "source": [
        "#Problem 1.\n",
        "Write a Python/NumPy code block that finds the distinct/unique common items between these two\n",
        "arrays:\n",
        "a = np.array([1, 2, 3, 2, 3, 4, 3, 4, 5, 6])\n",
        "b = np.array([7, 2, 10, 2, 7, 4, 9, 4, 9, 8])\n",
        "Your output should contain only the distinct overlapping values. For example, if a 2 is found in both array a and array b,\n",
        "your output should contain only one 2 even if array a contains more than one 2 within it."
      ],
      "metadata": {
        "id": "Co4RTUQRjmJ3"
      }
    },
    {
      "cell_type": "code",
      "execution_count": 223,
      "metadata": {
        "colab": {
          "base_uri": "https://localhost:8080/"
        },
        "id": "L1OWWh_1fJrP",
        "outputId": "f14d51f9-161b-4900-8368-092e8784eac0"
      },
      "outputs": [
        {
          "output_type": "stream",
          "name": "stdout",
          "text": [
            "[1 2 3 2 3 4 3 4 5 6]\n",
            "[ 7  2 10  2  7  4  9  4  9  8]\n",
            "[2 4]\n"
          ]
        }
      ],
      "source": [
        "import numpy as np\n",
        "import pandas as pd\n",
        "from numpy import genfromtxt\n",
        "\n",
        "a = np.array([1, 2, 3, 2, 3, 4, 3, 4, 5, 6])\n",
        "print(a)\n",
        "b = np.array([7, 2, 10, 2, 7, 4, 9, 4, 9, 8])\n",
        "print(b)\n",
        "\n",
        "#source code https://www.w3resource.com/python-exercises/numpy/python-numpy-exercise-18.php\n",
        "common_items = np.intersect1d(a,b)\n",
        "print(common_items)\n"
      ]
    },
    {
      "cell_type": "markdown",
      "source": [
        "#Problem 2.\n",
        "Create the following 5x3 array using knowledge you have of Python’s / NumPy’s sequencing functionality\n",
        "so that you do not need to explicitly key in every integer value.\n",
        "1   6    11\n",
        "2   7    12\n",
        "3   8    13\n",
        "4   9    14\n",
        "5   10  15"
      ],
      "metadata": {
        "id": "elvdVIovmaBu"
      }
    },
    {
      "cell_type": "code",
      "source": [
        "y = np.array([1, 6, 11, 2, 7, 12, 3, 8, 13, 4, 9, 14, 5, 10, 15]).reshape(5,3)\n",
        "y\n"
      ],
      "metadata": {
        "id": "kDB5YjclmfSM",
        "colab": {
          "base_uri": "https://localhost:8080/"
        },
        "outputId": "a01568a8-e752-4b21-881e-e5197e2db19c"
      },
      "execution_count": 224,
      "outputs": [
        {
          "output_type": "execute_result",
          "data": {
            "text/plain": [
              "array([[ 1,  6, 11],\n",
              "       [ 2,  7, 12],\n",
              "       [ 3,  8, 13],\n",
              "       [ 4,  9, 14],\n",
              "       [ 5, 10, 15]])"
            ]
          },
          "metadata": {},
          "execution_count": 224
        }
      ]
    },
    {
      "cell_type": "markdown",
      "source": [
        "#Problem 3.\n",
        "The process of transforming a multidimensional array into a unidimensional array is referred to as “flattening”. Transform the 5x3 array shown above in Problem 2 into a unidimensional array such that the sequence of values contained within the array is as follows: 1, 2, 3, 4, 5, 6, 7, 8, 9, 10, 11, 12, 13, 14, 15"
      ],
      "metadata": {
        "id": "OQxbfJ2abibP"
      }
    },
    {
      "cell_type": "code",
      "source": [
        "x = y.flatten()\n",
        "x"
      ],
      "metadata": {
        "colab": {
          "base_uri": "https://localhost:8080/"
        },
        "id": "qoviHaP_bmlM",
        "outputId": "fb382120-cf5c-4399-bf5f-8efe35787e9f"
      },
      "execution_count": 38,
      "outputs": [
        {
          "output_type": "execute_result",
          "data": {
            "text/plain": [
              "array([ 1,  6, 11,  2,  7, 12,  3,  8, 13,  4,  9, 14,  5, 10, 15])"
            ]
          },
          "metadata": {},
          "execution_count": 38
        }
      ]
    },
    {
      "cell_type": "markdown",
      "source": [
        "#Problem 4.\n",
        "Transform the 2-D array shown in Problem 2 into a 3 dimensional array such that the first column becomes the first dimension of the 3-D array, the second column becomes the second dimension of the 3-D array, and the third column becomes the third dimension of the 3-D array."
      ],
      "metadata": {
        "id": "HUUJEEumdGt1"
      }
    },
    {
      "cell_type": "code",
      "source": [
        "#source code: https://stackoverflow.com/questions/7372316/how-to-make-a-2d-numpy-array-a-3d-array\n",
        "z = np.reshape(y, y.shape + (1,))\n",
        "z"
      ],
      "metadata": {
        "colab": {
          "base_uri": "https://localhost:8080/"
        },
        "id": "tCuxQvBsdN2k",
        "outputId": "1d7b53f2-6eee-426c-c92e-7129c2f1c679"
      },
      "execution_count": 226,
      "outputs": [
        {
          "output_type": "execute_result",
          "data": {
            "text/plain": [
              "array([[[ 1],\n",
              "        [ 6],\n",
              "        [11]],\n",
              "\n",
              "       [[ 2],\n",
              "        [ 7],\n",
              "        [12]],\n",
              "\n",
              "       [[ 3],\n",
              "        [ 8],\n",
              "        [13]],\n",
              "\n",
              "       [[ 4],\n",
              "        [ 9],\n",
              "        [14]],\n",
              "\n",
              "       [[ 5],\n",
              "        [10],\n",
              "        [15]]])"
            ]
          },
          "metadata": {},
          "execution_count": 226
        }
      ]
    },
    {
      "cell_type": "markdown",
      "source": [
        "#Problem 5.\n",
        "Transform the 3-D array you created in Problem 4 back to the 2-dimensional format shown in Problem 2."
      ],
      "metadata": {
        "id": "_MpemwY_ebAQ"
      }
    },
    {
      "cell_type": "code",
      "source": [
        "threeD_twoD = z.flatten().reshape(5,3)\n",
        "threeD_twoD"
      ],
      "metadata": {
        "colab": {
          "base_uri": "https://localhost:8080/"
        },
        "id": "Vb3PWFufefDs",
        "outputId": "38a6ece7-92c2-40f7-e5bb-1f26dc82f753"
      },
      "execution_count": 227,
      "outputs": [
        {
          "output_type": "execute_result",
          "data": {
            "text/plain": [
              "array([[ 1,  6, 11],\n",
              "       [ 2,  7, 12],\n",
              "       [ 3,  8, 13],\n",
              "       [ 4,  9, 14],\n",
              "       [ 5, 10, 15]])"
            ]
          },
          "metadata": {},
          "execution_count": 227
        }
      ]
    },
    {
      "cell_type": "markdown",
      "source": [
        "#Problem 6.\n",
        "You are given the following two arrays:\n",
        "a = np.array([12, 5, 7, 15, 3, 1, 8])\n",
        "b = np.array([14, 6, 3, 11, 19, 12, 5])\n",
        "Write a Python/Numpy code block that removes from array a any items that are also present in array b."
      ],
      "metadata": {
        "id": "aQqfWzl5fF9n"
      }
    },
    {
      "cell_type": "code",
      "source": [
        "#source code: https://stackoverflow.com/questions/40055835/removing-elements-from-an-array-that-are-in-another-array\n",
        "\n",
        "a = np.array([12, 5, 7, 15, 3, 1, 8])\n",
        "b = np.array([14, 6, 3, 11, 19, 12, 5])\n",
        "c = [i for i in a if i not in b]\n",
        "c"
      ],
      "metadata": {
        "colab": {
          "base_uri": "https://localhost:8080/"
        },
        "id": "SHJSEnp5fNPZ",
        "outputId": "1ee1db6f-601a-4319-a4a5-c425b95af8b1"
      },
      "execution_count": 228,
      "outputs": [
        {
          "output_type": "execute_result",
          "data": {
            "text/plain": [
              "[7, 15, 1, 8]"
            ]
          },
          "metadata": {},
          "execution_count": 228
        }
      ]
    },
    {
      "cell_type": "markdown",
      "source": [
        "#Problem 7.\n",
        "Answer the following questions about the accompanying data file.\n"
      ],
      "metadata": {
        "id": "CIzdqqzygsPR"
      }
    },
    {
      "cell_type": "code",
      "source": [
        "#source code: https://www.marsja.se/how-to-convert-a-pandas-dataframe-to-a-numpy-array/\n",
        "df = pd.read_csv(\"https://raw.githubusercontent.com/zenilist/DataAnalytics/main/Module6_Data.csv\")\n",
        "daily_water_consumption = df['NYC Consumption(Million gallons per day)'].to_numpy(np.float64)\n",
        "daily_water_consumption\n",
        "per_capita_consumption = df['Per Capita(Gallons per person per day)'].to_numpy(np.float64)\n",
        "population = df['New York City Population'].to_numpy(np.int64)\n",
        "year = df['Year'].to_numpy(np.int64)"
      ],
      "metadata": {
        "id": "RAgmas8zhKnW"
      },
      "execution_count": 222,
      "outputs": []
    },
    {
      "cell_type": "markdown",
      "source": [
        "1. What is the maximum yearly NYC consumption of water in millions of gallons per day?\n"
      ],
      "metadata": {
        "id": "mLcH_q3fhBTg"
      }
    },
    {
      "cell_type": "code",
      "source": [
        "\n",
        "max_consumption_1 = max(daily_water_consumption)\n",
        "print(max_consumption_1)"
      ],
      "metadata": {
        "colab": {
          "base_uri": "https://localhost:8080/"
        },
        "id": "nj4NL-BXhHhs",
        "outputId": "787892fa-5fc5-4313-d3cf-89fa6c74fa47"
      },
      "execution_count": 221,
      "outputs": [
        {
          "output_type": "stream",
          "name": "stdout",
          "text": [
            "1512.0\n"
          ]
        }
      ]
    },
    {
      "cell_type": "markdown",
      "source": [
        "2. How many calendar years are represented within this data set? NumPy's shape command is one way to find\n",
        "out"
      ],
      "metadata": {
        "id": "PJ4Pkmd5xEEI"
      }
    },
    {
      "cell_type": "code",
      "source": [
        "total_years = np.shape(year)[0]\n",
        "print(total_years)"
      ],
      "metadata": {
        "colab": {
          "base_uri": "https://localhost:8080/"
        },
        "id": "UE9yryWRxHVd",
        "outputId": "2bd24b87-4b5f-47ee-e71c-4ffde341e500"
      },
      "execution_count": 220,
      "outputs": [
        {
          "output_type": "stream",
          "name": "stdout",
          "text": [
            "39\n"
          ]
        }
      ]
    },
    {
      "cell_type": "markdown",
      "source": [
        "3. What is the mean and the standard deviation of the per capita daily water consumption?\n"
      ],
      "metadata": {
        "id": "OsHyz0dxxY3f"
      }
    },
    {
      "cell_type": "code",
      "source": [
        "per_capita_consumption.mean()"
      ],
      "metadata": {
        "colab": {
          "base_uri": "https://localhost:8080/"
        },
        "id": "r6pfL4Xpxore",
        "outputId": "80fbf923-bc3f-46b8-a08e-296e148ff8b6"
      },
      "execution_count": 219,
      "outputs": [
        {
          "output_type": "execute_result",
          "data": {
            "text/plain": [
              "160.30769230769232"
            ]
          },
          "metadata": {},
          "execution_count": 219
        }
      ]
    },
    {
      "cell_type": "markdown",
      "source": [
        "4. What is the increase or decrease in population from year to year? Use NumPy's `diff` function to create an array\n",
        "of differences and save that to a variable called \"pop_diff\", then print that variable to the screen."
      ],
      "metadata": {
        "id": "ksfcp4wy3vL6"
      }
    },
    {
      "cell_type": "code",
      "source": [
        "pop_diff = np.diff(population)\n",
        "print(pop_diff)"
      ],
      "metadata": {
        "colab": {
          "base_uri": "https://localhost:8080/"
        },
        "id": "XGS_I1VO3ygO",
        "outputId": "97f8a340-e3b3-435c-e8dd-33258bb81e6d"
      },
      "execution_count": 218,
      "outputs": [
        {
          "output_type": "stream",
          "name": "stdout",
          "text": [
            "[-30461  17602  19864  72119  53290  39540  45192  23230  11243  -9544\n",
            "  -8525  38851  54443  77222  64292  62582  64772  75631  84816  89401\n",
            "  60618  16685  16686  16685  16686  16685  16686  16685  16686  16685\n",
            "  16686 108965  77081  61281  49530  44512  21171  85025]\n"
          ]
        }
      ]
    }
  ]
}