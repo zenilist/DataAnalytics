{
  "nbformat": 4,
  "nbformat_minor": 0,
  "metadata": {
    "colab": {
      "name": "Project2.ipynb",
      "provenance": [],
      "collapsed_sections": [],
      "include_colab_link": true
    },
    "kernelspec": {
      "name": "python3",
      "display_name": "Python 3"
    },
    "language_info": {
      "name": "python"
    }
  },
  "cells": [
    {
      "cell_type": "markdown",
      "metadata": {
        "id": "view-in-github",
        "colab_type": "text"
      },
      "source": [
        "<a href=\"https://colab.research.google.com/github/zenilist/DataAnalytics/blob/main/Project2.ipynb\" target=\"_parent\"><img src=\"https://colab.research.google.com/assets/colab-badge.svg\" alt=\"Open In Colab\"/></a>"
      ]
    },
    {
      "cell_type": "markdown",
      "source": [
        "#**Project 2: Bikeshare Total Sale Analysis**"
      ],
      "metadata": {
        "id": "QG-qbT8QPEAJ"
      }
    },
    {
      "cell_type": "markdown",
      "source": [
        "#Group Members:\n",
        "* Yuhang Zhu\n",
        "* Jason Kang\n",
        "* Aviraj Kar"
      ],
      "metadata": {
        "id": "K0-xRLIEO3bk"
      }
    },
    {
      "cell_type": "markdown",
      "source": [
        "#Purpose"
      ],
      "metadata": {
        "id": "3IbN_cqtiNcd"
      }
    },
    {
      "cell_type": "markdown",
      "source": [
        "Around the world bikes are the main form of transportation for many, whether its for leisure or for work bikes are important for many to get to the destination they need. With the rise of technology bike rental companies have popped up all over the world. According to PBSC as of August 2021, there are 10 million shared bikes and 3000 bike sharing companies around the world. [link](https://www.pbsc.com/blog/2021/10/the-meddin-bike-sharing-world-map)  One such company is Capital Bikeshare a company located at Washington, DC but has their rental bikes available in many other states. This dataset focuses specifically on Capital Bikeshare’s rentals with attributes that pertain to the weather, number of total users renting, temperature, and many more. Our goal of this project is to determine what attributes affect how many total users Capital Bikeshare gets."
      ],
      "metadata": {
        "id": "IGJqS6SfiPK-"
      }
    },
    {
      "cell_type": "markdown",
      "source": [
        "# Data Summary\n",
        "- **Month** : Month of the year\n",
        "- **Season** : season (1:winter, 2:spring, 3:summer, 4:fall)\n",
        "- **Hour** : hour (0 to 23)\n",
        "- **Holiday** : weather day is holiday or not \n",
        "- **Day of the Week** : day of the week\n",
        "- **Working Day** : if day is neither weekend nor holiday is 1, otherwise is 0.\n",
        "- **Weather Type** :\n",
        " 1.  Clear, Few clouds, Partly cloudy, Partly cloudy\n",
        " 2.  Mist + Cloudy, Mist + Broken clouds, Mist + Few clouds, Mist\n",
        " 3.  Light Snow, Light Rain + Thunderstorm + Scattered clouds, Light Rain + Scattered clouds\n",
        "  4. Heavy Rain + Ice Pallets + Thunderstorm + Mist, Snow + Fog\n",
        "- **Temperature F** : Temperature in Fahrenheit \n",
        "- **Temperature Feels F**: Feeling temperature in fahrenheit\n",
        "- **Humidity**: Normalized humidity. The values are divided to 100 (max)\n",
        "- **Wind speed**: Normalized wind speed. The values are divided to 67 (max)\n",
        "- **Casual Users**: count of casual users\n",
        "- **Registered Users**: count of registered users\n",
        "- **Total Users**: count of total rental bikes including both casual and registered"
      ],
      "metadata": {
        "id": "oAFVLOczz079"
      }
    },
    {
      "cell_type": "code",
      "execution_count": null,
      "metadata": {
        "id": "1pJBJcdMXH9J"
      },
      "outputs": [],
      "source": [
        "#import required python libraries \n",
        "import pandas as pd \n",
        "import numpy as np\n",
        "import matplotlib.pyplot as plt\n",
        "import missingno as msno\n",
        "import seaborn as sns\n",
        "from sklearn.metrics import accuracy_score,confusion_matrix, classification_report,roc_auc_score\n",
        "from scipy.stats import zscore\n",
        "from sklearn.model_selection import train_test_split\n",
        "from sklearn.compose import ColumnTransformer\n",
        "from sklearn.experimental import enable_iterative_imputer\n",
        "from sklearn.impute import IterativeImputer\n",
        "from sklearn.impute import SimpleImputer\n",
        "from sklearn.model_selection import train_test_split\n",
        "from sklearn.linear_model import BayesianRidge\n",
        "from sklearn.tree import DecisionTreeRegressor\n",
        "from sklearn.ensemble import ExtraTreesRegressor\n",
        "from sklearn.neighbors import KNeighborsRegressor\n",
        "from sklearn.preprocessing import StandardScaler\n",
        "from sklearn import (model_selection,preprocessing)\n",
        "from patsy import dmatrices\n",
        "from sklearn.linear_model import LogisticRegression\n",
        "from sklearn import metrics\n",
        "from sklearn import datasets\n",
        "from sklearn.tree import DecisionTreeClassifier\n",
        "from sklearn.model_selection import train_test_split\n",
        "from sklearn.metrics import classification_report, confusion_matrix"
      ]
    },
    {
      "cell_type": "code",
      "source": [
        "#supress python warnings\n",
        "import warnings\n",
        "warnings.filterwarnings(\"ignore\")"
      ],
      "metadata": {
        "id": "2YYg9Yo5Oefb"
      },
      "execution_count": null,
      "outputs": []
    },
    {
      "cell_type": "code",
      "source": [
        "#https://data.world/data-society/capital-bikeshare-2011-2012/activity\n",
        "#load the video game sales dataset from github repository\n",
        "df = pd.read_csv('https://raw.githubusercontent.com/Skyfallup/Summer-CSCI381-11/main/bike_data_revised_.csv')\n",
        "cp_df = df.copy()\n",
        "#check the headers of the dataset\n",
        "df.head()"
      ],
      "metadata": {
        "colab": {
          "base_uri": "https://localhost:8080/",
          "height": 206
        },
        "id": "7lpi5ghIXOQO",
        "outputId": "aa0b25da-032c-4a97-b054-52392877c7c4"
      },
      "execution_count": null,
      "outputs": [
        {
          "output_type": "execute_result",
          "data": {
            "text/plain": [
              "   Month  Season  Hour  Holiday  Day of the Week  Working Day  Weather Type  \\\n",
              "0      1       4     0        0                6            0             1   \n",
              "1      1       4     1        0                6            0             1   \n",
              "2      1       4     2        0                6            0             1   \n",
              "3      1       4     3        0                6            0             1   \n",
              "4      1       4     4        0                6            0             1   \n",
              "\n",
              "   Temperature F  Temperature Feels F  Humidity  Wind Speed  Casual Users  \\\n",
              "0           36.6                 37.4        81           0             3   \n",
              "1           34.9                 35.6        80           0             8   \n",
              "2           34.9                 35.6        80           0             5   \n",
              "3           36.6                 37.4        75           0             3   \n",
              "4           36.6                 37.4        75           0             0   \n",
              "\n",
              "   Registered Users  Total Users  \n",
              "0                13           16  \n",
              "1                32           40  \n",
              "2                27           32  \n",
              "3                10           13  \n",
              "4                 1            1  "
            ],
            "text/html": [
              "\n",
              "  <div id=\"df-a8f99b4e-2b39-47e6-b70f-0ffbe3c0507e\">\n",
              "    <div class=\"colab-df-container\">\n",
              "      <div>\n",
              "<style scoped>\n",
              "    .dataframe tbody tr th:only-of-type {\n",
              "        vertical-align: middle;\n",
              "    }\n",
              "\n",
              "    .dataframe tbody tr th {\n",
              "        vertical-align: top;\n",
              "    }\n",
              "\n",
              "    .dataframe thead th {\n",
              "        text-align: right;\n",
              "    }\n",
              "</style>\n",
              "<table border=\"1\" class=\"dataframe\">\n",
              "  <thead>\n",
              "    <tr style=\"text-align: right;\">\n",
              "      <th></th>\n",
              "      <th>Month</th>\n",
              "      <th>Season</th>\n",
              "      <th>Hour</th>\n",
              "      <th>Holiday</th>\n",
              "      <th>Day of the Week</th>\n",
              "      <th>Working Day</th>\n",
              "      <th>Weather Type</th>\n",
              "      <th>Temperature F</th>\n",
              "      <th>Temperature Feels F</th>\n",
              "      <th>Humidity</th>\n",
              "      <th>Wind Speed</th>\n",
              "      <th>Casual Users</th>\n",
              "      <th>Registered Users</th>\n",
              "      <th>Total Users</th>\n",
              "    </tr>\n",
              "  </thead>\n",
              "  <tbody>\n",
              "    <tr>\n",
              "      <th>0</th>\n",
              "      <td>1</td>\n",
              "      <td>4</td>\n",
              "      <td>0</td>\n",
              "      <td>0</td>\n",
              "      <td>6</td>\n",
              "      <td>0</td>\n",
              "      <td>1</td>\n",
              "      <td>36.6</td>\n",
              "      <td>37.4</td>\n",
              "      <td>81</td>\n",
              "      <td>0</td>\n",
              "      <td>3</td>\n",
              "      <td>13</td>\n",
              "      <td>16</td>\n",
              "    </tr>\n",
              "    <tr>\n",
              "      <th>1</th>\n",
              "      <td>1</td>\n",
              "      <td>4</td>\n",
              "      <td>1</td>\n",
              "      <td>0</td>\n",
              "      <td>6</td>\n",
              "      <td>0</td>\n",
              "      <td>1</td>\n",
              "      <td>34.9</td>\n",
              "      <td>35.6</td>\n",
              "      <td>80</td>\n",
              "      <td>0</td>\n",
              "      <td>8</td>\n",
              "      <td>32</td>\n",
              "      <td>40</td>\n",
              "    </tr>\n",
              "    <tr>\n",
              "      <th>2</th>\n",
              "      <td>1</td>\n",
              "      <td>4</td>\n",
              "      <td>2</td>\n",
              "      <td>0</td>\n",
              "      <td>6</td>\n",
              "      <td>0</td>\n",
              "      <td>1</td>\n",
              "      <td>34.9</td>\n",
              "      <td>35.6</td>\n",
              "      <td>80</td>\n",
              "      <td>0</td>\n",
              "      <td>5</td>\n",
              "      <td>27</td>\n",
              "      <td>32</td>\n",
              "    </tr>\n",
              "    <tr>\n",
              "      <th>3</th>\n",
              "      <td>1</td>\n",
              "      <td>4</td>\n",
              "      <td>3</td>\n",
              "      <td>0</td>\n",
              "      <td>6</td>\n",
              "      <td>0</td>\n",
              "      <td>1</td>\n",
              "      <td>36.6</td>\n",
              "      <td>37.4</td>\n",
              "      <td>75</td>\n",
              "      <td>0</td>\n",
              "      <td>3</td>\n",
              "      <td>10</td>\n",
              "      <td>13</td>\n",
              "    </tr>\n",
              "    <tr>\n",
              "      <th>4</th>\n",
              "      <td>1</td>\n",
              "      <td>4</td>\n",
              "      <td>4</td>\n",
              "      <td>0</td>\n",
              "      <td>6</td>\n",
              "      <td>0</td>\n",
              "      <td>1</td>\n",
              "      <td>36.6</td>\n",
              "      <td>37.4</td>\n",
              "      <td>75</td>\n",
              "      <td>0</td>\n",
              "      <td>0</td>\n",
              "      <td>1</td>\n",
              "      <td>1</td>\n",
              "    </tr>\n",
              "  </tbody>\n",
              "</table>\n",
              "</div>\n",
              "      <button class=\"colab-df-convert\" onclick=\"convertToInteractive('df-a8f99b4e-2b39-47e6-b70f-0ffbe3c0507e')\"\n",
              "              title=\"Convert this dataframe to an interactive table.\"\n",
              "              style=\"display:none;\">\n",
              "        \n",
              "  <svg xmlns=\"http://www.w3.org/2000/svg\" height=\"24px\"viewBox=\"0 0 24 24\"\n",
              "       width=\"24px\">\n",
              "    <path d=\"M0 0h24v24H0V0z\" fill=\"none\"/>\n",
              "    <path d=\"M18.56 5.44l.94 2.06.94-2.06 2.06-.94-2.06-.94-.94-2.06-.94 2.06-2.06.94zm-11 1L8.5 8.5l.94-2.06 2.06-.94-2.06-.94L8.5 2.5l-.94 2.06-2.06.94zm10 10l.94 2.06.94-2.06 2.06-.94-2.06-.94-.94-2.06-.94 2.06-2.06.94z\"/><path d=\"M17.41 7.96l-1.37-1.37c-.4-.4-.92-.59-1.43-.59-.52 0-1.04.2-1.43.59L10.3 9.45l-7.72 7.72c-.78.78-.78 2.05 0 2.83L4 21.41c.39.39.9.59 1.41.59.51 0 1.02-.2 1.41-.59l7.78-7.78 2.81-2.81c.8-.78.8-2.07 0-2.86zM5.41 20L4 18.59l7.72-7.72 1.47 1.35L5.41 20z\"/>\n",
              "  </svg>\n",
              "      </button>\n",
              "      \n",
              "  <style>\n",
              "    .colab-df-container {\n",
              "      display:flex;\n",
              "      flex-wrap:wrap;\n",
              "      gap: 12px;\n",
              "    }\n",
              "\n",
              "    .colab-df-convert {\n",
              "      background-color: #E8F0FE;\n",
              "      border: none;\n",
              "      border-radius: 50%;\n",
              "      cursor: pointer;\n",
              "      display: none;\n",
              "      fill: #1967D2;\n",
              "      height: 32px;\n",
              "      padding: 0 0 0 0;\n",
              "      width: 32px;\n",
              "    }\n",
              "\n",
              "    .colab-df-convert:hover {\n",
              "      background-color: #E2EBFA;\n",
              "      box-shadow: 0px 1px 2px rgba(60, 64, 67, 0.3), 0px 1px 3px 1px rgba(60, 64, 67, 0.15);\n",
              "      fill: #174EA6;\n",
              "    }\n",
              "\n",
              "    [theme=dark] .colab-df-convert {\n",
              "      background-color: #3B4455;\n",
              "      fill: #D2E3FC;\n",
              "    }\n",
              "\n",
              "    [theme=dark] .colab-df-convert:hover {\n",
              "      background-color: #434B5C;\n",
              "      box-shadow: 0px 1px 3px 1px rgba(0, 0, 0, 0.15);\n",
              "      filter: drop-shadow(0px 1px 2px rgba(0, 0, 0, 0.3));\n",
              "      fill: #FFFFFF;\n",
              "    }\n",
              "  </style>\n",
              "\n",
              "      <script>\n",
              "        const buttonEl =\n",
              "          document.querySelector('#df-a8f99b4e-2b39-47e6-b70f-0ffbe3c0507e button.colab-df-convert');\n",
              "        buttonEl.style.display =\n",
              "          google.colab.kernel.accessAllowed ? 'block' : 'none';\n",
              "\n",
              "        async function convertToInteractive(key) {\n",
              "          const element = document.querySelector('#df-a8f99b4e-2b39-47e6-b70f-0ffbe3c0507e');\n",
              "          const dataTable =\n",
              "            await google.colab.kernel.invokeFunction('convertToInteractive',\n",
              "                                                     [key], {});\n",
              "          if (!dataTable) return;\n",
              "\n",
              "          const docLinkHtml = 'Like what you see? Visit the ' +\n",
              "            '<a target=\"_blank\" href=https://colab.research.google.com/notebooks/data_table.ipynb>data table notebook</a>'\n",
              "            + ' to learn more about interactive tables.';\n",
              "          element.innerHTML = '';\n",
              "          dataTable['output_type'] = 'display_data';\n",
              "          await google.colab.output.renderOutput(dataTable, element);\n",
              "          const docLink = document.createElement('div');\n",
              "          docLink.innerHTML = docLinkHtml;\n",
              "          element.appendChild(docLink);\n",
              "        }\n",
              "      </script>\n",
              "    </div>\n",
              "  </div>\n",
              "  "
            ]
          },
          "metadata": {},
          "execution_count": 311
        }
      ]
    },
    {
      "cell_type": "code",
      "source": [
        "#show statistics of all the attributes\n",
        "df.describe()"
      ],
      "metadata": {
        "colab": {
          "base_uri": "https://localhost:8080/",
          "height": 300
        },
        "id": "7hcVb-QtiWDq",
        "outputId": "6bd4036f-1402-4bc0-ada7-df3bf394cb3e"
      },
      "execution_count": null,
      "outputs": [
        {
          "output_type": "execute_result",
          "data": {
            "text/plain": [
              "              Month        Season          Hour       Holiday  \\\n",
              "count  17379.000000  17379.000000  17379.000000  17379.000000   \n",
              "mean       6.537775      2.485241     11.546752      0.028770   \n",
              "std        3.438776      1.115985      6.914405      0.167165   \n",
              "min        1.000000      1.000000      0.000000      0.000000   \n",
              "25%        4.000000      1.000000      6.000000      0.000000   \n",
              "50%        7.000000      2.000000     12.000000      0.000000   \n",
              "75%       10.000000      3.000000     18.000000      0.000000   \n",
              "max       12.000000      4.000000     23.000000      1.000000   \n",
              "\n",
              "       Day of the Week   Working Day  Weather Type  Temperature F  \\\n",
              "count     17379.000000  17379.000000  17379.000000   17379.000000   \n",
              "mean          3.003683      0.682721      1.425283      58.777507   \n",
              "std           2.005771      0.465431      0.639357      16.620757   \n",
              "min           0.000000      0.000000      1.000000      17.600000   \n",
              "25%           1.000000      0.000000      1.000000      45.200000   \n",
              "50%           3.000000      1.000000      1.000000      59.000000   \n",
              "75%           5.000000      1.000000      2.000000      72.800000   \n",
              "max           6.000000      1.000000      4.000000     102.200000   \n",
              "\n",
              "       Temperature Feels F      Humidity    Wind Speed  Casual Users  \\\n",
              "count         17379.000000  17379.000000  17379.000000  17379.000000   \n",
              "mean             59.722009     62.722884     12.736233     35.676218   \n",
              "std              20.415345     19.292983      8.196891     49.305030   \n",
              "min               3.200000      0.000000      0.000000      0.000000   \n",
              "25%              42.800000     48.000000      7.000000      4.000000   \n",
              "50%              60.800000     63.000000     13.000000     17.000000   \n",
              "75%              77.000000     78.000000     17.000000     48.000000   \n",
              "max             122.000000    100.000000     57.000000    367.000000   \n",
              "\n",
              "       Registered Users   Total Users  \n",
              "count      17379.000000  17379.000000  \n",
              "mean         153.786869    189.463088  \n",
              "std          151.357286    181.387599  \n",
              "min            0.000000      1.000000  \n",
              "25%           34.000000     40.000000  \n",
              "50%          115.000000    142.000000  \n",
              "75%          220.000000    281.000000  \n",
              "max          886.000000    977.000000  "
            ],
            "text/html": [
              "\n",
              "  <div id=\"df-caa37388-d03a-47f0-a673-7ecab68177f5\">\n",
              "    <div class=\"colab-df-container\">\n",
              "      <div>\n",
              "<style scoped>\n",
              "    .dataframe tbody tr th:only-of-type {\n",
              "        vertical-align: middle;\n",
              "    }\n",
              "\n",
              "    .dataframe tbody tr th {\n",
              "        vertical-align: top;\n",
              "    }\n",
              "\n",
              "    .dataframe thead th {\n",
              "        text-align: right;\n",
              "    }\n",
              "</style>\n",
              "<table border=\"1\" class=\"dataframe\">\n",
              "  <thead>\n",
              "    <tr style=\"text-align: right;\">\n",
              "      <th></th>\n",
              "      <th>Month</th>\n",
              "      <th>Season</th>\n",
              "      <th>Hour</th>\n",
              "      <th>Holiday</th>\n",
              "      <th>Day of the Week</th>\n",
              "      <th>Working Day</th>\n",
              "      <th>Weather Type</th>\n",
              "      <th>Temperature F</th>\n",
              "      <th>Temperature Feels F</th>\n",
              "      <th>Humidity</th>\n",
              "      <th>Wind Speed</th>\n",
              "      <th>Casual Users</th>\n",
              "      <th>Registered Users</th>\n",
              "      <th>Total Users</th>\n",
              "    </tr>\n",
              "  </thead>\n",
              "  <tbody>\n",
              "    <tr>\n",
              "      <th>count</th>\n",
              "      <td>17379.000000</td>\n",
              "      <td>17379.000000</td>\n",
              "      <td>17379.000000</td>\n",
              "      <td>17379.000000</td>\n",
              "      <td>17379.000000</td>\n",
              "      <td>17379.000000</td>\n",
              "      <td>17379.000000</td>\n",
              "      <td>17379.000000</td>\n",
              "      <td>17379.000000</td>\n",
              "      <td>17379.000000</td>\n",
              "      <td>17379.000000</td>\n",
              "      <td>17379.000000</td>\n",
              "      <td>17379.000000</td>\n",
              "      <td>17379.000000</td>\n",
              "    </tr>\n",
              "    <tr>\n",
              "      <th>mean</th>\n",
              "      <td>6.537775</td>\n",
              "      <td>2.485241</td>\n",
              "      <td>11.546752</td>\n",
              "      <td>0.028770</td>\n",
              "      <td>3.003683</td>\n",
              "      <td>0.682721</td>\n",
              "      <td>1.425283</td>\n",
              "      <td>58.777507</td>\n",
              "      <td>59.722009</td>\n",
              "      <td>62.722884</td>\n",
              "      <td>12.736233</td>\n",
              "      <td>35.676218</td>\n",
              "      <td>153.786869</td>\n",
              "      <td>189.463088</td>\n",
              "    </tr>\n",
              "    <tr>\n",
              "      <th>std</th>\n",
              "      <td>3.438776</td>\n",
              "      <td>1.115985</td>\n",
              "      <td>6.914405</td>\n",
              "      <td>0.167165</td>\n",
              "      <td>2.005771</td>\n",
              "      <td>0.465431</td>\n",
              "      <td>0.639357</td>\n",
              "      <td>16.620757</td>\n",
              "      <td>20.415345</td>\n",
              "      <td>19.292983</td>\n",
              "      <td>8.196891</td>\n",
              "      <td>49.305030</td>\n",
              "      <td>151.357286</td>\n",
              "      <td>181.387599</td>\n",
              "    </tr>\n",
              "    <tr>\n",
              "      <th>min</th>\n",
              "      <td>1.000000</td>\n",
              "      <td>1.000000</td>\n",
              "      <td>0.000000</td>\n",
              "      <td>0.000000</td>\n",
              "      <td>0.000000</td>\n",
              "      <td>0.000000</td>\n",
              "      <td>1.000000</td>\n",
              "      <td>17.600000</td>\n",
              "      <td>3.200000</td>\n",
              "      <td>0.000000</td>\n",
              "      <td>0.000000</td>\n",
              "      <td>0.000000</td>\n",
              "      <td>0.000000</td>\n",
              "      <td>1.000000</td>\n",
              "    </tr>\n",
              "    <tr>\n",
              "      <th>25%</th>\n",
              "      <td>4.000000</td>\n",
              "      <td>1.000000</td>\n",
              "      <td>6.000000</td>\n",
              "      <td>0.000000</td>\n",
              "      <td>1.000000</td>\n",
              "      <td>0.000000</td>\n",
              "      <td>1.000000</td>\n",
              "      <td>45.200000</td>\n",
              "      <td>42.800000</td>\n",
              "      <td>48.000000</td>\n",
              "      <td>7.000000</td>\n",
              "      <td>4.000000</td>\n",
              "      <td>34.000000</td>\n",
              "      <td>40.000000</td>\n",
              "    </tr>\n",
              "    <tr>\n",
              "      <th>50%</th>\n",
              "      <td>7.000000</td>\n",
              "      <td>2.000000</td>\n",
              "      <td>12.000000</td>\n",
              "      <td>0.000000</td>\n",
              "      <td>3.000000</td>\n",
              "      <td>1.000000</td>\n",
              "      <td>1.000000</td>\n",
              "      <td>59.000000</td>\n",
              "      <td>60.800000</td>\n",
              "      <td>63.000000</td>\n",
              "      <td>13.000000</td>\n",
              "      <td>17.000000</td>\n",
              "      <td>115.000000</td>\n",
              "      <td>142.000000</td>\n",
              "    </tr>\n",
              "    <tr>\n",
              "      <th>75%</th>\n",
              "      <td>10.000000</td>\n",
              "      <td>3.000000</td>\n",
              "      <td>18.000000</td>\n",
              "      <td>0.000000</td>\n",
              "      <td>5.000000</td>\n",
              "      <td>1.000000</td>\n",
              "      <td>2.000000</td>\n",
              "      <td>72.800000</td>\n",
              "      <td>77.000000</td>\n",
              "      <td>78.000000</td>\n",
              "      <td>17.000000</td>\n",
              "      <td>48.000000</td>\n",
              "      <td>220.000000</td>\n",
              "      <td>281.000000</td>\n",
              "    </tr>\n",
              "    <tr>\n",
              "      <th>max</th>\n",
              "      <td>12.000000</td>\n",
              "      <td>4.000000</td>\n",
              "      <td>23.000000</td>\n",
              "      <td>1.000000</td>\n",
              "      <td>6.000000</td>\n",
              "      <td>1.000000</td>\n",
              "      <td>4.000000</td>\n",
              "      <td>102.200000</td>\n",
              "      <td>122.000000</td>\n",
              "      <td>100.000000</td>\n",
              "      <td>57.000000</td>\n",
              "      <td>367.000000</td>\n",
              "      <td>886.000000</td>\n",
              "      <td>977.000000</td>\n",
              "    </tr>\n",
              "  </tbody>\n",
              "</table>\n",
              "</div>\n",
              "      <button class=\"colab-df-convert\" onclick=\"convertToInteractive('df-caa37388-d03a-47f0-a673-7ecab68177f5')\"\n",
              "              title=\"Convert this dataframe to an interactive table.\"\n",
              "              style=\"display:none;\">\n",
              "        \n",
              "  <svg xmlns=\"http://www.w3.org/2000/svg\" height=\"24px\"viewBox=\"0 0 24 24\"\n",
              "       width=\"24px\">\n",
              "    <path d=\"M0 0h24v24H0V0z\" fill=\"none\"/>\n",
              "    <path d=\"M18.56 5.44l.94 2.06.94-2.06 2.06-.94-2.06-.94-.94-2.06-.94 2.06-2.06.94zm-11 1L8.5 8.5l.94-2.06 2.06-.94-2.06-.94L8.5 2.5l-.94 2.06-2.06.94zm10 10l.94 2.06.94-2.06 2.06-.94-2.06-.94-.94-2.06-.94 2.06-2.06.94z\"/><path d=\"M17.41 7.96l-1.37-1.37c-.4-.4-.92-.59-1.43-.59-.52 0-1.04.2-1.43.59L10.3 9.45l-7.72 7.72c-.78.78-.78 2.05 0 2.83L4 21.41c.39.39.9.59 1.41.59.51 0 1.02-.2 1.41-.59l7.78-7.78 2.81-2.81c.8-.78.8-2.07 0-2.86zM5.41 20L4 18.59l7.72-7.72 1.47 1.35L5.41 20z\"/>\n",
              "  </svg>\n",
              "      </button>\n",
              "      \n",
              "  <style>\n",
              "    .colab-df-container {\n",
              "      display:flex;\n",
              "      flex-wrap:wrap;\n",
              "      gap: 12px;\n",
              "    }\n",
              "\n",
              "    .colab-df-convert {\n",
              "      background-color: #E8F0FE;\n",
              "      border: none;\n",
              "      border-radius: 50%;\n",
              "      cursor: pointer;\n",
              "      display: none;\n",
              "      fill: #1967D2;\n",
              "      height: 32px;\n",
              "      padding: 0 0 0 0;\n",
              "      width: 32px;\n",
              "    }\n",
              "\n",
              "    .colab-df-convert:hover {\n",
              "      background-color: #E2EBFA;\n",
              "      box-shadow: 0px 1px 2px rgba(60, 64, 67, 0.3), 0px 1px 3px 1px rgba(60, 64, 67, 0.15);\n",
              "      fill: #174EA6;\n",
              "    }\n",
              "\n",
              "    [theme=dark] .colab-df-convert {\n",
              "      background-color: #3B4455;\n",
              "      fill: #D2E3FC;\n",
              "    }\n",
              "\n",
              "    [theme=dark] .colab-df-convert:hover {\n",
              "      background-color: #434B5C;\n",
              "      box-shadow: 0px 1px 3px 1px rgba(0, 0, 0, 0.15);\n",
              "      filter: drop-shadow(0px 1px 2px rgba(0, 0, 0, 0.3));\n",
              "      fill: #FFFFFF;\n",
              "    }\n",
              "  </style>\n",
              "\n",
              "      <script>\n",
              "        const buttonEl =\n",
              "          document.querySelector('#df-caa37388-d03a-47f0-a673-7ecab68177f5 button.colab-df-convert');\n",
              "        buttonEl.style.display =\n",
              "          google.colab.kernel.accessAllowed ? 'block' : 'none';\n",
              "\n",
              "        async function convertToInteractive(key) {\n",
              "          const element = document.querySelector('#df-caa37388-d03a-47f0-a673-7ecab68177f5');\n",
              "          const dataTable =\n",
              "            await google.colab.kernel.invokeFunction('convertToInteractive',\n",
              "                                                     [key], {});\n",
              "          if (!dataTable) return;\n",
              "\n",
              "          const docLinkHtml = 'Like what you see? Visit the ' +\n",
              "            '<a target=\"_blank\" href=https://colab.research.google.com/notebooks/data_table.ipynb>data table notebook</a>'\n",
              "            + ' to learn more about interactive tables.';\n",
              "          element.innerHTML = '';\n",
              "          dataTable['output_type'] = 'display_data';\n",
              "          await google.colab.output.renderOutput(dataTable, element);\n",
              "          const docLink = document.createElement('div');\n",
              "          docLink.innerHTML = docLinkHtml;\n",
              "          element.appendChild(docLink);\n",
              "        }\n",
              "      </script>\n",
              "    </div>\n",
              "  </div>\n",
              "  "
            ]
          },
          "metadata": {},
          "execution_count": 312
        }
      ]
    },
    {
      "cell_type": "code",
      "source": [
        "#show dimensions of the dataset\n",
        "df.shape"
      ],
      "metadata": {
        "id": "GVK6uC_G373Q",
        "outputId": "4d0f4ea2-cc92-4cbe-8590-530dd9e86346",
        "colab": {
          "base_uri": "https://localhost:8080/"
        }
      },
      "execution_count": null,
      "outputs": [
        {
          "output_type": "execute_result",
          "data": {
            "text/plain": [
              "(17379, 14)"
            ]
          },
          "metadata": {},
          "execution_count": 313
        }
      ]
    },
    {
      "cell_type": "code",
      "source": [
        "#show unique values of each feature\n",
        "df.nunique()"
      ],
      "metadata": {
        "colab": {
          "base_uri": "https://localhost:8080/"
        },
        "id": "hleAl6wSaPNd",
        "outputId": "8e197fa7-ca64-4333-b2a3-38370bfb8623"
      },
      "execution_count": null,
      "outputs": [
        {
          "output_type": "execute_result",
          "data": {
            "text/plain": [
              "Month                   12\n",
              "Season                   4\n",
              "Hour                    24\n",
              "Holiday                  2\n",
              "Day of the Week          7\n",
              "Working Day              2\n",
              "Weather Type             4\n",
              "Temperature F           50\n",
              "Temperature Feels F     65\n",
              "Humidity                89\n",
              "Wind Speed              30\n",
              "Casual Users           322\n",
              "Registered Users       776\n",
              "Total Users            869\n",
              "dtype: int64"
            ]
          },
          "metadata": {},
          "execution_count": 314
        }
      ]
    },
    {
      "cell_type": "code",
      "source": [
        "#show datatypes\n",
        "df.dtypes"
      ],
      "metadata": {
        "colab": {
          "base_uri": "https://localhost:8080/"
        },
        "id": "DeSVjsNqYLVC",
        "outputId": "01f69976-7552-45a3-c8d3-dc44c2974349"
      },
      "execution_count": null,
      "outputs": [
        {
          "output_type": "execute_result",
          "data": {
            "text/plain": [
              "Month                    int64\n",
              "Season                   int64\n",
              "Hour                     int64\n",
              "Holiday                  int64\n",
              "Day of the Week          int64\n",
              "Working Day              int64\n",
              "Weather Type             int64\n",
              "Temperature F          float64\n",
              "Temperature Feels F    float64\n",
              "Humidity                 int64\n",
              "Wind Speed               int64\n",
              "Casual Users             int64\n",
              "Registered Users         int64\n",
              "Total Users              int64\n",
              "dtype: object"
            ]
          },
          "metadata": {},
          "execution_count": 315
        }
      ]
    },
    {
      "cell_type": "markdown",
      "source": [
        "All of the features in our workflow are numeric that consists of 2 continuous and 11 discrete. The target variable is Total Users."
      ],
      "metadata": {
        "id": "TP15Yfy-ovoC"
      }
    },
    {
      "cell_type": "code",
      "source": [
        "# to see if there is nan in columns\n",
        "df.isnull().sum()"
      ],
      "metadata": {
        "colab": {
          "base_uri": "https://localhost:8080/"
        },
        "id": "cZ4sVIAA1cf2",
        "outputId": "1dae4c33-2217-46aa-8d67-700d71cde68a"
      },
      "execution_count": null,
      "outputs": [
        {
          "output_type": "execute_result",
          "data": {
            "text/plain": [
              "Month                  0\n",
              "Season                 0\n",
              "Hour                   0\n",
              "Holiday                0\n",
              "Day of the Week        0\n",
              "Working Day            0\n",
              "Weather Type           0\n",
              "Temperature F          0\n",
              "Temperature Feels F    0\n",
              "Humidity               0\n",
              "Wind Speed             0\n",
              "Casual Users           0\n",
              "Registered Users       0\n",
              "Total Users            0\n",
              "dtype: int64"
            ]
          },
          "metadata": {},
          "execution_count": 316
        }
      ]
    },
    {
      "cell_type": "code",
      "source": [
        "# see new panda frame\n",
        "df.head()"
      ],
      "metadata": {
        "colab": {
          "base_uri": "https://localhost:8080/",
          "height": 206
        },
        "id": "aJMparb72Wh2",
        "outputId": "fdc35514-0a8b-409b-a438-49a2b0bd1743"
      },
      "execution_count": null,
      "outputs": [
        {
          "output_type": "execute_result",
          "data": {
            "text/plain": [
              "   Month  Season  Hour  Holiday  Day of the Week  Working Day  Weather Type  \\\n",
              "0      1       4     0        0                6            0             1   \n",
              "1      1       4     1        0                6            0             1   \n",
              "2      1       4     2        0                6            0             1   \n",
              "3      1       4     3        0                6            0             1   \n",
              "4      1       4     4        0                6            0             1   \n",
              "\n",
              "   Temperature F  Temperature Feels F  Humidity  Wind Speed  Casual Users  \\\n",
              "0           36.6                 37.4        81           0             3   \n",
              "1           34.9                 35.6        80           0             8   \n",
              "2           34.9                 35.6        80           0             5   \n",
              "3           36.6                 37.4        75           0             3   \n",
              "4           36.6                 37.4        75           0             0   \n",
              "\n",
              "   Registered Users  Total Users  \n",
              "0                13           16  \n",
              "1                32           40  \n",
              "2                27           32  \n",
              "3                10           13  \n",
              "4                 1            1  "
            ],
            "text/html": [
              "\n",
              "  <div id=\"df-cbb80485-0199-480c-b83c-84918782a75b\">\n",
              "    <div class=\"colab-df-container\">\n",
              "      <div>\n",
              "<style scoped>\n",
              "    .dataframe tbody tr th:only-of-type {\n",
              "        vertical-align: middle;\n",
              "    }\n",
              "\n",
              "    .dataframe tbody tr th {\n",
              "        vertical-align: top;\n",
              "    }\n",
              "\n",
              "    .dataframe thead th {\n",
              "        text-align: right;\n",
              "    }\n",
              "</style>\n",
              "<table border=\"1\" class=\"dataframe\">\n",
              "  <thead>\n",
              "    <tr style=\"text-align: right;\">\n",
              "      <th></th>\n",
              "      <th>Month</th>\n",
              "      <th>Season</th>\n",
              "      <th>Hour</th>\n",
              "      <th>Holiday</th>\n",
              "      <th>Day of the Week</th>\n",
              "      <th>Working Day</th>\n",
              "      <th>Weather Type</th>\n",
              "      <th>Temperature F</th>\n",
              "      <th>Temperature Feels F</th>\n",
              "      <th>Humidity</th>\n",
              "      <th>Wind Speed</th>\n",
              "      <th>Casual Users</th>\n",
              "      <th>Registered Users</th>\n",
              "      <th>Total Users</th>\n",
              "    </tr>\n",
              "  </thead>\n",
              "  <tbody>\n",
              "    <tr>\n",
              "      <th>0</th>\n",
              "      <td>1</td>\n",
              "      <td>4</td>\n",
              "      <td>0</td>\n",
              "      <td>0</td>\n",
              "      <td>6</td>\n",
              "      <td>0</td>\n",
              "      <td>1</td>\n",
              "      <td>36.6</td>\n",
              "      <td>37.4</td>\n",
              "      <td>81</td>\n",
              "      <td>0</td>\n",
              "      <td>3</td>\n",
              "      <td>13</td>\n",
              "      <td>16</td>\n",
              "    </tr>\n",
              "    <tr>\n",
              "      <th>1</th>\n",
              "      <td>1</td>\n",
              "      <td>4</td>\n",
              "      <td>1</td>\n",
              "      <td>0</td>\n",
              "      <td>6</td>\n",
              "      <td>0</td>\n",
              "      <td>1</td>\n",
              "      <td>34.9</td>\n",
              "      <td>35.6</td>\n",
              "      <td>80</td>\n",
              "      <td>0</td>\n",
              "      <td>8</td>\n",
              "      <td>32</td>\n",
              "      <td>40</td>\n",
              "    </tr>\n",
              "    <tr>\n",
              "      <th>2</th>\n",
              "      <td>1</td>\n",
              "      <td>4</td>\n",
              "      <td>2</td>\n",
              "      <td>0</td>\n",
              "      <td>6</td>\n",
              "      <td>0</td>\n",
              "      <td>1</td>\n",
              "      <td>34.9</td>\n",
              "      <td>35.6</td>\n",
              "      <td>80</td>\n",
              "      <td>0</td>\n",
              "      <td>5</td>\n",
              "      <td>27</td>\n",
              "      <td>32</td>\n",
              "    </tr>\n",
              "    <tr>\n",
              "      <th>3</th>\n",
              "      <td>1</td>\n",
              "      <td>4</td>\n",
              "      <td>3</td>\n",
              "      <td>0</td>\n",
              "      <td>6</td>\n",
              "      <td>0</td>\n",
              "      <td>1</td>\n",
              "      <td>36.6</td>\n",
              "      <td>37.4</td>\n",
              "      <td>75</td>\n",
              "      <td>0</td>\n",
              "      <td>3</td>\n",
              "      <td>10</td>\n",
              "      <td>13</td>\n",
              "    </tr>\n",
              "    <tr>\n",
              "      <th>4</th>\n",
              "      <td>1</td>\n",
              "      <td>4</td>\n",
              "      <td>4</td>\n",
              "      <td>0</td>\n",
              "      <td>6</td>\n",
              "      <td>0</td>\n",
              "      <td>1</td>\n",
              "      <td>36.6</td>\n",
              "      <td>37.4</td>\n",
              "      <td>75</td>\n",
              "      <td>0</td>\n",
              "      <td>0</td>\n",
              "      <td>1</td>\n",
              "      <td>1</td>\n",
              "    </tr>\n",
              "  </tbody>\n",
              "</table>\n",
              "</div>\n",
              "      <button class=\"colab-df-convert\" onclick=\"convertToInteractive('df-cbb80485-0199-480c-b83c-84918782a75b')\"\n",
              "              title=\"Convert this dataframe to an interactive table.\"\n",
              "              style=\"display:none;\">\n",
              "        \n",
              "  <svg xmlns=\"http://www.w3.org/2000/svg\" height=\"24px\"viewBox=\"0 0 24 24\"\n",
              "       width=\"24px\">\n",
              "    <path d=\"M0 0h24v24H0V0z\" fill=\"none\"/>\n",
              "    <path d=\"M18.56 5.44l.94 2.06.94-2.06 2.06-.94-2.06-.94-.94-2.06-.94 2.06-2.06.94zm-11 1L8.5 8.5l.94-2.06 2.06-.94-2.06-.94L8.5 2.5l-.94 2.06-2.06.94zm10 10l.94 2.06.94-2.06 2.06-.94-2.06-.94-.94-2.06-.94 2.06-2.06.94z\"/><path d=\"M17.41 7.96l-1.37-1.37c-.4-.4-.92-.59-1.43-.59-.52 0-1.04.2-1.43.59L10.3 9.45l-7.72 7.72c-.78.78-.78 2.05 0 2.83L4 21.41c.39.39.9.59 1.41.59.51 0 1.02-.2 1.41-.59l7.78-7.78 2.81-2.81c.8-.78.8-2.07 0-2.86zM5.41 20L4 18.59l7.72-7.72 1.47 1.35L5.41 20z\"/>\n",
              "  </svg>\n",
              "      </button>\n",
              "      \n",
              "  <style>\n",
              "    .colab-df-container {\n",
              "      display:flex;\n",
              "      flex-wrap:wrap;\n",
              "      gap: 12px;\n",
              "    }\n",
              "\n",
              "    .colab-df-convert {\n",
              "      background-color: #E8F0FE;\n",
              "      border: none;\n",
              "      border-radius: 50%;\n",
              "      cursor: pointer;\n",
              "      display: none;\n",
              "      fill: #1967D2;\n",
              "      height: 32px;\n",
              "      padding: 0 0 0 0;\n",
              "      width: 32px;\n",
              "    }\n",
              "\n",
              "    .colab-df-convert:hover {\n",
              "      background-color: #E2EBFA;\n",
              "      box-shadow: 0px 1px 2px rgba(60, 64, 67, 0.3), 0px 1px 3px 1px rgba(60, 64, 67, 0.15);\n",
              "      fill: #174EA6;\n",
              "    }\n",
              "\n",
              "    [theme=dark] .colab-df-convert {\n",
              "      background-color: #3B4455;\n",
              "      fill: #D2E3FC;\n",
              "    }\n",
              "\n",
              "    [theme=dark] .colab-df-convert:hover {\n",
              "      background-color: #434B5C;\n",
              "      box-shadow: 0px 1px 3px 1px rgba(0, 0, 0, 0.15);\n",
              "      filter: drop-shadow(0px 1px 2px rgba(0, 0, 0, 0.3));\n",
              "      fill: #FFFFFF;\n",
              "    }\n",
              "  </style>\n",
              "\n",
              "      <script>\n",
              "        const buttonEl =\n",
              "          document.querySelector('#df-cbb80485-0199-480c-b83c-84918782a75b button.colab-df-convert');\n",
              "        buttonEl.style.display =\n",
              "          google.colab.kernel.accessAllowed ? 'block' : 'none';\n",
              "\n",
              "        async function convertToInteractive(key) {\n",
              "          const element = document.querySelector('#df-cbb80485-0199-480c-b83c-84918782a75b');\n",
              "          const dataTable =\n",
              "            await google.colab.kernel.invokeFunction('convertToInteractive',\n",
              "                                                     [key], {});\n",
              "          if (!dataTable) return;\n",
              "\n",
              "          const docLinkHtml = 'Like what you see? Visit the ' +\n",
              "            '<a target=\"_blank\" href=https://colab.research.google.com/notebooks/data_table.ipynb>data table notebook</a>'\n",
              "            + ' to learn more about interactive tables.';\n",
              "          element.innerHTML = '';\n",
              "          dataTable['output_type'] = 'display_data';\n",
              "          await google.colab.output.renderOutput(dataTable, element);\n",
              "          const docLink = document.createElement('div');\n",
              "          docLink.innerHTML = docLinkHtml;\n",
              "          element.appendChild(docLink);\n",
              "        }\n",
              "      </script>\n",
              "    </div>\n",
              "  </div>\n",
              "  "
            ]
          },
          "metadata": {},
          "execution_count": 317
        }
      ]
    },
    {
      "cell_type": "markdown",
      "source": [
        "#**Exploratory Data Analysis**"
      ],
      "metadata": {
        "id": "n4mpmp364T8z"
      }
    },
    {
      "cell_type": "code",
      "source": [
        "#create a function to define graph size\n",
        "def make_size(x = 15,y = 10):\n",
        "  plt.figure(figsize=(x,y))"
      ],
      "metadata": {
        "id": "CurGdY8Z32rf"
      },
      "execution_count": null,
      "outputs": []
    },
    {
      "cell_type": "code",
      "source": [
        "\n",
        "#create three python variables to store the sum of the two types of bike users and calculate their percentage\n",
        "casual = df['Casual Users'].sum()\n",
        "registered = df['Registered Users'].sum()\n",
        "total = df['Total Users'].sum()\n",
        "tag =['Casual','Registered']\n",
        "percent = [casual/ total,registered/total]\n",
        "# display the proportion of casual and registered bike users \n",
        "make_size()\n",
        "plt.pie(percent,labels = tag)\n",
        "plt.legend()"
      ],
      "metadata": {
        "colab": {
          "base_uri": "https://localhost:8080/",
          "height": 592
        },
        "id": "_9Ttir2H26xK",
        "outputId": "a58160f0-1343-4faa-8649-0dfe99ffd3ac"
      },
      "execution_count": null,
      "outputs": [
        {
          "output_type": "execute_result",
          "data": {
            "text/plain": [
              "<matplotlib.legend.Legend at 0x7ff905a09150>"
            ]
          },
          "metadata": {},
          "execution_count": 319
        },
        {
          "output_type": "display_data",
          "data": {
            "text/plain": [
              "<Figure size 1080x720 with 1 Axes>"
            ],
            "image/png": "[encoded data removed]"
          },
          "metadata": {}
        }
      ]
    },
    {
      "cell_type": "markdown",
      "source": [
        "About 20% of the users are casual which indicates that the company has a steady growth rate and has good potential to turn that userbase into future subscribers."
      ],
      "metadata": {
        "id": "NiAefOpcqNTb"
      }
    },
    {
      "cell_type": "code",
      "source": [
        "#display the breakdown of purchases with respect to holiday(0) and working day(1) \n",
        "make_size()\n",
        "plt.hist(df['Working Day'])"
      ],
      "metadata": {
        "colab": {
          "base_uri": "https://localhost:8080/",
          "height": 661
        },
        "id": "jXvgAJLu4vR9",
        "outputId": "2ee677ee-4e55-4ebf-8173-ae18eee9a388"
      },
      "execution_count": null,
      "outputs": [
        {
          "output_type": "execute_result",
          "data": {
            "text/plain": [
              "(array([ 5514.,     0.,     0.,     0.,     0.,     0.,     0.,     0.,\n",
              "            0., 11865.]),\n",
              " array([0. , 0.1, 0.2, 0.3, 0.4, 0.5, 0.6, 0.7, 0.8, 0.9, 1. ]),\n",
              " <a list of 10 Patch objects>)"
            ]
          },
          "metadata": {},
          "execution_count": 320
        },
        {
          "output_type": "display_data",
          "data": {
            "text/plain": [
              "<Figure size 1080x720 with 1 Axes>"
            ],
            "image/png": "[encoded data removed]"
          },
          "metadata": {
            "needs_background": "light"
          }
        }
      ]
    },
    {
      "cell_type": "markdown",
      "source": [
        "More than half of the userbase use the bikeshare service during the weekdays. This might indicate that people might use the bike to commute."
      ],
      "metadata": {
        "id": "VJXERyFRytiO"
      }
    },
    {
      "cell_type": "code",
      "source": [
        "# boxplot after data transformation\n",
        "n_outlier= (df-df.min())/(df.max()-df.min())\n",
        "n_outlier.boxplot(figsize=(30,20), color='#2e59a8')"
      ],
      "metadata": {
        "id": "Wthsw2nJVz8p",
        "outputId": "c3c2586a-9423-456b-9875-7b19d62128a1",
        "colab": {
          "base_uri": "https://localhost:8080/",
          "height": 1000
        }
      },
      "execution_count": null,
      "outputs": [
        {
          "output_type": "execute_result",
          "data": {
            "text/plain": [
              "<matplotlib.axes._subplots.AxesSubplot at 0x7ff905928810>"
            ]
          },
          "metadata": {},
          "execution_count": 321
        },
        {
          "output_type": "display_data",
          "data": {
            "text/plain": [
              "<Figure size 2160x1440 with 1 Axes>"
            ],
            "image/png": "[encoded data removed]"
          },
          "metadata": {
            "needs_background": "light"
          }
        }
      ]
    },
    {
      "cell_type": "markdown",
      "source": [
        "Apart from the target variables(casual users, registered users and total users), there are not many unexpected outliers in this dataset. The region(s) from which this data has been sourced has more humid days in a given and a few days where it is dry. Also, the region(s) only get a couple windy days.  "
      ],
      "metadata": {
        "id": "02lLj09b5MY1"
      }
    },
    {
      "cell_type": "markdown",
      "source": [
        "##**Change over time**"
      ],
      "metadata": {
        "id": "RSbv-V9X9Mmt"
      }
    },
    {
      "cell_type": "code",
      "source": [
        "import collections\n",
        "\n",
        "#create a dictionary to map month(key) and count of users(value)\n",
        "mapping = collections.defaultdict(int)\n",
        "\n",
        "for month,val in zip(df['Month'].tolist(),df['Total Users'].tolist()):\n",
        "    mapping[month] += val\n",
        "\n",
        "#display bar graph\n",
        "make_size(15,10)\n",
        "plt.bar(mapping.keys(),mapping.values())\n"
      ],
      "metadata": {
        "colab": {
          "base_uri": "https://localhost:8080/",
          "height": 609
        },
        "id": "SqplDsUiW5BR",
        "outputId": "209cdfaa-1926-487a-8ef5-bd463dd9b65d"
      },
      "execution_count": null,
      "outputs": [
        {
          "output_type": "execute_result",
          "data": {
            "text/plain": [
              "<BarContainer object of 12 artists>"
            ]
          },
          "metadata": {},
          "execution_count": 322
        },
        {
          "output_type": "display_data",
          "data": {
            "text/plain": [
              "<Figure size 1080x720 with 1 Axes>"
            ],
            "image/png": "[encoded data removed]"
          },
          "metadata": {
            "needs_background": "light"
          }
        }
      ]
    },
    {
      "cell_type": "markdown",
      "source": [
        "Bike sales starts increasing during the months of spring and hits peak during the summer months and then it starts to slowly decrease in fall, and finally hits rock bottom in january. All these observations look very reasonable that bolster the integrity of the dataset."
      ],
      "metadata": {
        "id": "c-aaCfkG8n30"
      }
    },
    {
      "cell_type": "code",
      "source": [
        "make_size(12,10)\n",
        "plt.plot(list(mapping.keys()),list(mapping.values()))\n"
      ],
      "metadata": {
        "colab": {
          "base_uri": "https://localhost:8080/",
          "height": 609
        },
        "id": "9kTbRboqZ3Pa",
        "outputId": "0f0178e6-b5d5-4b35-c893-5adfc850f650"
      },
      "execution_count": null,
      "outputs": [
        {
          "output_type": "execute_result",
          "data": {
            "text/plain": [
              "[<matplotlib.lines.Line2D at 0x7ff9056c4090>]"
            ]
          },
          "metadata": {},
          "execution_count": 323
        },
        {
          "output_type": "display_data",
          "data": {
            "text/plain": [
              "<Figure size 864x720 with 1 Axes>"
            ],
            "image/png": "[encoded data removed]"
          },
          "metadata": {
            "needs_background": "light"
          }
        }
      ]
    },
    {
      "cell_type": "code",
      "source": [
        "df.corr()"
      ],
      "metadata": {
        "colab": {
          "base_uri": "https://localhost:8080/",
          "height": 488
        },
        "id": "c6nvj85q55N0",
        "outputId": "657d3548-5b1c-454b-c0d1-3a5d03f4dfe9"
      },
      "execution_count": null,
      "outputs": [
        {
          "output_type": "execute_result",
          "data": {
            "text/plain": [
              "                        Month    Season      Hour   Holiday  Day of the Week  \\\n",
              "Month                1.000000  0.214783 -0.005772  0.018430         0.010400   \n",
              "Season               0.214783  1.000000  0.004931  0.055948        -0.003163   \n",
              "Hour                -0.005772  0.004931  1.000000  0.000479        -0.003498   \n",
              "Holiday              0.018430  0.055948  0.000479  1.000000        -0.102088   \n",
              "Day of the Week      0.010400 -0.003163 -0.003498 -0.102088         1.000000   \n",
              "Working Day         -0.003477 -0.036159  0.002285 -0.252471         0.035955   \n",
              "Weather Type         0.005400  0.040452 -0.020203 -0.017036         0.003311   \n",
              "Temperature F        0.201731 -0.470806  0.137626 -0.027356        -0.001806   \n",
              "Temperature Feels F  0.208102 -0.469271  0.133758 -0.030975        -0.008817   \n",
              "Humidity             0.164411  0.014750 -0.276498 -0.010588        -0.037158   \n",
              "Wind Speed          -0.135387 -0.038742  0.137253  0.003985         0.011504   \n",
              "Casual Users         0.068457 -0.227260  0.301202  0.031564         0.032721   \n",
              "Registered Users     0.122273 -0.099586  0.374141 -0.047345         0.021578   \n",
              "Total Users          0.120638 -0.144872  0.394071 -0.030927         0.026900   \n",
              "\n",
              "                     Working Day  Weather Type  Temperature F  \\\n",
              "Month                  -0.003477      0.005400       0.201731   \n",
              "Season                 -0.036159      0.040452      -0.470806   \n",
              "Hour                    0.002285     -0.020203       0.137626   \n",
              "Holiday                -0.252471     -0.017036      -0.027356   \n",
              "Day of the Week         0.035955      0.003311      -0.001806   \n",
              "Working Day             1.000000      0.044672       0.055396   \n",
              "Weather Type            0.044672      1.000000      -0.102601   \n",
              "Temperature F           0.055396     -0.102601       1.000000   \n",
              "Temperature Feels F     0.054665     -0.105571       0.987677   \n",
              "Humidity                0.015688      0.418130      -0.069890   \n",
              "Wind Speed             -0.011831      0.026226      -0.023115   \n",
              "Casual Users           -0.300942     -0.152628       0.459626   \n",
              "Registered Users        0.134326     -0.120966       0.335373   \n",
              "Total Users             0.030284     -0.142426       0.404785   \n",
              "\n",
              "                     Temperature Feels F  Humidity  Wind Speed  Casual Users  \\\n",
              "Month                           0.208102  0.164411   -0.135387      0.068457   \n",
              "Season                         -0.469271  0.014750   -0.038742     -0.227260   \n",
              "Hour                            0.133758 -0.276498    0.137253      0.301202   \n",
              "Holiday                        -0.030975 -0.010588    0.003985      0.031564   \n",
              "Day of the Week                -0.008817 -0.037158    0.011504      0.032721   \n",
              "Working Day                     0.054665  0.015688   -0.011831     -0.300942   \n",
              "Weather Type                   -0.105571  0.418130    0.026226     -0.152628   \n",
              "Temperature F                   0.987677 -0.069890   -0.023115      0.459626   \n",
              "Temperature Feels F             1.000000 -0.051936   -0.062326      0.454089   \n",
              "Humidity                       -0.051936  1.000000   -0.290109     -0.347028   \n",
              "Wind Speed                     -0.062326 -0.290109    1.000000      0.090292   \n",
              "Casual Users                    0.454089 -0.347028    0.090292      1.000000   \n",
              "Registered Users                0.332566 -0.273933    0.082325      0.506618   \n",
              "Total Users                     0.400938 -0.322911    0.093239      0.694564   \n",
              "\n",
              "                     Registered Users  Total Users  \n",
              "Month                        0.122273     0.120638  \n",
              "Season                      -0.099586    -0.144872  \n",
              "Hour                         0.374141     0.394071  \n",
              "Holiday                     -0.047345    -0.030927  \n",
              "Day of the Week              0.021578     0.026900  \n",
              "Working Day                  0.134326     0.030284  \n",
              "Weather Type                -0.120966    -0.142426  \n",
              "Temperature F                0.335373     0.404785  \n",
              "Temperature Feels F          0.332566     0.400938  \n",
              "Humidity                    -0.273933    -0.322911  \n",
              "Wind Speed                   0.082325     0.093239  \n",
              "Casual Users                 0.506618     0.694564  \n",
              "Registered Users             1.000000     0.972151  \n",
              "Total Users                  0.972151     1.000000  "
            ],
            "text/html": [
              "\n",
              "  <div id=\"df-f3469f33-f083-4289-b6fb-7f432613d9fb\">\n",
              "    <div class=\"colab-df-container\">\n",
              "      <div>\n",
              "<style scoped>\n",
              "    .dataframe tbody tr th:only-of-type {\n",
              "        vertical-align: middle;\n",
              "    }\n",
              "\n",
              "    .dataframe tbody tr th {\n",
              "        vertical-align: top;\n",
              "    }\n",
              "\n",
              "    .dataframe thead th {\n",
              "        text-align: right;\n",
              "    }\n",
              "</style>\n",
              "<table border=\"1\" class=\"dataframe\">\n",
              "  <thead>\n",
              "    <tr style=\"text-align: right;\">\n",
              "      <th></th>\n",
              "      <th>Month</th>\n",
              "      <th>Season</th>\n",
              "      <th>Hour</th>\n",
              "      <th>Holiday</th>\n",
              "      <th>Day of the Week</th>\n",
              "      <th>Working Day</th>\n",
              "      <th>Weather Type</th>\n",
              "      <th>Temperature F</th>\n",
              "      <th>Temperature Feels F</th>\n",
              "      <th>Humidity</th>\n",
              "      <th>Wind Speed</th>\n",
              "      <th>Casual Users</th>\n",
              "      <th>Registered Users</th>\n",
              "      <th>Total Users</th>\n",
              "    </tr>\n",
              "  </thead>\n",
              "  <tbody>\n",
              "    <tr>\n",
              "      <th>Month</th>\n",
              "      <td>1.000000</td>\n",
              "      <td>0.214783</td>\n",
              "      <td>-0.005772</td>\n",
              "      <td>0.018430</td>\n",
              "      <td>0.010400</td>\n",
              "      <td>-0.003477</td>\n",
              "      <td>0.005400</td>\n",
              "      <td>0.201731</td>\n",
              "      <td>0.208102</td>\n",
              "      <td>0.164411</td>\n",
              "      <td>-0.135387</td>\n",
              "      <td>0.068457</td>\n",
              "      <td>0.122273</td>\n",
              "      <td>0.120638</td>\n",
              "    </tr>\n",
              "    <tr>\n",
              "      <th>Season</th>\n",
              "      <td>0.214783</td>\n",
              "      <td>1.000000</td>\n",
              "      <td>0.004931</td>\n",
              "      <td>0.055948</td>\n",
              "      <td>-0.003163</td>\n",
              "      <td>-0.036159</td>\n",
              "      <td>0.040452</td>\n",
              "      <td>-0.470806</td>\n",
              "      <td>-0.469271</td>\n",
              "      <td>0.014750</td>\n",
              "      <td>-0.038742</td>\n",
              "      <td>-0.227260</td>\n",
              "      <td>-0.099586</td>\n",
              "      <td>-0.144872</td>\n",
              "    </tr>\n",
              "    <tr>\n",
              "      <th>Hour</th>\n",
              "      <td>-0.005772</td>\n",
              "      <td>0.004931</td>\n",
              "      <td>1.000000</td>\n",
              "      <td>0.000479</td>\n",
              "      <td>-0.003498</td>\n",
              "      <td>0.002285</td>\n",
              "      <td>-0.020203</td>\n",
              "      <td>0.137626</td>\n",
              "      <td>0.133758</td>\n",
              "      <td>-0.276498</td>\n",
              "      <td>0.137253</td>\n",
              "      <td>0.301202</td>\n",
              "      <td>0.374141</td>\n",
              "      <td>0.394071</td>\n",
              "    </tr>\n",
              "    <tr>\n",
              "      <th>Holiday</th>\n",
              "      <td>0.018430</td>\n",
              "      <td>0.055948</td>\n",
              "      <td>0.000479</td>\n",
              "      <td>1.000000</td>\n",
              "      <td>-0.102088</td>\n",
              "      <td>-0.252471</td>\n",
              "      <td>-0.017036</td>\n",
              "      <td>-0.027356</td>\n",
              "      <td>-0.030975</td>\n",
              "      <td>-0.010588</td>\n",
              "      <td>0.003985</td>\n",
              "      <td>0.031564</td>\n",
              "      <td>-0.047345</td>\n",
              "      <td>-0.030927</td>\n",
              "    </tr>\n",
              "    <tr>\n",
              "      <th>Day of the Week</th>\n",
              "      <td>0.010400</td>\n",
              "      <td>-0.003163</td>\n",
              "      <td>-0.003498</td>\n",
              "      <td>-0.102088</td>\n",
              "      <td>1.000000</td>\n",
              "      <td>0.035955</td>\n",
              "      <td>0.003311</td>\n",
              "      <td>-0.001806</td>\n",
              "      <td>-0.008817</td>\n",
              "      <td>-0.037158</td>\n",
              "      <td>0.011504</td>\n",
              "      <td>0.032721</td>\n",
              "      <td>0.021578</td>\n",
              "      <td>0.026900</td>\n",
              "    </tr>\n",
              "    <tr>\n",
              "      <th>Working Day</th>\n",
              "      <td>-0.003477</td>\n",
              "      <td>-0.036159</td>\n",
              "      <td>0.002285</td>\n",
              "      <td>-0.252471</td>\n",
              "      <td>0.035955</td>\n",
              "      <td>1.000000</td>\n",
              "      <td>0.044672</td>\n",
              "      <td>0.055396</td>\n",
              "      <td>0.054665</td>\n",
              "      <td>0.015688</td>\n",
              "      <td>-0.011831</td>\n",
              "      <td>-0.300942</td>\n",
              "      <td>0.134326</td>\n",
              "      <td>0.030284</td>\n",
              "    </tr>\n",
              "    <tr>\n",
              "      <th>Weather Type</th>\n",
              "      <td>0.005400</td>\n",
              "      <td>0.040452</td>\n",
              "      <td>-0.020203</td>\n",
              "      <td>-0.017036</td>\n",
              "      <td>0.003311</td>\n",
              "      <td>0.044672</td>\n",
              "      <td>1.000000</td>\n",
              "      <td>-0.102601</td>\n",
              "      <td>-0.105571</td>\n",
              "      <td>0.418130</td>\n",
              "      <td>0.026226</td>\n",
              "      <td>-0.152628</td>\n",
              "      <td>-0.120966</td>\n",
              "      <td>-0.142426</td>\n",
              "    </tr>\n",
              "    <tr>\n",
              "      <th>Temperature F</th>\n",
              "      <td>0.201731</td>\n",
              "      <td>-0.470806</td>\n",
              "      <td>0.137626</td>\n",
              "      <td>-0.027356</td>\n",
              "      <td>-0.001806</td>\n",
              "      <td>0.055396</td>\n",
              "      <td>-0.102601</td>\n",
              "      <td>1.000000</td>\n",
              "      <td>0.987677</td>\n",
              "      <td>-0.069890</td>\n",
              "      <td>-0.023115</td>\n",
              "      <td>0.459626</td>\n",
              "      <td>0.335373</td>\n",
              "      <td>0.404785</td>\n",
              "    </tr>\n",
              "    <tr>\n",
              "      <th>Temperature Feels F</th>\n",
              "      <td>0.208102</td>\n",
              "      <td>-0.469271</td>\n",
              "      <td>0.133758</td>\n",
              "      <td>-0.030975</td>\n",
              "      <td>-0.008817</td>\n",
              "      <td>0.054665</td>\n",
              "      <td>-0.105571</td>\n",
              "      <td>0.987677</td>\n",
              "      <td>1.000000</td>\n",
              "      <td>-0.051936</td>\n",
              "      <td>-0.062326</td>\n",
              "      <td>0.454089</td>\n",
              "      <td>0.332566</td>\n",
              "      <td>0.400938</td>\n",
              "    </tr>\n",
              "    <tr>\n",
              "      <th>Humidity</th>\n",
              "      <td>0.164411</td>\n",
              "      <td>0.014750</td>\n",
              "      <td>-0.276498</td>\n",
              "      <td>-0.010588</td>\n",
              "      <td>-0.037158</td>\n",
              "      <td>0.015688</td>\n",
              "      <td>0.418130</td>\n",
              "      <td>-0.069890</td>\n",
              "      <td>-0.051936</td>\n",
              "      <td>1.000000</td>\n",
              "      <td>-0.290109</td>\n",
              "      <td>-0.347028</td>\n",
              "      <td>-0.273933</td>\n",
              "      <td>-0.322911</td>\n",
              "    </tr>\n",
              "    <tr>\n",
              "      <th>Wind Speed</th>\n",
              "      <td>-0.135387</td>\n",
              "      <td>-0.038742</td>\n",
              "      <td>0.137253</td>\n",
              "      <td>0.003985</td>\n",
              "      <td>0.011504</td>\n",
              "      <td>-0.011831</td>\n",
              "      <td>0.026226</td>\n",
              "      <td>-0.023115</td>\n",
              "      <td>-0.062326</td>\n",
              "      <td>-0.290109</td>\n",
              "      <td>1.000000</td>\n",
              "      <td>0.090292</td>\n",
              "      <td>0.082325</td>\n",
              "      <td>0.093239</td>\n",
              "    </tr>\n",
              "    <tr>\n",
              "      <th>Casual Users</th>\n",
              "      <td>0.068457</td>\n",
              "      <td>-0.227260</td>\n",
              "      <td>0.301202</td>\n",
              "      <td>0.031564</td>\n",
              "      <td>0.032721</td>\n",
              "      <td>-0.300942</td>\n",
              "      <td>-0.152628</td>\n",
              "      <td>0.459626</td>\n",
              "      <td>0.454089</td>\n",
              "      <td>-0.347028</td>\n",
              "      <td>0.090292</td>\n",
              "      <td>1.000000</td>\n",
              "      <td>0.506618</td>\n",
              "      <td>0.694564</td>\n",
              "    </tr>\n",
              "    <tr>\n",
              "      <th>Registered Users</th>\n",
              "      <td>0.122273</td>\n",
              "      <td>-0.099586</td>\n",
              "      <td>0.374141</td>\n",
              "      <td>-0.047345</td>\n",
              "      <td>0.021578</td>\n",
              "      <td>0.134326</td>\n",
              "      <td>-0.120966</td>\n",
              "      <td>0.335373</td>\n",
              "      <td>0.332566</td>\n",
              "      <td>-0.273933</td>\n",
              "      <td>0.082325</td>\n",
              "      <td>0.506618</td>\n",
              "      <td>1.000000</td>\n",
              "      <td>0.972151</td>\n",
              "    </tr>\n",
              "    <tr>\n",
              "      <th>Total Users</th>\n",
              "      <td>0.120638</td>\n",
              "      <td>-0.144872</td>\n",
              "      <td>0.394071</td>\n",
              "      <td>-0.030927</td>\n",
              "      <td>0.026900</td>\n",
              "      <td>0.030284</td>\n",
              "      <td>-0.142426</td>\n",
              "      <td>0.404785</td>\n",
              "      <td>0.400938</td>\n",
              "      <td>-0.322911</td>\n",
              "      <td>0.093239</td>\n",
              "      <td>0.694564</td>\n",
              "      <td>0.972151</td>\n",
              "      <td>1.000000</td>\n",
              "    </tr>\n",
              "  </tbody>\n",
              "</table>\n",
              "</div>\n",
              "      <button class=\"colab-df-convert\" onclick=\"convertToInteractive('df-f3469f33-f083-4289-b6fb-7f432613d9fb')\"\n",
              "              title=\"Convert this dataframe to an interactive table.\"\n",
              "              style=\"display:none;\">\n",
              "        \n",
              "  <svg xmlns=\"http://www.w3.org/2000/svg\" height=\"24px\"viewBox=\"0 0 24 24\"\n",
              "       width=\"24px\">\n",
              "    <path d=\"M0 0h24v24H0V0z\" fill=\"none\"/>\n",
              "    <path d=\"M18.56 5.44l.94 2.06.94-2.06 2.06-.94-2.06-.94-.94-2.06-.94 2.06-2.06.94zm-11 1L8.5 8.5l.94-2.06 2.06-.94-2.06-.94L8.5 2.5l-.94 2.06-2.06.94zm10 10l.94 2.06.94-2.06 2.06-.94-2.06-.94-.94-2.06-.94 2.06-2.06.94z\"/><path d=\"M17.41 7.96l-1.37-1.37c-.4-.4-.92-.59-1.43-.59-.52 0-1.04.2-1.43.59L10.3 9.45l-7.72 7.72c-.78.78-.78 2.05 0 2.83L4 21.41c.39.39.9.59 1.41.59.51 0 1.02-.2 1.41-.59l7.78-7.78 2.81-2.81c.8-.78.8-2.07 0-2.86zM5.41 20L4 18.59l7.72-7.72 1.47 1.35L5.41 20z\"/>\n",
              "  </svg>\n",
              "      </button>\n",
              "      \n",
              "  <style>\n",
              "    .colab-df-container {\n",
              "      display:flex;\n",
              "      flex-wrap:wrap;\n",
              "      gap: 12px;\n",
              "    }\n",
              "\n",
              "    .colab-df-convert {\n",
              "      background-color: #E8F0FE;\n",
              "      border: none;\n",
              "      border-radius: 50%;\n",
              "      cursor: pointer;\n",
              "      display: none;\n",
              "      fill: #1967D2;\n",
              "      height: 32px;\n",
              "      padding: 0 0 0 0;\n",
              "      width: 32px;\n",
              "    }\n",
              "\n",
              "    .colab-df-convert:hover {\n",
              "      background-color: #E2EBFA;\n",
              "      box-shadow: 0px 1px 2px rgba(60, 64, 67, 0.3), 0px 1px 3px 1px rgba(60, 64, 67, 0.15);\n",
              "      fill: #174EA6;\n",
              "    }\n",
              "\n",
              "    [theme=dark] .colab-df-convert {\n",
              "      background-color: #3B4455;\n",
              "      fill: #D2E3FC;\n",
              "    }\n",
              "\n",
              "    [theme=dark] .colab-df-convert:hover {\n",
              "      background-color: #434B5C;\n",
              "      box-shadow: 0px 1px 3px 1px rgba(0, 0, 0, 0.15);\n",
              "      filter: drop-shadow(0px 1px 2px rgba(0, 0, 0, 0.3));\n",
              "      fill: #FFFFFF;\n",
              "    }\n",
              "  </style>\n",
              "\n",
              "      <script>\n",
              "        const buttonEl =\n",
              "          document.querySelector('#df-f3469f33-f083-4289-b6fb-7f432613d9fb button.colab-df-convert');\n",
              "        buttonEl.style.display =\n",
              "          google.colab.kernel.accessAllowed ? 'block' : 'none';\n",
              "\n",
              "        async function convertToInteractive(key) {\n",
              "          const element = document.querySelector('#df-f3469f33-f083-4289-b6fb-7f432613d9fb');\n",
              "          const dataTable =\n",
              "            await google.colab.kernel.invokeFunction('convertToInteractive',\n",
              "                                                     [key], {});\n",
              "          if (!dataTable) return;\n",
              "\n",
              "          const docLinkHtml = 'Like what you see? Visit the ' +\n",
              "            '<a target=\"_blank\" href=https://colab.research.google.com/notebooks/data_table.ipynb>data table notebook</a>'\n",
              "            + ' to learn more about interactive tables.';\n",
              "          element.innerHTML = '';\n",
              "          dataTable['output_type'] = 'display_data';\n",
              "          await google.colab.output.renderOutput(dataTable, element);\n",
              "          const docLink = document.createElement('div');\n",
              "          docLink.innerHTML = docLinkHtml;\n",
              "          element.appendChild(docLink);\n",
              "        }\n",
              "      </script>\n",
              "    </div>\n",
              "  </div>\n",
              "  "
            ]
          },
          "metadata": {},
          "execution_count": 324
        }
      ]
    },
    {
      "cell_type": "code",
      "source": [
        "#create heatmap to display correlation\n",
        "make_size(25,15)\n",
        "sns.heatmap(df.corr(),annot=True)"
      ],
      "metadata": {
        "colab": {
          "base_uri": "https://localhost:8080/",
          "height": 975
        },
        "id": "4GarHCdP55E4",
        "outputId": "ea52da5b-1e18-4a82-bc67-5d1ea75a768c"
      },
      "execution_count": null,
      "outputs": [
        {
          "output_type": "execute_result",
          "data": {
            "text/plain": [
              "<matplotlib.axes._subplots.AxesSubplot at 0x7ff905847590>"
            ]
          },
          "metadata": {},
          "execution_count": 325
        },
        {
          "output_type": "display_data",
          "data": {
            "text/plain": [
              "<Figure size 1800x1080 with 2 Axes>"
            ],
            "image/png": "[encoded data removed]"
          },
          "metadata": {
            "needs_background": "light"
          }
        }
      ]
    },
    {
      "cell_type": "markdown",
      "source": [
        "#**Feature Engineering**"
      ],
      "metadata": {
        "id": "tz3qe4uY4Zvj"
      }
    },
    {
      "cell_type": "markdown",
      "source": [
        "##**Data Scaling**"
      ],
      "metadata": {
        "id": "sUDyD8C_9bfQ"
      }
    },
    {
      "cell_type": "markdown",
      "source": [
        "We decided to scale the entire dataset and make all the features have the same range since we are doing the linear regression and Support Vector Machine models."
      ],
      "metadata": {
        "id": "mWrwn1FT_SnA"
      }
    },
    {
      "cell_type": "code",
      "source": [
        "from sklearn.preprocessing import MinMaxScaler\n",
        "\n",
        "scaler = MinMaxScaler()\n",
        "cols = df.columns\n",
        "for col in cols:\n",
        "    df[col] = scaler.fit_transform(df[col].to_numpy().reshape(-1, 1))\n",
        "\n",
        "df.head()"
      ],
      "metadata": {
        "colab": {
          "base_uri": "https://localhost:8080/",
          "height": 206
        },
        "id": "SeX42bG8zcJ7",
        "outputId": "9e2ae0a4-23ee-4dd5-f3ab-d0de7d0690fa"
      },
      "execution_count": null,
      "outputs": [
        {
          "output_type": "execute_result",
          "data": {
            "text/plain": [
              "   Month  Season      Hour  Holiday  Day of the Week  Working Day  \\\n",
              "0    0.0     1.0  0.000000      0.0              1.0          0.0   \n",
              "1    0.0     1.0  0.043478      0.0              1.0          0.0   \n",
              "2    0.0     1.0  0.086957      0.0              1.0          0.0   \n",
              "3    0.0     1.0  0.130435      0.0              1.0          0.0   \n",
              "4    0.0     1.0  0.173913      0.0              1.0          0.0   \n",
              "\n",
              "   Weather Type  Temperature F  Temperature Feels F  Humidity  Wind Speed  \\\n",
              "0           0.0       0.224586             0.287879      0.81         0.0   \n",
              "1           0.0       0.204492             0.272727      0.80         0.0   \n",
              "2           0.0       0.204492             0.272727      0.80         0.0   \n",
              "3           0.0       0.224586             0.287879      0.75         0.0   \n",
              "4           0.0       0.224586             0.287879      0.75         0.0   \n",
              "\n",
              "   Casual Users  Registered Users  Total Users  \n",
              "0      0.008174          0.014673     0.015369  \n",
              "1      0.021798          0.036117     0.039959  \n",
              "2      0.013624          0.030474     0.031762  \n",
              "3      0.008174          0.011287     0.012295  \n",
              "4      0.000000          0.001129     0.000000  "
            ],
            "text/html": [
              "\n",
              "  <div id=\"df-fef04ffe-793d-4cd4-9520-a5f241b1b1f7\">\n",
              "    <div class=\"colab-df-container\">\n",
              "      <div>\n",
              "<style scoped>\n",
              "    .dataframe tbody tr th:only-of-type {\n",
              "        vertical-align: middle;\n",
              "    }\n",
              "\n",
              "    .dataframe tbody tr th {\n",
              "        vertical-align: top;\n",
              "    }\n",
              "\n",
              "    .dataframe thead th {\n",
              "        text-align: right;\n",
              "    }\n",
              "</style>\n",
              "<table border=\"1\" class=\"dataframe\">\n",
              "  <thead>\n",
              "    <tr style=\"text-align: right;\">\n",
              "      <th></th>\n",
              "      <th>Month</th>\n",
              "      <th>Season</th>\n",
              "      <th>Hour</th>\n",
              "      <th>Holiday</th>\n",
              "      <th>Day of the Week</th>\n",
              "      <th>Working Day</th>\n",
              "      <th>Weather Type</th>\n",
              "      <th>Temperature F</th>\n",
              "      <th>Temperature Feels F</th>\n",
              "      <th>Humidity</th>\n",
              "      <th>Wind Speed</th>\n",
              "      <th>Casual Users</th>\n",
              "      <th>Registered Users</th>\n",
              "      <th>Total Users</th>\n",
              "    </tr>\n",
              "  </thead>\n",
              "  <tbody>\n",
              "    <tr>\n",
              "      <th>0</th>\n",
              "      <td>0.0</td>\n",
              "      <td>1.0</td>\n",
              "      <td>0.000000</td>\n",
              "      <td>0.0</td>\n",
              "      <td>1.0</td>\n",
              "      <td>0.0</td>\n",
              "      <td>0.0</td>\n",
              "      <td>0.224586</td>\n",
              "      <td>0.287879</td>\n",
              "      <td>0.81</td>\n",
              "      <td>0.0</td>\n",
              "      <td>0.008174</td>\n",
              "      <td>0.014673</td>\n",
              "      <td>0.015369</td>\n",
              "    </tr>\n",
              "    <tr>\n",
              "      <th>1</th>\n",
              "      <td>0.0</td>\n",
              "      <td>1.0</td>\n",
              "      <td>0.043478</td>\n",
              "      <td>0.0</td>\n",
              "      <td>1.0</td>\n",
              "      <td>0.0</td>\n",
              "      <td>0.0</td>\n",
              "      <td>0.204492</td>\n",
              "      <td>0.272727</td>\n",
              "      <td>0.80</td>\n",
              "      <td>0.0</td>\n",
              "      <td>0.021798</td>\n",
              "      <td>0.036117</td>\n",
              "      <td>0.039959</td>\n",
              "    </tr>\n",
              "    <tr>\n",
              "      <th>2</th>\n",
              "      <td>0.0</td>\n",
              "      <td>1.0</td>\n",
              "      <td>0.086957</td>\n",
              "      <td>0.0</td>\n",
              "      <td>1.0</td>\n",
              "      <td>0.0</td>\n",
              "      <td>0.0</td>\n",
              "      <td>0.204492</td>\n",
              "      <td>0.272727</td>\n",
              "      <td>0.80</td>\n",
              "      <td>0.0</td>\n",
              "      <td>0.013624</td>\n",
              "      <td>0.030474</td>\n",
              "      <td>0.031762</td>\n",
              "    </tr>\n",
              "    <tr>\n",
              "      <th>3</th>\n",
              "      <td>0.0</td>\n",
              "      <td>1.0</td>\n",
              "      <td>0.130435</td>\n",
              "      <td>0.0</td>\n",
              "      <td>1.0</td>\n",
              "      <td>0.0</td>\n",
              "      <td>0.0</td>\n",
              "      <td>0.224586</td>\n",
              "      <td>0.287879</td>\n",
              "      <td>0.75</td>\n",
              "      <td>0.0</td>\n",
              "      <td>0.008174</td>\n",
              "      <td>0.011287</td>\n",
              "      <td>0.012295</td>\n",
              "    </tr>\n",
              "    <tr>\n",
              "      <th>4</th>\n",
              "      <td>0.0</td>\n",
              "      <td>1.0</td>\n",
              "      <td>0.173913</td>\n",
              "      <td>0.0</td>\n",
              "      <td>1.0</td>\n",
              "      <td>0.0</td>\n",
              "      <td>0.0</td>\n",
              "      <td>0.224586</td>\n",
              "      <td>0.287879</td>\n",
              "      <td>0.75</td>\n",
              "      <td>0.0</td>\n",
              "      <td>0.000000</td>\n",
              "      <td>0.001129</td>\n",
              "      <td>0.000000</td>\n",
              "    </tr>\n",
              "  </tbody>\n",
              "</table>\n",
              "</div>\n",
              "      <button class=\"colab-df-convert\" onclick=\"convertToInteractive('df-fef04ffe-793d-4cd4-9520-a5f241b1b1f7')\"\n",
              "              title=\"Convert this dataframe to an interactive table.\"\n",
              "              style=\"display:none;\">\n",
              "        \n",
              "  <svg xmlns=\"http://www.w3.org/2000/svg\" height=\"24px\"viewBox=\"0 0 24 24\"\n",
              "       width=\"24px\">\n",
              "    <path d=\"M0 0h24v24H0V0z\" fill=\"none\"/>\n",
              "    <path d=\"M18.56 5.44l.94 2.06.94-2.06 2.06-.94-2.06-.94-.94-2.06-.94 2.06-2.06.94zm-11 1L8.5 8.5l.94-2.06 2.06-.94-2.06-.94L8.5 2.5l-.94 2.06-2.06.94zm10 10l.94 2.06.94-2.06 2.06-.94-2.06-.94-.94-2.06-.94 2.06-2.06.94z\"/><path d=\"M17.41 7.96l-1.37-1.37c-.4-.4-.92-.59-1.43-.59-.52 0-1.04.2-1.43.59L10.3 9.45l-7.72 7.72c-.78.78-.78 2.05 0 2.83L4 21.41c.39.39.9.59 1.41.59.51 0 1.02-.2 1.41-.59l7.78-7.78 2.81-2.81c.8-.78.8-2.07 0-2.86zM5.41 20L4 18.59l7.72-7.72 1.47 1.35L5.41 20z\"/>\n",
              "  </svg>\n",
              "      </button>\n",
              "      \n",
              "  <style>\n",
              "    .colab-df-container {\n",
              "      display:flex;\n",
              "      flex-wrap:wrap;\n",
              "      gap: 12px;\n",
              "    }\n",
              "\n",
              "    .colab-df-convert {\n",
              "      background-color: #E8F0FE;\n",
              "      border: none;\n",
              "      border-radius: 50%;\n",
              "      cursor: pointer;\n",
              "      display: none;\n",
              "      fill: #1967D2;\n",
              "      height: 32px;\n",
              "      padding: 0 0 0 0;\n",
              "      width: 32px;\n",
              "    }\n",
              "\n",
              "    .colab-df-convert:hover {\n",
              "      background-color: #E2EBFA;\n",
              "      box-shadow: 0px 1px 2px rgba(60, 64, 67, 0.3), 0px 1px 3px 1px rgba(60, 64, 67, 0.15);\n",
              "      fill: #174EA6;\n",
              "    }\n",
              "\n",
              "    [theme=dark] .colab-df-convert {\n",
              "      background-color: #3B4455;\n",
              "      fill: #D2E3FC;\n",
              "    }\n",
              "\n",
              "    [theme=dark] .colab-df-convert:hover {\n",
              "      background-color: #434B5C;\n",
              "      box-shadow: 0px 1px 3px 1px rgba(0, 0, 0, 0.15);\n",
              "      filter: drop-shadow(0px 1px 2px rgba(0, 0, 0, 0.3));\n",
              "      fill: #FFFFFF;\n",
              "    }\n",
              "  </style>\n",
              "\n",
              "      <script>\n",
              "        const buttonEl =\n",
              "          document.querySelector('#df-fef04ffe-793d-4cd4-9520-a5f241b1b1f7 button.colab-df-convert');\n",
              "        buttonEl.style.display =\n",
              "          google.colab.kernel.accessAllowed ? 'block' : 'none';\n",
              "\n",
              "        async function convertToInteractive(key) {\n",
              "          const element = document.querySelector('#df-fef04ffe-793d-4cd4-9520-a5f241b1b1f7');\n",
              "          const dataTable =\n",
              "            await google.colab.kernel.invokeFunction('convertToInteractive',\n",
              "                                                     [key], {});\n",
              "          if (!dataTable) return;\n",
              "\n",
              "          const docLinkHtml = 'Like what you see? Visit the ' +\n",
              "            '<a target=\"_blank\" href=https://colab.research.google.com/notebooks/data_table.ipynb>data table notebook</a>'\n",
              "            + ' to learn more about interactive tables.';\n",
              "          element.innerHTML = '';\n",
              "          dataTable['output_type'] = 'display_data';\n",
              "          await google.colab.output.renderOutput(dataTable, element);\n",
              "          const docLink = document.createElement('div');\n",
              "          docLink.innerHTML = docLinkHtml;\n",
              "          element.appendChild(docLink);\n",
              "        }\n",
              "      </script>\n",
              "    </div>\n",
              "  </div>\n",
              "  "
            ]
          },
          "metadata": {},
          "execution_count": 326
        }
      ]
    },
    {
      "cell_type": "markdown",
      "source": [
        "##**Dimensionality Reduction**"
      ],
      "metadata": {
        "id": "K7ITdVtf9jJi"
      }
    },
    {
      "cell_type": "markdown",
      "source": [
        "Using our correlation graph in the above section, we came to conclusion that season and month have a high correlation of .21, and as a result give rise to the multicollinearity problem. So, we decided to remove it from the dataset to reduce some of the dimesions. By the same logic we also removed temperature F. For the features - Registered Users and Casual Users, they are two parts of Total users and as such are not an independant variable, so we remove them from the dataset. "
      ],
      "metadata": {
        "id": "3PJ5DTLo9okJ"
      }
    },
    {
      "cell_type": "code",
      "source": [
        "# drops the aforementioned columns from the dataframe\n",
        "df.drop('Season',axis = 1, inplace = True)\n",
        "df.drop('Temperature F',axis = 1, inplace = True)\n",
        "df.drop('Registered Users',axis = 1, inplace = True)\n",
        "df.drop('Casual Users',axis = 1, inplace = True)\n",
        "\n",
        "df.head()"
      ],
      "metadata": {
        "colab": {
          "base_uri": "https://localhost:8080/",
          "height": 206
        },
        "id": "35V8bAB9s-bq",
        "outputId": "82397af1-9043-413c-f626-49eacac83632"
      },
      "execution_count": null,
      "outputs": [
        {
          "output_type": "execute_result",
          "data": {
            "text/plain": [
              "   Month      Hour  Holiday  Day of the Week  Working Day  Weather Type  \\\n",
              "0    0.0  0.000000      0.0              1.0          0.0           0.0   \n",
              "1    0.0  0.043478      0.0              1.0          0.0           0.0   \n",
              "2    0.0  0.086957      0.0              1.0          0.0           0.0   \n",
              "3    0.0  0.130435      0.0              1.0          0.0           0.0   \n",
              "4    0.0  0.173913      0.0              1.0          0.0           0.0   \n",
              "\n",
              "   Temperature Feels F  Humidity  Wind Speed  Total Users  \n",
              "0             0.287879      0.81         0.0     0.015369  \n",
              "1             0.272727      0.80         0.0     0.039959  \n",
              "2             0.272727      0.80         0.0     0.031762  \n",
              "3             0.287879      0.75         0.0     0.012295  \n",
              "4             0.287879      0.75         0.0     0.000000  "
            ],
            "text/html": [
              "\n",
              "  <div id=\"df-46d3fd54-73cd-40bd-a9f7-bf12b904b76c\">\n",
              "    <div class=\"colab-df-container\">\n",
              "      <div>\n",
              "<style scoped>\n",
              "    .dataframe tbody tr th:only-of-type {\n",
              "        vertical-align: middle;\n",
              "    }\n",
              "\n",
              "    .dataframe tbody tr th {\n",
              "        vertical-align: top;\n",
              "    }\n",
              "\n",
              "    .dataframe thead th {\n",
              "        text-align: right;\n",
              "    }\n",
              "</style>\n",
              "<table border=\"1\" class=\"dataframe\">\n",
              "  <thead>\n",
              "    <tr style=\"text-align: right;\">\n",
              "      <th></th>\n",
              "      <th>Month</th>\n",
              "      <th>Hour</th>\n",
              "      <th>Holiday</th>\n",
              "      <th>Day of the Week</th>\n",
              "      <th>Working Day</th>\n",
              "      <th>Weather Type</th>\n",
              "      <th>Temperature Feels F</th>\n",
              "      <th>Humidity</th>\n",
              "      <th>Wind Speed</th>\n",
              "      <th>Total Users</th>\n",
              "    </tr>\n",
              "  </thead>\n",
              "  <tbody>\n",
              "    <tr>\n",
              "      <th>0</th>\n",
              "      <td>0.0</td>\n",
              "      <td>0.000000</td>\n",
              "      <td>0.0</td>\n",
              "      <td>1.0</td>\n",
              "      <td>0.0</td>\n",
              "      <td>0.0</td>\n",
              "      <td>0.287879</td>\n",
              "      <td>0.81</td>\n",
              "      <td>0.0</td>\n",
              "      <td>0.015369</td>\n",
              "    </tr>\n",
              "    <tr>\n",
              "      <th>1</th>\n",
              "      <td>0.0</td>\n",
              "      <td>0.043478</td>\n",
              "      <td>0.0</td>\n",
              "      <td>1.0</td>\n",
              "      <td>0.0</td>\n",
              "      <td>0.0</td>\n",
              "      <td>0.272727</td>\n",
              "      <td>0.80</td>\n",
              "      <td>0.0</td>\n",
              "      <td>0.039959</td>\n",
              "    </tr>\n",
              "    <tr>\n",
              "      <th>2</th>\n",
              "      <td>0.0</td>\n",
              "      <td>0.086957</td>\n",
              "      <td>0.0</td>\n",
              "      <td>1.0</td>\n",
              "      <td>0.0</td>\n",
              "      <td>0.0</td>\n",
              "      <td>0.272727</td>\n",
              "      <td>0.80</td>\n",
              "      <td>0.0</td>\n",
              "      <td>0.031762</td>\n",
              "    </tr>\n",
              "    <tr>\n",
              "      <th>3</th>\n",
              "      <td>0.0</td>\n",
              "      <td>0.130435</td>\n",
              "      <td>0.0</td>\n",
              "      <td>1.0</td>\n",
              "      <td>0.0</td>\n",
              "      <td>0.0</td>\n",
              "      <td>0.287879</td>\n",
              "      <td>0.75</td>\n",
              "      <td>0.0</td>\n",
              "      <td>0.012295</td>\n",
              "    </tr>\n",
              "    <tr>\n",
              "      <th>4</th>\n",
              "      <td>0.0</td>\n",
              "      <td>0.173913</td>\n",
              "      <td>0.0</td>\n",
              "      <td>1.0</td>\n",
              "      <td>0.0</td>\n",
              "      <td>0.0</td>\n",
              "      <td>0.287879</td>\n",
              "      <td>0.75</td>\n",
              "      <td>0.0</td>\n",
              "      <td>0.000000</td>\n",
              "    </tr>\n",
              "  </tbody>\n",
              "</table>\n",
              "</div>\n",
              "      <button class=\"colab-df-convert\" onclick=\"convertToInteractive('df-46d3fd54-73cd-40bd-a9f7-bf12b904b76c')\"\n",
              "              title=\"Convert this dataframe to an interactive table.\"\n",
              "              style=\"display:none;\">\n",
              "        \n",
              "  <svg xmlns=\"http://www.w3.org/2000/svg\" height=\"24px\"viewBox=\"0 0 24 24\"\n",
              "       width=\"24px\">\n",
              "    <path d=\"M0 0h24v24H0V0z\" fill=\"none\"/>\n",
              "    <path d=\"M18.56 5.44l.94 2.06.94-2.06 2.06-.94-2.06-.94-.94-2.06-.94 2.06-2.06.94zm-11 1L8.5 8.5l.94-2.06 2.06-.94-2.06-.94L8.5 2.5l-.94 2.06-2.06.94zm10 10l.94 2.06.94-2.06 2.06-.94-2.06-.94-.94-2.06-.94 2.06-2.06.94z\"/><path d=\"M17.41 7.96l-1.37-1.37c-.4-.4-.92-.59-1.43-.59-.52 0-1.04.2-1.43.59L10.3 9.45l-7.72 7.72c-.78.78-.78 2.05 0 2.83L4 21.41c.39.39.9.59 1.41.59.51 0 1.02-.2 1.41-.59l7.78-7.78 2.81-2.81c.8-.78.8-2.07 0-2.86zM5.41 20L4 18.59l7.72-7.72 1.47 1.35L5.41 20z\"/>\n",
              "  </svg>\n",
              "      </button>\n",
              "      \n",
              "  <style>\n",
              "    .colab-df-container {\n",
              "      display:flex;\n",
              "      flex-wrap:wrap;\n",
              "      gap: 12px;\n",
              "    }\n",
              "\n",
              "    .colab-df-convert {\n",
              "      background-color: #E8F0FE;\n",
              "      border: none;\n",
              "      border-radius: 50%;\n",
              "      cursor: pointer;\n",
              "      display: none;\n",
              "      fill: #1967D2;\n",
              "      height: 32px;\n",
              "      padding: 0 0 0 0;\n",
              "      width: 32px;\n",
              "    }\n",
              "\n",
              "    .colab-df-convert:hover {\n",
              "      background-color: #E2EBFA;\n",
              "      box-shadow: 0px 1px 2px rgba(60, 64, 67, 0.3), 0px 1px 3px 1px rgba(60, 64, 67, 0.15);\n",
              "      fill: #174EA6;\n",
              "    }\n",
              "\n",
              "    [theme=dark] .colab-df-convert {\n",
              "      background-color: #3B4455;\n",
              "      fill: #D2E3FC;\n",
              "    }\n",
              "\n",
              "    [theme=dark] .colab-df-convert:hover {\n",
              "      background-color: #434B5C;\n",
              "      box-shadow: 0px 1px 3px 1px rgba(0, 0, 0, 0.15);\n",
              "      filter: drop-shadow(0px 1px 2px rgba(0, 0, 0, 0.3));\n",
              "      fill: #FFFFFF;\n",
              "    }\n",
              "  </style>\n",
              "\n",
              "      <script>\n",
              "        const buttonEl =\n",
              "          document.querySelector('#df-46d3fd54-73cd-40bd-a9f7-bf12b904b76c button.colab-df-convert');\n",
              "        buttonEl.style.display =\n",
              "          google.colab.kernel.accessAllowed ? 'block' : 'none';\n",
              "\n",
              "        async function convertToInteractive(key) {\n",
              "          const element = document.querySelector('#df-46d3fd54-73cd-40bd-a9f7-bf12b904b76c');\n",
              "          const dataTable =\n",
              "            await google.colab.kernel.invokeFunction('convertToInteractive',\n",
              "                                                     [key], {});\n",
              "          if (!dataTable) return;\n",
              "\n",
              "          const docLinkHtml = 'Like what you see? Visit the ' +\n",
              "            '<a target=\"_blank\" href=https://colab.research.google.com/notebooks/data_table.ipynb>data table notebook</a>'\n",
              "            + ' to learn more about interactive tables.';\n",
              "          element.innerHTML = '';\n",
              "          dataTable['output_type'] = 'display_data';\n",
              "          await google.colab.output.renderOutput(dataTable, element);\n",
              "          const docLink = document.createElement('div');\n",
              "          docLink.innerHTML = docLinkHtml;\n",
              "          element.appendChild(docLink);\n",
              "        }\n",
              "      </script>\n",
              "    </div>\n",
              "  </div>\n",
              "  "
            ]
          },
          "metadata": {},
          "execution_count": 327
        }
      ]
    },
    {
      "cell_type": "markdown",
      "source": [
        "##**Feature Selection**"
      ],
      "metadata": {
        "id": "YPF5tfvq-hXD"
      }
    },
    {
      "cell_type": "code",
      "source": [
        "# select k best\n",
        "#importing libraries\n",
        "from sklearn.feature_selection import SelectKBest\n",
        "from sklearn.feature_selection import f_regression\n",
        "#declaring target as Total Users column\n",
        "target = df['Total Users']\n",
        "#dropping Total Users from the features\n",
        "features = df.drop(['Total Users'],axis = 1).copy()\n",
        "#fitting the columns into their respective positions\n",
        "select_kbest = SelectKBest(f_regression,k = 5).fit(features,target)\n",
        "features_kbest = select_kbest.get_support()\n",
        "#printing results from kbest\n",
        "print('chosen features: ', features.columns[features_kbest],'\\n')\n",
        "\n",
        "select_kbest.scores_"
      ],
      "metadata": {
        "colab": {
          "base_uri": "https://localhost:8080/"
        },
        "id": "bpbY0y6l6hzY",
        "outputId": "491a3c5c-be7c-4138-a50d-34ae68f5bd5e"
      },
      "execution_count": null,
      "outputs": [
        {
          "output_type": "stream",
          "name": "stdout",
          "text": [
            "chosen features:  Index(['Month', 'Hour', 'Weather Type', 'Temperature Feels F', 'Humidity'], dtype='object') \n",
            "\n"
          ]
        },
        {
          "output_type": "execute_result",
          "data": {
            "text/plain": [
              "array([ 256.63049815, 3194.6142202 ,   16.63698048,   12.58314527,\n",
              "         15.95182279,  359.79450956, 3328.41713713, 2022.84830548,\n",
              "        152.39215152])"
            ]
          },
          "metadata": {},
          "execution_count": 328
        }
      ]
    },
    {
      "cell_type": "code",
      "source": [
        "# print out score for each independent variable in sorted order\n",
        "scores = pd.DataFrame({'Feature Name':features.columns,'Score':select_kbest.scores_}).sort_values(by='Score',ascending=False)\n",
        "print(scores)"
      ],
      "metadata": {
        "colab": {
          "base_uri": "https://localhost:8080/"
        },
        "id": "a4KizVCm7c67",
        "outputId": "4b04633c-db3e-474f-ac17-ccdda26b26a5"
      },
      "execution_count": null,
      "outputs": [
        {
          "output_type": "stream",
          "name": "stdout",
          "text": [
            "          Feature Name        Score\n",
            "6  Temperature Feels F  3328.417137\n",
            "1                 Hour  3194.614220\n",
            "7             Humidity  2022.848305\n",
            "5         Weather Type   359.794510\n",
            "0                Month   256.630498\n",
            "8           Wind Speed   152.392152\n",
            "2              Holiday    16.636980\n",
            "4          Working Day    15.951823\n",
            "3      Day of the Week    12.583145\n"
          ]
        }
      ]
    },
    {
      "cell_type": "code",
      "source": [
        "# Recursive Feature Elimination\n",
        "from sklearn.linear_model import LinearRegression\n",
        "from sklearn.feature_selection import RFE\n",
        "\n",
        "lr = LinearRegression()\n",
        "rfe = RFE(estimator = lr, n_features_to_select = 5 , step = 1)\n",
        "\n",
        "rfe.fit(features,target)\n",
        "rfe_features = features.columns[rfe.support_]\n",
        "print(rfe_features)"
      ],
      "metadata": {
        "colab": {
          "base_uri": "https://localhost:8080/"
        },
        "id": "e0LdTaHA7nIM",
        "outputId": "7e0b9425-3ec0-42b6-abd0-d6ca0b7d7d25"
      },
      "execution_count": null,
      "outputs": [
        {
          "output_type": "stream",
          "name": "stdout",
          "text": [
            "Index(['Month', 'Hour', 'Holiday', 'Temperature Feels F', 'Humidity'], dtype='object')\n"
          ]
        }
      ]
    },
    {
      "cell_type": "markdown",
      "source": [
        "#**Model #1 - SVM - w/ 3 selected features**"
      ],
      "metadata": {
        "id": "XQc_mDIOH0gj"
      }
    },
    {
      "cell_type": "code",
      "source": [
        "# svm model 3 features\n",
        "from sklearn import svm\n",
        "#declaring the target\n",
        "y = df['Total Users']\n",
        "#declaring the features\n",
        "X = df[['Temperature Feels F', 'Hour', 'Weather Type']]\n",
        "#our test and train split for prediction\n",
        "X_train,X_test,y_train,y_test = train_test_split(X,y,test_size = .25)\n",
        "#instance for our svm\n",
        "clf = svm.SVR()\n",
        "#fitting our model\n",
        "clf.fit(X_train,y_train)\n",
        "clf.score(X,y)"
      ],
      "metadata": {
        "id": "cz9lOiE1nSsE",
        "colab": {
          "base_uri": "https://localhost:8080/"
        },
        "outputId": "00231c75-67ac-4d33-e3e2-10f7ac1546b0"
      },
      "execution_count": null,
      "outputs": [
        {
          "output_type": "execute_result",
          "data": {
            "text/plain": [
              "0.5657589624501367"
            ]
          },
          "metadata": {},
          "execution_count": 331
        }
      ]
    },
    {
      "cell_type": "markdown",
      "source": [
        "#**Model #2 - Linear Regression w/ 3 Selected Features**"
      ],
      "metadata": {
        "id": "GQUajTcgH7CX"
      }
    },
    {
      "cell_type": "code",
      "source": [
        "# linear regression model with 3 features\n",
        "from sklearn.linear_model import LinearRegression\n",
        "from sklearn.model_selection import train_test_split\n",
        "from sklearn.metrics import r2_score\n",
        "#declaring our features and target\n",
        "#our target\n",
        "y = df['Total Users']\n",
        "#our features\n",
        "X = df[['Temperature Feels F', 'Hour', 'Weather Type']]\n",
        "#our test and train split for prediction\n",
        "x_train, x_test, y_train, y_test = train_test_split(X, y, test_size=.2)\n",
        "model = LinearRegression().fit(x_train, y_train)\n",
        "y_pred = model.predict(x_test)\n",
        "model.score(X,y)"
      ],
      "metadata": {
        "id": "zSCzm7kNrPZk",
        "colab": {
          "base_uri": "https://localhost:8080/"
        },
        "outputId": "66e9c4fe-2d0b-4f80-9872-570776b9db26"
      },
      "execution_count": null,
      "outputs": [
        {
          "output_type": "execute_result",
          "data": {
            "text/plain": [
              "0.2884605408679307"
            ]
          },
          "metadata": {},
          "execution_count": 332
        }
      ]
    },
    {
      "cell_type": "markdown",
      "source": [
        "#**Model #3 - Tree Regressor w/ 3 selected features**"
      ],
      "metadata": {
        "id": "VFoRrAEJIMZT"
      }
    },
    {
      "cell_type": "code",
      "source": [
        "# decision tree regression model with 3 features\n",
        "from sklearn.tree import DecisionTreeRegressor \n",
        "#we create the regressor object\n",
        "regressor = DecisionTreeRegressor(random_state = 0) \n",
        "#fit the regressor with our x and y data\n",
        "model=DecisionTreeRegressor().fit(x_train,y_train)\n",
        "#test the output\n",
        "y_pred=model.predict(x_test)\n",
        "#score the model we made\n",
        "model.score(X,y)"
      ],
      "metadata": {
        "id": "SnpHb8fkvNRC",
        "colab": {
          "base_uri": "https://localhost:8080/"
        },
        "outputId": "46e70b84-76a0-4395-ea69-6d2ff655ec16"
      },
      "execution_count": null,
      "outputs": [
        {
          "output_type": "execute_result",
          "data": {
            "text/plain": [
              "0.7079557140215375"
            ]
          },
          "metadata": {},
          "execution_count": 333
        }
      ]
    },
    {
      "cell_type": "markdown",
      "source": [
        "#**Model #4 - SVM w/ 5 features**"
      ],
      "metadata": {
        "id": "lxjaH6CgIXpe"
      }
    },
    {
      "cell_type": "code",
      "source": [
        "# svm model with different features, 5 features\n",
        "from sklearn import svm\n",
        "#our target\n",
        "y = df['Total Users']\n",
        "#our features with more features added from before Holiday and Humidity\n",
        "X = df[['Temperature Feels F', 'Hour', 'Weather Type','Holiday','Humidity']]\n",
        "#our test and train split for prediction\n",
        "X_train,X_test,y_train,y_test = train_test_split(X,y,test_size = .25)\n",
        "#instance for our svm\n",
        "clf = svm.SVR()\n",
        "#fitting our model\n",
        "clf.fit(X_train,y_train)\n",
        "\n",
        "#score of our model\n",
        "clf.score(X,y)\n"
      ],
      "metadata": {
        "id": "m-VQmqU2KpZq",
        "colab": {
          "base_uri": "https://localhost:8080/"
        },
        "outputId": "328fb8dc-46c5-4504-9e0c-b28d3719bc67"
      },
      "execution_count": null,
      "outputs": [
        {
          "output_type": "execute_result",
          "data": {
            "text/plain": [
              "0.5408403901119021"
            ]
          },
          "metadata": {},
          "execution_count": 334
        }
      ]
    },
    {
      "cell_type": "markdown",
      "source": [
        "#**Model #5 - Linear Regession w/ 5 features**"
      ],
      "metadata": {
        "id": "TxFI305UJc9U"
      }
    },
    {
      "cell_type": "code",
      "source": [
        "# linear regression model with different features, 5 features\n",
        "from sklearn.linear_model import LinearRegression\n",
        "from sklearn.model_selection import train_test_split\n",
        "from sklearn.metrics import r2_score\n",
        "#our test and train split for prediction\n",
        "x_train, x_test, y_train, y_test = train_test_split(X, y, test_size=.2)\n",
        "#declaring our LinearRegression model\n",
        "model = LinearRegression().fit(x_train, y_train)\n",
        "#fitting our model\n",
        "y_pred = model.predict(x_test)\n",
        "#score of our model\n",
        "model.score(X,y)"
      ],
      "metadata": {
        "id": "uZijh63iK9DE",
        "colab": {
          "base_uri": "https://localhost:8080/"
        },
        "outputId": "24c3fc20-6d66-4b36-9168-729fd12cfd73"
      },
      "execution_count": null,
      "outputs": [
        {
          "output_type": "execute_result",
          "data": {
            "text/plain": [
              "0.3264331998121581"
            ]
          },
          "metadata": {},
          "execution_count": 335
        }
      ]
    },
    {
      "cell_type": "markdown",
      "source": [
        "#**Model #6 - Tree Regressor w/ 5 features**"
      ],
      "metadata": {
        "id": "uF62ys5gJkf5"
      }
    },
    {
      "cell_type": "code",
      "source": [
        "# decision tree regression model with different features, 5 features\n",
        "from sklearn.tree import DecisionTreeRegressor \n",
        "#we create the regressor object\n",
        "regressor = DecisionTreeRegressor(random_state = 0) \n",
        "#fit the regressor with our x and y data\n",
        "model=DecisionTreeRegressor().fit(x_train,y_train)\n",
        "#test the output\n",
        "y_pred=model.predict(x_test)\n",
        "#score the model we made\n",
        "model.score(X,y)"
      ],
      "metadata": {
        "id": "KFwdRcPfLD00",
        "colab": {
          "base_uri": "https://localhost:8080/"
        },
        "outputId": "f346398c-84bf-46bf-ee55-374dada2b2ad"
      },
      "execution_count": null,
      "outputs": [
        {
          "output_type": "execute_result",
          "data": {
            "text/plain": [
              "0.8091082637599146"
            ]
          },
          "metadata": {},
          "execution_count": 336
        }
      ]
    },
    {
      "cell_type": "markdown",
      "source": [
        "#**Model #7 - SVM w/ 6 features**"
      ],
      "metadata": {
        "id": "WzjLNNEQJqD9"
      }
    },
    {
      "cell_type": "code",
      "source": [
        "# svm model with different features, 6 features\n",
        "from sklearn import svm\n",
        "#our target\n",
        "y = df['Total Users']\n",
        "#our features with more features added from before now Month is added \n",
        "X = df[['Temperature Feels F', 'Hour', 'Weather Type','Humidity','Month','Holiday']]\n",
        "#our test and train split for prediction\n",
        "X_train,X_test,y_train,y_test = train_test_split(X,y,test_size = .25)\n",
        "#instance for our svm\n",
        "clf = svm.SVR()\n",
        "#fitting our model\n",
        "clf.fit(X_train,y_train)\n",
        "# check model score\n",
        "clf.score(X,y)"
      ],
      "metadata": {
        "id": "MoQYeKCHcrpR",
        "colab": {
          "base_uri": "https://localhost:8080/"
        },
        "outputId": "b8a546fd-2d26-49e4-c464-ba48bddf1625"
      },
      "execution_count": null,
      "outputs": [
        {
          "output_type": "execute_result",
          "data": {
            "text/plain": [
              "0.5451549014592192"
            ]
          },
          "metadata": {},
          "execution_count": 337
        }
      ]
    },
    {
      "cell_type": "markdown",
      "source": [
        "#**Model #8 - Linear Regressor w/ 6 features**"
      ],
      "metadata": {
        "id": "IxV14ZQhJsl8"
      }
    },
    {
      "cell_type": "code",
      "source": [
        "# linear regression model with different features, 5 features\n",
        "from sklearn.linear_model import LinearRegression\n",
        "from sklearn.model_selection import train_test_split\n",
        "from sklearn.metrics import r2_score\n",
        "#our test and train split for prediction\n",
        "x_train, x_test, y_train, y_test = train_test_split(X, y, test_size=.2)\n",
        "# fitting our model\n",
        "model = LinearRegression().fit(x_train, y_train)\n",
        "# model prediction by using x_test data\n",
        "y_pred = model.predict(x_test)\n",
        "\n",
        "# check model score\n",
        "model.score(X,y)"
      ],
      "metadata": {
        "id": "9C1DZI11ctzH",
        "colab": {
          "base_uri": "https://localhost:8080/"
        },
        "outputId": "e24bab01-fe8a-47c1-8631-5d220b58a9a7"
      },
      "execution_count": null,
      "outputs": [
        {
          "output_type": "execute_result",
          "data": {
            "text/plain": [
              "0.33457939138263515"
            ]
          },
          "metadata": {},
          "execution_count": 338
        }
      ]
    },
    {
      "cell_type": "code",
      "source": [
        "r2_score(y_test, y_pred)\n",
        "#weak r^2 was received "
      ],
      "metadata": {
        "id": "SWr2DWKaejj5",
        "colab": {
          "base_uri": "https://localhost:8080/"
        },
        "outputId": "914758a4-197b-4c0a-c5f0-df05c8eaee92"
      },
      "execution_count": null,
      "outputs": [
        {
          "output_type": "execute_result",
          "data": {
            "text/plain": [
              "0.3239575518466281"
            ]
          },
          "metadata": {},
          "execution_count": 339
        }
      ]
    },
    {
      "cell_type": "markdown",
      "source": [
        "#**Model #4 - Tree Regressor w/ 6 features**"
      ],
      "metadata": {
        "id": "BVwjUZf_JzG9"
      }
    },
    {
      "cell_type": "code",
      "source": [
        "# decision tree regression model with different features, 6 features\n",
        "from sklearn.tree import DecisionTreeRegressor \n",
        "# instance of decisiontree regression\n",
        "regressor = DecisionTreeRegressor(random_state = 0) \n",
        "# fitting our model\n",
        "model=DecisionTreeRegressor().fit(x_train,y_train)\n",
        "# model prediction by using x_test data\n",
        "y_pred=model.predict(x_test)\n",
        "#check model score\n",
        "model.score(X,y)"
      ],
      "metadata": {
        "id": "Kj-qsDUhcvD5",
        "colab": {
          "base_uri": "https://localhost:8080/"
        },
        "outputId": "ed3206f6-0592-4f2f-e9d1-11930c6f9c63"
      },
      "execution_count": null,
      "outputs": [
        {
          "output_type": "execute_result",
          "data": {
            "text/plain": [
              "0.859555460122109"
            ]
          },
          "metadata": {},
          "execution_count": 340
        }
      ]
    },
    {
      "cell_type": "code",
      "source": [
        "from sklearn.metrics import median_absolute_error\n",
        "median_absolute_error(y_test, y_pred)"
      ],
      "metadata": {
        "id": "y1lA63ADtkmK",
        "colab": {
          "base_uri": "https://localhost:8080/"
        },
        "outputId": "a873c9a4-2154-444c-c344-0bad4e718d6c"
      },
      "execution_count": null,
      "outputs": [
        {
          "output_type": "execute_result",
          "data": {
            "text/plain": [
              "0.047899590163934413"
            ]
          },
          "metadata": {},
          "execution_count": 341
        }
      ]
    },
    {
      "cell_type": "markdown",
      "source": [
        "#**Conclusion**"
      ],
      "metadata": {
        "id": "GsgSMAP-J8ED"
      }
    },
    {
      "cell_type": "markdown",
      "source": [
        "* Through our analysis of different models we have decided upon the Decision Tree Regression Model as it scored the highest out of all the 3 models we tested. \n",
        "* We also decided to include 6 features instead of our original 3 as it impacted our model’s score positively. \n",
        "* A interesting note was the score of our Linear Regression model and how poorly it placed. It may suggest that there is a lot of noise in our data. Another point to look at would be our poorly scored r^2 score and could be another culprit of our low Linear Regression model’s score."
      ],
      "metadata": {
        "id": "uGXrPPeGKKMt"
      }
    },
    {
      "cell_type": "markdown",
      "source": [
        "#**Reference**\n",
        "* https://www.geeksforgeeks.org/learning-model-building-scikit-learn-python-machine-learning-library/\n",
        "\n",
        "* https://scikit-learn.org/stable/\n",
        "* https://data.world/data-society/capital-bikeshare-2011-2012"
      ],
      "metadata": {
        "id": "lPIFZcfSEcxd"
      }
    }
  ]
}