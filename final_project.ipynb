{
  "cells": [
    {
      "cell_type": "markdown",
      "metadata": {
        "id": "view-in-github",
        "colab_type": "text"
      },
      "source": [
        "<a href=\"https://colab.research.google.com/github/zenilist/DataAnalytics/blob/main/final_project.ipynb\" target=\"_parent\"><img src=\"https://colab.research.google.com/assets/colab-badge.svg\" alt=\"Open In Colab\"/></a>"
      ]
    },
    {
      "cell_type": "markdown",
      "source": [
        "#Names"
      ],
      "metadata": {
        "id": "FDes3uzKHyAK"
      }
    },
    {
      "cell_type": "markdown",
      "source": [
        "* Yuhang Zhu\n",
        "* Jason Kang\n",
        "* Aviraj Kar\n",
        "* Roseleen Kaur\n",
        "* Hema Muni"
      ],
      "metadata": {
        "id": "TeUCZln5Hzid"
      }
    },
    {
      "cell_type": "markdown",
      "source": [
        "#Abstract"
      ],
      "metadata": {
        "id": "7nw7baHr5h5z"
      }
    },
    {
      "cell_type": "markdown",
      "source": [
        "We will use a soccer dataset based on transfer evaluations for the last 12 years to look for features that determine a players valuation. We will load the data from [github](https://github.com/d2ski). Perform data preparation to fill in values and perform the EDA work to analyze the data and gain valuable insights about relationships concerning our attributes. We plan to use four different classifiers one being an ensemble method to model a binary response variable, \"is_expensive\"."
      ],
      "metadata": {
        "id": "SRWiUOs45jfw"
      }
    },
    {
      "cell_type": "markdown",
      "metadata": {
        "id": "2q6QedkrvPLF"
      },
      "source": [
        "#Purpose"
      ]
    },
    {
      "cell_type": "markdown",
      "metadata": {
        "id": "XRzxwkNyvQaA"
      },
      "source": [
        "Soccer or otherwise known as football is a team sport played amongst 11 players where two teams try to kick the ball into the opposing team’s goal to score goals. There are 10 outfield players and 1 pers on designated as the goalkeeper.\n",
        "\n",
        "\n",
        "In this sport, the pro athletes are the ones that shine the most. Hosting one of the most well-known names in all sports such as Lionel Messi or Cristiano Ronaldo it is no surprise that these players are worth a large sum of money and that soccer itself is a booming industry. The transfer market of soccer has increased tremendously over the last decade [link](https://football-observatory.com/Monthly-Report-reveals-growing-football-transfer) going from 1.5 billion euros in 2010 to 6.6 billion in 2019. The answer we want to find by analysing this data set is are the English players more valued compared to players  from other European countries."
      ]
    },
    {
      "cell_type": "markdown",
      "metadata": {
        "id": "VMRXH1jKvNxo"
      },
      "source": [
        "#Data Summary"
      ]
    },
    {
      "cell_type": "markdown",
      "metadata": {
        "id": "tDYbPg-XvNHg"
      },
      "source": [
        "The attributes of this dataset are : \n",
        "\n",
        "**league** - codename of the football league. Takes the following values:\n",
        "\n",
        "**season** - season\n",
        "\n",
        "**window** - transfer window (s summer or w winter)\n",
        "\n",
        "**team_id** - team's ID as used by Transfermarkt\n",
        "\n",
        "**team_name** - team's name\n",
        "\n",
        "**team_country** - team's country\n",
        "\n",
        "**dir** - transfer direction (in or left)\n",
        "\n",
        "**player_id** - player's ID as used by Transfermarkt\n",
        "\n",
        "**player_name** - player's name\n",
        "\n",
        "**player_age** - player's age when transfer occurred\n",
        "\n",
        "**player_nation** - player's nationality\n",
        "\n",
        "**player_nation2** - player's 2nd nationality\n",
        "\n",
        "**player_pos** - player's field position\n",
        "\n",
        "**counter_team_id** - counter team's ID as used by Transfermarkt\n",
        "\n",
        "**counter_team_name** - counter team's name\n",
        "\n",
        "**counter_team_country** - counter team's country\n",
        "\n",
        "**transfer_fee_amnt** - transfer fee amount (EUR)\n",
        "\n",
        "**market_val_amnt** - player's market value (EUR) when transfer occurred \n",
        "estimated by Transfermarkt\n",
        "**is_free** - free transfer (True or False)\n",
        "\n",
        "**is_loan** - loan transfer (True or False)\n",
        "\n",
        "**is_loan_end** - end of loan transfer (True or False)\n",
        "\n",
        "**is_retired** - player retired (True or False)\n",
        "\n",
        "**transfer_id** - transfer's ID as used by Transfermarkt\n",
        "\n",
        "**value in player postion:**\n",
        "  * RB - Right Back\n",
        "  * CF - Centre Forward\n",
        "  * AM - Attacking Midfielder\n",
        "  * CB - Center Back\n",
        "  * CM - Central Midfield\n",
        "  * GK - Goalkeeper\n",
        "  * LW - Left Winger\n",
        "  * LB - Left Back\n",
        "  * DM - Defensive Midfielder\n",
        "  * SS - Second Striker\n",
        "  * RW - Right Winger\n",
        "  * RM - Right Midfielder\n",
        "  * LM - Left Midfielder\n",
        "  * RM - Right Midfielder\n",
        "  * Midfield\n",
        "  * Attack\n",
        "  * Defence"
      ]
    },
    {
      "cell_type": "code",
      "execution_count": null,
      "metadata": {
        "colab": {
          "base_uri": "https://localhost:8080/",
          "height": 357
        },
        "id": "pmFmSwdFm0Fr",
        "outputId": "69cbb851-c730-4c36-8f51-ebd6571aee1e"
      },
      "outputs": [
        {
          "output_type": "execute_result",
          "data": {
            "text/plain": [
              "  league  season window  team_id          team_name team_country dir  \\\n",
              "0    GB1    2009      s      985  Manchester United      England  in   \n",
              "1    GB1    2009      s      985  Manchester United      England  in   \n",
              "2    GB1    2009      s      985  Manchester United      England  in   \n",
              "3    GB1    2009      s      985  Manchester United      England  in   \n",
              "4    GB1    2009      s      985  Manchester United      England  in   \n",
              "\n",
              "   player_id       player_name  player_age player_nation player_nation2  \\\n",
              "0      33544  Antonio Valencia    23.00000       Ecuador            NaN   \n",
              "1      62049        Mame Diouf    21.00000       Senegal            NaN   \n",
              "2      43261   Gabriel Obertan    20.00000        France     Guadeloupe   \n",
              "3       1397      Michael Owen    29.00000       England            NaN   \n",
              "4      73538     Scott Moffatt    18.00000       England            NaN   \n",
              "\n",
              "  player_pos counter_team_id      counter_team_name counter_team_country  \\\n",
              "0         RB            1071         Wigan Athletic              England   \n",
              "1         CF             687               Molde FK               Norway   \n",
              "2         AM              40  FC Girondins Bordeaux               France   \n",
              "3         CF             762       Newcastle United              England   \n",
              "4         CB            5242  Manchester United U18              England   \n",
              "\n",
              "   transfer_fee_amnt  market_val_amnt  is_free  is_loan  is_loan_end  \\\n",
              "0     18800000.00000              NaN    False    False        False   \n",
              "1      4500000.00000    1600000.00000    False    False        False   \n",
              "2      4000000.00000     400000.00000    False    False        False   \n",
              "3            0.00000              NaN     True    False        False   \n",
              "4                NaN              NaN    False    False        False   \n",
              "\n",
              "   is_retired  transfer_id  \n",
              "0       False       310832  \n",
              "1       False       319841  \n",
              "2       False       315185  \n",
              "3       False       306421  \n",
              "4       False       339015  "
            ],
            "text/html": [
              "\n",
              "  <div id=\"df-be0ace0c-310f-4d0e-ab75-d8305dc8f8bb\">\n",
              "    <div class=\"colab-df-container\">\n",
              "      <div>\n",
              "<style scoped>\n",
              "    .dataframe tbody tr th:only-of-type {\n",
              "        vertical-align: middle;\n",
              "    }\n",
              "\n",
              "    .dataframe tbody tr th {\n",
              "        vertical-align: top;\n",
              "    }\n",
              "\n",
              "    .dataframe thead th {\n",
              "        text-align: right;\n",
              "    }\n",
              "</style>\n",
              "<table border=\"1\" class=\"dataframe\">\n",
              "  <thead>\n",
              "    <tr style=\"text-align: right;\">\n",
              "      <th></th>\n",
              "      <th>league</th>\n",
              "      <th>season</th>\n",
              "      <th>window</th>\n",
              "      <th>team_id</th>\n",
              "      <th>team_name</th>\n",
              "      <th>team_country</th>\n",
              "      <th>dir</th>\n",
              "      <th>player_id</th>\n",
              "      <th>player_name</th>\n",
              "      <th>player_age</th>\n",
              "      <th>player_nation</th>\n",
              "      <th>player_nation2</th>\n",
              "      <th>player_pos</th>\n",
              "      <th>counter_team_id</th>\n",
              "      <th>counter_team_name</th>\n",
              "      <th>counter_team_country</th>\n",
              "      <th>transfer_fee_amnt</th>\n",
              "      <th>market_val_amnt</th>\n",
              "      <th>is_free</th>\n",
              "      <th>is_loan</th>\n",
              "      <th>is_loan_end</th>\n",
              "      <th>is_retired</th>\n",
              "      <th>transfer_id</th>\n",
              "    </tr>\n",
              "  </thead>\n",
              "  <tbody>\n",
              "    <tr>\n",
              "      <th>0</th>\n",
              "      <td>GB1</td>\n",
              "      <td>2009</td>\n",
              "      <td>s</td>\n",
              "      <td>985</td>\n",
              "      <td>Manchester United</td>\n",
              "      <td>England</td>\n",
              "      <td>in</td>\n",
              "      <td>33544</td>\n",
              "      <td>Antonio Valencia</td>\n",
              "      <td>23.00000</td>\n",
              "      <td>Ecuador</td>\n",
              "      <td>NaN</td>\n",
              "      <td>RB</td>\n",
              "      <td>1071</td>\n",
              "      <td>Wigan Athletic</td>\n",
              "      <td>England</td>\n",
              "      <td>18800000.00000</td>\n",
              "      <td>NaN</td>\n",
              "      <td>False</td>\n",
              "      <td>False</td>\n",
              "      <td>False</td>\n",
              "      <td>False</td>\n",
              "      <td>310832</td>\n",
              "    </tr>\n",
              "    <tr>\n",
              "      <th>1</th>\n",
              "      <td>GB1</td>\n",
              "      <td>2009</td>\n",
              "      <td>s</td>\n",
              "      <td>985</td>\n",
              "      <td>Manchester United</td>\n",
              "      <td>England</td>\n",
              "      <td>in</td>\n",
              "      <td>62049</td>\n",
              "      <td>Mame Diouf</td>\n",
              "      <td>21.00000</td>\n",
              "      <td>Senegal</td>\n",
              "      <td>NaN</td>\n",
              "      <td>CF</td>\n",
              "      <td>687</td>\n",
              "      <td>Molde FK</td>\n",
              "      <td>Norway</td>\n",
              "      <td>4500000.00000</td>\n",
              "      <td>1600000.00000</td>\n",
              "      <td>False</td>\n",
              "      <td>False</td>\n",
              "      <td>False</td>\n",
              "      <td>False</td>\n",
              "      <td>319841</td>\n",
              "    </tr>\n",
              "    <tr>\n",
              "      <th>2</th>\n",
              "      <td>GB1</td>\n",
              "      <td>2009</td>\n",
              "      <td>s</td>\n",
              "      <td>985</td>\n",
              "      <td>Manchester United</td>\n",
              "      <td>England</td>\n",
              "      <td>in</td>\n",
              "      <td>43261</td>\n",
              "      <td>Gabriel Obertan</td>\n",
              "      <td>20.00000</td>\n",
              "      <td>France</td>\n",
              "      <td>Guadeloupe</td>\n",
              "      <td>AM</td>\n",
              "      <td>40</td>\n",
              "      <td>FC Girondins Bordeaux</td>\n",
              "      <td>France</td>\n",
              "      <td>4000000.00000</td>\n",
              "      <td>400000.00000</td>\n",
              "      <td>False</td>\n",
              "      <td>False</td>\n",
              "      <td>False</td>\n",
              "      <td>False</td>\n",
              "      <td>315185</td>\n",
              "    </tr>\n",
              "    <tr>\n",
              "      <th>3</th>\n",
              "      <td>GB1</td>\n",
              "      <td>2009</td>\n",
              "      <td>s</td>\n",
              "      <td>985</td>\n",
              "      <td>Manchester United</td>\n",
              "      <td>England</td>\n",
              "      <td>in</td>\n",
              "      <td>1397</td>\n",
              "      <td>Michael Owen</td>\n",
              "      <td>29.00000</td>\n",
              "      <td>England</td>\n",
              "      <td>NaN</td>\n",
              "      <td>CF</td>\n",
              "      <td>762</td>\n",
              "      <td>Newcastle United</td>\n",
              "      <td>England</td>\n",
              "      <td>0.00000</td>\n",
              "      <td>NaN</td>\n",
              "      <td>True</td>\n",
              "      <td>False</td>\n",
              "      <td>False</td>\n",
              "      <td>False</td>\n",
              "      <td>306421</td>\n",
              "    </tr>\n",
              "    <tr>\n",
              "      <th>4</th>\n",
              "      <td>GB1</td>\n",
              "      <td>2009</td>\n",
              "      <td>s</td>\n",
              "      <td>985</td>\n",
              "      <td>Manchester United</td>\n",
              "      <td>England</td>\n",
              "      <td>in</td>\n",
              "      <td>73538</td>\n",
              "      <td>Scott Moffatt</td>\n",
              "      <td>18.00000</td>\n",
              "      <td>England</td>\n",
              "      <td>NaN</td>\n",
              "      <td>CB</td>\n",
              "      <td>5242</td>\n",
              "      <td>Manchester United U18</td>\n",
              "      <td>England</td>\n",
              "      <td>NaN</td>\n",
              "      <td>NaN</td>\n",
              "      <td>False</td>\n",
              "      <td>False</td>\n",
              "      <td>False</td>\n",
              "      <td>False</td>\n",
              "      <td>339015</td>\n",
              "    </tr>\n",
              "  </tbody>\n",
              "</table>\n",
              "</div>\n",
              "      <button class=\"colab-df-convert\" onclick=\"convertToInteractive('df-be0ace0c-310f-4d0e-ab75-d8305dc8f8bb')\"\n",
              "              title=\"Convert this dataframe to an interactive table.\"\n",
              "              style=\"display:none;\">\n",
              "        \n",
              "  <svg xmlns=\"http://www.w3.org/2000/svg\" height=\"24px\"viewBox=\"0 0 24 24\"\n",
              "       width=\"24px\">\n",
              "    <path d=\"M0 0h24v24H0V0z\" fill=\"none\"/>\n",
              "    <path d=\"M18.56 5.44l.94 2.06.94-2.06 2.06-.94-2.06-.94-.94-2.06-.94 2.06-2.06.94zm-11 1L8.5 8.5l.94-2.06 2.06-.94-2.06-.94L8.5 2.5l-.94 2.06-2.06.94zm10 10l.94 2.06.94-2.06 2.06-.94-2.06-.94-.94-2.06-.94 2.06-2.06.94z\"/><path d=\"M17.41 7.96l-1.37-1.37c-.4-.4-.92-.59-1.43-.59-.52 0-1.04.2-1.43.59L10.3 9.45l-7.72 7.72c-.78.78-.78 2.05 0 2.83L4 21.41c.39.39.9.59 1.41.59.51 0 1.02-.2 1.41-.59l7.78-7.78 2.81-2.81c.8-.78.8-2.07 0-2.86zM5.41 20L4 18.59l7.72-7.72 1.47 1.35L5.41 20z\"/>\n",
              "  </svg>\n",
              "      </button>\n",
              "      \n",
              "  <style>\n",
              "    .colab-df-container {\n",
              "      display:flex;\n",
              "      flex-wrap:wrap;\n",
              "      gap: 12px;\n",
              "    }\n",
              "\n",
              "    .colab-df-convert {\n",
              "      background-color: #E8F0FE;\n",
              "      border: none;\n",
              "      border-radius: 50%;\n",
              "      cursor: pointer;\n",
              "      display: none;\n",
              "      fill: #1967D2;\n",
              "      height: 32px;\n",
              "      padding: 0 0 0 0;\n",
              "      width: 32px;\n",
              "    }\n",
              "\n",
              "    .colab-df-convert:hover {\n",
              "      background-color: #E2EBFA;\n",
              "      box-shadow: 0px 1px 2px rgba(60, 64, 67, 0.3), 0px 1px 3px 1px rgba(60, 64, 67, 0.15);\n",
              "      fill: #174EA6;\n",
              "    }\n",
              "\n",
              "    [theme=dark] .colab-df-convert {\n",
              "      background-color: #3B4455;\n",
              "      fill: #D2E3FC;\n",
              "    }\n",
              "\n",
              "    [theme=dark] .colab-df-convert:hover {\n",
              "      background-color: #434B5C;\n",
              "      box-shadow: 0px 1px 3px 1px rgba(0, 0, 0, 0.15);\n",
              "      filter: drop-shadow(0px 1px 2px rgba(0, 0, 0, 0.3));\n",
              "      fill: #FFFFFF;\n",
              "    }\n",
              "  </style>\n",
              "\n",
              "      <script>\n",
              "        const buttonEl =\n",
              "          document.querySelector('#df-be0ace0c-310f-4d0e-ab75-d8305dc8f8bb button.colab-df-convert');\n",
              "        buttonEl.style.display =\n",
              "          google.colab.kernel.accessAllowed ? 'block' : 'none';\n",
              "\n",
              "        async function convertToInteractive(key) {\n",
              "          const element = document.querySelector('#df-be0ace0c-310f-4d0e-ab75-d8305dc8f8bb');\n",
              "          const dataTable =\n",
              "            await google.colab.kernel.invokeFunction('convertToInteractive',\n",
              "                                                     [key], {});\n",
              "          if (!dataTable) return;\n",
              "\n",
              "          const docLinkHtml = 'Like what you see? Visit the ' +\n",
              "            '<a target=\"_blank\" href=https://colab.research.google.com/notebooks/data_table.ipynb>data table notebook</a>'\n",
              "            + ' to learn more about interactive tables.';\n",
              "          element.innerHTML = '';\n",
              "          dataTable['output_type'] = 'display_data';\n",
              "          await google.colab.output.renderOutput(dataTable, element);\n",
              "          const docLink = document.createElement('div');\n",
              "          docLink.innerHTML = docLinkHtml;\n",
              "          element.appendChild(docLink);\n",
              "        }\n",
              "      </script>\n",
              "    </div>\n",
              "  </div>\n",
              "  "
            ]
          },
          "metadata": {},
          "execution_count": 43
        }
      ],
      "source": [
        "# import libraries and read the data from Github link\n",
        "import pandas as pd \n",
        "import numpy as np\n",
        "import matplotlib.pyplot as plt\n",
        "import missingno as msno\n",
        "import seaborn as sns\n",
        "from sklearn.metrics import accuracy_score,confusion_matrix, classification_report,roc_auc_score\n",
        "from scipy.stats import zscore\n",
        "from sklearn.model_selection import train_test_split\n",
        "from sklearn.compose import ColumnTransformer\n",
        "from sklearn.experimental import enable_iterative_imputer\n",
        "from sklearn.impute import IterativeImputer\n",
        "from sklearn.impute import SimpleImputer\n",
        "from sklearn.model_selection import train_test_split\n",
        "from sklearn.linear_model import BayesianRidge\n",
        "from sklearn.tree import DecisionTreeRegressor\n",
        "from sklearn.ensemble import ExtraTreesRegressor\n",
        "from sklearn.neighbors import KNeighborsRegressor\n",
        "from sklearn.preprocessing import StandardScaler\n",
        "from sklearn import (model_selection,preprocessing)\n",
        "from patsy import dmatrices\n",
        "from sklearn.linear_model import LogisticRegression\n",
        "from sklearn import metrics\n",
        "from sklearn import datasets\n",
        "from sklearn.tree import DecisionTreeClassifier\n",
        "from sklearn.model_selection import train_test_split\n",
        "from sklearn.metrics import classification_report, confusion_matrix\n",
        "pd.set_option('display.max_columns', 500)\n",
        "# read the data from github \n",
        "df = pd.read_csv(\n",
        "    'https://raw.githubusercontent.com/d2ski/football-transfers-data/main/dataset/transfers.csv')\n",
        "# create a copy in case\n",
        "df_cp = df.copy()\n",
        "# display the data frame\n",
        "df.head()\n"
      ]
    },
    {
      "cell_type": "code",
      "execution_count": null,
      "metadata": {
        "colab": {
          "base_uri": "https://localhost:8080/"
        },
        "id": "S8WIq1Nom0Fs",
        "outputId": "ec41cf4e-f7cf-4e89-deaa-462300a260b0"
      },
      "outputs": [
        {
          "output_type": "execute_result",
          "data": {
            "text/plain": [
              "(70006, 23)"
            ]
          },
          "metadata": {},
          "execution_count": 44
        }
      ],
      "source": [
        "# to see how many rows and cols in this data set\n",
        "df.shape"
      ]
    },
    {
      "cell_type": "markdown",
      "metadata": {
        "id": "KXtITTCWicZ8"
      },
      "source": [
        "The rows indicate 70,006 unique transfers over the course of 12 years(2009-2021).  "
      ]
    },
    {
      "cell_type": "code",
      "execution_count": null,
      "metadata": {
        "colab": {
          "base_uri": "https://localhost:8080/"
        },
        "id": "JS9M-nKem0Ft",
        "outputId": "e5d3545b-ff65-496f-cfb6-530e4f9ead65"
      },
      "outputs": [
        {
          "output_type": "execute_result",
          "data": {
            "text/plain": [
              "league                      0\n",
              "season                      0\n",
              "window                      0\n",
              "team_id                     0\n",
              "team_name                   0\n",
              "team_country                0\n",
              "dir                         0\n",
              "player_id                   0\n",
              "player_name                 0\n",
              "player_age                 16\n",
              "player_nation               5\n",
              "player_nation2          46825\n",
              "player_pos                  0\n",
              "counter_team_id             0\n",
              "counter_team_name           0\n",
              "counter_team_country        0\n",
              "transfer_fee_amnt       41743\n",
              "market_val_amnt         19264\n",
              "is_free                     0\n",
              "is_loan                     0\n",
              "is_loan_end                 0\n",
              "is_retired                  0\n",
              "transfer_id                 0\n",
              "dtype: int64"
            ]
          },
          "metadata": {},
          "execution_count": 45
        }
      ],
      "source": [
        "# Check if there is a missing value in each column.\n",
        "df.isnull().sum()"
      ]
    },
    {
      "cell_type": "markdown",
      "metadata": {
        "id": "Uym3vuL7i7By"
      },
      "source": [
        "There are lots of missing values in for actual transfer fee, market value of players and player nation2. We might be better of if we drop the column for nation 2 since majority of the players represent only one nation(their primary nationality)."
      ]
    },
    {
      "cell_type": "code",
      "execution_count": null,
      "metadata": {
        "colab": {
          "base_uri": "https://localhost:8080/"
        },
        "id": "LO884bAXm0Ft",
        "outputId": "e58c1eff-b25a-4ee3-9601-b0ee18876c4f"
      },
      "outputs": [
        {
          "output_type": "execute_result",
          "data": {
            "text/plain": [
              "league                   object\n",
              "season                    int64\n",
              "window                   object\n",
              "team_id                   int64\n",
              "team_name                object\n",
              "team_country             object\n",
              "dir                      object\n",
              "player_id                 int64\n",
              "player_name              object\n",
              "player_age              float64\n",
              "player_nation            object\n",
              "player_nation2           object\n",
              "player_pos               object\n",
              "counter_team_id          object\n",
              "counter_team_name        object\n",
              "counter_team_country     object\n",
              "transfer_fee_amnt       float64\n",
              "market_val_amnt         float64\n",
              "is_free                    bool\n",
              "is_loan                    bool\n",
              "is_loan_end                bool\n",
              "is_retired                 bool\n",
              "transfer_id               int64\n",
              "dtype: object"
            ]
          },
          "metadata": {},
          "execution_count": 46
        }
      ],
      "source": [
        "# Check the data type of each column.\n",
        "df.dtypes"
      ]
    },
    {
      "cell_type": "markdown",
      "metadata": {
        "id": "TJenrSEHjbSS"
      },
      "source": [
        "There is a mix of mostly categorical and some numeric datas in this dataset."
      ]
    },
    {
      "cell_type": "code",
      "execution_count": null,
      "metadata": {
        "id": "-rfTB-_Tm0Ft"
      },
      "outputs": [],
      "source": [
        "# Drop player nation2 column since our domain expertise is telling us that the secondary nationality of the players would not be a key indicator to their valuation\n",
        "df.drop('player_nation2',axis=1,inplace=True)\n"
      ]
    },
    {
      "cell_type": "code",
      "execution_count": null,
      "metadata": {
        "colab": {
          "base_uri": "https://localhost:8080/"
        },
        "id": "LwO0VXBWm0Fu",
        "outputId": "5e5eb52d-9897-4ee1-a6ad-b5ad48530db0"
      },
      "outputs": [
        {
          "output_type": "execute_result",
          "data": {
            "text/plain": [
              "league                      7\n",
              "season                     13\n",
              "window                      2\n",
              "team_id                   239\n",
              "team_name                 243\n",
              "team_country                7\n",
              "dir                         2\n",
              "player_id               17580\n",
              "player_name             17103\n",
              "player_age                 33\n",
              "player_nation             168\n",
              "player_pos                 16\n",
              "counter_team_id          3359\n",
              "counter_team_name        3610\n",
              "counter_team_country      125\n",
              "transfer_fee_amnt         796\n",
              "market_val_amnt           137\n",
              "is_free                     2\n",
              "is_loan                     2\n",
              "is_loan_end                 2\n",
              "is_retired                  2\n",
              "transfer_id             58640\n",
              "dtype: int64"
            ]
          },
          "metadata": {},
          "execution_count": 48
        }
      ],
      "source": [
        "# Check how many unique values are in each column.\n",
        "df.nunique()"
      ]
    },
    {
      "cell_type": "markdown",
      "metadata": {
        "id": "0_1zta56kCSY"
      },
      "source": [
        "There are lot's of unique values for player names and ids and as such they do not seem to be all that important as a feature to our model. Other than that, the values of all the attributes appear to be within normal range. No surprises here."
      ]
    },
    {
      "cell_type": "code",
      "execution_count": null,
      "metadata": {
        "colab": {
          "base_uri": "https://localhost:8080/"
        },
        "id": "S0Ds1F9JlZoH",
        "outputId": "541e5a45-d6cf-49f2-ca5e-911fe59bc360"
      },
      "outputs": [
        {
          "output_type": "execute_result",
          "data": {
            "text/plain": [
              "False    57036\n",
              "True     12970\n",
              "Name: is_free, dtype: int64"
            ]
          },
          "metadata": {},
          "execution_count": 49
        }
      ],
      "source": [
        "df['is_free'].value_counts()"
      ]
    },
    {
      "cell_type": "markdown",
      "metadata": {
        "id": "ks2ugditqySq"
      },
      "source": [
        "We checked if the huge number of null transfer fees are a result of free transfers. However there are only 12970 free transfers as opposed to over 41000 null transfer values. Using our domain knowledge we can explain why this is the case; in soccer there are many instances where the buyer club and player(or his agent) decide to not disclose their transfer fee resulting in a massive loss in valuable data. For our purposes we would use kNN imputation to fill in the unknown values. We recognize that another route might be to drop all the rows that have the NaN values for transfer fee. Moreover, since our target variable is heavily realiant on clean and precise transfer data, due to the imputation we might run into accuracy issues with our model."
      ]
    },
    {
      "cell_type": "code",
      "execution_count": null,
      "metadata": {
        "id": "MqnKV3LprNkA"
      },
      "outputs": [],
      "source": [
        "#check to see if there are any rows that have \n",
        "#Nan value for transfer fee and that are also free transfers.\n",
        "val = df['transfer_fee_amnt'].tolist()\n",
        "new_val = []\n",
        "free = df['is_free'].tolist()\n",
        "for val, free in zip(val,free):\n",
        "    if free and val == np.nan:\n",
        "        new_val.append(0)\n",
        "    else:\n",
        "        new_val.append(val)"
      ]
    },
    {
      "cell_type": "code",
      "execution_count": null,
      "metadata": {
        "id": "hGGJSi9KrQpN"
      },
      "outputs": [],
      "source": [
        "df['transfer_fee_amnt'] = new_val"
      ]
    },
    {
      "cell_type": "code",
      "execution_count": null,
      "metadata": {
        "colab": {
          "base_uri": "https://localhost:8080/"
        },
        "id": "nRREKBLesbzY",
        "outputId": "b4cd94b9-990c-4249-89d9-ca40b58be53e"
      },
      "outputs": [
        {
          "output_type": "execute_result",
          "data": {
            "text/plain": [
              "league                      0\n",
              "season                      0\n",
              "window                      0\n",
              "team_id                     0\n",
              "team_name                   0\n",
              "team_country                0\n",
              "dir                         0\n",
              "player_id                   0\n",
              "player_name                 0\n",
              "player_age                 16\n",
              "player_nation               5\n",
              "player_pos                  0\n",
              "counter_team_id             0\n",
              "counter_team_name           0\n",
              "counter_team_country        0\n",
              "transfer_fee_amnt       41743\n",
              "market_val_amnt         19264\n",
              "is_free                     0\n",
              "is_loan                     0\n",
              "is_loan_end                 0\n",
              "is_retired                  0\n",
              "transfer_id                 0\n",
              "dtype: int64"
            ]
          },
          "metadata": {},
          "execution_count": 52
        }
      ],
      "source": [
        "df.isnull().sum()"
      ]
    },
    {
      "cell_type": "markdown",
      "metadata": {
        "id": "aVFthQRov2n3"
      },
      "source": [
        "Unfortunately, our null values remain unchanged highlighting that all free transfers have been properly accounted for in the tranfer fee column."
      ]
    },
    {
      "cell_type": "code",
      "execution_count": null,
      "metadata": {
        "colab": {
          "base_uri": "https://localhost:8080/",
          "height": 424
        },
        "id": "hyH_UKmHm0Fu",
        "outputId": "48c2d2de-c3de-48c1-fc09-273d2932436c"
      },
      "outputs": [
        {
          "output_type": "execute_result",
          "data": {
            "text/plain": [
              "       season  team_id  player_id  player_age  transfer_fee_amnt  \\\n",
              "0        2009      985      33544    23.00000     18800000.00000   \n",
              "1        2009      985      62049    21.00000      4500000.00000   \n",
              "2        2009      985      43261    20.00000      4000000.00000   \n",
              "3        2009      985       1397    29.00000            0.00000   \n",
              "4        2009      985      73538    18.00000                NaN   \n",
              "...       ...      ...        ...         ...                ...   \n",
              "70001    2021      306     257808    25.00000                NaN   \n",
              "70002    2021      306     580142    22.00000                NaN   \n",
              "70003    2021      468     340353    22.00000                NaN   \n",
              "70004    2021      468     340353    22.00000      7000000.00000   \n",
              "70005    2021      499     187203    27.00000                NaN   \n",
              "\n",
              "       market_val_amnt  transfer_id  \n",
              "0                  NaN       310832  \n",
              "1        1600000.00000       319841  \n",
              "2         400000.00000       315185  \n",
              "3                  NaN       306421  \n",
              "4                  NaN       339015  \n",
              "...                ...          ...  \n",
              "70001     500000.00000      3071862  \n",
              "70002     100000.00000      3268245  \n",
              "70003    1000000.00000      3619917  \n",
              "70004    1000000.00000      3619916  \n",
              "70005     125000.00000      3611421  \n",
              "\n",
              "[70006 rows x 7 columns]"
            ],
            "text/html": [
              "\n",
              "  <div id=\"df-e280772c-4dc8-4620-a6b5-a0a78e332792\">\n",
              "    <div class=\"colab-df-container\">\n",
              "      <div>\n",
              "<style scoped>\n",
              "    .dataframe tbody tr th:only-of-type {\n",
              "        vertical-align: middle;\n",
              "    }\n",
              "\n",
              "    .dataframe tbody tr th {\n",
              "        vertical-align: top;\n",
              "    }\n",
              "\n",
              "    .dataframe thead th {\n",
              "        text-align: right;\n",
              "    }\n",
              "</style>\n",
              "<table border=\"1\" class=\"dataframe\">\n",
              "  <thead>\n",
              "    <tr style=\"text-align: right;\">\n",
              "      <th></th>\n",
              "      <th>season</th>\n",
              "      <th>team_id</th>\n",
              "      <th>player_id</th>\n",
              "      <th>player_age</th>\n",
              "      <th>transfer_fee_amnt</th>\n",
              "      <th>market_val_amnt</th>\n",
              "      <th>transfer_id</th>\n",
              "    </tr>\n",
              "  </thead>\n",
              "  <tbody>\n",
              "    <tr>\n",
              "      <th>0</th>\n",
              "      <td>2009</td>\n",
              "      <td>985</td>\n",
              "      <td>33544</td>\n",
              "      <td>23.00000</td>\n",
              "      <td>18800000.00000</td>\n",
              "      <td>NaN</td>\n",
              "      <td>310832</td>\n",
              "    </tr>\n",
              "    <tr>\n",
              "      <th>1</th>\n",
              "      <td>2009</td>\n",
              "      <td>985</td>\n",
              "      <td>62049</td>\n",
              "      <td>21.00000</td>\n",
              "      <td>4500000.00000</td>\n",
              "      <td>1600000.00000</td>\n",
              "      <td>319841</td>\n",
              "    </tr>\n",
              "    <tr>\n",
              "      <th>2</th>\n",
              "      <td>2009</td>\n",
              "      <td>985</td>\n",
              "      <td>43261</td>\n",
              "      <td>20.00000</td>\n",
              "      <td>4000000.00000</td>\n",
              "      <td>400000.00000</td>\n",
              "      <td>315185</td>\n",
              "    </tr>\n",
              "    <tr>\n",
              "      <th>3</th>\n",
              "      <td>2009</td>\n",
              "      <td>985</td>\n",
              "      <td>1397</td>\n",
              "      <td>29.00000</td>\n",
              "      <td>0.00000</td>\n",
              "      <td>NaN</td>\n",
              "      <td>306421</td>\n",
              "    </tr>\n",
              "    <tr>\n",
              "      <th>4</th>\n",
              "      <td>2009</td>\n",
              "      <td>985</td>\n",
              "      <td>73538</td>\n",
              "      <td>18.00000</td>\n",
              "      <td>NaN</td>\n",
              "      <td>NaN</td>\n",
              "      <td>339015</td>\n",
              "    </tr>\n",
              "    <tr>\n",
              "      <th>...</th>\n",
              "      <td>...</td>\n",
              "      <td>...</td>\n",
              "      <td>...</td>\n",
              "      <td>...</td>\n",
              "      <td>...</td>\n",
              "      <td>...</td>\n",
              "      <td>...</td>\n",
              "    </tr>\n",
              "    <tr>\n",
              "      <th>70001</th>\n",
              "      <td>2021</td>\n",
              "      <td>306</td>\n",
              "      <td>257808</td>\n",
              "      <td>25.00000</td>\n",
              "      <td>NaN</td>\n",
              "      <td>500000.00000</td>\n",
              "      <td>3071862</td>\n",
              "    </tr>\n",
              "    <tr>\n",
              "      <th>70002</th>\n",
              "      <td>2021</td>\n",
              "      <td>306</td>\n",
              "      <td>580142</td>\n",
              "      <td>22.00000</td>\n",
              "      <td>NaN</td>\n",
              "      <td>100000.00000</td>\n",
              "      <td>3268245</td>\n",
              "    </tr>\n",
              "    <tr>\n",
              "      <th>70003</th>\n",
              "      <td>2021</td>\n",
              "      <td>468</td>\n",
              "      <td>340353</td>\n",
              "      <td>22.00000</td>\n",
              "      <td>NaN</td>\n",
              "      <td>1000000.00000</td>\n",
              "      <td>3619917</td>\n",
              "    </tr>\n",
              "    <tr>\n",
              "      <th>70004</th>\n",
              "      <td>2021</td>\n",
              "      <td>468</td>\n",
              "      <td>340353</td>\n",
              "      <td>22.00000</td>\n",
              "      <td>7000000.00000</td>\n",
              "      <td>1000000.00000</td>\n",
              "      <td>3619916</td>\n",
              "    </tr>\n",
              "    <tr>\n",
              "      <th>70005</th>\n",
              "      <td>2021</td>\n",
              "      <td>499</td>\n",
              "      <td>187203</td>\n",
              "      <td>27.00000</td>\n",
              "      <td>NaN</td>\n",
              "      <td>125000.00000</td>\n",
              "      <td>3611421</td>\n",
              "    </tr>\n",
              "  </tbody>\n",
              "</table>\n",
              "<p>70006 rows × 7 columns</p>\n",
              "</div>\n",
              "      <button class=\"colab-df-convert\" onclick=\"convertToInteractive('df-e280772c-4dc8-4620-a6b5-a0a78e332792')\"\n",
              "              title=\"Convert this dataframe to an interactive table.\"\n",
              "              style=\"display:none;\">\n",
              "        \n",
              "  <svg xmlns=\"http://www.w3.org/2000/svg\" height=\"24px\"viewBox=\"0 0 24 24\"\n",
              "       width=\"24px\">\n",
              "    <path d=\"M0 0h24v24H0V0z\" fill=\"none\"/>\n",
              "    <path d=\"M18.56 5.44l.94 2.06.94-2.06 2.06-.94-2.06-.94-.94-2.06-.94 2.06-2.06.94zm-11 1L8.5 8.5l.94-2.06 2.06-.94-2.06-.94L8.5 2.5l-.94 2.06-2.06.94zm10 10l.94 2.06.94-2.06 2.06-.94-2.06-.94-.94-2.06-.94 2.06-2.06.94z\"/><path d=\"M17.41 7.96l-1.37-1.37c-.4-.4-.92-.59-1.43-.59-.52 0-1.04.2-1.43.59L10.3 9.45l-7.72 7.72c-.78.78-.78 2.05 0 2.83L4 21.41c.39.39.9.59 1.41.59.51 0 1.02-.2 1.41-.59l7.78-7.78 2.81-2.81c.8-.78.8-2.07 0-2.86zM5.41 20L4 18.59l7.72-7.72 1.47 1.35L5.41 20z\"/>\n",
              "  </svg>\n",
              "      </button>\n",
              "      \n",
              "  <style>\n",
              "    .colab-df-container {\n",
              "      display:flex;\n",
              "      flex-wrap:wrap;\n",
              "      gap: 12px;\n",
              "    }\n",
              "\n",
              "    .colab-df-convert {\n",
              "      background-color: #E8F0FE;\n",
              "      border: none;\n",
              "      border-radius: 50%;\n",
              "      cursor: pointer;\n",
              "      display: none;\n",
              "      fill: #1967D2;\n",
              "      height: 32px;\n",
              "      padding: 0 0 0 0;\n",
              "      width: 32px;\n",
              "    }\n",
              "\n",
              "    .colab-df-convert:hover {\n",
              "      background-color: #E2EBFA;\n",
              "      box-shadow: 0px 1px 2px rgba(60, 64, 67, 0.3), 0px 1px 3px 1px rgba(60, 64, 67, 0.15);\n",
              "      fill: #174EA6;\n",
              "    }\n",
              "\n",
              "    [theme=dark] .colab-df-convert {\n",
              "      background-color: #3B4455;\n",
              "      fill: #D2E3FC;\n",
              "    }\n",
              "\n",
              "    [theme=dark] .colab-df-convert:hover {\n",
              "      background-color: #434B5C;\n",
              "      box-shadow: 0px 1px 3px 1px rgba(0, 0, 0, 0.15);\n",
              "      filter: drop-shadow(0px 1px 2px rgba(0, 0, 0, 0.3));\n",
              "      fill: #FFFFFF;\n",
              "    }\n",
              "  </style>\n",
              "\n",
              "      <script>\n",
              "        const buttonEl =\n",
              "          document.querySelector('#df-e280772c-4dc8-4620-a6b5-a0a78e332792 button.colab-df-convert');\n",
              "        buttonEl.style.display =\n",
              "          google.colab.kernel.accessAllowed ? 'block' : 'none';\n",
              "\n",
              "        async function convertToInteractive(key) {\n",
              "          const element = document.querySelector('#df-e280772c-4dc8-4620-a6b5-a0a78e332792');\n",
              "          const dataTable =\n",
              "            await google.colab.kernel.invokeFunction('convertToInteractive',\n",
              "                                                     [key], {});\n",
              "          if (!dataTable) return;\n",
              "\n",
              "          const docLinkHtml = 'Like what you see? Visit the ' +\n",
              "            '<a target=\"_blank\" href=https://colab.research.google.com/notebooks/data_table.ipynb>data table notebook</a>'\n",
              "            + ' to learn more about interactive tables.';\n",
              "          element.innerHTML = '';\n",
              "          dataTable['output_type'] = 'display_data';\n",
              "          await google.colab.output.renderOutput(dataTable, element);\n",
              "          const docLink = document.createElement('div');\n",
              "          docLink.innerHTML = docLinkHtml;\n",
              "          element.appendChild(docLink);\n",
              "        }\n",
              "      </script>\n",
              "    </div>\n",
              "  </div>\n",
              "  "
            ]
          },
          "metadata": {},
          "execution_count": 53
        }
      ],
      "source": [
        "#  separate numeric data and categorical data to perform data imputation\n",
        "numerics = ['int64','float64']\n",
        "numericdf = df.select_dtypes(include=numerics)\n",
        "numericdf"
      ]
    },
    {
      "cell_type": "code",
      "execution_count": null,
      "metadata": {
        "id": "ZNoan6vLm0Fu"
      },
      "outputs": [],
      "source": [
        "# import knn imputer from sklearn library and perform knn imputation\n",
        "from sklearn.impute import KNNImputer\n",
        "imputer = KNNImputer()\n",
        "imputer.fit(numericdf)\n",
        "new_df = imputer.transform(numericdf)"
      ]
    },
    {
      "cell_type": "code",
      "execution_count": null,
      "metadata": {
        "colab": {
          "base_uri": "https://localhost:8080/",
          "height": 424
        },
        "id": "9jojeH0Sm0Fu",
        "outputId": "fd71faee-6dd5-40de-cf84-7e2ccdbf888c"
      },
      "outputs": [
        {
          "output_type": "execute_result",
          "data": {
            "text/plain": [
              "               0         1            2        3              4             5  \\\n",
              "0     2009.00000 985.00000  33544.00000 23.00000 18800000.00000  450000.00000   \n",
              "1     2009.00000 985.00000  62049.00000 21.00000  4500000.00000 1600000.00000   \n",
              "2     2009.00000 985.00000  43261.00000 20.00000  4000000.00000  400000.00000   \n",
              "3     2009.00000 985.00000   1397.00000 29.00000        0.00000  525000.00000   \n",
              "4     2009.00000 985.00000  73538.00000 18.00000  1020000.00000  300000.00000   \n",
              "...          ...       ...          ...      ...            ...           ...   \n",
              "70001 2021.00000 306.00000 257808.00000 25.00000     4000.00000  500000.00000   \n",
              "70002 2021.00000 306.00000 580142.00000 22.00000        0.00000  100000.00000   \n",
              "70003 2021.00000 468.00000 340353.00000 22.00000  2860000.00000 1000000.00000   \n",
              "70004 2021.00000 468.00000 340353.00000 22.00000  7000000.00000 1000000.00000   \n",
              "70005 2021.00000 499.00000 187203.00000 27.00000        0.00000  125000.00000   \n",
              "\n",
              "                  6  \n",
              "0      310832.00000  \n",
              "1      319841.00000  \n",
              "2      315185.00000  \n",
              "3      306421.00000  \n",
              "4      339015.00000  \n",
              "...             ...  \n",
              "70001 3071862.00000  \n",
              "70002 3268245.00000  \n",
              "70003 3619917.00000  \n",
              "70004 3619916.00000  \n",
              "70005 3611421.00000  \n",
              "\n",
              "[70006 rows x 7 columns]"
            ],
            "text/html": [
              "\n",
              "  <div id=\"df-ef8b3cb0-e093-4323-9ed2-87b08a950a3d\">\n",
              "    <div class=\"colab-df-container\">\n",
              "      <div>\n",
              "<style scoped>\n",
              "    .dataframe tbody tr th:only-of-type {\n",
              "        vertical-align: middle;\n",
              "    }\n",
              "\n",
              "    .dataframe tbody tr th {\n",
              "        vertical-align: top;\n",
              "    }\n",
              "\n",
              "    .dataframe thead th {\n",
              "        text-align: right;\n",
              "    }\n",
              "</style>\n",
              "<table border=\"1\" class=\"dataframe\">\n",
              "  <thead>\n",
              "    <tr style=\"text-align: right;\">\n",
              "      <th></th>\n",
              "      <th>0</th>\n",
              "      <th>1</th>\n",
              "      <th>2</th>\n",
              "      <th>3</th>\n",
              "      <th>4</th>\n",
              "      <th>5</th>\n",
              "      <th>6</th>\n",
              "    </tr>\n",
              "  </thead>\n",
              "  <tbody>\n",
              "    <tr>\n",
              "      <th>0</th>\n",
              "      <td>2009.00000</td>\n",
              "      <td>985.00000</td>\n",
              "      <td>33544.00000</td>\n",
              "      <td>23.00000</td>\n",
              "      <td>18800000.00000</td>\n",
              "      <td>450000.00000</td>\n",
              "      <td>310832.00000</td>\n",
              "    </tr>\n",
              "    <tr>\n",
              "      <th>1</th>\n",
              "      <td>2009.00000</td>\n",
              "      <td>985.00000</td>\n",
              "      <td>62049.00000</td>\n",
              "      <td>21.00000</td>\n",
              "      <td>4500000.00000</td>\n",
              "      <td>1600000.00000</td>\n",
              "      <td>319841.00000</td>\n",
              "    </tr>\n",
              "    <tr>\n",
              "      <th>2</th>\n",
              "      <td>2009.00000</td>\n",
              "      <td>985.00000</td>\n",
              "      <td>43261.00000</td>\n",
              "      <td>20.00000</td>\n",
              "      <td>4000000.00000</td>\n",
              "      <td>400000.00000</td>\n",
              "      <td>315185.00000</td>\n",
              "    </tr>\n",
              "    <tr>\n",
              "      <th>3</th>\n",
              "      <td>2009.00000</td>\n",
              "      <td>985.00000</td>\n",
              "      <td>1397.00000</td>\n",
              "      <td>29.00000</td>\n",
              "      <td>0.00000</td>\n",
              "      <td>525000.00000</td>\n",
              "      <td>306421.00000</td>\n",
              "    </tr>\n",
              "    <tr>\n",
              "      <th>4</th>\n",
              "      <td>2009.00000</td>\n",
              "      <td>985.00000</td>\n",
              "      <td>73538.00000</td>\n",
              "      <td>18.00000</td>\n",
              "      <td>1020000.00000</td>\n",
              "      <td>300000.00000</td>\n",
              "      <td>339015.00000</td>\n",
              "    </tr>\n",
              "    <tr>\n",
              "      <th>...</th>\n",
              "      <td>...</td>\n",
              "      <td>...</td>\n",
              "      <td>...</td>\n",
              "      <td>...</td>\n",
              "      <td>...</td>\n",
              "      <td>...</td>\n",
              "      <td>...</td>\n",
              "    </tr>\n",
              "    <tr>\n",
              "      <th>70001</th>\n",
              "      <td>2021.00000</td>\n",
              "      <td>306.00000</td>\n",
              "      <td>257808.00000</td>\n",
              "      <td>25.00000</td>\n",
              "      <td>4000.00000</td>\n",
              "      <td>500000.00000</td>\n",
              "      <td>3071862.00000</td>\n",
              "    </tr>\n",
              "    <tr>\n",
              "      <th>70002</th>\n",
              "      <td>2021.00000</td>\n",
              "      <td>306.00000</td>\n",
              "      <td>580142.00000</td>\n",
              "      <td>22.00000</td>\n",
              "      <td>0.00000</td>\n",
              "      <td>100000.00000</td>\n",
              "      <td>3268245.00000</td>\n",
              "    </tr>\n",
              "    <tr>\n",
              "      <th>70003</th>\n",
              "      <td>2021.00000</td>\n",
              "      <td>468.00000</td>\n",
              "      <td>340353.00000</td>\n",
              "      <td>22.00000</td>\n",
              "      <td>2860000.00000</td>\n",
              "      <td>1000000.00000</td>\n",
              "      <td>3619917.00000</td>\n",
              "    </tr>\n",
              "    <tr>\n",
              "      <th>70004</th>\n",
              "      <td>2021.00000</td>\n",
              "      <td>468.00000</td>\n",
              "      <td>340353.00000</td>\n",
              "      <td>22.00000</td>\n",
              "      <td>7000000.00000</td>\n",
              "      <td>1000000.00000</td>\n",
              "      <td>3619916.00000</td>\n",
              "    </tr>\n",
              "    <tr>\n",
              "      <th>70005</th>\n",
              "      <td>2021.00000</td>\n",
              "      <td>499.00000</td>\n",
              "      <td>187203.00000</td>\n",
              "      <td>27.00000</td>\n",
              "      <td>0.00000</td>\n",
              "      <td>125000.00000</td>\n",
              "      <td>3611421.00000</td>\n",
              "    </tr>\n",
              "  </tbody>\n",
              "</table>\n",
              "<p>70006 rows × 7 columns</p>\n",
              "</div>\n",
              "      <button class=\"colab-df-convert\" onclick=\"convertToInteractive('df-ef8b3cb0-e093-4323-9ed2-87b08a950a3d')\"\n",
              "              title=\"Convert this dataframe to an interactive table.\"\n",
              "              style=\"display:none;\">\n",
              "        \n",
              "  <svg xmlns=\"http://www.w3.org/2000/svg\" height=\"24px\"viewBox=\"0 0 24 24\"\n",
              "       width=\"24px\">\n",
              "    <path d=\"M0 0h24v24H0V0z\" fill=\"none\"/>\n",
              "    <path d=\"M18.56 5.44l.94 2.06.94-2.06 2.06-.94-2.06-.94-.94-2.06-.94 2.06-2.06.94zm-11 1L8.5 8.5l.94-2.06 2.06-.94-2.06-.94L8.5 2.5l-.94 2.06-2.06.94zm10 10l.94 2.06.94-2.06 2.06-.94-2.06-.94-.94-2.06-.94 2.06-2.06.94z\"/><path d=\"M17.41 7.96l-1.37-1.37c-.4-.4-.92-.59-1.43-.59-.52 0-1.04.2-1.43.59L10.3 9.45l-7.72 7.72c-.78.78-.78 2.05 0 2.83L4 21.41c.39.39.9.59 1.41.59.51 0 1.02-.2 1.41-.59l7.78-7.78 2.81-2.81c.8-.78.8-2.07 0-2.86zM5.41 20L4 18.59l7.72-7.72 1.47 1.35L5.41 20z\"/>\n",
              "  </svg>\n",
              "      </button>\n",
              "      \n",
              "  <style>\n",
              "    .colab-df-container {\n",
              "      display:flex;\n",
              "      flex-wrap:wrap;\n",
              "      gap: 12px;\n",
              "    }\n",
              "\n",
              "    .colab-df-convert {\n",
              "      background-color: #E8F0FE;\n",
              "      border: none;\n",
              "      border-radius: 50%;\n",
              "      cursor: pointer;\n",
              "      display: none;\n",
              "      fill: #1967D2;\n",
              "      height: 32px;\n",
              "      padding: 0 0 0 0;\n",
              "      width: 32px;\n",
              "    }\n",
              "\n",
              "    .colab-df-convert:hover {\n",
              "      background-color: #E2EBFA;\n",
              "      box-shadow: 0px 1px 2px rgba(60, 64, 67, 0.3), 0px 1px 3px 1px rgba(60, 64, 67, 0.15);\n",
              "      fill: #174EA6;\n",
              "    }\n",
              "\n",
              "    [theme=dark] .colab-df-convert {\n",
              "      background-color: #3B4455;\n",
              "      fill: #D2E3FC;\n",
              "    }\n",
              "\n",
              "    [theme=dark] .colab-df-convert:hover {\n",
              "      background-color: #434B5C;\n",
              "      box-shadow: 0px 1px 3px 1px rgba(0, 0, 0, 0.15);\n",
              "      filter: drop-shadow(0px 1px 2px rgba(0, 0, 0, 0.3));\n",
              "      fill: #FFFFFF;\n",
              "    }\n",
              "  </style>\n",
              "\n",
              "      <script>\n",
              "        const buttonEl =\n",
              "          document.querySelector('#df-ef8b3cb0-e093-4323-9ed2-87b08a950a3d button.colab-df-convert');\n",
              "        buttonEl.style.display =\n",
              "          google.colab.kernel.accessAllowed ? 'block' : 'none';\n",
              "\n",
              "        async function convertToInteractive(key) {\n",
              "          const element = document.querySelector('#df-ef8b3cb0-e093-4323-9ed2-87b08a950a3d');\n",
              "          const dataTable =\n",
              "            await google.colab.kernel.invokeFunction('convertToInteractive',\n",
              "                                                     [key], {});\n",
              "          if (!dataTable) return;\n",
              "\n",
              "          const docLinkHtml = 'Like what you see? Visit the ' +\n",
              "            '<a target=\"_blank\" href=https://colab.research.google.com/notebooks/data_table.ipynb>data table notebook</a>'\n",
              "            + ' to learn more about interactive tables.';\n",
              "          element.innerHTML = '';\n",
              "          dataTable['output_type'] = 'display_data';\n",
              "          await google.colab.output.renderOutput(dataTable, element);\n",
              "          const docLink = document.createElement('div');\n",
              "          docLink.innerHTML = docLinkHtml;\n",
              "          element.appendChild(docLink);\n",
              "        }\n",
              "      </script>\n",
              "    </div>\n",
              "  </div>\n",
              "  "
            ]
          },
          "metadata": {},
          "execution_count": 55
        }
      ],
      "source": [
        "# see dataframe after knn imputation\n",
        "new_df = pd.DataFrame(new_df)\n",
        "new_df\n"
      ]
    },
    {
      "cell_type": "code",
      "execution_count": null,
      "metadata": {
        "colab": {
          "base_uri": "https://localhost:8080/",
          "height": 424
        },
        "id": "ZZFvcXvim0Fv",
        "outputId": "b9faed19-db19-4839-e5a1-98cf1eedd72d"
      },
      "outputs": [
        {
          "output_type": "execute_result",
          "data": {
            "text/plain": [
              "          season   team_id    player_id  player_age  transfer_fee_amnt  \\\n",
              "0     2009.00000 985.00000  33544.00000    23.00000     18800000.00000   \n",
              "1     2009.00000 985.00000  62049.00000    21.00000      4500000.00000   \n",
              "2     2009.00000 985.00000  43261.00000    20.00000      4000000.00000   \n",
              "3     2009.00000 985.00000   1397.00000    29.00000            0.00000   \n",
              "4     2009.00000 985.00000  73538.00000    18.00000      1020000.00000   \n",
              "...          ...       ...          ...         ...                ...   \n",
              "70001 2021.00000 306.00000 257808.00000    25.00000         4000.00000   \n",
              "70002 2021.00000 306.00000 580142.00000    22.00000            0.00000   \n",
              "70003 2021.00000 468.00000 340353.00000    22.00000      2860000.00000   \n",
              "70004 2021.00000 468.00000 340353.00000    22.00000      7000000.00000   \n",
              "70005 2021.00000 499.00000 187203.00000    27.00000            0.00000   \n",
              "\n",
              "       market_val_amnt   transfer_id  \n",
              "0         450000.00000  310832.00000  \n",
              "1        1600000.00000  319841.00000  \n",
              "2         400000.00000  315185.00000  \n",
              "3         525000.00000  306421.00000  \n",
              "4         300000.00000  339015.00000  \n",
              "...                ...           ...  \n",
              "70001     500000.00000 3071862.00000  \n",
              "70002     100000.00000 3268245.00000  \n",
              "70003    1000000.00000 3619917.00000  \n",
              "70004    1000000.00000 3619916.00000  \n",
              "70005     125000.00000 3611421.00000  \n",
              "\n",
              "[70006 rows x 7 columns]"
            ],
            "text/html": [
              "\n",
              "  <div id=\"df-a3dcd340-8330-45a7-a0e2-a65a6fe6b0d1\">\n",
              "    <div class=\"colab-df-container\">\n",
              "      <div>\n",
              "<style scoped>\n",
              "    .dataframe tbody tr th:only-of-type {\n",
              "        vertical-align: middle;\n",
              "    }\n",
              "\n",
              "    .dataframe tbody tr th {\n",
              "        vertical-align: top;\n",
              "    }\n",
              "\n",
              "    .dataframe thead th {\n",
              "        text-align: right;\n",
              "    }\n",
              "</style>\n",
              "<table border=\"1\" class=\"dataframe\">\n",
              "  <thead>\n",
              "    <tr style=\"text-align: right;\">\n",
              "      <th></th>\n",
              "      <th>season</th>\n",
              "      <th>team_id</th>\n",
              "      <th>player_id</th>\n",
              "      <th>player_age</th>\n",
              "      <th>transfer_fee_amnt</th>\n",
              "      <th>market_val_amnt</th>\n",
              "      <th>transfer_id</th>\n",
              "    </tr>\n",
              "  </thead>\n",
              "  <tbody>\n",
              "    <tr>\n",
              "      <th>0</th>\n",
              "      <td>2009.00000</td>\n",
              "      <td>985.00000</td>\n",
              "      <td>33544.00000</td>\n",
              "      <td>23.00000</td>\n",
              "      <td>18800000.00000</td>\n",
              "      <td>450000.00000</td>\n",
              "      <td>310832.00000</td>\n",
              "    </tr>\n",
              "    <tr>\n",
              "      <th>1</th>\n",
              "      <td>2009.00000</td>\n",
              "      <td>985.00000</td>\n",
              "      <td>62049.00000</td>\n",
              "      <td>21.00000</td>\n",
              "      <td>4500000.00000</td>\n",
              "      <td>1600000.00000</td>\n",
              "      <td>319841.00000</td>\n",
              "    </tr>\n",
              "    <tr>\n",
              "      <th>2</th>\n",
              "      <td>2009.00000</td>\n",
              "      <td>985.00000</td>\n",
              "      <td>43261.00000</td>\n",
              "      <td>20.00000</td>\n",
              "      <td>4000000.00000</td>\n",
              "      <td>400000.00000</td>\n",
              "      <td>315185.00000</td>\n",
              "    </tr>\n",
              "    <tr>\n",
              "      <th>3</th>\n",
              "      <td>2009.00000</td>\n",
              "      <td>985.00000</td>\n",
              "      <td>1397.00000</td>\n",
              "      <td>29.00000</td>\n",
              "      <td>0.00000</td>\n",
              "      <td>525000.00000</td>\n",
              "      <td>306421.00000</td>\n",
              "    </tr>\n",
              "    <tr>\n",
              "      <th>4</th>\n",
              "      <td>2009.00000</td>\n",
              "      <td>985.00000</td>\n",
              "      <td>73538.00000</td>\n",
              "      <td>18.00000</td>\n",
              "      <td>1020000.00000</td>\n",
              "      <td>300000.00000</td>\n",
              "      <td>339015.00000</td>\n",
              "    </tr>\n",
              "    <tr>\n",
              "      <th>...</th>\n",
              "      <td>...</td>\n",
              "      <td>...</td>\n",
              "      <td>...</td>\n",
              "      <td>...</td>\n",
              "      <td>...</td>\n",
              "      <td>...</td>\n",
              "      <td>...</td>\n",
              "    </tr>\n",
              "    <tr>\n",
              "      <th>70001</th>\n",
              "      <td>2021.00000</td>\n",
              "      <td>306.00000</td>\n",
              "      <td>257808.00000</td>\n",
              "      <td>25.00000</td>\n",
              "      <td>4000.00000</td>\n",
              "      <td>500000.00000</td>\n",
              "      <td>3071862.00000</td>\n",
              "    </tr>\n",
              "    <tr>\n",
              "      <th>70002</th>\n",
              "      <td>2021.00000</td>\n",
              "      <td>306.00000</td>\n",
              "      <td>580142.00000</td>\n",
              "      <td>22.00000</td>\n",
              "      <td>0.00000</td>\n",
              "      <td>100000.00000</td>\n",
              "      <td>3268245.00000</td>\n",
              "    </tr>\n",
              "    <tr>\n",
              "      <th>70003</th>\n",
              "      <td>2021.00000</td>\n",
              "      <td>468.00000</td>\n",
              "      <td>340353.00000</td>\n",
              "      <td>22.00000</td>\n",
              "      <td>2860000.00000</td>\n",
              "      <td>1000000.00000</td>\n",
              "      <td>3619917.00000</td>\n",
              "    </tr>\n",
              "    <tr>\n",
              "      <th>70004</th>\n",
              "      <td>2021.00000</td>\n",
              "      <td>468.00000</td>\n",
              "      <td>340353.00000</td>\n",
              "      <td>22.00000</td>\n",
              "      <td>7000000.00000</td>\n",
              "      <td>1000000.00000</td>\n",
              "      <td>3619916.00000</td>\n",
              "    </tr>\n",
              "    <tr>\n",
              "      <th>70005</th>\n",
              "      <td>2021.00000</td>\n",
              "      <td>499.00000</td>\n",
              "      <td>187203.00000</td>\n",
              "      <td>27.00000</td>\n",
              "      <td>0.00000</td>\n",
              "      <td>125000.00000</td>\n",
              "      <td>3611421.00000</td>\n",
              "    </tr>\n",
              "  </tbody>\n",
              "</table>\n",
              "<p>70006 rows × 7 columns</p>\n",
              "</div>\n",
              "      <button class=\"colab-df-convert\" onclick=\"convertToInteractive('df-a3dcd340-8330-45a7-a0e2-a65a6fe6b0d1')\"\n",
              "              title=\"Convert this dataframe to an interactive table.\"\n",
              "              style=\"display:none;\">\n",
              "        \n",
              "  <svg xmlns=\"http://www.w3.org/2000/svg\" height=\"24px\"viewBox=\"0 0 24 24\"\n",
              "       width=\"24px\">\n",
              "    <path d=\"M0 0h24v24H0V0z\" fill=\"none\"/>\n",
              "    <path d=\"M18.56 5.44l.94 2.06.94-2.06 2.06-.94-2.06-.94-.94-2.06-.94 2.06-2.06.94zm-11 1L8.5 8.5l.94-2.06 2.06-.94-2.06-.94L8.5 2.5l-.94 2.06-2.06.94zm10 10l.94 2.06.94-2.06 2.06-.94-2.06-.94-.94-2.06-.94 2.06-2.06.94z\"/><path d=\"M17.41 7.96l-1.37-1.37c-.4-.4-.92-.59-1.43-.59-.52 0-1.04.2-1.43.59L10.3 9.45l-7.72 7.72c-.78.78-.78 2.05 0 2.83L4 21.41c.39.39.9.59 1.41.59.51 0 1.02-.2 1.41-.59l7.78-7.78 2.81-2.81c.8-.78.8-2.07 0-2.86zM5.41 20L4 18.59l7.72-7.72 1.47 1.35L5.41 20z\"/>\n",
              "  </svg>\n",
              "      </button>\n",
              "      \n",
              "  <style>\n",
              "    .colab-df-container {\n",
              "      display:flex;\n",
              "      flex-wrap:wrap;\n",
              "      gap: 12px;\n",
              "    }\n",
              "\n",
              "    .colab-df-convert {\n",
              "      background-color: #E8F0FE;\n",
              "      border: none;\n",
              "      border-radius: 50%;\n",
              "      cursor: pointer;\n",
              "      display: none;\n",
              "      fill: #1967D2;\n",
              "      height: 32px;\n",
              "      padding: 0 0 0 0;\n",
              "      width: 32px;\n",
              "    }\n",
              "\n",
              "    .colab-df-convert:hover {\n",
              "      background-color: #E2EBFA;\n",
              "      box-shadow: 0px 1px 2px rgba(60, 64, 67, 0.3), 0px 1px 3px 1px rgba(60, 64, 67, 0.15);\n",
              "      fill: #174EA6;\n",
              "    }\n",
              "\n",
              "    [theme=dark] .colab-df-convert {\n",
              "      background-color: #3B4455;\n",
              "      fill: #D2E3FC;\n",
              "    }\n",
              "\n",
              "    [theme=dark] .colab-df-convert:hover {\n",
              "      background-color: #434B5C;\n",
              "      box-shadow: 0px 1px 3px 1px rgba(0, 0, 0, 0.15);\n",
              "      filter: drop-shadow(0px 1px 2px rgba(0, 0, 0, 0.3));\n",
              "      fill: #FFFFFF;\n",
              "    }\n",
              "  </style>\n",
              "\n",
              "      <script>\n",
              "        const buttonEl =\n",
              "          document.querySelector('#df-a3dcd340-8330-45a7-a0e2-a65a6fe6b0d1 button.colab-df-convert');\n",
              "        buttonEl.style.display =\n",
              "          google.colab.kernel.accessAllowed ? 'block' : 'none';\n",
              "\n",
              "        async function convertToInteractive(key) {\n",
              "          const element = document.querySelector('#df-a3dcd340-8330-45a7-a0e2-a65a6fe6b0d1');\n",
              "          const dataTable =\n",
              "            await google.colab.kernel.invokeFunction('convertToInteractive',\n",
              "                                                     [key], {});\n",
              "          if (!dataTable) return;\n",
              "\n",
              "          const docLinkHtml = 'Like what you see? Visit the ' +\n",
              "            '<a target=\"_blank\" href=https://colab.research.google.com/notebooks/data_table.ipynb>data table notebook</a>'\n",
              "            + ' to learn more about interactive tables.';\n",
              "          element.innerHTML = '';\n",
              "          dataTable['output_type'] = 'display_data';\n",
              "          await google.colab.output.renderOutput(dataTable, element);\n",
              "          const docLink = document.createElement('div');\n",
              "          docLink.innerHTML = docLinkHtml;\n",
              "          element.appendChild(docLink);\n",
              "        }\n",
              "      </script>\n",
              "    </div>\n",
              "  </div>\n",
              "  "
            ]
          },
          "metadata": {},
          "execution_count": 56
        }
      ],
      "source": [
        "# rename dataframe header\n",
        "cols = ['season', 'team_id', 'player_id', 'player_age',\n",
        "        'transfer_fee_amnt', 'market_val_amnt', 'transfer_id']\n",
        "new_df.columns = cols\n",
        "new_df"
      ]
    },
    {
      "cell_type": "code",
      "execution_count": null,
      "metadata": {
        "id": "HAdyLKbLnsTF"
      },
      "outputs": [],
      "source": [
        "# replace old column value with new column value\n",
        "cols = new_df.columns\n",
        "for col in cols:\n",
        "    df[col] = new_df[col]"
      ]
    },
    {
      "cell_type": "code",
      "execution_count": null,
      "metadata": {
        "colab": {
          "base_uri": "https://localhost:8080/"
        },
        "id": "erp419i6EZi8",
        "outputId": "dc656873-48b3-4674-af99-aa317f18a6c3"
      },
      "outputs": [
        {
          "output_type": "execute_result",
          "data": {
            "text/plain": [
              "0"
            ]
          },
          "metadata": {},
          "execution_count": 58
        }
      ],
      "source": [
        "# fill missing value in player nation column\n",
        "df['player_nation'].fillna(method='bfill', inplace = True)\n",
        "df['player_nation'].isnull().sum()"
      ]
    },
    {
      "cell_type": "code",
      "execution_count": null,
      "metadata": {
        "colab": {
          "base_uri": "https://localhost:8080/",
          "height": 300
        },
        "id": "hCzYlFfzFfRF",
        "outputId": "abeea772-3cb9-4987-dcc1-9a13820d1d4b"
      },
      "outputs": [
        {
          "output_type": "execute_result",
          "data": {
            "text/plain": [
              "           season     team_id    player_id  player_age  transfer_fee_amnt  \\\n",
              "count 70006.00000 70006.00000  70006.00000 70006.00000        70006.00000   \n",
              "mean   2014.93593  1245.37373 161415.17828    24.16516      2730296.68600   \n",
              "std       3.61525  2352.68223 143527.76921     7.84512     14351886.48221   \n",
              "min    2009.00000     2.00000      6.00000    12.00000            0.00000   \n",
              "25%    2012.00000   252.00000  50356.75000    21.00000            0.00000   \n",
              "50%    2015.00000   607.00000 121990.00000    23.00000       300000.00000   \n",
              "75%    2018.00000  1123.00000 240341.00000    27.00000      1600000.00000   \n",
              "max    2021.00000 23826.00000 936900.00000  1775.00000    550000000.00000   \n",
              "\n",
              "       market_val_amnt   transfer_id  \n",
              "count      70006.00000   70006.00000  \n",
              "mean     3037731.38017 1518057.28659  \n",
              "std      7945158.40106  919624.57110  \n",
              "min        10000.00000   68451.00000  \n",
              "25%       260000.00000  746931.25000  \n",
              "50%       610000.00000 1293328.00000  \n",
              "75%      2000000.00000 2198413.75000  \n",
              "max    160000000.00000 3633188.00000  "
            ],
            "text/html": [
              "\n",
              "  <div id=\"df-9e5fa7b8-b293-482f-8c3c-23e5bddc6a8c\">\n",
              "    <div class=\"colab-df-container\">\n",
              "      <div>\n",
              "<style scoped>\n",
              "    .dataframe tbody tr th:only-of-type {\n",
              "        vertical-align: middle;\n",
              "    }\n",
              "\n",
              "    .dataframe tbody tr th {\n",
              "        vertical-align: top;\n",
              "    }\n",
              "\n",
              "    .dataframe thead th {\n",
              "        text-align: right;\n",
              "    }\n",
              "</style>\n",
              "<table border=\"1\" class=\"dataframe\">\n",
              "  <thead>\n",
              "    <tr style=\"text-align: right;\">\n",
              "      <th></th>\n",
              "      <th>season</th>\n",
              "      <th>team_id</th>\n",
              "      <th>player_id</th>\n",
              "      <th>player_age</th>\n",
              "      <th>transfer_fee_amnt</th>\n",
              "      <th>market_val_amnt</th>\n",
              "      <th>transfer_id</th>\n",
              "    </tr>\n",
              "  </thead>\n",
              "  <tbody>\n",
              "    <tr>\n",
              "      <th>count</th>\n",
              "      <td>70006.00000</td>\n",
              "      <td>70006.00000</td>\n",
              "      <td>70006.00000</td>\n",
              "      <td>70006.00000</td>\n",
              "      <td>70006.00000</td>\n",
              "      <td>70006.00000</td>\n",
              "      <td>70006.00000</td>\n",
              "    </tr>\n",
              "    <tr>\n",
              "      <th>mean</th>\n",
              "      <td>2014.93593</td>\n",
              "      <td>1245.37373</td>\n",
              "      <td>161415.17828</td>\n",
              "      <td>24.16516</td>\n",
              "      <td>2730296.68600</td>\n",
              "      <td>3037731.38017</td>\n",
              "      <td>1518057.28659</td>\n",
              "    </tr>\n",
              "    <tr>\n",
              "      <th>std</th>\n",
              "      <td>3.61525</td>\n",
              "      <td>2352.68223</td>\n",
              "      <td>143527.76921</td>\n",
              "      <td>7.84512</td>\n",
              "      <td>14351886.48221</td>\n",
              "      <td>7945158.40106</td>\n",
              "      <td>919624.57110</td>\n",
              "    </tr>\n",
              "    <tr>\n",
              "      <th>min</th>\n",
              "      <td>2009.00000</td>\n",
              "      <td>2.00000</td>\n",
              "      <td>6.00000</td>\n",
              "      <td>12.00000</td>\n",
              "      <td>0.00000</td>\n",
              "      <td>10000.00000</td>\n",
              "      <td>68451.00000</td>\n",
              "    </tr>\n",
              "    <tr>\n",
              "      <th>25%</th>\n",
              "      <td>2012.00000</td>\n",
              "      <td>252.00000</td>\n",
              "      <td>50356.75000</td>\n",
              "      <td>21.00000</td>\n",
              "      <td>0.00000</td>\n",
              "      <td>260000.00000</td>\n",
              "      <td>746931.25000</td>\n",
              "    </tr>\n",
              "    <tr>\n",
              "      <th>50%</th>\n",
              "      <td>2015.00000</td>\n",
              "      <td>607.00000</td>\n",
              "      <td>121990.00000</td>\n",
              "      <td>23.00000</td>\n",
              "      <td>300000.00000</td>\n",
              "      <td>610000.00000</td>\n",
              "      <td>1293328.00000</td>\n",
              "    </tr>\n",
              "    <tr>\n",
              "      <th>75%</th>\n",
              "      <td>2018.00000</td>\n",
              "      <td>1123.00000</td>\n",
              "      <td>240341.00000</td>\n",
              "      <td>27.00000</td>\n",
              "      <td>1600000.00000</td>\n",
              "      <td>2000000.00000</td>\n",
              "      <td>2198413.75000</td>\n",
              "    </tr>\n",
              "    <tr>\n",
              "      <th>max</th>\n",
              "      <td>2021.00000</td>\n",
              "      <td>23826.00000</td>\n",
              "      <td>936900.00000</td>\n",
              "      <td>1775.00000</td>\n",
              "      <td>550000000.00000</td>\n",
              "      <td>160000000.00000</td>\n",
              "      <td>3633188.00000</td>\n",
              "    </tr>\n",
              "  </tbody>\n",
              "</table>\n",
              "</div>\n",
              "      <button class=\"colab-df-convert\" onclick=\"convertToInteractive('df-9e5fa7b8-b293-482f-8c3c-23e5bddc6a8c')\"\n",
              "              title=\"Convert this dataframe to an interactive table.\"\n",
              "              style=\"display:none;\">\n",
              "        \n",
              "  <svg xmlns=\"http://www.w3.org/2000/svg\" height=\"24px\"viewBox=\"0 0 24 24\"\n",
              "       width=\"24px\">\n",
              "    <path d=\"M0 0h24v24H0V0z\" fill=\"none\"/>\n",
              "    <path d=\"M18.56 5.44l.94 2.06.94-2.06 2.06-.94-2.06-.94-.94-2.06-.94 2.06-2.06.94zm-11 1L8.5 8.5l.94-2.06 2.06-.94-2.06-.94L8.5 2.5l-.94 2.06-2.06.94zm10 10l.94 2.06.94-2.06 2.06-.94-2.06-.94-.94-2.06-.94 2.06-2.06.94z\"/><path d=\"M17.41 7.96l-1.37-1.37c-.4-.4-.92-.59-1.43-.59-.52 0-1.04.2-1.43.59L10.3 9.45l-7.72 7.72c-.78.78-.78 2.05 0 2.83L4 21.41c.39.39.9.59 1.41.59.51 0 1.02-.2 1.41-.59l7.78-7.78 2.81-2.81c.8-.78.8-2.07 0-2.86zM5.41 20L4 18.59l7.72-7.72 1.47 1.35L5.41 20z\"/>\n",
              "  </svg>\n",
              "      </button>\n",
              "      \n",
              "  <style>\n",
              "    .colab-df-container {\n",
              "      display:flex;\n",
              "      flex-wrap:wrap;\n",
              "      gap: 12px;\n",
              "    }\n",
              "\n",
              "    .colab-df-convert {\n",
              "      background-color: #E8F0FE;\n",
              "      border: none;\n",
              "      border-radius: 50%;\n",
              "      cursor: pointer;\n",
              "      display: none;\n",
              "      fill: #1967D2;\n",
              "      height: 32px;\n",
              "      padding: 0 0 0 0;\n",
              "      width: 32px;\n",
              "    }\n",
              "\n",
              "    .colab-df-convert:hover {\n",
              "      background-color: #E2EBFA;\n",
              "      box-shadow: 0px 1px 2px rgba(60, 64, 67, 0.3), 0px 1px 3px 1px rgba(60, 64, 67, 0.15);\n",
              "      fill: #174EA6;\n",
              "    }\n",
              "\n",
              "    [theme=dark] .colab-df-convert {\n",
              "      background-color: #3B4455;\n",
              "      fill: #D2E3FC;\n",
              "    }\n",
              "\n",
              "    [theme=dark] .colab-df-convert:hover {\n",
              "      background-color: #434B5C;\n",
              "      box-shadow: 0px 1px 3px 1px rgba(0, 0, 0, 0.15);\n",
              "      filter: drop-shadow(0px 1px 2px rgba(0, 0, 0, 0.3));\n",
              "      fill: #FFFFFF;\n",
              "    }\n",
              "  </style>\n",
              "\n",
              "      <script>\n",
              "        const buttonEl =\n",
              "          document.querySelector('#df-9e5fa7b8-b293-482f-8c3c-23e5bddc6a8c button.colab-df-convert');\n",
              "        buttonEl.style.display =\n",
              "          google.colab.kernel.accessAllowed ? 'block' : 'none';\n",
              "\n",
              "        async function convertToInteractive(key) {\n",
              "          const element = document.querySelector('#df-9e5fa7b8-b293-482f-8c3c-23e5bddc6a8c');\n",
              "          const dataTable =\n",
              "            await google.colab.kernel.invokeFunction('convertToInteractive',\n",
              "                                                     [key], {});\n",
              "          if (!dataTable) return;\n",
              "\n",
              "          const docLinkHtml = 'Like what you see? Visit the ' +\n",
              "            '<a target=\"_blank\" href=https://colab.research.google.com/notebooks/data_table.ipynb>data table notebook</a>'\n",
              "            + ' to learn more about interactive tables.';\n",
              "          element.innerHTML = '';\n",
              "          dataTable['output_type'] = 'display_data';\n",
              "          await google.colab.output.renderOutput(dataTable, element);\n",
              "          const docLink = document.createElement('div');\n",
              "          docLink.innerHTML = docLinkHtml;\n",
              "          element.appendChild(docLink);\n",
              "        }\n",
              "      </script>\n",
              "    </div>\n",
              "  </div>\n",
              "  "
            ]
          },
          "metadata": {},
          "execution_count": 59
        }
      ],
      "source": [
        "#we take a look at the statistics of our numeric attributes\n",
        "df.describe()"
      ]
    },
    {
      "cell_type": "markdown",
      "source": [
        "Create a new column is_expensive that would denote if a player's market value is greater or less than the mean. This would be our binary target variable which would be classified using different models."
      ],
      "metadata": {
        "id": "b_sRXFssnkLI"
      }
    },
    {
      "cell_type": "code",
      "execution_count": null,
      "metadata": {
        "colab": {
          "base_uri": "https://localhost:8080/"
        },
        "id": "Xms8P7XmEe7B",
        "outputId": "5b723972-b939-4240-a204-04ead0ab432a"
      },
      "outputs": [
        {
          "output_type": "stream",
          "name": "stdout",
          "text": [
            "3037731.3801674144\n"
          ]
        }
      ],
      "source": [
        "# calculate means\n",
        "mean = df['market_val_amnt'].mean()\n",
        "print(mean)\n",
        "# turn market val amount column into a list\n",
        "list_mark = df['market_val_amnt'].tolist()\n",
        "# create a list\n",
        "res = []\n",
        "# loop through market val amount column\n",
        "# if value is above mean then append 1 (true)\n",
        "# else append 0 (false)\n",
        "for i in list_mark:\n",
        "  if i < mean:\n",
        "    res.append(0)\n",
        "  else:\n",
        "    res.append(1)\n",
        "\n",
        "# turn that list into  panda dataframe\n",
        "res = pd.DataFrame (res, columns = ['is_expensive'])\n",
        "# create a new column in df\n",
        "df['is_expensive'] = res"
      ]
    },
    {
      "cell_type": "code",
      "execution_count": null,
      "metadata": {
        "colab": {
          "base_uri": "https://localhost:8080/"
        },
        "id": "jYDRBqaoHbGp",
        "outputId": "d1019be0-6df1-4f2a-92c1-03e1a40ee8a6"
      },
      "outputs": [
        {
          "output_type": "execute_result",
          "data": {
            "text/plain": [
              "0    56893\n",
              "1    13113\n",
              "Name: is_expensive, dtype: int64"
            ]
          },
          "metadata": {},
          "execution_count": 61
        }
      ],
      "source": [
        "# count 0 and 1 in is expensive column\n",
        "df['is_expensive'].value_counts()"
      ]
    },
    {
      "cell_type": "markdown",
      "source": [
        "We see the that the distribution is highly unbalanced so we would need to use an alogirithm like SMOTE to even out the traning data."
      ],
      "metadata": {
        "id": "k7ZhiV1PvsKn"
      }
    },
    {
      "cell_type": "code",
      "execution_count": null,
      "metadata": {
        "colab": {
          "base_uri": "https://localhost:8080/"
        },
        "id": "4xSkWwCOIqgN",
        "outputId": "76106478-9007-4281-8f59-5616a3cb0ea8"
      },
      "outputs": [
        {
          "output_type": "execute_result",
          "data": {
            "text/plain": [
              "league                  0\n",
              "season                  0\n",
              "window                  0\n",
              "team_id                 0\n",
              "team_name               0\n",
              "team_country            0\n",
              "dir                     0\n",
              "player_id               0\n",
              "player_name             0\n",
              "player_age              0\n",
              "player_nation           0\n",
              "player_pos              0\n",
              "counter_team_id         0\n",
              "counter_team_name       0\n",
              "counter_team_country    0\n",
              "transfer_fee_amnt       0\n",
              "market_val_amnt         0\n",
              "is_free                 0\n",
              "is_loan                 0\n",
              "is_loan_end             0\n",
              "is_retired              0\n",
              "transfer_id             0\n",
              "is_expensive            0\n",
              "dtype: int64"
            ]
          },
          "metadata": {},
          "execution_count": 62
        }
      ],
      "source": [
        "# check null for each column after data cleaning\n",
        "# will ignore player_nation2 column because will drop that column\n",
        "df.isnull().sum()"
      ]
    },
    {
      "cell_type": "code",
      "execution_count": null,
      "metadata": {
        "colab": {
          "base_uri": "https://localhost:8080/",
          "height": 300
        },
        "id": "1ZViaCucnv2-",
        "outputId": "72e8183f-a5fd-4b75-911c-bd474384b66b"
      },
      "outputs": [
        {
          "output_type": "execute_result",
          "data": {
            "text/plain": [
              "           season     team_id    player_id  player_age  transfer_fee_amnt  \\\n",
              "count 70006.00000 70006.00000  70006.00000 70006.00000        70006.00000   \n",
              "mean   2014.93593  1245.37373 161415.17828    24.16516      2730296.68600   \n",
              "std       3.61525  2352.68223 143527.76921     7.84512     14351886.48221   \n",
              "min    2009.00000     2.00000      6.00000    12.00000            0.00000   \n",
              "25%    2012.00000   252.00000  50356.75000    21.00000            0.00000   \n",
              "50%    2015.00000   607.00000 121990.00000    23.00000       300000.00000   \n",
              "75%    2018.00000  1123.00000 240341.00000    27.00000      1600000.00000   \n",
              "max    2021.00000 23826.00000 936900.00000  1775.00000    550000000.00000   \n",
              "\n",
              "       market_val_amnt   transfer_id  is_expensive  \n",
              "count      70006.00000   70006.00000   70006.00000  \n",
              "mean     3037731.38017 1518057.28659       0.18731  \n",
              "std      7945158.40106  919624.57110       0.39016  \n",
              "min        10000.00000   68451.00000       0.00000  \n",
              "25%       260000.00000  746931.25000       0.00000  \n",
              "50%       610000.00000 1293328.00000       0.00000  \n",
              "75%      2000000.00000 2198413.75000       0.00000  \n",
              "max    160000000.00000 3633188.00000       1.00000  "
            ],
            "text/html": [
              "\n",
              "  <div id=\"df-d4dffe0e-de5d-4dfd-8619-a6160f146f63\">\n",
              "    <div class=\"colab-df-container\">\n",
              "      <div>\n",
              "<style scoped>\n",
              "    .dataframe tbody tr th:only-of-type {\n",
              "        vertical-align: middle;\n",
              "    }\n",
              "\n",
              "    .dataframe tbody tr th {\n",
              "        vertical-align: top;\n",
              "    }\n",
              "\n",
              "    .dataframe thead th {\n",
              "        text-align: right;\n",
              "    }\n",
              "</style>\n",
              "<table border=\"1\" class=\"dataframe\">\n",
              "  <thead>\n",
              "    <tr style=\"text-align: right;\">\n",
              "      <th></th>\n",
              "      <th>season</th>\n",
              "      <th>team_id</th>\n",
              "      <th>player_id</th>\n",
              "      <th>player_age</th>\n",
              "      <th>transfer_fee_amnt</th>\n",
              "      <th>market_val_amnt</th>\n",
              "      <th>transfer_id</th>\n",
              "      <th>is_expensive</th>\n",
              "    </tr>\n",
              "  </thead>\n",
              "  <tbody>\n",
              "    <tr>\n",
              "      <th>count</th>\n",
              "      <td>70006.00000</td>\n",
              "      <td>70006.00000</td>\n",
              "      <td>70006.00000</td>\n",
              "      <td>70006.00000</td>\n",
              "      <td>70006.00000</td>\n",
              "      <td>70006.00000</td>\n",
              "      <td>70006.00000</td>\n",
              "      <td>70006.00000</td>\n",
              "    </tr>\n",
              "    <tr>\n",
              "      <th>mean</th>\n",
              "      <td>2014.93593</td>\n",
              "      <td>1245.37373</td>\n",
              "      <td>161415.17828</td>\n",
              "      <td>24.16516</td>\n",
              "      <td>2730296.68600</td>\n",
              "      <td>3037731.38017</td>\n",
              "      <td>1518057.28659</td>\n",
              "      <td>0.18731</td>\n",
              "    </tr>\n",
              "    <tr>\n",
              "      <th>std</th>\n",
              "      <td>3.61525</td>\n",
              "      <td>2352.68223</td>\n",
              "      <td>143527.76921</td>\n",
              "      <td>7.84512</td>\n",
              "      <td>14351886.48221</td>\n",
              "      <td>7945158.40106</td>\n",
              "      <td>919624.57110</td>\n",
              "      <td>0.39016</td>\n",
              "    </tr>\n",
              "    <tr>\n",
              "      <th>min</th>\n",
              "      <td>2009.00000</td>\n",
              "      <td>2.00000</td>\n",
              "      <td>6.00000</td>\n",
              "      <td>12.00000</td>\n",
              "      <td>0.00000</td>\n",
              "      <td>10000.00000</td>\n",
              "      <td>68451.00000</td>\n",
              "      <td>0.00000</td>\n",
              "    </tr>\n",
              "    <tr>\n",
              "      <th>25%</th>\n",
              "      <td>2012.00000</td>\n",
              "      <td>252.00000</td>\n",
              "      <td>50356.75000</td>\n",
              "      <td>21.00000</td>\n",
              "      <td>0.00000</td>\n",
              "      <td>260000.00000</td>\n",
              "      <td>746931.25000</td>\n",
              "      <td>0.00000</td>\n",
              "    </tr>\n",
              "    <tr>\n",
              "      <th>50%</th>\n",
              "      <td>2015.00000</td>\n",
              "      <td>607.00000</td>\n",
              "      <td>121990.00000</td>\n",
              "      <td>23.00000</td>\n",
              "      <td>300000.00000</td>\n",
              "      <td>610000.00000</td>\n",
              "      <td>1293328.00000</td>\n",
              "      <td>0.00000</td>\n",
              "    </tr>\n",
              "    <tr>\n",
              "      <th>75%</th>\n",
              "      <td>2018.00000</td>\n",
              "      <td>1123.00000</td>\n",
              "      <td>240341.00000</td>\n",
              "      <td>27.00000</td>\n",
              "      <td>1600000.00000</td>\n",
              "      <td>2000000.00000</td>\n",
              "      <td>2198413.75000</td>\n",
              "      <td>0.00000</td>\n",
              "    </tr>\n",
              "    <tr>\n",
              "      <th>max</th>\n",
              "      <td>2021.00000</td>\n",
              "      <td>23826.00000</td>\n",
              "      <td>936900.00000</td>\n",
              "      <td>1775.00000</td>\n",
              "      <td>550000000.00000</td>\n",
              "      <td>160000000.00000</td>\n",
              "      <td>3633188.00000</td>\n",
              "      <td>1.00000</td>\n",
              "    </tr>\n",
              "  </tbody>\n",
              "</table>\n",
              "</div>\n",
              "      <button class=\"colab-df-convert\" onclick=\"convertToInteractive('df-d4dffe0e-de5d-4dfd-8619-a6160f146f63')\"\n",
              "              title=\"Convert this dataframe to an interactive table.\"\n",
              "              style=\"display:none;\">\n",
              "        \n",
              "  <svg xmlns=\"http://www.w3.org/2000/svg\" height=\"24px\"viewBox=\"0 0 24 24\"\n",
              "       width=\"24px\">\n",
              "    <path d=\"M0 0h24v24H0V0z\" fill=\"none\"/>\n",
              "    <path d=\"M18.56 5.44l.94 2.06.94-2.06 2.06-.94-2.06-.94-.94-2.06-.94 2.06-2.06.94zm-11 1L8.5 8.5l.94-2.06 2.06-.94-2.06-.94L8.5 2.5l-.94 2.06-2.06.94zm10 10l.94 2.06.94-2.06 2.06-.94-2.06-.94-.94-2.06-.94 2.06-2.06.94z\"/><path d=\"M17.41 7.96l-1.37-1.37c-.4-.4-.92-.59-1.43-.59-.52 0-1.04.2-1.43.59L10.3 9.45l-7.72 7.72c-.78.78-.78 2.05 0 2.83L4 21.41c.39.39.9.59 1.41.59.51 0 1.02-.2 1.41-.59l7.78-7.78 2.81-2.81c.8-.78.8-2.07 0-2.86zM5.41 20L4 18.59l7.72-7.72 1.47 1.35L5.41 20z\"/>\n",
              "  </svg>\n",
              "      </button>\n",
              "      \n",
              "  <style>\n",
              "    .colab-df-container {\n",
              "      display:flex;\n",
              "      flex-wrap:wrap;\n",
              "      gap: 12px;\n",
              "    }\n",
              "\n",
              "    .colab-df-convert {\n",
              "      background-color: #E8F0FE;\n",
              "      border: none;\n",
              "      border-radius: 50%;\n",
              "      cursor: pointer;\n",
              "      display: none;\n",
              "      fill: #1967D2;\n",
              "      height: 32px;\n",
              "      padding: 0 0 0 0;\n",
              "      width: 32px;\n",
              "    }\n",
              "\n",
              "    .colab-df-convert:hover {\n",
              "      background-color: #E2EBFA;\n",
              "      box-shadow: 0px 1px 2px rgba(60, 64, 67, 0.3), 0px 1px 3px 1px rgba(60, 64, 67, 0.15);\n",
              "      fill: #174EA6;\n",
              "    }\n",
              "\n",
              "    [theme=dark] .colab-df-convert {\n",
              "      background-color: #3B4455;\n",
              "      fill: #D2E3FC;\n",
              "    }\n",
              "\n",
              "    [theme=dark] .colab-df-convert:hover {\n",
              "      background-color: #434B5C;\n",
              "      box-shadow: 0px 1px 3px 1px rgba(0, 0, 0, 0.15);\n",
              "      filter: drop-shadow(0px 1px 2px rgba(0, 0, 0, 0.3));\n",
              "      fill: #FFFFFF;\n",
              "    }\n",
              "  </style>\n",
              "\n",
              "      <script>\n",
              "        const buttonEl =\n",
              "          document.querySelector('#df-d4dffe0e-de5d-4dfd-8619-a6160f146f63 button.colab-df-convert');\n",
              "        buttonEl.style.display =\n",
              "          google.colab.kernel.accessAllowed ? 'block' : 'none';\n",
              "\n",
              "        async function convertToInteractive(key) {\n",
              "          const element = document.querySelector('#df-d4dffe0e-de5d-4dfd-8619-a6160f146f63');\n",
              "          const dataTable =\n",
              "            await google.colab.kernel.invokeFunction('convertToInteractive',\n",
              "                                                     [key], {});\n",
              "          if (!dataTable) return;\n",
              "\n",
              "          const docLinkHtml = 'Like what you see? Visit the ' +\n",
              "            '<a target=\"_blank\" href=https://colab.research.google.com/notebooks/data_table.ipynb>data table notebook</a>'\n",
              "            + ' to learn more about interactive tables.';\n",
              "          element.innerHTML = '';\n",
              "          dataTable['output_type'] = 'display_data';\n",
              "          await google.colab.output.renderOutput(dataTable, element);\n",
              "          const docLink = document.createElement('div');\n",
              "          docLink.innerHTML = docLinkHtml;\n",
              "          element.appendChild(docLink);\n",
              "        }\n",
              "      </script>\n",
              "    </div>\n",
              "  </div>\n",
              "  "
            ]
          },
          "metadata": {},
          "execution_count": 63
        }
      ],
      "source": [
        "# display data frame stats \n",
        "df.describe()"
      ]
    },
    {
      "cell_type": "markdown",
      "metadata": {
        "id": "AMgnd2R1qhya"
      },
      "source": [
        "## EDA Analysis"
      ]
    },
    {
      "cell_type": "code",
      "execution_count": null,
      "metadata": {
        "colab": {
          "base_uri": "https://localhost:8080/",
          "height": 663
        },
        "id": "YPDqA01t9q1b",
        "outputId": "7b0ccf2c-1e48-4731-904c-418036853746"
      },
      "outputs": [
        {
          "output_type": "execute_result",
          "data": {
            "text/plain": [
              "<matplotlib.axes._subplots.AxesSubplot at 0x7ff75979e310>"
            ]
          },
          "metadata": {},
          "execution_count": 64
        },
        {
          "output_type": "display_data",
          "data": {
            "text/plain": [
              "<Figure size 1800x720 with 3 Axes>"
            ],
            "image/png": "[encoded data removed]"
          },
          "metadata": {
            "needs_background": "light"
          }
        }
      ],
      "source": [
        "# display null value of each column\n",
        "msno.bar(df_cp)\n"
      ]
    },
    {
      "cell_type": "code",
      "execution_count": null,
      "metadata": {
        "id": "96yexhCHppxS"
      },
      "outputs": [],
      "source": [
        "# create a function to set graph size\n",
        "def graph_size(x = 12, y = 10):\n",
        "  plt.figure(figsize = (x, y))\n",
        "  "
      ]
    },
    {
      "cell_type": "code",
      "execution_count": null,
      "metadata": {
        "colab": {
          "base_uri": "https://localhost:8080/",
          "height": 661
        },
        "id": "MMq_UFTArfgj",
        "outputId": "f3cf3f5b-d069-4f1b-d496-f619872032f7"
      },
      "outputs": [
        {
          "output_type": "execute_result",
          "data": {
            "text/plain": [
              "(array([11161.,  8704.,     0., 16135.,     0.,  7000.,  8199.,     0.,\n",
              "        11378.,  7429.]),\n",
              " array([0. , 0.6, 1.2, 1.8, 2.4, 3. , 3.6, 4.2, 4.8, 5.4, 6. ]),\n",
              " <a list of 10 Patch objects>)"
            ]
          },
          "metadata": {},
          "execution_count": 66
        },
        {
          "output_type": "display_data",
          "data": {
            "text/plain": [
              "<Figure size 864x720 with 1 Axes>"
            ],
            "image/png": "[encoded data removed]"
          },
          "metadata": {
            "needs_background": "light"
          }
        }
      ],
      "source": [
        "# display how many players in each league\n",
        "graph_size()\n",
        "plt.hist(df['team_country'], bins=10)"
      ]
    },
    {
      "cell_type": "code",
      "execution_count": null,
      "metadata": {
        "colab": {
          "base_uri": "https://localhost:8080/",
          "height": 619
        },
        "id": "Qv0eesO1sG3D",
        "outputId": "b717f08f-09e4-40f6-eef9-e25dc30d53ca"
      },
      "outputs": [
        {
          "output_type": "execute_result",
          "data": {
            "text/plain": [
              "<BarContainer object of 7 artists>"
            ]
          },
          "metadata": {},
          "execution_count": 67
        },
        {
          "output_type": "display_data",
          "data": {
            "text/plain": [
              "<Figure size 864x720 with 1 Axes>"
            ],
            "image/png": "[encoded data removed]"
          },
          "metadata": {
            "needs_background": "light"
          }
        }
      ],
      "source": [
        "# Display the total player transfer value of each coutry.\n",
        "import collections\n",
        "total = collections.defaultdict(int)\n",
        "for player, country in zip(df['transfer_fee_amnt'].tolist(),df['team_country'].tolist()):\n",
        "  total[country] += player\n",
        "\n",
        "graph_size()\n",
        "plt.bar(list(total.keys()),list(total.values()), color=\"goldenrod\")"
      ]
    },
    {
      "cell_type": "code",
      "execution_count": null,
      "metadata": {
        "id": "JltUgPTgKQX7"
      },
      "outputs": [],
      "source": [
        "\n",
        "col = df['team_country'].unique()\n",
        "mapping = collections.defaultdict(int)\n",
        "\n",
        "play_na = df['player_nation'].tolist()\n",
        "mark = df['market_val_amnt'].tolist()\n",
        "for nation,val in zip(play_na,mark):\n",
        "        if nation in col:\n",
        "          mapping[nation] += val\n"
      ]
    },
    {
      "cell_type": "code",
      "execution_count": null,
      "metadata": {
        "colab": {
          "base_uri": "https://localhost:8080/"
        },
        "id": "vtZjXLXQLabu",
        "outputId": "03fd6f82-7c95-4f7b-a7f8-db517c893c51"
      },
      "outputs": [
        {
          "output_type": "stream",
          "name": "stdout",
          "text": [
            "defaultdict(<class 'int'>, {'France': 21145902000.0, 'England': 18384828000.0, 'Portugal': 16726628000.0, 'Italy': 20171535000.0, 'Spain': 19918525000.0, 'Netherlands': 10682678000.0, 'Germany': 10599030000.0})\n"
          ]
        }
      ],
      "source": [
        "print(mapping)"
      ]
    },
    {
      "cell_type": "code",
      "execution_count": null,
      "metadata": {
        "colab": {
          "base_uri": "https://localhost:8080/",
          "height": 619
        },
        "id": "jOCyTSP2LMYm",
        "outputId": "cc18b736-226f-4a0d-823b-662fe5a9b551"
      },
      "outputs": [
        {
          "output_type": "execute_result",
          "data": {
            "text/plain": [
              "<BarContainer object of 7 artists>"
            ]
          },
          "metadata": {},
          "execution_count": 70
        },
        {
          "output_type": "display_data",
          "data": {
            "text/plain": [
              "<Figure size 864x720 with 1 Axes>"
            ],
            "image/png": "[encoded data removed]"
          },
          "metadata": {
            "needs_background": "light"
          }
        }
      ],
      "source": [
        "graph_size()\n",
        "plt.bar(list(mapping.keys()),list(mapping.values()))"
      ]
    },
    {
      "cell_type": "code",
      "execution_count": null,
      "metadata": {
        "colab": {
          "base_uri": "https://localhost:8080/",
          "height": 609
        },
        "id": "KM0xww7e5zj2",
        "outputId": "9930292f-016c-422e-aad8-509e575dc79f"
      },
      "outputs": [
        {
          "output_type": "execute_result",
          "data": {
            "text/plain": [
              "<BarContainer object of 2 artists>"
            ]
          },
          "metadata": {},
          "execution_count": 71
        },
        {
          "output_type": "display_data",
          "data": {
            "text/plain": [
              "<Figure size 864x720 with 1 Axes>"
            ],
            "image/png": "[encoded data removed]"
          },
          "metadata": {
            "needs_background": "light"
          }
        }
      ],
      "source": [
        "# to see how many players are free to transfer\n",
        "graph_size()\n",
        "total = collections.defaultdict(int)\n",
        "for val in df['is_free'].tolist():\n",
        "  total[val] += 1\n",
        "x = np.array(['false','true'])\n",
        "y = np.array(list(total.values()))\n",
        "plt.bar(x,y)"
      ]
    },
    {
      "cell_type": "code",
      "execution_count": null,
      "metadata": {
        "colab": {
          "base_uri": "https://localhost:8080/",
          "height": 661
        },
        "id": "r9F9smtkGOD3",
        "outputId": "fd9baf4a-ac30-4e2d-b10b-8a48d56814b3"
      },
      "outputs": [
        {
          "output_type": "execute_result",
          "data": {
            "text/plain": [
              "(array([16853.,  4700., 19710.,  6287.,  9334.,  5738.,  5766.,   730.,\n",
              "          738.,   150.]),\n",
              " array([ 0. ,  1.5,  3. ,  4.5,  6. ,  7.5,  9. , 10.5, 12. , 13.5, 15. ]),\n",
              " <a list of 10 Patch objects>)"
            ]
          },
          "metadata": {},
          "execution_count": 72
        },
        {
          "output_type": "display_data",
          "data": {
            "text/plain": [
              "<Figure size 864x720 with 1 Axes>"
            ],
            "image/png": "[encoded data removed]"
          },
          "metadata": {
            "needs_background": "light"
          }
        }
      ],
      "source": [
        "# see how many players on each position\n",
        "graph_size()\n",
        "plt.hist(df['player_pos'])"
      ]
    },
    {
      "cell_type": "code",
      "execution_count": null,
      "metadata": {
        "colab": {
          "base_uri": "https://localhost:8080/",
          "height": 619
        },
        "id": "qyZ0iovFKN9Z",
        "outputId": "327f6d87-ac52-4760-c4a5-fc37af846f7e"
      },
      "outputs": [
        {
          "output_type": "execute_result",
          "data": {
            "text/plain": [
              "<BarContainer object of 13 artists>"
            ]
          },
          "metadata": {},
          "execution_count": 73
        },
        {
          "output_type": "display_data",
          "data": {
            "text/plain": [
              "<Figure size 864x720 with 1 Axes>"
            ],
            "image/png": "[encoded data removed]"
          },
          "metadata": {
            "needs_background": "light"
          }
        }
      ],
      "source": [
        "# the total transfer value of seven leagues  each season\n",
        "\n",
        "total = collections.defaultdict(int)\n",
        "\n",
        "for sea,val in zip(df['season'].tolist(),df['transfer_fee_amnt'].tolist()):\n",
        "  total[sea] += val\n",
        "\n",
        "graph_size()\n",
        "plt.bar(list(total.keys()),list(total.values()))"
      ]
    },
    {
      "cell_type": "code",
      "execution_count": null,
      "metadata": {
        "colab": {
          "base_uri": "https://localhost:8080/",
          "height": 619
        },
        "id": "PdXoyTmuLF-t",
        "outputId": "b65189d0-85d7-489d-cc9e-9276cb2ed1e7"
      },
      "outputs": [
        {
          "output_type": "execute_result",
          "data": {
            "text/plain": [
              "[<matplotlib.lines.Line2D at 0x7ff756ed8210>]"
            ]
          },
          "metadata": {},
          "execution_count": 74
        },
        {
          "output_type": "display_data",
          "data": {
            "text/plain": [
              "<Figure size 864x720 with 1 Axes>"
            ],
            "image/png": "[encoded data removed]"
          },
          "metadata": {
            "needs_background": "light"
          }
        }
      ],
      "source": [
        "# the total market value of seven leagues  each season\n",
        "\n",
        "total = collections.defaultdict(int)\n",
        "\n",
        "for sea,val in zip(df['season'].tolist(),df['market_val_amnt'].tolist()):\n",
        "  total[sea] += val\n",
        "\n",
        "graph_size()\n",
        "# plt.bar(list(total.keys()),list(total.values()))\n",
        "plt.plot(list(total.keys()),list(total.values()), color='#e377c2')"
      ]
    },
    {
      "cell_type": "code",
      "execution_count": null,
      "metadata": {
        "colab": {
          "base_uri": "https://localhost:8080/",
          "height": 661
        },
        "id": "R9AMbgfgIiML",
        "outputId": "bd24bddc-01a5-4035-9e1f-2f54f7d27c2c"
      },
      "outputs": [
        {
          "output_type": "execute_result",
          "data": {
            "text/plain": [
              "(array([56893.,     0.,     0.,     0.,     0.,     0.,     0.,     0.,\n",
              "            0., 13113.]),\n",
              " array([0. , 0.1, 0.2, 0.3, 0.4, 0.5, 0.6, 0.7, 0.8, 0.9, 1. ]),\n",
              " <a list of 10 Patch objects>)"
            ]
          },
          "metadata": {},
          "execution_count": 75
        },
        {
          "output_type": "display_data",
          "data": {
            "text/plain": [
              "<Figure size 864x720 with 1 Axes>"
            ],
            "image/png": "[encoded data removed]"
          },
          "metadata": {
            "needs_background": "light"
          }
        }
      ],
      "source": [
        "# show if inexpensive player and expensive play distribution\n",
        "graph_size()\n",
        "plt.hist(df['is_expensive'])"
      ]
    },
    {
      "cell_type": "code",
      "execution_count": null,
      "metadata": {
        "colab": {
          "base_uri": "https://localhost:8080/",
          "height": 741
        },
        "id": "_SAjCZ2TJRft",
        "outputId": "5740f16e-507d-48d6-8827-1854a6a840a3"
      },
      "outputs": [
        {
          "output_type": "execute_result",
          "data": {
            "text/plain": [
              "{'boxes': [<matplotlib.lines.Line2D at 0x7ff754b293d0>],\n",
              " 'caps': [<matplotlib.lines.Line2D at 0x7ff754b303d0>,\n",
              "  <matplotlib.lines.Line2D at 0x7ff754b30910>],\n",
              " 'fliers': [<matplotlib.lines.Line2D at 0x7ff754b37410>],\n",
              " 'means': [],\n",
              " 'medians': [<matplotlib.lines.Line2D at 0x7ff754b30e90>],\n",
              " 'whiskers': [<matplotlib.lines.Line2D at 0x7ff754b29910>,\n",
              "  <matplotlib.lines.Line2D at 0x7ff754b29e50>]}"
            ]
          },
          "metadata": {},
          "execution_count": 76
        },
        {
          "output_type": "display_data",
          "data": {
            "text/plain": [
              "<Figure size 864x720 with 1 Axes>"
            ],
            "image/png": "[encoded data removed]"
          },
          "metadata": {
            "needs_background": "light"
          }
        }
      ],
      "source": [
        "# boxplot for market value\n",
        "\n",
        "graph_size()\n",
        "plt.boxplot(df['market_val_amnt'])"
      ]
    },
    {
      "cell_type": "code",
      "execution_count": null,
      "metadata": {
        "colab": {
          "base_uri": "https://localhost:8080/",
          "height": 741
        },
        "id": "g57Hj0WCJbMB",
        "outputId": "5929243f-d552-4d68-a5b9-e3543a123768"
      },
      "outputs": [
        {
          "output_type": "execute_result",
          "data": {
            "text/plain": [
              "{'boxes': [<matplotlib.lines.Line2D at 0x7ff7539dd690>],\n",
              " 'caps': [<matplotlib.lines.Line2D at 0x7ff7539e3690>,\n",
              "  <matplotlib.lines.Line2D at 0x7ff7539e3bd0>],\n",
              " 'fliers': [<matplotlib.lines.Line2D at 0x7ff7539ea6d0>],\n",
              " 'means': [],\n",
              " 'medians': [<matplotlib.lines.Line2D at 0x7ff7539ea190>],\n",
              " 'whiskers': [<matplotlib.lines.Line2D at 0x7ff7539ddbd0>,\n",
              "  <matplotlib.lines.Line2D at 0x7ff7539e3150>]}"
            ]
          },
          "metadata": {},
          "execution_count": 77
        },
        {
          "output_type": "display_data",
          "data": {
            "text/plain": [
              "<Figure size 864x720 with 1 Axes>"
            ],
            "image/png": "[encoded data removed]"
          },
          "metadata": {
            "needs_background": "light"
          }
        }
      ],
      "source": [
        "# boxplot for transfer value\n",
        "graph_size()\n",
        "plt.boxplot(df['transfer_fee_amnt'])"
      ]
    },
    {
      "cell_type": "code",
      "execution_count": null,
      "metadata": {
        "colab": {
          "base_uri": "https://localhost:8080/",
          "height": 966
        },
        "id": "oLOHlQSmRACm",
        "outputId": "e328c4e7-4895-4b6c-921e-1e8adcf71ab6"
      },
      "outputs": [
        {
          "output_type": "execute_result",
          "data": {
            "text/plain": [
              "<matplotlib.axes._subplots.AxesSubplot at 0x7ff7539dd310>"
            ]
          },
          "metadata": {},
          "execution_count": 78
        },
        {
          "output_type": "display_data",
          "data": {
            "text/plain": [
              "<Figure size 1440x1080 with 2 Axes>"
            ],
            "image/png": "[encoded data removed]"
          },
          "metadata": {
            "needs_background": "light"
          }
        }
      ],
      "source": [
        "# heatmap\n",
        "graph_size(20,15)\n",
        "sns.heatmap(df.corr(),annot = True)"
      ]
    },
    {
      "cell_type": "code",
      "execution_count": null,
      "metadata": {
        "colab": {
          "base_uri": "https://localhost:8080/"
        },
        "id": "aPmx-b9qx3VB",
        "outputId": "83fd8d9c-5f16-4abe-bc39-4b0a5be1ecae"
      },
      "outputs": [
        {
          "output_type": "execute_result",
          "data": {
            "text/plain": [
              "league\n",
              "IT1   3781369.34614\n",
              "GB1   3592912.85727\n",
              "ES1   2783556.02022\n",
              "FR1   2434497.49970\n",
              "L1    2234183.02857\n",
              "PO1   1711409.01740\n",
              "NL1   1443538.21510\n",
              "Name: transfer_fee_amnt, dtype: float64"
            ]
          },
          "metadata": {},
          "execution_count": 79
        }
      ],
      "source": [
        "#find out the mean spending grouped by each league\n",
        "pd.set_option('display.float_format', lambda x: '%.5f' % x)\n",
        "df.groupby(['league'])['transfer_fee_amnt'].mean().sort_values(ascending=False).head(20)\n"
      ]
    },
    {
      "cell_type": "code",
      "execution_count": null,
      "metadata": {
        "colab": {
          "base_uri": "https://localhost:8080/"
        },
        "id": "nZunDXzjx4p2",
        "outputId": "c227e0c5-77db-490c-f5c2-e6cc09838b3c"
      },
      "outputs": [
        {
          "output_type": "execute_result",
          "data": {
            "text/plain": [
              "player_pos\n",
              "midfield   5753300.85470\n",
              "attack     4453869.56522\n",
              "SS         3685516.32653\n",
              "CF         3139910.30008\n",
              "LW         3017263.58039\n",
              "CB         2910657.95869\n",
              "CM         2772006.44846\n",
              "DM         2738980.13245\n",
              "AM         2720716.46809\n",
              "RW         2707344.15529\n",
              "LM         2703795.06849\n",
              "RM         2638275.04026\n",
              "RB         2317567.80898\n",
              "LB         2176921.92362\n",
              "defence    2091848.27586\n",
              "GK         1863624.84492\n",
              "Name: transfer_fee_amnt, dtype: float64"
            ]
          },
          "metadata": {},
          "execution_count": 80
        }
      ],
      "source": [
        "#find out the mean transfer value grouped by each position of the player(outfield and goalie)\n",
        "df.groupby(['player_pos'])['transfer_fee_amnt'].mean().sort_values(ascending=False).head(20)\n"
      ]
    },
    {
      "cell_type": "code",
      "execution_count": null,
      "metadata": {
        "colab": {
          "base_uri": "https://localhost:8080/"
        },
        "id": "RVpZe51Yx4JB",
        "outputId": "1d4d6d61-4154-4b89-a07a-314456fcf5c1"
      },
      "outputs": [
        {
          "output_type": "execute_result",
          "data": {
            "text/plain": [
              "player_nation\n",
              "Malaysia                   33443333.33333\n",
              "Armenia                    10149609.75610\n",
              "Somalia                     9944181.81818\n",
              "Dominican Republic          9475000.00000\n",
              "Mauritania                  8294153.84615\n",
              "Uzbekistan                  8041428.57143\n",
              "Central African Republic    6477421.05263\n",
              "Costa Rica                  6055700.00000\n",
              "Tanzania                    4725000.00000\n",
              "Gabon                       4656451.61290\n",
              "Italy                       4222400.68640\n",
              "Belgium                     4043053.51812\n",
              "Colombia                    3857425.40620\n",
              "Mexico                      3695078.04878\n",
              "Kenya                       3688500.00000\n",
              "Cote d'Ivoire               3644786.27737\n",
              "Burkina Faso                3586091.66667\n",
              "Czech Republic              3570617.91908\n",
              "Bermuda                     3355111.11111\n",
              "Uruguay                     3339510.01267\n",
              "Name: transfer_fee_amnt, dtype: float64"
            ]
          },
          "metadata": {},
          "execution_count": 81
        }
      ],
      "source": [
        "#find out the mean transfer fee with respect to player country \n",
        "df.groupby(['player_nation'])['transfer_fee_amnt'].mean().sort_values(ascending=False).head(20)\n"
      ]
    },
    {
      "cell_type": "code",
      "execution_count": null,
      "metadata": {
        "colab": {
          "base_uri": "https://localhost:8080/"
        },
        "id": "8SmNusCvx7XJ",
        "outputId": "7157c06c-a112-4e4f-b026-27b5cc73cd52"
      },
      "outputs": [
        {
          "output_type": "execute_result",
          "data": {
            "text/plain": [
              "team_name\n",
              "AS Bari               12468091.47287\n",
              "Novara Calcio 1908    11306765.95745\n",
              "Calcio Catania         9998768.03279\n",
              "FC Barcelona           9942656.70732\n",
              "Real Madrid            9290523.80952\n",
              "Naval 1º de Maio       8259155.17241\n",
              "AC Cesena              6991298.73418\n",
              "Manchester United      6714809.52381\n",
              "FC Internazionale      6547460.48110\n",
              "Borussia Dortmund      6363347.43590\n",
              "Atlético de Madrid     5917238.80597\n",
              "Bayern Munich          5746105.30612\n",
              "Arsenal FC             5737836.79654\n",
              "Paris Saint-Germain    5655288.48168\n",
              "Liverpool FC           5545153.34686\n",
              "Chelsea FC             5514080.42895\n",
              "Manchester City        5296486.85897\n",
              "RB Leipzig             5098491.22807\n",
              "Juventus FC            4986753.71069\n",
              "AS Roma                4954679.38540\n",
              "Name: transfer_fee_amnt, dtype: float64"
            ]
          },
          "metadata": {},
          "execution_count": 82
        }
      ],
      "source": [
        "#find out how transfer fee is affected by the type of buying club\n",
        "df.groupby(['team_name'])['transfer_fee_amnt'].mean().sort_values(ascending=False).head(20)\n"
      ]
    },
    {
      "cell_type": "markdown",
      "metadata": {
        "id": "40F5KqNeRmQe"
      },
      "source": [
        "## Dimensionality reduction"
      ]
    },
    {
      "cell_type": "code",
      "execution_count": null,
      "metadata": {
        "id": "Ci0s5eMyRshx"
      },
      "outputs": [],
      "source": [
        "df.drop(['team_id','player_id','transfer_id'],axis = 1, inplace = True)\n",
        "#drop loan ended due to high correlinearity with the attribute is_loan, and they also explain the same process \n",
        "df.drop(['is_loan_end'],axis = 1, inplace = True)"
      ]
    },
    {
      "cell_type": "markdown",
      "metadata": {
        "id": "pWgjNqAIJ2Ur"
      },
      "source": [
        "## Data scaling"
      ]
    },
    {
      "cell_type": "code",
      "execution_count": null,
      "metadata": {
        "id": "-qpaaPV3Qj2q",
        "colab": {
          "base_uri": "https://localhost:8080/",
          "height": 357
        },
        "outputId": "e9f43788-0c24-49ba-9f65-78c537d60593"
      },
      "outputs": [
        {
          "output_type": "execute_result",
          "data": {
            "text/plain": [
              "  league  season window          team_name team_country dir       player_name  \\\n",
              "0    GB1 0.00000      s  Manchester United      England  in  Antonio Valencia   \n",
              "1    GB1 0.00000      s  Manchester United      England  in        Mame Diouf   \n",
              "2    GB1 0.00000      s  Manchester United      England  in   Gabriel Obertan   \n",
              "3    GB1 0.00000      s  Manchester United      England  in      Michael Owen   \n",
              "4    GB1 0.00000      s  Manchester United      England  in     Scott Moffatt   \n",
              "\n",
              "   player_age player_nation player_pos counter_team_id      counter_team_name  \\\n",
              "0     0.00624       Ecuador         RB            1071         Wigan Athletic   \n",
              "1     0.00510       Senegal         CF             687               Molde FK   \n",
              "2     0.00454        France         AM              40  FC Girondins Bordeaux   \n",
              "3     0.00964       England         CF             762       Newcastle United   \n",
              "4     0.00340       England         CB            5242  Manchester United U18   \n",
              "\n",
              "  counter_team_country  transfer_fee_amnt  market_val_amnt  is_free  is_loan  \\\n",
              "0              England            0.03418          0.00275    False    False   \n",
              "1               Norway            0.00818          0.00994    False    False   \n",
              "2               France            0.00727          0.00244    False    False   \n",
              "3              England            0.00000          0.00322     True    False   \n",
              "4              England            0.00185          0.00181    False    False   \n",
              "\n",
              "   is_retired  is_expensive  \n",
              "0       False             0  \n",
              "1       False             0  \n",
              "2       False             0  \n",
              "3       False             0  \n",
              "4       False             0  "
            ],
            "text/html": [
              "\n",
              "  <div id=\"df-ab4bea8f-6c1f-4d53-9349-5c698b3592c9\">\n",
              "    <div class=\"colab-df-container\">\n",
              "      <div>\n",
              "<style scoped>\n",
              "    .dataframe tbody tr th:only-of-type {\n",
              "        vertical-align: middle;\n",
              "    }\n",
              "\n",
              "    .dataframe tbody tr th {\n",
              "        vertical-align: top;\n",
              "    }\n",
              "\n",
              "    .dataframe thead th {\n",
              "        text-align: right;\n",
              "    }\n",
              "</style>\n",
              "<table border=\"1\" class=\"dataframe\">\n",
              "  <thead>\n",
              "    <tr style=\"text-align: right;\">\n",
              "      <th></th>\n",
              "      <th>league</th>\n",
              "      <th>season</th>\n",
              "      <th>window</th>\n",
              "      <th>team_name</th>\n",
              "      <th>team_country</th>\n",
              "      <th>dir</th>\n",
              "      <th>player_name</th>\n",
              "      <th>player_age</th>\n",
              "      <th>player_nation</th>\n",
              "      <th>player_pos</th>\n",
              "      <th>counter_team_id</th>\n",
              "      <th>counter_team_name</th>\n",
              "      <th>counter_team_country</th>\n",
              "      <th>transfer_fee_amnt</th>\n",
              "      <th>market_val_amnt</th>\n",
              "      <th>is_free</th>\n",
              "      <th>is_loan</th>\n",
              "      <th>is_retired</th>\n",
              "      <th>is_expensive</th>\n",
              "    </tr>\n",
              "  </thead>\n",
              "  <tbody>\n",
              "    <tr>\n",
              "      <th>0</th>\n",
              "      <td>GB1</td>\n",
              "      <td>0.00000</td>\n",
              "      <td>s</td>\n",
              "      <td>Manchester United</td>\n",
              "      <td>England</td>\n",
              "      <td>in</td>\n",
              "      <td>Antonio Valencia</td>\n",
              "      <td>0.00624</td>\n",
              "      <td>Ecuador</td>\n",
              "      <td>RB</td>\n",
              "      <td>1071</td>\n",
              "      <td>Wigan Athletic</td>\n",
              "      <td>England</td>\n",
              "      <td>0.03418</td>\n",
              "      <td>0.00275</td>\n",
              "      <td>False</td>\n",
              "      <td>False</td>\n",
              "      <td>False</td>\n",
              "      <td>0</td>\n",
              "    </tr>\n",
              "    <tr>\n",
              "      <th>1</th>\n",
              "      <td>GB1</td>\n",
              "      <td>0.00000</td>\n",
              "      <td>s</td>\n",
              "      <td>Manchester United</td>\n",
              "      <td>England</td>\n",
              "      <td>in</td>\n",
              "      <td>Mame Diouf</td>\n",
              "      <td>0.00510</td>\n",
              "      <td>Senegal</td>\n",
              "      <td>CF</td>\n",
              "      <td>687</td>\n",
              "      <td>Molde FK</td>\n",
              "      <td>Norway</td>\n",
              "      <td>0.00818</td>\n",
              "      <td>0.00994</td>\n",
              "      <td>False</td>\n",
              "      <td>False</td>\n",
              "      <td>False</td>\n",
              "      <td>0</td>\n",
              "    </tr>\n",
              "    <tr>\n",
              "      <th>2</th>\n",
              "      <td>GB1</td>\n",
              "      <td>0.00000</td>\n",
              "      <td>s</td>\n",
              "      <td>Manchester United</td>\n",
              "      <td>England</td>\n",
              "      <td>in</td>\n",
              "      <td>Gabriel Obertan</td>\n",
              "      <td>0.00454</td>\n",
              "      <td>France</td>\n",
              "      <td>AM</td>\n",
              "      <td>40</td>\n",
              "      <td>FC Girondins Bordeaux</td>\n",
              "      <td>France</td>\n",
              "      <td>0.00727</td>\n",
              "      <td>0.00244</td>\n",
              "      <td>False</td>\n",
              "      <td>False</td>\n",
              "      <td>False</td>\n",
              "      <td>0</td>\n",
              "    </tr>\n",
              "    <tr>\n",
              "      <th>3</th>\n",
              "      <td>GB1</td>\n",
              "      <td>0.00000</td>\n",
              "      <td>s</td>\n",
              "      <td>Manchester United</td>\n",
              "      <td>England</td>\n",
              "      <td>in</td>\n",
              "      <td>Michael Owen</td>\n",
              "      <td>0.00964</td>\n",
              "      <td>England</td>\n",
              "      <td>CF</td>\n",
              "      <td>762</td>\n",
              "      <td>Newcastle United</td>\n",
              "      <td>England</td>\n",
              "      <td>0.00000</td>\n",
              "      <td>0.00322</td>\n",
              "      <td>True</td>\n",
              "      <td>False</td>\n",
              "      <td>False</td>\n",
              "      <td>0</td>\n",
              "    </tr>\n",
              "    <tr>\n",
              "      <th>4</th>\n",
              "      <td>GB1</td>\n",
              "      <td>0.00000</td>\n",
              "      <td>s</td>\n",
              "      <td>Manchester United</td>\n",
              "      <td>England</td>\n",
              "      <td>in</td>\n",
              "      <td>Scott Moffatt</td>\n",
              "      <td>0.00340</td>\n",
              "      <td>England</td>\n",
              "      <td>CB</td>\n",
              "      <td>5242</td>\n",
              "      <td>Manchester United U18</td>\n",
              "      <td>England</td>\n",
              "      <td>0.00185</td>\n",
              "      <td>0.00181</td>\n",
              "      <td>False</td>\n",
              "      <td>False</td>\n",
              "      <td>False</td>\n",
              "      <td>0</td>\n",
              "    </tr>\n",
              "  </tbody>\n",
              "</table>\n",
              "</div>\n",
              "      <button class=\"colab-df-convert\" onclick=\"convertToInteractive('df-ab4bea8f-6c1f-4d53-9349-5c698b3592c9')\"\n",
              "              title=\"Convert this dataframe to an interactive table.\"\n",
              "              style=\"display:none;\">\n",
              "        \n",
              "  <svg xmlns=\"http://www.w3.org/2000/svg\" height=\"24px\"viewBox=\"0 0 24 24\"\n",
              "       width=\"24px\">\n",
              "    <path d=\"M0 0h24v24H0V0z\" fill=\"none\"/>\n",
              "    <path d=\"M18.56 5.44l.94 2.06.94-2.06 2.06-.94-2.06-.94-.94-2.06-.94 2.06-2.06.94zm-11 1L8.5 8.5l.94-2.06 2.06-.94-2.06-.94L8.5 2.5l-.94 2.06-2.06.94zm10 10l.94 2.06.94-2.06 2.06-.94-2.06-.94-.94-2.06-.94 2.06-2.06.94z\"/><path d=\"M17.41 7.96l-1.37-1.37c-.4-.4-.92-.59-1.43-.59-.52 0-1.04.2-1.43.59L10.3 9.45l-7.72 7.72c-.78.78-.78 2.05 0 2.83L4 21.41c.39.39.9.59 1.41.59.51 0 1.02-.2 1.41-.59l7.78-7.78 2.81-2.81c.8-.78.8-2.07 0-2.86zM5.41 20L4 18.59l7.72-7.72 1.47 1.35L5.41 20z\"/>\n",
              "  </svg>\n",
              "      </button>\n",
              "      \n",
              "  <style>\n",
              "    .colab-df-container {\n",
              "      display:flex;\n",
              "      flex-wrap:wrap;\n",
              "      gap: 12px;\n",
              "    }\n",
              "\n",
              "    .colab-df-convert {\n",
              "      background-color: #E8F0FE;\n",
              "      border: none;\n",
              "      border-radius: 50%;\n",
              "      cursor: pointer;\n",
              "      display: none;\n",
              "      fill: #1967D2;\n",
              "      height: 32px;\n",
              "      padding: 0 0 0 0;\n",
              "      width: 32px;\n",
              "    }\n",
              "\n",
              "    .colab-df-convert:hover {\n",
              "      background-color: #E2EBFA;\n",
              "      box-shadow: 0px 1px 2px rgba(60, 64, 67, 0.3), 0px 1px 3px 1px rgba(60, 64, 67, 0.15);\n",
              "      fill: #174EA6;\n",
              "    }\n",
              "\n",
              "    [theme=dark] .colab-df-convert {\n",
              "      background-color: #3B4455;\n",
              "      fill: #D2E3FC;\n",
              "    }\n",
              "\n",
              "    [theme=dark] .colab-df-convert:hover {\n",
              "      background-color: #434B5C;\n",
              "      box-shadow: 0px 1px 3px 1px rgba(0, 0, 0, 0.15);\n",
              "      filter: drop-shadow(0px 1px 2px rgba(0, 0, 0, 0.3));\n",
              "      fill: #FFFFFF;\n",
              "    }\n",
              "  </style>\n",
              "\n",
              "      <script>\n",
              "        const buttonEl =\n",
              "          document.querySelector('#df-ab4bea8f-6c1f-4d53-9349-5c698b3592c9 button.colab-df-convert');\n",
              "        buttonEl.style.display =\n",
              "          google.colab.kernel.accessAllowed ? 'block' : 'none';\n",
              "\n",
              "        async function convertToInteractive(key) {\n",
              "          const element = document.querySelector('#df-ab4bea8f-6c1f-4d53-9349-5c698b3592c9');\n",
              "          const dataTable =\n",
              "            await google.colab.kernel.invokeFunction('convertToInteractive',\n",
              "                                                     [key], {});\n",
              "          if (!dataTable) return;\n",
              "\n",
              "          const docLinkHtml = 'Like what you see? Visit the ' +\n",
              "            '<a target=\"_blank\" href=https://colab.research.google.com/notebooks/data_table.ipynb>data table notebook</a>'\n",
              "            + ' to learn more about interactive tables.';\n",
              "          element.innerHTML = '';\n",
              "          dataTable['output_type'] = 'display_data';\n",
              "          await google.colab.output.renderOutput(dataTable, element);\n",
              "          const docLink = document.createElement('div');\n",
              "          docLink.innerHTML = docLinkHtml;\n",
              "          element.appendChild(docLink);\n",
              "        }\n",
              "      </script>\n",
              "    </div>\n",
              "  </div>\n",
              "  "
            ]
          },
          "metadata": {},
          "execution_count": 84
        }
      ],
      "source": [
        "# apply minmax scaler to numeric columns\n",
        "# transform season ,player_age, transfer_fee_amnt, and market_val_amnt column.\n",
        "from sklearn.preprocessing import MinMaxScaler\n",
        "scaler = MinMaxScaler()\n",
        "cols = ['season' ,'player_age', 'transfer_fee_amnt','market_val_amnt'\t]\n",
        "for col in cols:\n",
        "  df[col] = scaler.fit_transform(df[col].to_numpy().reshape(-1,1))\n",
        "\n",
        "df.head()"
      ]
    },
    {
      "cell_type": "code",
      "execution_count": null,
      "metadata": {
        "id": "1MgycDOO3fsG",
        "colab": {
          "base_uri": "https://localhost:8080/"
        },
        "outputId": "2b7f0641-498d-478e-c7b7-144673b8b9fd"
      },
      "outputs": [
        {
          "output_type": "execute_result",
          "data": {
            "text/plain": [
              "(70006, 19)"
            ]
          },
          "metadata": {},
          "execution_count": 85
        }
      ],
      "source": [
        "df.shape"
      ]
    },
    {
      "cell_type": "code",
      "execution_count": null,
      "metadata": {
        "id": "2uER-ulI2n8P",
        "colab": {
          "base_uri": "https://localhost:8080/"
        },
        "outputId": "439328c1-0eab-4d3c-8bb6-925d9181b068"
      },
      "outputs": [
        {
          "output_type": "execute_result",
          "data": {
            "text/plain": [
              "[[(70006.0, 0.0), 14],\n",
              " [(69999.4309972633, 0.0), 18],\n",
              " [(62004.752389309775, 0.0), 6],\n",
              " [(15534.861609030078, 0.0), 13],\n",
              " [(10356.422958456427, 0.0), 11],\n",
              " [(9930.168907486483, 0.0), 10],\n",
              " [(4719.583825646702, 0.0), 3],\n",
              " [(2490.6245531794066, 0.0), 1],\n",
              " [(2129.406274892309, 0.0), 7],\n",
              " [(1563.7253432473021, 3.444007335743343e-225), 8],\n",
              " [(1491.512570667032, 0.0), 15],\n",
              " [(1370.2736506613946, 5.837117494787256e-209), 12],\n",
              " [(885.8369529506431, 4.330403694058307e-188), 4],\n",
              " [(885.8369529506431, 4.330403694058307e-188), 0],\n",
              " [(304.2546589026428, 3.8980360734568365e-68), 5],\n",
              " [(258.5392063032282, 2.1564530343246266e-46), 9],\n",
              " [(47.77651195030081, 4.776807098907261e-12), 17],\n",
              " [(34.44004955705414, 4.395843302361094e-09), 2],\n",
              " [(9.592922399091817, 0.001953288119337897), 16]]"
            ]
          },
          "metadata": {},
          "execution_count": 87
        }
      ],
      "source": [
        "from scipy import stats\n",
        "\n",
        "#perform chi-square test\n",
        "target=df['is_expensive'].reset_index(drop=True).copy()\n",
        "chi_sq=[]\n",
        "for i in range(0,19):\n",
        "    chi_sq.append([stats.chi2_contingency(pd.crosstab(target, df.iloc[:,i]))[0:2],i])\n",
        "#chi_sq\n",
        "chi_sq.sort(reverse=True)\n",
        "chi_sq"
      ]
    },
    {
      "cell_type": "code",
      "execution_count": null,
      "metadata": {
        "id": "o1My4INy6LWn",
        "colab": {
          "base_uri": "https://localhost:8080/"
        },
        "outputId": "8bace7d8-87c6-43b2-c56e-5d92c1a72adc"
      },
      "outputs": [
        {
          "output_type": "execute_result",
          "data": {
            "text/plain": [
              "league                   object\n",
              "season                  float64\n",
              "window                   object\n",
              "team_name                object\n",
              "team_country             object\n",
              "dir                      object\n",
              "player_name              object\n",
              "player_age              float64\n",
              "player_nation            object\n",
              "player_pos               object\n",
              "counter_team_id          object\n",
              "counter_team_name        object\n",
              "counter_team_country     object\n",
              "transfer_fee_amnt       float64\n",
              "market_val_amnt         float64\n",
              "is_free                    bool\n",
              "is_loan                    bool\n",
              "is_retired                 bool\n",
              "is_expensive              int64\n",
              "dtype: object"
            ]
          },
          "metadata": {},
          "execution_count": 88
        }
      ],
      "source": [
        "# check the types\n",
        "df.dtypes"
      ]
    },
    {
      "cell_type": "code",
      "execution_count": null,
      "metadata": {
        "id": "mjeNk4rh6CJa"
      },
      "outputs": [],
      "source": [
        "# turn categorical into numeric by using labelencoder\n",
        "from sklearn.preprocessing import LabelEncoder\n",
        "\n",
        "lb = LabelEncoder()\n",
        "df['league']=lb.fit_transform(df['league'])\n",
        "df['window']=lb.fit_transform(df['window'])\n",
        "df['team_name']=lb.fit_transform(df['team_name'])\n",
        "df['team_country']=lb.fit_transform(df['team_country'])\n",
        "df['player_nation']=lb.fit_transform(df['player_nation'])\n",
        "df['dir']=lb.fit_transform(df['dir'])\n",
        "df['player_name']=lb.fit_transform(df['player_name'])\n",
        "df['player_pos']=lb.fit_transform(df['player_pos'])\n",
        "df['counter_team_id']=lb.fit_transform(df['counter_team_id'])\n",
        "df['counter_team_name']=lb.fit_transform(df['counter_team_name'])\n",
        "df['counter_team_country']=lb.fit_transform(df['counter_team_country'])\n"
      ]
    },
    {
      "cell_type": "code",
      "execution_count": null,
      "metadata": {
        "id": "-xnsOgLnUn7W",
        "colab": {
          "base_uri": "https://localhost:8080/",
          "height": 270
        },
        "outputId": "54f4a8a5-9b7d-405a-fec2-8762ff28c2a8"
      },
      "outputs": [
        {
          "output_type": "execute_result",
          "data": {
            "text/plain": [
              "   league  season  window  team_name  team_country  dir  player_name  \\\n",
              "0       2 0.00000       0        137             0    0         1478   \n",
              "1       2 0.00000       0        137             0    0        10033   \n",
              "2       2 0.00000       0        137             0    0         5587   \n",
              "3       2 0.00000       0        137             0    0        11324   \n",
              "4       2 0.00000       0        137             0    0        14667   \n",
              "\n",
              "   player_age  player_nation  player_pos  counter_team_id  counter_team_name  \\\n",
              "0     0.00624             45           9              109               3541   \n",
              "1     0.00510            135           2             2827               2225   \n",
              "2     0.00454             54           0             2051               1343   \n",
              "3     0.00964             48           2             2979               2331   \n",
              "4     0.00340             48           1             2482               2181   \n",
              "\n",
              "   counter_team_country  transfer_fee_amnt  market_val_amnt  is_free  is_loan  \\\n",
              "0                    35            0.03418          0.00275    False    False   \n",
              "1                    83            0.00818          0.00994    False    False   \n",
              "2                    38            0.00727          0.00244    False    False   \n",
              "3                    35            0.00000          0.00322     True    False   \n",
              "4                    35            0.00185          0.00181    False    False   \n",
              "\n",
              "   is_retired  is_expensive  \n",
              "0       False             0  \n",
              "1       False             0  \n",
              "2       False             0  \n",
              "3       False             0  \n",
              "4       False             0  "
            ],
            "text/html": [
              "\n",
              "  <div id=\"df-dbe16104-7fa3-426e-a181-76455d571c67\">\n",
              "    <div class=\"colab-df-container\">\n",
              "      <div>\n",
              "<style scoped>\n",
              "    .dataframe tbody tr th:only-of-type {\n",
              "        vertical-align: middle;\n",
              "    }\n",
              "\n",
              "    .dataframe tbody tr th {\n",
              "        vertical-align: top;\n",
              "    }\n",
              "\n",
              "    .dataframe thead th {\n",
              "        text-align: right;\n",
              "    }\n",
              "</style>\n",
              "<table border=\"1\" class=\"dataframe\">\n",
              "  <thead>\n",
              "    <tr style=\"text-align: right;\">\n",
              "      <th></th>\n",
              "      <th>league</th>\n",
              "      <th>season</th>\n",
              "      <th>window</th>\n",
              "      <th>team_name</th>\n",
              "      <th>team_country</th>\n",
              "      <th>dir</th>\n",
              "      <th>player_name</th>\n",
              "      <th>player_age</th>\n",
              "      <th>player_nation</th>\n",
              "      <th>player_pos</th>\n",
              "      <th>counter_team_id</th>\n",
              "      <th>counter_team_name</th>\n",
              "      <th>counter_team_country</th>\n",
              "      <th>transfer_fee_amnt</th>\n",
              "      <th>market_val_amnt</th>\n",
              "      <th>is_free</th>\n",
              "      <th>is_loan</th>\n",
              "      <th>is_retired</th>\n",
              "      <th>is_expensive</th>\n",
              "    </tr>\n",
              "  </thead>\n",
              "  <tbody>\n",
              "    <tr>\n",
              "      <th>0</th>\n",
              "      <td>2</td>\n",
              "      <td>0.00000</td>\n",
              "      <td>0</td>\n",
              "      <td>137</td>\n",
              "      <td>0</td>\n",
              "      <td>0</td>\n",
              "      <td>1478</td>\n",
              "      <td>0.00624</td>\n",
              "      <td>45</td>\n",
              "      <td>9</td>\n",
              "      <td>109</td>\n",
              "      <td>3541</td>\n",
              "      <td>35</td>\n",
              "      <td>0.03418</td>\n",
              "      <td>0.00275</td>\n",
              "      <td>False</td>\n",
              "      <td>False</td>\n",
              "      <td>False</td>\n",
              "      <td>0</td>\n",
              "    </tr>\n",
              "    <tr>\n",
              "      <th>1</th>\n",
              "      <td>2</td>\n",
              "      <td>0.00000</td>\n",
              "      <td>0</td>\n",
              "      <td>137</td>\n",
              "      <td>0</td>\n",
              "      <td>0</td>\n",
              "      <td>10033</td>\n",
              "      <td>0.00510</td>\n",
              "      <td>135</td>\n",
              "      <td>2</td>\n",
              "      <td>2827</td>\n",
              "      <td>2225</td>\n",
              "      <td>83</td>\n",
              "      <td>0.00818</td>\n",
              "      <td>0.00994</td>\n",
              "      <td>False</td>\n",
              "      <td>False</td>\n",
              "      <td>False</td>\n",
              "      <td>0</td>\n",
              "    </tr>\n",
              "    <tr>\n",
              "      <th>2</th>\n",
              "      <td>2</td>\n",
              "      <td>0.00000</td>\n",
              "      <td>0</td>\n",
              "      <td>137</td>\n",
              "      <td>0</td>\n",
              "      <td>0</td>\n",
              "      <td>5587</td>\n",
              "      <td>0.00454</td>\n",
              "      <td>54</td>\n",
              "      <td>0</td>\n",
              "      <td>2051</td>\n",
              "      <td>1343</td>\n",
              "      <td>38</td>\n",
              "      <td>0.00727</td>\n",
              "      <td>0.00244</td>\n",
              "      <td>False</td>\n",
              "      <td>False</td>\n",
              "      <td>False</td>\n",
              "      <td>0</td>\n",
              "    </tr>\n",
              "    <tr>\n",
              "      <th>3</th>\n",
              "      <td>2</td>\n",
              "      <td>0.00000</td>\n",
              "      <td>0</td>\n",
              "      <td>137</td>\n",
              "      <td>0</td>\n",
              "      <td>0</td>\n",
              "      <td>11324</td>\n",
              "      <td>0.00964</td>\n",
              "      <td>48</td>\n",
              "      <td>2</td>\n",
              "      <td>2979</td>\n",
              "      <td>2331</td>\n",
              "      <td>35</td>\n",
              "      <td>0.00000</td>\n",
              "      <td>0.00322</td>\n",
              "      <td>True</td>\n",
              "      <td>False</td>\n",
              "      <td>False</td>\n",
              "      <td>0</td>\n",
              "    </tr>\n",
              "    <tr>\n",
              "      <th>4</th>\n",
              "      <td>2</td>\n",
              "      <td>0.00000</td>\n",
              "      <td>0</td>\n",
              "      <td>137</td>\n",
              "      <td>0</td>\n",
              "      <td>0</td>\n",
              "      <td>14667</td>\n",
              "      <td>0.00340</td>\n",
              "      <td>48</td>\n",
              "      <td>1</td>\n",
              "      <td>2482</td>\n",
              "      <td>2181</td>\n",
              "      <td>35</td>\n",
              "      <td>0.00185</td>\n",
              "      <td>0.00181</td>\n",
              "      <td>False</td>\n",
              "      <td>False</td>\n",
              "      <td>False</td>\n",
              "      <td>0</td>\n",
              "    </tr>\n",
              "  </tbody>\n",
              "</table>\n",
              "</div>\n",
              "      <button class=\"colab-df-convert\" onclick=\"convertToInteractive('df-dbe16104-7fa3-426e-a181-76455d571c67')\"\n",
              "              title=\"Convert this dataframe to an interactive table.\"\n",
              "              style=\"display:none;\">\n",
              "        \n",
              "  <svg xmlns=\"http://www.w3.org/2000/svg\" height=\"24px\"viewBox=\"0 0 24 24\"\n",
              "       width=\"24px\">\n",
              "    <path d=\"M0 0h24v24H0V0z\" fill=\"none\"/>\n",
              "    <path d=\"M18.56 5.44l.94 2.06.94-2.06 2.06-.94-2.06-.94-.94-2.06-.94 2.06-2.06.94zm-11 1L8.5 8.5l.94-2.06 2.06-.94-2.06-.94L8.5 2.5l-.94 2.06-2.06.94zm10 10l.94 2.06.94-2.06 2.06-.94-2.06-.94-.94-2.06-.94 2.06-2.06.94z\"/><path d=\"M17.41 7.96l-1.37-1.37c-.4-.4-.92-.59-1.43-.59-.52 0-1.04.2-1.43.59L10.3 9.45l-7.72 7.72c-.78.78-.78 2.05 0 2.83L4 21.41c.39.39.9.59 1.41.59.51 0 1.02-.2 1.41-.59l7.78-7.78 2.81-2.81c.8-.78.8-2.07 0-2.86zM5.41 20L4 18.59l7.72-7.72 1.47 1.35L5.41 20z\"/>\n",
              "  </svg>\n",
              "      </button>\n",
              "      \n",
              "  <style>\n",
              "    .colab-df-container {\n",
              "      display:flex;\n",
              "      flex-wrap:wrap;\n",
              "      gap: 12px;\n",
              "    }\n",
              "\n",
              "    .colab-df-convert {\n",
              "      background-color: #E8F0FE;\n",
              "      border: none;\n",
              "      border-radius: 50%;\n",
              "      cursor: pointer;\n",
              "      display: none;\n",
              "      fill: #1967D2;\n",
              "      height: 32px;\n",
              "      padding: 0 0 0 0;\n",
              "      width: 32px;\n",
              "    }\n",
              "\n",
              "    .colab-df-convert:hover {\n",
              "      background-color: #E2EBFA;\n",
              "      box-shadow: 0px 1px 2px rgba(60, 64, 67, 0.3), 0px 1px 3px 1px rgba(60, 64, 67, 0.15);\n",
              "      fill: #174EA6;\n",
              "    }\n",
              "\n",
              "    [theme=dark] .colab-df-convert {\n",
              "      background-color: #3B4455;\n",
              "      fill: #D2E3FC;\n",
              "    }\n",
              "\n",
              "    [theme=dark] .colab-df-convert:hover {\n",
              "      background-color: #434B5C;\n",
              "      box-shadow: 0px 1px 3px 1px rgba(0, 0, 0, 0.15);\n",
              "      filter: drop-shadow(0px 1px 2px rgba(0, 0, 0, 0.3));\n",
              "      fill: #FFFFFF;\n",
              "    }\n",
              "  </style>\n",
              "\n",
              "      <script>\n",
              "        const buttonEl =\n",
              "          document.querySelector('#df-dbe16104-7fa3-426e-a181-76455d571c67 button.colab-df-convert');\n",
              "        buttonEl.style.display =\n",
              "          google.colab.kernel.accessAllowed ? 'block' : 'none';\n",
              "\n",
              "        async function convertToInteractive(key) {\n",
              "          const element = document.querySelector('#df-dbe16104-7fa3-426e-a181-76455d571c67');\n",
              "          const dataTable =\n",
              "            await google.colab.kernel.invokeFunction('convertToInteractive',\n",
              "                                                     [key], {});\n",
              "          if (!dataTable) return;\n",
              "\n",
              "          const docLinkHtml = 'Like what you see? Visit the ' +\n",
              "            '<a target=\"_blank\" href=https://colab.research.google.com/notebooks/data_table.ipynb>data table notebook</a>'\n",
              "            + ' to learn more about interactive tables.';\n",
              "          element.innerHTML = '';\n",
              "          dataTable['output_type'] = 'display_data';\n",
              "          await google.colab.output.renderOutput(dataTable, element);\n",
              "          const docLink = document.createElement('div');\n",
              "          docLink.innerHTML = docLinkHtml;\n",
              "          element.appendChild(docLink);\n",
              "        }\n",
              "      </script>\n",
              "    </div>\n",
              "  </div>\n",
              "  "
            ]
          },
          "metadata": {},
          "execution_count": 90
        }
      ],
      "source": [
        "df.head()"
      ]
    },
    {
      "cell_type": "code",
      "execution_count": null,
      "metadata": {
        "id": "uAopVC7pd2KG",
        "colab": {
          "base_uri": "https://localhost:8080/",
          "height": 270
        },
        "outputId": "f626bc87-292b-4220-dad0-d137b9399898"
      },
      "outputs": [
        {
          "output_type": "execute_result",
          "data": {
            "text/plain": [
              "   league  season  window  team_name  team_country     dir  player_name  \\\n",
              "0 0.33333 0.00000 0.00000    0.56612       0.00000 0.00000      0.08642   \n",
              "1 0.33333 0.00000 0.00000    0.56612       0.00000 0.00000      0.58666   \n",
              "2 0.33333 0.00000 0.00000    0.56612       0.00000 0.00000      0.32669   \n",
              "3 0.33333 0.00000 0.00000    0.56612       0.00000 0.00000      0.66214   \n",
              "4 0.33333 0.00000 0.00000    0.56612       0.00000 0.00000      0.85762   \n",
              "\n",
              "   player_age  player_nation  player_pos  counter_team_id  counter_team_name  \\\n",
              "0     0.00624        0.26946     0.60000          0.03246            0.98116   \n",
              "1     0.00510        0.80838     0.13333          0.84187            0.61651   \n",
              "2     0.00454        0.32335     0.00000          0.61078            0.37213   \n",
              "3     0.00964        0.28743     0.13333          0.88714            0.64589   \n",
              "4     0.00340        0.28743     0.06667          0.73913            0.60432   \n",
              "\n",
              "   counter_team_country  transfer_fee_amnt  market_val_amnt  is_free  is_loan  \\\n",
              "0               0.28226            0.03418          0.00275  0.00000  0.00000   \n",
              "1               0.66935            0.00818          0.00994  0.00000  0.00000   \n",
              "2               0.30645            0.00727          0.00244  0.00000  0.00000   \n",
              "3               0.28226            0.00000          0.00322  1.00000  0.00000   \n",
              "4               0.28226            0.00185          0.00181  0.00000  0.00000   \n",
              "\n",
              "   is_retired  is_expensive  \n",
              "0     0.00000       0.00000  \n",
              "1     0.00000       0.00000  \n",
              "2     0.00000       0.00000  \n",
              "3     0.00000       0.00000  \n",
              "4     0.00000       0.00000  "
            ],
            "text/html": [
              "\n",
              "  <div id=\"df-d7c454d9-f726-4ace-b3a2-6d9746de8f08\">\n",
              "    <div class=\"colab-df-container\">\n",
              "      <div>\n",
              "<style scoped>\n",
              "    .dataframe tbody tr th:only-of-type {\n",
              "        vertical-align: middle;\n",
              "    }\n",
              "\n",
              "    .dataframe tbody tr th {\n",
              "        vertical-align: top;\n",
              "    }\n",
              "\n",
              "    .dataframe thead th {\n",
              "        text-align: right;\n",
              "    }\n",
              "</style>\n",
              "<table border=\"1\" class=\"dataframe\">\n",
              "  <thead>\n",
              "    <tr style=\"text-align: right;\">\n",
              "      <th></th>\n",
              "      <th>league</th>\n",
              "      <th>season</th>\n",
              "      <th>window</th>\n",
              "      <th>team_name</th>\n",
              "      <th>team_country</th>\n",
              "      <th>dir</th>\n",
              "      <th>player_name</th>\n",
              "      <th>player_age</th>\n",
              "      <th>player_nation</th>\n",
              "      <th>player_pos</th>\n",
              "      <th>counter_team_id</th>\n",
              "      <th>counter_team_name</th>\n",
              "      <th>counter_team_country</th>\n",
              "      <th>transfer_fee_amnt</th>\n",
              "      <th>market_val_amnt</th>\n",
              "      <th>is_free</th>\n",
              "      <th>is_loan</th>\n",
              "      <th>is_retired</th>\n",
              "      <th>is_expensive</th>\n",
              "    </tr>\n",
              "  </thead>\n",
              "  <tbody>\n",
              "    <tr>\n",
              "      <th>0</th>\n",
              "      <td>0.33333</td>\n",
              "      <td>0.00000</td>\n",
              "      <td>0.00000</td>\n",
              "      <td>0.56612</td>\n",
              "      <td>0.00000</td>\n",
              "      <td>0.00000</td>\n",
              "      <td>0.08642</td>\n",
              "      <td>0.00624</td>\n",
              "      <td>0.26946</td>\n",
              "      <td>0.60000</td>\n",
              "      <td>0.03246</td>\n",
              "      <td>0.98116</td>\n",
              "      <td>0.28226</td>\n",
              "      <td>0.03418</td>\n",
              "      <td>0.00275</td>\n",
              "      <td>0.00000</td>\n",
              "      <td>0.00000</td>\n",
              "      <td>0.00000</td>\n",
              "      <td>0.00000</td>\n",
              "    </tr>\n",
              "    <tr>\n",
              "      <th>1</th>\n",
              "      <td>0.33333</td>\n",
              "      <td>0.00000</td>\n",
              "      <td>0.00000</td>\n",
              "      <td>0.56612</td>\n",
              "      <td>0.00000</td>\n",
              "      <td>0.00000</td>\n",
              "      <td>0.58666</td>\n",
              "      <td>0.00510</td>\n",
              "      <td>0.80838</td>\n",
              "      <td>0.13333</td>\n",
              "      <td>0.84187</td>\n",
              "      <td>0.61651</td>\n",
              "      <td>0.66935</td>\n",
              "      <td>0.00818</td>\n",
              "      <td>0.00994</td>\n",
              "      <td>0.00000</td>\n",
              "      <td>0.00000</td>\n",
              "      <td>0.00000</td>\n",
              "      <td>0.00000</td>\n",
              "    </tr>\n",
              "    <tr>\n",
              "      <th>2</th>\n",
              "      <td>0.33333</td>\n",
              "      <td>0.00000</td>\n",
              "      <td>0.00000</td>\n",
              "      <td>0.56612</td>\n",
              "      <td>0.00000</td>\n",
              "      <td>0.00000</td>\n",
              "      <td>0.32669</td>\n",
              "      <td>0.00454</td>\n",
              "      <td>0.32335</td>\n",
              "      <td>0.00000</td>\n",
              "      <td>0.61078</td>\n",
              "      <td>0.37213</td>\n",
              "      <td>0.30645</td>\n",
              "      <td>0.00727</td>\n",
              "      <td>0.00244</td>\n",
              "      <td>0.00000</td>\n",
              "      <td>0.00000</td>\n",
              "      <td>0.00000</td>\n",
              "      <td>0.00000</td>\n",
              "    </tr>\n",
              "    <tr>\n",
              "      <th>3</th>\n",
              "      <td>0.33333</td>\n",
              "      <td>0.00000</td>\n",
              "      <td>0.00000</td>\n",
              "      <td>0.56612</td>\n",
              "      <td>0.00000</td>\n",
              "      <td>0.00000</td>\n",
              "      <td>0.66214</td>\n",
              "      <td>0.00964</td>\n",
              "      <td>0.28743</td>\n",
              "      <td>0.13333</td>\n",
              "      <td>0.88714</td>\n",
              "      <td>0.64589</td>\n",
              "      <td>0.28226</td>\n",
              "      <td>0.00000</td>\n",
              "      <td>0.00322</td>\n",
              "      <td>1.00000</td>\n",
              "      <td>0.00000</td>\n",
              "      <td>0.00000</td>\n",
              "      <td>0.00000</td>\n",
              "    </tr>\n",
              "    <tr>\n",
              "      <th>4</th>\n",
              "      <td>0.33333</td>\n",
              "      <td>0.00000</td>\n",
              "      <td>0.00000</td>\n",
              "      <td>0.56612</td>\n",
              "      <td>0.00000</td>\n",
              "      <td>0.00000</td>\n",
              "      <td>0.85762</td>\n",
              "      <td>0.00340</td>\n",
              "      <td>0.28743</td>\n",
              "      <td>0.06667</td>\n",
              "      <td>0.73913</td>\n",
              "      <td>0.60432</td>\n",
              "      <td>0.28226</td>\n",
              "      <td>0.00185</td>\n",
              "      <td>0.00181</td>\n",
              "      <td>0.00000</td>\n",
              "      <td>0.00000</td>\n",
              "      <td>0.00000</td>\n",
              "      <td>0.00000</td>\n",
              "    </tr>\n",
              "  </tbody>\n",
              "</table>\n",
              "</div>\n",
              "      <button class=\"colab-df-convert\" onclick=\"convertToInteractive('df-d7c454d9-f726-4ace-b3a2-6d9746de8f08')\"\n",
              "              title=\"Convert this dataframe to an interactive table.\"\n",
              "              style=\"display:none;\">\n",
              "        \n",
              "  <svg xmlns=\"http://www.w3.org/2000/svg\" height=\"24px\"viewBox=\"0 0 24 24\"\n",
              "       width=\"24px\">\n",
              "    <path d=\"M0 0h24v24H0V0z\" fill=\"none\"/>\n",
              "    <path d=\"M18.56 5.44l.94 2.06.94-2.06 2.06-.94-2.06-.94-.94-2.06-.94 2.06-2.06.94zm-11 1L8.5 8.5l.94-2.06 2.06-.94-2.06-.94L8.5 2.5l-.94 2.06-2.06.94zm10 10l.94 2.06.94-2.06 2.06-.94-2.06-.94-.94-2.06-.94 2.06-2.06.94z\"/><path d=\"M17.41 7.96l-1.37-1.37c-.4-.4-.92-.59-1.43-.59-.52 0-1.04.2-1.43.59L10.3 9.45l-7.72 7.72c-.78.78-.78 2.05 0 2.83L4 21.41c.39.39.9.59 1.41.59.51 0 1.02-.2 1.41-.59l7.78-7.78 2.81-2.81c.8-.78.8-2.07 0-2.86zM5.41 20L4 18.59l7.72-7.72 1.47 1.35L5.41 20z\"/>\n",
              "  </svg>\n",
              "      </button>\n",
              "      \n",
              "  <style>\n",
              "    .colab-df-container {\n",
              "      display:flex;\n",
              "      flex-wrap:wrap;\n",
              "      gap: 12px;\n",
              "    }\n",
              "\n",
              "    .colab-df-convert {\n",
              "      background-color: #E8F0FE;\n",
              "      border: none;\n",
              "      border-radius: 50%;\n",
              "      cursor: pointer;\n",
              "      display: none;\n",
              "      fill: #1967D2;\n",
              "      height: 32px;\n",
              "      padding: 0 0 0 0;\n",
              "      width: 32px;\n",
              "    }\n",
              "\n",
              "    .colab-df-convert:hover {\n",
              "      background-color: #E2EBFA;\n",
              "      box-shadow: 0px 1px 2px rgba(60, 64, 67, 0.3), 0px 1px 3px 1px rgba(60, 64, 67, 0.15);\n",
              "      fill: #174EA6;\n",
              "    }\n",
              "\n",
              "    [theme=dark] .colab-df-convert {\n",
              "      background-color: #3B4455;\n",
              "      fill: #D2E3FC;\n",
              "    }\n",
              "\n",
              "    [theme=dark] .colab-df-convert:hover {\n",
              "      background-color: #434B5C;\n",
              "      box-shadow: 0px 1px 3px 1px rgba(0, 0, 0, 0.15);\n",
              "      filter: drop-shadow(0px 1px 2px rgba(0, 0, 0, 0.3));\n",
              "      fill: #FFFFFF;\n",
              "    }\n",
              "  </style>\n",
              "\n",
              "      <script>\n",
              "        const buttonEl =\n",
              "          document.querySelector('#df-d7c454d9-f726-4ace-b3a2-6d9746de8f08 button.colab-df-convert');\n",
              "        buttonEl.style.display =\n",
              "          google.colab.kernel.accessAllowed ? 'block' : 'none';\n",
              "\n",
              "        async function convertToInteractive(key) {\n",
              "          const element = document.querySelector('#df-d7c454d9-f726-4ace-b3a2-6d9746de8f08');\n",
              "          const dataTable =\n",
              "            await google.colab.kernel.invokeFunction('convertToInteractive',\n",
              "                                                     [key], {});\n",
              "          if (!dataTable) return;\n",
              "\n",
              "          const docLinkHtml = 'Like what you see? Visit the ' +\n",
              "            '<a target=\"_blank\" href=https://colab.research.google.com/notebooks/data_table.ipynb>data table notebook</a>'\n",
              "            + ' to learn more about interactive tables.';\n",
              "          element.innerHTML = '';\n",
              "          dataTable['output_type'] = 'display_data';\n",
              "          await google.colab.output.renderOutput(dataTable, element);\n",
              "          const docLink = document.createElement('div');\n",
              "          docLink.innerHTML = docLinkHtml;\n",
              "          element.appendChild(docLink);\n",
              "        }\n",
              "      </script>\n",
              "    </div>\n",
              "  </div>\n",
              "  "
            ]
          },
          "metadata": {},
          "execution_count": 91
        }
      ],
      "source": [
        "#we use min max scaler to normalize the dataframe\n",
        "from sklearn.preprocessing import MinMaxScaler\n",
        "\n",
        "cols = df.columns\n",
        "scaler = MinMaxScaler()\n",
        "for col in cols:\n",
        "    df[col] = scaler.fit_transform(df[col].to_numpy().reshape(-1, 1))\n",
        "df.head()"
      ]
    },
    {
      "cell_type": "code",
      "execution_count": null,
      "metadata": {
        "id": "pzFSZOSS5R_3",
        "colab": {
          "base_uri": "https://localhost:8080/"
        },
        "outputId": "9170b20d-6fc2-4cdc-8118-bffd37a1a6cc"
      },
      "outputs": [
        {
          "output_type": "stream",
          "name": "stdout",
          "text": [
            "chosen features:  Index(['league', 'season', 'window', 'team_country', 'player_age',\n",
            "       'counter_team_country'],\n",
            "      dtype='object') \n",
            "\n"
          ]
        },
        {
          "output_type": "execute_result",
          "data": {
            "text/plain": [
              "array([5.50556422e+02, 2.54772829e+03, 3.45960076e+01, 7.33762820e+00,\n",
              "       3.45670499e+02, 1.32581408e+00, 4.81721014e+02, 1.14761317e+01,\n",
              "       1.08086270e+01, 7.26030833e+00, 8.60973012e+00, 1.74221926e+02,\n",
              "       9.65413911e+00])"
            ]
          },
          "metadata": {},
          "execution_count": 92
        }
      ],
      "source": [
        "from sklearn.feature_selection import mutual_info_classif\n",
        "# select k best\n",
        "#importing libraries\n",
        "from sklearn.feature_selection import SelectKBest\n",
        "from sklearn.feature_selection import f_regression\n",
        "#declaring target as Total Users column\n",
        "target = df['is_expensive']\n",
        "#dropping Total Users from the features\n",
        "features = df.drop(['is_expensive','market_val_amnt','transfer_fee_amnt','dir','is_free','is_retired'],axis = 1).copy()\n",
        "#fitting the columns into their respective positions\n",
        "select_kbest = SelectKBest(f_regression,k = 6).fit(features,target)\n",
        "features_kbest = select_kbest.get_support()\n",
        "#printing results from kbest\n",
        "print('chosen features: ', features.columns[features_kbest],'\\n')\n",
        "\n",
        "select_kbest.scores_"
      ]
    },
    {
      "cell_type": "markdown",
      "source": [
        "Very interesting to see the features that are outputted here. I would have normally expected to see player position or the counter team name(the team that is selling the player) to be included."
      ],
      "metadata": {
        "id": "-tu8kJlzyhtL"
      }
    },
    {
      "cell_type": "code",
      "execution_count": null,
      "metadata": {
        "id": "t3PX3qie8Mnv",
        "colab": {
          "base_uri": "https://localhost:8080/"
        },
        "outputId": "a78e9875-c46a-4737-cca2-19a41928ed17"
      },
      "outputs": [
        {
          "output_type": "stream",
          "name": "stdout",
          "text": [
            "Index(['league', 'season', 'team_country', 'player_age',\n",
            "       'counter_team_country'],\n",
            "      dtype='object')\n"
          ]
        }
      ],
      "source": [
        "# Recursive Feature Elimination\n",
        "from sklearn.linear_model import LinearRegression\n",
        "from sklearn.feature_selection import RFE\n",
        "\n",
        "lr = LinearRegression()\n",
        "rfe = RFE(estimator = lr, n_features_to_select = 5 , step = 1)\n",
        "\n",
        "rfe.fit(features,target)\n",
        "rfe_features = features.columns[rfe.support_]\n",
        "print(rfe_features)"
      ]
    },
    {
      "cell_type": "markdown",
      "metadata": {
        "id": "rUA-gfMZ_UJw"
      },
      "source": [
        "#SMOTE"
      ]
    },
    {
      "cell_type": "code",
      "execution_count": null,
      "metadata": {
        "id": "0Y1eU27w_VvT",
        "colab": {
          "base_uri": "https://localhost:8080/"
        },
        "outputId": "7028390b-1686-4a6c-9140-2c816d34808f"
      },
      "outputs": [
        {
          "output_type": "execute_result",
          "data": {
            "text/plain": [
              "((90998, 5), (90998,))"
            ]
          },
          "metadata": {},
          "execution_count": 94
        }
      ],
      "source": [
        "#SMOTE the data since there is too many cases of not_expensive players and few expensive players in comparison\n",
        "from imblearn.over_sampling import SMOTE\n",
        "\n",
        "y = df['is_expensive']\n",
        "#declaring the features\n",
        "X = df[['league','season','player_age','is_free','player_nation']]\n",
        "#our test and train split for prediction\n",
        "X_train,X_test,y_train,y_test = train_test_split(X,y,test_size = .2)\n",
        "\n",
        "sm = SMOTE(random_state=2)\n",
        "X_train, y_train = sm.fit_resample(X_train, y_train.ravel())\n",
        "\n",
        "X_train.shape, y_train.shape"
      ]
    },
    {
      "cell_type": "markdown",
      "source": [
        "We tried fitting the data without balancing it but the results in recall when we did our performance metrics using the classification report were terrible. It is paramount that we balance this dataset to see improvements in those metrics."
      ],
      "metadata": {
        "id": "c5fsgREl2jxN"
      }
    },
    {
      "cell_type": "markdown",
      "metadata": {
        "id": "wmMrptxF99bu"
      },
      "source": [
        "#Classifiers"
      ]
    },
    {
      "cell_type": "code",
      "execution_count": null,
      "metadata": {
        "id": "moi7Nf6b92bm",
        "colab": {
          "base_uri": "https://localhost:8080/"
        },
        "outputId": "731177f2-5bb4-41c5-d0db-22460b1bf781"
      },
      "outputs": [
        {
          "output_type": "execute_result",
          "data": {
            "text/plain": [
              "0.6140187983887095"
            ]
          },
          "metadata": {},
          "execution_count": 95
        }
      ],
      "source": [
        "from sklearn.metrics import accuracy_score\n",
        "from sklearn.metrics import classification_report\n",
        "from sklearn.metrics import roc_auc_score\n",
        "from sklearn.metrics import log_loss\n",
        "from sklearn.metrics import f1_score\n",
        "from sklearn.metrics import precision_score\n",
        "from sklearn.metrics import recall_score\n",
        "from sklearn import svm\n",
        "#instance for our svc\n",
        "clf = svm.SVC()\n",
        "#fitting our model\n",
        "clf.fit(X_train,y_train)\n",
        "y_pred = clf.predict(X_test)\n",
        "clf.score(X,y)"
      ]
    },
    {
      "cell_type": "code",
      "execution_count": null,
      "metadata": {
        "id": "a_hue4OJgRl5",
        "colab": {
          "base_uri": "https://localhost:8080/"
        },
        "outputId": "2be22daa-c343-4a57-fd97-dd80ee0b9d71"
      },
      "outputs": [
        {
          "output_type": "stream",
          "name": "stdout",
          "text": [
            "              precision    recall  f1-score   support\n",
            "\n",
            "         0.0       0.90      0.59      0.71     11394\n",
            "         1.0       0.29      0.72      0.41      2608\n",
            "\n",
            "    accuracy                           0.62     14002\n",
            "   macro avg       0.59      0.65      0.56     14002\n",
            "weighted avg       0.79      0.62      0.66     14002\n",
            "\n"
          ]
        }
      ],
      "source": [
        "print(classification_report(y_test, y_pred))"
      ]
    },
    {
      "cell_type": "code",
      "execution_count": null,
      "metadata": {
        "id": "VHaLnESEgthn",
        "colab": {
          "base_uri": "https://localhost:8080/"
        },
        "outputId": "bb702add-3fa8-4816-dfee-f9c99fa1e222"
      },
      "outputs": [
        {
          "output_type": "execute_result",
          "data": {
            "text/plain": [
              "array([[6749, 4645],\n",
              "       [ 743, 1865]])"
            ]
          },
          "metadata": {},
          "execution_count": 97
        }
      ],
      "source": [
        "# confusion matrix\n",
        "from sklearn.metrics import confusion_matrix\n",
        "test_conf_mat = confusion_matrix(y_test, y_pred)\n",
        "#print results \n",
        "test_conf_mat"
      ]
    },
    {
      "cell_type": "code",
      "execution_count": null,
      "metadata": {
        "id": "GwZkhPOXgwJ7",
        "colab": {
          "base_uri": "https://localhost:8080/"
        },
        "outputId": "3bfefe18-56e7-4df8-f8d8-475a92d588fb"
      },
      "outputs": [
        {
          "output_type": "stream",
          "name": "stdout",
          "text": [
            "auc score: 0.6537183290419777\n"
          ]
        }
      ],
      "source": [
        "# print roc score\n",
        "from sklearn.metrics import roc_auc_score\n",
        "\n",
        "auc = roc_auc_score(y_test, y_pred)\n",
        "print('auc score:', auc)"
      ]
    },
    {
      "cell_type": "code",
      "execution_count": null,
      "metadata": {
        "id": "lejyoTs1gyv4",
        "colab": {
          "base_uri": "https://localhost:8080/",
          "height": 334
        },
        "outputId": "267fd803-93e6-4bda-8444-6bbd5d1b2ba3"
      },
      "outputs": [
        {
          "output_type": "stream",
          "name": "stderr",
          "text": [
            "/usr/local/lib/python3.7/dist-packages/sklearn/utils/deprecation.py:87: FutureWarning: Function plot_roc_curve is deprecated; Function :func:`plot_roc_curve` is deprecated in 1.0 and will be removed in 1.2. Use one of the class methods: :meth:`sklearn.metric.RocCurveDisplay.from_predictions` or :meth:`sklearn.metric.RocCurveDisplay.from_estimator`.\n",
            "  warnings.warn(msg, category=FutureWarning)\n"
          ]
        },
        {
          "output_type": "display_data",
          "data": {
            "text/plain": [
              "<Figure size 432x288 with 1 Axes>"
            ],
            "image/png": "[encoded data removed]"
          },
          "metadata": {
            "needs_background": "light"
          }
        }
      ],
      "source": [
        "metrics.plot_roc_curve(clf, X_test, y_test) \n",
        "plt.plot([0, 1], [0, 1], 'c--', label = 'support vector classifier');\n",
        "plt.show()"
      ]
    },
    {
      "cell_type": "code",
      "source": [
        "#SMOTE the data since there is too many cases of not_expensive players and few expensive players in comparison\n",
        "from imblearn.over_sampling import SMOTE\n",
        "\n",
        "y = df['is_expensive']\n",
        "#declaring the features\n",
        "X = df[['league','season','player_age','player_pos','player_nation','counter_team_name']]\n",
        "#our test and train split for prediction\n",
        "X_train,X_test,y_train,y_test = train_test_split(X,y,test_size = .2)\n",
        "\n",
        "sm = SMOTE(random_state=2)\n",
        "X_train, y_train = sm.fit_resample(X_train, y_train.ravel())\n",
        "\n",
        "X_train.shape, y_train.shape"
      ],
      "metadata": {
        "id": "fSoXOrmOxNGC",
        "colab": {
          "base_uri": "https://localhost:8080/"
        },
        "outputId": "f78ebc3d-4496-4acc-ea73-c5132d5d5675"
      },
      "execution_count": null,
      "outputs": [
        {
          "output_type": "execute_result",
          "data": {
            "text/plain": [
              "((91068, 6), (91068,))"
            ]
          },
          "metadata": {},
          "execution_count": 100
        }
      ]
    },
    {
      "cell_type": "code",
      "execution_count": null,
      "metadata": {
        "id": "agONbmaIdrGU",
        "colab": {
          "base_uri": "https://localhost:8080/"
        },
        "outputId": "ba09ccac-89df-4192-91de-086c16b794f1"
      },
      "outputs": [
        {
          "output_type": "execute_result",
          "data": {
            "text/plain": [
              "0.9686026911978973"
            ]
          },
          "metadata": {},
          "execution_count": 101
        }
      ],
      "source": [
        "# random forest classifier\n",
        "from sklearn.ensemble import RandomForestClassifier\n",
        "from sklearn.ensemble import RandomForestRegressor\n",
        "forest = RandomForestClassifier()\n",
        "model = forest.fit(X_train,y_train)\n",
        "y_pred = model.predict(X_test)\n",
        "model.score(X,y)"
      ]
    },
    {
      "cell_type": "code",
      "execution_count": null,
      "metadata": {
        "id": "GcnnsZFmmscM",
        "colab": {
          "base_uri": "https://localhost:8080/"
        },
        "outputId": "f91e680d-6970-43b8-a9d4-0803432a4ab2"
      },
      "outputs": [
        {
          "output_type": "stream",
          "name": "stdout",
          "text": [
            "              precision    recall  f1-score   support\n",
            "\n",
            "         0.0       0.89      0.94      0.91     11359\n",
            "         1.0       0.65      0.48      0.55      2643\n",
            "\n",
            "    accuracy                           0.85     14002\n",
            "   macro avg       0.77      0.71      0.73     14002\n",
            "weighted avg       0.84      0.85      0.84     14002\n",
            "\n"
          ]
        }
      ],
      "source": [
        "print(classification_report(y_test, y_pred))"
      ]
    },
    {
      "cell_type": "code",
      "execution_count": null,
      "metadata": {
        "id": "18XMKcMgmyVW",
        "colab": {
          "base_uri": "https://localhost:8080/"
        },
        "outputId": "27337bf4-2536-4c8b-fe9b-920dd020b6cc"
      },
      "outputs": [
        {
          "output_type": "execute_result",
          "data": {
            "text/plain": [
              "array([[10685,   674],\n",
              "       [ 1373,  1270]])"
            ]
          },
          "metadata": {},
          "execution_count": 103
        }
      ],
      "source": [
        "# create confusion matrix\n",
        "from sklearn.metrics import confusion_matrix\n",
        "test_conf_mat = confusion_matrix(y_test, y_pred)\n",
        "#print results \n",
        "test_conf_mat"
      ]
    },
    {
      "cell_type": "code",
      "execution_count": null,
      "metadata": {
        "id": "iPsi4awfm08J",
        "colab": {
          "base_uri": "https://localhost:8080/"
        },
        "outputId": "fa84758c-efcb-4fa9-ea05-7d5aad61f8fe"
      },
      "outputs": [
        {
          "output_type": "stream",
          "name": "stdout",
          "text": [
            "auc score: 0.7105891788034157\n"
          ]
        }
      ],
      "source": [
        "# print roc score\n",
        "from sklearn.metrics import roc_auc_score\n",
        "\n",
        "auc = roc_auc_score(y_test, y_pred)\n",
        "print('auc score:', auc)"
      ]
    },
    {
      "cell_type": "code",
      "execution_count": null,
      "metadata": {
        "id": "i-TAf-_Y3Jgt",
        "colab": {
          "base_uri": "https://localhost:8080/",
          "height": 334
        },
        "outputId": "8fb2620b-beab-43a1-93fd-7225b730447b"
      },
      "outputs": [
        {
          "output_type": "stream",
          "name": "stderr",
          "text": [
            "/usr/local/lib/python3.7/dist-packages/sklearn/utils/deprecation.py:87: FutureWarning: Function plot_roc_curve is deprecated; Function :func:`plot_roc_curve` is deprecated in 1.0 and will be removed in 1.2. Use one of the class methods: :meth:`sklearn.metric.RocCurveDisplay.from_predictions` or :meth:`sklearn.metric.RocCurveDisplay.from_estimator`.\n",
            "  warnings.warn(msg, category=FutureWarning)\n"
          ]
        },
        {
          "output_type": "display_data",
          "data": {
            "text/plain": [
              "<Figure size 432x288 with 1 Axes>"
            ],
            "image/png": "[encoded data removed]"
          },
          "metadata": {
            "needs_background": "light"
          }
        }
      ],
      "source": [
        "metrics.plot_roc_curve(forest, X_test, y_test) \n",
        "plt.plot([0, 1], [0, 1], 'c--', label = 'random forest classifier');\n",
        "plt.show()"
      ]
    },
    {
      "cell_type": "code",
      "execution_count": null,
      "metadata": {
        "id": "Ffk_JgyM5LC5",
        "colab": {
          "base_uri": "https://localhost:8080/"
        },
        "outputId": "9793f48d-8b53-4466-e267-fd07e355bd48"
      },
      "outputs": [
        {
          "output_type": "execute_result",
          "data": {
            "text/plain": [
              "0.7265091563580265"
            ]
          },
          "metadata": {},
          "execution_count": 106
        }
      ],
      "source": [
        "# decision Tree classifier model\n",
        "from sklearn.tree import DecisionTreeClassifier\n",
        "dtree = DecisionTreeClassifier(max_depth=10, random_state=101, max_features=None, min_samples_leaf=15)\n",
        "model = dtree.fit(X_train, y_train)\n",
        "y_pred = dtree.predict(X_test)\n",
        "dtree.score(X,y)"
      ]
    },
    {
      "cell_type": "code",
      "execution_count": null,
      "metadata": {
        "id": "LVRkh7Lxgwuk",
        "colab": {
          "base_uri": "https://localhost:8080/"
        },
        "outputId": "8bbf9de8-a992-4e02-822c-1460a7e0d74c"
      },
      "outputs": [
        {
          "output_type": "stream",
          "name": "stdout",
          "text": [
            "              precision    recall  f1-score   support\n",
            "\n",
            "         0.0       0.87      0.78      0.82     11359\n",
            "         1.0       0.34      0.48      0.39      2643\n",
            "\n",
            "    accuracy                           0.72     14002\n",
            "   macro avg       0.60      0.63      0.61     14002\n",
            "weighted avg       0.77      0.72      0.74     14002\n",
            "\n"
          ]
        }
      ],
      "source": [
        "#  print classification report\n",
        "from sklearn.metrics import accuracy_score\n",
        "from sklearn.metrics import classification_report\n",
        "from sklearn.metrics import roc_auc_score\n",
        "from sklearn.metrics import log_loss\n",
        "from sklearn.metrics import f1_score\n",
        "from sklearn.metrics import precision_score\n",
        "from sklearn.metrics import recall_score\n",
        "print(classification_report(y_test, y_pred))\n"
      ]
    },
    {
      "cell_type": "code",
      "execution_count": null,
      "metadata": {
        "id": "0s_DPaR_728k",
        "colab": {
          "base_uri": "https://localhost:8080/"
        },
        "outputId": "acce2548-9fcd-41ea-9feb-a6c66f970b32"
      },
      "outputs": [
        {
          "output_type": "execute_result",
          "data": {
            "text/plain": [
              "array([[8875, 2484],\n",
              "       [1383, 1260]])"
            ]
          },
          "metadata": {},
          "execution_count": 108
        }
      ],
      "source": [
        "# create confusion matrix\n",
        "from sklearn.metrics import confusion_matrix\n",
        "test_conf_mat = confusion_matrix(y_test, y_pred)\n",
        "#print results \n",
        "test_conf_mat"
      ]
    },
    {
      "cell_type": "code",
      "execution_count": null,
      "metadata": {
        "id": "Ihwx-1Bg8jPa",
        "colab": {
          "base_uri": "https://localhost:8080/"
        },
        "outputId": "f7604d37-3832-45cf-b0ca-5ed14e8a866b"
      },
      "outputs": [
        {
          "output_type": "stream",
          "name": "stdout",
          "text": [
            "auc score: 0.6290248827878188\n"
          ]
        }
      ],
      "source": [
        "# print roc score\n",
        "from sklearn.metrics import roc_auc_score\n",
        "\n",
        "auc = roc_auc_score(y_test, y_pred)\n",
        "print('auc score:', auc)"
      ]
    },
    {
      "cell_type": "code",
      "execution_count": null,
      "metadata": {
        "id": "8zStU4kK8MeI",
        "colab": {
          "base_uri": "https://localhost:8080/",
          "height": 295
        },
        "outputId": "9b5071d9-e1aa-4f45-8b36-63e599ebf511"
      },
      "outputs": [
        {
          "output_type": "display_data",
          "data": {
            "text/plain": [
              "<Figure size 432x288 with 1 Axes>"
            ],
            "image/png": "[encoded data removed]"
          },
          "metadata": {
            "needs_background": "light"
          }
        }
      ],
      "source": [
        "#referred from M_Fried_M8_assn notebook\n",
        "# create roc graph\n",
        "from sklearn.metrics import roc_auc_score\n",
        "from sklearn.metrics import roc_curve\n",
        "logit_roc_auc = roc_auc_score(y_test, forest.predict(X_test))\n",
        "fpr, tpr, thresholds = roc_curve(y_test, forest.predict_proba(X_test)[:,1])\n",
        "plt.figure()\n",
        "plt.plot(fpr, tpr, label='Decision Tree Classifier (area = %0.2f)' % logit_roc_auc)\n",
        "plt.plot([0, 1], [0, 1],'r--')\n",
        "plt.xlim([0.0, 1.0])\n",
        "plt.ylim([0.0, 1.05])\n",
        "plt.xlabel('False Positive Rate')\n",
        "plt.ylabel('True Positive Rate')\n",
        "plt.title('Receiver operating characteristic curve')\n",
        "plt.legend(loc=\"lower right\")\n",
        "plt.savefig('Log_ROC')\n",
        "plt.show() "
      ]
    },
    {
      "cell_type": "code",
      "execution_count": null,
      "metadata": {
        "id": "HdzC_hBGO0bo",
        "colab": {
          "base_uri": "https://localhost:8080/"
        },
        "outputId": "fed0c885-4e2c-45f7-ba27-ef4970df4b0e"
      },
      "outputs": [
        {
          "output_type": "execute_result",
          "data": {
            "text/plain": [
              "0.6032625774933578"
            ]
          },
          "metadata": {},
          "execution_count": 111
        }
      ],
      "source": [
        "# gaussian model\n",
        "from sklearn.model_selection import train_test_split\n",
        "from sklearn.naive_bayes import GaussianNB\n",
        "gnb = GaussianNB()\n",
        "model = gnb.fit(X_train, y_train)\n",
        "y_pred = model.predict(X_test)\n",
        "model.score(X,y)"
      ]
    },
    {
      "cell_type": "code",
      "execution_count": null,
      "metadata": {
        "id": "QRJhOVdfRJf3",
        "colab": {
          "base_uri": "https://localhost:8080/"
        },
        "outputId": "8b6dc4d2-3f3b-43e7-d0e6-7a15e6591bdf"
      },
      "outputs": [
        {
          "output_type": "stream",
          "name": "stdout",
          "text": [
            "              precision    recall  f1-score   support\n",
            "\n",
            "         0.0       0.90      0.58      0.71     11359\n",
            "         1.0       0.28      0.71      0.41      2643\n",
            "\n",
            "    accuracy                           0.61     14002\n",
            "   macro avg       0.59      0.65      0.56     14002\n",
            "weighted avg       0.78      0.61      0.65     14002\n",
            "\n"
          ]
        }
      ],
      "source": [
        "print(classification_report(y_test, y_pred))"
      ]
    },
    {
      "cell_type": "code",
      "execution_count": null,
      "metadata": {
        "id": "6htCGF7dRLk2",
        "colab": {
          "base_uri": "https://localhost:8080/"
        },
        "outputId": "9bc62566-2f4d-44e4-c184-29ffd90c0710"
      },
      "outputs": [
        {
          "output_type": "execute_result",
          "data": {
            "text/plain": [
              "array([[6610, 4749],\n",
              "       [ 755, 1888]])"
            ]
          },
          "metadata": {},
          "execution_count": 113
        }
      ],
      "source": [
        "# confusion matrix\n",
        "from sklearn.metrics import confusion_matrix\n",
        "test_conf_mat = confusion_matrix(y_test, y_pred)\n",
        "#print results \n",
        "test_conf_mat"
      ]
    },
    {
      "cell_type": "code",
      "execution_count": null,
      "metadata": {
        "id": "_62kmnG9RO50",
        "colab": {
          "base_uri": "https://localhost:8080/"
        },
        "outputId": "4fcf9e6f-867d-41fd-c2fc-8dcb8a879517"
      },
      "outputs": [
        {
          "output_type": "stream",
          "name": "stdout",
          "text": [
            "auc score: 0.6481285938631937\n"
          ]
        }
      ],
      "source": [
        "# print roc score\n",
        "from sklearn.metrics import roc_auc_score\n",
        "\n",
        "auc = roc_auc_score(y_test, y_pred)\n",
        "print('auc score:', auc)"
      ]
    },
    {
      "cell_type": "code",
      "execution_count": null,
      "metadata": {
        "id": "h2ztPtsiRQ4i",
        "colab": {
          "base_uri": "https://localhost:8080/",
          "height": 334
        },
        "outputId": "c6d49ca6-cbee-4295-8398-9ce37ea2cc9c"
      },
      "outputs": [
        {
          "output_type": "stream",
          "name": "stderr",
          "text": [
            "/usr/local/lib/python3.7/dist-packages/sklearn/utils/deprecation.py:87: FutureWarning: Function plot_roc_curve is deprecated; Function :func:`plot_roc_curve` is deprecated in 1.0 and will be removed in 1.2. Use one of the class methods: :meth:`sklearn.metric.RocCurveDisplay.from_predictions` or :meth:`sklearn.metric.RocCurveDisplay.from_estimator`.\n",
            "  warnings.warn(msg, category=FutureWarning)\n"
          ]
        },
        {
          "output_type": "display_data",
          "data": {
            "text/plain": [
              "<Figure size 432x288 with 1 Axes>"
            ],
            "image/png": "[encoded data removed]"
          },
          "metadata": {
            "needs_background": "light"
          }
        }
      ],
      "source": [
        "metrics.plot_roc_curve(gnb, X_test, y_test) \n",
        "plt.plot([0, 1], [0, 1], 'c--', label = 'naive classifier');\n",
        "plt.show()"
      ]
    },
    {
      "cell_type": "markdown",
      "source": [
        "## Conclusion\n",
        "\n",
        "* Our project began with issues finding a dataset until we ultimately landed on one our group member was passionate about. Which is how we landed upon the football transfer database. Working with this dataset turned out to create some issues the response variable we wanted to work with had a lot of NaN values, at this point we had to make a decision one, we use our domain knowledge to drop all the rows that had NaN variables where transfer market fee was NaN's because from our domain knowledge we knew a lot of clubs do not disclose their player transfer details including the fee. However this would have severly cut our dataset by more than 60% which is why we came upon the decision to use KNN imputer to fill the NaN values. This strategy was successful because the rows were grouped by the club which bought the players \"team_name\", we did this because the rows are sorted by club which meant we can look to our neighbors to fill the NaN values which are relevant and would give us the most accurate evaluations. \n",
        "\n",
        "* With our new dataframe we began Exploratory Data Analysis, we gained a lot of information from univariate and multivariate graphs. At this point we created a new column to our dataframe that would determine whether a player was considered expensive or not. The threshold for determining whether they were expensive was the mean of \"market_val_amt\", if they were lower than the mean they were not considered expensive however if they were over it they were categorized as expensive.  With the new column we did data scaling to normalize our data.\n",
        "\n",
        "* We trained the dataframe without balancing the data first(response variable) however it resulted in extremely bad scores for f1, recall, and precision for our true values (1). As a result we looked into SMOTE to balance our data and then we began to write our four models (SVC,Random Forest Classifier, Gaussian Naive Bayes, Decision Tree Model) and then we compared the results of the models by classification report and the ROC Curve.\n",
        "\n",
        "* Ultimately we decided that the ensemble model, Random Forest Classifier was the best out of the four we made based on Model Score, the curve of the ROC Score and f1-score.\n",
        "\n",
        "* **Issues we encountered:** A couple of issues we encountered was KNN imputer took 5 minutes to run and SVC took 15 minutes. This made working on our project extremely time consuming. \n",
        "\n",
        "* **Result of Research Question:**  We were also able to answer our hypothesis and we came to realize it was wrong England was not the highest market value but rather France. This could be explained due to recent world cup winnings in 2018 which might have inflated the evaluations of the French playerbase. France was closely followed by Italy then Spain."
      ],
      "metadata": {
        "id": "gbg01lo8FDqS"
      }
    }
  ],
  "metadata": {
    "colab": {
      "collapsed_sections": [],
      "name": "final_project.ipynb",
      "provenance": [],
      "include_colab_link": true
    },
    "kernelspec": {
      "display_name": "Python 3.9.12 64-bit",
      "language": "python",
      "name": "python3"
    },
    "language_info": {
      "codemirror_mode": {
        "name": "ipython",
        "version": 3
      },
      "file_extension": ".py",
      "mimetype": "text/x-python",
      "name": "python",
      "nbconvert_exporter": "python",
      "pygments_lexer": "ipython3",
      "version": "3.9.12"
    },
    "vscode": {
      "interpreter": {
        "hash": "aee8b7b246df8f9039afb4144a1f6fd8d2ca17a180786b69acc140d282b71a49"
      }
    }
  },
  "nbformat": 4,
  "nbformat_minor": 0
}