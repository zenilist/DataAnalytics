{
  "cells": [
    {
      "cell_type": "markdown",
      "metadata": {
        "id": "view-in-github",
        "colab_type": "text"
      },
      "source": [
        "<a href=\"https://colab.research.google.com/github/zenilist/DataAnalytics/blob/main/final_project.ipynb\" target=\"_parent\"><img src=\"https://colab.research.google.com/assets/colab-badge.svg\" alt=\"Open In Colab\"/></a>"
      ]
    },
    {
      "cell_type": "markdown",
      "metadata": {
        "id": "FDes3uzKHyAK"
      },
      "source": [
        "#**Group members**"
      ]
    },
    {
      "cell_type": "markdown",
      "metadata": {
        "id": "TeUCZln5Hzid"
      },
      "source": [
        "* Yuhang Zhu\n",
        "* Jason Kang\n",
        "* Aviraj Kar\n",
        "* Roseleen Kaur\n",
        "* Hema Muni"
      ]
    },
    {
      "cell_type": "markdown",
      "metadata": {
        "id": "7nw7baHr5h5z"
      },
      "source": [
        "#**Abstract**"
      ]
    },
    {
      "cell_type": "markdown",
      "metadata": {
        "id": "SRWiUOs45jfw"
      },
      "source": [
        "We will use a soccer dataset based on transfer evaluations for the last 12 years to look for features that determine a players valuation. We will load the data from [github](https://github.com/d2ski). Perform data preparation to fill in values and perform the EDA work to analyze the data and gain valuable insights about relationships concerning our attributes. We plan to use four different classifiers one being an ensemble method to model a binary response variable, \"is_expensive\" that could be used by the UEFA transfer regulatory board to create a threashold to deter massive clubs like PSG, Barcelona FC, Manchester United to name a few, from buying too many excellent players with their significantly large buying power. As a result it would level the playing field and make it more viable for smaller clubs to approach talented footballers."
      ]
    },
    {
      "cell_type": "markdown",
      "metadata": {
        "id": "2q6QedkrvPLF"
      },
      "source": [
        "#**Introduction**"
      ]
    },
    {
      "cell_type": "markdown",
      "metadata": {
        "id": "XRzxwkNyvQaA"
      },
      "source": [
        "Soccer or otherwise known as football is a team sport played amongst 11 players where two teams try to kick the ball into the opposing team’s goal to score goals. There are 10 outfield players and 1 pers on designated as the goalkeeper.\n",
        "\n",
        "\n",
        "In this sport, the pro athletes are the ones that shine the most. Hosting one of the most well-known names in all sports such as Lionel Messi or Cristiano Ronaldo it is no surprise that these players are worth a large sum of money and that soccer itself is a booming industry. The transfer market of soccer has increased tremendously over the last decade [link](https://football-observatory.com/Monthly-Report-reveals-growing-football-transfer) going from 1.5 billion euros in 2010 to 6.6 billion in 2019.\n",
        "\n",
        "**Our model that predicts if a player is expensive or not could be used by the UEFA transfer regulatory board to create a threashold to deter massive clubs like PSG, Barcelona FC, Manchester United to name a few, from buying too many excellent players with their significantly large buying power. As a result it would level the playing field and make it more viable for smaller clubs to approach talented footballers.**"
      ]
    },
    {
      "cell_type": "markdown",
      "source": [
        "#**Research Question**"
      ],
      "metadata": {
        "id": "rLOQlTpZh9BG"
      }
    },
    {
      "cell_type": "markdown",
      "source": [
        "The answer we want to find by analysing this data set is are the English players more valued compared to players from other European countries.\n"
      ],
      "metadata": {
        "id": "TwTfv2HJiBg7"
      }
    },
    {
      "cell_type": "markdown",
      "source": [
        "#**Research Approach**"
      ],
      "metadata": {
        "id": "WD3SCX4_hvAF"
      }
    },
    {
      "cell_type": "markdown",
      "source": [
        "After the data is loaded from github we will run various graphs using the python libraries matplotlib.pyplot, seaborn and missingno to answer our research question and make our data ready for modeling work. We will also use python pandas features like group-by to get multivariate analysis for attributes that are worth talking about."
      ],
      "metadata": {
        "id": "wnIVueRlhzej"
      }
    },
    {
      "cell_type": "markdown",
      "metadata": {
        "id": "VMRXH1jKvNxo"
      },
      "source": [
        "#**Attribute Summary**"
      ]
    },
    {
      "cell_type": "markdown",
      "metadata": {
        "id": "tDYbPg-XvNHg"
      },
      "source": [
        "\n",
        "\n",
        "\n",
        "| Attribute Name       | Attribute Description                                  |\n",
        "|----------------------|--------------------------------------------------------|\n",
        "| *league*           | codename of the football league                        |\n",
        "| *season*               | year of transfer                                       |\n",
        "| *window*               | transfer window - s(summer), w(winter)                 |\n",
        "| *team_id*              | team id that was scraped from Transfermarkt            |\n",
        "| *team_name*            | name of the buying team                                |\n",
        "| *team_country*         | buying team's nation                                   |\n",
        "| *dir*                  | direction of transfer(in or left)                      |\n",
        "| *player_id*            | player's ID as used by Transfermarkt                   |\n",
        "| *player_name*          | name of the player                                     |\n",
        "| *player_age*           | age of player when the transfer took place             |\n",
        "| *player_nation*        | player's nationality                                   |\n",
        "| *player_nation2*       | player's second nationality                            |\n",
        "| *player_pos*           | position of player                                     |\n",
        "| *counter_team_id*      | selling team's id as used by Transfermarkt             |\n",
        "| *counter_team_name*    | selling team's name                                    |\n",
        "| *counter_team_country* | selling team's nation                                  |\n",
        "| *transfer_fee_amnt*    | amount of transfer fee in Euros                        |\n",
        "| *market_val_amnt*      | player's market value in Euros at the time of transfer |\n",
        "| *is_free*              | was the transfer a free one                            |\n",
        "| *is_loan*              | loan transfer (yes/no)                                 |\n",
        "| *is_loan_end*          | end of loan transfer (yes/no)                          |\n",
        "| *is_retired*          | is the player retired (yes/no)                         |\n",
        "| *transfer_id*          | transfer id used by Transfermarkt                      |\n",
        "\n",
        "**Types of Leagues**\n",
        "* GB1 - ENGLISH PREMIER LEAGUE\n",
        "* ES1 - LA LIGA\n",
        "* IT1 - SERIE A\n",
        "* L1 - BUNDESLIGA\n",
        "* FR1 - FRENCH LIGUE 1\n",
        "* PO1 - LIGA PORTUGAL BWIN\n",
        "* NL1 - DUTCH EREDIVISIE\n",
        "\n",
        "**Types of player postions:**\n",
        "  * RB - Right Back\n",
        "  * CF - Centre Forward\n",
        "  * AM - Attacking Midfielder\n",
        "  * CB - Center Back\n",
        "  * CM - Central Midfield\n",
        "  * GK - Goalkeeper\n",
        "  * LW - Left Winger\n",
        "  * LB - Left Back\n",
        "  * DM - Defensive Midfielder\n",
        "  * SS - Second Striker\n",
        "  * RW - Right Winger\n",
        "  * RM - Right Midfielder\n",
        "  * LM - Left Midfielder\n",
        "  * RM - Right Midfielder\n",
        "  * Midfield\n",
        "  * Attack\n",
        "  * Defence"
      ]
    },
    {
      "cell_type": "markdown",
      "metadata": {
        "id": "95TYJ0rm37pZ"
      },
      "source": [
        "#**Data Loading**"
      ]
    },
    {
      "cell_type": "code",
      "execution_count": 147,
      "metadata": {
        "colab": {
          "base_uri": "https://localhost:8080/",
          "height": 357
        },
        "id": "pmFmSwdFm0Fr",
        "outputId": "34500e84-106b-4c29-8330-cd785142ce7e"
      },
      "outputs": [
        {
          "output_type": "execute_result",
          "data": {
            "text/plain": [
              "  league  season window  team_id          team_name team_country dir  \\\n",
              "0    GB1    2009      s      985  Manchester United      England  in   \n",
              "1    GB1    2009      s      985  Manchester United      England  in   \n",
              "2    GB1    2009      s      985  Manchester United      England  in   \n",
              "3    GB1    2009      s      985  Manchester United      England  in   \n",
              "4    GB1    2009      s      985  Manchester United      England  in   \n",
              "\n",
              "   player_id       player_name  player_age player_nation player_nation2  \\\n",
              "0      33544  Antonio Valencia    23.00000       Ecuador            NaN   \n",
              "1      62049        Mame Diouf    21.00000       Senegal            NaN   \n",
              "2      43261   Gabriel Obertan    20.00000        France     Guadeloupe   \n",
              "3       1397      Michael Owen    29.00000       England            NaN   \n",
              "4      73538     Scott Moffatt    18.00000       England            NaN   \n",
              "\n",
              "  player_pos counter_team_id      counter_team_name counter_team_country  \\\n",
              "0         RB            1071         Wigan Athletic              England   \n",
              "1         CF             687               Molde FK               Norway   \n",
              "2         AM              40  FC Girondins Bordeaux               France   \n",
              "3         CF             762       Newcastle United              England   \n",
              "4         CB            5242  Manchester United U18              England   \n",
              "\n",
              "   transfer_fee_amnt  market_val_amnt  is_free  is_loan  is_loan_end  \\\n",
              "0     18800000.00000              NaN    False    False        False   \n",
              "1      4500000.00000    1600000.00000    False    False        False   \n",
              "2      4000000.00000     400000.00000    False    False        False   \n",
              "3            0.00000              NaN     True    False        False   \n",
              "4                NaN              NaN    False    False        False   \n",
              "\n",
              "   is_retired  transfer_id  \n",
              "0       False       310832  \n",
              "1       False       319841  \n",
              "2       False       315185  \n",
              "3       False       306421  \n",
              "4       False       339015  "
            ],
            "text/html": [
              "\n",
              "  <div id=\"df-5dd04957-db16-4d7d-b928-0cee2389675b\">\n",
              "    <div class=\"colab-df-container\">\n",
              "      <div>\n",
              "<style scoped>\n",
              "    .dataframe tbody tr th:only-of-type {\n",
              "        vertical-align: middle;\n",
              "    }\n",
              "\n",
              "    .dataframe tbody tr th {\n",
              "        vertical-align: top;\n",
              "    }\n",
              "\n",
              "    .dataframe thead th {\n",
              "        text-align: right;\n",
              "    }\n",
              "</style>\n",
              "<table border=\"1\" class=\"dataframe\">\n",
              "  <thead>\n",
              "    <tr style=\"text-align: right;\">\n",
              "      <th></th>\n",
              "      <th>league</th>\n",
              "      <th>season</th>\n",
              "      <th>window</th>\n",
              "      <th>team_id</th>\n",
              "      <th>team_name</th>\n",
              "      <th>team_country</th>\n",
              "      <th>dir</th>\n",
              "      <th>player_id</th>\n",
              "      <th>player_name</th>\n",
              "      <th>player_age</th>\n",
              "      <th>player_nation</th>\n",
              "      <th>player_nation2</th>\n",
              "      <th>player_pos</th>\n",
              "      <th>counter_team_id</th>\n",
              "      <th>counter_team_name</th>\n",
              "      <th>counter_team_country</th>\n",
              "      <th>transfer_fee_amnt</th>\n",
              "      <th>market_val_amnt</th>\n",
              "      <th>is_free</th>\n",
              "      <th>is_loan</th>\n",
              "      <th>is_loan_end</th>\n",
              "      <th>is_retired</th>\n",
              "      <th>transfer_id</th>\n",
              "    </tr>\n",
              "  </thead>\n",
              "  <tbody>\n",
              "    <tr>\n",
              "      <th>0</th>\n",
              "      <td>GB1</td>\n",
              "      <td>2009</td>\n",
              "      <td>s</td>\n",
              "      <td>985</td>\n",
              "      <td>Manchester United</td>\n",
              "      <td>England</td>\n",
              "      <td>in</td>\n",
              "      <td>33544</td>\n",
              "      <td>Antonio Valencia</td>\n",
              "      <td>23.00000</td>\n",
              "      <td>Ecuador</td>\n",
              "      <td>NaN</td>\n",
              "      <td>RB</td>\n",
              "      <td>1071</td>\n",
              "      <td>Wigan Athletic</td>\n",
              "      <td>England</td>\n",
              "      <td>18800000.00000</td>\n",
              "      <td>NaN</td>\n",
              "      <td>False</td>\n",
              "      <td>False</td>\n",
              "      <td>False</td>\n",
              "      <td>False</td>\n",
              "      <td>310832</td>\n",
              "    </tr>\n",
              "    <tr>\n",
              "      <th>1</th>\n",
              "      <td>GB1</td>\n",
              "      <td>2009</td>\n",
              "      <td>s</td>\n",
              "      <td>985</td>\n",
              "      <td>Manchester United</td>\n",
              "      <td>England</td>\n",
              "      <td>in</td>\n",
              "      <td>62049</td>\n",
              "      <td>Mame Diouf</td>\n",
              "      <td>21.00000</td>\n",
              "      <td>Senegal</td>\n",
              "      <td>NaN</td>\n",
              "      <td>CF</td>\n",
              "      <td>687</td>\n",
              "      <td>Molde FK</td>\n",
              "      <td>Norway</td>\n",
              "      <td>4500000.00000</td>\n",
              "      <td>1600000.00000</td>\n",
              "      <td>False</td>\n",
              "      <td>False</td>\n",
              "      <td>False</td>\n",
              "      <td>False</td>\n",
              "      <td>319841</td>\n",
              "    </tr>\n",
              "    <tr>\n",
              "      <th>2</th>\n",
              "      <td>GB1</td>\n",
              "      <td>2009</td>\n",
              "      <td>s</td>\n",
              "      <td>985</td>\n",
              "      <td>Manchester United</td>\n",
              "      <td>England</td>\n",
              "      <td>in</td>\n",
              "      <td>43261</td>\n",
              "      <td>Gabriel Obertan</td>\n",
              "      <td>20.00000</td>\n",
              "      <td>France</td>\n",
              "      <td>Guadeloupe</td>\n",
              "      <td>AM</td>\n",
              "      <td>40</td>\n",
              "      <td>FC Girondins Bordeaux</td>\n",
              "      <td>France</td>\n",
              "      <td>4000000.00000</td>\n",
              "      <td>400000.00000</td>\n",
              "      <td>False</td>\n",
              "      <td>False</td>\n",
              "      <td>False</td>\n",
              "      <td>False</td>\n",
              "      <td>315185</td>\n",
              "    </tr>\n",
              "    <tr>\n",
              "      <th>3</th>\n",
              "      <td>GB1</td>\n",
              "      <td>2009</td>\n",
              "      <td>s</td>\n",
              "      <td>985</td>\n",
              "      <td>Manchester United</td>\n",
              "      <td>England</td>\n",
              "      <td>in</td>\n",
              "      <td>1397</td>\n",
              "      <td>Michael Owen</td>\n",
              "      <td>29.00000</td>\n",
              "      <td>England</td>\n",
              "      <td>NaN</td>\n",
              "      <td>CF</td>\n",
              "      <td>762</td>\n",
              "      <td>Newcastle United</td>\n",
              "      <td>England</td>\n",
              "      <td>0.00000</td>\n",
              "      <td>NaN</td>\n",
              "      <td>True</td>\n",
              "      <td>False</td>\n",
              "      <td>False</td>\n",
              "      <td>False</td>\n",
              "      <td>306421</td>\n",
              "    </tr>\n",
              "    <tr>\n",
              "      <th>4</th>\n",
              "      <td>GB1</td>\n",
              "      <td>2009</td>\n",
              "      <td>s</td>\n",
              "      <td>985</td>\n",
              "      <td>Manchester United</td>\n",
              "      <td>England</td>\n",
              "      <td>in</td>\n",
              "      <td>73538</td>\n",
              "      <td>Scott Moffatt</td>\n",
              "      <td>18.00000</td>\n",
              "      <td>England</td>\n",
              "      <td>NaN</td>\n",
              "      <td>CB</td>\n",
              "      <td>5242</td>\n",
              "      <td>Manchester United U18</td>\n",
              "      <td>England</td>\n",
              "      <td>NaN</td>\n",
              "      <td>NaN</td>\n",
              "      <td>False</td>\n",
              "      <td>False</td>\n",
              "      <td>False</td>\n",
              "      <td>False</td>\n",
              "      <td>339015</td>\n",
              "    </tr>\n",
              "  </tbody>\n",
              "</table>\n",
              "</div>\n",
              "      <button class=\"colab-df-convert\" onclick=\"convertToInteractive('df-5dd04957-db16-4d7d-b928-0cee2389675b')\"\n",
              "              title=\"Convert this dataframe to an interactive table.\"\n",
              "              style=\"display:none;\">\n",
              "        \n",
              "  <svg xmlns=\"http://www.w3.org/2000/svg\" height=\"24px\"viewBox=\"0 0 24 24\"\n",
              "       width=\"24px\">\n",
              "    <path d=\"M0 0h24v24H0V0z\" fill=\"none\"/>\n",
              "    <path d=\"M18.56 5.44l.94 2.06.94-2.06 2.06-.94-2.06-.94-.94-2.06-.94 2.06-2.06.94zm-11 1L8.5 8.5l.94-2.06 2.06-.94-2.06-.94L8.5 2.5l-.94 2.06-2.06.94zm10 10l.94 2.06.94-2.06 2.06-.94-2.06-.94-.94-2.06-.94 2.06-2.06.94z\"/><path d=\"M17.41 7.96l-1.37-1.37c-.4-.4-.92-.59-1.43-.59-.52 0-1.04.2-1.43.59L10.3 9.45l-7.72 7.72c-.78.78-.78 2.05 0 2.83L4 21.41c.39.39.9.59 1.41.59.51 0 1.02-.2 1.41-.59l7.78-7.78 2.81-2.81c.8-.78.8-2.07 0-2.86zM5.41 20L4 18.59l7.72-7.72 1.47 1.35L5.41 20z\"/>\n",
              "  </svg>\n",
              "      </button>\n",
              "      \n",
              "  <style>\n",
              "    .colab-df-container {\n",
              "      display:flex;\n",
              "      flex-wrap:wrap;\n",
              "      gap: 12px;\n",
              "    }\n",
              "\n",
              "    .colab-df-convert {\n",
              "      background-color: #E8F0FE;\n",
              "      border: none;\n",
              "      border-radius: 50%;\n",
              "      cursor: pointer;\n",
              "      display: none;\n",
              "      fill: #1967D2;\n",
              "      height: 32px;\n",
              "      padding: 0 0 0 0;\n",
              "      width: 32px;\n",
              "    }\n",
              "\n",
              "    .colab-df-convert:hover {\n",
              "      background-color: #E2EBFA;\n",
              "      box-shadow: 0px 1px 2px rgba(60, 64, 67, 0.3), 0px 1px 3px 1px rgba(60, 64, 67, 0.15);\n",
              "      fill: #174EA6;\n",
              "    }\n",
              "\n",
              "    [theme=dark] .colab-df-convert {\n",
              "      background-color: #3B4455;\n",
              "      fill: #D2E3FC;\n",
              "    }\n",
              "\n",
              "    [theme=dark] .colab-df-convert:hover {\n",
              "      background-color: #434B5C;\n",
              "      box-shadow: 0px 1px 3px 1px rgba(0, 0, 0, 0.15);\n",
              "      filter: drop-shadow(0px 1px 2px rgba(0, 0, 0, 0.3));\n",
              "      fill: #FFFFFF;\n",
              "    }\n",
              "  </style>\n",
              "\n",
              "      <script>\n",
              "        const buttonEl =\n",
              "          document.querySelector('#df-5dd04957-db16-4d7d-b928-0cee2389675b button.colab-df-convert');\n",
              "        buttonEl.style.display =\n",
              "          google.colab.kernel.accessAllowed ? 'block' : 'none';\n",
              "\n",
              "        async function convertToInteractive(key) {\n",
              "          const element = document.querySelector('#df-5dd04957-db16-4d7d-b928-0cee2389675b');\n",
              "          const dataTable =\n",
              "            await google.colab.kernel.invokeFunction('convertToInteractive',\n",
              "                                                     [key], {});\n",
              "          if (!dataTable) return;\n",
              "\n",
              "          const docLinkHtml = 'Like what you see? Visit the ' +\n",
              "            '<a target=\"_blank\" href=https://colab.research.google.com/notebooks/data_table.ipynb>data table notebook</a>'\n",
              "            + ' to learn more about interactive tables.';\n",
              "          element.innerHTML = '';\n",
              "          dataTable['output_type'] = 'display_data';\n",
              "          await google.colab.output.renderOutput(dataTable, element);\n",
              "          const docLink = document.createElement('div');\n",
              "          docLink.innerHTML = docLinkHtml;\n",
              "          element.appendChild(docLink);\n",
              "        }\n",
              "      </script>\n",
              "    </div>\n",
              "  </div>\n",
              "  "
            ]
          },
          "metadata": {},
          "execution_count": 147
        }
      ],
      "source": [
        "# import libraries and read the data from Github link\n",
        "import pandas as pd \n",
        "import numpy as np\n",
        "import matplotlib.pyplot as plt\n",
        "import missingno as msno\n",
        "import seaborn as sns\n",
        "from sklearn.metrics import accuracy_score,confusion_matrix, classification_report,roc_auc_score\n",
        "from scipy.stats import zscore\n",
        "from sklearn.model_selection import train_test_split\n",
        "from sklearn.compose import ColumnTransformer\n",
        "from sklearn.experimental import enable_iterative_imputer\n",
        "from sklearn.impute import IterativeImputer\n",
        "from sklearn.impute import SimpleImputer\n",
        "from sklearn.model_selection import train_test_split\n",
        "from sklearn.linear_model import BayesianRidge\n",
        "from sklearn.tree import DecisionTreeRegressor\n",
        "from sklearn.ensemble import ExtraTreesRegressor\n",
        "from sklearn.neighbors import KNeighborsRegressor\n",
        "from sklearn.preprocessing import StandardScaler\n",
        "from sklearn import (model_selection,preprocessing)\n",
        "from patsy import dmatrices\n",
        "from sklearn.linear_model import LogisticRegression\n",
        "from sklearn import metrics\n",
        "from sklearn import datasets\n",
        "from sklearn.tree import DecisionTreeClassifier\n",
        "from sklearn.model_selection import train_test_split\n",
        "from sklearn.metrics import classification_report, confusion_matrix\n",
        "pd.set_option('display.max_columns', 500)\n",
        "# read the data from github \n",
        "df = pd.read_csv(\n",
        "    'https://raw.githubusercontent.com/d2ski/football-transfers-data/main/dataset/transfers.csv')\n",
        "# create a copy in case\n",
        "df_cp = df.copy()\n",
        "# display the data frame\n",
        "df.head()\n"
      ]
    },
    {
      "cell_type": "code",
      "execution_count": 148,
      "metadata": {
        "colab": {
          "base_uri": "https://localhost:8080/"
        },
        "id": "S8WIq1Nom0Fs",
        "outputId": "9de18775-c78d-4848-e6c8-fa23e7ff7b5c"
      },
      "outputs": [
        {
          "output_type": "execute_result",
          "data": {
            "text/plain": [
              "(70006, 23)"
            ]
          },
          "metadata": {},
          "execution_count": 148
        }
      ],
      "source": [
        "# to see how many rows and cols in this data set\n",
        "df.shape"
      ]
    },
    {
      "cell_type": "markdown",
      "metadata": {
        "id": "KXtITTCWicZ8"
      },
      "source": [
        "The rows indicate 70,006 unique transfers over the course of 12 years(2009-2021).  "
      ]
    },
    {
      "cell_type": "code",
      "execution_count": 150,
      "metadata": {
        "colab": {
          "base_uri": "https://localhost:8080/"
        },
        "id": "LO884bAXm0Ft",
        "outputId": "3309c467-f640-4e64-882a-f1d0c3fead71"
      },
      "outputs": [
        {
          "output_type": "execute_result",
          "data": {
            "text/plain": [
              "league                   object\n",
              "season                    int64\n",
              "window                   object\n",
              "team_id                   int64\n",
              "team_name                object\n",
              "team_country             object\n",
              "dir                      object\n",
              "player_id                 int64\n",
              "player_name              object\n",
              "player_age              float64\n",
              "player_nation            object\n",
              "player_nation2           object\n",
              "player_pos               object\n",
              "counter_team_id          object\n",
              "counter_team_name        object\n",
              "counter_team_country     object\n",
              "transfer_fee_amnt       float64\n",
              "market_val_amnt         float64\n",
              "is_free                    bool\n",
              "is_loan                    bool\n",
              "is_loan_end                bool\n",
              "is_retired                 bool\n",
              "transfer_id               int64\n",
              "dtype: object"
            ]
          },
          "metadata": {},
          "execution_count": 150
        }
      ],
      "source": [
        "# Check the data type of each column.\n",
        "df.dtypes"
      ]
    },
    {
      "cell_type": "markdown",
      "metadata": {
        "id": "TJenrSEHjbSS"
      },
      "source": [
        "There is a mix of mostly categorical and some numeric datas in this dataset."
      ]
    },
    {
      "cell_type": "markdown",
      "source": [
        "#**Data Preparation**"
      ],
      "metadata": {
        "id": "nw3n4X04c1Ok"
      }
    },
    {
      "cell_type": "code",
      "execution_count": 149,
      "metadata": {
        "colab": {
          "base_uri": "https://localhost:8080/"
        },
        "id": "JS9M-nKem0Ft",
        "outputId": "2c0ee9f2-1034-44e5-aa8c-4929a57ec6ac"
      },
      "outputs": [
        {
          "output_type": "execute_result",
          "data": {
            "text/plain": [
              "league                      0\n",
              "season                      0\n",
              "window                      0\n",
              "team_id                     0\n",
              "team_name                   0\n",
              "team_country                0\n",
              "dir                         0\n",
              "player_id                   0\n",
              "player_name                 0\n",
              "player_age                 16\n",
              "player_nation               5\n",
              "player_nation2          46825\n",
              "player_pos                  0\n",
              "counter_team_id             0\n",
              "counter_team_name           0\n",
              "counter_team_country        0\n",
              "transfer_fee_amnt       41743\n",
              "market_val_amnt         19264\n",
              "is_free                     0\n",
              "is_loan                     0\n",
              "is_loan_end                 0\n",
              "is_retired                  0\n",
              "transfer_id                 0\n",
              "dtype: int64"
            ]
          },
          "metadata": {},
          "execution_count": 149
        }
      ],
      "source": [
        "# Check if there is a missing value in each column.\n",
        "df.isnull().sum()"
      ]
    },
    {
      "cell_type": "markdown",
      "metadata": {
        "id": "Uym3vuL7i7By"
      },
      "source": [
        "There are lots of missing values in for actual transfer fee, market value of players and player nation2. We might be better of if we drop the column for nation 2 since majority of the players represent only one nation(their primary nationality)."
      ]
    },
    {
      "cell_type": "code",
      "execution_count": 151,
      "metadata": {
        "id": "-rfTB-_Tm0Ft"
      },
      "outputs": [],
      "source": [
        "# Drop player nation2 column since our domain expertise is telling us that the secondary nationality of the players would not be a key indicator to their valuation\n",
        "df.drop('player_nation2',axis=1,inplace=True)\n"
      ]
    },
    {
      "cell_type": "code",
      "execution_count": 152,
      "metadata": {
        "colab": {
          "base_uri": "https://localhost:8080/"
        },
        "id": "LwO0VXBWm0Fu",
        "outputId": "f0f88e3d-1005-491d-c6eb-d08bb8b30d9a"
      },
      "outputs": [
        {
          "output_type": "execute_result",
          "data": {
            "text/plain": [
              "league                      7\n",
              "season                     13\n",
              "window                      2\n",
              "team_id                   239\n",
              "team_name                 243\n",
              "team_country                7\n",
              "dir                         2\n",
              "player_id               17580\n",
              "player_name             17103\n",
              "player_age                 33\n",
              "player_nation             168\n",
              "player_pos                 16\n",
              "counter_team_id          3359\n",
              "counter_team_name        3610\n",
              "counter_team_country      125\n",
              "transfer_fee_amnt         796\n",
              "market_val_amnt           137\n",
              "is_free                     2\n",
              "is_loan                     2\n",
              "is_loan_end                 2\n",
              "is_retired                  2\n",
              "transfer_id             58640\n",
              "dtype: int64"
            ]
          },
          "metadata": {},
          "execution_count": 152
        }
      ],
      "source": [
        "# Check how many unique values are in each column.\n",
        "df.nunique()"
      ]
    },
    {
      "cell_type": "markdown",
      "metadata": {
        "id": "0_1zta56kCSY"
      },
      "source": [
        "There are lot's of unique values for player names and ids and as such they do not seem to be all that important as a feature to our model. Other than that, the values of all the attributes appear to be within normal range. No surprises here."
      ]
    },
    {
      "cell_type": "code",
      "execution_count": 153,
      "metadata": {
        "colab": {
          "base_uri": "https://localhost:8080/"
        },
        "id": "S0Ds1F9JlZoH",
        "outputId": "92868e25-8c4c-4923-a3ce-b7ec7ed5541d"
      },
      "outputs": [
        {
          "output_type": "execute_result",
          "data": {
            "text/plain": [
              "False    57036\n",
              "True     12970\n",
              "Name: is_free, dtype: int64"
            ]
          },
          "metadata": {},
          "execution_count": 153
        }
      ],
      "source": [
        "df['is_free'].value_counts()"
      ]
    },
    {
      "cell_type": "markdown",
      "metadata": {
        "id": "ks2ugditqySq"
      },
      "source": [
        "We checked if the huge number of null transfer fees are a result of free transfers. However there are only 12970 free transfers as opposed to over 41000 null transfer values. Using our domain knowledge we can explain why this is the case; in soccer there are many instances where the buyer club and player(or his agent) decide to not disclose their transfer fee resulting in a massive loss in valuable data. For our purposes we would use kNN imputation to fill in the unknown values. We recognize that another route might be to drop all the rows that have the NaN values for transfer fee. Moreover, since our target variable is heavily realiant on clean and precise transfer data, due to the imputation we might run into accuracy issues with our model."
      ]
    },
    {
      "cell_type": "code",
      "execution_count": 154,
      "metadata": {
        "id": "MqnKV3LprNkA"
      },
      "outputs": [],
      "source": [
        "#check to see if there are any rows that have \n",
        "#Nan value for transfer fee and that are also free transfers.\n",
        "val = df['transfer_fee_amnt'].tolist()\n",
        "new_val = []\n",
        "free = df['is_free'].tolist()\n",
        "for val, free in zip(val,free):\n",
        "    if free and val == np.nan:\n",
        "        new_val.append(0)\n",
        "    else:\n",
        "        new_val.append(val)"
      ]
    },
    {
      "cell_type": "code",
      "execution_count": 155,
      "metadata": {
        "id": "hGGJSi9KrQpN"
      },
      "outputs": [],
      "source": [
        "df['transfer_fee_amnt'] = new_val"
      ]
    },
    {
      "cell_type": "code",
      "execution_count": 156,
      "metadata": {
        "colab": {
          "base_uri": "https://localhost:8080/"
        },
        "id": "nRREKBLesbzY",
        "outputId": "8e87ef05-3714-4576-85b5-bade33c95ccf"
      },
      "outputs": [
        {
          "output_type": "execute_result",
          "data": {
            "text/plain": [
              "league                      0\n",
              "season                      0\n",
              "window                      0\n",
              "team_id                     0\n",
              "team_name                   0\n",
              "team_country                0\n",
              "dir                         0\n",
              "player_id                   0\n",
              "player_name                 0\n",
              "player_age                 16\n",
              "player_nation               5\n",
              "player_pos                  0\n",
              "counter_team_id             0\n",
              "counter_team_name           0\n",
              "counter_team_country        0\n",
              "transfer_fee_amnt       41743\n",
              "market_val_amnt         19264\n",
              "is_free                     0\n",
              "is_loan                     0\n",
              "is_loan_end                 0\n",
              "is_retired                  0\n",
              "transfer_id                 0\n",
              "dtype: int64"
            ]
          },
          "metadata": {},
          "execution_count": 156
        }
      ],
      "source": [
        "df.isnull().sum()"
      ]
    },
    {
      "cell_type": "markdown",
      "metadata": {
        "id": "aVFthQRov2n3"
      },
      "source": [
        "Unfortunately, our null values remain unchanged highlighting that all free transfers have been properly accounted for in the tranfer fee column."
      ]
    },
    {
      "cell_type": "code",
      "execution_count": 157,
      "metadata": {
        "colab": {
          "base_uri": "https://localhost:8080/",
          "height": 300
        },
        "id": "7mW5iEFV_0cw",
        "outputId": "61c41b26-2da1-4e77-c5f2-cb53dcfbdfa9"
      },
      "outputs": [
        {
          "output_type": "execute_result",
          "data": {
            "text/plain": [
              "           season     team_id    player_id  player_age  transfer_fee_amnt  \\\n",
              "count 70006.00000 70006.00000  70006.00000 69990.00000        28263.00000   \n",
              "mean   2014.93593  1245.37373 161415.17828    24.16564      3762224.56922   \n",
              "std       3.61525  2352.68223 143527.76921     7.84588     19503876.72066   \n",
              "min    2009.00000     2.00000      6.00000    12.00000            0.00000   \n",
              "25%    2012.00000   252.00000  50356.75000    21.00000            0.00000   \n",
              "50%    2015.00000   607.00000 121990.00000    23.00000       200000.00000   \n",
              "75%    2018.00000  1123.00000 240341.00000    27.00000      2500000.00000   \n",
              "max    2021.00000 23826.00000 936900.00000  1775.00000    550000000.00000   \n",
              "\n",
              "       market_val_amnt   transfer_id  \n",
              "count      50742.00000   70006.00000  \n",
              "mean     3557930.70829 1518057.28659  \n",
              "std      8966047.90340  919624.57110  \n",
              "min        10000.00000   68451.00000  \n",
              "25%       275000.00000  746931.25000  \n",
              "50%       700000.00000 1293328.00000  \n",
              "75%      2500000.00000 2198413.75000  \n",
              "max    160000000.00000 3633188.00000  "
            ],
            "text/html": [
              "\n",
              "  <div id=\"df-0c5ec18a-77ea-490d-8528-54f17b2c5d9c\">\n",
              "    <div class=\"colab-df-container\">\n",
              "      <div>\n",
              "<style scoped>\n",
              "    .dataframe tbody tr th:only-of-type {\n",
              "        vertical-align: middle;\n",
              "    }\n",
              "\n",
              "    .dataframe tbody tr th {\n",
              "        vertical-align: top;\n",
              "    }\n",
              "\n",
              "    .dataframe thead th {\n",
              "        text-align: right;\n",
              "    }\n",
              "</style>\n",
              "<table border=\"1\" class=\"dataframe\">\n",
              "  <thead>\n",
              "    <tr style=\"text-align: right;\">\n",
              "      <th></th>\n",
              "      <th>season</th>\n",
              "      <th>team_id</th>\n",
              "      <th>player_id</th>\n",
              "      <th>player_age</th>\n",
              "      <th>transfer_fee_amnt</th>\n",
              "      <th>market_val_amnt</th>\n",
              "      <th>transfer_id</th>\n",
              "    </tr>\n",
              "  </thead>\n",
              "  <tbody>\n",
              "    <tr>\n",
              "      <th>count</th>\n",
              "      <td>70006.00000</td>\n",
              "      <td>70006.00000</td>\n",
              "      <td>70006.00000</td>\n",
              "      <td>69990.00000</td>\n",
              "      <td>28263.00000</td>\n",
              "      <td>50742.00000</td>\n",
              "      <td>70006.00000</td>\n",
              "    </tr>\n",
              "    <tr>\n",
              "      <th>mean</th>\n",
              "      <td>2014.93593</td>\n",
              "      <td>1245.37373</td>\n",
              "      <td>161415.17828</td>\n",
              "      <td>24.16564</td>\n",
              "      <td>3762224.56922</td>\n",
              "      <td>3557930.70829</td>\n",
              "      <td>1518057.28659</td>\n",
              "    </tr>\n",
              "    <tr>\n",
              "      <th>std</th>\n",
              "      <td>3.61525</td>\n",
              "      <td>2352.68223</td>\n",
              "      <td>143527.76921</td>\n",
              "      <td>7.84588</td>\n",
              "      <td>19503876.72066</td>\n",
              "      <td>8966047.90340</td>\n",
              "      <td>919624.57110</td>\n",
              "    </tr>\n",
              "    <tr>\n",
              "      <th>min</th>\n",
              "      <td>2009.00000</td>\n",
              "      <td>2.00000</td>\n",
              "      <td>6.00000</td>\n",
              "      <td>12.00000</td>\n",
              "      <td>0.00000</td>\n",
              "      <td>10000.00000</td>\n",
              "      <td>68451.00000</td>\n",
              "    </tr>\n",
              "    <tr>\n",
              "      <th>25%</th>\n",
              "      <td>2012.00000</td>\n",
              "      <td>252.00000</td>\n",
              "      <td>50356.75000</td>\n",
              "      <td>21.00000</td>\n",
              "      <td>0.00000</td>\n",
              "      <td>275000.00000</td>\n",
              "      <td>746931.25000</td>\n",
              "    </tr>\n",
              "    <tr>\n",
              "      <th>50%</th>\n",
              "      <td>2015.00000</td>\n",
              "      <td>607.00000</td>\n",
              "      <td>121990.00000</td>\n",
              "      <td>23.00000</td>\n",
              "      <td>200000.00000</td>\n",
              "      <td>700000.00000</td>\n",
              "      <td>1293328.00000</td>\n",
              "    </tr>\n",
              "    <tr>\n",
              "      <th>75%</th>\n",
              "      <td>2018.00000</td>\n",
              "      <td>1123.00000</td>\n",
              "      <td>240341.00000</td>\n",
              "      <td>27.00000</td>\n",
              "      <td>2500000.00000</td>\n",
              "      <td>2500000.00000</td>\n",
              "      <td>2198413.75000</td>\n",
              "    </tr>\n",
              "    <tr>\n",
              "      <th>max</th>\n",
              "      <td>2021.00000</td>\n",
              "      <td>23826.00000</td>\n",
              "      <td>936900.00000</td>\n",
              "      <td>1775.00000</td>\n",
              "      <td>550000000.00000</td>\n",
              "      <td>160000000.00000</td>\n",
              "      <td>3633188.00000</td>\n",
              "    </tr>\n",
              "  </tbody>\n",
              "</table>\n",
              "</div>\n",
              "      <button class=\"colab-df-convert\" onclick=\"convertToInteractive('df-0c5ec18a-77ea-490d-8528-54f17b2c5d9c')\"\n",
              "              title=\"Convert this dataframe to an interactive table.\"\n",
              "              style=\"display:none;\">\n",
              "        \n",
              "  <svg xmlns=\"http://www.w3.org/2000/svg\" height=\"24px\"viewBox=\"0 0 24 24\"\n",
              "       width=\"24px\">\n",
              "    <path d=\"M0 0h24v24H0V0z\" fill=\"none\"/>\n",
              "    <path d=\"M18.56 5.44l.94 2.06.94-2.06 2.06-.94-2.06-.94-.94-2.06-.94 2.06-2.06.94zm-11 1L8.5 8.5l.94-2.06 2.06-.94-2.06-.94L8.5 2.5l-.94 2.06-2.06.94zm10 10l.94 2.06.94-2.06 2.06-.94-2.06-.94-.94-2.06-.94 2.06-2.06.94z\"/><path d=\"M17.41 7.96l-1.37-1.37c-.4-.4-.92-.59-1.43-.59-.52 0-1.04.2-1.43.59L10.3 9.45l-7.72 7.72c-.78.78-.78 2.05 0 2.83L4 21.41c.39.39.9.59 1.41.59.51 0 1.02-.2 1.41-.59l7.78-7.78 2.81-2.81c.8-.78.8-2.07 0-2.86zM5.41 20L4 18.59l7.72-7.72 1.47 1.35L5.41 20z\"/>\n",
              "  </svg>\n",
              "      </button>\n",
              "      \n",
              "  <style>\n",
              "    .colab-df-container {\n",
              "      display:flex;\n",
              "      flex-wrap:wrap;\n",
              "      gap: 12px;\n",
              "    }\n",
              "\n",
              "    .colab-df-convert {\n",
              "      background-color: #E8F0FE;\n",
              "      border: none;\n",
              "      border-radius: 50%;\n",
              "      cursor: pointer;\n",
              "      display: none;\n",
              "      fill: #1967D2;\n",
              "      height: 32px;\n",
              "      padding: 0 0 0 0;\n",
              "      width: 32px;\n",
              "    }\n",
              "\n",
              "    .colab-df-convert:hover {\n",
              "      background-color: #E2EBFA;\n",
              "      box-shadow: 0px 1px 2px rgba(60, 64, 67, 0.3), 0px 1px 3px 1px rgba(60, 64, 67, 0.15);\n",
              "      fill: #174EA6;\n",
              "    }\n",
              "\n",
              "    [theme=dark] .colab-df-convert {\n",
              "      background-color: #3B4455;\n",
              "      fill: #D2E3FC;\n",
              "    }\n",
              "\n",
              "    [theme=dark] .colab-df-convert:hover {\n",
              "      background-color: #434B5C;\n",
              "      box-shadow: 0px 1px 3px 1px rgba(0, 0, 0, 0.15);\n",
              "      filter: drop-shadow(0px 1px 2px rgba(0, 0, 0, 0.3));\n",
              "      fill: #FFFFFF;\n",
              "    }\n",
              "  </style>\n",
              "\n",
              "      <script>\n",
              "        const buttonEl =\n",
              "          document.querySelector('#df-0c5ec18a-77ea-490d-8528-54f17b2c5d9c button.colab-df-convert');\n",
              "        buttonEl.style.display =\n",
              "          google.colab.kernel.accessAllowed ? 'block' : 'none';\n",
              "\n",
              "        async function convertToInteractive(key) {\n",
              "          const element = document.querySelector('#df-0c5ec18a-77ea-490d-8528-54f17b2c5d9c');\n",
              "          const dataTable =\n",
              "            await google.colab.kernel.invokeFunction('convertToInteractive',\n",
              "                                                     [key], {});\n",
              "          if (!dataTable) return;\n",
              "\n",
              "          const docLinkHtml = 'Like what you see? Visit the ' +\n",
              "            '<a target=\"_blank\" href=https://colab.research.google.com/notebooks/data_table.ipynb>data table notebook</a>'\n",
              "            + ' to learn more about interactive tables.';\n",
              "          element.innerHTML = '';\n",
              "          dataTable['output_type'] = 'display_data';\n",
              "          await google.colab.output.renderOutput(dataTable, element);\n",
              "          const docLink = document.createElement('div');\n",
              "          docLink.innerHTML = docLinkHtml;\n",
              "          element.appendChild(docLink);\n",
              "        }\n",
              "      </script>\n",
              "    </div>\n",
              "  </div>\n",
              "  "
            ]
          },
          "metadata": {},
          "execution_count": 157
        }
      ],
      "source": [
        "df.describe()"
      ]
    },
    {
      "cell_type": "code",
      "execution_count": 158,
      "metadata": {
        "colab": {
          "base_uri": "https://localhost:8080/",
          "height": 663
        },
        "id": "YPDqA01t9q1b",
        "outputId": "766c9e70-6240-4dbc-c9d9-bd0f0c01d02d"
      },
      "outputs": [
        {
          "output_type": "execute_result",
          "data": {
            "text/plain": [
              "<matplotlib.axes._subplots.AxesSubplot at 0x7f2a67783e90>"
            ]
          },
          "metadata": {},
          "execution_count": 158
        },
        {
          "output_type": "display_data",
          "data": {
            "text/plain": [
              "<Figure size 1800x720 with 3 Axes>"
            ],
            "image/png": "[encoded data removed]"
          },
          "metadata": {
            "needs_background": "light"
          }
        }
      ],
      "source": [
        "# display null value of each column\n",
        "msno.bar(df_cp)\n"
      ]
    },
    {
      "cell_type": "code",
      "execution_count": 159,
      "metadata": {
        "colab": {
          "base_uri": "https://localhost:8080/",
          "height": 424
        },
        "id": "hyH_UKmHm0Fu",
        "outputId": "f6427f5c-803c-485c-e796-aeb2393b635b"
      },
      "outputs": [
        {
          "output_type": "execute_result",
          "data": {
            "text/plain": [
              "       season  team_id  player_id  player_age  transfer_fee_amnt  \\\n",
              "0        2009      985      33544    23.00000     18800000.00000   \n",
              "1        2009      985      62049    21.00000      4500000.00000   \n",
              "2        2009      985      43261    20.00000      4000000.00000   \n",
              "3        2009      985       1397    29.00000            0.00000   \n",
              "4        2009      985      73538    18.00000                NaN   \n",
              "...       ...      ...        ...         ...                ...   \n",
              "70001    2021      306     257808    25.00000                NaN   \n",
              "70002    2021      306     580142    22.00000                NaN   \n",
              "70003    2021      468     340353    22.00000                NaN   \n",
              "70004    2021      468     340353    22.00000      7000000.00000   \n",
              "70005    2021      499     187203    27.00000                NaN   \n",
              "\n",
              "       market_val_amnt  transfer_id  \n",
              "0                  NaN       310832  \n",
              "1        1600000.00000       319841  \n",
              "2         400000.00000       315185  \n",
              "3                  NaN       306421  \n",
              "4                  NaN       339015  \n",
              "...                ...          ...  \n",
              "70001     500000.00000      3071862  \n",
              "70002     100000.00000      3268245  \n",
              "70003    1000000.00000      3619917  \n",
              "70004    1000000.00000      3619916  \n",
              "70005     125000.00000      3611421  \n",
              "\n",
              "[70006 rows x 7 columns]"
            ],
            "text/html": [
              "\n",
              "  <div id=\"df-2ae56dd0-3af5-47e1-826a-2f03c0d31596\">\n",
              "    <div class=\"colab-df-container\">\n",
              "      <div>\n",
              "<style scoped>\n",
              "    .dataframe tbody tr th:only-of-type {\n",
              "        vertical-align: middle;\n",
              "    }\n",
              "\n",
              "    .dataframe tbody tr th {\n",
              "        vertical-align: top;\n",
              "    }\n",
              "\n",
              "    .dataframe thead th {\n",
              "        text-align: right;\n",
              "    }\n",
              "</style>\n",
              "<table border=\"1\" class=\"dataframe\">\n",
              "  <thead>\n",
              "    <tr style=\"text-align: right;\">\n",
              "      <th></th>\n",
              "      <th>season</th>\n",
              "      <th>team_id</th>\n",
              "      <th>player_id</th>\n",
              "      <th>player_age</th>\n",
              "      <th>transfer_fee_amnt</th>\n",
              "      <th>market_val_amnt</th>\n",
              "      <th>transfer_id</th>\n",
              "    </tr>\n",
              "  </thead>\n",
              "  <tbody>\n",
              "    <tr>\n",
              "      <th>0</th>\n",
              "      <td>2009</td>\n",
              "      <td>985</td>\n",
              "      <td>33544</td>\n",
              "      <td>23.00000</td>\n",
              "      <td>18800000.00000</td>\n",
              "      <td>NaN</td>\n",
              "      <td>310832</td>\n",
              "    </tr>\n",
              "    <tr>\n",
              "      <th>1</th>\n",
              "      <td>2009</td>\n",
              "      <td>985</td>\n",
              "      <td>62049</td>\n",
              "      <td>21.00000</td>\n",
              "      <td>4500000.00000</td>\n",
              "      <td>1600000.00000</td>\n",
              "      <td>319841</td>\n",
              "    </tr>\n",
              "    <tr>\n",
              "      <th>2</th>\n",
              "      <td>2009</td>\n",
              "      <td>985</td>\n",
              "      <td>43261</td>\n",
              "      <td>20.00000</td>\n",
              "      <td>4000000.00000</td>\n",
              "      <td>400000.00000</td>\n",
              "      <td>315185</td>\n",
              "    </tr>\n",
              "    <tr>\n",
              "      <th>3</th>\n",
              "      <td>2009</td>\n",
              "      <td>985</td>\n",
              "      <td>1397</td>\n",
              "      <td>29.00000</td>\n",
              "      <td>0.00000</td>\n",
              "      <td>NaN</td>\n",
              "      <td>306421</td>\n",
              "    </tr>\n",
              "    <tr>\n",
              "      <th>4</th>\n",
              "      <td>2009</td>\n",
              "      <td>985</td>\n",
              "      <td>73538</td>\n",
              "      <td>18.00000</td>\n",
              "      <td>NaN</td>\n",
              "      <td>NaN</td>\n",
              "      <td>339015</td>\n",
              "    </tr>\n",
              "    <tr>\n",
              "      <th>...</th>\n",
              "      <td>...</td>\n",
              "      <td>...</td>\n",
              "      <td>...</td>\n",
              "      <td>...</td>\n",
              "      <td>...</td>\n",
              "      <td>...</td>\n",
              "      <td>...</td>\n",
              "    </tr>\n",
              "    <tr>\n",
              "      <th>70001</th>\n",
              "      <td>2021</td>\n",
              "      <td>306</td>\n",
              "      <td>257808</td>\n",
              "      <td>25.00000</td>\n",
              "      <td>NaN</td>\n",
              "      <td>500000.00000</td>\n",
              "      <td>3071862</td>\n",
              "    </tr>\n",
              "    <tr>\n",
              "      <th>70002</th>\n",
              "      <td>2021</td>\n",
              "      <td>306</td>\n",
              "      <td>580142</td>\n",
              "      <td>22.00000</td>\n",
              "      <td>NaN</td>\n",
              "      <td>100000.00000</td>\n",
              "      <td>3268245</td>\n",
              "    </tr>\n",
              "    <tr>\n",
              "      <th>70003</th>\n",
              "      <td>2021</td>\n",
              "      <td>468</td>\n",
              "      <td>340353</td>\n",
              "      <td>22.00000</td>\n",
              "      <td>NaN</td>\n",
              "      <td>1000000.00000</td>\n",
              "      <td>3619917</td>\n",
              "    </tr>\n",
              "    <tr>\n",
              "      <th>70004</th>\n",
              "      <td>2021</td>\n",
              "      <td>468</td>\n",
              "      <td>340353</td>\n",
              "      <td>22.00000</td>\n",
              "      <td>7000000.00000</td>\n",
              "      <td>1000000.00000</td>\n",
              "      <td>3619916</td>\n",
              "    </tr>\n",
              "    <tr>\n",
              "      <th>70005</th>\n",
              "      <td>2021</td>\n",
              "      <td>499</td>\n",
              "      <td>187203</td>\n",
              "      <td>27.00000</td>\n",
              "      <td>NaN</td>\n",
              "      <td>125000.00000</td>\n",
              "      <td>3611421</td>\n",
              "    </tr>\n",
              "  </tbody>\n",
              "</table>\n",
              "<p>70006 rows × 7 columns</p>\n",
              "</div>\n",
              "      <button class=\"colab-df-convert\" onclick=\"convertToInteractive('df-2ae56dd0-3af5-47e1-826a-2f03c0d31596')\"\n",
              "              title=\"Convert this dataframe to an interactive table.\"\n",
              "              style=\"display:none;\">\n",
              "        \n",
              "  <svg xmlns=\"http://www.w3.org/2000/svg\" height=\"24px\"viewBox=\"0 0 24 24\"\n",
              "       width=\"24px\">\n",
              "    <path d=\"M0 0h24v24H0V0z\" fill=\"none\"/>\n",
              "    <path d=\"M18.56 5.44l.94 2.06.94-2.06 2.06-.94-2.06-.94-.94-2.06-.94 2.06-2.06.94zm-11 1L8.5 8.5l.94-2.06 2.06-.94-2.06-.94L8.5 2.5l-.94 2.06-2.06.94zm10 10l.94 2.06.94-2.06 2.06-.94-2.06-.94-.94-2.06-.94 2.06-2.06.94z\"/><path d=\"M17.41 7.96l-1.37-1.37c-.4-.4-.92-.59-1.43-.59-.52 0-1.04.2-1.43.59L10.3 9.45l-7.72 7.72c-.78.78-.78 2.05 0 2.83L4 21.41c.39.39.9.59 1.41.59.51 0 1.02-.2 1.41-.59l7.78-7.78 2.81-2.81c.8-.78.8-2.07 0-2.86zM5.41 20L4 18.59l7.72-7.72 1.47 1.35L5.41 20z\"/>\n",
              "  </svg>\n",
              "      </button>\n",
              "      \n",
              "  <style>\n",
              "    .colab-df-container {\n",
              "      display:flex;\n",
              "      flex-wrap:wrap;\n",
              "      gap: 12px;\n",
              "    }\n",
              "\n",
              "    .colab-df-convert {\n",
              "      background-color: #E8F0FE;\n",
              "      border: none;\n",
              "      border-radius: 50%;\n",
              "      cursor: pointer;\n",
              "      display: none;\n",
              "      fill: #1967D2;\n",
              "      height: 32px;\n",
              "      padding: 0 0 0 0;\n",
              "      width: 32px;\n",
              "    }\n",
              "\n",
              "    .colab-df-convert:hover {\n",
              "      background-color: #E2EBFA;\n",
              "      box-shadow: 0px 1px 2px rgba(60, 64, 67, 0.3), 0px 1px 3px 1px rgba(60, 64, 67, 0.15);\n",
              "      fill: #174EA6;\n",
              "    }\n",
              "\n",
              "    [theme=dark] .colab-df-convert {\n",
              "      background-color: #3B4455;\n",
              "      fill: #D2E3FC;\n",
              "    }\n",
              "\n",
              "    [theme=dark] .colab-df-convert:hover {\n",
              "      background-color: #434B5C;\n",
              "      box-shadow: 0px 1px 3px 1px rgba(0, 0, 0, 0.15);\n",
              "      filter: drop-shadow(0px 1px 2px rgba(0, 0, 0, 0.3));\n",
              "      fill: #FFFFFF;\n",
              "    }\n",
              "  </style>\n",
              "\n",
              "      <script>\n",
              "        const buttonEl =\n",
              "          document.querySelector('#df-2ae56dd0-3af5-47e1-826a-2f03c0d31596 button.colab-df-convert');\n",
              "        buttonEl.style.display =\n",
              "          google.colab.kernel.accessAllowed ? 'block' : 'none';\n",
              "\n",
              "        async function convertToInteractive(key) {\n",
              "          const element = document.querySelector('#df-2ae56dd0-3af5-47e1-826a-2f03c0d31596');\n",
              "          const dataTable =\n",
              "            await google.colab.kernel.invokeFunction('convertToInteractive',\n",
              "                                                     [key], {});\n",
              "          if (!dataTable) return;\n",
              "\n",
              "          const docLinkHtml = 'Like what you see? Visit the ' +\n",
              "            '<a target=\"_blank\" href=https://colab.research.google.com/notebooks/data_table.ipynb>data table notebook</a>'\n",
              "            + ' to learn more about interactive tables.';\n",
              "          element.innerHTML = '';\n",
              "          dataTable['output_type'] = 'display_data';\n",
              "          await google.colab.output.renderOutput(dataTable, element);\n",
              "          const docLink = document.createElement('div');\n",
              "          docLink.innerHTML = docLinkHtml;\n",
              "          element.appendChild(docLink);\n",
              "        }\n",
              "      </script>\n",
              "    </div>\n",
              "  </div>\n",
              "  "
            ]
          },
          "metadata": {},
          "execution_count": 159
        }
      ],
      "source": [
        "#  separate numeric data and categorical data to perform data imputation\n",
        "numerics = ['int64','float64']\n",
        "numericdf = df.select_dtypes(include=numerics)\n",
        "numericdf"
      ]
    },
    {
      "cell_type": "code",
      "execution_count": 160,
      "metadata": {
        "id": "ZNoan6vLm0Fu"
      },
      "outputs": [],
      "source": [
        "# import knn imputer from sklearn library and perform knn imputation\n",
        "from sklearn.impute import KNNImputer\n",
        "imputer = KNNImputer()\n",
        "imputer.fit(numericdf)\n",
        "new_df = imputer.transform(numericdf)"
      ]
    },
    {
      "cell_type": "code",
      "execution_count": 161,
      "metadata": {
        "colab": {
          "base_uri": "https://localhost:8080/",
          "height": 424
        },
        "id": "9jojeH0Sm0Fu",
        "outputId": "5b8a07f2-7741-417f-c9fe-6d86008dfbab"
      },
      "outputs": [
        {
          "output_type": "execute_result",
          "data": {
            "text/plain": [
              "               0         1            2        3              4             5  \\\n",
              "0     2009.00000 985.00000  33544.00000 23.00000 18800000.00000  450000.00000   \n",
              "1     2009.00000 985.00000  62049.00000 21.00000  4500000.00000 1600000.00000   \n",
              "2     2009.00000 985.00000  43261.00000 20.00000  4000000.00000  400000.00000   \n",
              "3     2009.00000 985.00000   1397.00000 29.00000        0.00000  525000.00000   \n",
              "4     2009.00000 985.00000  73538.00000 18.00000  1020000.00000  300000.00000   \n",
              "...          ...       ...          ...      ...            ...           ...   \n",
              "70001 2021.00000 306.00000 257808.00000 25.00000     4000.00000  500000.00000   \n",
              "70002 2021.00000 306.00000 580142.00000 22.00000        0.00000  100000.00000   \n",
              "70003 2021.00000 468.00000 340353.00000 22.00000  2860000.00000 1000000.00000   \n",
              "70004 2021.00000 468.00000 340353.00000 22.00000  7000000.00000 1000000.00000   \n",
              "70005 2021.00000 499.00000 187203.00000 27.00000        0.00000  125000.00000   \n",
              "\n",
              "                  6  \n",
              "0      310832.00000  \n",
              "1      319841.00000  \n",
              "2      315185.00000  \n",
              "3      306421.00000  \n",
              "4      339015.00000  \n",
              "...             ...  \n",
              "70001 3071862.00000  \n",
              "70002 3268245.00000  \n",
              "70003 3619917.00000  \n",
              "70004 3619916.00000  \n",
              "70005 3611421.00000  \n",
              "\n",
              "[70006 rows x 7 columns]"
            ],
            "text/html": [
              "\n",
              "  <div id=\"df-cd2edeb2-7aee-445d-913c-865c99601c9c\">\n",
              "    <div class=\"colab-df-container\">\n",
              "      <div>\n",
              "<style scoped>\n",
              "    .dataframe tbody tr th:only-of-type {\n",
              "        vertical-align: middle;\n",
              "    }\n",
              "\n",
              "    .dataframe tbody tr th {\n",
              "        vertical-align: top;\n",
              "    }\n",
              "\n",
              "    .dataframe thead th {\n",
              "        text-align: right;\n",
              "    }\n",
              "</style>\n",
              "<table border=\"1\" class=\"dataframe\">\n",
              "  <thead>\n",
              "    <tr style=\"text-align: right;\">\n",
              "      <th></th>\n",
              "      <th>0</th>\n",
              "      <th>1</th>\n",
              "      <th>2</th>\n",
              "      <th>3</th>\n",
              "      <th>4</th>\n",
              "      <th>5</th>\n",
              "      <th>6</th>\n",
              "    </tr>\n",
              "  </thead>\n",
              "  <tbody>\n",
              "    <tr>\n",
              "      <th>0</th>\n",
              "      <td>2009.00000</td>\n",
              "      <td>985.00000</td>\n",
              "      <td>33544.00000</td>\n",
              "      <td>23.00000</td>\n",
              "      <td>18800000.00000</td>\n",
              "      <td>450000.00000</td>\n",
              "      <td>310832.00000</td>\n",
              "    </tr>\n",
              "    <tr>\n",
              "      <th>1</th>\n",
              "      <td>2009.00000</td>\n",
              "      <td>985.00000</td>\n",
              "      <td>62049.00000</td>\n",
              "      <td>21.00000</td>\n",
              "      <td>4500000.00000</td>\n",
              "      <td>1600000.00000</td>\n",
              "      <td>319841.00000</td>\n",
              "    </tr>\n",
              "    <tr>\n",
              "      <th>2</th>\n",
              "      <td>2009.00000</td>\n",
              "      <td>985.00000</td>\n",
              "      <td>43261.00000</td>\n",
              "      <td>20.00000</td>\n",
              "      <td>4000000.00000</td>\n",
              "      <td>400000.00000</td>\n",
              "      <td>315185.00000</td>\n",
              "    </tr>\n",
              "    <tr>\n",
              "      <th>3</th>\n",
              "      <td>2009.00000</td>\n",
              "      <td>985.00000</td>\n",
              "      <td>1397.00000</td>\n",
              "      <td>29.00000</td>\n",
              "      <td>0.00000</td>\n",
              "      <td>525000.00000</td>\n",
              "      <td>306421.00000</td>\n",
              "    </tr>\n",
              "    <tr>\n",
              "      <th>4</th>\n",
              "      <td>2009.00000</td>\n",
              "      <td>985.00000</td>\n",
              "      <td>73538.00000</td>\n",
              "      <td>18.00000</td>\n",
              "      <td>1020000.00000</td>\n",
              "      <td>300000.00000</td>\n",
              "      <td>339015.00000</td>\n",
              "    </tr>\n",
              "    <tr>\n",
              "      <th>...</th>\n",
              "      <td>...</td>\n",
              "      <td>...</td>\n",
              "      <td>...</td>\n",
              "      <td>...</td>\n",
              "      <td>...</td>\n",
              "      <td>...</td>\n",
              "      <td>...</td>\n",
              "    </tr>\n",
              "    <tr>\n",
              "      <th>70001</th>\n",
              "      <td>2021.00000</td>\n",
              "      <td>306.00000</td>\n",
              "      <td>257808.00000</td>\n",
              "      <td>25.00000</td>\n",
              "      <td>4000.00000</td>\n",
              "      <td>500000.00000</td>\n",
              "      <td>3071862.00000</td>\n",
              "    </tr>\n",
              "    <tr>\n",
              "      <th>70002</th>\n",
              "      <td>2021.00000</td>\n",
              "      <td>306.00000</td>\n",
              "      <td>580142.00000</td>\n",
              "      <td>22.00000</td>\n",
              "      <td>0.00000</td>\n",
              "      <td>100000.00000</td>\n",
              "      <td>3268245.00000</td>\n",
              "    </tr>\n",
              "    <tr>\n",
              "      <th>70003</th>\n",
              "      <td>2021.00000</td>\n",
              "      <td>468.00000</td>\n",
              "      <td>340353.00000</td>\n",
              "      <td>22.00000</td>\n",
              "      <td>2860000.00000</td>\n",
              "      <td>1000000.00000</td>\n",
              "      <td>3619917.00000</td>\n",
              "    </tr>\n",
              "    <tr>\n",
              "      <th>70004</th>\n",
              "      <td>2021.00000</td>\n",
              "      <td>468.00000</td>\n",
              "      <td>340353.00000</td>\n",
              "      <td>22.00000</td>\n",
              "      <td>7000000.00000</td>\n",
              "      <td>1000000.00000</td>\n",
              "      <td>3619916.00000</td>\n",
              "    </tr>\n",
              "    <tr>\n",
              "      <th>70005</th>\n",
              "      <td>2021.00000</td>\n",
              "      <td>499.00000</td>\n",
              "      <td>187203.00000</td>\n",
              "      <td>27.00000</td>\n",
              "      <td>0.00000</td>\n",
              "      <td>125000.00000</td>\n",
              "      <td>3611421.00000</td>\n",
              "    </tr>\n",
              "  </tbody>\n",
              "</table>\n",
              "<p>70006 rows × 7 columns</p>\n",
              "</div>\n",
              "      <button class=\"colab-df-convert\" onclick=\"convertToInteractive('df-cd2edeb2-7aee-445d-913c-865c99601c9c')\"\n",
              "              title=\"Convert this dataframe to an interactive table.\"\n",
              "              style=\"display:none;\">\n",
              "        \n",
              "  <svg xmlns=\"http://www.w3.org/2000/svg\" height=\"24px\"viewBox=\"0 0 24 24\"\n",
              "       width=\"24px\">\n",
              "    <path d=\"M0 0h24v24H0V0z\" fill=\"none\"/>\n",
              "    <path d=\"M18.56 5.44l.94 2.06.94-2.06 2.06-.94-2.06-.94-.94-2.06-.94 2.06-2.06.94zm-11 1L8.5 8.5l.94-2.06 2.06-.94-2.06-.94L8.5 2.5l-.94 2.06-2.06.94zm10 10l.94 2.06.94-2.06 2.06-.94-2.06-.94-.94-2.06-.94 2.06-2.06.94z\"/><path d=\"M17.41 7.96l-1.37-1.37c-.4-.4-.92-.59-1.43-.59-.52 0-1.04.2-1.43.59L10.3 9.45l-7.72 7.72c-.78.78-.78 2.05 0 2.83L4 21.41c.39.39.9.59 1.41.59.51 0 1.02-.2 1.41-.59l7.78-7.78 2.81-2.81c.8-.78.8-2.07 0-2.86zM5.41 20L4 18.59l7.72-7.72 1.47 1.35L5.41 20z\"/>\n",
              "  </svg>\n",
              "      </button>\n",
              "      \n",
              "  <style>\n",
              "    .colab-df-container {\n",
              "      display:flex;\n",
              "      flex-wrap:wrap;\n",
              "      gap: 12px;\n",
              "    }\n",
              "\n",
              "    .colab-df-convert {\n",
              "      background-color: #E8F0FE;\n",
              "      border: none;\n",
              "      border-radius: 50%;\n",
              "      cursor: pointer;\n",
              "      display: none;\n",
              "      fill: #1967D2;\n",
              "      height: 32px;\n",
              "      padding: 0 0 0 0;\n",
              "      width: 32px;\n",
              "    }\n",
              "\n",
              "    .colab-df-convert:hover {\n",
              "      background-color: #E2EBFA;\n",
              "      box-shadow: 0px 1px 2px rgba(60, 64, 67, 0.3), 0px 1px 3px 1px rgba(60, 64, 67, 0.15);\n",
              "      fill: #174EA6;\n",
              "    }\n",
              "\n",
              "    [theme=dark] .colab-df-convert {\n",
              "      background-color: #3B4455;\n",
              "      fill: #D2E3FC;\n",
              "    }\n",
              "\n",
              "    [theme=dark] .colab-df-convert:hover {\n",
              "      background-color: #434B5C;\n",
              "      box-shadow: 0px 1px 3px 1px rgba(0, 0, 0, 0.15);\n",
              "      filter: drop-shadow(0px 1px 2px rgba(0, 0, 0, 0.3));\n",
              "      fill: #FFFFFF;\n",
              "    }\n",
              "  </style>\n",
              "\n",
              "      <script>\n",
              "        const buttonEl =\n",
              "          document.querySelector('#df-cd2edeb2-7aee-445d-913c-865c99601c9c button.colab-df-convert');\n",
              "        buttonEl.style.display =\n",
              "          google.colab.kernel.accessAllowed ? 'block' : 'none';\n",
              "\n",
              "        async function convertToInteractive(key) {\n",
              "          const element = document.querySelector('#df-cd2edeb2-7aee-445d-913c-865c99601c9c');\n",
              "          const dataTable =\n",
              "            await google.colab.kernel.invokeFunction('convertToInteractive',\n",
              "                                                     [key], {});\n",
              "          if (!dataTable) return;\n",
              "\n",
              "          const docLinkHtml = 'Like what you see? Visit the ' +\n",
              "            '<a target=\"_blank\" href=https://colab.research.google.com/notebooks/data_table.ipynb>data table notebook</a>'\n",
              "            + ' to learn more about interactive tables.';\n",
              "          element.innerHTML = '';\n",
              "          dataTable['output_type'] = 'display_data';\n",
              "          await google.colab.output.renderOutput(dataTable, element);\n",
              "          const docLink = document.createElement('div');\n",
              "          docLink.innerHTML = docLinkHtml;\n",
              "          element.appendChild(docLink);\n",
              "        }\n",
              "      </script>\n",
              "    </div>\n",
              "  </div>\n",
              "  "
            ]
          },
          "metadata": {},
          "execution_count": 161
        }
      ],
      "source": [
        "# see dataframe after knn imputation\n",
        "new_df = pd.DataFrame(new_df)\n",
        "new_df\n"
      ]
    },
    {
      "cell_type": "code",
      "execution_count": 162,
      "metadata": {
        "colab": {
          "base_uri": "https://localhost:8080/",
          "height": 424
        },
        "id": "ZZFvcXvim0Fv",
        "outputId": "e0764a05-b946-4e62-ef03-89f183dc8cd1"
      },
      "outputs": [
        {
          "output_type": "execute_result",
          "data": {
            "text/plain": [
              "          season   team_id    player_id  player_age  transfer_fee_amnt  \\\n",
              "0     2009.00000 985.00000  33544.00000    23.00000     18800000.00000   \n",
              "1     2009.00000 985.00000  62049.00000    21.00000      4500000.00000   \n",
              "2     2009.00000 985.00000  43261.00000    20.00000      4000000.00000   \n",
              "3     2009.00000 985.00000   1397.00000    29.00000            0.00000   \n",
              "4     2009.00000 985.00000  73538.00000    18.00000      1020000.00000   \n",
              "...          ...       ...          ...         ...                ...   \n",
              "70001 2021.00000 306.00000 257808.00000    25.00000         4000.00000   \n",
              "70002 2021.00000 306.00000 580142.00000    22.00000            0.00000   \n",
              "70003 2021.00000 468.00000 340353.00000    22.00000      2860000.00000   \n",
              "70004 2021.00000 468.00000 340353.00000    22.00000      7000000.00000   \n",
              "70005 2021.00000 499.00000 187203.00000    27.00000            0.00000   \n",
              "\n",
              "       market_val_amnt   transfer_id  \n",
              "0         450000.00000  310832.00000  \n",
              "1        1600000.00000  319841.00000  \n",
              "2         400000.00000  315185.00000  \n",
              "3         525000.00000  306421.00000  \n",
              "4         300000.00000  339015.00000  \n",
              "...                ...           ...  \n",
              "70001     500000.00000 3071862.00000  \n",
              "70002     100000.00000 3268245.00000  \n",
              "70003    1000000.00000 3619917.00000  \n",
              "70004    1000000.00000 3619916.00000  \n",
              "70005     125000.00000 3611421.00000  \n",
              "\n",
              "[70006 rows x 7 columns]"
            ],
            "text/html": [
              "\n",
              "  <div id=\"df-7bf6191d-fbcc-4085-9c77-36f18fb24834\">\n",
              "    <div class=\"colab-df-container\">\n",
              "      <div>\n",
              "<style scoped>\n",
              "    .dataframe tbody tr th:only-of-type {\n",
              "        vertical-align: middle;\n",
              "    }\n",
              "\n",
              "    .dataframe tbody tr th {\n",
              "        vertical-align: top;\n",
              "    }\n",
              "\n",
              "    .dataframe thead th {\n",
              "        text-align: right;\n",
              "    }\n",
              "</style>\n",
              "<table border=\"1\" class=\"dataframe\">\n",
              "  <thead>\n",
              "    <tr style=\"text-align: right;\">\n",
              "      <th></th>\n",
              "      <th>season</th>\n",
              "      <th>team_id</th>\n",
              "      <th>player_id</th>\n",
              "      <th>player_age</th>\n",
              "      <th>transfer_fee_amnt</th>\n",
              "      <th>market_val_amnt</th>\n",
              "      <th>transfer_id</th>\n",
              "    </tr>\n",
              "  </thead>\n",
              "  <tbody>\n",
              "    <tr>\n",
              "      <th>0</th>\n",
              "      <td>2009.00000</td>\n",
              "      <td>985.00000</td>\n",
              "      <td>33544.00000</td>\n",
              "      <td>23.00000</td>\n",
              "      <td>18800000.00000</td>\n",
              "      <td>450000.00000</td>\n",
              "      <td>310832.00000</td>\n",
              "    </tr>\n",
              "    <tr>\n",
              "      <th>1</th>\n",
              "      <td>2009.00000</td>\n",
              "      <td>985.00000</td>\n",
              "      <td>62049.00000</td>\n",
              "      <td>21.00000</td>\n",
              "      <td>4500000.00000</td>\n",
              "      <td>1600000.00000</td>\n",
              "      <td>319841.00000</td>\n",
              "    </tr>\n",
              "    <tr>\n",
              "      <th>2</th>\n",
              "      <td>2009.00000</td>\n",
              "      <td>985.00000</td>\n",
              "      <td>43261.00000</td>\n",
              "      <td>20.00000</td>\n",
              "      <td>4000000.00000</td>\n",
              "      <td>400000.00000</td>\n",
              "      <td>315185.00000</td>\n",
              "    </tr>\n",
              "    <tr>\n",
              "      <th>3</th>\n",
              "      <td>2009.00000</td>\n",
              "      <td>985.00000</td>\n",
              "      <td>1397.00000</td>\n",
              "      <td>29.00000</td>\n",
              "      <td>0.00000</td>\n",
              "      <td>525000.00000</td>\n",
              "      <td>306421.00000</td>\n",
              "    </tr>\n",
              "    <tr>\n",
              "      <th>4</th>\n",
              "      <td>2009.00000</td>\n",
              "      <td>985.00000</td>\n",
              "      <td>73538.00000</td>\n",
              "      <td>18.00000</td>\n",
              "      <td>1020000.00000</td>\n",
              "      <td>300000.00000</td>\n",
              "      <td>339015.00000</td>\n",
              "    </tr>\n",
              "    <tr>\n",
              "      <th>...</th>\n",
              "      <td>...</td>\n",
              "      <td>...</td>\n",
              "      <td>...</td>\n",
              "      <td>...</td>\n",
              "      <td>...</td>\n",
              "      <td>...</td>\n",
              "      <td>...</td>\n",
              "    </tr>\n",
              "    <tr>\n",
              "      <th>70001</th>\n",
              "      <td>2021.00000</td>\n",
              "      <td>306.00000</td>\n",
              "      <td>257808.00000</td>\n",
              "      <td>25.00000</td>\n",
              "      <td>4000.00000</td>\n",
              "      <td>500000.00000</td>\n",
              "      <td>3071862.00000</td>\n",
              "    </tr>\n",
              "    <tr>\n",
              "      <th>70002</th>\n",
              "      <td>2021.00000</td>\n",
              "      <td>306.00000</td>\n",
              "      <td>580142.00000</td>\n",
              "      <td>22.00000</td>\n",
              "      <td>0.00000</td>\n",
              "      <td>100000.00000</td>\n",
              "      <td>3268245.00000</td>\n",
              "    </tr>\n",
              "    <tr>\n",
              "      <th>70003</th>\n",
              "      <td>2021.00000</td>\n",
              "      <td>468.00000</td>\n",
              "      <td>340353.00000</td>\n",
              "      <td>22.00000</td>\n",
              "      <td>2860000.00000</td>\n",
              "      <td>1000000.00000</td>\n",
              "      <td>3619917.00000</td>\n",
              "    </tr>\n",
              "    <tr>\n",
              "      <th>70004</th>\n",
              "      <td>2021.00000</td>\n",
              "      <td>468.00000</td>\n",
              "      <td>340353.00000</td>\n",
              "      <td>22.00000</td>\n",
              "      <td>7000000.00000</td>\n",
              "      <td>1000000.00000</td>\n",
              "      <td>3619916.00000</td>\n",
              "    </tr>\n",
              "    <tr>\n",
              "      <th>70005</th>\n",
              "      <td>2021.00000</td>\n",
              "      <td>499.00000</td>\n",
              "      <td>187203.00000</td>\n",
              "      <td>27.00000</td>\n",
              "      <td>0.00000</td>\n",
              "      <td>125000.00000</td>\n",
              "      <td>3611421.00000</td>\n",
              "    </tr>\n",
              "  </tbody>\n",
              "</table>\n",
              "<p>70006 rows × 7 columns</p>\n",
              "</div>\n",
              "      <button class=\"colab-df-convert\" onclick=\"convertToInteractive('df-7bf6191d-fbcc-4085-9c77-36f18fb24834')\"\n",
              "              title=\"Convert this dataframe to an interactive table.\"\n",
              "              style=\"display:none;\">\n",
              "        \n",
              "  <svg xmlns=\"http://www.w3.org/2000/svg\" height=\"24px\"viewBox=\"0 0 24 24\"\n",
              "       width=\"24px\">\n",
              "    <path d=\"M0 0h24v24H0V0z\" fill=\"none\"/>\n",
              "    <path d=\"M18.56 5.44l.94 2.06.94-2.06 2.06-.94-2.06-.94-.94-2.06-.94 2.06-2.06.94zm-11 1L8.5 8.5l.94-2.06 2.06-.94-2.06-.94L8.5 2.5l-.94 2.06-2.06.94zm10 10l.94 2.06.94-2.06 2.06-.94-2.06-.94-.94-2.06-.94 2.06-2.06.94z\"/><path d=\"M17.41 7.96l-1.37-1.37c-.4-.4-.92-.59-1.43-.59-.52 0-1.04.2-1.43.59L10.3 9.45l-7.72 7.72c-.78.78-.78 2.05 0 2.83L4 21.41c.39.39.9.59 1.41.59.51 0 1.02-.2 1.41-.59l7.78-7.78 2.81-2.81c.8-.78.8-2.07 0-2.86zM5.41 20L4 18.59l7.72-7.72 1.47 1.35L5.41 20z\"/>\n",
              "  </svg>\n",
              "      </button>\n",
              "      \n",
              "  <style>\n",
              "    .colab-df-container {\n",
              "      display:flex;\n",
              "      flex-wrap:wrap;\n",
              "      gap: 12px;\n",
              "    }\n",
              "\n",
              "    .colab-df-convert {\n",
              "      background-color: #E8F0FE;\n",
              "      border: none;\n",
              "      border-radius: 50%;\n",
              "      cursor: pointer;\n",
              "      display: none;\n",
              "      fill: #1967D2;\n",
              "      height: 32px;\n",
              "      padding: 0 0 0 0;\n",
              "      width: 32px;\n",
              "    }\n",
              "\n",
              "    .colab-df-convert:hover {\n",
              "      background-color: #E2EBFA;\n",
              "      box-shadow: 0px 1px 2px rgba(60, 64, 67, 0.3), 0px 1px 3px 1px rgba(60, 64, 67, 0.15);\n",
              "      fill: #174EA6;\n",
              "    }\n",
              "\n",
              "    [theme=dark] .colab-df-convert {\n",
              "      background-color: #3B4455;\n",
              "      fill: #D2E3FC;\n",
              "    }\n",
              "\n",
              "    [theme=dark] .colab-df-convert:hover {\n",
              "      background-color: #434B5C;\n",
              "      box-shadow: 0px 1px 3px 1px rgba(0, 0, 0, 0.15);\n",
              "      filter: drop-shadow(0px 1px 2px rgba(0, 0, 0, 0.3));\n",
              "      fill: #FFFFFF;\n",
              "    }\n",
              "  </style>\n",
              "\n",
              "      <script>\n",
              "        const buttonEl =\n",
              "          document.querySelector('#df-7bf6191d-fbcc-4085-9c77-36f18fb24834 button.colab-df-convert');\n",
              "        buttonEl.style.display =\n",
              "          google.colab.kernel.accessAllowed ? 'block' : 'none';\n",
              "\n",
              "        async function convertToInteractive(key) {\n",
              "          const element = document.querySelector('#df-7bf6191d-fbcc-4085-9c77-36f18fb24834');\n",
              "          const dataTable =\n",
              "            await google.colab.kernel.invokeFunction('convertToInteractive',\n",
              "                                                     [key], {});\n",
              "          if (!dataTable) return;\n",
              "\n",
              "          const docLinkHtml = 'Like what you see? Visit the ' +\n",
              "            '<a target=\"_blank\" href=https://colab.research.google.com/notebooks/data_table.ipynb>data table notebook</a>'\n",
              "            + ' to learn more about interactive tables.';\n",
              "          element.innerHTML = '';\n",
              "          dataTable['output_type'] = 'display_data';\n",
              "          await google.colab.output.renderOutput(dataTable, element);\n",
              "          const docLink = document.createElement('div');\n",
              "          docLink.innerHTML = docLinkHtml;\n",
              "          element.appendChild(docLink);\n",
              "        }\n",
              "      </script>\n",
              "    </div>\n",
              "  </div>\n",
              "  "
            ]
          },
          "metadata": {},
          "execution_count": 162
        }
      ],
      "source": [
        "# rename dataframe header\n",
        "cols = ['season', 'team_id', 'player_id', 'player_age',\n",
        "        'transfer_fee_amnt', 'market_val_amnt', 'transfer_id']\n",
        "new_df.columns = cols\n",
        "new_df"
      ]
    },
    {
      "cell_type": "code",
      "execution_count": 163,
      "metadata": {
        "id": "HAdyLKbLnsTF"
      },
      "outputs": [],
      "source": [
        "# replace old column value with new column value\n",
        "cols = new_df.columns\n",
        "for col in cols:\n",
        "    df[col] = new_df[col]"
      ]
    },
    {
      "cell_type": "code",
      "execution_count": 164,
      "metadata": {
        "colab": {
          "base_uri": "https://localhost:8080/"
        },
        "id": "erp419i6EZi8",
        "outputId": "d8ba3f72-a264-45ab-da96-18f36f3af73a"
      },
      "outputs": [
        {
          "output_type": "execute_result",
          "data": {
            "text/plain": [
              "0"
            ]
          },
          "metadata": {},
          "execution_count": 164
        }
      ],
      "source": [
        "# fill missing value in player nation column\n",
        "df['player_nation'].fillna(method='bfill', inplace = True)\n",
        "df['player_nation'].isnull().sum()"
      ]
    },
    {
      "cell_type": "markdown",
      "metadata": {
        "id": "b_sRXFssnkLI"
      },
      "source": [
        "Create a new column is_expensive that would denote if a player's market value is greater or less than the mean. This would be our binary target variable which would be classified using different models."
      ]
    },
    {
      "cell_type": "code",
      "execution_count": 165,
      "metadata": {
        "colab": {
          "base_uri": "https://localhost:8080/"
        },
        "id": "Xms8P7XmEe7B",
        "outputId": "56b19c4f-8a58-4be4-ddc2-a9daadd60167"
      },
      "outputs": [
        {
          "output_type": "stream",
          "name": "stdout",
          "text": [
            "3037731.3801674144\n"
          ]
        }
      ],
      "source": [
        "# calculate means\n",
        "mean = df['market_val_amnt'].mean()\n",
        "print(mean)\n",
        "# turn market val amount column into a list\n",
        "list_mark = df['market_val_amnt'].tolist()\n",
        "# create a list\n",
        "res = []\n",
        "# loop through market val amount column\n",
        "# if value is above mean then append 1 (true)\n",
        "# else append 0 (false)\n",
        "for i in list_mark:\n",
        "  if i < mean:\n",
        "    res.append(0)\n",
        "  else:\n",
        "    res.append(1)\n",
        "\n",
        "# turn that list into  panda dataframe\n",
        "res = pd.DataFrame (res, columns = ['is_expensive'])\n",
        "# create a new column in df\n",
        "df['is_expensive'] = res"
      ]
    },
    {
      "cell_type": "code",
      "execution_count": 166,
      "metadata": {
        "colab": {
          "base_uri": "https://localhost:8080/"
        },
        "id": "jYDRBqaoHbGp",
        "outputId": "bd8485e4-99ac-4519-aa11-9f9dd2a34429"
      },
      "outputs": [
        {
          "output_type": "execute_result",
          "data": {
            "text/plain": [
              "0    56893\n",
              "1    13113\n",
              "Name: is_expensive, dtype: int64"
            ]
          },
          "metadata": {},
          "execution_count": 166
        }
      ],
      "source": [
        "# count 0 and 1 in is expensive column\n",
        "df['is_expensive'].value_counts()"
      ]
    },
    {
      "cell_type": "markdown",
      "metadata": {
        "id": "k7ZhiV1PvsKn"
      },
      "source": [
        "We see the that the distribution is highly unbalanced so we would need to use an alogirithm like SMOTE to even out the traning data."
      ]
    },
    {
      "cell_type": "code",
      "execution_count": 167,
      "metadata": {
        "colab": {
          "base_uri": "https://localhost:8080/"
        },
        "id": "4xSkWwCOIqgN",
        "outputId": "d80ea6e7-0343-4d4f-f8dc-7ea0c56ae9dd"
      },
      "outputs": [
        {
          "output_type": "execute_result",
          "data": {
            "text/plain": [
              "league                  0\n",
              "season                  0\n",
              "window                  0\n",
              "team_id                 0\n",
              "team_name               0\n",
              "team_country            0\n",
              "dir                     0\n",
              "player_id               0\n",
              "player_name             0\n",
              "player_age              0\n",
              "player_nation           0\n",
              "player_pos              0\n",
              "counter_team_id         0\n",
              "counter_team_name       0\n",
              "counter_team_country    0\n",
              "transfer_fee_amnt       0\n",
              "market_val_amnt         0\n",
              "is_free                 0\n",
              "is_loan                 0\n",
              "is_loan_end             0\n",
              "is_retired              0\n",
              "transfer_id             0\n",
              "is_expensive            0\n",
              "dtype: int64"
            ]
          },
          "metadata": {},
          "execution_count": 167
        }
      ],
      "source": [
        "# check null for each column after data cleaning\n",
        "# will ignore player_nation2 column because will drop that column\n",
        "df.isnull().sum()"
      ]
    },
    {
      "cell_type": "markdown",
      "metadata": {
        "id": "AMgnd2R1qhya"
      },
      "source": [
        "#**EDA and Prepped Data Analysis**"
      ]
    },
    {
      "cell_type": "code",
      "execution_count": 169,
      "metadata": {
        "colab": {
          "base_uri": "https://localhost:8080/",
          "height": 300
        },
        "id": "hCzYlFfzFfRF",
        "outputId": "f02fa228-1ece-463b-b5f0-665fc7a6be5d"
      },
      "outputs": [
        {
          "output_type": "execute_result",
          "data": {
            "text/plain": [
              "           season     team_id    player_id  player_age  transfer_fee_amnt  \\\n",
              "count 70006.00000 70006.00000  70006.00000 70006.00000        70006.00000   \n",
              "mean   2014.93593  1245.37373 161415.17828    24.16516      2730296.68600   \n",
              "std       3.61525  2352.68223 143527.76921     7.84512     14351886.48221   \n",
              "min    2009.00000     2.00000      6.00000    12.00000            0.00000   \n",
              "25%    2012.00000   252.00000  50356.75000    21.00000            0.00000   \n",
              "50%    2015.00000   607.00000 121990.00000    23.00000       300000.00000   \n",
              "75%    2018.00000  1123.00000 240341.00000    27.00000      1600000.00000   \n",
              "max    2021.00000 23826.00000 936900.00000  1775.00000    550000000.00000   \n",
              "\n",
              "       market_val_amnt   transfer_id  is_expensive  \n",
              "count      70006.00000   70006.00000   70006.00000  \n",
              "mean     3037731.38017 1518057.28659       0.18731  \n",
              "std      7945158.40106  919624.57110       0.39016  \n",
              "min        10000.00000   68451.00000       0.00000  \n",
              "25%       260000.00000  746931.25000       0.00000  \n",
              "50%       610000.00000 1293328.00000       0.00000  \n",
              "75%      2000000.00000 2198413.75000       0.00000  \n",
              "max    160000000.00000 3633188.00000       1.00000  "
            ],
            "text/html": [
              "\n",
              "  <div id=\"df-ad1ae999-e7a2-4923-bc38-5488fe710ac5\">\n",
              "    <div class=\"colab-df-container\">\n",
              "      <div>\n",
              "<style scoped>\n",
              "    .dataframe tbody tr th:only-of-type {\n",
              "        vertical-align: middle;\n",
              "    }\n",
              "\n",
              "    .dataframe tbody tr th {\n",
              "        vertical-align: top;\n",
              "    }\n",
              "\n",
              "    .dataframe thead th {\n",
              "        text-align: right;\n",
              "    }\n",
              "</style>\n",
              "<table border=\"1\" class=\"dataframe\">\n",
              "  <thead>\n",
              "    <tr style=\"text-align: right;\">\n",
              "      <th></th>\n",
              "      <th>season</th>\n",
              "      <th>team_id</th>\n",
              "      <th>player_id</th>\n",
              "      <th>player_age</th>\n",
              "      <th>transfer_fee_amnt</th>\n",
              "      <th>market_val_amnt</th>\n",
              "      <th>transfer_id</th>\n",
              "      <th>is_expensive</th>\n",
              "    </tr>\n",
              "  </thead>\n",
              "  <tbody>\n",
              "    <tr>\n",
              "      <th>count</th>\n",
              "      <td>70006.00000</td>\n",
              "      <td>70006.00000</td>\n",
              "      <td>70006.00000</td>\n",
              "      <td>70006.00000</td>\n",
              "      <td>70006.00000</td>\n",
              "      <td>70006.00000</td>\n",
              "      <td>70006.00000</td>\n",
              "      <td>70006.00000</td>\n",
              "    </tr>\n",
              "    <tr>\n",
              "      <th>mean</th>\n",
              "      <td>2014.93593</td>\n",
              "      <td>1245.37373</td>\n",
              "      <td>161415.17828</td>\n",
              "      <td>24.16516</td>\n",
              "      <td>2730296.68600</td>\n",
              "      <td>3037731.38017</td>\n",
              "      <td>1518057.28659</td>\n",
              "      <td>0.18731</td>\n",
              "    </tr>\n",
              "    <tr>\n",
              "      <th>std</th>\n",
              "      <td>3.61525</td>\n",
              "      <td>2352.68223</td>\n",
              "      <td>143527.76921</td>\n",
              "      <td>7.84512</td>\n",
              "      <td>14351886.48221</td>\n",
              "      <td>7945158.40106</td>\n",
              "      <td>919624.57110</td>\n",
              "      <td>0.39016</td>\n",
              "    </tr>\n",
              "    <tr>\n",
              "      <th>min</th>\n",
              "      <td>2009.00000</td>\n",
              "      <td>2.00000</td>\n",
              "      <td>6.00000</td>\n",
              "      <td>12.00000</td>\n",
              "      <td>0.00000</td>\n",
              "      <td>10000.00000</td>\n",
              "      <td>68451.00000</td>\n",
              "      <td>0.00000</td>\n",
              "    </tr>\n",
              "    <tr>\n",
              "      <th>25%</th>\n",
              "      <td>2012.00000</td>\n",
              "      <td>252.00000</td>\n",
              "      <td>50356.75000</td>\n",
              "      <td>21.00000</td>\n",
              "      <td>0.00000</td>\n",
              "      <td>260000.00000</td>\n",
              "      <td>746931.25000</td>\n",
              "      <td>0.00000</td>\n",
              "    </tr>\n",
              "    <tr>\n",
              "      <th>50%</th>\n",
              "      <td>2015.00000</td>\n",
              "      <td>607.00000</td>\n",
              "      <td>121990.00000</td>\n",
              "      <td>23.00000</td>\n",
              "      <td>300000.00000</td>\n",
              "      <td>610000.00000</td>\n",
              "      <td>1293328.00000</td>\n",
              "      <td>0.00000</td>\n",
              "    </tr>\n",
              "    <tr>\n",
              "      <th>75%</th>\n",
              "      <td>2018.00000</td>\n",
              "      <td>1123.00000</td>\n",
              "      <td>240341.00000</td>\n",
              "      <td>27.00000</td>\n",
              "      <td>1600000.00000</td>\n",
              "      <td>2000000.00000</td>\n",
              "      <td>2198413.75000</td>\n",
              "      <td>0.00000</td>\n",
              "    </tr>\n",
              "    <tr>\n",
              "      <th>max</th>\n",
              "      <td>2021.00000</td>\n",
              "      <td>23826.00000</td>\n",
              "      <td>936900.00000</td>\n",
              "      <td>1775.00000</td>\n",
              "      <td>550000000.00000</td>\n",
              "      <td>160000000.00000</td>\n",
              "      <td>3633188.00000</td>\n",
              "      <td>1.00000</td>\n",
              "    </tr>\n",
              "  </tbody>\n",
              "</table>\n",
              "</div>\n",
              "      <button class=\"colab-df-convert\" onclick=\"convertToInteractive('df-ad1ae999-e7a2-4923-bc38-5488fe710ac5')\"\n",
              "              title=\"Convert this dataframe to an interactive table.\"\n",
              "              style=\"display:none;\">\n",
              "        \n",
              "  <svg xmlns=\"http://www.w3.org/2000/svg\" height=\"24px\"viewBox=\"0 0 24 24\"\n",
              "       width=\"24px\">\n",
              "    <path d=\"M0 0h24v24H0V0z\" fill=\"none\"/>\n",
              "    <path d=\"M18.56 5.44l.94 2.06.94-2.06 2.06-.94-2.06-.94-.94-2.06-.94 2.06-2.06.94zm-11 1L8.5 8.5l.94-2.06 2.06-.94-2.06-.94L8.5 2.5l-.94 2.06-2.06.94zm10 10l.94 2.06.94-2.06 2.06-.94-2.06-.94-.94-2.06-.94 2.06-2.06.94z\"/><path d=\"M17.41 7.96l-1.37-1.37c-.4-.4-.92-.59-1.43-.59-.52 0-1.04.2-1.43.59L10.3 9.45l-7.72 7.72c-.78.78-.78 2.05 0 2.83L4 21.41c.39.39.9.59 1.41.59.51 0 1.02-.2 1.41-.59l7.78-7.78 2.81-2.81c.8-.78.8-2.07 0-2.86zM5.41 20L4 18.59l7.72-7.72 1.47 1.35L5.41 20z\"/>\n",
              "  </svg>\n",
              "      </button>\n",
              "      \n",
              "  <style>\n",
              "    .colab-df-container {\n",
              "      display:flex;\n",
              "      flex-wrap:wrap;\n",
              "      gap: 12px;\n",
              "    }\n",
              "\n",
              "    .colab-df-convert {\n",
              "      background-color: #E8F0FE;\n",
              "      border: none;\n",
              "      border-radius: 50%;\n",
              "      cursor: pointer;\n",
              "      display: none;\n",
              "      fill: #1967D2;\n",
              "      height: 32px;\n",
              "      padding: 0 0 0 0;\n",
              "      width: 32px;\n",
              "    }\n",
              "\n",
              "    .colab-df-convert:hover {\n",
              "      background-color: #E2EBFA;\n",
              "      box-shadow: 0px 1px 2px rgba(60, 64, 67, 0.3), 0px 1px 3px 1px rgba(60, 64, 67, 0.15);\n",
              "      fill: #174EA6;\n",
              "    }\n",
              "\n",
              "    [theme=dark] .colab-df-convert {\n",
              "      background-color: #3B4455;\n",
              "      fill: #D2E3FC;\n",
              "    }\n",
              "\n",
              "    [theme=dark] .colab-df-convert:hover {\n",
              "      background-color: #434B5C;\n",
              "      box-shadow: 0px 1px 3px 1px rgba(0, 0, 0, 0.15);\n",
              "      filter: drop-shadow(0px 1px 2px rgba(0, 0, 0, 0.3));\n",
              "      fill: #FFFFFF;\n",
              "    }\n",
              "  </style>\n",
              "\n",
              "      <script>\n",
              "        const buttonEl =\n",
              "          document.querySelector('#df-ad1ae999-e7a2-4923-bc38-5488fe710ac5 button.colab-df-convert');\n",
              "        buttonEl.style.display =\n",
              "          google.colab.kernel.accessAllowed ? 'block' : 'none';\n",
              "\n",
              "        async function convertToInteractive(key) {\n",
              "          const element = document.querySelector('#df-ad1ae999-e7a2-4923-bc38-5488fe710ac5');\n",
              "          const dataTable =\n",
              "            await google.colab.kernel.invokeFunction('convertToInteractive',\n",
              "                                                     [key], {});\n",
              "          if (!dataTable) return;\n",
              "\n",
              "          const docLinkHtml = 'Like what you see? Visit the ' +\n",
              "            '<a target=\"_blank\" href=https://colab.research.google.com/notebooks/data_table.ipynb>data table notebook</a>'\n",
              "            + ' to learn more about interactive tables.';\n",
              "          element.innerHTML = '';\n",
              "          dataTable['output_type'] = 'display_data';\n",
              "          await google.colab.output.renderOutput(dataTable, element);\n",
              "          const docLink = document.createElement('div');\n",
              "          docLink.innerHTML = docLinkHtml;\n",
              "          element.appendChild(docLink);\n",
              "        }\n",
              "      </script>\n",
              "    </div>\n",
              "  </div>\n",
              "  "
            ]
          },
          "metadata": {},
          "execution_count": 169
        }
      ],
      "source": [
        "#we take a look at the statistics of our numeric attributes\n",
        "df.describe()"
      ]
    },
    {
      "cell_type": "markdown",
      "metadata": {
        "id": "4jWnaX_a6jHn"
      },
      "source": [
        "At first glamce, seeing min value of 0 for transfer free amount might seem wrong but using our domain expertise we know that when a player's contract runs out with his current club his transfer to a new club would be therefore a free transfer. There seem to be some data that are just plain wrong: such as max player age being 1775 and max transfer fee amount being 550million."
      ]
    },
    {
      "cell_type": "markdown",
      "metadata": {
        "id": "VjWZd-GdBslO"
      },
      "source": [
        "Using our domain knowledge, we know that the most expensive transfer in football history is of Neymar from Barcelona to PSG which costed 250million, and also we know that there are no players over the age of 50 playing soccer."
      ]
    },
    {
      "cell_type": "code",
      "execution_count": 170,
      "metadata": {
        "colab": {
          "base_uri": "https://localhost:8080/"
        },
        "id": "QmITon3B76Ke",
        "outputId": "ce3715c6-b46b-4eff-ff9b-f334e3236300"
      },
      "outputs": [
        {
          "output_type": "execute_result",
          "data": {
            "text/plain": [
              "(69970, 23)"
            ]
          },
          "metadata": {},
          "execution_count": 170
        }
      ],
      "source": [
        "#df = df[df.player_age < 50]\n",
        "#df = df[df.transfer_fee_amnt < 250000000]\n",
        "#df[(df.player_age < 50) & (df.transfer_fee_amnt < 250000000.00000)]\n",
        "\n",
        "df.drop(df.index[df['player_age'] > 50],axis=0, inplace = True)\n",
        "df.drop(df.index[df['transfer_fee_amnt'] > 251000000],axis=0, inplace = True)\n",
        "\n",
        "\n",
        "df.shape"
      ]
    },
    {
      "cell_type": "code",
      "execution_count": 171,
      "metadata": {
        "id": "96yexhCHppxS"
      },
      "outputs": [],
      "source": [
        "# create a function to set graph size\n",
        "def graph_size(x = 12, y = 10):\n",
        "  plt.figure(figsize = (x, y))\n",
        "  "
      ]
    },
    {
      "cell_type": "code",
      "execution_count": 172,
      "metadata": {
        "colab": {
          "base_uri": "https://localhost:8080/",
          "height": 661
        },
        "id": "MMq_UFTArfgj",
        "outputId": "ac39cee8-4d4f-42f3-d063-5ed21c5a965e"
      },
      "outputs": [
        {
          "output_type": "execute_result",
          "data": {
            "text/plain": [
              "(array([11161.,  8704.,     0., 16100.,     0.,  7000.,  8199.,     0.,\n",
              "        11377.,  7429.]),\n",
              " array([0. , 0.6, 1.2, 1.8, 2.4, 3. , 3.6, 4.2, 4.8, 5.4, 6. ]),\n",
              " <a list of 10 Patch objects>)"
            ]
          },
          "metadata": {},
          "execution_count": 172
        },
        {
          "output_type": "display_data",
          "data": {
            "text/plain": [
              "<Figure size 864x720 with 1 Axes>"
            ],
            "image/png": "[encoded data removed]"
          },
          "metadata": {
            "needs_background": "light"
          }
        }
      ],
      "source": [
        "# display how many players in each league\n",
        "graph_size()\n",
        "plt.hist(df['team_country'], bins=10)"
      ]
    },
    {
      "cell_type": "markdown",
      "source": [
        "The Italian league(SERIA A) cumulatively has made the most number of transfers, followed by portugal and england. German clubs in comparison has made the least transfers to it's league(Bundesliga) indicating that they are more keen on nurturing homegrown players and building a squad with them. "
      ],
      "metadata": {
        "id": "gWDs4vp4OsDk"
      }
    },
    {
      "cell_type": "code",
      "execution_count": 173,
      "metadata": {
        "colab": {
          "base_uri": "https://localhost:8080/",
          "height": 619
        },
        "id": "Qv0eesO1sG3D",
        "outputId": "13242e61-cd5f-4baa-c8d1-d4a9915509fe"
      },
      "outputs": [
        {
          "output_type": "execute_result",
          "data": {
            "text/plain": [
              "<BarContainer object of 7 artists>"
            ]
          },
          "metadata": {},
          "execution_count": 173
        },
        {
          "output_type": "display_data",
          "data": {
            "text/plain": [
              "<Figure size 864x720 with 1 Axes>"
            ],
            "image/png": "[encoded data removed]"
          },
          "metadata": {
            "needs_background": "light"
          }
        }
      ],
      "source": [
        "# Display the total player transfer value of each coutry.\n",
        "import collections\n",
        "total = collections.defaultdict(int)\n",
        "for player, country in zip(df['transfer_fee_amnt'].tolist(),df['team_country'].tolist()):\n",
        "  total[country] += player\n",
        "\n",
        "graph_size()\n",
        "plt.bar(list(total.keys()),list(total.values()), color=\"goldenrod\")"
      ]
    },
    {
      "cell_type": "markdown",
      "source": [
        "Italy has spent the most amount of money in transfer over the last 12 years but England stands out at spending more relative to number of players bought. "
      ],
      "metadata": {
        "id": "tZdkAAUXPD5t"
      }
    },
    {
      "cell_type": "code",
      "execution_count": 174,
      "metadata": {
        "id": "JltUgPTgKQX7"
      },
      "outputs": [],
      "source": [
        "\n",
        "col = df['team_country'].unique()\n",
        "mapping = collections.defaultdict(int)\n",
        "\n",
        "play_na = df['player_nation'].tolist()\n",
        "mark = df['market_val_amnt'].tolist()\n",
        "for nation,val in zip(play_na,mark):\n",
        "        if nation in col:\n",
        "          mapping[nation] += val\n"
      ]
    },
    {
      "cell_type": "code",
      "execution_count": 175,
      "metadata": {
        "colab": {
          "base_uri": "https://localhost:8080/"
        },
        "id": "vtZjXLXQLabu",
        "outputId": "1c13c23b-6064-4696-e258-4e0153923832"
      },
      "outputs": [
        {
          "output_type": "stream",
          "name": "stdout",
          "text": [
            "defaultdict(<class 'int'>, {'France': 21145902000.0, 'England': 18384828000.0, 'Portugal': 16726628000.0, 'Italy': 20158310000.0, 'Spain': 19918525000.0, 'Netherlands': 10682678000.0, 'Germany': 10599030000.0})\n"
          ]
        }
      ],
      "source": [
        "print(mapping)"
      ]
    },
    {
      "cell_type": "code",
      "execution_count": 176,
      "metadata": {
        "colab": {
          "base_uri": "https://localhost:8080/",
          "height": 619
        },
        "id": "jOCyTSP2LMYm",
        "outputId": "d2c595d2-6c5b-42e8-c429-91d39b12f567"
      },
      "outputs": [
        {
          "output_type": "execute_result",
          "data": {
            "text/plain": [
              "<BarContainer object of 7 artists>"
            ]
          },
          "metadata": {},
          "execution_count": 176
        },
        {
          "output_type": "display_data",
          "data": {
            "text/plain": [
              "<Figure size 864x720 with 1 Axes>"
            ],
            "image/png": "[encoded data removed]"
          },
          "metadata": {
            "needs_background": "light"
          }
        }
      ],
      "source": [
        "graph_size()\n",
        "plt.bar(list(mapping.keys()),list(mapping.values()))"
      ]
    },
    {
      "cell_type": "markdown",
      "source": [
        "So our original hypothesis seems to have been disproven as France is leading the way in total player valuation exceeding the likes of England. In second and third place are Italy and Spain respectively. This graph makes perfect sense since France won the FIFA World Cup in 2018, Italy won the Euros in 2020 and Spain were dominant till 2015. Therefore, it is in fact not quite accurate to say that England players on average are valued more than their European opponents."
      ],
      "metadata": {
        "id": "-ObmZ2JqP4fw"
      }
    },
    {
      "cell_type": "code",
      "execution_count": 177,
      "metadata": {
        "colab": {
          "base_uri": "https://localhost:8080/",
          "height": 609
        },
        "id": "KM0xww7e5zj2",
        "outputId": "4c90af0a-f5f0-4ccd-d281-ba13b1777eb8"
      },
      "outputs": [
        {
          "output_type": "execute_result",
          "data": {
            "text/plain": [
              "<BarContainer object of 2 artists>"
            ]
          },
          "metadata": {},
          "execution_count": 177
        },
        {
          "output_type": "display_data",
          "data": {
            "text/plain": [
              "<Figure size 864x720 with 1 Axes>"
            ],
            "image/png": "[encoded data removed]"
          },
          "metadata": {
            "needs_background": "light"
          }
        }
      ],
      "source": [
        "# to see how many players had a free transfer\n",
        "graph_size()\n",
        "total = collections.defaultdict(int)\n",
        "for val in df['is_free'].tolist():\n",
        "  total[val] += 1\n",
        "x = np.array(['false','true'])\n",
        "y = np.array(list(total.values()))\n",
        "plt.bar(x,y)"
      ]
    },
    {
      "cell_type": "code",
      "execution_count": 178,
      "metadata": {
        "colab": {
          "base_uri": "https://localhost:8080/",
          "height": 661
        },
        "id": "r9F9smtkGOD3",
        "outputId": "e0f456b7-91ec-4236-8d7c-caa5ba2fe6a9"
      },
      "outputs": [
        {
          "output_type": "execute_result",
          "data": {
            "text/plain": [
              "(array([16844.,  4700., 19698.,  6283.,  9329.,  5734.,  5766.,   729.,\n",
              "          737.,   150.]),\n",
              " array([ 0. ,  1.5,  3. ,  4.5,  6. ,  7.5,  9. , 10.5, 12. , 13.5, 15. ]),\n",
              " <a list of 10 Patch objects>)"
            ]
          },
          "metadata": {},
          "execution_count": 178
        },
        {
          "output_type": "display_data",
          "data": {
            "text/plain": [
              "<Figure size 864x720 with 1 Axes>"
            ],
            "image/png": "[encoded data removed]"
          },
          "metadata": {
            "needs_background": "light"
          }
        }
      ],
      "source": [
        "# see how many players on each position\n",
        "graph_size()\n",
        "plt.hist(df['player_pos'])"
      ]
    },
    {
      "cell_type": "markdown",
      "source": [
        "The most sought after position in transfers are Center Midfielder. The inclusion of Right Back in second is definitely surprising. I would expect clubs going for forward positions like LW(left winger), RW(right winger) and CF(Center forward) more often. "
      ],
      "metadata": {
        "id": "qzVueTLnRclx"
      }
    },
    {
      "cell_type": "code",
      "execution_count": 179,
      "metadata": {
        "colab": {
          "base_uri": "https://localhost:8080/",
          "height": 619
        },
        "id": "qyZ0iovFKN9Z",
        "outputId": "89183f29-2540-48cd-c4f2-9fc839eae003"
      },
      "outputs": [
        {
          "output_type": "execute_result",
          "data": {
            "text/plain": [
              "<BarContainer object of 13 artists>"
            ]
          },
          "metadata": {},
          "execution_count": 179
        },
        {
          "output_type": "display_data",
          "data": {
            "text/plain": [
              "<Figure size 864x720 with 1 Axes>"
            ],
            "image/png": "[encoded data removed]"
          },
          "metadata": {
            "needs_background": "light"
          }
        }
      ],
      "source": [
        "# the total transfer value of seven leagues  each season\n",
        "\n",
        "total = collections.defaultdict(int)\n",
        "\n",
        "for sea,val in zip(df['season'].tolist(),df['transfer_fee_amnt'].tolist()):\n",
        "  total[sea] += val\n",
        "\n",
        "graph_size()\n",
        "plt.bar(list(total.keys()),list(total.values()))"
      ]
    },
    {
      "cell_type": "markdown",
      "source": [
        "This is a very interesting trend showing the cumulative transfer fee was increasing during the 2009-2011 seasons but it slowly decreased for 3 seasons till bottoming out in 2014. It started to drop again after 2019 probably due to the outbreak of COVID which stopped play in many leagues for a couple months."
      ],
      "metadata": {
        "id": "seUkHxdCScW0"
      }
    },
    {
      "cell_type": "code",
      "execution_count": 180,
      "metadata": {
        "colab": {
          "base_uri": "https://localhost:8080/",
          "height": 619
        },
        "id": "PdXoyTmuLF-t",
        "outputId": "4e8b2a26-8f7f-40eb-e1f0-ca5a1cd47b07"
      },
      "outputs": [
        {
          "output_type": "execute_result",
          "data": {
            "text/plain": [
              "[<matplotlib.lines.Line2D at 0x7f2a670a8cd0>]"
            ]
          },
          "metadata": {},
          "execution_count": 180
        },
        {
          "output_type": "display_data",
          "data": {
            "text/plain": [
              "<Figure size 864x720 with 1 Axes>"
            ],
            "image/png": "[encoded data removed]"
          },
          "metadata": {
            "needs_background": "light"
          }
        }
      ],
      "source": [
        "# the total market value of seven leagues  each season\n",
        "\n",
        "total = collections.defaultdict(int)\n",
        "\n",
        "for sea,val in zip(df['season'].tolist(),df['market_val_amnt'].tolist()):\n",
        "  total[sea] += val\n",
        "\n",
        "graph_size()\n",
        "# plt.bar(list(total.keys()),list(total.values()))\n",
        "plt.plot(list(total.keys()),list(total.values()), color='#e377c2')"
      ]
    },
    {
      "cell_type": "markdown",
      "source": [
        "This trend line shows an inflationary trend in player valuation till covid hits when it starts to notice a drop."
      ],
      "metadata": {
        "id": "UPLMOnJxUdAk"
      }
    },
    {
      "cell_type": "code",
      "execution_count": 181,
      "metadata": {
        "colab": {
          "base_uri": "https://localhost:8080/",
          "height": 661
        },
        "id": "R9AMbgfgIiML",
        "outputId": "c0441382-a291-4153-fa71-b4f7be5b8468"
      },
      "outputs": [
        {
          "output_type": "execute_result",
          "data": {
            "text/plain": [
              "(array([56859.,     0.,     0.,     0.,     0.,     0.,     0.,     0.,\n",
              "            0., 13111.]),\n",
              " array([0. , 0.1, 0.2, 0.3, 0.4, 0.5, 0.6, 0.7, 0.8, 0.9, 1. ]),\n",
              " <a list of 10 Patch objects>)"
            ]
          },
          "metadata": {},
          "execution_count": 181
        },
        {
          "output_type": "display_data",
          "data": {
            "text/plain": [
              "<Figure size 864x720 with 1 Axes>"
            ],
            "image/png": "[encoded data removed]"
          },
          "metadata": {
            "needs_background": "light"
          }
        }
      ],
      "source": [
        "# show if inexpensive player and expensive play distribution\n",
        "graph_size()\n",
        "plt.hist(df['is_expensive'])"
      ]
    },
    {
      "cell_type": "code",
      "execution_count": 182,
      "metadata": {
        "colab": {
          "base_uri": "https://localhost:8080/",
          "height": 741
        },
        "id": "_SAjCZ2TJRft",
        "outputId": "5f33f9eb-35ef-4643-faa0-37e2199af30e"
      },
      "outputs": [
        {
          "output_type": "execute_result",
          "data": {
            "text/plain": [
              "{'boxes': [<matplotlib.lines.Line2D at 0x7f2a686dee90>],\n",
              " 'caps': [<matplotlib.lines.Line2D at 0x7f2a67477710>,\n",
              "  <matplotlib.lines.Line2D at 0x7f2a67477c50>],\n",
              " 'fliers': [<matplotlib.lines.Line2D at 0x7f2a67480750>],\n",
              " 'means': [],\n",
              " 'medians': [<matplotlib.lines.Line2D at 0x7f2a67480210>],\n",
              " 'whiskers': [<matplotlib.lines.Line2D at 0x7f2a67472c50>,\n",
              "  <matplotlib.lines.Line2D at 0x7f2a674771d0>]}"
            ]
          },
          "metadata": {},
          "execution_count": 182
        },
        {
          "output_type": "display_data",
          "data": {
            "text/plain": [
              "<Figure size 864x720 with 1 Axes>"
            ],
            "image/png": "[encoded data removed]"
          },
          "metadata": {
            "needs_background": "light"
          }
        }
      ],
      "source": [
        "# boxplot for market value\n",
        "\n",
        "graph_size()\n",
        "plt.boxplot(df['market_val_amnt'])"
      ]
    },
    {
      "cell_type": "markdown",
      "source": [
        "These outliers are completely justified since there have been a handful of players who are valued at hundreds of millions of euros in the past 12 years. The median also indicates that most player valuations that take place are in fact astronomically small in comparison to the transfer valuations of superstars like Neymar and Ronaldo."
      ],
      "metadata": {
        "id": "H-dRBDytUyUN"
      }
    },
    {
      "cell_type": "code",
      "execution_count": 183,
      "metadata": {
        "colab": {
          "base_uri": "https://localhost:8080/",
          "height": 741
        },
        "id": "g57Hj0WCJbMB",
        "outputId": "29deff7e-e147-4c3c-adbf-fd697b66cdbb"
      },
      "outputs": [
        {
          "output_type": "execute_result",
          "data": {
            "text/plain": [
              "{'boxes': [<matplotlib.lines.Line2D at 0x7f2a67450150>],\n",
              " 'caps': [<matplotlib.lines.Line2D at 0x7f2a67463910>,\n",
              "  <matplotlib.lines.Line2D at 0x7f2a67463e50>],\n",
              " 'fliers': [<matplotlib.lines.Line2D at 0x7f2a673ea950>],\n",
              " 'means': [],\n",
              " 'medians': [<matplotlib.lines.Line2D at 0x7f2a673ea410>],\n",
              " 'whiskers': [<matplotlib.lines.Line2D at 0x7f2a6745fe50>,\n",
              "  <matplotlib.lines.Line2D at 0x7f2a674633d0>]}"
            ]
          },
          "metadata": {},
          "execution_count": 183
        },
        {
          "output_type": "display_data",
          "data": {
            "text/plain": [
              "<Figure size 864x720 with 1 Axes>"
            ],
            "image/png": "[encoded data removed]"
          },
          "metadata": {
            "needs_background": "light"
          }
        }
      ],
      "source": [
        "# boxplot for transfer value\n",
        "graph_size()\n",
        "plt.boxplot(df['transfer_fee_amnt'])"
      ]
    },
    {
      "cell_type": "markdown",
      "source": [
        "The boxplot for transfer fee is very similar to transfer valuations for the exact same reason."
      ],
      "metadata": {
        "id": "PlplRZeeVoQa"
      }
    },
    {
      "cell_type": "code",
      "execution_count": 184,
      "metadata": {
        "colab": {
          "base_uri": "https://localhost:8080/",
          "height": 966
        },
        "id": "oLOHlQSmRACm",
        "outputId": "8a77de93-dd12-4c00-d13a-735fda7b802d"
      },
      "outputs": [
        {
          "output_type": "execute_result",
          "data": {
            "text/plain": [
              "<matplotlib.axes._subplots.AxesSubplot at 0x7f2a6740f250>"
            ]
          },
          "metadata": {},
          "execution_count": 184
        },
        {
          "output_type": "display_data",
          "data": {
            "text/plain": [
              "<Figure size 1440x1080 with 2 Axes>"
            ],
            "image/png": "[encoded data removed]"
          },
          "metadata": {
            "needs_background": "light"
          }
        }
      ],
      "source": [
        "# heatmap\n",
        "graph_size(20,15)\n",
        "sns.heatmap(df.corr(),annot = True)"
      ]
    },
    {
      "cell_type": "markdown",
      "source": [
        "* An interesting high correlation between player id and season. But we would have dropped player id as it does not have a reasonable input for to predict our response variable.\n",
        "* Transfer id and season have a high correlation with each other. However like the previous feature we would be dropping this feature as it is just a indentifaction variable for the site(Transfermarkrt) that collected this data.\n",
        "* is_retired has a medium correlation with player age but that it reasonable.\n",
        "* We would not be using both transfer fee amount and transfer value in our model as the assumption would be that they are unknown."
      ],
      "metadata": {
        "id": "g1j9nA3uV0NS"
      }
    },
    {
      "cell_type": "code",
      "execution_count": 185,
      "metadata": {
        "colab": {
          "base_uri": "https://localhost:8080/"
        },
        "id": "aPmx-b9qx3VB",
        "outputId": "2871b048-adb2-4b5b-a899-327f6b337dee"
      },
      "outputs": [
        {
          "output_type": "execute_result",
          "data": {
            "text/plain": [
              "league\n",
              "GB1   3592912.85727\n",
              "ES1   2783556.02022\n",
              "IT1   2696422.01242\n",
              "FR1   2434497.49970\n",
              "L1    2234183.02857\n",
              "PO1   1711487.36925\n",
              "NL1   1443538.21510\n",
              "Name: transfer_fee_amnt, dtype: float64"
            ]
          },
          "metadata": {},
          "execution_count": 185
        }
      ],
      "source": [
        "#find out the mean spending grouped by each league\n",
        "pd.set_option('display.float_format', lambda x: '%.5f' % x)\n",
        "df.groupby(['league'])['transfer_fee_amnt'].mean().sort_values(ascending=False).head(20)\n"
      ]
    },
    {
      "cell_type": "markdown",
      "source": [
        "The english league spends the highest per player followed by spain and Italy. The dutch league(NL1) has the lowest mean spending of all the major European leagues."
      ],
      "metadata": {
        "id": "Rmci5BhRXyp7"
      }
    },
    {
      "cell_type": "code",
      "execution_count": 186,
      "metadata": {
        "colab": {
          "base_uri": "https://localhost:8080/"
        },
        "id": "nZunDXzjx4p2",
        "outputId": "853cb94c-9389-4395-fff3-2b88cf0675d0"
      },
      "outputs": [
        {
          "output_type": "execute_result",
          "data": {
            "text/plain": [
              "player_pos\n",
              "midfield   5753300.85470\n",
              "attack     4453869.56522\n",
              "SS         3685516.32653\n",
              "CF         2817326.24574\n",
              "AM         2720716.46809\n",
              "RW         2707344.15529\n",
              "LW         2677019.80831\n",
              "CM         2583651.65547\n",
              "CB         2517727.87284\n",
              "DM         2392094.17510\n",
              "RB         2207509.77444\n",
              "defence    2091848.27586\n",
              "LB         2076564.90803\n",
              "LM         2021632.92181\n",
              "RM         1836078.70968\n",
              "GK         1546492.02610\n",
              "Name: transfer_fee_amnt, dtype: float64"
            ]
          },
          "metadata": {},
          "execution_count": 186
        }
      ],
      "source": [
        "#find out the mean transfer value grouped by each position of the player(outfield and goalie)\n",
        "df.groupby(['player_pos'])['transfer_fee_amnt'].mean().sort_values(ascending=False).head(20)\n"
      ]
    },
    {
      "cell_type": "markdown",
      "source": [
        "It is facinating to see that clubs are more likely to spend higher on average to get midfielders compared to forwards(attack)."
      ],
      "metadata": {
        "id": "77PRn1K2YJD3"
      }
    },
    {
      "cell_type": "code",
      "execution_count": 188,
      "metadata": {
        "colab": {
          "base_uri": "https://localhost:8080/"
        },
        "id": "8SmNusCvx7XJ",
        "outputId": "40fa6c8f-91fb-464e-c807-4e01064a5603"
      },
      "outputs": [
        {
          "output_type": "execute_result",
          "data": {
            "text/plain": [
              "team_name\n",
              "FC Barcelona              9942656.70732\n",
              "Real Madrid               9290523.80952\n",
              "AS Bari                   8659248.43750\n",
              "Naval 1º de Maio          8259155.17241\n",
              "Manchester United         6714809.52381\n",
              "Borussia Dortmund         6363347.43590\n",
              "Atlético de Madrid        5917238.80597\n",
              "Bayern Munich             5746105.30612\n",
              "Arsenal FC                5737836.79654\n",
              "Paris Saint-Germain       5655288.48168\n",
              "Liverpool FC              5545153.34686\n",
              "Chelsea FC                5514080.42895\n",
              "Manchester City           5296486.85897\n",
              "RB Leipzig                5098491.22807\n",
              "Wolverhampton Wanderers   4954311.34565\n",
              "Birmingham City           4913016.16162\n",
              "FC Internazionale         4845900.00000\n",
              "Southampton FC            4811810.22727\n",
              "Olympique Lyon            4678441.69014\n",
              "Juventus FC               4363311.33501\n",
              "Name: transfer_fee_amnt, dtype: float64"
            ]
          },
          "metadata": {},
          "execution_count": 188
        }
      ],
      "source": [
        "#find out how transfer fee is affected by the type of buying club\n",
        "df.groupby(['team_name'])['transfer_fee_amnt'].mean().sort_values(ascending=False).head(20)"
      ]
    },
    {
      "cell_type": "markdown",
      "source": [
        "Bacelona has the highest average net spend followed by Real Madrid which is not at all suprising. It is however quite odd to note that AS Bari and Navel de Maio are placed so high up even though they have not been in the tier 1 league of their respective countries for some time now. It is entirely possible that they have only 1 or 2 recorded transfers in the whole dataset which were high in value."
      ],
      "metadata": {
        "id": "ujW5oQzHYpaU"
      }
    },
    {
      "cell_type": "markdown",
      "source": [
        "#**Investigative Analysis & Results**"
      ],
      "metadata": {
        "id": "INSH7T2Ob3pf"
      }
    },
    {
      "cell_type": "markdown",
      "metadata": {
        "id": "40F5KqNeRmQe"
      },
      "source": [
        "##**Dimensionality reduction**"
      ]
    },
    {
      "cell_type": "code",
      "execution_count": 189,
      "metadata": {
        "id": "Ci0s5eMyRshx"
      },
      "outputs": [],
      "source": [
        "#drop team id, player id, transfer id since they were filler columns made by the data collection site\n",
        "df.drop(['team_id','player_id','transfer_id'],axis = 1, inplace = True)\n",
        "#drop loan ended due to high correlinearity with the attribute is_loan, and they also explain the same process \n",
        "df.drop(['is_loan_end'],axis = 1, inplace = True)"
      ]
    },
    {
      "cell_type": "markdown",
      "metadata": {
        "id": "pWgjNqAIJ2Ur"
      },
      "source": [
        "##**Data scaling**"
      ]
    },
    {
      "cell_type": "code",
      "execution_count": 190,
      "metadata": {
        "colab": {
          "base_uri": "https://localhost:8080/",
          "height": 357
        },
        "id": "-qpaaPV3Qj2q",
        "outputId": "d4808ddb-f996-4e5e-fab8-0662b36d5faf"
      },
      "outputs": [
        {
          "output_type": "execute_result",
          "data": {
            "text/plain": [
              "  league  season window          team_name team_country dir       player_name  \\\n",
              "0    GB1 0.00000      s  Manchester United      England  in  Antonio Valencia   \n",
              "1    GB1 0.00000      s  Manchester United      England  in        Mame Diouf   \n",
              "2    GB1 0.00000      s  Manchester United      England  in   Gabriel Obertan   \n",
              "3    GB1 0.00000      s  Manchester United      England  in      Michael Owen   \n",
              "4    GB1 0.00000      s  Manchester United      England  in     Scott Moffatt   \n",
              "\n",
              "   player_age player_nation player_pos counter_team_id      counter_team_name  \\\n",
              "0     0.34375       Ecuador         RB            1071         Wigan Athletic   \n",
              "1     0.28125       Senegal         CF             687               Molde FK   \n",
              "2     0.25000        France         AM              40  FC Girondins Bordeaux   \n",
              "3     0.53125       England         CF             762       Newcastle United   \n",
              "4     0.18750       England         CB            5242  Manchester United U18   \n",
              "\n",
              "  counter_team_country  transfer_fee_amnt  market_val_amnt  is_free  is_loan  \\\n",
              "0              England            0.07520          0.00275    False    False   \n",
              "1               Norway            0.01800          0.00994    False    False   \n",
              "2               France            0.01600          0.00244    False    False   \n",
              "3              England            0.00000          0.00322     True    False   \n",
              "4              England            0.00408          0.00181    False    False   \n",
              "\n",
              "   is_retired  is_expensive  \n",
              "0       False             0  \n",
              "1       False             0  \n",
              "2       False             0  \n",
              "3       False             0  \n",
              "4       False             0  "
            ],
            "text/html": [
              "\n",
              "  <div id=\"df-76f6aaa3-e878-4aa8-ba09-b98fbcab3f3f\">\n",
              "    <div class=\"colab-df-container\">\n",
              "      <div>\n",
              "<style scoped>\n",
              "    .dataframe tbody tr th:only-of-type {\n",
              "        vertical-align: middle;\n",
              "    }\n",
              "\n",
              "    .dataframe tbody tr th {\n",
              "        vertical-align: top;\n",
              "    }\n",
              "\n",
              "    .dataframe thead th {\n",
              "        text-align: right;\n",
              "    }\n",
              "</style>\n",
              "<table border=\"1\" class=\"dataframe\">\n",
              "  <thead>\n",
              "    <tr style=\"text-align: right;\">\n",
              "      <th></th>\n",
              "      <th>league</th>\n",
              "      <th>season</th>\n",
              "      <th>window</th>\n",
              "      <th>team_name</th>\n",
              "      <th>team_country</th>\n",
              "      <th>dir</th>\n",
              "      <th>player_name</th>\n",
              "      <th>player_age</th>\n",
              "      <th>player_nation</th>\n",
              "      <th>player_pos</th>\n",
              "      <th>counter_team_id</th>\n",
              "      <th>counter_team_name</th>\n",
              "      <th>counter_team_country</th>\n",
              "      <th>transfer_fee_amnt</th>\n",
              "      <th>market_val_amnt</th>\n",
              "      <th>is_free</th>\n",
              "      <th>is_loan</th>\n",
              "      <th>is_retired</th>\n",
              "      <th>is_expensive</th>\n",
              "    </tr>\n",
              "  </thead>\n",
              "  <tbody>\n",
              "    <tr>\n",
              "      <th>0</th>\n",
              "      <td>GB1</td>\n",
              "      <td>0.00000</td>\n",
              "      <td>s</td>\n",
              "      <td>Manchester United</td>\n",
              "      <td>England</td>\n",
              "      <td>in</td>\n",
              "      <td>Antonio Valencia</td>\n",
              "      <td>0.34375</td>\n",
              "      <td>Ecuador</td>\n",
              "      <td>RB</td>\n",
              "      <td>1071</td>\n",
              "      <td>Wigan Athletic</td>\n",
              "      <td>England</td>\n",
              "      <td>0.07520</td>\n",
              "      <td>0.00275</td>\n",
              "      <td>False</td>\n",
              "      <td>False</td>\n",
              "      <td>False</td>\n",
              "      <td>0</td>\n",
              "    </tr>\n",
              "    <tr>\n",
              "      <th>1</th>\n",
              "      <td>GB1</td>\n",
              "      <td>0.00000</td>\n",
              "      <td>s</td>\n",
              "      <td>Manchester United</td>\n",
              "      <td>England</td>\n",
              "      <td>in</td>\n",
              "      <td>Mame Diouf</td>\n",
              "      <td>0.28125</td>\n",
              "      <td>Senegal</td>\n",
              "      <td>CF</td>\n",
              "      <td>687</td>\n",
              "      <td>Molde FK</td>\n",
              "      <td>Norway</td>\n",
              "      <td>0.01800</td>\n",
              "      <td>0.00994</td>\n",
              "      <td>False</td>\n",
              "      <td>False</td>\n",
              "      <td>False</td>\n",
              "      <td>0</td>\n",
              "    </tr>\n",
              "    <tr>\n",
              "      <th>2</th>\n",
              "      <td>GB1</td>\n",
              "      <td>0.00000</td>\n",
              "      <td>s</td>\n",
              "      <td>Manchester United</td>\n",
              "      <td>England</td>\n",
              "      <td>in</td>\n",
              "      <td>Gabriel Obertan</td>\n",
              "      <td>0.25000</td>\n",
              "      <td>France</td>\n",
              "      <td>AM</td>\n",
              "      <td>40</td>\n",
              "      <td>FC Girondins Bordeaux</td>\n",
              "      <td>France</td>\n",
              "      <td>0.01600</td>\n",
              "      <td>0.00244</td>\n",
              "      <td>False</td>\n",
              "      <td>False</td>\n",
              "      <td>False</td>\n",
              "      <td>0</td>\n",
              "    </tr>\n",
              "    <tr>\n",
              "      <th>3</th>\n",
              "      <td>GB1</td>\n",
              "      <td>0.00000</td>\n",
              "      <td>s</td>\n",
              "      <td>Manchester United</td>\n",
              "      <td>England</td>\n",
              "      <td>in</td>\n",
              "      <td>Michael Owen</td>\n",
              "      <td>0.53125</td>\n",
              "      <td>England</td>\n",
              "      <td>CF</td>\n",
              "      <td>762</td>\n",
              "      <td>Newcastle United</td>\n",
              "      <td>England</td>\n",
              "      <td>0.00000</td>\n",
              "      <td>0.00322</td>\n",
              "      <td>True</td>\n",
              "      <td>False</td>\n",
              "      <td>False</td>\n",
              "      <td>0</td>\n",
              "    </tr>\n",
              "    <tr>\n",
              "      <th>4</th>\n",
              "      <td>GB1</td>\n",
              "      <td>0.00000</td>\n",
              "      <td>s</td>\n",
              "      <td>Manchester United</td>\n",
              "      <td>England</td>\n",
              "      <td>in</td>\n",
              "      <td>Scott Moffatt</td>\n",
              "      <td>0.18750</td>\n",
              "      <td>England</td>\n",
              "      <td>CB</td>\n",
              "      <td>5242</td>\n",
              "      <td>Manchester United U18</td>\n",
              "      <td>England</td>\n",
              "      <td>0.00408</td>\n",
              "      <td>0.00181</td>\n",
              "      <td>False</td>\n",
              "      <td>False</td>\n",
              "      <td>False</td>\n",
              "      <td>0</td>\n",
              "    </tr>\n",
              "  </tbody>\n",
              "</table>\n",
              "</div>\n",
              "      <button class=\"colab-df-convert\" onclick=\"convertToInteractive('df-76f6aaa3-e878-4aa8-ba09-b98fbcab3f3f')\"\n",
              "              title=\"Convert this dataframe to an interactive table.\"\n",
              "              style=\"display:none;\">\n",
              "        \n",
              "  <svg xmlns=\"http://www.w3.org/2000/svg\" height=\"24px\"viewBox=\"0 0 24 24\"\n",
              "       width=\"24px\">\n",
              "    <path d=\"M0 0h24v24H0V0z\" fill=\"none\"/>\n",
              "    <path d=\"M18.56 5.44l.94 2.06.94-2.06 2.06-.94-2.06-.94-.94-2.06-.94 2.06-2.06.94zm-11 1L8.5 8.5l.94-2.06 2.06-.94-2.06-.94L8.5 2.5l-.94 2.06-2.06.94zm10 10l.94 2.06.94-2.06 2.06-.94-2.06-.94-.94-2.06-.94 2.06-2.06.94z\"/><path d=\"M17.41 7.96l-1.37-1.37c-.4-.4-.92-.59-1.43-.59-.52 0-1.04.2-1.43.59L10.3 9.45l-7.72 7.72c-.78.78-.78 2.05 0 2.83L4 21.41c.39.39.9.59 1.41.59.51 0 1.02-.2 1.41-.59l7.78-7.78 2.81-2.81c.8-.78.8-2.07 0-2.86zM5.41 20L4 18.59l7.72-7.72 1.47 1.35L5.41 20z\"/>\n",
              "  </svg>\n",
              "      </button>\n",
              "      \n",
              "  <style>\n",
              "    .colab-df-container {\n",
              "      display:flex;\n",
              "      flex-wrap:wrap;\n",
              "      gap: 12px;\n",
              "    }\n",
              "\n",
              "    .colab-df-convert {\n",
              "      background-color: #E8F0FE;\n",
              "      border: none;\n",
              "      border-radius: 50%;\n",
              "      cursor: pointer;\n",
              "      display: none;\n",
              "      fill: #1967D2;\n",
              "      height: 32px;\n",
              "      padding: 0 0 0 0;\n",
              "      width: 32px;\n",
              "    }\n",
              "\n",
              "    .colab-df-convert:hover {\n",
              "      background-color: #E2EBFA;\n",
              "      box-shadow: 0px 1px 2px rgba(60, 64, 67, 0.3), 0px 1px 3px 1px rgba(60, 64, 67, 0.15);\n",
              "      fill: #174EA6;\n",
              "    }\n",
              "\n",
              "    [theme=dark] .colab-df-convert {\n",
              "      background-color: #3B4455;\n",
              "      fill: #D2E3FC;\n",
              "    }\n",
              "\n",
              "    [theme=dark] .colab-df-convert:hover {\n",
              "      background-color: #434B5C;\n",
              "      box-shadow: 0px 1px 3px 1px rgba(0, 0, 0, 0.15);\n",
              "      filter: drop-shadow(0px 1px 2px rgba(0, 0, 0, 0.3));\n",
              "      fill: #FFFFFF;\n",
              "    }\n",
              "  </style>\n",
              "\n",
              "      <script>\n",
              "        const buttonEl =\n",
              "          document.querySelector('#df-76f6aaa3-e878-4aa8-ba09-b98fbcab3f3f button.colab-df-convert');\n",
              "        buttonEl.style.display =\n",
              "          google.colab.kernel.accessAllowed ? 'block' : 'none';\n",
              "\n",
              "        async function convertToInteractive(key) {\n",
              "          const element = document.querySelector('#df-76f6aaa3-e878-4aa8-ba09-b98fbcab3f3f');\n",
              "          const dataTable =\n",
              "            await google.colab.kernel.invokeFunction('convertToInteractive',\n",
              "                                                     [key], {});\n",
              "          if (!dataTable) return;\n",
              "\n",
              "          const docLinkHtml = 'Like what you see? Visit the ' +\n",
              "            '<a target=\"_blank\" href=https://colab.research.google.com/notebooks/data_table.ipynb>data table notebook</a>'\n",
              "            + ' to learn more about interactive tables.';\n",
              "          element.innerHTML = '';\n",
              "          dataTable['output_type'] = 'display_data';\n",
              "          await google.colab.output.renderOutput(dataTable, element);\n",
              "          const docLink = document.createElement('div');\n",
              "          docLink.innerHTML = docLinkHtml;\n",
              "          element.appendChild(docLink);\n",
              "        }\n",
              "      </script>\n",
              "    </div>\n",
              "  </div>\n",
              "  "
            ]
          },
          "metadata": {},
          "execution_count": 190
        }
      ],
      "source": [
        "# apply minmax scaler to numeric columns\n",
        "# transform season ,player_age, transfer_fee_amnt, and market_val_amnt column.\n",
        "from sklearn.preprocessing import MinMaxScaler\n",
        "scaler = MinMaxScaler()\n",
        "cols = ['season' ,'player_age', 'transfer_fee_amnt','market_val_amnt'\t]\n",
        "for col in cols:\n",
        "  df[col] = scaler.fit_transform(df[col].to_numpy().reshape(-1,1))\n",
        "\n",
        "df.head()"
      ]
    },
    {
      "cell_type": "code",
      "execution_count": 191,
      "metadata": {
        "colab": {
          "base_uri": "https://localhost:8080/"
        },
        "id": "1MgycDOO3fsG",
        "outputId": "329c8e68-c4d1-4145-a121-50284b5a72ba"
      },
      "outputs": [
        {
          "output_type": "execute_result",
          "data": {
            "text/plain": [
              "(69970, 19)"
            ]
          },
          "metadata": {},
          "execution_count": 191
        }
      ],
      "source": [
        "df.shape"
      ]
    },
    {
      "cell_type": "code",
      "execution_count": 192,
      "metadata": {
        "colab": {
          "base_uri": "https://localhost:8080/"
        },
        "id": "2uER-ulI2n8P",
        "outputId": "14f3d103-b113-4c3d-b3cc-4d839a8c6ee6"
      },
      "outputs": [
        {
          "output_type": "execute_result",
          "data": {
            "text/plain": [
              "[[(31385.210785311658, 0.0), 6],\n",
              " [(13420.388276682932, 0.0), 14],\n",
              " [(10282.97571596667, 0.0), 18],\n",
              " [(6040.557700203247, 3.1518372903929014e-259), 13],\n",
              " [(5480.868522973314, 1.3913018223738175e-81), 11],\n",
              " [(5087.534842718756, 3.607499810244382e-75), 10],\n",
              " [(3837.170428188727, 0.0), 3],\n",
              " [(2386.2793548933128, 0.0), 1],\n",
              " [(881.5723348878364, 3.6173975226835473e-187), 4],\n",
              " [(881.5723348878363, 3.617397522683753e-187), 0],\n",
              " [(745.0622942022073, 6.3837588277825235e-74), 8],\n",
              " [(604.0273628649704, 3.2417342453357154e-64), 12],\n",
              " [(390.42222085504915, 1.5680194181432652e-59), 7],\n",
              " [(273.8911617203827, 1.61016186579778e-61), 15],\n",
              " [(77.17640185789494, 2.284217569178774e-10), 9],\n",
              " [(36.01128983691709, 1.9617757692976283e-09), 5],\n",
              " [(7.45157308477986, 0.006338103204801083), 17],\n",
              " [(5.071504271173341, 0.0243222682112187), 2],\n",
              " [(3.679276356867687, 0.05509275621785814), 16]]"
            ]
          },
          "metadata": {},
          "execution_count": 192
        }
      ],
      "source": [
        "from scipy import stats\n",
        "\n",
        "#perform chi-square test\n",
        "target=df['is_expensive'].reset_index(drop=True).copy()\n",
        "chi_sq=[]\n",
        "for i in range(0,19):\n",
        "    chi_sq.append([stats.chi2_contingency(pd.crosstab(target, df.iloc[:,i]))[0:2],i])\n",
        "#chi_sq\n",
        "chi_sq.sort(reverse=True)\n",
        "chi_sq"
      ]
    },
    {
      "cell_type": "code",
      "execution_count": 193,
      "metadata": {
        "colab": {
          "base_uri": "https://localhost:8080/"
        },
        "id": "o1My4INy6LWn",
        "outputId": "4dc78307-2544-4de4-c655-1659e338764f"
      },
      "outputs": [
        {
          "output_type": "execute_result",
          "data": {
            "text/plain": [
              "league                   object\n",
              "season                  float64\n",
              "window                   object\n",
              "team_name                object\n",
              "team_country             object\n",
              "dir                      object\n",
              "player_name              object\n",
              "player_age              float64\n",
              "player_nation            object\n",
              "player_pos               object\n",
              "counter_team_id          object\n",
              "counter_team_name        object\n",
              "counter_team_country     object\n",
              "transfer_fee_amnt       float64\n",
              "market_val_amnt         float64\n",
              "is_free                    bool\n",
              "is_loan                    bool\n",
              "is_retired                 bool\n",
              "is_expensive              int64\n",
              "dtype: object"
            ]
          },
          "metadata": {},
          "execution_count": 193
        }
      ],
      "source": [
        "# check the types\n",
        "df.dtypes"
      ]
    },
    {
      "cell_type": "code",
      "execution_count": 194,
      "metadata": {
        "id": "mjeNk4rh6CJa"
      },
      "outputs": [],
      "source": [
        "# turn categorical into numeric by using labelencoder\n",
        "from sklearn.preprocessing import LabelEncoder\n",
        "\n",
        "lb = LabelEncoder()\n",
        "df['league']=lb.fit_transform(df['league'])\n",
        "df['window']=lb.fit_transform(df['window'])\n",
        "df['team_name']=lb.fit_transform(df['team_name'])\n",
        "df['team_country']=lb.fit_transform(df['team_country'])\n",
        "df['player_nation']=lb.fit_transform(df['player_nation'])\n",
        "df['dir']=lb.fit_transform(df['dir'])\n",
        "df['player_name']=lb.fit_transform(df['player_name'])\n",
        "df['player_pos']=lb.fit_transform(df['player_pos'])\n",
        "df['counter_team_id']=lb.fit_transform(df['counter_team_id'])\n",
        "df['counter_team_name']=lb.fit_transform(df['counter_team_name'])\n",
        "df['counter_team_country']=lb.fit_transform(df['counter_team_country'])\n"
      ]
    },
    {
      "cell_type": "code",
      "execution_count": 195,
      "metadata": {
        "colab": {
          "base_uri": "https://localhost:8080/",
          "height": 270
        },
        "id": "-xnsOgLnUn7W",
        "outputId": "128de52a-dc44-4a0a-a9c2-35cc104c3704"
      },
      "outputs": [
        {
          "output_type": "execute_result",
          "data": {
            "text/plain": [
              "   league  season  window  team_name  team_country  dir  player_name  \\\n",
              "0       2 0.00000       0        137             0    0         1478   \n",
              "1       2 0.00000       0        137             0    0        10033   \n",
              "2       2 0.00000       0        137             0    0         5587   \n",
              "3       2 0.00000       0        137             0    0        11323   \n",
              "4       2 0.00000       0        137             0    0        14666   \n",
              "\n",
              "   player_age  player_nation  player_pos  counter_team_id  counter_team_name  \\\n",
              "0     0.34375             45           9              109               3540   \n",
              "1     0.28125            135           2             2826               2224   \n",
              "2     0.25000             54           0             2051               1343   \n",
              "3     0.53125             48           2             2978               2330   \n",
              "4     0.18750             48           1             2481               2180   \n",
              "\n",
              "   counter_team_country  transfer_fee_amnt  market_val_amnt  is_free  is_loan  \\\n",
              "0                    35            0.07520          0.00275    False    False   \n",
              "1                    83            0.01800          0.00994    False    False   \n",
              "2                    38            0.01600          0.00244    False    False   \n",
              "3                    35            0.00000          0.00322     True    False   \n",
              "4                    35            0.00408          0.00181    False    False   \n",
              "\n",
              "   is_retired  is_expensive  \n",
              "0       False             0  \n",
              "1       False             0  \n",
              "2       False             0  \n",
              "3       False             0  \n",
              "4       False             0  "
            ],
            "text/html": [
              "\n",
              "  <div id=\"df-c68d40fc-0033-4061-91e8-fa0740089573\">\n",
              "    <div class=\"colab-df-container\">\n",
              "      <div>\n",
              "<style scoped>\n",
              "    .dataframe tbody tr th:only-of-type {\n",
              "        vertical-align: middle;\n",
              "    }\n",
              "\n",
              "    .dataframe tbody tr th {\n",
              "        vertical-align: top;\n",
              "    }\n",
              "\n",
              "    .dataframe thead th {\n",
              "        text-align: right;\n",
              "    }\n",
              "</style>\n",
              "<table border=\"1\" class=\"dataframe\">\n",
              "  <thead>\n",
              "    <tr style=\"text-align: right;\">\n",
              "      <th></th>\n",
              "      <th>league</th>\n",
              "      <th>season</th>\n",
              "      <th>window</th>\n",
              "      <th>team_name</th>\n",
              "      <th>team_country</th>\n",
              "      <th>dir</th>\n",
              "      <th>player_name</th>\n",
              "      <th>player_age</th>\n",
              "      <th>player_nation</th>\n",
              "      <th>player_pos</th>\n",
              "      <th>counter_team_id</th>\n",
              "      <th>counter_team_name</th>\n",
              "      <th>counter_team_country</th>\n",
              "      <th>transfer_fee_amnt</th>\n",
              "      <th>market_val_amnt</th>\n",
              "      <th>is_free</th>\n",
              "      <th>is_loan</th>\n",
              "      <th>is_retired</th>\n",
              "      <th>is_expensive</th>\n",
              "    </tr>\n",
              "  </thead>\n",
              "  <tbody>\n",
              "    <tr>\n",
              "      <th>0</th>\n",
              "      <td>2</td>\n",
              "      <td>0.00000</td>\n",
              "      <td>0</td>\n",
              "      <td>137</td>\n",
              "      <td>0</td>\n",
              "      <td>0</td>\n",
              "      <td>1478</td>\n",
              "      <td>0.34375</td>\n",
              "      <td>45</td>\n",
              "      <td>9</td>\n",
              "      <td>109</td>\n",
              "      <td>3540</td>\n",
              "      <td>35</td>\n",
              "      <td>0.07520</td>\n",
              "      <td>0.00275</td>\n",
              "      <td>False</td>\n",
              "      <td>False</td>\n",
              "      <td>False</td>\n",
              "      <td>0</td>\n",
              "    </tr>\n",
              "    <tr>\n",
              "      <th>1</th>\n",
              "      <td>2</td>\n",
              "      <td>0.00000</td>\n",
              "      <td>0</td>\n",
              "      <td>137</td>\n",
              "      <td>0</td>\n",
              "      <td>0</td>\n",
              "      <td>10033</td>\n",
              "      <td>0.28125</td>\n",
              "      <td>135</td>\n",
              "      <td>2</td>\n",
              "      <td>2826</td>\n",
              "      <td>2224</td>\n",
              "      <td>83</td>\n",
              "      <td>0.01800</td>\n",
              "      <td>0.00994</td>\n",
              "      <td>False</td>\n",
              "      <td>False</td>\n",
              "      <td>False</td>\n",
              "      <td>0</td>\n",
              "    </tr>\n",
              "    <tr>\n",
              "      <th>2</th>\n",
              "      <td>2</td>\n",
              "      <td>0.00000</td>\n",
              "      <td>0</td>\n",
              "      <td>137</td>\n",
              "      <td>0</td>\n",
              "      <td>0</td>\n",
              "      <td>5587</td>\n",
              "      <td>0.25000</td>\n",
              "      <td>54</td>\n",
              "      <td>0</td>\n",
              "      <td>2051</td>\n",
              "      <td>1343</td>\n",
              "      <td>38</td>\n",
              "      <td>0.01600</td>\n",
              "      <td>0.00244</td>\n",
              "      <td>False</td>\n",
              "      <td>False</td>\n",
              "      <td>False</td>\n",
              "      <td>0</td>\n",
              "    </tr>\n",
              "    <tr>\n",
              "      <th>3</th>\n",
              "      <td>2</td>\n",
              "      <td>0.00000</td>\n",
              "      <td>0</td>\n",
              "      <td>137</td>\n",
              "      <td>0</td>\n",
              "      <td>0</td>\n",
              "      <td>11323</td>\n",
              "      <td>0.53125</td>\n",
              "      <td>48</td>\n",
              "      <td>2</td>\n",
              "      <td>2978</td>\n",
              "      <td>2330</td>\n",
              "      <td>35</td>\n",
              "      <td>0.00000</td>\n",
              "      <td>0.00322</td>\n",
              "      <td>True</td>\n",
              "      <td>False</td>\n",
              "      <td>False</td>\n",
              "      <td>0</td>\n",
              "    </tr>\n",
              "    <tr>\n",
              "      <th>4</th>\n",
              "      <td>2</td>\n",
              "      <td>0.00000</td>\n",
              "      <td>0</td>\n",
              "      <td>137</td>\n",
              "      <td>0</td>\n",
              "      <td>0</td>\n",
              "      <td>14666</td>\n",
              "      <td>0.18750</td>\n",
              "      <td>48</td>\n",
              "      <td>1</td>\n",
              "      <td>2481</td>\n",
              "      <td>2180</td>\n",
              "      <td>35</td>\n",
              "      <td>0.00408</td>\n",
              "      <td>0.00181</td>\n",
              "      <td>False</td>\n",
              "      <td>False</td>\n",
              "      <td>False</td>\n",
              "      <td>0</td>\n",
              "    </tr>\n",
              "  </tbody>\n",
              "</table>\n",
              "</div>\n",
              "      <button class=\"colab-df-convert\" onclick=\"convertToInteractive('df-c68d40fc-0033-4061-91e8-fa0740089573')\"\n",
              "              title=\"Convert this dataframe to an interactive table.\"\n",
              "              style=\"display:none;\">\n",
              "        \n",
              "  <svg xmlns=\"http://www.w3.org/2000/svg\" height=\"24px\"viewBox=\"0 0 24 24\"\n",
              "       width=\"24px\">\n",
              "    <path d=\"M0 0h24v24H0V0z\" fill=\"none\"/>\n",
              "    <path d=\"M18.56 5.44l.94 2.06.94-2.06 2.06-.94-2.06-.94-.94-2.06-.94 2.06-2.06.94zm-11 1L8.5 8.5l.94-2.06 2.06-.94-2.06-.94L8.5 2.5l-.94 2.06-2.06.94zm10 10l.94 2.06.94-2.06 2.06-.94-2.06-.94-.94-2.06-.94 2.06-2.06.94z\"/><path d=\"M17.41 7.96l-1.37-1.37c-.4-.4-.92-.59-1.43-.59-.52 0-1.04.2-1.43.59L10.3 9.45l-7.72 7.72c-.78.78-.78 2.05 0 2.83L4 21.41c.39.39.9.59 1.41.59.51 0 1.02-.2 1.41-.59l7.78-7.78 2.81-2.81c.8-.78.8-2.07 0-2.86zM5.41 20L4 18.59l7.72-7.72 1.47 1.35L5.41 20z\"/>\n",
              "  </svg>\n",
              "      </button>\n",
              "      \n",
              "  <style>\n",
              "    .colab-df-container {\n",
              "      display:flex;\n",
              "      flex-wrap:wrap;\n",
              "      gap: 12px;\n",
              "    }\n",
              "\n",
              "    .colab-df-convert {\n",
              "      background-color: #E8F0FE;\n",
              "      border: none;\n",
              "      border-radius: 50%;\n",
              "      cursor: pointer;\n",
              "      display: none;\n",
              "      fill: #1967D2;\n",
              "      height: 32px;\n",
              "      padding: 0 0 0 0;\n",
              "      width: 32px;\n",
              "    }\n",
              "\n",
              "    .colab-df-convert:hover {\n",
              "      background-color: #E2EBFA;\n",
              "      box-shadow: 0px 1px 2px rgba(60, 64, 67, 0.3), 0px 1px 3px 1px rgba(60, 64, 67, 0.15);\n",
              "      fill: #174EA6;\n",
              "    }\n",
              "\n",
              "    [theme=dark] .colab-df-convert {\n",
              "      background-color: #3B4455;\n",
              "      fill: #D2E3FC;\n",
              "    }\n",
              "\n",
              "    [theme=dark] .colab-df-convert:hover {\n",
              "      background-color: #434B5C;\n",
              "      box-shadow: 0px 1px 3px 1px rgba(0, 0, 0, 0.15);\n",
              "      filter: drop-shadow(0px 1px 2px rgba(0, 0, 0, 0.3));\n",
              "      fill: #FFFFFF;\n",
              "    }\n",
              "  </style>\n",
              "\n",
              "      <script>\n",
              "        const buttonEl =\n",
              "          document.querySelector('#df-c68d40fc-0033-4061-91e8-fa0740089573 button.colab-df-convert');\n",
              "        buttonEl.style.display =\n",
              "          google.colab.kernel.accessAllowed ? 'block' : 'none';\n",
              "\n",
              "        async function convertToInteractive(key) {\n",
              "          const element = document.querySelector('#df-c68d40fc-0033-4061-91e8-fa0740089573');\n",
              "          const dataTable =\n",
              "            await google.colab.kernel.invokeFunction('convertToInteractive',\n",
              "                                                     [key], {});\n",
              "          if (!dataTable) return;\n",
              "\n",
              "          const docLinkHtml = 'Like what you see? Visit the ' +\n",
              "            '<a target=\"_blank\" href=https://colab.research.google.com/notebooks/data_table.ipynb>data table notebook</a>'\n",
              "            + ' to learn more about interactive tables.';\n",
              "          element.innerHTML = '';\n",
              "          dataTable['output_type'] = 'display_data';\n",
              "          await google.colab.output.renderOutput(dataTable, element);\n",
              "          const docLink = document.createElement('div');\n",
              "          docLink.innerHTML = docLinkHtml;\n",
              "          element.appendChild(docLink);\n",
              "        }\n",
              "      </script>\n",
              "    </div>\n",
              "  </div>\n",
              "  "
            ]
          },
          "metadata": {},
          "execution_count": 195
        }
      ],
      "source": [
        "df.head()"
      ]
    },
    {
      "cell_type": "code",
      "execution_count": 196,
      "metadata": {
        "colab": {
          "base_uri": "https://localhost:8080/",
          "height": 270
        },
        "id": "uAopVC7pd2KG",
        "outputId": "7298fc0f-45e6-40b0-ee35-10e69a9bb6ce"
      },
      "outputs": [
        {
          "output_type": "execute_result",
          "data": {
            "text/plain": [
              "   league  season  window  team_name  team_country     dir  player_name  \\\n",
              "0 0.33333 0.00000 0.00000    0.56612       0.00000 0.00000      0.08643   \n",
              "1 0.33333 0.00000 0.00000    0.56612       0.00000 0.00000      0.58669   \n",
              "2 0.33333 0.00000 0.00000    0.56612       0.00000 0.00000      0.32671   \n",
              "3 0.33333 0.00000 0.00000    0.56612       0.00000 0.00000      0.66213   \n",
              "4 0.33333 0.00000 0.00000    0.56612       0.00000 0.00000      0.85761   \n",
              "\n",
              "   player_age  player_nation  player_pos  counter_team_id  counter_team_name  \\\n",
              "0     0.34375        0.26946     0.60000          0.03247            0.98115   \n",
              "1     0.28125        0.80838     0.13333          0.84182            0.61641   \n",
              "2     0.25000        0.32335     0.00000          0.61096            0.37223   \n",
              "3     0.53125        0.28743     0.13333          0.88710            0.64579   \n",
              "4     0.18750        0.28743     0.06667          0.73905            0.60421   \n",
              "\n",
              "   counter_team_country  transfer_fee_amnt  market_val_amnt  is_free  is_loan  \\\n",
              "0               0.28226            0.07520          0.00275  0.00000  0.00000   \n",
              "1               0.66935            0.01800          0.00994  0.00000  0.00000   \n",
              "2               0.30645            0.01600          0.00244  0.00000  0.00000   \n",
              "3               0.28226            0.00000          0.00322  1.00000  0.00000   \n",
              "4               0.28226            0.00408          0.00181  0.00000  0.00000   \n",
              "\n",
              "   is_retired  is_expensive  \n",
              "0     0.00000       0.00000  \n",
              "1     0.00000       0.00000  \n",
              "2     0.00000       0.00000  \n",
              "3     0.00000       0.00000  \n",
              "4     0.00000       0.00000  "
            ],
            "text/html": [
              "\n",
              "  <div id=\"df-47e79b6a-f4ef-43c5-af83-97d2c6420a4b\">\n",
              "    <div class=\"colab-df-container\">\n",
              "      <div>\n",
              "<style scoped>\n",
              "    .dataframe tbody tr th:only-of-type {\n",
              "        vertical-align: middle;\n",
              "    }\n",
              "\n",
              "    .dataframe tbody tr th {\n",
              "        vertical-align: top;\n",
              "    }\n",
              "\n",
              "    .dataframe thead th {\n",
              "        text-align: right;\n",
              "    }\n",
              "</style>\n",
              "<table border=\"1\" class=\"dataframe\">\n",
              "  <thead>\n",
              "    <tr style=\"text-align: right;\">\n",
              "      <th></th>\n",
              "      <th>league</th>\n",
              "      <th>season</th>\n",
              "      <th>window</th>\n",
              "      <th>team_name</th>\n",
              "      <th>team_country</th>\n",
              "      <th>dir</th>\n",
              "      <th>player_name</th>\n",
              "      <th>player_age</th>\n",
              "      <th>player_nation</th>\n",
              "      <th>player_pos</th>\n",
              "      <th>counter_team_id</th>\n",
              "      <th>counter_team_name</th>\n",
              "      <th>counter_team_country</th>\n",
              "      <th>transfer_fee_amnt</th>\n",
              "      <th>market_val_amnt</th>\n",
              "      <th>is_free</th>\n",
              "      <th>is_loan</th>\n",
              "      <th>is_retired</th>\n",
              "      <th>is_expensive</th>\n",
              "    </tr>\n",
              "  </thead>\n",
              "  <tbody>\n",
              "    <tr>\n",
              "      <th>0</th>\n",
              "      <td>0.33333</td>\n",
              "      <td>0.00000</td>\n",
              "      <td>0.00000</td>\n",
              "      <td>0.56612</td>\n",
              "      <td>0.00000</td>\n",
              "      <td>0.00000</td>\n",
              "      <td>0.08643</td>\n",
              "      <td>0.34375</td>\n",
              "      <td>0.26946</td>\n",
              "      <td>0.60000</td>\n",
              "      <td>0.03247</td>\n",
              "      <td>0.98115</td>\n",
              "      <td>0.28226</td>\n",
              "      <td>0.07520</td>\n",
              "      <td>0.00275</td>\n",
              "      <td>0.00000</td>\n",
              "      <td>0.00000</td>\n",
              "      <td>0.00000</td>\n",
              "      <td>0.00000</td>\n",
              "    </tr>\n",
              "    <tr>\n",
              "      <th>1</th>\n",
              "      <td>0.33333</td>\n",
              "      <td>0.00000</td>\n",
              "      <td>0.00000</td>\n",
              "      <td>0.56612</td>\n",
              "      <td>0.00000</td>\n",
              "      <td>0.00000</td>\n",
              "      <td>0.58669</td>\n",
              "      <td>0.28125</td>\n",
              "      <td>0.80838</td>\n",
              "      <td>0.13333</td>\n",
              "      <td>0.84182</td>\n",
              "      <td>0.61641</td>\n",
              "      <td>0.66935</td>\n",
              "      <td>0.01800</td>\n",
              "      <td>0.00994</td>\n",
              "      <td>0.00000</td>\n",
              "      <td>0.00000</td>\n",
              "      <td>0.00000</td>\n",
              "      <td>0.00000</td>\n",
              "    </tr>\n",
              "    <tr>\n",
              "      <th>2</th>\n",
              "      <td>0.33333</td>\n",
              "      <td>0.00000</td>\n",
              "      <td>0.00000</td>\n",
              "      <td>0.56612</td>\n",
              "      <td>0.00000</td>\n",
              "      <td>0.00000</td>\n",
              "      <td>0.32671</td>\n",
              "      <td>0.25000</td>\n",
              "      <td>0.32335</td>\n",
              "      <td>0.00000</td>\n",
              "      <td>0.61096</td>\n",
              "      <td>0.37223</td>\n",
              "      <td>0.30645</td>\n",
              "      <td>0.01600</td>\n",
              "      <td>0.00244</td>\n",
              "      <td>0.00000</td>\n",
              "      <td>0.00000</td>\n",
              "      <td>0.00000</td>\n",
              "      <td>0.00000</td>\n",
              "    </tr>\n",
              "    <tr>\n",
              "      <th>3</th>\n",
              "      <td>0.33333</td>\n",
              "      <td>0.00000</td>\n",
              "      <td>0.00000</td>\n",
              "      <td>0.56612</td>\n",
              "      <td>0.00000</td>\n",
              "      <td>0.00000</td>\n",
              "      <td>0.66213</td>\n",
              "      <td>0.53125</td>\n",
              "      <td>0.28743</td>\n",
              "      <td>0.13333</td>\n",
              "      <td>0.88710</td>\n",
              "      <td>0.64579</td>\n",
              "      <td>0.28226</td>\n",
              "      <td>0.00000</td>\n",
              "      <td>0.00322</td>\n",
              "      <td>1.00000</td>\n",
              "      <td>0.00000</td>\n",
              "      <td>0.00000</td>\n",
              "      <td>0.00000</td>\n",
              "    </tr>\n",
              "    <tr>\n",
              "      <th>4</th>\n",
              "      <td>0.33333</td>\n",
              "      <td>0.00000</td>\n",
              "      <td>0.00000</td>\n",
              "      <td>0.56612</td>\n",
              "      <td>0.00000</td>\n",
              "      <td>0.00000</td>\n",
              "      <td>0.85761</td>\n",
              "      <td>0.18750</td>\n",
              "      <td>0.28743</td>\n",
              "      <td>0.06667</td>\n",
              "      <td>0.73905</td>\n",
              "      <td>0.60421</td>\n",
              "      <td>0.28226</td>\n",
              "      <td>0.00408</td>\n",
              "      <td>0.00181</td>\n",
              "      <td>0.00000</td>\n",
              "      <td>0.00000</td>\n",
              "      <td>0.00000</td>\n",
              "      <td>0.00000</td>\n",
              "    </tr>\n",
              "  </tbody>\n",
              "</table>\n",
              "</div>\n",
              "      <button class=\"colab-df-convert\" onclick=\"convertToInteractive('df-47e79b6a-f4ef-43c5-af83-97d2c6420a4b')\"\n",
              "              title=\"Convert this dataframe to an interactive table.\"\n",
              "              style=\"display:none;\">\n",
              "        \n",
              "  <svg xmlns=\"http://www.w3.org/2000/svg\" height=\"24px\"viewBox=\"0 0 24 24\"\n",
              "       width=\"24px\">\n",
              "    <path d=\"M0 0h24v24H0V0z\" fill=\"none\"/>\n",
              "    <path d=\"M18.56 5.44l.94 2.06.94-2.06 2.06-.94-2.06-.94-.94-2.06-.94 2.06-2.06.94zm-11 1L8.5 8.5l.94-2.06 2.06-.94-2.06-.94L8.5 2.5l-.94 2.06-2.06.94zm10 10l.94 2.06.94-2.06 2.06-.94-2.06-.94-.94-2.06-.94 2.06-2.06.94z\"/><path d=\"M17.41 7.96l-1.37-1.37c-.4-.4-.92-.59-1.43-.59-.52 0-1.04.2-1.43.59L10.3 9.45l-7.72 7.72c-.78.78-.78 2.05 0 2.83L4 21.41c.39.39.9.59 1.41.59.51 0 1.02-.2 1.41-.59l7.78-7.78 2.81-2.81c.8-.78.8-2.07 0-2.86zM5.41 20L4 18.59l7.72-7.72 1.47 1.35L5.41 20z\"/>\n",
              "  </svg>\n",
              "      </button>\n",
              "      \n",
              "  <style>\n",
              "    .colab-df-container {\n",
              "      display:flex;\n",
              "      flex-wrap:wrap;\n",
              "      gap: 12px;\n",
              "    }\n",
              "\n",
              "    .colab-df-convert {\n",
              "      background-color: #E8F0FE;\n",
              "      border: none;\n",
              "      border-radius: 50%;\n",
              "      cursor: pointer;\n",
              "      display: none;\n",
              "      fill: #1967D2;\n",
              "      height: 32px;\n",
              "      padding: 0 0 0 0;\n",
              "      width: 32px;\n",
              "    }\n",
              "\n",
              "    .colab-df-convert:hover {\n",
              "      background-color: #E2EBFA;\n",
              "      box-shadow: 0px 1px 2px rgba(60, 64, 67, 0.3), 0px 1px 3px 1px rgba(60, 64, 67, 0.15);\n",
              "      fill: #174EA6;\n",
              "    }\n",
              "\n",
              "    [theme=dark] .colab-df-convert {\n",
              "      background-color: #3B4455;\n",
              "      fill: #D2E3FC;\n",
              "    }\n",
              "\n",
              "    [theme=dark] .colab-df-convert:hover {\n",
              "      background-color: #434B5C;\n",
              "      box-shadow: 0px 1px 3px 1px rgba(0, 0, 0, 0.15);\n",
              "      filter: drop-shadow(0px 1px 2px rgba(0, 0, 0, 0.3));\n",
              "      fill: #FFFFFF;\n",
              "    }\n",
              "  </style>\n",
              "\n",
              "      <script>\n",
              "        const buttonEl =\n",
              "          document.querySelector('#df-47e79b6a-f4ef-43c5-af83-97d2c6420a4b button.colab-df-convert');\n",
              "        buttonEl.style.display =\n",
              "          google.colab.kernel.accessAllowed ? 'block' : 'none';\n",
              "\n",
              "        async function convertToInteractive(key) {\n",
              "          const element = document.querySelector('#df-47e79b6a-f4ef-43c5-af83-97d2c6420a4b');\n",
              "          const dataTable =\n",
              "            await google.colab.kernel.invokeFunction('convertToInteractive',\n",
              "                                                     [key], {});\n",
              "          if (!dataTable) return;\n",
              "\n",
              "          const docLinkHtml = 'Like what you see? Visit the ' +\n",
              "            '<a target=\"_blank\" href=https://colab.research.google.com/notebooks/data_table.ipynb>data table notebook</a>'\n",
              "            + ' to learn more about interactive tables.';\n",
              "          element.innerHTML = '';\n",
              "          dataTable['output_type'] = 'display_data';\n",
              "          await google.colab.output.renderOutput(dataTable, element);\n",
              "          const docLink = document.createElement('div');\n",
              "          docLink.innerHTML = docLinkHtml;\n",
              "          element.appendChild(docLink);\n",
              "        }\n",
              "      </script>\n",
              "    </div>\n",
              "  </div>\n",
              "  "
            ]
          },
          "metadata": {},
          "execution_count": 196
        }
      ],
      "source": [
        "#we use min max scaler to normalize the dataframe\n",
        "from sklearn.preprocessing import MinMaxScaler\n",
        "\n",
        "cols = df.columns\n",
        "scaler = MinMaxScaler()\n",
        "for col in cols:\n",
        "    df[col] = scaler.fit_transform(df[col].to_numpy().reshape(-1, 1))\n",
        "df.head()"
      ]
    },
    {
      "cell_type": "markdown",
      "source": [
        "##**Feature Selection**"
      ],
      "metadata": {
        "id": "-2juVFGEZx0M"
      }
    },
    {
      "cell_type": "code",
      "execution_count": 197,
      "metadata": {
        "colab": {
          "base_uri": "https://localhost:8080/"
        },
        "id": "pzFSZOSS5R_3",
        "outputId": "3fe1d647-5a3f-4527-d4a8-1116d0c4ed25"
      },
      "outputs": [
        {
          "output_type": "stream",
          "name": "stdout",
          "text": [
            "chosen features:  Index(['league', 'season', 'window', 'team_country', 'player_age',\n",
            "       'counter_team_country'],\n",
            "      dtype='object') \n",
            "\n"
          ]
        },
        {
          "output_type": "execute_result",
          "data": {
            "text/plain": [
              "array([5.51040775e+02, 2.54290078e+03, 3.46665393e+01, 7.48863867e+00,\n",
              "       3.45871980e+02, 1.39703120e+00, 1.99113550e+03, 1.14837487e+01,\n",
              "       1.06093112e+01, 7.12132600e+00, 8.69828227e+00, 1.74653113e+02,\n",
              "       9.21473847e+00])"
            ]
          },
          "metadata": {},
          "execution_count": 197
        }
      ],
      "source": [
        "from sklearn.feature_selection import mutual_info_classif\n",
        "# select k best\n",
        "#importing libraries\n",
        "from sklearn.feature_selection import SelectKBest\n",
        "from sklearn.feature_selection import f_regression\n",
        "#declaring target as Total Users column\n",
        "target = df['is_expensive']\n",
        "#dropping Total Users from the features\n",
        "features = df.drop(['is_expensive','market_val_amnt','transfer_fee_amnt','dir','is_free','is_retired'],axis = 1).copy()\n",
        "#fitting the columns into their respective positions\n",
        "select_kbest = SelectKBest(f_regression,k = 6).fit(features,target)\n",
        "features_kbest = select_kbest.get_support()\n",
        "#printing results from kbest\n",
        "print('chosen features: ', features.columns[features_kbest],'\\n')\n",
        "\n",
        "select_kbest.scores_"
      ]
    },
    {
      "cell_type": "markdown",
      "metadata": {
        "id": "-tu8kJlzyhtL"
      },
      "source": [
        "Very interesting to see the features that are outputted here. I would have normally expected to see player position or the counter team name(the team that is selling the player) to be included."
      ]
    },
    {
      "cell_type": "code",
      "execution_count": 198,
      "metadata": {
        "colab": {
          "base_uri": "https://localhost:8080/"
        },
        "id": "t3PX3qie8Mnv",
        "outputId": "c7e2a0e9-d13d-4989-f01c-323306f0c798"
      },
      "outputs": [
        {
          "output_type": "stream",
          "name": "stdout",
          "text": [
            "Index(['league', 'season', 'team_country', 'player_age', 'is_loan'], dtype='object')\n"
          ]
        }
      ],
      "source": [
        "# Recursive Feature Elimination\n",
        "from sklearn.linear_model import LinearRegression\n",
        "from sklearn.feature_selection import RFE\n",
        "\n",
        "lr = LinearRegression()\n",
        "rfe = RFE(estimator = lr, n_features_to_select = 5 , step = 1)\n",
        "\n",
        "rfe.fit(features,target)\n",
        "rfe_features = features.columns[rfe.support_]\n",
        "print(rfe_features)"
      ]
    },
    {
      "cell_type": "markdown",
      "metadata": {
        "id": "rUA-gfMZ_UJw"
      },
      "source": [
        "##**SMOTE**"
      ]
    },
    {
      "cell_type": "markdown",
      "source": [
        "We decided to do a hybrid type of selection where we take a few features that were returned from the feature selection algorithms from above and use our domain knowledge to select the rest:\n",
        "* We think the position of player is crucial in determining a player's valuation which in turn decides if he is expensive or not.\n",
        "* We also decided to select the selling team(counter_team_name) as a feature since they would definately play a vital role in deciding their players' valuation based on the type of contract the player in on."
      ],
      "metadata": {
        "id": "hsnUDWnVaEyf"
      }
    },
    {
      "cell_type": "code",
      "execution_count": 199,
      "metadata": {
        "colab": {
          "base_uri": "https://localhost:8080/"
        },
        "id": "0Y1eU27w_VvT",
        "outputId": "abc0ea2f-25b4-4941-e1b0-ae7bff683ef3"
      },
      "outputs": [
        {
          "output_type": "execute_result",
          "data": {
            "text/plain": [
              "((90974, 6), (90974,))"
            ]
          },
          "metadata": {},
          "execution_count": 199
        }
      ],
      "source": [
        "#SMOTE the data since there is too many cases of not_expensive players and few expensive players in comparison\n",
        "from imblearn.over_sampling import SMOTE\n",
        "\n",
        "y = df['is_expensive']\n",
        "#declaring the features\n",
        "X = df[['league','season','player_age','player_pos','player_nation','counter_team_name']]\n",
        "#our test and train split for prediction\n",
        "X_train,X_test,y_train,y_test = train_test_split(X,y,test_size = .2)\n",
        "\n",
        "sm = SMOTE(random_state=2)\n",
        "X_train, y_train = sm.fit_resample(X_train, y_train.ravel())\n",
        "\n",
        "X_train.shape, y_train.shape"
      ]
    },
    {
      "cell_type": "markdown",
      "metadata": {
        "id": "c5fsgREl2jxN"
      },
      "source": [
        "We tried fitting the data without balancing it but the results in recall when we did our performance metrics using the classification report were terrible. It is paramount that we balance this dataset to see improvements in those metrics."
      ]
    },
    {
      "cell_type": "markdown",
      "metadata": {
        "id": "wmMrptxF99bu"
      },
      "source": [
        "##**Classifier models**"
      ]
    },
    {
      "cell_type": "markdown",
      "source": [
        "###**Support Vector Classifier and metrics**"
      ],
      "metadata": {
        "id": "4fW8nd98dg0J"
      }
    },
    {
      "cell_type": "code",
      "execution_count": 200,
      "metadata": {
        "colab": {
          "base_uri": "https://localhost:8080/"
        },
        "id": "moi7Nf6b92bm",
        "outputId": "30699583-ddbc-4154-d673-92c6f28dfd5f"
      },
      "outputs": [
        {
          "output_type": "execute_result",
          "data": {
            "text/plain": [
              "0.6602686865799628"
            ]
          },
          "metadata": {},
          "execution_count": 200
        }
      ],
      "source": [
        "from sklearn.metrics import accuracy_score\n",
        "from sklearn.metrics import classification_report\n",
        "from sklearn.metrics import roc_auc_score\n",
        "from sklearn.metrics import log_loss\n",
        "from sklearn.metrics import f1_score\n",
        "from sklearn.metrics import precision_score\n",
        "from sklearn.metrics import recall_score\n",
        "from sklearn import svm\n",
        "#instance for our svc\n",
        "clf = svm.SVC()\n",
        "#fitting our model\n",
        "clf.fit(X_train,y_train)\n",
        "y_pred = clf.predict(X_test)\n",
        "clf.score(X,y)"
      ]
    },
    {
      "cell_type": "code",
      "execution_count": 201,
      "metadata": {
        "colab": {
          "base_uri": "https://localhost:8080/"
        },
        "id": "a_hue4OJgRl5",
        "outputId": "e50bb397-52e8-4cda-b596-9512d8a6a361"
      },
      "outputs": [
        {
          "output_type": "stream",
          "name": "stdout",
          "text": [
            "              precision    recall  f1-score   support\n",
            "\n",
            "         0.0       0.92      0.64      0.75     11372\n",
            "         1.0       0.32      0.74      0.45      2622\n",
            "\n",
            "    accuracy                           0.66     13994\n",
            "   macro avg       0.62      0.69      0.60     13994\n",
            "weighted avg       0.80      0.66      0.70     13994\n",
            "\n"
          ]
        }
      ],
      "source": [
        "print(classification_report(y_test, y_pred))"
      ]
    },
    {
      "cell_type": "code",
      "execution_count": 202,
      "metadata": {
        "colab": {
          "base_uri": "https://localhost:8080/"
        },
        "id": "VHaLnESEgthn",
        "outputId": "91234dae-37dd-4c2a-f028-23302a9e6ecb"
      },
      "outputs": [
        {
          "output_type": "execute_result",
          "data": {
            "text/plain": [
              "array([[7261, 4111],\n",
              "       [ 671, 1951]])"
            ]
          },
          "metadata": {},
          "execution_count": 202
        }
      ],
      "source": [
        "# confusion matrix\n",
        "from sklearn.metrics import confusion_matrix\n",
        "test_conf_mat = confusion_matrix(y_test, y_pred)\n",
        "#print results \n",
        "test_conf_mat"
      ]
    },
    {
      "cell_type": "code",
      "execution_count": 203,
      "metadata": {
        "colab": {
          "base_uri": "https://localhost:8080/"
        },
        "id": "GwZkhPOXgwJ7",
        "outputId": "1c8637e7-faca-4009-9f41-2fbe3361257e"
      },
      "outputs": [
        {
          "output_type": "stream",
          "name": "stdout",
          "text": [
            "auc score: 0.6912932737493002\n"
          ]
        }
      ],
      "source": [
        "# print roc score\n",
        "from sklearn.metrics import roc_auc_score\n",
        "\n",
        "auc = roc_auc_score(y_test, y_pred)\n",
        "print('auc score:', auc)"
      ]
    },
    {
      "cell_type": "code",
      "execution_count": 204,
      "metadata": {
        "colab": {
          "base_uri": "https://localhost:8080/",
          "height": 334
        },
        "id": "lejyoTs1gyv4",
        "outputId": "f51f3b92-9e2e-4d90-da39-404c03f3b8eb"
      },
      "outputs": [
        {
          "output_type": "stream",
          "name": "stderr",
          "text": [
            "/usr/local/lib/python3.7/dist-packages/sklearn/utils/deprecation.py:87: FutureWarning: Function plot_roc_curve is deprecated; Function :func:`plot_roc_curve` is deprecated in 1.0 and will be removed in 1.2. Use one of the class methods: :meth:`sklearn.metric.RocCurveDisplay.from_predictions` or :meth:`sklearn.metric.RocCurveDisplay.from_estimator`.\n",
            "  warnings.warn(msg, category=FutureWarning)\n"
          ]
        },
        {
          "output_type": "display_data",
          "data": {
            "text/plain": [
              "<Figure size 432x288 with 1 Axes>"
            ],
            "image/png": "[encoded data removed]"
          },
          "metadata": {
            "needs_background": "light"
          }
        }
      ],
      "source": [
        "metrics.plot_roc_curve(clf, X_test, y_test) \n",
        "plt.plot([0, 1], [0, 1], 'c--', label = 'support vector classifier');\n",
        "plt.show()"
      ]
    },
    {
      "cell_type": "markdown",
      "source": [
        "###**Random Forest Classifier and metrics**"
      ],
      "metadata": {
        "id": "mp_N34XPdtZU"
      }
    },
    {
      "cell_type": "code",
      "execution_count": 205,
      "metadata": {
        "colab": {
          "base_uri": "https://localhost:8080/"
        },
        "id": "agONbmaIdrGU",
        "outputId": "95e2b59f-f748-485f-8917-83d8e2363ffa"
      },
      "outputs": [
        {
          "output_type": "execute_result",
          "data": {
            "text/plain": [
              "0.9688294983564385"
            ]
          },
          "metadata": {},
          "execution_count": 205
        }
      ],
      "source": [
        "# random forest classifier\n",
        "from sklearn.ensemble import RandomForestClassifier\n",
        "from sklearn.ensemble import RandomForestRegressor\n",
        "forest = RandomForestClassifier()\n",
        "model = forest.fit(X_train,y_train)\n",
        "y_pred = model.predict(X_test)\n",
        "model.score(X,y)"
      ]
    },
    {
      "cell_type": "code",
      "execution_count": 206,
      "metadata": {
        "colab": {
          "base_uri": "https://localhost:8080/"
        },
        "id": "GcnnsZFmmscM",
        "outputId": "26d1772e-11b5-41c2-f07d-dcc6e8c04082"
      },
      "outputs": [
        {
          "output_type": "stream",
          "name": "stdout",
          "text": [
            "              precision    recall  f1-score   support\n",
            "\n",
            "         0.0       0.89      0.94      0.91     11372\n",
            "         1.0       0.66      0.49      0.56      2622\n",
            "\n",
            "    accuracy                           0.86     13994\n",
            "   macro avg       0.77      0.71      0.74     13994\n",
            "weighted avg       0.84      0.86      0.85     13994\n",
            "\n"
          ]
        }
      ],
      "source": [
        "print(classification_report(y_test, y_pred))"
      ]
    },
    {
      "cell_type": "code",
      "execution_count": 207,
      "metadata": {
        "colab": {
          "base_uri": "https://localhost:8080/"
        },
        "id": "18XMKcMgmyVW",
        "outputId": "58af89de-fde8-4330-a997-97b9a88535c5"
      },
      "outputs": [
        {
          "output_type": "execute_result",
          "data": {
            "text/plain": [
              "array([[10709,   663],\n",
              "       [ 1350,  1272]])"
            ]
          },
          "metadata": {},
          "execution_count": 207
        }
      ],
      "source": [
        "# create confusion matrix\n",
        "from sklearn.metrics import confusion_matrix\n",
        "test_conf_mat = confusion_matrix(y_test, y_pred)\n",
        "#print results \n",
        "test_conf_mat"
      ]
    },
    {
      "cell_type": "code",
      "execution_count": 208,
      "metadata": {
        "id": "iPsi4awfm08J",
        "colab": {
          "base_uri": "https://localhost:8080/"
        },
        "outputId": "a96b8db1-e9ca-4686-97aa-f33cd96df365"
      },
      "outputs": [
        {
          "output_type": "stream",
          "name": "stdout",
          "text": [
            "auc score: 0.7134123838630512\n"
          ]
        }
      ],
      "source": [
        "# print roc score\n",
        "from sklearn.metrics import roc_auc_score\n",
        "\n",
        "auc = roc_auc_score(y_test, y_pred)\n",
        "print('auc score:', auc)"
      ]
    },
    {
      "cell_type": "code",
      "execution_count": 209,
      "metadata": {
        "colab": {
          "base_uri": "https://localhost:8080/",
          "height": 334
        },
        "id": "i-TAf-_Y3Jgt",
        "outputId": "0dd2a215-5a90-4c4a-cb73-214a9bf5bdb3"
      },
      "outputs": [
        {
          "output_type": "stream",
          "name": "stderr",
          "text": [
            "/usr/local/lib/python3.7/dist-packages/sklearn/utils/deprecation.py:87: FutureWarning: Function plot_roc_curve is deprecated; Function :func:`plot_roc_curve` is deprecated in 1.0 and will be removed in 1.2. Use one of the class methods: :meth:`sklearn.metric.RocCurveDisplay.from_predictions` or :meth:`sklearn.metric.RocCurveDisplay.from_estimator`.\n",
            "  warnings.warn(msg, category=FutureWarning)\n"
          ]
        },
        {
          "output_type": "display_data",
          "data": {
            "text/plain": [
              "<Figure size 432x288 with 1 Axes>"
            ],
            "image/png": "[encoded data removed]"
          },
          "metadata": {
            "needs_background": "light"
          }
        }
      ],
      "source": [
        "metrics.plot_roc_curve(forest, X_test, y_test) \n",
        "plt.plot([0, 1], [0, 1], 'c--', label = 'random forest classifier');\n",
        "plt.show()"
      ]
    },
    {
      "cell_type": "markdown",
      "source": [
        "##**Decision Tree Classifier and metrics**"
      ],
      "metadata": {
        "id": "PcighnmEdyBl"
      }
    },
    {
      "cell_type": "code",
      "execution_count": 210,
      "metadata": {
        "colab": {
          "base_uri": "https://localhost:8080/"
        },
        "id": "Ffk_JgyM5LC5",
        "outputId": "5811d77c-3767-4bed-fd7b-f49f534115de"
      },
      "outputs": [
        {
          "output_type": "execute_result",
          "data": {
            "text/plain": [
              "0.7437759039588395"
            ]
          },
          "metadata": {},
          "execution_count": 210
        }
      ],
      "source": [
        "# decision Tree classifier model\n",
        "from sklearn.tree import DecisionTreeClassifier\n",
        "dtree = DecisionTreeClassifier(max_depth=10, random_state=101, max_features=None, min_samples_leaf=15)\n",
        "model = dtree.fit(X_train, y_train)\n",
        "y_pred = dtree.predict(X_test)\n",
        "dtree.score(X,y)"
      ]
    },
    {
      "cell_type": "code",
      "execution_count": 211,
      "metadata": {
        "id": "LVRkh7Lxgwuk",
        "colab": {
          "base_uri": "https://localhost:8080/"
        },
        "outputId": "dbdd7ea3-c2dd-41cb-d594-834729e2d314"
      },
      "outputs": [
        {
          "output_type": "stream",
          "name": "stdout",
          "text": [
            "              precision    recall  f1-score   support\n",
            "\n",
            "         0.0       0.86      0.81      0.83     11372\n",
            "         1.0       0.34      0.42      0.38      2622\n",
            "\n",
            "    accuracy                           0.74     13994\n",
            "   macro avg       0.60      0.62      0.60     13994\n",
            "weighted avg       0.76      0.74      0.75     13994\n",
            "\n"
          ]
        }
      ],
      "source": [
        "#  print classification report\n",
        "from sklearn.metrics import accuracy_score\n",
        "from sklearn.metrics import classification_report\n",
        "from sklearn.metrics import roc_auc_score\n",
        "from sklearn.metrics import log_loss\n",
        "from sklearn.metrics import f1_score\n",
        "from sklearn.metrics import precision_score\n",
        "from sklearn.metrics import recall_score\n",
        "print(classification_report(y_test, y_pred))\n"
      ]
    },
    {
      "cell_type": "code",
      "execution_count": 212,
      "metadata": {
        "id": "0s_DPaR_728k",
        "colab": {
          "base_uri": "https://localhost:8080/"
        },
        "outputId": "b42099c9-ab66-4431-8460-db7b82b01d3c"
      },
      "outputs": [
        {
          "output_type": "execute_result",
          "data": {
            "text/plain": [
              "array([[9205, 2167],\n",
              "       [1515, 1107]])"
            ]
          },
          "metadata": {},
          "execution_count": 212
        }
      ],
      "source": [
        "# create confusion matrix\n",
        "from sklearn.metrics import confusion_matrix\n",
        "test_conf_mat = confusion_matrix(y_test, y_pred)\n",
        "#print results \n",
        "test_conf_mat"
      ]
    },
    {
      "cell_type": "code",
      "execution_count": 213,
      "metadata": {
        "id": "Ihwx-1Bg8jPa",
        "colab": {
          "base_uri": "https://localhost:8080/"
        },
        "outputId": "f8a8e090-b444-47b6-cfa2-364e2c73b9f2"
      },
      "outputs": [
        {
          "output_type": "stream",
          "name": "stdout",
          "text": [
            "auc score: 0.6158205226856923\n"
          ]
        }
      ],
      "source": [
        "# print roc score\n",
        "from sklearn.metrics import roc_auc_score\n",
        "\n",
        "auc = roc_auc_score(y_test, y_pred)\n",
        "print('auc score:', auc)"
      ]
    },
    {
      "cell_type": "code",
      "execution_count": 214,
      "metadata": {
        "id": "8zStU4kK8MeI",
        "colab": {
          "base_uri": "https://localhost:8080/",
          "height": 295
        },
        "outputId": "713e79fb-94a5-4ae2-9c9d-962bd3bf43cb"
      },
      "outputs": [
        {
          "output_type": "display_data",
          "data": {
            "text/plain": [
              "<Figure size 432x288 with 1 Axes>"
            ],
            "image/png": "[encoded data removed]"
          },
          "metadata": {
            "needs_background": "light"
          }
        }
      ],
      "source": [
        "#referred from M_Fried_M8_assn notebook\n",
        "# create roc graph\n",
        "from sklearn.metrics import roc_auc_score\n",
        "from sklearn.metrics import roc_curve\n",
        "logit_roc_auc = roc_auc_score(y_test, forest.predict(X_test))\n",
        "fpr, tpr, thresholds = roc_curve(y_test, forest.predict_proba(X_test)[:,1])\n",
        "plt.figure()\n",
        "plt.plot(fpr, tpr, label='Decision Tree Classifier (area = %0.2f)' % logit_roc_auc)\n",
        "plt.plot([0, 1], [0, 1],'r--')\n",
        "plt.xlim([0.0, 1.0])\n",
        "plt.ylim([0.0, 1.05])\n",
        "plt.xlabel('False Positive Rate')\n",
        "plt.ylabel('True Positive Rate')\n",
        "plt.title('Receiver operating characteristic curve')\n",
        "plt.legend(loc=\"lower right\")\n",
        "plt.savefig('Log_ROC')\n",
        "plt.show() "
      ]
    },
    {
      "cell_type": "markdown",
      "source": [
        "###**Gaussian Naive Bayes**"
      ],
      "metadata": {
        "id": "656L3NOOd7FY"
      }
    },
    {
      "cell_type": "code",
      "execution_count": 215,
      "metadata": {
        "id": "HdzC_hBGO0bo",
        "colab": {
          "base_uri": "https://localhost:8080/"
        },
        "outputId": "86e90c2c-41c4-4bac-a6e7-09c2e5c15595"
      },
      "outputs": [
        {
          "output_type": "execute_result",
          "data": {
            "text/plain": [
              "0.6093468629412605"
            ]
          },
          "metadata": {},
          "execution_count": 215
        }
      ],
      "source": [
        "# naive bayes model\n",
        "from sklearn.model_selection import train_test_split\n",
        "from sklearn.naive_bayes import GaussianNB\n",
        "gnb = GaussianNB()\n",
        "model = gnb.fit(X_train, y_train)\n",
        "y_pred = model.predict(X_test)\n",
        "model.score(X,y)"
      ]
    },
    {
      "cell_type": "code",
      "execution_count": 216,
      "metadata": {
        "id": "QRJhOVdfRJf3",
        "colab": {
          "base_uri": "https://localhost:8080/"
        },
        "outputId": "23ae67b2-a3a2-4c9d-f9af-b518b416a09c"
      },
      "outputs": [
        {
          "output_type": "stream",
          "name": "stdout",
          "text": [
            "              precision    recall  f1-score   support\n",
            "\n",
            "         0.0       0.90      0.59      0.71     11372\n",
            "         1.0       0.29      0.72      0.41      2622\n",
            "\n",
            "    accuracy                           0.61     13994\n",
            "   macro avg       0.59      0.65      0.56     13994\n",
            "weighted avg       0.78      0.61      0.65     13994\n",
            "\n"
          ]
        }
      ],
      "source": [
        "print(classification_report(y_test, y_pred))"
      ]
    },
    {
      "cell_type": "code",
      "execution_count": 217,
      "metadata": {
        "id": "6htCGF7dRLk2",
        "colab": {
          "base_uri": "https://localhost:8080/"
        },
        "outputId": "afa18cb1-e943-45da-90c1-5b20491b445d"
      },
      "outputs": [
        {
          "output_type": "execute_result",
          "data": {
            "text/plain": [
              "array([[6655, 4717],\n",
              "       [ 740, 1882]])"
            ]
          },
          "metadata": {},
          "execution_count": 217
        }
      ],
      "source": [
        "# confusion matrix\n",
        "from sklearn.metrics import confusion_matrix\n",
        "test_conf_mat = confusion_matrix(y_test, y_pred)\n",
        "#print results \n",
        "test_conf_mat"
      ]
    },
    {
      "cell_type": "code",
      "execution_count": 218,
      "metadata": {
        "id": "_62kmnG9RO50",
        "colab": {
          "base_uri": "https://localhost:8080/"
        },
        "outputId": "8874c12a-5ffd-4bf5-8e25-fab2e80559d1"
      },
      "outputs": [
        {
          "output_type": "stream",
          "name": "stdout",
          "text": [
            "auc score: 0.6514909892832985\n"
          ]
        }
      ],
      "source": [
        "# print roc score\n",
        "from sklearn.metrics import roc_auc_score\n",
        "\n",
        "auc = roc_auc_score(y_test, y_pred)\n",
        "print('auc score:', auc)"
      ]
    },
    {
      "cell_type": "code",
      "execution_count": 219,
      "metadata": {
        "id": "h2ztPtsiRQ4i",
        "colab": {
          "base_uri": "https://localhost:8080/",
          "height": 334
        },
        "outputId": "1bcd9e57-d8cf-41a0-a834-97c33597c1bc"
      },
      "outputs": [
        {
          "output_type": "stream",
          "name": "stderr",
          "text": [
            "/usr/local/lib/python3.7/dist-packages/sklearn/utils/deprecation.py:87: FutureWarning: Function plot_roc_curve is deprecated; Function :func:`plot_roc_curve` is deprecated in 1.0 and will be removed in 1.2. Use one of the class methods: :meth:`sklearn.metric.RocCurveDisplay.from_predictions` or :meth:`sklearn.metric.RocCurveDisplay.from_estimator`.\n",
            "  warnings.warn(msg, category=FutureWarning)\n"
          ]
        },
        {
          "output_type": "display_data",
          "data": {
            "text/plain": [
              "<Figure size 432x288 with 1 Axes>"
            ],
            "image/png": "[encoded data removed]"
          },
          "metadata": {
            "needs_background": "light"
          }
        }
      ],
      "source": [
        "metrics.plot_roc_curve(gnb, X_test, y_test) \n",
        "plt.plot([0, 1], [0, 1], 'c--', label = 'naive classifier');\n",
        "plt.show()"
      ]
    },
    {
      "cell_type": "markdown",
      "metadata": {
        "id": "gbg01lo8FDqS"
      },
      "source": [
        "#**Conclusion**\n",
        "\n",
        "* Our project began with issues finding a dataset until we ultimately landed on one our group member was passionate about. Which is how we landed upon the football transfer dataset. Working with this dataset turned out to create some issues, the response variable we wanted to work with had a lot of NaN values. At this point we had to make a decision, we use our domain knowledge to drop all the rows that had NaN variables where the transfer market fee was NaN's because from our domain knowledge we knew a lot of clubs do not disclose their player transfer details including the fee. However, this would have severely cut our dataset by more than 60% which is why we came upon the decision to use KNN imputer to fill the NaN values. This strategy was successful because the rows were grouped by the club which bought the players \"team_name\". We did this because the rows are sorted by club which meant we can look to our neighbors to fill the NaN values which are relevant and would give us the most accurate evaluations. \n",
        "\n",
        "* With our new data frame we began Exploratory Data Analysis, we gained a lot of information from univariate and multivariate graphs. At this point, we created a new column to our data frame that would determine whether a player was considered expensive or not. The threshold for determining whether they were expensive was the mean of \"market_val_amt\" if they were lower than the mean they were not considered expensive however if they were over it they were categorized as expensive.  With the new column, we did data scaling to normalize our data.\n",
        "\n",
        "* We trained the data frame without balancing the data first(response variable) however it resulted in extremely bad scores for f1, recall, and precision for our true values (1). As a result, we looked into SMOTE to balance our data, and then we began to write our four models (SVC, Random Forest Classifier, Gaussian Naive Bayes, Decision Tree Model) and then we compared the results of the models by classification report and the ROC Curve.\n",
        "\n",
        "* Ultimately we decided that the ensemble model, Random Forest Classifier was the best out of the four we made based on the Model Score, the curve of the ROC Score, and the f1-score.\n",
        "\n",
        "* **Issues we encountered:** A couple of issues we encountered were that KNN imputer took 5 minutes to run and SVC took 15 minutes. This made working on our project extremely time-consuming. \n",
        "\n",
        "* **Result of Research Question:**  We were also able to answer our hypothesis and we came to realize it was wrong. England on an average did not have the highest market value for their players but rather France did. This could be explained due to recent world cup winnings in 2018 which might have inflated the evaluations of the French player base. France was closely followed by Italy and then Spain."
      ]
    }
  ],
  "metadata": {
    "colab": {
      "collapsed_sections": [],
      "name": "final_project.ipynb",
      "provenance": [],
      "include_colab_link": true
    },
    "kernelspec": {
      "display_name": "Python 3.9.12 64-bit",
      "language": "python",
      "name": "python3"
    },
    "language_info": {
      "codemirror_mode": {
        "name": "ipython",
        "version": 3
      },
      "file_extension": ".py",
      "mimetype": "text/x-python",
      "name": "python",
      "nbconvert_exporter": "python",
      "pygments_lexer": "ipython3",
      "version": "3.9.12"
    },
    "vscode": {
      "interpreter": {
        "hash": "aee8b7b246df8f9039afb4144a1f6fd8d2ca17a180786b69acc140d282b71a49"
      }
    }
  },
  "nbformat": 4,
  "nbformat_minor": 0
}