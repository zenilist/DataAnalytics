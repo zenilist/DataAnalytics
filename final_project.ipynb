{
  "cells": [
    {
      "cell_type": "markdown",
      "metadata": {
        "id": "view-in-github",
        "colab_type": "text"
      },
      "source": [
        "<a href=\"https://colab.research.google.com/github/zenilist/DataAnalytics/blob/main/final_project.ipynb\" target=\"_parent\"><img src=\"https://colab.research.google.com/assets/colab-badge.svg\" alt=\"Open In Colab\"/></a>"
      ]
    },
    {
      "cell_type": "markdown",
      "metadata": {
        "id": "FDes3uzKHyAK"
      },
      "source": [
        "#**Group members**"
      ]
    },
    {
      "cell_type": "markdown",
      "metadata": {
        "id": "TeUCZln5Hzid"
      },
      "source": [
        "* Yuhang Zhu\n",
        "* Jason Kang\n",
        "* Aviraj Kar\n",
        "* Roseleen Kaur\n",
        "* Hema Muni"
      ]
    },
    {
      "cell_type": "markdown",
      "metadata": {
        "id": "7nw7baHr5h5z"
      },
      "source": [
        "#**Abstract**"
      ]
    },
    {
      "cell_type": "markdown",
      "metadata": {
        "id": "SRWiUOs45jfw"
      },
      "source": [
        "We will use a soccer dataset based on transfer evaluations for the last 12 years to look for features that determine a players valuation. We will load the data from [github](https://github.com/d2ski). Perform data preparation to fill in values and perform the EDA work to analyze the data and gain valuable insights about relationships concerning our attributes. We plan to use four different classifiers one being an ensemble method to model a binary response variable, \"is_expensive\" that could be used by the UEFA transfer regulatory board to create a threashold to deter massive clubs like PSG, Barcelona FC, Manchester United to name a few, from buying too many excellent players with their significantly large buying power. As a result it would level the playing field and make it more viable for smaller clubs to approach talented footballers."
      ]
    },
    {
      "cell_type": "markdown",
      "metadata": {
        "id": "2q6QedkrvPLF"
      },
      "source": [
        "#**Introduction**"
      ]
    },
    {
      "cell_type": "markdown",
      "metadata": {
        "id": "XRzxwkNyvQaA"
      },
      "source": [
        "Soccer or otherwise known as football is a team sport played amongst 11 players where two teams try to kick the ball into the opposing team’s goal to score goals. There are 10 outfield players and 1 pers on designated as the goalkeeper.\n",
        "\n",
        "\n",
        "In this sport, the pro athletes are the ones that shine the most. Hosting one of the most well-known names in all sports such as Lionel Messi or Cristiano Ronaldo it is no surprise that these players are worth a large sum of money and that soccer itself is a booming industry. The transfer market of soccer has increased tremendously over the last decade [link](https://football-observatory.com/Monthly-Report-reveals-growing-football-transfer) going from 1.5 billion euros in 2010 to 6.6 billion in 2019.\n",
        "\n",
        "**Our model that predicts if a player is expensive or not could be used by the UEFA transfer regulatory board to create a threashold to deter massive clubs like PSG, Barcelona FC, Manchester United to name a few, from buying too many excellent players with their significantly large buying power. As a result it would level the playing field and make it more viable for smaller clubs to approach talented footballers.**"
      ]
    },
    {
      "cell_type": "markdown",
      "source": [
        "#**Research Question**"
      ],
      "metadata": {
        "id": "rLOQlTpZh9BG"
      }
    },
    {
      "cell_type": "markdown",
      "source": [
        "The answer we want to find by analysing this data set is are the English players more valued compared to players from other European countries.\n"
      ],
      "metadata": {
        "id": "TwTfv2HJiBg7"
      }
    },
    {
      "cell_type": "markdown",
      "source": [
        "#**Research Approach**"
      ],
      "metadata": {
        "id": "WD3SCX4_hvAF"
      }
    },
    {
      "cell_type": "markdown",
      "source": [
        "After the data is loaded from github we will run various graphs using the python libraries matplotlib.pyplot, seaborn and missingno to answer our research question and make our data ready for modeling work. We will also use python pandas features like group-by to get multivariate analysis for attributes that are worth talking about."
      ],
      "metadata": {
        "id": "wnIVueRlhzej"
      }
    },
    {
      "cell_type": "markdown",
      "metadata": {
        "id": "VMRXH1jKvNxo"
      },
      "source": [
        "#**Attribute Summary**"
      ]
    },
    {
      "cell_type": "markdown",
      "metadata": {
        "id": "tDYbPg-XvNHg"
      },
      "source": [
        "\n",
        "\n",
        "\n",
        "| Attribute Name       | Attribute Description                                  |\n",
        "|----------------------|--------------------------------------------------------|\n",
        "| *league*           | codename of the football league                        |\n",
        "| *season*               | year of transfer                                       |\n",
        "| *window*               | transfer window - s(summer), w(winter)                 |\n",
        "| *team_id*              | team id that was scraped from Transfermarkt            |\n",
        "| *team_name*            | name of the buying team                                |\n",
        "| *team_country*         | buying team's nation                                   |\n",
        "| *dir*                  | direction of transfer(in or left)                      |\n",
        "| *player_id*            | player's ID as used by Transfermarkt                   |\n",
        "| *player_name*          | name of the player                                     |\n",
        "| *player_age*           | age of player when the transfer took place             |\n",
        "| *player_nation*        | player's nationality                                   |\n",
        "| *player_nation2*       | player's second nationality                            |\n",
        "| *player_pos*           | position of player                                     |\n",
        "| *counter_team_id*      | selling team's id as used by Transfermarkt             |\n",
        "| *counter_team_name*    | selling team's name                                    |\n",
        "| *counter_team_country* | selling team's nation                                  |\n",
        "| *transfer_fee_amnt*    | amount of transfer fee in Euros                        |\n",
        "| *market_val_amnt*      | player's market value in Euros at the time of transfer |\n",
        "| *is_free*              | was the transfer a free one                            |\n",
        "| *is_loan*              | loan transfer (yes/no)                                 |\n",
        "| *is_loan_end*          | end of loan transfer (yes/no)                          |\n",
        "| *is_retired*          | is the player retired (yes/no)                         |\n",
        "| *transfer_id*          | transfer id used by Transfermarkt                      |\n",
        "\n",
        "**Types of Leagues**\n",
        "* GB1 - ENGLISH PREMIER LEAGUE\n",
        "* ES1 - LA LIGA\n",
        "* IT1 - SERIE A\n",
        "* L1 - BUNDESLIGA\n",
        "* FR1 - FRENCH LIGUE 1\n",
        "* PO1 - LIGA PORTUGAL BWIN\n",
        "* NL1 - DUTCH EREDIVISIE\n",
        "\n",
        "**Types of player postions:**\n",
        "  * RB - Right Back\n",
        "  * CF - Centre Forward\n",
        "  * AM - Attacking Midfielder\n",
        "  * CB - Center Back\n",
        "  * CM - Central Midfield\n",
        "  * GK - Goalkeeper\n",
        "  * LW - Left Winger\n",
        "  * LB - Left Back\n",
        "  * DM - Defensive Midfielder\n",
        "  * SS - Second Striker\n",
        "  * RW - Right Winger\n",
        "  * RM - Right Midfielder\n",
        "  * LM - Left Midfielder\n",
        "  * RM - Right Midfielder\n",
        "  * Midfield\n",
        "  * Attack\n",
        "  * Defence"
      ]
    },
    {
      "cell_type": "markdown",
      "metadata": {
        "id": "95TYJ0rm37pZ"
      },
      "source": [
        "#**Data Loading**"
      ]
    },
    {
      "cell_type": "code",
      "execution_count": 1,
      "metadata": {
        "colab": {
          "base_uri": "https://localhost:8080/",
          "height": 357
        },
        "id": "pmFmSwdFm0Fr",
        "outputId": "21441072-10d5-4a7b-e0e7-c3c222f7601d"
      },
      "outputs": [
        {
          "output_type": "execute_result",
          "data": {
            "text/plain": [
              "  league  season window  team_id          team_name team_country dir  \\\n",
              "0    GB1    2009      s      985  Manchester United      England  in   \n",
              "1    GB1    2009      s      985  Manchester United      England  in   \n",
              "2    GB1    2009      s      985  Manchester United      England  in   \n",
              "3    GB1    2009      s      985  Manchester United      England  in   \n",
              "4    GB1    2009      s      985  Manchester United      England  in   \n",
              "\n",
              "   player_id       player_name  player_age player_nation player_nation2  \\\n",
              "0      33544  Antonio Valencia        23.0       Ecuador            NaN   \n",
              "1      62049        Mame Diouf        21.0       Senegal            NaN   \n",
              "2      43261   Gabriel Obertan        20.0        France     Guadeloupe   \n",
              "3       1397      Michael Owen        29.0       England            NaN   \n",
              "4      73538     Scott Moffatt        18.0       England            NaN   \n",
              "\n",
              "  player_pos counter_team_id      counter_team_name counter_team_country  \\\n",
              "0         RB            1071         Wigan Athletic              England   \n",
              "1         CF             687               Molde FK               Norway   \n",
              "2         AM              40  FC Girondins Bordeaux               France   \n",
              "3         CF             762       Newcastle United              England   \n",
              "4         CB            5242  Manchester United U18              England   \n",
              "\n",
              "   transfer_fee_amnt  market_val_amnt  is_free  is_loan  is_loan_end  \\\n",
              "0         18800000.0              NaN    False    False        False   \n",
              "1          4500000.0        1600000.0    False    False        False   \n",
              "2          4000000.0         400000.0    False    False        False   \n",
              "3                0.0              NaN     True    False        False   \n",
              "4                NaN              NaN    False    False        False   \n",
              "\n",
              "   is_retired  transfer_id  \n",
              "0       False       310832  \n",
              "1       False       319841  \n",
              "2       False       315185  \n",
              "3       False       306421  \n",
              "4       False       339015  "
            ],
            "text/html": [
              "\n",
              "  <div id=\"df-cad95b98-c725-4337-82e6-1440c76d4ba5\">\n",
              "    <div class=\"colab-df-container\">\n",
              "      <div>\n",
              "<style scoped>\n",
              "    .dataframe tbody tr th:only-of-type {\n",
              "        vertical-align: middle;\n",
              "    }\n",
              "\n",
              "    .dataframe tbody tr th {\n",
              "        vertical-align: top;\n",
              "    }\n",
              "\n",
              "    .dataframe thead th {\n",
              "        text-align: right;\n",
              "    }\n",
              "</style>\n",
              "<table border=\"1\" class=\"dataframe\">\n",
              "  <thead>\n",
              "    <tr style=\"text-align: right;\">\n",
              "      <th></th>\n",
              "      <th>league</th>\n",
              "      <th>season</th>\n",
              "      <th>window</th>\n",
              "      <th>team_id</th>\n",
              "      <th>team_name</th>\n",
              "      <th>team_country</th>\n",
              "      <th>dir</th>\n",
              "      <th>player_id</th>\n",
              "      <th>player_name</th>\n",
              "      <th>player_age</th>\n",
              "      <th>player_nation</th>\n",
              "      <th>player_nation2</th>\n",
              "      <th>player_pos</th>\n",
              "      <th>counter_team_id</th>\n",
              "      <th>counter_team_name</th>\n",
              "      <th>counter_team_country</th>\n",
              "      <th>transfer_fee_amnt</th>\n",
              "      <th>market_val_amnt</th>\n",
              "      <th>is_free</th>\n",
              "      <th>is_loan</th>\n",
              "      <th>is_loan_end</th>\n",
              "      <th>is_retired</th>\n",
              "      <th>transfer_id</th>\n",
              "    </tr>\n",
              "  </thead>\n",
              "  <tbody>\n",
              "    <tr>\n",
              "      <th>0</th>\n",
              "      <td>GB1</td>\n",
              "      <td>2009</td>\n",
              "      <td>s</td>\n",
              "      <td>985</td>\n",
              "      <td>Manchester United</td>\n",
              "      <td>England</td>\n",
              "      <td>in</td>\n",
              "      <td>33544</td>\n",
              "      <td>Antonio Valencia</td>\n",
              "      <td>23.0</td>\n",
              "      <td>Ecuador</td>\n",
              "      <td>NaN</td>\n",
              "      <td>RB</td>\n",
              "      <td>1071</td>\n",
              "      <td>Wigan Athletic</td>\n",
              "      <td>England</td>\n",
              "      <td>18800000.0</td>\n",
              "      <td>NaN</td>\n",
              "      <td>False</td>\n",
              "      <td>False</td>\n",
              "      <td>False</td>\n",
              "      <td>False</td>\n",
              "      <td>310832</td>\n",
              "    </tr>\n",
              "    <tr>\n",
              "      <th>1</th>\n",
              "      <td>GB1</td>\n",
              "      <td>2009</td>\n",
              "      <td>s</td>\n",
              "      <td>985</td>\n",
              "      <td>Manchester United</td>\n",
              "      <td>England</td>\n",
              "      <td>in</td>\n",
              "      <td>62049</td>\n",
              "      <td>Mame Diouf</td>\n",
              "      <td>21.0</td>\n",
              "      <td>Senegal</td>\n",
              "      <td>NaN</td>\n",
              "      <td>CF</td>\n",
              "      <td>687</td>\n",
              "      <td>Molde FK</td>\n",
              "      <td>Norway</td>\n",
              "      <td>4500000.0</td>\n",
              "      <td>1600000.0</td>\n",
              "      <td>False</td>\n",
              "      <td>False</td>\n",
              "      <td>False</td>\n",
              "      <td>False</td>\n",
              "      <td>319841</td>\n",
              "    </tr>\n",
              "    <tr>\n",
              "      <th>2</th>\n",
              "      <td>GB1</td>\n",
              "      <td>2009</td>\n",
              "      <td>s</td>\n",
              "      <td>985</td>\n",
              "      <td>Manchester United</td>\n",
              "      <td>England</td>\n",
              "      <td>in</td>\n",
              "      <td>43261</td>\n",
              "      <td>Gabriel Obertan</td>\n",
              "      <td>20.0</td>\n",
              "      <td>France</td>\n",
              "      <td>Guadeloupe</td>\n",
              "      <td>AM</td>\n",
              "      <td>40</td>\n",
              "      <td>FC Girondins Bordeaux</td>\n",
              "      <td>France</td>\n",
              "      <td>4000000.0</td>\n",
              "      <td>400000.0</td>\n",
              "      <td>False</td>\n",
              "      <td>False</td>\n",
              "      <td>False</td>\n",
              "      <td>False</td>\n",
              "      <td>315185</td>\n",
              "    </tr>\n",
              "    <tr>\n",
              "      <th>3</th>\n",
              "      <td>GB1</td>\n",
              "      <td>2009</td>\n",
              "      <td>s</td>\n",
              "      <td>985</td>\n",
              "      <td>Manchester United</td>\n",
              "      <td>England</td>\n",
              "      <td>in</td>\n",
              "      <td>1397</td>\n",
              "      <td>Michael Owen</td>\n",
              "      <td>29.0</td>\n",
              "      <td>England</td>\n",
              "      <td>NaN</td>\n",
              "      <td>CF</td>\n",
              "      <td>762</td>\n",
              "      <td>Newcastle United</td>\n",
              "      <td>England</td>\n",
              "      <td>0.0</td>\n",
              "      <td>NaN</td>\n",
              "      <td>True</td>\n",
              "      <td>False</td>\n",
              "      <td>False</td>\n",
              "      <td>False</td>\n",
              "      <td>306421</td>\n",
              "    </tr>\n",
              "    <tr>\n",
              "      <th>4</th>\n",
              "      <td>GB1</td>\n",
              "      <td>2009</td>\n",
              "      <td>s</td>\n",
              "      <td>985</td>\n",
              "      <td>Manchester United</td>\n",
              "      <td>England</td>\n",
              "      <td>in</td>\n",
              "      <td>73538</td>\n",
              "      <td>Scott Moffatt</td>\n",
              "      <td>18.0</td>\n",
              "      <td>England</td>\n",
              "      <td>NaN</td>\n",
              "      <td>CB</td>\n",
              "      <td>5242</td>\n",
              "      <td>Manchester United U18</td>\n",
              "      <td>England</td>\n",
              "      <td>NaN</td>\n",
              "      <td>NaN</td>\n",
              "      <td>False</td>\n",
              "      <td>False</td>\n",
              "      <td>False</td>\n",
              "      <td>False</td>\n",
              "      <td>339015</td>\n",
              "    </tr>\n",
              "  </tbody>\n",
              "</table>\n",
              "</div>\n",
              "      <button class=\"colab-df-convert\" onclick=\"convertToInteractive('df-cad95b98-c725-4337-82e6-1440c76d4ba5')\"\n",
              "              title=\"Convert this dataframe to an interactive table.\"\n",
              "              style=\"display:none;\">\n",
              "        \n",
              "  <svg xmlns=\"http://www.w3.org/2000/svg\" height=\"24px\"viewBox=\"0 0 24 24\"\n",
              "       width=\"24px\">\n",
              "    <path d=\"M0 0h24v24H0V0z\" fill=\"none\"/>\n",
              "    <path d=\"M18.56 5.44l.94 2.06.94-2.06 2.06-.94-2.06-.94-.94-2.06-.94 2.06-2.06.94zm-11 1L8.5 8.5l.94-2.06 2.06-.94-2.06-.94L8.5 2.5l-.94 2.06-2.06.94zm10 10l.94 2.06.94-2.06 2.06-.94-2.06-.94-.94-2.06-.94 2.06-2.06.94z\"/><path d=\"M17.41 7.96l-1.37-1.37c-.4-.4-.92-.59-1.43-.59-.52 0-1.04.2-1.43.59L10.3 9.45l-7.72 7.72c-.78.78-.78 2.05 0 2.83L4 21.41c.39.39.9.59 1.41.59.51 0 1.02-.2 1.41-.59l7.78-7.78 2.81-2.81c.8-.78.8-2.07 0-2.86zM5.41 20L4 18.59l7.72-7.72 1.47 1.35L5.41 20z\"/>\n",
              "  </svg>\n",
              "      </button>\n",
              "      \n",
              "  <style>\n",
              "    .colab-df-container {\n",
              "      display:flex;\n",
              "      flex-wrap:wrap;\n",
              "      gap: 12px;\n",
              "    }\n",
              "\n",
              "    .colab-df-convert {\n",
              "      background-color: #E8F0FE;\n",
              "      border: none;\n",
              "      border-radius: 50%;\n",
              "      cursor: pointer;\n",
              "      display: none;\n",
              "      fill: #1967D2;\n",
              "      height: 32px;\n",
              "      padding: 0 0 0 0;\n",
              "      width: 32px;\n",
              "    }\n",
              "\n",
              "    .colab-df-convert:hover {\n",
              "      background-color: #E2EBFA;\n",
              "      box-shadow: 0px 1px 2px rgba(60, 64, 67, 0.3), 0px 1px 3px 1px rgba(60, 64, 67, 0.15);\n",
              "      fill: #174EA6;\n",
              "    }\n",
              "\n",
              "    [theme=dark] .colab-df-convert {\n",
              "      background-color: #3B4455;\n",
              "      fill: #D2E3FC;\n",
              "    }\n",
              "\n",
              "    [theme=dark] .colab-df-convert:hover {\n",
              "      background-color: #434B5C;\n",
              "      box-shadow: 0px 1px 3px 1px rgba(0, 0, 0, 0.15);\n",
              "      filter: drop-shadow(0px 1px 2px rgba(0, 0, 0, 0.3));\n",
              "      fill: #FFFFFF;\n",
              "    }\n",
              "  </style>\n",
              "\n",
              "      <script>\n",
              "        const buttonEl =\n",
              "          document.querySelector('#df-cad95b98-c725-4337-82e6-1440c76d4ba5 button.colab-df-convert');\n",
              "        buttonEl.style.display =\n",
              "          google.colab.kernel.accessAllowed ? 'block' : 'none';\n",
              "\n",
              "        async function convertToInteractive(key) {\n",
              "          const element = document.querySelector('#df-cad95b98-c725-4337-82e6-1440c76d4ba5');\n",
              "          const dataTable =\n",
              "            await google.colab.kernel.invokeFunction('convertToInteractive',\n",
              "                                                     [key], {});\n",
              "          if (!dataTable) return;\n",
              "\n",
              "          const docLinkHtml = 'Like what you see? Visit the ' +\n",
              "            '<a target=\"_blank\" href=https://colab.research.google.com/notebooks/data_table.ipynb>data table notebook</a>'\n",
              "            + ' to learn more about interactive tables.';\n",
              "          element.innerHTML = '';\n",
              "          dataTable['output_type'] = 'display_data';\n",
              "          await google.colab.output.renderOutput(dataTable, element);\n",
              "          const docLink = document.createElement('div');\n",
              "          docLink.innerHTML = docLinkHtml;\n",
              "          element.appendChild(docLink);\n",
              "        }\n",
              "      </script>\n",
              "    </div>\n",
              "  </div>\n",
              "  "
            ]
          },
          "metadata": {},
          "execution_count": 1
        }
      ],
      "source": [
        "# import libraries and read the data from Github link\n",
        "import pandas as pd \n",
        "import numpy as np\n",
        "import matplotlib.pyplot as plt\n",
        "import missingno as msno\n",
        "import seaborn as sns\n",
        "from sklearn.metrics import accuracy_score,confusion_matrix, classification_report,roc_auc_score\n",
        "from scipy.stats import zscore\n",
        "from sklearn.model_selection import train_test_split\n",
        "from sklearn.compose import ColumnTransformer\n",
        "from sklearn.experimental import enable_iterative_imputer\n",
        "from sklearn.impute import IterativeImputer\n",
        "from sklearn.impute import SimpleImputer\n",
        "from sklearn.model_selection import train_test_split\n",
        "from sklearn.linear_model import BayesianRidge\n",
        "from sklearn.tree import DecisionTreeRegressor\n",
        "from sklearn.ensemble import ExtraTreesRegressor\n",
        "from sklearn.neighbors import KNeighborsRegressor\n",
        "from sklearn.preprocessing import StandardScaler\n",
        "from sklearn import (model_selection,preprocessing)\n",
        "from patsy import dmatrices\n",
        "from sklearn.linear_model import LogisticRegression\n",
        "from sklearn import metrics\n",
        "from sklearn import datasets\n",
        "from sklearn.tree import DecisionTreeClassifier\n",
        "from sklearn.model_selection import train_test_split\n",
        "from sklearn.metrics import classification_report, confusion_matrix\n",
        "pd.set_option('display.max_columns', 500)\n",
        "# read the data from github \n",
        "df = pd.read_csv(\n",
        "    'https://raw.githubusercontent.com/d2ski/football-transfers-data/main/dataset/transfers.csv')\n",
        "# create a copy in case\n",
        "df_cp = df.copy()\n",
        "# display the data frame\n",
        "df.head()\n"
      ]
    },
    {
      "cell_type": "code",
      "execution_count": null,
      "metadata": {
        "colab": {
          "base_uri": "https://localhost:8080/"
        },
        "id": "S8WIq1Nom0Fs",
        "outputId": "c46e5bce-0c4e-4a9f-bb01-7f332b330388"
      },
      "outputs": [
        {
          "output_type": "execute_result",
          "data": {
            "text/plain": [
              "(70006, 23)"
            ]
          },
          "metadata": {},
          "execution_count": 3
        }
      ],
      "source": [
        "# to see how many rows and cols in this data set\n",
        "df.shape"
      ]
    },
    {
      "cell_type": "markdown",
      "metadata": {
        "id": "KXtITTCWicZ8"
      },
      "source": [
        "The rows indicate 70,006 unique transfers over the course of 12 years(2009-2021).  "
      ]
    },
    {
      "cell_type": "code",
      "execution_count": null,
      "metadata": {
        "colab": {
          "base_uri": "https://localhost:8080/"
        },
        "id": "LO884bAXm0Ft",
        "outputId": "41121d7e-d74c-426b-8b30-b38f5f39424a"
      },
      "outputs": [
        {
          "output_type": "execute_result",
          "data": {
            "text/plain": [
              "league                   object\n",
              "season                    int64\n",
              "window                   object\n",
              "team_id                   int64\n",
              "team_name                object\n",
              "team_country             object\n",
              "dir                      object\n",
              "player_id                 int64\n",
              "player_name              object\n",
              "player_age              float64\n",
              "player_nation            object\n",
              "player_nation2           object\n",
              "player_pos               object\n",
              "counter_team_id          object\n",
              "counter_team_name        object\n",
              "counter_team_country     object\n",
              "transfer_fee_amnt       float64\n",
              "market_val_amnt         float64\n",
              "is_free                    bool\n",
              "is_loan                    bool\n",
              "is_loan_end                bool\n",
              "is_retired                 bool\n",
              "transfer_id               int64\n",
              "dtype: object"
            ]
          },
          "metadata": {},
          "execution_count": 4
        }
      ],
      "source": [
        "# Check the data type of each column.\n",
        "df.dtypes"
      ]
    },
    {
      "cell_type": "markdown",
      "metadata": {
        "id": "TJenrSEHjbSS"
      },
      "source": [
        "There is a mix of mostly categorical and some numeric datas in this dataset."
      ]
    },
    {
      "cell_type": "markdown",
      "source": [
        "#**Data Preparation**"
      ],
      "metadata": {
        "id": "nw3n4X04c1Ok"
      }
    },
    {
      "cell_type": "code",
      "execution_count": null,
      "metadata": {
        "colab": {
          "base_uri": "https://localhost:8080/"
        },
        "id": "JS9M-nKem0Ft",
        "outputId": "198d1ddd-60cc-43bb-fa62-8b6c50b1a5ba"
      },
      "outputs": [
        {
          "output_type": "execute_result",
          "data": {
            "text/plain": [
              "league                      0\n",
              "season                      0\n",
              "window                      0\n",
              "team_id                     0\n",
              "team_name                   0\n",
              "team_country                0\n",
              "dir                         0\n",
              "player_id                   0\n",
              "player_name                 0\n",
              "player_age                 16\n",
              "player_nation               5\n",
              "player_nation2          46825\n",
              "player_pos                  0\n",
              "counter_team_id             0\n",
              "counter_team_name           0\n",
              "counter_team_country        0\n",
              "transfer_fee_amnt       41743\n",
              "market_val_amnt         19264\n",
              "is_free                     0\n",
              "is_loan                     0\n",
              "is_loan_end                 0\n",
              "is_retired                  0\n",
              "transfer_id                 0\n",
              "dtype: int64"
            ]
          },
          "metadata": {},
          "execution_count": 5
        }
      ],
      "source": [
        "# Check if there is a missing value in each column.\n",
        "df.isnull().sum()"
      ]
    },
    {
      "cell_type": "markdown",
      "metadata": {
        "id": "Uym3vuL7i7By"
      },
      "source": [
        "There are lots of missing values in for actual transfer fee, market value of players and player nation2. We might be better of if we drop the column for nation 2 since majority of the players represent only one nation(their primary nationality)."
      ]
    },
    {
      "cell_type": "code",
      "execution_count": 2,
      "metadata": {
        "id": "-rfTB-_Tm0Ft"
      },
      "outputs": [],
      "source": [
        "# Drop player nation2 column since our domain expertise is telling us that the secondary nationality of the players would not be a key indicator to their valuation\n",
        "df.drop('player_nation2',axis=1,inplace=True)\n"
      ]
    },
    {
      "cell_type": "code",
      "execution_count": null,
      "metadata": {
        "colab": {
          "base_uri": "https://localhost:8080/"
        },
        "id": "LwO0VXBWm0Fu",
        "outputId": "87fd0d46-23bf-4ac7-87e5-6187dee9291e"
      },
      "outputs": [
        {
          "output_type": "execute_result",
          "data": {
            "text/plain": [
              "league                      7\n",
              "season                     13\n",
              "window                      2\n",
              "team_id                   239\n",
              "team_name                 243\n",
              "team_country                7\n",
              "dir                         2\n",
              "player_id               17580\n",
              "player_name             17103\n",
              "player_age                 33\n",
              "player_nation             168\n",
              "player_pos                 16\n",
              "counter_team_id          3359\n",
              "counter_team_name        3610\n",
              "counter_team_country      125\n",
              "transfer_fee_amnt         796\n",
              "market_val_amnt           137\n",
              "is_free                     2\n",
              "is_loan                     2\n",
              "is_loan_end                 2\n",
              "is_retired                  2\n",
              "transfer_id             58640\n",
              "dtype: int64"
            ]
          },
          "metadata": {},
          "execution_count": 7
        }
      ],
      "source": [
        "# Check how many unique values are in each column.\n",
        "df.nunique()"
      ]
    },
    {
      "cell_type": "markdown",
      "metadata": {
        "id": "0_1zta56kCSY"
      },
      "source": [
        "There are lot's of unique values for player names and ids and as such they do not seem to be all that important as a feature to our model. Other than that, the values of all the attributes appear to be within normal range. No surprises here."
      ]
    },
    {
      "cell_type": "code",
      "execution_count": null,
      "metadata": {
        "colab": {
          "base_uri": "https://localhost:8080/"
        },
        "id": "S0Ds1F9JlZoH",
        "outputId": "3458b51d-35a8-4ea0-ec29-d00c59b05643"
      },
      "outputs": [
        {
          "output_type": "execute_result",
          "data": {
            "text/plain": [
              "False    57036\n",
              "True     12970\n",
              "Name: is_free, dtype: int64"
            ]
          },
          "metadata": {},
          "execution_count": 8
        }
      ],
      "source": [
        "df['is_free'].value_counts()"
      ]
    },
    {
      "cell_type": "markdown",
      "metadata": {
        "id": "ks2ugditqySq"
      },
      "source": [
        "We checked if the huge number of null transfer fees are a result of free transfers. However there are only 12970 free transfers as opposed to over 41000 null transfer values. Using our domain knowledge we can explain why this is the case; in soccer there are many instances where the buyer club and player(or his agent) decide to not disclose their transfer fee resulting in a massive loss in valuable data. For our purposes we would use kNN imputation to fill in the unknown values. We recognize that another route might be to drop all the rows that have the NaN values for transfer fee. Moreover, since our target variable is heavily realiant on clean and precise transfer data, due to the imputation we might run into accuracy issues with our model."
      ]
    },
    {
      "cell_type": "code",
      "execution_count": null,
      "metadata": {
        "id": "MqnKV3LprNkA"
      },
      "outputs": [],
      "source": [
        "#check to see if there are any rows that have \n",
        "#Nan value for transfer fee and that are also free transfers.\n",
        "val = df['transfer_fee_amnt'].tolist()\n",
        "new_val = []\n",
        "free = df['is_free'].tolist()\n",
        "for val, free in zip(val,free):\n",
        "    if free and val == np.nan:\n",
        "        new_val.append(0)\n",
        "    else:\n",
        "        new_val.append(val)"
      ]
    },
    {
      "cell_type": "code",
      "execution_count": null,
      "metadata": {
        "id": "hGGJSi9KrQpN"
      },
      "outputs": [],
      "source": [
        "df['transfer_fee_amnt'] = new_val"
      ]
    },
    {
      "cell_type": "code",
      "execution_count": null,
      "metadata": {
        "colab": {
          "base_uri": "https://localhost:8080/"
        },
        "id": "nRREKBLesbzY",
        "outputId": "31ffc204-5b56-413b-f45c-a8708c9d3fbe"
      },
      "outputs": [
        {
          "output_type": "execute_result",
          "data": {
            "text/plain": [
              "league                      0\n",
              "season                      0\n",
              "window                      0\n",
              "team_id                     0\n",
              "team_name                   0\n",
              "team_country                0\n",
              "dir                         0\n",
              "player_id                   0\n",
              "player_name                 0\n",
              "player_age                 16\n",
              "player_nation               5\n",
              "player_pos                  0\n",
              "counter_team_id             0\n",
              "counter_team_name           0\n",
              "counter_team_country        0\n",
              "transfer_fee_amnt       41743\n",
              "market_val_amnt         19264\n",
              "is_free                     0\n",
              "is_loan                     0\n",
              "is_loan_end                 0\n",
              "is_retired                  0\n",
              "transfer_id                 0\n",
              "dtype: int64"
            ]
          },
          "metadata": {},
          "execution_count": 11
        }
      ],
      "source": [
        "df.isnull().sum()"
      ]
    },
    {
      "cell_type": "markdown",
      "metadata": {
        "id": "aVFthQRov2n3"
      },
      "source": [
        "Unfortunately, our null values remain unchanged highlighting that all free transfers have been properly accounted for in the tranfer fee column."
      ]
    },
    {
      "cell_type": "code",
      "execution_count": null,
      "metadata": {
        "colab": {
          "base_uri": "https://localhost:8080/",
          "height": 300
        },
        "id": "7mW5iEFV_0cw",
        "outputId": "651d32fa-287f-4a05-ad5d-35f145e768da"
      },
      "outputs": [
        {
          "output_type": "execute_result",
          "data": {
            "text/plain": [
              "             season       team_id      player_id    player_age  \\\n",
              "count  70006.000000  70006.000000   70006.000000  69990.000000   \n",
              "mean    2014.935934   1245.373725  161415.178285     24.165638   \n",
              "std        3.615246   2352.682228  143527.769212      7.845883   \n",
              "min     2009.000000      2.000000       6.000000     12.000000   \n",
              "25%     2012.000000    252.000000   50356.750000     21.000000   \n",
              "50%     2015.000000    607.000000  121990.000000     23.000000   \n",
              "75%     2018.000000   1123.000000  240341.000000     27.000000   \n",
              "max     2021.000000  23826.000000  936900.000000   1775.000000   \n",
              "\n",
              "       transfer_fee_amnt  market_val_amnt   transfer_id  \n",
              "count       2.826300e+04     5.074200e+04  7.000600e+04  \n",
              "mean        3.762225e+06     3.557931e+06  1.518057e+06  \n",
              "std         1.950388e+07     8.966048e+06  9.196246e+05  \n",
              "min         0.000000e+00     1.000000e+04  6.845100e+04  \n",
              "25%         0.000000e+00     2.750000e+05  7.469312e+05  \n",
              "50%         2.000000e+05     7.000000e+05  1.293328e+06  \n",
              "75%         2.500000e+06     2.500000e+06  2.198414e+06  \n",
              "max         5.500000e+08     1.600000e+08  3.633188e+06  "
            ],
            "text/html": [
              "\n",
              "  <div id=\"df-4f905aee-3c9a-4d68-bee5-e0de6e07eaed\">\n",
              "    <div class=\"colab-df-container\">\n",
              "      <div>\n",
              "<style scoped>\n",
              "    .dataframe tbody tr th:only-of-type {\n",
              "        vertical-align: middle;\n",
              "    }\n",
              "\n",
              "    .dataframe tbody tr th {\n",
              "        vertical-align: top;\n",
              "    }\n",
              "\n",
              "    .dataframe thead th {\n",
              "        text-align: right;\n",
              "    }\n",
              "</style>\n",
              "<table border=\"1\" class=\"dataframe\">\n",
              "  <thead>\n",
              "    <tr style=\"text-align: right;\">\n",
              "      <th></th>\n",
              "      <th>season</th>\n",
              "      <th>team_id</th>\n",
              "      <th>player_id</th>\n",
              "      <th>player_age</th>\n",
              "      <th>transfer_fee_amnt</th>\n",
              "      <th>market_val_amnt</th>\n",
              "      <th>transfer_id</th>\n",
              "    </tr>\n",
              "  </thead>\n",
              "  <tbody>\n",
              "    <tr>\n",
              "      <th>count</th>\n",
              "      <td>70006.000000</td>\n",
              "      <td>70006.000000</td>\n",
              "      <td>70006.000000</td>\n",
              "      <td>69990.000000</td>\n",
              "      <td>2.826300e+04</td>\n",
              "      <td>5.074200e+04</td>\n",
              "      <td>7.000600e+04</td>\n",
              "    </tr>\n",
              "    <tr>\n",
              "      <th>mean</th>\n",
              "      <td>2014.935934</td>\n",
              "      <td>1245.373725</td>\n",
              "      <td>161415.178285</td>\n",
              "      <td>24.165638</td>\n",
              "      <td>3.762225e+06</td>\n",
              "      <td>3.557931e+06</td>\n",
              "      <td>1.518057e+06</td>\n",
              "    </tr>\n",
              "    <tr>\n",
              "      <th>std</th>\n",
              "      <td>3.615246</td>\n",
              "      <td>2352.682228</td>\n",
              "      <td>143527.769212</td>\n",
              "      <td>7.845883</td>\n",
              "      <td>1.950388e+07</td>\n",
              "      <td>8.966048e+06</td>\n",
              "      <td>9.196246e+05</td>\n",
              "    </tr>\n",
              "    <tr>\n",
              "      <th>min</th>\n",
              "      <td>2009.000000</td>\n",
              "      <td>2.000000</td>\n",
              "      <td>6.000000</td>\n",
              "      <td>12.000000</td>\n",
              "      <td>0.000000e+00</td>\n",
              "      <td>1.000000e+04</td>\n",
              "      <td>6.845100e+04</td>\n",
              "    </tr>\n",
              "    <tr>\n",
              "      <th>25%</th>\n",
              "      <td>2012.000000</td>\n",
              "      <td>252.000000</td>\n",
              "      <td>50356.750000</td>\n",
              "      <td>21.000000</td>\n",
              "      <td>0.000000e+00</td>\n",
              "      <td>2.750000e+05</td>\n",
              "      <td>7.469312e+05</td>\n",
              "    </tr>\n",
              "    <tr>\n",
              "      <th>50%</th>\n",
              "      <td>2015.000000</td>\n",
              "      <td>607.000000</td>\n",
              "      <td>121990.000000</td>\n",
              "      <td>23.000000</td>\n",
              "      <td>2.000000e+05</td>\n",
              "      <td>7.000000e+05</td>\n",
              "      <td>1.293328e+06</td>\n",
              "    </tr>\n",
              "    <tr>\n",
              "      <th>75%</th>\n",
              "      <td>2018.000000</td>\n",
              "      <td>1123.000000</td>\n",
              "      <td>240341.000000</td>\n",
              "      <td>27.000000</td>\n",
              "      <td>2.500000e+06</td>\n",
              "      <td>2.500000e+06</td>\n",
              "      <td>2.198414e+06</td>\n",
              "    </tr>\n",
              "    <tr>\n",
              "      <th>max</th>\n",
              "      <td>2021.000000</td>\n",
              "      <td>23826.000000</td>\n",
              "      <td>936900.000000</td>\n",
              "      <td>1775.000000</td>\n",
              "      <td>5.500000e+08</td>\n",
              "      <td>1.600000e+08</td>\n",
              "      <td>3.633188e+06</td>\n",
              "    </tr>\n",
              "  </tbody>\n",
              "</table>\n",
              "</div>\n",
              "      <button class=\"colab-df-convert\" onclick=\"convertToInteractive('df-4f905aee-3c9a-4d68-bee5-e0de6e07eaed')\"\n",
              "              title=\"Convert this dataframe to an interactive table.\"\n",
              "              style=\"display:none;\">\n",
              "        \n",
              "  <svg xmlns=\"http://www.w3.org/2000/svg\" height=\"24px\"viewBox=\"0 0 24 24\"\n",
              "       width=\"24px\">\n",
              "    <path d=\"M0 0h24v24H0V0z\" fill=\"none\"/>\n",
              "    <path d=\"M18.56 5.44l.94 2.06.94-2.06 2.06-.94-2.06-.94-.94-2.06-.94 2.06-2.06.94zm-11 1L8.5 8.5l.94-2.06 2.06-.94-2.06-.94L8.5 2.5l-.94 2.06-2.06.94zm10 10l.94 2.06.94-2.06 2.06-.94-2.06-.94-.94-2.06-.94 2.06-2.06.94z\"/><path d=\"M17.41 7.96l-1.37-1.37c-.4-.4-.92-.59-1.43-.59-.52 0-1.04.2-1.43.59L10.3 9.45l-7.72 7.72c-.78.78-.78 2.05 0 2.83L4 21.41c.39.39.9.59 1.41.59.51 0 1.02-.2 1.41-.59l7.78-7.78 2.81-2.81c.8-.78.8-2.07 0-2.86zM5.41 20L4 18.59l7.72-7.72 1.47 1.35L5.41 20z\"/>\n",
              "  </svg>\n",
              "      </button>\n",
              "      \n",
              "  <style>\n",
              "    .colab-df-container {\n",
              "      display:flex;\n",
              "      flex-wrap:wrap;\n",
              "      gap: 12px;\n",
              "    }\n",
              "\n",
              "    .colab-df-convert {\n",
              "      background-color: #E8F0FE;\n",
              "      border: none;\n",
              "      border-radius: 50%;\n",
              "      cursor: pointer;\n",
              "      display: none;\n",
              "      fill: #1967D2;\n",
              "      height: 32px;\n",
              "      padding: 0 0 0 0;\n",
              "      width: 32px;\n",
              "    }\n",
              "\n",
              "    .colab-df-convert:hover {\n",
              "      background-color: #E2EBFA;\n",
              "      box-shadow: 0px 1px 2px rgba(60, 64, 67, 0.3), 0px 1px 3px 1px rgba(60, 64, 67, 0.15);\n",
              "      fill: #174EA6;\n",
              "    }\n",
              "\n",
              "    [theme=dark] .colab-df-convert {\n",
              "      background-color: #3B4455;\n",
              "      fill: #D2E3FC;\n",
              "    }\n",
              "\n",
              "    [theme=dark] .colab-df-convert:hover {\n",
              "      background-color: #434B5C;\n",
              "      box-shadow: 0px 1px 3px 1px rgba(0, 0, 0, 0.15);\n",
              "      filter: drop-shadow(0px 1px 2px rgba(0, 0, 0, 0.3));\n",
              "      fill: #FFFFFF;\n",
              "    }\n",
              "  </style>\n",
              "\n",
              "      <script>\n",
              "        const buttonEl =\n",
              "          document.querySelector('#df-4f905aee-3c9a-4d68-bee5-e0de6e07eaed button.colab-df-convert');\n",
              "        buttonEl.style.display =\n",
              "          google.colab.kernel.accessAllowed ? 'block' : 'none';\n",
              "\n",
              "        async function convertToInteractive(key) {\n",
              "          const element = document.querySelector('#df-4f905aee-3c9a-4d68-bee5-e0de6e07eaed');\n",
              "          const dataTable =\n",
              "            await google.colab.kernel.invokeFunction('convertToInteractive',\n",
              "                                                     [key], {});\n",
              "          if (!dataTable) return;\n",
              "\n",
              "          const docLinkHtml = 'Like what you see? Visit the ' +\n",
              "            '<a target=\"_blank\" href=https://colab.research.google.com/notebooks/data_table.ipynb>data table notebook</a>'\n",
              "            + ' to learn more about interactive tables.';\n",
              "          element.innerHTML = '';\n",
              "          dataTable['output_type'] = 'display_data';\n",
              "          await google.colab.output.renderOutput(dataTable, element);\n",
              "          const docLink = document.createElement('div');\n",
              "          docLink.innerHTML = docLinkHtml;\n",
              "          element.appendChild(docLink);\n",
              "        }\n",
              "      </script>\n",
              "    </div>\n",
              "  </div>\n",
              "  "
            ]
          },
          "metadata": {},
          "execution_count": 12
        }
      ],
      "source": [
        "df.describe()"
      ]
    },
    {
      "cell_type": "code",
      "execution_count": null,
      "metadata": {
        "colab": {
          "base_uri": "https://localhost:8080/",
          "height": 791
        },
        "id": "YPDqA01t9q1b",
        "outputId": "42057fb3-d1da-4fce-8279-c434bbe3ef75"
      },
      "outputs": [
        {
          "output_type": "execute_result",
          "data": {
            "text/plain": [
              "<matplotlib.axes._subplots.AxesSubplot at 0x7eff3ca544d0>"
            ]
          },
          "metadata": {},
          "execution_count": 13
        },
        {
          "output_type": "display_data",
          "data": {
            "text/plain": [
              "<Figure size 1800x720 with 3 Axes>"
            ],
            "image/png": "[encoded data removed]"
          },
          "metadata": {
            "needs_background": "light"
          }
        }
      ],
      "source": [
        "# display null value of each column\n",
        "msno.bar(df_cp)\n"
      ]
    },
    {
      "cell_type": "code",
      "execution_count": 3,
      "metadata": {
        "colab": {
          "base_uri": "https://localhost:8080/",
          "height": 424
        },
        "id": "hyH_UKmHm0Fu",
        "outputId": "da87fb06-8ce6-4361-cb0e-a6890d9f6d36"
      },
      "outputs": [
        {
          "output_type": "execute_result",
          "data": {
            "text/plain": [
              "       season  team_id  player_id  player_age  transfer_fee_amnt  \\\n",
              "0        2009      985      33544        23.0         18800000.0   \n",
              "1        2009      985      62049        21.0          4500000.0   \n",
              "2        2009      985      43261        20.0          4000000.0   \n",
              "3        2009      985       1397        29.0                0.0   \n",
              "4        2009      985      73538        18.0                NaN   \n",
              "...       ...      ...        ...         ...                ...   \n",
              "70001    2021      306     257808        25.0                NaN   \n",
              "70002    2021      306     580142        22.0                NaN   \n",
              "70003    2021      468     340353        22.0                NaN   \n",
              "70004    2021      468     340353        22.0          7000000.0   \n",
              "70005    2021      499     187203        27.0                NaN   \n",
              "\n",
              "       market_val_amnt  transfer_id  \n",
              "0                  NaN       310832  \n",
              "1            1600000.0       319841  \n",
              "2             400000.0       315185  \n",
              "3                  NaN       306421  \n",
              "4                  NaN       339015  \n",
              "...                ...          ...  \n",
              "70001         500000.0      3071862  \n",
              "70002         100000.0      3268245  \n",
              "70003        1000000.0      3619917  \n",
              "70004        1000000.0      3619916  \n",
              "70005         125000.0      3611421  \n",
              "\n",
              "[70006 rows x 7 columns]"
            ],
            "text/html": [
              "\n",
              "  <div id=\"df-92d1e8fd-b3ca-45bd-910c-07d183d2a701\">\n",
              "    <div class=\"colab-df-container\">\n",
              "      <div>\n",
              "<style scoped>\n",
              "    .dataframe tbody tr th:only-of-type {\n",
              "        vertical-align: middle;\n",
              "    }\n",
              "\n",
              "    .dataframe tbody tr th {\n",
              "        vertical-align: top;\n",
              "    }\n",
              "\n",
              "    .dataframe thead th {\n",
              "        text-align: right;\n",
              "    }\n",
              "</style>\n",
              "<table border=\"1\" class=\"dataframe\">\n",
              "  <thead>\n",
              "    <tr style=\"text-align: right;\">\n",
              "      <th></th>\n",
              "      <th>season</th>\n",
              "      <th>team_id</th>\n",
              "      <th>player_id</th>\n",
              "      <th>player_age</th>\n",
              "      <th>transfer_fee_amnt</th>\n",
              "      <th>market_val_amnt</th>\n",
              "      <th>transfer_id</th>\n",
              "    </tr>\n",
              "  </thead>\n",
              "  <tbody>\n",
              "    <tr>\n",
              "      <th>0</th>\n",
              "      <td>2009</td>\n",
              "      <td>985</td>\n",
              "      <td>33544</td>\n",
              "      <td>23.0</td>\n",
              "      <td>18800000.0</td>\n",
              "      <td>NaN</td>\n",
              "      <td>310832</td>\n",
              "    </tr>\n",
              "    <tr>\n",
              "      <th>1</th>\n",
              "      <td>2009</td>\n",
              "      <td>985</td>\n",
              "      <td>62049</td>\n",
              "      <td>21.0</td>\n",
              "      <td>4500000.0</td>\n",
              "      <td>1600000.0</td>\n",
              "      <td>319841</td>\n",
              "    </tr>\n",
              "    <tr>\n",
              "      <th>2</th>\n",
              "      <td>2009</td>\n",
              "      <td>985</td>\n",
              "      <td>43261</td>\n",
              "      <td>20.0</td>\n",
              "      <td>4000000.0</td>\n",
              "      <td>400000.0</td>\n",
              "      <td>315185</td>\n",
              "    </tr>\n",
              "    <tr>\n",
              "      <th>3</th>\n",
              "      <td>2009</td>\n",
              "      <td>985</td>\n",
              "      <td>1397</td>\n",
              "      <td>29.0</td>\n",
              "      <td>0.0</td>\n",
              "      <td>NaN</td>\n",
              "      <td>306421</td>\n",
              "    </tr>\n",
              "    <tr>\n",
              "      <th>4</th>\n",
              "      <td>2009</td>\n",
              "      <td>985</td>\n",
              "      <td>73538</td>\n",
              "      <td>18.0</td>\n",
              "      <td>NaN</td>\n",
              "      <td>NaN</td>\n",
              "      <td>339015</td>\n",
              "    </tr>\n",
              "    <tr>\n",
              "      <th>...</th>\n",
              "      <td>...</td>\n",
              "      <td>...</td>\n",
              "      <td>...</td>\n",
              "      <td>...</td>\n",
              "      <td>...</td>\n",
              "      <td>...</td>\n",
              "      <td>...</td>\n",
              "    </tr>\n",
              "    <tr>\n",
              "      <th>70001</th>\n",
              "      <td>2021</td>\n",
              "      <td>306</td>\n",
              "      <td>257808</td>\n",
              "      <td>25.0</td>\n",
              "      <td>NaN</td>\n",
              "      <td>500000.0</td>\n",
              "      <td>3071862</td>\n",
              "    </tr>\n",
              "    <tr>\n",
              "      <th>70002</th>\n",
              "      <td>2021</td>\n",
              "      <td>306</td>\n",
              "      <td>580142</td>\n",
              "      <td>22.0</td>\n",
              "      <td>NaN</td>\n",
              "      <td>100000.0</td>\n",
              "      <td>3268245</td>\n",
              "    </tr>\n",
              "    <tr>\n",
              "      <th>70003</th>\n",
              "      <td>2021</td>\n",
              "      <td>468</td>\n",
              "      <td>340353</td>\n",
              "      <td>22.0</td>\n",
              "      <td>NaN</td>\n",
              "      <td>1000000.0</td>\n",
              "      <td>3619917</td>\n",
              "    </tr>\n",
              "    <tr>\n",
              "      <th>70004</th>\n",
              "      <td>2021</td>\n",
              "      <td>468</td>\n",
              "      <td>340353</td>\n",
              "      <td>22.0</td>\n",
              "      <td>7000000.0</td>\n",
              "      <td>1000000.0</td>\n",
              "      <td>3619916</td>\n",
              "    </tr>\n",
              "    <tr>\n",
              "      <th>70005</th>\n",
              "      <td>2021</td>\n",
              "      <td>499</td>\n",
              "      <td>187203</td>\n",
              "      <td>27.0</td>\n",
              "      <td>NaN</td>\n",
              "      <td>125000.0</td>\n",
              "      <td>3611421</td>\n",
              "    </tr>\n",
              "  </tbody>\n",
              "</table>\n",
              "<p>70006 rows × 7 columns</p>\n",
              "</div>\n",
              "      <button class=\"colab-df-convert\" onclick=\"convertToInteractive('df-92d1e8fd-b3ca-45bd-910c-07d183d2a701')\"\n",
              "              title=\"Convert this dataframe to an interactive table.\"\n",
              "              style=\"display:none;\">\n",
              "        \n",
              "  <svg xmlns=\"http://www.w3.org/2000/svg\" height=\"24px\"viewBox=\"0 0 24 24\"\n",
              "       width=\"24px\">\n",
              "    <path d=\"M0 0h24v24H0V0z\" fill=\"none\"/>\n",
              "    <path d=\"M18.56 5.44l.94 2.06.94-2.06 2.06-.94-2.06-.94-.94-2.06-.94 2.06-2.06.94zm-11 1L8.5 8.5l.94-2.06 2.06-.94-2.06-.94L8.5 2.5l-.94 2.06-2.06.94zm10 10l.94 2.06.94-2.06 2.06-.94-2.06-.94-.94-2.06-.94 2.06-2.06.94z\"/><path d=\"M17.41 7.96l-1.37-1.37c-.4-.4-.92-.59-1.43-.59-.52 0-1.04.2-1.43.59L10.3 9.45l-7.72 7.72c-.78.78-.78 2.05 0 2.83L4 21.41c.39.39.9.59 1.41.59.51 0 1.02-.2 1.41-.59l7.78-7.78 2.81-2.81c.8-.78.8-2.07 0-2.86zM5.41 20L4 18.59l7.72-7.72 1.47 1.35L5.41 20z\"/>\n",
              "  </svg>\n",
              "      </button>\n",
              "      \n",
              "  <style>\n",
              "    .colab-df-container {\n",
              "      display:flex;\n",
              "      flex-wrap:wrap;\n",
              "      gap: 12px;\n",
              "    }\n",
              "\n",
              "    .colab-df-convert {\n",
              "      background-color: #E8F0FE;\n",
              "      border: none;\n",
              "      border-radius: 50%;\n",
              "      cursor: pointer;\n",
              "      display: none;\n",
              "      fill: #1967D2;\n",
              "      height: 32px;\n",
              "      padding: 0 0 0 0;\n",
              "      width: 32px;\n",
              "    }\n",
              "\n",
              "    .colab-df-convert:hover {\n",
              "      background-color: #E2EBFA;\n",
              "      box-shadow: 0px 1px 2px rgba(60, 64, 67, 0.3), 0px 1px 3px 1px rgba(60, 64, 67, 0.15);\n",
              "      fill: #174EA6;\n",
              "    }\n",
              "\n",
              "    [theme=dark] .colab-df-convert {\n",
              "      background-color: #3B4455;\n",
              "      fill: #D2E3FC;\n",
              "    }\n",
              "\n",
              "    [theme=dark] .colab-df-convert:hover {\n",
              "      background-color: #434B5C;\n",
              "      box-shadow: 0px 1px 3px 1px rgba(0, 0, 0, 0.15);\n",
              "      filter: drop-shadow(0px 1px 2px rgba(0, 0, 0, 0.3));\n",
              "      fill: #FFFFFF;\n",
              "    }\n",
              "  </style>\n",
              "\n",
              "      <script>\n",
              "        const buttonEl =\n",
              "          document.querySelector('#df-92d1e8fd-b3ca-45bd-910c-07d183d2a701 button.colab-df-convert');\n",
              "        buttonEl.style.display =\n",
              "          google.colab.kernel.accessAllowed ? 'block' : 'none';\n",
              "\n",
              "        async function convertToInteractive(key) {\n",
              "          const element = document.querySelector('#df-92d1e8fd-b3ca-45bd-910c-07d183d2a701');\n",
              "          const dataTable =\n",
              "            await google.colab.kernel.invokeFunction('convertToInteractive',\n",
              "                                                     [key], {});\n",
              "          if (!dataTable) return;\n",
              "\n",
              "          const docLinkHtml = 'Like what you see? Visit the ' +\n",
              "            '<a target=\"_blank\" href=https://colab.research.google.com/notebooks/data_table.ipynb>data table notebook</a>'\n",
              "            + ' to learn more about interactive tables.';\n",
              "          element.innerHTML = '';\n",
              "          dataTable['output_type'] = 'display_data';\n",
              "          await google.colab.output.renderOutput(dataTable, element);\n",
              "          const docLink = document.createElement('div');\n",
              "          docLink.innerHTML = docLinkHtml;\n",
              "          element.appendChild(docLink);\n",
              "        }\n",
              "      </script>\n",
              "    </div>\n",
              "  </div>\n",
              "  "
            ]
          },
          "metadata": {},
          "execution_count": 3
        }
      ],
      "source": [
        "#  separate numeric data and categorical data to perform data imputation\n",
        "numerics = ['int64','float64']\n",
        "numericdf = df.select_dtypes(include=numerics)\n",
        "numericdf"
      ]
    },
    {
      "cell_type": "code",
      "execution_count": 4,
      "metadata": {
        "id": "ZNoan6vLm0Fu"
      },
      "outputs": [],
      "source": [
        "# import knn imputer from sklearn library and perform knn imputation\n",
        "from sklearn.impute import KNNImputer\n",
        "imputer = KNNImputer()\n",
        "imputer.fit(numericdf)\n",
        "new_df = imputer.transform(numericdf)"
      ]
    },
    {
      "cell_type": "code",
      "execution_count": 6,
      "metadata": {
        "colab": {
          "base_uri": "https://localhost:8080/",
          "height": 424
        },
        "id": "9jojeH0Sm0Fu",
        "outputId": "3eb533a7-f164-4d15-9c1a-0b1352e69bca"
      },
      "outputs": [
        {
          "output_type": "execute_result",
          "data": {
            "text/plain": [
              "            0      1         2     3           4          5          6\n",
              "0      2009.0  985.0   33544.0  23.0  18800000.0   450000.0   310832.0\n",
              "1      2009.0  985.0   62049.0  21.0   4500000.0  1600000.0   319841.0\n",
              "2      2009.0  985.0   43261.0  20.0   4000000.0   400000.0   315185.0\n",
              "3      2009.0  985.0    1397.0  29.0         0.0   525000.0   306421.0\n",
              "4      2009.0  985.0   73538.0  18.0   1020000.0   300000.0   339015.0\n",
              "...       ...    ...       ...   ...         ...        ...        ...\n",
              "70001  2021.0  306.0  257808.0  25.0      4000.0   500000.0  3071862.0\n",
              "70002  2021.0  306.0  580142.0  22.0         0.0   100000.0  3268245.0\n",
              "70003  2021.0  468.0  340353.0  22.0   2860000.0  1000000.0  3619917.0\n",
              "70004  2021.0  468.0  340353.0  22.0   7000000.0  1000000.0  3619916.0\n",
              "70005  2021.0  499.0  187203.0  27.0         0.0   125000.0  3611421.0\n",
              "\n",
              "[70006 rows x 7 columns]"
            ],
            "text/html": [
              "\n",
              "  <div id=\"df-77f7d55f-5f15-4e02-ad06-f5daa94565f5\">\n",
              "    <div class=\"colab-df-container\">\n",
              "      <div>\n",
              "<style scoped>\n",
              "    .dataframe tbody tr th:only-of-type {\n",
              "        vertical-align: middle;\n",
              "    }\n",
              "\n",
              "    .dataframe tbody tr th {\n",
              "        vertical-align: top;\n",
              "    }\n",
              "\n",
              "    .dataframe thead th {\n",
              "        text-align: right;\n",
              "    }\n",
              "</style>\n",
              "<table border=\"1\" class=\"dataframe\">\n",
              "  <thead>\n",
              "    <tr style=\"text-align: right;\">\n",
              "      <th></th>\n",
              "      <th>0</th>\n",
              "      <th>1</th>\n",
              "      <th>2</th>\n",
              "      <th>3</th>\n",
              "      <th>4</th>\n",
              "      <th>5</th>\n",
              "      <th>6</th>\n",
              "    </tr>\n",
              "  </thead>\n",
              "  <tbody>\n",
              "    <tr>\n",
              "      <th>0</th>\n",
              "      <td>2009.0</td>\n",
              "      <td>985.0</td>\n",
              "      <td>33544.0</td>\n",
              "      <td>23.0</td>\n",
              "      <td>18800000.0</td>\n",
              "      <td>450000.0</td>\n",
              "      <td>310832.0</td>\n",
              "    </tr>\n",
              "    <tr>\n",
              "      <th>1</th>\n",
              "      <td>2009.0</td>\n",
              "      <td>985.0</td>\n",
              "      <td>62049.0</td>\n",
              "      <td>21.0</td>\n",
              "      <td>4500000.0</td>\n",
              "      <td>1600000.0</td>\n",
              "      <td>319841.0</td>\n",
              "    </tr>\n",
              "    <tr>\n",
              "      <th>2</th>\n",
              "      <td>2009.0</td>\n",
              "      <td>985.0</td>\n",
              "      <td>43261.0</td>\n",
              "      <td>20.0</td>\n",
              "      <td>4000000.0</td>\n",
              "      <td>400000.0</td>\n",
              "      <td>315185.0</td>\n",
              "    </tr>\n",
              "    <tr>\n",
              "      <th>3</th>\n",
              "      <td>2009.0</td>\n",
              "      <td>985.0</td>\n",
              "      <td>1397.0</td>\n",
              "      <td>29.0</td>\n",
              "      <td>0.0</td>\n",
              "      <td>525000.0</td>\n",
              "      <td>306421.0</td>\n",
              "    </tr>\n",
              "    <tr>\n",
              "      <th>4</th>\n",
              "      <td>2009.0</td>\n",
              "      <td>985.0</td>\n",
              "      <td>73538.0</td>\n",
              "      <td>18.0</td>\n",
              "      <td>1020000.0</td>\n",
              "      <td>300000.0</td>\n",
              "      <td>339015.0</td>\n",
              "    </tr>\n",
              "    <tr>\n",
              "      <th>...</th>\n",
              "      <td>...</td>\n",
              "      <td>...</td>\n",
              "      <td>...</td>\n",
              "      <td>...</td>\n",
              "      <td>...</td>\n",
              "      <td>...</td>\n",
              "      <td>...</td>\n",
              "    </tr>\n",
              "    <tr>\n",
              "      <th>70001</th>\n",
              "      <td>2021.0</td>\n",
              "      <td>306.0</td>\n",
              "      <td>257808.0</td>\n",
              "      <td>25.0</td>\n",
              "      <td>4000.0</td>\n",
              "      <td>500000.0</td>\n",
              "      <td>3071862.0</td>\n",
              "    </tr>\n",
              "    <tr>\n",
              "      <th>70002</th>\n",
              "      <td>2021.0</td>\n",
              "      <td>306.0</td>\n",
              "      <td>580142.0</td>\n",
              "      <td>22.0</td>\n",
              "      <td>0.0</td>\n",
              "      <td>100000.0</td>\n",
              "      <td>3268245.0</td>\n",
              "    </tr>\n",
              "    <tr>\n",
              "      <th>70003</th>\n",
              "      <td>2021.0</td>\n",
              "      <td>468.0</td>\n",
              "      <td>340353.0</td>\n",
              "      <td>22.0</td>\n",
              "      <td>2860000.0</td>\n",
              "      <td>1000000.0</td>\n",
              "      <td>3619917.0</td>\n",
              "    </tr>\n",
              "    <tr>\n",
              "      <th>70004</th>\n",
              "      <td>2021.0</td>\n",
              "      <td>468.0</td>\n",
              "      <td>340353.0</td>\n",
              "      <td>22.0</td>\n",
              "      <td>7000000.0</td>\n",
              "      <td>1000000.0</td>\n",
              "      <td>3619916.0</td>\n",
              "    </tr>\n",
              "    <tr>\n",
              "      <th>70005</th>\n",
              "      <td>2021.0</td>\n",
              "      <td>499.0</td>\n",
              "      <td>187203.0</td>\n",
              "      <td>27.0</td>\n",
              "      <td>0.0</td>\n",
              "      <td>125000.0</td>\n",
              "      <td>3611421.0</td>\n",
              "    </tr>\n",
              "  </tbody>\n",
              "</table>\n",
              "<p>70006 rows × 7 columns</p>\n",
              "</div>\n",
              "      <button class=\"colab-df-convert\" onclick=\"convertToInteractive('df-77f7d55f-5f15-4e02-ad06-f5daa94565f5')\"\n",
              "              title=\"Convert this dataframe to an interactive table.\"\n",
              "              style=\"display:none;\">\n",
              "        \n",
              "  <svg xmlns=\"http://www.w3.org/2000/svg\" height=\"24px\"viewBox=\"0 0 24 24\"\n",
              "       width=\"24px\">\n",
              "    <path d=\"M0 0h24v24H0V0z\" fill=\"none\"/>\n",
              "    <path d=\"M18.56 5.44l.94 2.06.94-2.06 2.06-.94-2.06-.94-.94-2.06-.94 2.06-2.06.94zm-11 1L8.5 8.5l.94-2.06 2.06-.94-2.06-.94L8.5 2.5l-.94 2.06-2.06.94zm10 10l.94 2.06.94-2.06 2.06-.94-2.06-.94-.94-2.06-.94 2.06-2.06.94z\"/><path d=\"M17.41 7.96l-1.37-1.37c-.4-.4-.92-.59-1.43-.59-.52 0-1.04.2-1.43.59L10.3 9.45l-7.72 7.72c-.78.78-.78 2.05 0 2.83L4 21.41c.39.39.9.59 1.41.59.51 0 1.02-.2 1.41-.59l7.78-7.78 2.81-2.81c.8-.78.8-2.07 0-2.86zM5.41 20L4 18.59l7.72-7.72 1.47 1.35L5.41 20z\"/>\n",
              "  </svg>\n",
              "      </button>\n",
              "      \n",
              "  <style>\n",
              "    .colab-df-container {\n",
              "      display:flex;\n",
              "      flex-wrap:wrap;\n",
              "      gap: 12px;\n",
              "    }\n",
              "\n",
              "    .colab-df-convert {\n",
              "      background-color: #E8F0FE;\n",
              "      border: none;\n",
              "      border-radius: 50%;\n",
              "      cursor: pointer;\n",
              "      display: none;\n",
              "      fill: #1967D2;\n",
              "      height: 32px;\n",
              "      padding: 0 0 0 0;\n",
              "      width: 32px;\n",
              "    }\n",
              "\n",
              "    .colab-df-convert:hover {\n",
              "      background-color: #E2EBFA;\n",
              "      box-shadow: 0px 1px 2px rgba(60, 64, 67, 0.3), 0px 1px 3px 1px rgba(60, 64, 67, 0.15);\n",
              "      fill: #174EA6;\n",
              "    }\n",
              "\n",
              "    [theme=dark] .colab-df-convert {\n",
              "      background-color: #3B4455;\n",
              "      fill: #D2E3FC;\n",
              "    }\n",
              "\n",
              "    [theme=dark] .colab-df-convert:hover {\n",
              "      background-color: #434B5C;\n",
              "      box-shadow: 0px 1px 3px 1px rgba(0, 0, 0, 0.15);\n",
              "      filter: drop-shadow(0px 1px 2px rgba(0, 0, 0, 0.3));\n",
              "      fill: #FFFFFF;\n",
              "    }\n",
              "  </style>\n",
              "\n",
              "      <script>\n",
              "        const buttonEl =\n",
              "          document.querySelector('#df-77f7d55f-5f15-4e02-ad06-f5daa94565f5 button.colab-df-convert');\n",
              "        buttonEl.style.display =\n",
              "          google.colab.kernel.accessAllowed ? 'block' : 'none';\n",
              "\n",
              "        async function convertToInteractive(key) {\n",
              "          const element = document.querySelector('#df-77f7d55f-5f15-4e02-ad06-f5daa94565f5');\n",
              "          const dataTable =\n",
              "            await google.colab.kernel.invokeFunction('convertToInteractive',\n",
              "                                                     [key], {});\n",
              "          if (!dataTable) return;\n",
              "\n",
              "          const docLinkHtml = 'Like what you see? Visit the ' +\n",
              "            '<a target=\"_blank\" href=https://colab.research.google.com/notebooks/data_table.ipynb>data table notebook</a>'\n",
              "            + ' to learn more about interactive tables.';\n",
              "          element.innerHTML = '';\n",
              "          dataTable['output_type'] = 'display_data';\n",
              "          await google.colab.output.renderOutput(dataTable, element);\n",
              "          const docLink = document.createElement('div');\n",
              "          docLink.innerHTML = docLinkHtml;\n",
              "          element.appendChild(docLink);\n",
              "        }\n",
              "      </script>\n",
              "    </div>\n",
              "  </div>\n",
              "  "
            ]
          },
          "metadata": {},
          "execution_count": 6
        }
      ],
      "source": [
        "# see dataframe after knn imputation\n",
        "new_df = pd.DataFrame(new_df)\n",
        "new_df\n"
      ]
    },
    {
      "cell_type": "code",
      "execution_count": 7,
      "metadata": {
        "colab": {
          "base_uri": "https://localhost:8080/",
          "height": 424
        },
        "id": "ZZFvcXvim0Fv",
        "outputId": "75144140-4419-4209-c874-56df426cabd3"
      },
      "outputs": [
        {
          "output_type": "execute_result",
          "data": {
            "text/plain": [
              "       season  team_id  player_id  player_age  transfer_fee_amnt  \\\n",
              "0      2009.0    985.0    33544.0        23.0         18800000.0   \n",
              "1      2009.0    985.0    62049.0        21.0          4500000.0   \n",
              "2      2009.0    985.0    43261.0        20.0          4000000.0   \n",
              "3      2009.0    985.0     1397.0        29.0                0.0   \n",
              "4      2009.0    985.0    73538.0        18.0          1020000.0   \n",
              "...       ...      ...        ...         ...                ...   \n",
              "70001  2021.0    306.0   257808.0        25.0             4000.0   \n",
              "70002  2021.0    306.0   580142.0        22.0                0.0   \n",
              "70003  2021.0    468.0   340353.0        22.0          2860000.0   \n",
              "70004  2021.0    468.0   340353.0        22.0          7000000.0   \n",
              "70005  2021.0    499.0   187203.0        27.0                0.0   \n",
              "\n",
              "       market_val_amnt  transfer_id  \n",
              "0             450000.0     310832.0  \n",
              "1            1600000.0     319841.0  \n",
              "2             400000.0     315185.0  \n",
              "3             525000.0     306421.0  \n",
              "4             300000.0     339015.0  \n",
              "...                ...          ...  \n",
              "70001         500000.0    3071862.0  \n",
              "70002         100000.0    3268245.0  \n",
              "70003        1000000.0    3619917.0  \n",
              "70004        1000000.0    3619916.0  \n",
              "70005         125000.0    3611421.0  \n",
              "\n",
              "[70006 rows x 7 columns]"
            ],
            "text/html": [
              "\n",
              "  <div id=\"df-73fb1fef-69db-40ff-acef-a584f1cbcc01\">\n",
              "    <div class=\"colab-df-container\">\n",
              "      <div>\n",
              "<style scoped>\n",
              "    .dataframe tbody tr th:only-of-type {\n",
              "        vertical-align: middle;\n",
              "    }\n",
              "\n",
              "    .dataframe tbody tr th {\n",
              "        vertical-align: top;\n",
              "    }\n",
              "\n",
              "    .dataframe thead th {\n",
              "        text-align: right;\n",
              "    }\n",
              "</style>\n",
              "<table border=\"1\" class=\"dataframe\">\n",
              "  <thead>\n",
              "    <tr style=\"text-align: right;\">\n",
              "      <th></th>\n",
              "      <th>season</th>\n",
              "      <th>team_id</th>\n",
              "      <th>player_id</th>\n",
              "      <th>player_age</th>\n",
              "      <th>transfer_fee_amnt</th>\n",
              "      <th>market_val_amnt</th>\n",
              "      <th>transfer_id</th>\n",
              "    </tr>\n",
              "  </thead>\n",
              "  <tbody>\n",
              "    <tr>\n",
              "      <th>0</th>\n",
              "      <td>2009.0</td>\n",
              "      <td>985.0</td>\n",
              "      <td>33544.0</td>\n",
              "      <td>23.0</td>\n",
              "      <td>18800000.0</td>\n",
              "      <td>450000.0</td>\n",
              "      <td>310832.0</td>\n",
              "    </tr>\n",
              "    <tr>\n",
              "      <th>1</th>\n",
              "      <td>2009.0</td>\n",
              "      <td>985.0</td>\n",
              "      <td>62049.0</td>\n",
              "      <td>21.0</td>\n",
              "      <td>4500000.0</td>\n",
              "      <td>1600000.0</td>\n",
              "      <td>319841.0</td>\n",
              "    </tr>\n",
              "    <tr>\n",
              "      <th>2</th>\n",
              "      <td>2009.0</td>\n",
              "      <td>985.0</td>\n",
              "      <td>43261.0</td>\n",
              "      <td>20.0</td>\n",
              "      <td>4000000.0</td>\n",
              "      <td>400000.0</td>\n",
              "      <td>315185.0</td>\n",
              "    </tr>\n",
              "    <tr>\n",
              "      <th>3</th>\n",
              "      <td>2009.0</td>\n",
              "      <td>985.0</td>\n",
              "      <td>1397.0</td>\n",
              "      <td>29.0</td>\n",
              "      <td>0.0</td>\n",
              "      <td>525000.0</td>\n",
              "      <td>306421.0</td>\n",
              "    </tr>\n",
              "    <tr>\n",
              "      <th>4</th>\n",
              "      <td>2009.0</td>\n",
              "      <td>985.0</td>\n",
              "      <td>73538.0</td>\n",
              "      <td>18.0</td>\n",
              "      <td>1020000.0</td>\n",
              "      <td>300000.0</td>\n",
              "      <td>339015.0</td>\n",
              "    </tr>\n",
              "    <tr>\n",
              "      <th>...</th>\n",
              "      <td>...</td>\n",
              "      <td>...</td>\n",
              "      <td>...</td>\n",
              "      <td>...</td>\n",
              "      <td>...</td>\n",
              "      <td>...</td>\n",
              "      <td>...</td>\n",
              "    </tr>\n",
              "    <tr>\n",
              "      <th>70001</th>\n",
              "      <td>2021.0</td>\n",
              "      <td>306.0</td>\n",
              "      <td>257808.0</td>\n",
              "      <td>25.0</td>\n",
              "      <td>4000.0</td>\n",
              "      <td>500000.0</td>\n",
              "      <td>3071862.0</td>\n",
              "    </tr>\n",
              "    <tr>\n",
              "      <th>70002</th>\n",
              "      <td>2021.0</td>\n",
              "      <td>306.0</td>\n",
              "      <td>580142.0</td>\n",
              "      <td>22.0</td>\n",
              "      <td>0.0</td>\n",
              "      <td>100000.0</td>\n",
              "      <td>3268245.0</td>\n",
              "    </tr>\n",
              "    <tr>\n",
              "      <th>70003</th>\n",
              "      <td>2021.0</td>\n",
              "      <td>468.0</td>\n",
              "      <td>340353.0</td>\n",
              "      <td>22.0</td>\n",
              "      <td>2860000.0</td>\n",
              "      <td>1000000.0</td>\n",
              "      <td>3619917.0</td>\n",
              "    </tr>\n",
              "    <tr>\n",
              "      <th>70004</th>\n",
              "      <td>2021.0</td>\n",
              "      <td>468.0</td>\n",
              "      <td>340353.0</td>\n",
              "      <td>22.0</td>\n",
              "      <td>7000000.0</td>\n",
              "      <td>1000000.0</td>\n",
              "      <td>3619916.0</td>\n",
              "    </tr>\n",
              "    <tr>\n",
              "      <th>70005</th>\n",
              "      <td>2021.0</td>\n",
              "      <td>499.0</td>\n",
              "      <td>187203.0</td>\n",
              "      <td>27.0</td>\n",
              "      <td>0.0</td>\n",
              "      <td>125000.0</td>\n",
              "      <td>3611421.0</td>\n",
              "    </tr>\n",
              "  </tbody>\n",
              "</table>\n",
              "<p>70006 rows × 7 columns</p>\n",
              "</div>\n",
              "      <button class=\"colab-df-convert\" onclick=\"convertToInteractive('df-73fb1fef-69db-40ff-acef-a584f1cbcc01')\"\n",
              "              title=\"Convert this dataframe to an interactive table.\"\n",
              "              style=\"display:none;\">\n",
              "        \n",
              "  <svg xmlns=\"http://www.w3.org/2000/svg\" height=\"24px\"viewBox=\"0 0 24 24\"\n",
              "       width=\"24px\">\n",
              "    <path d=\"M0 0h24v24H0V0z\" fill=\"none\"/>\n",
              "    <path d=\"M18.56 5.44l.94 2.06.94-2.06 2.06-.94-2.06-.94-.94-2.06-.94 2.06-2.06.94zm-11 1L8.5 8.5l.94-2.06 2.06-.94-2.06-.94L8.5 2.5l-.94 2.06-2.06.94zm10 10l.94 2.06.94-2.06 2.06-.94-2.06-.94-.94-2.06-.94 2.06-2.06.94z\"/><path d=\"M17.41 7.96l-1.37-1.37c-.4-.4-.92-.59-1.43-.59-.52 0-1.04.2-1.43.59L10.3 9.45l-7.72 7.72c-.78.78-.78 2.05 0 2.83L4 21.41c.39.39.9.59 1.41.59.51 0 1.02-.2 1.41-.59l7.78-7.78 2.81-2.81c.8-.78.8-2.07 0-2.86zM5.41 20L4 18.59l7.72-7.72 1.47 1.35L5.41 20z\"/>\n",
              "  </svg>\n",
              "      </button>\n",
              "      \n",
              "  <style>\n",
              "    .colab-df-container {\n",
              "      display:flex;\n",
              "      flex-wrap:wrap;\n",
              "      gap: 12px;\n",
              "    }\n",
              "\n",
              "    .colab-df-convert {\n",
              "      background-color: #E8F0FE;\n",
              "      border: none;\n",
              "      border-radius: 50%;\n",
              "      cursor: pointer;\n",
              "      display: none;\n",
              "      fill: #1967D2;\n",
              "      height: 32px;\n",
              "      padding: 0 0 0 0;\n",
              "      width: 32px;\n",
              "    }\n",
              "\n",
              "    .colab-df-convert:hover {\n",
              "      background-color: #E2EBFA;\n",
              "      box-shadow: 0px 1px 2px rgba(60, 64, 67, 0.3), 0px 1px 3px 1px rgba(60, 64, 67, 0.15);\n",
              "      fill: #174EA6;\n",
              "    }\n",
              "\n",
              "    [theme=dark] .colab-df-convert {\n",
              "      background-color: #3B4455;\n",
              "      fill: #D2E3FC;\n",
              "    }\n",
              "\n",
              "    [theme=dark] .colab-df-convert:hover {\n",
              "      background-color: #434B5C;\n",
              "      box-shadow: 0px 1px 3px 1px rgba(0, 0, 0, 0.15);\n",
              "      filter: drop-shadow(0px 1px 2px rgba(0, 0, 0, 0.3));\n",
              "      fill: #FFFFFF;\n",
              "    }\n",
              "  </style>\n",
              "\n",
              "      <script>\n",
              "        const buttonEl =\n",
              "          document.querySelector('#df-73fb1fef-69db-40ff-acef-a584f1cbcc01 button.colab-df-convert');\n",
              "        buttonEl.style.display =\n",
              "          google.colab.kernel.accessAllowed ? 'block' : 'none';\n",
              "\n",
              "        async function convertToInteractive(key) {\n",
              "          const element = document.querySelector('#df-73fb1fef-69db-40ff-acef-a584f1cbcc01');\n",
              "          const dataTable =\n",
              "            await google.colab.kernel.invokeFunction('convertToInteractive',\n",
              "                                                     [key], {});\n",
              "          if (!dataTable) return;\n",
              "\n",
              "          const docLinkHtml = 'Like what you see? Visit the ' +\n",
              "            '<a target=\"_blank\" href=https://colab.research.google.com/notebooks/data_table.ipynb>data table notebook</a>'\n",
              "            + ' to learn more about interactive tables.';\n",
              "          element.innerHTML = '';\n",
              "          dataTable['output_type'] = 'display_data';\n",
              "          await google.colab.output.renderOutput(dataTable, element);\n",
              "          const docLink = document.createElement('div');\n",
              "          docLink.innerHTML = docLinkHtml;\n",
              "          element.appendChild(docLink);\n",
              "        }\n",
              "      </script>\n",
              "    </div>\n",
              "  </div>\n",
              "  "
            ]
          },
          "metadata": {},
          "execution_count": 7
        }
      ],
      "source": [
        "# rename dataframe header\n",
        "cols = ['season', 'team_id', 'player_id', 'player_age',\n",
        "        'transfer_fee_amnt', 'market_val_amnt', 'transfer_id']\n",
        "new_df.columns = cols\n",
        "new_df"
      ]
    },
    {
      "cell_type": "code",
      "execution_count": 8,
      "metadata": {
        "id": "HAdyLKbLnsTF"
      },
      "outputs": [],
      "source": [
        "# replace old column value with new column value\n",
        "cols = new_df.columns\n",
        "for col in cols:\n",
        "    df[col] = new_df[col]"
      ]
    },
    {
      "cell_type": "code",
      "execution_count": 9,
      "metadata": {
        "colab": {
          "base_uri": "https://localhost:8080/"
        },
        "id": "erp419i6EZi8",
        "outputId": "b282c336-37de-450a-9df3-f7ffd2ccf9e8"
      },
      "outputs": [
        {
          "output_type": "execute_result",
          "data": {
            "text/plain": [
              "0"
            ]
          },
          "metadata": {},
          "execution_count": 9
        }
      ],
      "source": [
        "# fill missing value in player nation column\n",
        "df['player_nation'].fillna(method='bfill', inplace = True)\n",
        "df['player_nation'].isnull().sum()"
      ]
    },
    {
      "cell_type": "markdown",
      "metadata": {
        "id": "b_sRXFssnkLI"
      },
      "source": [
        "Create a new column is_expensive that would denote if a player's market value is greater or less than the mean. This would be our binary target variable which would be classified using different models."
      ]
    },
    {
      "cell_type": "code",
      "execution_count": 10,
      "metadata": {
        "colab": {
          "base_uri": "https://localhost:8080/"
        },
        "id": "Xms8P7XmEe7B",
        "outputId": "8b221d4d-45d8-4c93-e896-f1223f647052"
      },
      "outputs": [
        {
          "output_type": "stream",
          "name": "stdout",
          "text": [
            "3037731.3801674144\n"
          ]
        }
      ],
      "source": [
        "# calculate means\n",
        "mean = df['market_val_amnt'].mean()\n",
        "print(mean)\n",
        "# turn market val amount column into a list\n",
        "list_mark = df['market_val_amnt'].tolist()\n",
        "# create a list\n",
        "res = []\n",
        "# loop through market val amount column\n",
        "# if value is above mean then append 1 (true)\n",
        "# else append 0 (false)\n",
        "for i in list_mark:\n",
        "  if i < mean:\n",
        "    res.append(0)\n",
        "  else:\n",
        "    res.append(1)\n",
        "\n",
        "# turn that list into  panda dataframe\n",
        "res = pd.DataFrame (res, columns = ['is_expensive'])\n",
        "# create a new column in df\n",
        "df['is_expensive'] = res"
      ]
    },
    {
      "cell_type": "code",
      "execution_count": 11,
      "metadata": {
        "colab": {
          "base_uri": "https://localhost:8080/"
        },
        "id": "jYDRBqaoHbGp",
        "outputId": "2f9fca56-a1fb-468d-9eaf-241bde9078fb"
      },
      "outputs": [
        {
          "output_type": "execute_result",
          "data": {
            "text/plain": [
              "0    56893\n",
              "1    13113\n",
              "Name: is_expensive, dtype: int64"
            ]
          },
          "metadata": {},
          "execution_count": 11
        }
      ],
      "source": [
        "# count 0 and 1 in is expensive column\n",
        "df['is_expensive'].value_counts()"
      ]
    },
    {
      "cell_type": "markdown",
      "metadata": {
        "id": "k7ZhiV1PvsKn"
      },
      "source": [
        "We see the that the distribution is highly unbalanced so we would need to use an alogirithm like SMOTE to even out the traning data."
      ]
    },
    {
      "cell_type": "code",
      "execution_count": null,
      "metadata": {
        "colab": {
          "base_uri": "https://localhost:8080/"
        },
        "id": "4xSkWwCOIqgN",
        "outputId": "8b5e03a6-898c-4be3-8243-d10fc59a3ddb"
      },
      "outputs": [
        {
          "output_type": "execute_result",
          "data": {
            "text/plain": [
              "league                  0\n",
              "season                  0\n",
              "window                  0\n",
              "team_id                 0\n",
              "team_name               0\n",
              "team_country            0\n",
              "dir                     0\n",
              "player_id               0\n",
              "player_name             0\n",
              "player_age              0\n",
              "player_nation           0\n",
              "player_pos              0\n",
              "counter_team_id         0\n",
              "counter_team_name       0\n",
              "counter_team_country    0\n",
              "transfer_fee_amnt       0\n",
              "market_val_amnt         0\n",
              "is_free                 0\n",
              "is_loan                 0\n",
              "is_loan_end             0\n",
              "is_retired              0\n",
              "transfer_id             0\n",
              "is_expensive            0\n",
              "dtype: int64"
            ]
          },
          "metadata": {},
          "execution_count": 22
        }
      ],
      "source": [
        "# check null for each column after data cleaning\n",
        "# will ignore player_nation2 column because will drop that column\n",
        "df.isnull().sum()"
      ]
    },
    {
      "cell_type": "markdown",
      "metadata": {
        "id": "AMgnd2R1qhya"
      },
      "source": [
        "#**EDA and Prepped Data Analysis**"
      ]
    },
    {
      "cell_type": "code",
      "execution_count": null,
      "metadata": {
        "colab": {
          "base_uri": "https://localhost:8080/",
          "height": 300
        },
        "id": "hCzYlFfzFfRF",
        "outputId": "0650c854-0dc0-4953-c5ef-bffa5c0a21d8"
      },
      "outputs": [
        {
          "output_type": "execute_result",
          "data": {
            "text/plain": [
              "             season       team_id      player_id    player_age  \\\n",
              "count  70006.000000  70006.000000   70006.000000  70006.000000   \n",
              "mean    2014.935934   1245.373725  161415.178285     24.165157   \n",
              "std        3.615246   2352.682228  143527.769212      7.845120   \n",
              "min     2009.000000      2.000000       6.000000     12.000000   \n",
              "25%     2012.000000    252.000000   50356.750000     21.000000   \n",
              "50%     2015.000000    607.000000  121990.000000     23.000000   \n",
              "75%     2018.000000   1123.000000  240341.000000     27.000000   \n",
              "max     2021.000000  23826.000000  936900.000000   1775.000000   \n",
              "\n",
              "       transfer_fee_amnt  market_val_amnt   transfer_id  is_expensive  \n",
              "count       7.000600e+04     7.000600e+04  7.000600e+04  70006.000000  \n",
              "mean        2.730297e+06     3.037731e+06  1.518057e+06      0.187313  \n",
              "std         1.435189e+07     7.945158e+06  9.196246e+05      0.390165  \n",
              "min         0.000000e+00     1.000000e+04  6.845100e+04      0.000000  \n",
              "25%         0.000000e+00     2.600000e+05  7.469312e+05      0.000000  \n",
              "50%         3.000000e+05     6.100000e+05  1.293328e+06      0.000000  \n",
              "75%         1.600000e+06     2.000000e+06  2.198414e+06      0.000000  \n",
              "max         5.500000e+08     1.600000e+08  3.633188e+06      1.000000  "
            ],
            "text/html": [
              "\n",
              "  <div id=\"df-0aa91d88-8765-4476-93ac-a77b4cefab06\">\n",
              "    <div class=\"colab-df-container\">\n",
              "      <div>\n",
              "<style scoped>\n",
              "    .dataframe tbody tr th:only-of-type {\n",
              "        vertical-align: middle;\n",
              "    }\n",
              "\n",
              "    .dataframe tbody tr th {\n",
              "        vertical-align: top;\n",
              "    }\n",
              "\n",
              "    .dataframe thead th {\n",
              "        text-align: right;\n",
              "    }\n",
              "</style>\n",
              "<table border=\"1\" class=\"dataframe\">\n",
              "  <thead>\n",
              "    <tr style=\"text-align: right;\">\n",
              "      <th></th>\n",
              "      <th>season</th>\n",
              "      <th>team_id</th>\n",
              "      <th>player_id</th>\n",
              "      <th>player_age</th>\n",
              "      <th>transfer_fee_amnt</th>\n",
              "      <th>market_val_amnt</th>\n",
              "      <th>transfer_id</th>\n",
              "      <th>is_expensive</th>\n",
              "    </tr>\n",
              "  </thead>\n",
              "  <tbody>\n",
              "    <tr>\n",
              "      <th>count</th>\n",
              "      <td>70006.000000</td>\n",
              "      <td>70006.000000</td>\n",
              "      <td>70006.000000</td>\n",
              "      <td>70006.000000</td>\n",
              "      <td>7.000600e+04</td>\n",
              "      <td>7.000600e+04</td>\n",
              "      <td>7.000600e+04</td>\n",
              "      <td>70006.000000</td>\n",
              "    </tr>\n",
              "    <tr>\n",
              "      <th>mean</th>\n",
              "      <td>2014.935934</td>\n",
              "      <td>1245.373725</td>\n",
              "      <td>161415.178285</td>\n",
              "      <td>24.165157</td>\n",
              "      <td>2.730297e+06</td>\n",
              "      <td>3.037731e+06</td>\n",
              "      <td>1.518057e+06</td>\n",
              "      <td>0.187313</td>\n",
              "    </tr>\n",
              "    <tr>\n",
              "      <th>std</th>\n",
              "      <td>3.615246</td>\n",
              "      <td>2352.682228</td>\n",
              "      <td>143527.769212</td>\n",
              "      <td>7.845120</td>\n",
              "      <td>1.435189e+07</td>\n",
              "      <td>7.945158e+06</td>\n",
              "      <td>9.196246e+05</td>\n",
              "      <td>0.390165</td>\n",
              "    </tr>\n",
              "    <tr>\n",
              "      <th>min</th>\n",
              "      <td>2009.000000</td>\n",
              "      <td>2.000000</td>\n",
              "      <td>6.000000</td>\n",
              "      <td>12.000000</td>\n",
              "      <td>0.000000e+00</td>\n",
              "      <td>1.000000e+04</td>\n",
              "      <td>6.845100e+04</td>\n",
              "      <td>0.000000</td>\n",
              "    </tr>\n",
              "    <tr>\n",
              "      <th>25%</th>\n",
              "      <td>2012.000000</td>\n",
              "      <td>252.000000</td>\n",
              "      <td>50356.750000</td>\n",
              "      <td>21.000000</td>\n",
              "      <td>0.000000e+00</td>\n",
              "      <td>2.600000e+05</td>\n",
              "      <td>7.469312e+05</td>\n",
              "      <td>0.000000</td>\n",
              "    </tr>\n",
              "    <tr>\n",
              "      <th>50%</th>\n",
              "      <td>2015.000000</td>\n",
              "      <td>607.000000</td>\n",
              "      <td>121990.000000</td>\n",
              "      <td>23.000000</td>\n",
              "      <td>3.000000e+05</td>\n",
              "      <td>6.100000e+05</td>\n",
              "      <td>1.293328e+06</td>\n",
              "      <td>0.000000</td>\n",
              "    </tr>\n",
              "    <tr>\n",
              "      <th>75%</th>\n",
              "      <td>2018.000000</td>\n",
              "      <td>1123.000000</td>\n",
              "      <td>240341.000000</td>\n",
              "      <td>27.000000</td>\n",
              "      <td>1.600000e+06</td>\n",
              "      <td>2.000000e+06</td>\n",
              "      <td>2.198414e+06</td>\n",
              "      <td>0.000000</td>\n",
              "    </tr>\n",
              "    <tr>\n",
              "      <th>max</th>\n",
              "      <td>2021.000000</td>\n",
              "      <td>23826.000000</td>\n",
              "      <td>936900.000000</td>\n",
              "      <td>1775.000000</td>\n",
              "      <td>5.500000e+08</td>\n",
              "      <td>1.600000e+08</td>\n",
              "      <td>3.633188e+06</td>\n",
              "      <td>1.000000</td>\n",
              "    </tr>\n",
              "  </tbody>\n",
              "</table>\n",
              "</div>\n",
              "      <button class=\"colab-df-convert\" onclick=\"convertToInteractive('df-0aa91d88-8765-4476-93ac-a77b4cefab06')\"\n",
              "              title=\"Convert this dataframe to an interactive table.\"\n",
              "              style=\"display:none;\">\n",
              "        \n",
              "  <svg xmlns=\"http://www.w3.org/2000/svg\" height=\"24px\"viewBox=\"0 0 24 24\"\n",
              "       width=\"24px\">\n",
              "    <path d=\"M0 0h24v24H0V0z\" fill=\"none\"/>\n",
              "    <path d=\"M18.56 5.44l.94 2.06.94-2.06 2.06-.94-2.06-.94-.94-2.06-.94 2.06-2.06.94zm-11 1L8.5 8.5l.94-2.06 2.06-.94-2.06-.94L8.5 2.5l-.94 2.06-2.06.94zm10 10l.94 2.06.94-2.06 2.06-.94-2.06-.94-.94-2.06-.94 2.06-2.06.94z\"/><path d=\"M17.41 7.96l-1.37-1.37c-.4-.4-.92-.59-1.43-.59-.52 0-1.04.2-1.43.59L10.3 9.45l-7.72 7.72c-.78.78-.78 2.05 0 2.83L4 21.41c.39.39.9.59 1.41.59.51 0 1.02-.2 1.41-.59l7.78-7.78 2.81-2.81c.8-.78.8-2.07 0-2.86zM5.41 20L4 18.59l7.72-7.72 1.47 1.35L5.41 20z\"/>\n",
              "  </svg>\n",
              "      </button>\n",
              "      \n",
              "  <style>\n",
              "    .colab-df-container {\n",
              "      display:flex;\n",
              "      flex-wrap:wrap;\n",
              "      gap: 12px;\n",
              "    }\n",
              "\n",
              "    .colab-df-convert {\n",
              "      background-color: #E8F0FE;\n",
              "      border: none;\n",
              "      border-radius: 50%;\n",
              "      cursor: pointer;\n",
              "      display: none;\n",
              "      fill: #1967D2;\n",
              "      height: 32px;\n",
              "      padding: 0 0 0 0;\n",
              "      width: 32px;\n",
              "    }\n",
              "\n",
              "    .colab-df-convert:hover {\n",
              "      background-color: #E2EBFA;\n",
              "      box-shadow: 0px 1px 2px rgba(60, 64, 67, 0.3), 0px 1px 3px 1px rgba(60, 64, 67, 0.15);\n",
              "      fill: #174EA6;\n",
              "    }\n",
              "\n",
              "    [theme=dark] .colab-df-convert {\n",
              "      background-color: #3B4455;\n",
              "      fill: #D2E3FC;\n",
              "    }\n",
              "\n",
              "    [theme=dark] .colab-df-convert:hover {\n",
              "      background-color: #434B5C;\n",
              "      box-shadow: 0px 1px 3px 1px rgba(0, 0, 0, 0.15);\n",
              "      filter: drop-shadow(0px 1px 2px rgba(0, 0, 0, 0.3));\n",
              "      fill: #FFFFFF;\n",
              "    }\n",
              "  </style>\n",
              "\n",
              "      <script>\n",
              "        const buttonEl =\n",
              "          document.querySelector('#df-0aa91d88-8765-4476-93ac-a77b4cefab06 button.colab-df-convert');\n",
              "        buttonEl.style.display =\n",
              "          google.colab.kernel.accessAllowed ? 'block' : 'none';\n",
              "\n",
              "        async function convertToInteractive(key) {\n",
              "          const element = document.querySelector('#df-0aa91d88-8765-4476-93ac-a77b4cefab06');\n",
              "          const dataTable =\n",
              "            await google.colab.kernel.invokeFunction('convertToInteractive',\n",
              "                                                     [key], {});\n",
              "          if (!dataTable) return;\n",
              "\n",
              "          const docLinkHtml = 'Like what you see? Visit the ' +\n",
              "            '<a target=\"_blank\" href=https://colab.research.google.com/notebooks/data_table.ipynb>data table notebook</a>'\n",
              "            + ' to learn more about interactive tables.';\n",
              "          element.innerHTML = '';\n",
              "          dataTable['output_type'] = 'display_data';\n",
              "          await google.colab.output.renderOutput(dataTable, element);\n",
              "          const docLink = document.createElement('div');\n",
              "          docLink.innerHTML = docLinkHtml;\n",
              "          element.appendChild(docLink);\n",
              "        }\n",
              "      </script>\n",
              "    </div>\n",
              "  </div>\n",
              "  "
            ]
          },
          "metadata": {},
          "execution_count": 23
        }
      ],
      "source": [
        "#we take a look at the statistics of our numeric attributes\n",
        "df.describe()"
      ]
    },
    {
      "cell_type": "markdown",
      "metadata": {
        "id": "4jWnaX_a6jHn"
      },
      "source": [
        "At first glamce, seeing min value of 0 for transfer free amount might seem wrong but using our domain expertise we know that when a player's contract runs out with his current club his transfer to a new club would be therefore a free transfer. There seem to be some data that are just plain wrong: such as max player age being 1775 and max transfer fee amount being 550million."
      ]
    },
    {
      "cell_type": "markdown",
      "metadata": {
        "id": "VjWZd-GdBslO"
      },
      "source": [
        "Using our domain knowledge, we know that the most expensive transfer in football history is of Neymar from Barcelona to PSG which costed 250million, and also we know that there are no players over the age of 50 playing soccer."
      ]
    },
    {
      "cell_type": "code",
      "execution_count": 12,
      "metadata": {
        "colab": {
          "base_uri": "https://localhost:8080/"
        },
        "id": "QmITon3B76Ke",
        "outputId": "7d49ad76-afbd-4d86-9aed-9b19622d8640"
      },
      "outputs": [
        {
          "output_type": "execute_result",
          "data": {
            "text/plain": [
              "(69970, 23)"
            ]
          },
          "metadata": {},
          "execution_count": 12
        }
      ],
      "source": [
        "#df = df[df.player_age < 50]\n",
        "#df = df[df.transfer_fee_amnt < 250000000]\n",
        "#df[(df.player_age < 50) & (df.transfer_fee_amnt < 250000000.00000)]\n",
        "\n",
        "df.drop(df.index[df['player_age'] > 50],axis=0, inplace = True)\n",
        "df.drop(df.index[df['transfer_fee_amnt'] > 251000000],axis=0, inplace = True)\n",
        "\n",
        "\n",
        "df.shape"
      ]
    },
    {
      "cell_type": "code",
      "execution_count": null,
      "metadata": {
        "id": "96yexhCHppxS"
      },
      "outputs": [],
      "source": [
        "# create a function to set graph size\n",
        "def graph_size(x = 12, y = 10):\n",
        "  plt.figure(figsize = (x, y))\n",
        "  "
      ]
    },
    {
      "cell_type": "code",
      "execution_count": null,
      "metadata": {
        "colab": {
          "base_uri": "https://localhost:8080/",
          "height": 661
        },
        "id": "MMq_UFTArfgj",
        "outputId": "298aea40-c54f-4e6f-b069-d37ca490e636"
      },
      "outputs": [
        {
          "output_type": "execute_result",
          "data": {
            "text/plain": [
              "(array([11161.,  8704.,     0., 16100.,     0.,  7000.,  8199.,     0.,\n",
              "        11377.,  7429.]),\n",
              " array([0. , 0.6, 1.2, 1.8, 2.4, 3. , 3.6, 4.2, 4.8, 5.4, 6. ]),\n",
              " <a list of 10 Patch objects>)"
            ]
          },
          "metadata": {},
          "execution_count": 26
        },
        {
          "output_type": "display_data",
          "data": {
            "text/plain": [
              "<Figure size 864x720 with 1 Axes>"
            ],
            "image/png": "[encoded data removed]"
          },
          "metadata": {
            "needs_background": "light"
          }
        }
      ],
      "source": [
        "# display how many players in each league\n",
        "graph_size()\n",
        "plt.hist(df['team_country'], bins=10)"
      ]
    },
    {
      "cell_type": "markdown",
      "source": [
        "The Italian league(SERIA A) cumulatively has made the most number of transfers, followed by portugal and england. German clubs in comparison has made the least transfers to it's league(Bundesliga) indicating that they are more keen on nurturing homegrown players and building a squad with them. "
      ],
      "metadata": {
        "id": "gWDs4vp4OsDk"
      }
    },
    {
      "cell_type": "code",
      "execution_count": null,
      "metadata": {
        "colab": {
          "base_uri": "https://localhost:8080/",
          "height": 619
        },
        "id": "Qv0eesO1sG3D",
        "outputId": "a97a7819-96eb-40f7-e0a4-19d330bf8bae"
      },
      "outputs": [
        {
          "output_type": "execute_result",
          "data": {
            "text/plain": [
              "<BarContainer object of 7 artists>"
            ]
          },
          "metadata": {},
          "execution_count": 27
        },
        {
          "output_type": "display_data",
          "data": {
            "text/plain": [
              "<Figure size 864x720 with 1 Axes>"
            ],
            "image/png": "[encoded data removed]"
          },
          "metadata": {
            "needs_background": "light"
          }
        }
      ],
      "source": [
        "# Display the total player transfer value of each coutry.\n",
        "import collections\n",
        "total = collections.defaultdict(int)\n",
        "for player, country in zip(df['transfer_fee_amnt'].tolist(),df['team_country'].tolist()):\n",
        "  total[country] += player\n",
        "\n",
        "graph_size()\n",
        "plt.bar(list(total.keys()),list(total.values()), color=\"goldenrod\")"
      ]
    },
    {
      "cell_type": "markdown",
      "source": [
        "Italy has spent the most amount of money in transfer over the last 12 years but England stands out at spending more relative to number of players bought. "
      ],
      "metadata": {
        "id": "tZdkAAUXPD5t"
      }
    },
    {
      "cell_type": "code",
      "execution_count": null,
      "metadata": {
        "id": "JltUgPTgKQX7"
      },
      "outputs": [],
      "source": [
        "\n",
        "col = df['team_country'].unique()\n",
        "mapping = collections.defaultdict(int)\n",
        "\n",
        "play_na = df['player_nation'].tolist()\n",
        "mark = df['market_val_amnt'].tolist()\n",
        "for nation,val in zip(play_na,mark):\n",
        "        if nation in col:\n",
        "          mapping[nation] += val\n"
      ]
    },
    {
      "cell_type": "code",
      "execution_count": null,
      "metadata": {
        "colab": {
          "base_uri": "https://localhost:8080/"
        },
        "id": "vtZjXLXQLabu",
        "outputId": "aebd414b-2211-40e3-a2e9-a5cae4a8ddb0"
      },
      "outputs": [
        {
          "output_type": "stream",
          "name": "stdout",
          "text": [
            "defaultdict(<class 'int'>, {'France': 21145902000.0, 'England': 18384828000.0, 'Portugal': 16726628000.0, 'Italy': 20158310000.0, 'Spain': 19918525000.0, 'Netherlands': 10682678000.0, 'Germany': 10599030000.0})\n"
          ]
        }
      ],
      "source": [
        "print(mapping)"
      ]
    },
    {
      "cell_type": "code",
      "execution_count": null,
      "metadata": {
        "colab": {
          "base_uri": "https://localhost:8080/",
          "height": 619
        },
        "id": "jOCyTSP2LMYm",
        "outputId": "543df715-fa01-4bbc-f33b-346327e992a6"
      },
      "outputs": [
        {
          "output_type": "execute_result",
          "data": {
            "text/plain": [
              "<BarContainer object of 7 artists>"
            ]
          },
          "metadata": {},
          "execution_count": 30
        },
        {
          "output_type": "display_data",
          "data": {
            "text/plain": [
              "<Figure size 864x720 with 1 Axes>"
            ],
            "image/png": "[encoded data removed]"
          },
          "metadata": {
            "needs_background": "light"
          }
        }
      ],
      "source": [
        "graph_size()\n",
        "plt.bar(list(mapping.keys()),list(mapping.values()))"
      ]
    },
    {
      "cell_type": "markdown",
      "source": [
        "So our original hypothesis seems to have been disproven as France is leading the way in total player valuation exceeding the likes of England. In second and third place are Italy and Spain respectively. This graph makes perfect sense since France won the FIFA World Cup in 2018, Italy won the Euros in 2020 and Spain were dominant till 2015. Therefore, it is in fact not quite accurate to say that England players on average are valued more than their European opponents."
      ],
      "metadata": {
        "id": "-ObmZ2JqP4fw"
      }
    },
    {
      "cell_type": "code",
      "execution_count": null,
      "metadata": {
        "colab": {
          "base_uri": "https://localhost:8080/",
          "height": 609
        },
        "id": "KM0xww7e5zj2",
        "outputId": "dce0b02e-3859-47a0-d938-dc18496be56b"
      },
      "outputs": [
        {
          "output_type": "execute_result",
          "data": {
            "text/plain": [
              "<BarContainer object of 2 artists>"
            ]
          },
          "metadata": {},
          "execution_count": 31
        },
        {
          "output_type": "display_data",
          "data": {
            "text/plain": [
              "<Figure size 864x720 with 1 Axes>"
            ],
            "image/png": "[encoded data removed]"
          },
          "metadata": {
            "needs_background": "light"
          }
        }
      ],
      "source": [
        "# to see how many players had a free transfer\n",
        "graph_size()\n",
        "total = collections.defaultdict(int)\n",
        "for val in df['is_free'].tolist():\n",
        "  total[val] += 1\n",
        "x = np.array(['false','true'])\n",
        "y = np.array(list(total.values()))\n",
        "plt.bar(x,y)"
      ]
    },
    {
      "cell_type": "code",
      "execution_count": null,
      "metadata": {
        "colab": {
          "base_uri": "https://localhost:8080/",
          "height": 661
        },
        "id": "r9F9smtkGOD3",
        "outputId": "4d79122f-1c75-49e4-b7d8-55209137729e"
      },
      "outputs": [
        {
          "output_type": "execute_result",
          "data": {
            "text/plain": [
              "(array([16844.,  4700., 19698.,  6283.,  9329.,  5734.,  5766.,   729.,\n",
              "          737.,   150.]),\n",
              " array([ 0. ,  1.5,  3. ,  4.5,  6. ,  7.5,  9. , 10.5, 12. , 13.5, 15. ]),\n",
              " <a list of 10 Patch objects>)"
            ]
          },
          "metadata": {},
          "execution_count": 32
        },
        {
          "output_type": "display_data",
          "data": {
            "text/plain": [
              "<Figure size 864x720 with 1 Axes>"
            ],
            "image/png": "[encoded data removed]"
          },
          "metadata": {
            "needs_background": "light"
          }
        }
      ],
      "source": [
        "# see how many players on each position\n",
        "graph_size()\n",
        "plt.hist(df['player_pos'])"
      ]
    },
    {
      "cell_type": "markdown",
      "source": [
        "The most sought after position in transfers are Center Midfielder. The inclusion of Right Back in second is definitely surprising. I would expect clubs going for forward positions like LW(left winger), RW(right winger) and CF(Center forward) more often. "
      ],
      "metadata": {
        "id": "qzVueTLnRclx"
      }
    },
    {
      "cell_type": "code",
      "execution_count": null,
      "metadata": {
        "colab": {
          "base_uri": "https://localhost:8080/",
          "height": 619
        },
        "id": "qyZ0iovFKN9Z",
        "outputId": "dc0d86f6-1203-4435-c9ec-cd6f502ba27d"
      },
      "outputs": [
        {
          "output_type": "execute_result",
          "data": {
            "text/plain": [
              "<BarContainer object of 13 artists>"
            ]
          },
          "metadata": {},
          "execution_count": 33
        },
        {
          "output_type": "display_data",
          "data": {
            "text/plain": [
              "<Figure size 864x720 with 1 Axes>"
            ],
            "image/png": "[encoded data removed]"
          },
          "metadata": {
            "needs_background": "light"
          }
        }
      ],
      "source": [
        "# the total transfer value of seven leagues  each season\n",
        "\n",
        "total = collections.defaultdict(int)\n",
        "\n",
        "for sea,val in zip(df['season'].tolist(),df['transfer_fee_amnt'].tolist()):\n",
        "  total[sea] += val\n",
        "\n",
        "graph_size()\n",
        "plt.bar(list(total.keys()),list(total.values()))"
      ]
    },
    {
      "cell_type": "markdown",
      "source": [
        "This is a very interesting trend showing the cumulative transfer fee was increasing during the 2009-2011 seasons but it slowly decreased for 3 seasons till bottoming out in 2014. It started to drop again after 2019 probably due to the outbreak of COVID which stopped play in many leagues for a couple months."
      ],
      "metadata": {
        "id": "seUkHxdCScW0"
      }
    },
    {
      "cell_type": "code",
      "execution_count": null,
      "metadata": {
        "colab": {
          "base_uri": "https://localhost:8080/",
          "height": 619
        },
        "id": "PdXoyTmuLF-t",
        "outputId": "cf1a5fab-986d-4d1b-ee6c-d6fdbf8b39cf"
      },
      "outputs": [
        {
          "output_type": "execute_result",
          "data": {
            "text/plain": [
              "[<matplotlib.lines.Line2D at 0x7eff37e29e10>]"
            ]
          },
          "metadata": {},
          "execution_count": 34
        },
        {
          "output_type": "display_data",
          "data": {
            "text/plain": [
              "<Figure size 864x720 with 1 Axes>"
            ],
            "image/png": "[encoded data removed]"
          },
          "metadata": {
            "needs_background": "light"
          }
        }
      ],
      "source": [
        "# the total market value of seven leagues  each season\n",
        "\n",
        "total = collections.defaultdict(int)\n",
        "\n",
        "for sea,val in zip(df['season'].tolist(),df['market_val_amnt'].tolist()):\n",
        "  total[sea] += val\n",
        "\n",
        "graph_size()\n",
        "# plt.bar(list(total.keys()),list(total.values()))\n",
        "plt.plot(list(total.keys()),list(total.values()), color='#e377c2')"
      ]
    },
    {
      "cell_type": "markdown",
      "source": [
        "This trend line shows an inflationary trend in player valuation till covid hits when it starts to notice a drop."
      ],
      "metadata": {
        "id": "UPLMOnJxUdAk"
      }
    },
    {
      "cell_type": "code",
      "execution_count": null,
      "metadata": {
        "colab": {
          "base_uri": "https://localhost:8080/",
          "height": 661
        },
        "id": "R9AMbgfgIiML",
        "outputId": "6e55e664-6241-4164-f117-fef9c897364a"
      },
      "outputs": [
        {
          "output_type": "execute_result",
          "data": {
            "text/plain": [
              "(array([56859.,     0.,     0.,     0.,     0.,     0.,     0.,     0.,\n",
              "            0., 13111.]),\n",
              " array([0. , 0.1, 0.2, 0.3, 0.4, 0.5, 0.6, 0.7, 0.8, 0.9, 1. ]),\n",
              " <a list of 10 Patch objects>)"
            ]
          },
          "metadata": {},
          "execution_count": 35
        },
        {
          "output_type": "display_data",
          "data": {
            "text/plain": [
              "<Figure size 864x720 with 1 Axes>"
            ],
            "image/png": "[encoded data removed]"
          },
          "metadata": {
            "needs_background": "light"
          }
        }
      ],
      "source": [
        "# show if inexpensive player and expensive play distribution\n",
        "graph_size()\n",
        "plt.hist(df['is_expensive'])"
      ]
    },
    {
      "cell_type": "code",
      "execution_count": null,
      "metadata": {
        "colab": {
          "base_uri": "https://localhost:8080/",
          "height": 741
        },
        "id": "_SAjCZ2TJRft",
        "outputId": "ba6a0044-691b-4b07-ceea-ff24bdbc074f"
      },
      "outputs": [
        {
          "output_type": "execute_result",
          "data": {
            "text/plain": [
              "{'boxes': [<matplotlib.lines.Line2D at 0x7eff374ea990>],\n",
              " 'caps': [<matplotlib.lines.Line2D at 0x7eff374ed990>,\n",
              "  <matplotlib.lines.Line2D at 0x7eff374eded0>],\n",
              " 'fliers': [<matplotlib.lines.Line2D at 0x7eff374f39d0>],\n",
              " 'means': [],\n",
              " 'medians': [<matplotlib.lines.Line2D at 0x7eff374f3490>],\n",
              " 'whiskers': [<matplotlib.lines.Line2D at 0x7eff374eaed0>,\n",
              "  <matplotlib.lines.Line2D at 0x7eff374ed450>]}"
            ]
          },
          "metadata": {},
          "execution_count": 36
        },
        {
          "output_type": "display_data",
          "data": {
            "text/plain": [
              "<Figure size 864x720 with 1 Axes>"
            ],
            "image/png": "[encoded data removed]"
          },
          "metadata": {
            "needs_background": "light"
          }
        }
      ],
      "source": [
        "# boxplot for market value\n",
        "\n",
        "graph_size()\n",
        "plt.boxplot(df['market_val_amnt'])"
      ]
    },
    {
      "cell_type": "markdown",
      "source": [
        "These outliers are completely justified since there have been a handful of players who are valued at hundreds of millions of euros in the past 12 years. The median also indicates that most player valuations that take place are in fact astronomically small in comparison to the transfer valuations of superstars like Neymar and Ronaldo."
      ],
      "metadata": {
        "id": "H-dRBDytUyUN"
      }
    },
    {
      "cell_type": "code",
      "execution_count": null,
      "metadata": {
        "colab": {
          "base_uri": "https://localhost:8080/",
          "height": 741
        },
        "id": "g57Hj0WCJbMB",
        "outputId": "ceb17b3a-766f-440c-9a87-32a11ebd03ae"
      },
      "outputs": [
        {
          "output_type": "execute_result",
          "data": {
            "text/plain": [
              "{'boxes': [<matplotlib.lines.Line2D at 0x7eff378ddb90>],\n",
              " 'caps': [<matplotlib.lines.Line2D at 0x7eff378e4c50>,\n",
              "  <matplotlib.lines.Line2D at 0x7eff378ec1d0>],\n",
              " 'fliers': [<matplotlib.lines.Line2D at 0x7eff378ecc90>],\n",
              " 'means': [],\n",
              " 'medians': [<matplotlib.lines.Line2D at 0x7eff378ec750>],\n",
              " 'whiskers': [<matplotlib.lines.Line2D at 0x7eff378e41d0>,\n",
              "  <matplotlib.lines.Line2D at 0x7eff378e4710>]}"
            ]
          },
          "metadata": {},
          "execution_count": 37
        },
        {
          "output_type": "display_data",
          "data": {
            "text/plain": [
              "<Figure size 864x720 with 1 Axes>"
            ],
            "image/png": "[encoded data removed]"
          },
          "metadata": {
            "needs_background": "light"
          }
        }
      ],
      "source": [
        "# boxplot for transfer value\n",
        "graph_size()\n",
        "plt.boxplot(df['transfer_fee_amnt'])"
      ]
    },
    {
      "cell_type": "markdown",
      "source": [
        "The boxplot for transfer fee is very similar to transfer valuations for the exact same reason."
      ],
      "metadata": {
        "id": "PlplRZeeVoQa"
      }
    },
    {
      "cell_type": "code",
      "execution_count": null,
      "metadata": {
        "colab": {
          "base_uri": "https://localhost:8080/",
          "height": 966
        },
        "id": "oLOHlQSmRACm",
        "outputId": "5565d08a-064d-460f-9c4a-b70a8a84ec36"
      },
      "outputs": [
        {
          "output_type": "execute_result",
          "data": {
            "text/plain": [
              "<matplotlib.axes._subplots.AxesSubplot at 0x7eff378dd4d0>"
            ]
          },
          "metadata": {},
          "execution_count": 38
        },
        {
          "output_type": "display_data",
          "data": {
            "text/plain": [
              "<Figure size 1440x1080 with 2 Axes>"
            ],
            "image/png": "[encoded data removed]"
          },
          "metadata": {
            "needs_background": "light"
          }
        }
      ],
      "source": [
        "# heatmap\n",
        "graph_size(20,15)\n",
        "sns.heatmap(df.corr(),annot = True)"
      ]
    },
    {
      "cell_type": "markdown",
      "source": [
        "* An interesting high correlation between player id and season. But we would have dropped player id as it does not have a reasonable input for to predict our response variable.\n",
        "* Transfer id and season have a high correlation with each other. However like the previous feature we would be dropping this feature as it is just a indentifaction variable for the site(Transfermarkrt) that collected this data.\n",
        "* is_retired has a medium correlation with player age but that it reasonable.\n",
        "* We would not be using both transfer fee amount and transfer value in our model as the assumption would be that they are unknown."
      ],
      "metadata": {
        "id": "g1j9nA3uV0NS"
      }
    },
    {
      "cell_type": "code",
      "execution_count": null,
      "metadata": {
        "colab": {
          "base_uri": "https://localhost:8080/"
        },
        "id": "aPmx-b9qx3VB",
        "outputId": "53229951-46c2-49ce-8647-d1e279c2dbed"
      },
      "outputs": [
        {
          "output_type": "execute_result",
          "data": {
            "text/plain": [
              "league\n",
              "GB1   3592912.85727\n",
              "ES1   2783556.02022\n",
              "IT1   2696422.01242\n",
              "FR1   2434497.49970\n",
              "L1    2234183.02857\n",
              "PO1   1711487.36925\n",
              "NL1   1443538.21510\n",
              "Name: transfer_fee_amnt, dtype: float64"
            ]
          },
          "metadata": {},
          "execution_count": 39
        }
      ],
      "source": [
        "#find out the mean spending grouped by each league\n",
        "pd.set_option('display.float_format', lambda x: '%.5f' % x)\n",
        "df.groupby(['league'])['transfer_fee_amnt'].mean().sort_values(ascending=False).head(20)\n"
      ]
    },
    {
      "cell_type": "markdown",
      "source": [
        "The english league spends the highest per player followed by spain and Italy. The dutch league(NL1) has the lowest mean spending of all the major European leagues."
      ],
      "metadata": {
        "id": "Rmci5BhRXyp7"
      }
    },
    {
      "cell_type": "code",
      "execution_count": null,
      "metadata": {
        "colab": {
          "base_uri": "https://localhost:8080/"
        },
        "id": "nZunDXzjx4p2",
        "outputId": "defb4571-c434-4cac-98c4-8bcda13923b5"
      },
      "outputs": [
        {
          "output_type": "execute_result",
          "data": {
            "text/plain": [
              "player_pos\n",
              "midfield   5753300.85470\n",
              "attack     4453869.56522\n",
              "SS         3685516.32653\n",
              "CF         2817326.24574\n",
              "AM         2720716.46809\n",
              "RW         2707344.15529\n",
              "LW         2677019.80831\n",
              "CM         2583651.65547\n",
              "CB         2517727.87284\n",
              "DM         2392094.17510\n",
              "RB         2207509.77444\n",
              "defence    2091848.27586\n",
              "LB         2076564.90803\n",
              "LM         2021632.92181\n",
              "RM         1836078.70968\n",
              "GK         1546492.02610\n",
              "Name: transfer_fee_amnt, dtype: float64"
            ]
          },
          "metadata": {},
          "execution_count": 40
        }
      ],
      "source": [
        "#find out the mean transfer value grouped by each position of the player(outfield and goalie)\n",
        "df.groupby(['player_pos'])['transfer_fee_amnt'].mean().sort_values(ascending=False).head(20)\n"
      ]
    },
    {
      "cell_type": "markdown",
      "source": [
        "It is facinating to see that clubs are more likely to spend higher on average to get midfielders compared to forwards(attack)."
      ],
      "metadata": {
        "id": "77PRn1K2YJD3"
      }
    },
    {
      "cell_type": "code",
      "execution_count": null,
      "metadata": {
        "colab": {
          "base_uri": "https://localhost:8080/"
        },
        "id": "8SmNusCvx7XJ",
        "outputId": "9a0c0311-d9a9-473a-8604-cb5bab6ac685"
      },
      "outputs": [
        {
          "output_type": "execute_result",
          "data": {
            "text/plain": [
              "team_name\n",
              "FC Barcelona              9942656.70732\n",
              "Real Madrid               9290523.80952\n",
              "AS Bari                   8659248.43750\n",
              "Naval 1º de Maio          8259155.17241\n",
              "Manchester United         6714809.52381\n",
              "Borussia Dortmund         6363347.43590\n",
              "Atlético de Madrid        5917238.80597\n",
              "Bayern Munich             5746105.30612\n",
              "Arsenal FC                5737836.79654\n",
              "Paris Saint-Germain       5655288.48168\n",
              "Liverpool FC              5545153.34686\n",
              "Chelsea FC                5514080.42895\n",
              "Manchester City           5296486.85897\n",
              "RB Leipzig                5098491.22807\n",
              "Wolverhampton Wanderers   4954311.34565\n",
              "Birmingham City           4913016.16162\n",
              "FC Internazionale         4845900.00000\n",
              "Southampton FC            4811810.22727\n",
              "Olympique Lyon            4678441.69014\n",
              "Juventus FC               4363311.33501\n",
              "Name: transfer_fee_amnt, dtype: float64"
            ]
          },
          "metadata": {},
          "execution_count": 41
        }
      ],
      "source": [
        "#find out how transfer fee is affected by the type of buying club\n",
        "df.groupby(['team_name'])['transfer_fee_amnt'].mean().sort_values(ascending=False).head(20)"
      ]
    },
    {
      "cell_type": "markdown",
      "source": [
        "Bacelona has the highest average net spend followed by Real Madrid which is not at all suprising. It is however quite odd to note that AS Bari and Navel de Maio are placed so high up even though they have not been in the tier 1 league of their respective countries for some time now. It is entirely possible that they have only 1 or 2 recorded transfers in the whole dataset which were high in value."
      ],
      "metadata": {
        "id": "ujW5oQzHYpaU"
      }
    },
    {
      "cell_type": "markdown",
      "source": [
        "#**Investigative Analysis & Results**"
      ],
      "metadata": {
        "id": "INSH7T2Ob3pf"
      }
    },
    {
      "cell_type": "markdown",
      "metadata": {
        "id": "40F5KqNeRmQe"
      },
      "source": [
        "##**Dimensionality reduction**"
      ]
    },
    {
      "cell_type": "code",
      "execution_count": null,
      "metadata": {
        "id": "Ci0s5eMyRshx"
      },
      "outputs": [],
      "source": [
        "#drop team id, player id, transfer id since they were filler columns made by the data collection site\n",
        "df.drop(['team_id','player_id','transfer_id'],axis = 1, inplace = True)\n",
        "#drop loan ended due to high correlinearity with the attribute is_loan, and they also explain the same process \n",
        "df.drop(['is_loan_end'],axis = 1, inplace = True)"
      ]
    },
    {
      "cell_type": "markdown",
      "metadata": {
        "id": "pWgjNqAIJ2Ur"
      },
      "source": [
        "##**Data scaling**"
      ]
    },
    {
      "cell_type": "code",
      "execution_count": 13,
      "metadata": {
        "colab": {
          "base_uri": "https://localhost:8080/",
          "height": 357
        },
        "id": "-qpaaPV3Qj2q",
        "outputId": "b9945389-0a42-4dee-d08e-50f807fdb430"
      },
      "outputs": [
        {
          "output_type": "execute_result",
          "data": {
            "text/plain": [
              "  league  season window  team_id          team_name team_country dir  \\\n",
              "0    GB1     0.0      s    985.0  Manchester United      England  in   \n",
              "1    GB1     0.0      s    985.0  Manchester United      England  in   \n",
              "2    GB1     0.0      s    985.0  Manchester United      England  in   \n",
              "3    GB1     0.0      s    985.0  Manchester United      England  in   \n",
              "4    GB1     0.0      s    985.0  Manchester United      England  in   \n",
              "\n",
              "   player_id       player_name  player_age player_nation player_pos  \\\n",
              "0    33544.0  Antonio Valencia     0.34375       Ecuador         RB   \n",
              "1    62049.0        Mame Diouf     0.28125       Senegal         CF   \n",
              "2    43261.0   Gabriel Obertan     0.25000        France         AM   \n",
              "3     1397.0      Michael Owen     0.53125       England         CF   \n",
              "4    73538.0     Scott Moffatt     0.18750       England         CB   \n",
              "\n",
              "  counter_team_id      counter_team_name counter_team_country  \\\n",
              "0            1071         Wigan Athletic              England   \n",
              "1             687               Molde FK               Norway   \n",
              "2              40  FC Girondins Bordeaux               France   \n",
              "3             762       Newcastle United              England   \n",
              "4            5242  Manchester United U18              England   \n",
              "\n",
              "   transfer_fee_amnt  market_val_amnt  is_free  is_loan  is_loan_end  \\\n",
              "0            0.07520         0.002750    False    False        False   \n",
              "1            0.01800         0.009938    False    False        False   \n",
              "2            0.01600         0.002438    False    False        False   \n",
              "3            0.00000         0.003219     True    False        False   \n",
              "4            0.00408         0.001813    False    False        False   \n",
              "\n",
              "   is_retired  transfer_id  is_expensive  \n",
              "0       False     310832.0             0  \n",
              "1       False     319841.0             0  \n",
              "2       False     315185.0             0  \n",
              "3       False     306421.0             0  \n",
              "4       False     339015.0             0  "
            ],
            "text/html": [
              "\n",
              "  <div id=\"df-b761e522-8ead-481d-8d82-3da3e5ea1bb7\">\n",
              "    <div class=\"colab-df-container\">\n",
              "      <div>\n",
              "<style scoped>\n",
              "    .dataframe tbody tr th:only-of-type {\n",
              "        vertical-align: middle;\n",
              "    }\n",
              "\n",
              "    .dataframe tbody tr th {\n",
              "        vertical-align: top;\n",
              "    }\n",
              "\n",
              "    .dataframe thead th {\n",
              "        text-align: right;\n",
              "    }\n",
              "</style>\n",
              "<table border=\"1\" class=\"dataframe\">\n",
              "  <thead>\n",
              "    <tr style=\"text-align: right;\">\n",
              "      <th></th>\n",
              "      <th>league</th>\n",
              "      <th>season</th>\n",
              "      <th>window</th>\n",
              "      <th>team_id</th>\n",
              "      <th>team_name</th>\n",
              "      <th>team_country</th>\n",
              "      <th>dir</th>\n",
              "      <th>player_id</th>\n",
              "      <th>player_name</th>\n",
              "      <th>player_age</th>\n",
              "      <th>player_nation</th>\n",
              "      <th>player_pos</th>\n",
              "      <th>counter_team_id</th>\n",
              "      <th>counter_team_name</th>\n",
              "      <th>counter_team_country</th>\n",
              "      <th>transfer_fee_amnt</th>\n",
              "      <th>market_val_amnt</th>\n",
              "      <th>is_free</th>\n",
              "      <th>is_loan</th>\n",
              "      <th>is_loan_end</th>\n",
              "      <th>is_retired</th>\n",
              "      <th>transfer_id</th>\n",
              "      <th>is_expensive</th>\n",
              "    </tr>\n",
              "  </thead>\n",
              "  <tbody>\n",
              "    <tr>\n",
              "      <th>0</th>\n",
              "      <td>GB1</td>\n",
              "      <td>0.0</td>\n",
              "      <td>s</td>\n",
              "      <td>985.0</td>\n",
              "      <td>Manchester United</td>\n",
              "      <td>England</td>\n",
              "      <td>in</td>\n",
              "      <td>33544.0</td>\n",
              "      <td>Antonio Valencia</td>\n",
              "      <td>0.34375</td>\n",
              "      <td>Ecuador</td>\n",
              "      <td>RB</td>\n",
              "      <td>1071</td>\n",
              "      <td>Wigan Athletic</td>\n",
              "      <td>England</td>\n",
              "      <td>0.07520</td>\n",
              "      <td>0.002750</td>\n",
              "      <td>False</td>\n",
              "      <td>False</td>\n",
              "      <td>False</td>\n",
              "      <td>False</td>\n",
              "      <td>310832.0</td>\n",
              "      <td>0</td>\n",
              "    </tr>\n",
              "    <tr>\n",
              "      <th>1</th>\n",
              "      <td>GB1</td>\n",
              "      <td>0.0</td>\n",
              "      <td>s</td>\n",
              "      <td>985.0</td>\n",
              "      <td>Manchester United</td>\n",
              "      <td>England</td>\n",
              "      <td>in</td>\n",
              "      <td>62049.0</td>\n",
              "      <td>Mame Diouf</td>\n",
              "      <td>0.28125</td>\n",
              "      <td>Senegal</td>\n",
              "      <td>CF</td>\n",
              "      <td>687</td>\n",
              "      <td>Molde FK</td>\n",
              "      <td>Norway</td>\n",
              "      <td>0.01800</td>\n",
              "      <td>0.009938</td>\n",
              "      <td>False</td>\n",
              "      <td>False</td>\n",
              "      <td>False</td>\n",
              "      <td>False</td>\n",
              "      <td>319841.0</td>\n",
              "      <td>0</td>\n",
              "    </tr>\n",
              "    <tr>\n",
              "      <th>2</th>\n",
              "      <td>GB1</td>\n",
              "      <td>0.0</td>\n",
              "      <td>s</td>\n",
              "      <td>985.0</td>\n",
              "      <td>Manchester United</td>\n",
              "      <td>England</td>\n",
              "      <td>in</td>\n",
              "      <td>43261.0</td>\n",
              "      <td>Gabriel Obertan</td>\n",
              "      <td>0.25000</td>\n",
              "      <td>France</td>\n",
              "      <td>AM</td>\n",
              "      <td>40</td>\n",
              "      <td>FC Girondins Bordeaux</td>\n",
              "      <td>France</td>\n",
              "      <td>0.01600</td>\n",
              "      <td>0.002438</td>\n",
              "      <td>False</td>\n",
              "      <td>False</td>\n",
              "      <td>False</td>\n",
              "      <td>False</td>\n",
              "      <td>315185.0</td>\n",
              "      <td>0</td>\n",
              "    </tr>\n",
              "    <tr>\n",
              "      <th>3</th>\n",
              "      <td>GB1</td>\n",
              "      <td>0.0</td>\n",
              "      <td>s</td>\n",
              "      <td>985.0</td>\n",
              "      <td>Manchester United</td>\n",
              "      <td>England</td>\n",
              "      <td>in</td>\n",
              "      <td>1397.0</td>\n",
              "      <td>Michael Owen</td>\n",
              "      <td>0.53125</td>\n",
              "      <td>England</td>\n",
              "      <td>CF</td>\n",
              "      <td>762</td>\n",
              "      <td>Newcastle United</td>\n",
              "      <td>England</td>\n",
              "      <td>0.00000</td>\n",
              "      <td>0.003219</td>\n",
              "      <td>True</td>\n",
              "      <td>False</td>\n",
              "      <td>False</td>\n",
              "      <td>False</td>\n",
              "      <td>306421.0</td>\n",
              "      <td>0</td>\n",
              "    </tr>\n",
              "    <tr>\n",
              "      <th>4</th>\n",
              "      <td>GB1</td>\n",
              "      <td>0.0</td>\n",
              "      <td>s</td>\n",
              "      <td>985.0</td>\n",
              "      <td>Manchester United</td>\n",
              "      <td>England</td>\n",
              "      <td>in</td>\n",
              "      <td>73538.0</td>\n",
              "      <td>Scott Moffatt</td>\n",
              "      <td>0.18750</td>\n",
              "      <td>England</td>\n",
              "      <td>CB</td>\n",
              "      <td>5242</td>\n",
              "      <td>Manchester United U18</td>\n",
              "      <td>England</td>\n",
              "      <td>0.00408</td>\n",
              "      <td>0.001813</td>\n",
              "      <td>False</td>\n",
              "      <td>False</td>\n",
              "      <td>False</td>\n",
              "      <td>False</td>\n",
              "      <td>339015.0</td>\n",
              "      <td>0</td>\n",
              "    </tr>\n",
              "  </tbody>\n",
              "</table>\n",
              "</div>\n",
              "      <button class=\"colab-df-convert\" onclick=\"convertToInteractive('df-b761e522-8ead-481d-8d82-3da3e5ea1bb7')\"\n",
              "              title=\"Convert this dataframe to an interactive table.\"\n",
              "              style=\"display:none;\">\n",
              "        \n",
              "  <svg xmlns=\"http://www.w3.org/2000/svg\" height=\"24px\"viewBox=\"0 0 24 24\"\n",
              "       width=\"24px\">\n",
              "    <path d=\"M0 0h24v24H0V0z\" fill=\"none\"/>\n",
              "    <path d=\"M18.56 5.44l.94 2.06.94-2.06 2.06-.94-2.06-.94-.94-2.06-.94 2.06-2.06.94zm-11 1L8.5 8.5l.94-2.06 2.06-.94-2.06-.94L8.5 2.5l-.94 2.06-2.06.94zm10 10l.94 2.06.94-2.06 2.06-.94-2.06-.94-.94-2.06-.94 2.06-2.06.94z\"/><path d=\"M17.41 7.96l-1.37-1.37c-.4-.4-.92-.59-1.43-.59-.52 0-1.04.2-1.43.59L10.3 9.45l-7.72 7.72c-.78.78-.78 2.05 0 2.83L4 21.41c.39.39.9.59 1.41.59.51 0 1.02-.2 1.41-.59l7.78-7.78 2.81-2.81c.8-.78.8-2.07 0-2.86zM5.41 20L4 18.59l7.72-7.72 1.47 1.35L5.41 20z\"/>\n",
              "  </svg>\n",
              "      </button>\n",
              "      \n",
              "  <style>\n",
              "    .colab-df-container {\n",
              "      display:flex;\n",
              "      flex-wrap:wrap;\n",
              "      gap: 12px;\n",
              "    }\n",
              "\n",
              "    .colab-df-convert {\n",
              "      background-color: #E8F0FE;\n",
              "      border: none;\n",
              "      border-radius: 50%;\n",
              "      cursor: pointer;\n",
              "      display: none;\n",
              "      fill: #1967D2;\n",
              "      height: 32px;\n",
              "      padding: 0 0 0 0;\n",
              "      width: 32px;\n",
              "    }\n",
              "\n",
              "    .colab-df-convert:hover {\n",
              "      background-color: #E2EBFA;\n",
              "      box-shadow: 0px 1px 2px rgba(60, 64, 67, 0.3), 0px 1px 3px 1px rgba(60, 64, 67, 0.15);\n",
              "      fill: #174EA6;\n",
              "    }\n",
              "\n",
              "    [theme=dark] .colab-df-convert {\n",
              "      background-color: #3B4455;\n",
              "      fill: #D2E3FC;\n",
              "    }\n",
              "\n",
              "    [theme=dark] .colab-df-convert:hover {\n",
              "      background-color: #434B5C;\n",
              "      box-shadow: 0px 1px 3px 1px rgba(0, 0, 0, 0.15);\n",
              "      filter: drop-shadow(0px 1px 2px rgba(0, 0, 0, 0.3));\n",
              "      fill: #FFFFFF;\n",
              "    }\n",
              "  </style>\n",
              "\n",
              "      <script>\n",
              "        const buttonEl =\n",
              "          document.querySelector('#df-b761e522-8ead-481d-8d82-3da3e5ea1bb7 button.colab-df-convert');\n",
              "        buttonEl.style.display =\n",
              "          google.colab.kernel.accessAllowed ? 'block' : 'none';\n",
              "\n",
              "        async function convertToInteractive(key) {\n",
              "          const element = document.querySelector('#df-b761e522-8ead-481d-8d82-3da3e5ea1bb7');\n",
              "          const dataTable =\n",
              "            await google.colab.kernel.invokeFunction('convertToInteractive',\n",
              "                                                     [key], {});\n",
              "          if (!dataTable) return;\n",
              "\n",
              "          const docLinkHtml = 'Like what you see? Visit the ' +\n",
              "            '<a target=\"_blank\" href=https://colab.research.google.com/notebooks/data_table.ipynb>data table notebook</a>'\n",
              "            + ' to learn more about interactive tables.';\n",
              "          element.innerHTML = '';\n",
              "          dataTable['output_type'] = 'display_data';\n",
              "          await google.colab.output.renderOutput(dataTable, element);\n",
              "          const docLink = document.createElement('div');\n",
              "          docLink.innerHTML = docLinkHtml;\n",
              "          element.appendChild(docLink);\n",
              "        }\n",
              "      </script>\n",
              "    </div>\n",
              "  </div>\n",
              "  "
            ]
          },
          "metadata": {},
          "execution_count": 13
        }
      ],
      "source": [
        "# apply minmax scaler to numeric columns\n",
        "# transform season ,player_age, transfer_fee_amnt, and market_val_amnt column.\n",
        "from sklearn.preprocessing import MinMaxScaler\n",
        "scaler = MinMaxScaler()\n",
        "cols = ['season' ,'player_age', 'transfer_fee_amnt','market_val_amnt'\t]\n",
        "for col in cols:\n",
        "  df[col] = scaler.fit_transform(df[col].to_numpy().reshape(-1,1))\n",
        "\n",
        "df.head()"
      ]
    },
    {
      "cell_type": "code",
      "execution_count": null,
      "metadata": {
        "colab": {
          "base_uri": "https://localhost:8080/"
        },
        "id": "1MgycDOO3fsG",
        "outputId": "3d6abe6c-fb93-401d-b2e9-fb0b13a4c262"
      },
      "outputs": [
        {
          "output_type": "execute_result",
          "data": {
            "text/plain": [
              "(69970, 19)"
            ]
          },
          "metadata": {},
          "execution_count": 44
        }
      ],
      "source": [
        "df.shape"
      ]
    },
    {
      "cell_type": "code",
      "execution_count": null,
      "metadata": {
        "colab": {
          "base_uri": "https://localhost:8080/"
        },
        "id": "2uER-ulI2n8P",
        "outputId": "890ac892-8035-4bd2-8c6c-5c15597a49e0"
      },
      "outputs": [
        {
          "output_type": "execute_result",
          "data": {
            "text/plain": [
              "[[(31385.210785311658, 0.0), 6],\n",
              " [(13420.388276682932, 0.0), 14],\n",
              " [(10282.97571596667, 0.0), 18],\n",
              " [(6040.557700203247, 3.1518372903929014e-259), 13],\n",
              " [(5480.868522973314, 1.3913018223738175e-81), 11],\n",
              " [(5087.534842718756, 3.607499810244382e-75), 10],\n",
              " [(3837.170428188727, 0.0), 3],\n",
              " [(2386.2793548933128, 0.0), 1],\n",
              " [(881.5723348878364, 3.6173975226835473e-187), 4],\n",
              " [(881.5723348878363, 3.617397522683753e-187), 0],\n",
              " [(745.0622942022073, 6.3837588277825235e-74), 8],\n",
              " [(604.0273628649704, 3.2417342453357154e-64), 12],\n",
              " [(390.42222085504915, 1.5680194181432652e-59), 7],\n",
              " [(273.8911617203827, 1.61016186579778e-61), 15],\n",
              " [(77.17640185789494, 2.284217569178774e-10), 9],\n",
              " [(36.01128983691709, 1.9617757692976283e-09), 5],\n",
              " [(7.45157308477986, 0.006338103204801083), 17],\n",
              " [(5.071504271173341, 0.0243222682112187), 2],\n",
              " [(3.679276356867687, 0.05509275621785814), 16]]"
            ]
          },
          "metadata": {},
          "execution_count": 45
        }
      ],
      "source": [
        "from scipy import stats\n",
        "\n",
        "#perform chi-square test\n",
        "target=df['is_expensive'].reset_index(drop=True).copy()\n",
        "chi_sq=[]\n",
        "for i in range(0,19):\n",
        "    chi_sq.append([stats.chi2_contingency(pd.crosstab(target, df.iloc[:,i]))[0:2],i])\n",
        "#chi_sq\n",
        "chi_sq.sort(reverse=True)\n",
        "chi_sq"
      ]
    },
    {
      "cell_type": "code",
      "execution_count": null,
      "metadata": {
        "colab": {
          "base_uri": "https://localhost:8080/"
        },
        "id": "o1My4INy6LWn",
        "outputId": "19a77e44-eaa4-48cd-ae2e-cd428ef8cd82"
      },
      "outputs": [
        {
          "output_type": "execute_result",
          "data": {
            "text/plain": [
              "league                   object\n",
              "season                  float64\n",
              "window                   object\n",
              "team_name                object\n",
              "team_country             object\n",
              "dir                      object\n",
              "player_name              object\n",
              "player_age              float64\n",
              "player_nation            object\n",
              "player_pos               object\n",
              "counter_team_id          object\n",
              "counter_team_name        object\n",
              "counter_team_country     object\n",
              "transfer_fee_amnt       float64\n",
              "market_val_amnt         float64\n",
              "is_free                    bool\n",
              "is_loan                    bool\n",
              "is_retired                 bool\n",
              "is_expensive              int64\n",
              "dtype: object"
            ]
          },
          "metadata": {},
          "execution_count": 46
        }
      ],
      "source": [
        "# check the types\n",
        "df.dtypes"
      ]
    },
    {
      "cell_type": "code",
      "execution_count": 14,
      "metadata": {
        "id": "mjeNk4rh6CJa"
      },
      "outputs": [],
      "source": [
        "# turn categorical into numeric by using labelencoder\n",
        "from sklearn.preprocessing import LabelEncoder\n",
        "\n",
        "lb = LabelEncoder()\n",
        "df['league']=lb.fit_transform(df['league'])\n",
        "df['window']=lb.fit_transform(df['window'])\n",
        "df['team_name']=lb.fit_transform(df['team_name'])\n",
        "df['team_country']=lb.fit_transform(df['team_country'])\n",
        "df['player_nation']=lb.fit_transform(df['player_nation'])\n",
        "df['dir']=lb.fit_transform(df['dir'])\n",
        "df['player_name']=lb.fit_transform(df['player_name'])\n",
        "df['player_pos']=lb.fit_transform(df['player_pos'])\n",
        "df['counter_team_id']=lb.fit_transform(df['counter_team_id'])\n",
        "df['counter_team_name']=lb.fit_transform(df['counter_team_name'])\n",
        "df['counter_team_country']=lb.fit_transform(df['counter_team_country'])\n"
      ]
    },
    {
      "cell_type": "code",
      "execution_count": null,
      "metadata": {
        "colab": {
          "base_uri": "https://localhost:8080/",
          "height": 270
        },
        "id": "-xnsOgLnUn7W",
        "outputId": "f19c517c-f254-41b9-f49e-b799c9846b1a"
      },
      "outputs": [
        {
          "output_type": "execute_result",
          "data": {
            "text/plain": [
              "   league  season  window  team_name  team_country  dir  player_name  \\\n",
              "0       2 0.00000       0        137             0    0         1478   \n",
              "1       2 0.00000       0        137             0    0        10033   \n",
              "2       2 0.00000       0        137             0    0         5587   \n",
              "3       2 0.00000       0        137             0    0        11323   \n",
              "4       2 0.00000       0        137             0    0        14666   \n",
              "\n",
              "   player_age  player_nation  player_pos  counter_team_id  counter_team_name  \\\n",
              "0     0.34375             45           9              109               3540   \n",
              "1     0.28125            135           2             2826               2224   \n",
              "2     0.25000             54           0             2051               1343   \n",
              "3     0.53125             48           2             2978               2330   \n",
              "4     0.18750             48           1             2481               2180   \n",
              "\n",
              "   counter_team_country  transfer_fee_amnt  market_val_amnt  is_free  is_loan  \\\n",
              "0                    35            0.07520          0.00275    False    False   \n",
              "1                    83            0.01800          0.00994    False    False   \n",
              "2                    38            0.01600          0.00244    False    False   \n",
              "3                    35            0.00000          0.00322     True    False   \n",
              "4                    35            0.00408          0.00181    False    False   \n",
              "\n",
              "   is_retired  is_expensive  \n",
              "0       False             0  \n",
              "1       False             0  \n",
              "2       False             0  \n",
              "3       False             0  \n",
              "4       False             0  "
            ],
            "text/html": [
              "\n",
              "  <div id=\"df-5f906a70-a0a7-4eab-b062-bd66f80576b5\">\n",
              "    <div class=\"colab-df-container\">\n",
              "      <div>\n",
              "<style scoped>\n",
              "    .dataframe tbody tr th:only-of-type {\n",
              "        vertical-align: middle;\n",
              "    }\n",
              "\n",
              "    .dataframe tbody tr th {\n",
              "        vertical-align: top;\n",
              "    }\n",
              "\n",
              "    .dataframe thead th {\n",
              "        text-align: right;\n",
              "    }\n",
              "</style>\n",
              "<table border=\"1\" class=\"dataframe\">\n",
              "  <thead>\n",
              "    <tr style=\"text-align: right;\">\n",
              "      <th></th>\n",
              "      <th>league</th>\n",
              "      <th>season</th>\n",
              "      <th>window</th>\n",
              "      <th>team_name</th>\n",
              "      <th>team_country</th>\n",
              "      <th>dir</th>\n",
              "      <th>player_name</th>\n",
              "      <th>player_age</th>\n",
              "      <th>player_nation</th>\n",
              "      <th>player_pos</th>\n",
              "      <th>counter_team_id</th>\n",
              "      <th>counter_team_name</th>\n",
              "      <th>counter_team_country</th>\n",
              "      <th>transfer_fee_amnt</th>\n",
              "      <th>market_val_amnt</th>\n",
              "      <th>is_free</th>\n",
              "      <th>is_loan</th>\n",
              "      <th>is_retired</th>\n",
              "      <th>is_expensive</th>\n",
              "    </tr>\n",
              "  </thead>\n",
              "  <tbody>\n",
              "    <tr>\n",
              "      <th>0</th>\n",
              "      <td>2</td>\n",
              "      <td>0.00000</td>\n",
              "      <td>0</td>\n",
              "      <td>137</td>\n",
              "      <td>0</td>\n",
              "      <td>0</td>\n",
              "      <td>1478</td>\n",
              "      <td>0.34375</td>\n",
              "      <td>45</td>\n",
              "      <td>9</td>\n",
              "      <td>109</td>\n",
              "      <td>3540</td>\n",
              "      <td>35</td>\n",
              "      <td>0.07520</td>\n",
              "      <td>0.00275</td>\n",
              "      <td>False</td>\n",
              "      <td>False</td>\n",
              "      <td>False</td>\n",
              "      <td>0</td>\n",
              "    </tr>\n",
              "    <tr>\n",
              "      <th>1</th>\n",
              "      <td>2</td>\n",
              "      <td>0.00000</td>\n",
              "      <td>0</td>\n",
              "      <td>137</td>\n",
              "      <td>0</td>\n",
              "      <td>0</td>\n",
              "      <td>10033</td>\n",
              "      <td>0.28125</td>\n",
              "      <td>135</td>\n",
              "      <td>2</td>\n",
              "      <td>2826</td>\n",
              "      <td>2224</td>\n",
              "      <td>83</td>\n",
              "      <td>0.01800</td>\n",
              "      <td>0.00994</td>\n",
              "      <td>False</td>\n",
              "      <td>False</td>\n",
              "      <td>False</td>\n",
              "      <td>0</td>\n",
              "    </tr>\n",
              "    <tr>\n",
              "      <th>2</th>\n",
              "      <td>2</td>\n",
              "      <td>0.00000</td>\n",
              "      <td>0</td>\n",
              "      <td>137</td>\n",
              "      <td>0</td>\n",
              "      <td>0</td>\n",
              "      <td>5587</td>\n",
              "      <td>0.25000</td>\n",
              "      <td>54</td>\n",
              "      <td>0</td>\n",
              "      <td>2051</td>\n",
              "      <td>1343</td>\n",
              "      <td>38</td>\n",
              "      <td>0.01600</td>\n",
              "      <td>0.00244</td>\n",
              "      <td>False</td>\n",
              "      <td>False</td>\n",
              "      <td>False</td>\n",
              "      <td>0</td>\n",
              "    </tr>\n",
              "    <tr>\n",
              "      <th>3</th>\n",
              "      <td>2</td>\n",
              "      <td>0.00000</td>\n",
              "      <td>0</td>\n",
              "      <td>137</td>\n",
              "      <td>0</td>\n",
              "      <td>0</td>\n",
              "      <td>11323</td>\n",
              "      <td>0.53125</td>\n",
              "      <td>48</td>\n",
              "      <td>2</td>\n",
              "      <td>2978</td>\n",
              "      <td>2330</td>\n",
              "      <td>35</td>\n",
              "      <td>0.00000</td>\n",
              "      <td>0.00322</td>\n",
              "      <td>True</td>\n",
              "      <td>False</td>\n",
              "      <td>False</td>\n",
              "      <td>0</td>\n",
              "    </tr>\n",
              "    <tr>\n",
              "      <th>4</th>\n",
              "      <td>2</td>\n",
              "      <td>0.00000</td>\n",
              "      <td>0</td>\n",
              "      <td>137</td>\n",
              "      <td>0</td>\n",
              "      <td>0</td>\n",
              "      <td>14666</td>\n",
              "      <td>0.18750</td>\n",
              "      <td>48</td>\n",
              "      <td>1</td>\n",
              "      <td>2481</td>\n",
              "      <td>2180</td>\n",
              "      <td>35</td>\n",
              "      <td>0.00408</td>\n",
              "      <td>0.00181</td>\n",
              "      <td>False</td>\n",
              "      <td>False</td>\n",
              "      <td>False</td>\n",
              "      <td>0</td>\n",
              "    </tr>\n",
              "  </tbody>\n",
              "</table>\n",
              "</div>\n",
              "      <button class=\"colab-df-convert\" onclick=\"convertToInteractive('df-5f906a70-a0a7-4eab-b062-bd66f80576b5')\"\n",
              "              title=\"Convert this dataframe to an interactive table.\"\n",
              "              style=\"display:none;\">\n",
              "        \n",
              "  <svg xmlns=\"http://www.w3.org/2000/svg\" height=\"24px\"viewBox=\"0 0 24 24\"\n",
              "       width=\"24px\">\n",
              "    <path d=\"M0 0h24v24H0V0z\" fill=\"none\"/>\n",
              "    <path d=\"M18.56 5.44l.94 2.06.94-2.06 2.06-.94-2.06-.94-.94-2.06-.94 2.06-2.06.94zm-11 1L8.5 8.5l.94-2.06 2.06-.94-2.06-.94L8.5 2.5l-.94 2.06-2.06.94zm10 10l.94 2.06.94-2.06 2.06-.94-2.06-.94-.94-2.06-.94 2.06-2.06.94z\"/><path d=\"M17.41 7.96l-1.37-1.37c-.4-.4-.92-.59-1.43-.59-.52 0-1.04.2-1.43.59L10.3 9.45l-7.72 7.72c-.78.78-.78 2.05 0 2.83L4 21.41c.39.39.9.59 1.41.59.51 0 1.02-.2 1.41-.59l7.78-7.78 2.81-2.81c.8-.78.8-2.07 0-2.86zM5.41 20L4 18.59l7.72-7.72 1.47 1.35L5.41 20z\"/>\n",
              "  </svg>\n",
              "      </button>\n",
              "      \n",
              "  <style>\n",
              "    .colab-df-container {\n",
              "      display:flex;\n",
              "      flex-wrap:wrap;\n",
              "      gap: 12px;\n",
              "    }\n",
              "\n",
              "    .colab-df-convert {\n",
              "      background-color: #E8F0FE;\n",
              "      border: none;\n",
              "      border-radius: 50%;\n",
              "      cursor: pointer;\n",
              "      display: none;\n",
              "      fill: #1967D2;\n",
              "      height: 32px;\n",
              "      padding: 0 0 0 0;\n",
              "      width: 32px;\n",
              "    }\n",
              "\n",
              "    .colab-df-convert:hover {\n",
              "      background-color: #E2EBFA;\n",
              "      box-shadow: 0px 1px 2px rgba(60, 64, 67, 0.3), 0px 1px 3px 1px rgba(60, 64, 67, 0.15);\n",
              "      fill: #174EA6;\n",
              "    }\n",
              "\n",
              "    [theme=dark] .colab-df-convert {\n",
              "      background-color: #3B4455;\n",
              "      fill: #D2E3FC;\n",
              "    }\n",
              "\n",
              "    [theme=dark] .colab-df-convert:hover {\n",
              "      background-color: #434B5C;\n",
              "      box-shadow: 0px 1px 3px 1px rgba(0, 0, 0, 0.15);\n",
              "      filter: drop-shadow(0px 1px 2px rgba(0, 0, 0, 0.3));\n",
              "      fill: #FFFFFF;\n",
              "    }\n",
              "  </style>\n",
              "\n",
              "      <script>\n",
              "        const buttonEl =\n",
              "          document.querySelector('#df-5f906a70-a0a7-4eab-b062-bd66f80576b5 button.colab-df-convert');\n",
              "        buttonEl.style.display =\n",
              "          google.colab.kernel.accessAllowed ? 'block' : 'none';\n",
              "\n",
              "        async function convertToInteractive(key) {\n",
              "          const element = document.querySelector('#df-5f906a70-a0a7-4eab-b062-bd66f80576b5');\n",
              "          const dataTable =\n",
              "            await google.colab.kernel.invokeFunction('convertToInteractive',\n",
              "                                                     [key], {});\n",
              "          if (!dataTable) return;\n",
              "\n",
              "          const docLinkHtml = 'Like what you see? Visit the ' +\n",
              "            '<a target=\"_blank\" href=https://colab.research.google.com/notebooks/data_table.ipynb>data table notebook</a>'\n",
              "            + ' to learn more about interactive tables.';\n",
              "          element.innerHTML = '';\n",
              "          dataTable['output_type'] = 'display_data';\n",
              "          await google.colab.output.renderOutput(dataTable, element);\n",
              "          const docLink = document.createElement('div');\n",
              "          docLink.innerHTML = docLinkHtml;\n",
              "          element.appendChild(docLink);\n",
              "        }\n",
              "      </script>\n",
              "    </div>\n",
              "  </div>\n",
              "  "
            ]
          },
          "metadata": {},
          "execution_count": 48
        }
      ],
      "source": [
        "df.head()"
      ]
    },
    {
      "cell_type": "code",
      "execution_count": 15,
      "metadata": {
        "colab": {
          "base_uri": "https://localhost:8080/",
          "height": 270
        },
        "id": "uAopVC7pd2KG",
        "outputId": "65d61fbf-9f51-4640-a296-0569baf34dfc"
      },
      "outputs": [
        {
          "output_type": "execute_result",
          "data": {
            "text/plain": [
              "     league  season  window   team_id  team_name  team_country  dir  \\\n",
              "0  0.333333     0.0     0.0  0.041261   0.566116           0.0  0.0   \n",
              "1  0.333333     0.0     0.0  0.041261   0.566116           0.0  0.0   \n",
              "2  0.333333     0.0     0.0  0.041261   0.566116           0.0  0.0   \n",
              "3  0.333333     0.0     0.0  0.041261   0.566116           0.0  0.0   \n",
              "4  0.333333     0.0     0.0  0.041261   0.566116           0.0  0.0   \n",
              "\n",
              "   player_id  player_name  player_age  player_nation  player_pos  \\\n",
              "0   0.035797     0.086428     0.34375       0.269461    0.600000   \n",
              "1   0.066222     0.586691     0.28125       0.808383    0.133333   \n",
              "2   0.046169     0.326706     0.25000       0.323353    0.000000   \n",
              "3   0.001485     0.662125     0.53125       0.287425    0.133333   \n",
              "4   0.078485     0.857611     0.18750       0.287425    0.066667   \n",
              "\n",
              "   counter_team_id  counter_team_name  counter_team_country  \\\n",
              "0         0.032469           0.981153              0.282258   \n",
              "1         0.841823           0.616408              0.669355   \n",
              "2         0.610962           0.372228              0.306452   \n",
              "3         0.887102           0.645787              0.282258   \n",
              "4         0.739053           0.604213              0.282258   \n",
              "\n",
              "   transfer_fee_amnt  market_val_amnt  is_free  is_loan  is_loan_end  \\\n",
              "0            0.07520         0.002750      0.0      0.0          0.0   \n",
              "1            0.01800         0.009938      0.0      0.0          0.0   \n",
              "2            0.01600         0.002438      0.0      0.0          0.0   \n",
              "3            0.00000         0.003219      1.0      0.0          0.0   \n",
              "4            0.00408         0.001813      0.0      0.0          0.0   \n",
              "\n",
              "   is_retired  transfer_id  is_expensive  \n",
              "0         0.0     0.067994           0.0  \n",
              "1         0.0     0.070521           0.0  \n",
              "2         0.0     0.069215           0.0  \n",
              "3         0.0     0.066757           0.0  \n",
              "4         0.0     0.075900           0.0  "
            ],
            "text/html": [
              "\n",
              "  <div id=\"df-c25ae13e-3e17-4522-99c6-047febc167c8\">\n",
              "    <div class=\"colab-df-container\">\n",
              "      <div>\n",
              "<style scoped>\n",
              "    .dataframe tbody tr th:only-of-type {\n",
              "        vertical-align: middle;\n",
              "    }\n",
              "\n",
              "    .dataframe tbody tr th {\n",
              "        vertical-align: top;\n",
              "    }\n",
              "\n",
              "    .dataframe thead th {\n",
              "        text-align: right;\n",
              "    }\n",
              "</style>\n",
              "<table border=\"1\" class=\"dataframe\">\n",
              "  <thead>\n",
              "    <tr style=\"text-align: right;\">\n",
              "      <th></th>\n",
              "      <th>league</th>\n",
              "      <th>season</th>\n",
              "      <th>window</th>\n",
              "      <th>team_id</th>\n",
              "      <th>team_name</th>\n",
              "      <th>team_country</th>\n",
              "      <th>dir</th>\n",
              "      <th>player_id</th>\n",
              "      <th>player_name</th>\n",
              "      <th>player_age</th>\n",
              "      <th>player_nation</th>\n",
              "      <th>player_pos</th>\n",
              "      <th>counter_team_id</th>\n",
              "      <th>counter_team_name</th>\n",
              "      <th>counter_team_country</th>\n",
              "      <th>transfer_fee_amnt</th>\n",
              "      <th>market_val_amnt</th>\n",
              "      <th>is_free</th>\n",
              "      <th>is_loan</th>\n",
              "      <th>is_loan_end</th>\n",
              "      <th>is_retired</th>\n",
              "      <th>transfer_id</th>\n",
              "      <th>is_expensive</th>\n",
              "    </tr>\n",
              "  </thead>\n",
              "  <tbody>\n",
              "    <tr>\n",
              "      <th>0</th>\n",
              "      <td>0.333333</td>\n",
              "      <td>0.0</td>\n",
              "      <td>0.0</td>\n",
              "      <td>0.041261</td>\n",
              "      <td>0.566116</td>\n",
              "      <td>0.0</td>\n",
              "      <td>0.0</td>\n",
              "      <td>0.035797</td>\n",
              "      <td>0.086428</td>\n",
              "      <td>0.34375</td>\n",
              "      <td>0.269461</td>\n",
              "      <td>0.600000</td>\n",
              "      <td>0.032469</td>\n",
              "      <td>0.981153</td>\n",
              "      <td>0.282258</td>\n",
              "      <td>0.07520</td>\n",
              "      <td>0.002750</td>\n",
              "      <td>0.0</td>\n",
              "      <td>0.0</td>\n",
              "      <td>0.0</td>\n",
              "      <td>0.0</td>\n",
              "      <td>0.067994</td>\n",
              "      <td>0.0</td>\n",
              "    </tr>\n",
              "    <tr>\n",
              "      <th>1</th>\n",
              "      <td>0.333333</td>\n",
              "      <td>0.0</td>\n",
              "      <td>0.0</td>\n",
              "      <td>0.041261</td>\n",
              "      <td>0.566116</td>\n",
              "      <td>0.0</td>\n",
              "      <td>0.0</td>\n",
              "      <td>0.066222</td>\n",
              "      <td>0.586691</td>\n",
              "      <td>0.28125</td>\n",
              "      <td>0.808383</td>\n",
              "      <td>0.133333</td>\n",
              "      <td>0.841823</td>\n",
              "      <td>0.616408</td>\n",
              "      <td>0.669355</td>\n",
              "      <td>0.01800</td>\n",
              "      <td>0.009938</td>\n",
              "      <td>0.0</td>\n",
              "      <td>0.0</td>\n",
              "      <td>0.0</td>\n",
              "      <td>0.0</td>\n",
              "      <td>0.070521</td>\n",
              "      <td>0.0</td>\n",
              "    </tr>\n",
              "    <tr>\n",
              "      <th>2</th>\n",
              "      <td>0.333333</td>\n",
              "      <td>0.0</td>\n",
              "      <td>0.0</td>\n",
              "      <td>0.041261</td>\n",
              "      <td>0.566116</td>\n",
              "      <td>0.0</td>\n",
              "      <td>0.0</td>\n",
              "      <td>0.046169</td>\n",
              "      <td>0.326706</td>\n",
              "      <td>0.25000</td>\n",
              "      <td>0.323353</td>\n",
              "      <td>0.000000</td>\n",
              "      <td>0.610962</td>\n",
              "      <td>0.372228</td>\n",
              "      <td>0.306452</td>\n",
              "      <td>0.01600</td>\n",
              "      <td>0.002438</td>\n",
              "      <td>0.0</td>\n",
              "      <td>0.0</td>\n",
              "      <td>0.0</td>\n",
              "      <td>0.0</td>\n",
              "      <td>0.069215</td>\n",
              "      <td>0.0</td>\n",
              "    </tr>\n",
              "    <tr>\n",
              "      <th>3</th>\n",
              "      <td>0.333333</td>\n",
              "      <td>0.0</td>\n",
              "      <td>0.0</td>\n",
              "      <td>0.041261</td>\n",
              "      <td>0.566116</td>\n",
              "      <td>0.0</td>\n",
              "      <td>0.0</td>\n",
              "      <td>0.001485</td>\n",
              "      <td>0.662125</td>\n",
              "      <td>0.53125</td>\n",
              "      <td>0.287425</td>\n",
              "      <td>0.133333</td>\n",
              "      <td>0.887102</td>\n",
              "      <td>0.645787</td>\n",
              "      <td>0.282258</td>\n",
              "      <td>0.00000</td>\n",
              "      <td>0.003219</td>\n",
              "      <td>1.0</td>\n",
              "      <td>0.0</td>\n",
              "      <td>0.0</td>\n",
              "      <td>0.0</td>\n",
              "      <td>0.066757</td>\n",
              "      <td>0.0</td>\n",
              "    </tr>\n",
              "    <tr>\n",
              "      <th>4</th>\n",
              "      <td>0.333333</td>\n",
              "      <td>0.0</td>\n",
              "      <td>0.0</td>\n",
              "      <td>0.041261</td>\n",
              "      <td>0.566116</td>\n",
              "      <td>0.0</td>\n",
              "      <td>0.0</td>\n",
              "      <td>0.078485</td>\n",
              "      <td>0.857611</td>\n",
              "      <td>0.18750</td>\n",
              "      <td>0.287425</td>\n",
              "      <td>0.066667</td>\n",
              "      <td>0.739053</td>\n",
              "      <td>0.604213</td>\n",
              "      <td>0.282258</td>\n",
              "      <td>0.00408</td>\n",
              "      <td>0.001813</td>\n",
              "      <td>0.0</td>\n",
              "      <td>0.0</td>\n",
              "      <td>0.0</td>\n",
              "      <td>0.0</td>\n",
              "      <td>0.075900</td>\n",
              "      <td>0.0</td>\n",
              "    </tr>\n",
              "  </tbody>\n",
              "</table>\n",
              "</div>\n",
              "      <button class=\"colab-df-convert\" onclick=\"convertToInteractive('df-c25ae13e-3e17-4522-99c6-047febc167c8')\"\n",
              "              title=\"Convert this dataframe to an interactive table.\"\n",
              "              style=\"display:none;\">\n",
              "        \n",
              "  <svg xmlns=\"http://www.w3.org/2000/svg\" height=\"24px\"viewBox=\"0 0 24 24\"\n",
              "       width=\"24px\">\n",
              "    <path d=\"M0 0h24v24H0V0z\" fill=\"none\"/>\n",
              "    <path d=\"M18.56 5.44l.94 2.06.94-2.06 2.06-.94-2.06-.94-.94-2.06-.94 2.06-2.06.94zm-11 1L8.5 8.5l.94-2.06 2.06-.94-2.06-.94L8.5 2.5l-.94 2.06-2.06.94zm10 10l.94 2.06.94-2.06 2.06-.94-2.06-.94-.94-2.06-.94 2.06-2.06.94z\"/><path d=\"M17.41 7.96l-1.37-1.37c-.4-.4-.92-.59-1.43-.59-.52 0-1.04.2-1.43.59L10.3 9.45l-7.72 7.72c-.78.78-.78 2.05 0 2.83L4 21.41c.39.39.9.59 1.41.59.51 0 1.02-.2 1.41-.59l7.78-7.78 2.81-2.81c.8-.78.8-2.07 0-2.86zM5.41 20L4 18.59l7.72-7.72 1.47 1.35L5.41 20z\"/>\n",
              "  </svg>\n",
              "      </button>\n",
              "      \n",
              "  <style>\n",
              "    .colab-df-container {\n",
              "      display:flex;\n",
              "      flex-wrap:wrap;\n",
              "      gap: 12px;\n",
              "    }\n",
              "\n",
              "    .colab-df-convert {\n",
              "      background-color: #E8F0FE;\n",
              "      border: none;\n",
              "      border-radius: 50%;\n",
              "      cursor: pointer;\n",
              "      display: none;\n",
              "      fill: #1967D2;\n",
              "      height: 32px;\n",
              "      padding: 0 0 0 0;\n",
              "      width: 32px;\n",
              "    }\n",
              "\n",
              "    .colab-df-convert:hover {\n",
              "      background-color: #E2EBFA;\n",
              "      box-shadow: 0px 1px 2px rgba(60, 64, 67, 0.3), 0px 1px 3px 1px rgba(60, 64, 67, 0.15);\n",
              "      fill: #174EA6;\n",
              "    }\n",
              "\n",
              "    [theme=dark] .colab-df-convert {\n",
              "      background-color: #3B4455;\n",
              "      fill: #D2E3FC;\n",
              "    }\n",
              "\n",
              "    [theme=dark] .colab-df-convert:hover {\n",
              "      background-color: #434B5C;\n",
              "      box-shadow: 0px 1px 3px 1px rgba(0, 0, 0, 0.15);\n",
              "      filter: drop-shadow(0px 1px 2px rgba(0, 0, 0, 0.3));\n",
              "      fill: #FFFFFF;\n",
              "    }\n",
              "  </style>\n",
              "\n",
              "      <script>\n",
              "        const buttonEl =\n",
              "          document.querySelector('#df-c25ae13e-3e17-4522-99c6-047febc167c8 button.colab-df-convert');\n",
              "        buttonEl.style.display =\n",
              "          google.colab.kernel.accessAllowed ? 'block' : 'none';\n",
              "\n",
              "        async function convertToInteractive(key) {\n",
              "          const element = document.querySelector('#df-c25ae13e-3e17-4522-99c6-047febc167c8');\n",
              "          const dataTable =\n",
              "            await google.colab.kernel.invokeFunction('convertToInteractive',\n",
              "                                                     [key], {});\n",
              "          if (!dataTable) return;\n",
              "\n",
              "          const docLinkHtml = 'Like what you see? Visit the ' +\n",
              "            '<a target=\"_blank\" href=https://colab.research.google.com/notebooks/data_table.ipynb>data table notebook</a>'\n",
              "            + ' to learn more about interactive tables.';\n",
              "          element.innerHTML = '';\n",
              "          dataTable['output_type'] = 'display_data';\n",
              "          await google.colab.output.renderOutput(dataTable, element);\n",
              "          const docLink = document.createElement('div');\n",
              "          docLink.innerHTML = docLinkHtml;\n",
              "          element.appendChild(docLink);\n",
              "        }\n",
              "      </script>\n",
              "    </div>\n",
              "  </div>\n",
              "  "
            ]
          },
          "metadata": {},
          "execution_count": 15
        }
      ],
      "source": [
        "#we use min max scaler to normalize the dataframe\n",
        "from sklearn.preprocessing import MinMaxScaler\n",
        "\n",
        "cols = df.columns\n",
        "scaler = MinMaxScaler()\n",
        "for col in cols:\n",
        "    df[col] = scaler.fit_transform(df[col].to_numpy().reshape(-1, 1))\n",
        "df.head()"
      ]
    },
    {
      "cell_type": "markdown",
      "source": [
        "##**Feature Selection**"
      ],
      "metadata": {
        "id": "-2juVFGEZx0M"
      }
    },
    {
      "cell_type": "code",
      "execution_count": null,
      "metadata": {
        "colab": {
          "base_uri": "https://localhost:8080/"
        },
        "id": "pzFSZOSS5R_3",
        "outputId": "d4031cae-4877-4c85-ead1-18dcc8f0705f"
      },
      "outputs": [
        {
          "output_type": "stream",
          "name": "stdout",
          "text": [
            "chosen features:  Index(['league', 'season', 'window', 'team_country', 'player_age',\n",
            "       'counter_team_country'],\n",
            "      dtype='object') \n",
            "\n"
          ]
        },
        {
          "output_type": "execute_result",
          "data": {
            "text/plain": [
              "array([5.51040775e+02, 2.54290078e+03, 3.46665393e+01, 7.48863867e+00,\n",
              "       3.45871980e+02, 1.39703120e+00, 1.99113550e+03, 1.14837487e+01,\n",
              "       1.06093112e+01, 7.12132600e+00, 8.69828227e+00, 1.74653113e+02,\n",
              "       9.21473847e+00])"
            ]
          },
          "metadata": {},
          "execution_count": 50
        }
      ],
      "source": [
        "from sklearn.feature_selection import mutual_info_classif\n",
        "# select k best\n",
        "#importing libraries\n",
        "from sklearn.feature_selection import SelectKBest\n",
        "from sklearn.feature_selection import f_regression\n",
        "#declaring target as Total Users column\n",
        "target = df['is_expensive']\n",
        "#dropping Total Users from the features\n",
        "features = df.drop(['is_expensive','market_val_amnt','transfer_fee_amnt','dir','is_free','is_retired'],axis = 1).copy()\n",
        "#fitting the columns into their respective positions\n",
        "select_kbest = SelectKBest(f_regression,k = 6).fit(features,target)\n",
        "features_kbest = select_kbest.get_support()\n",
        "#printing results from kbest\n",
        "print('chosen features: ', features.columns[features_kbest],'\\n')\n",
        "\n",
        "select_kbest.scores_"
      ]
    },
    {
      "cell_type": "markdown",
      "metadata": {
        "id": "-tu8kJlzyhtL"
      },
      "source": [
        "Very interesting to see the features that are outputted here. I would have normally expected to see player position or the counter team name(the team that is selling the player) to be included."
      ]
    },
    {
      "cell_type": "code",
      "execution_count": null,
      "metadata": {
        "colab": {
          "base_uri": "https://localhost:8080/"
        },
        "id": "t3PX3qie8Mnv",
        "outputId": "98738c6e-f79c-4178-dd1c-6223199bf5fe"
      },
      "outputs": [
        {
          "output_type": "stream",
          "name": "stdout",
          "text": [
            "Index(['league', 'season', 'team_country', 'player_age', 'is_loan'], dtype='object')\n"
          ]
        }
      ],
      "source": [
        "# Recursive Feature Elimination\n",
        "from sklearn.linear_model import LinearRegression\n",
        "from sklearn.feature_selection import RFE\n",
        "\n",
        "lr = LinearRegression()\n",
        "rfe = RFE(estimator = lr, n_features_to_select = 5 , step = 1)\n",
        "\n",
        "rfe.fit(features,target)\n",
        "rfe_features = features.columns[rfe.support_]\n",
        "print(rfe_features)"
      ]
    },
    {
      "cell_type": "markdown",
      "metadata": {
        "id": "rUA-gfMZ_UJw"
      },
      "source": [
        "##**SMOTE**"
      ]
    },
    {
      "cell_type": "markdown",
      "source": [
        "We decided to do a hybrid type of selection where we take a few features that were returned from the feature selection algorithms from above and use our domain knowledge to select the rest:\n",
        "* We think the position of player is crucial in determining a player's valuation which in turn decides if he is expensive or not.\n",
        "* We also decided to select the selling team(counter_team_name) as a feature since they would definately play a vital role in deciding their players' valuation based on the type of contract the player in on."
      ],
      "metadata": {
        "id": "hsnUDWnVaEyf"
      }
    },
    {
      "cell_type": "code",
      "execution_count": 16,
      "metadata": {
        "colab": {
          "base_uri": "https://localhost:8080/"
        },
        "id": "0Y1eU27w_VvT",
        "outputId": "9a2a10b3-ff24-493b-c2f7-4770d5824824"
      },
      "outputs": [
        {
          "output_type": "execute_result",
          "data": {
            "text/plain": [
              "((90990, 6), (90990,))"
            ]
          },
          "metadata": {},
          "execution_count": 16
        }
      ],
      "source": [
        "#SMOTE the data since there is too many cases of not_expensive players and few expensive players in comparison\n",
        "from imblearn.over_sampling import SMOTE\n",
        "\n",
        "y = df['is_expensive']\n",
        "#declaring the features\n",
        "X = df[['league','season','player_age','player_pos','player_nation','counter_team_name']]\n",
        "#our test and train split for prediction\n",
        "X_train,X_test,y_train,y_test = train_test_split(X,y,test_size = .2)\n",
        "\n",
        "sm = SMOTE(random_state=2)\n",
        "X_train, y_train = sm.fit_resample(X_train, y_train.ravel())\n",
        "\n",
        "X_train.shape, y_train.shape"
      ]
    },
    {
      "cell_type": "markdown",
      "metadata": {
        "id": "c5fsgREl2jxN"
      },
      "source": [
        "We tried fitting the data without balancing it but the results in recall when we did our performance metrics using the classification report were terrible. It is paramount that we balance this dataset to see improvements in those metrics."
      ]
    },
    {
      "cell_type": "markdown",
      "metadata": {
        "id": "wmMrptxF99bu"
      },
      "source": [
        "##**Classifier models**"
      ]
    },
    {
      "cell_type": "markdown",
      "source": [
        "###**Support Vector Classifier and metrics**"
      ],
      "metadata": {
        "id": "4fW8nd98dg0J"
      }
    },
    {
      "cell_type": "code",
      "execution_count": null,
      "metadata": {
        "colab": {
          "base_uri": "https://localhost:8080/"
        },
        "id": "moi7Nf6b92bm",
        "outputId": "67bbab5b-233f-4795-be27-aea2b335621a"
      },
      "outputs": [
        {
          "output_type": "execute_result",
          "data": {
            "text/plain": [
              "0.6597113048449336"
            ]
          },
          "metadata": {},
          "execution_count": 53
        }
      ],
      "source": [
        "from sklearn.metrics import accuracy_score\n",
        "from sklearn.metrics import classification_report\n",
        "from sklearn.metrics import roc_auc_score\n",
        "from sklearn.metrics import log_loss\n",
        "from sklearn.metrics import f1_score\n",
        "from sklearn.metrics import precision_score\n",
        "from sklearn.metrics import recall_score\n",
        "from sklearn import svm\n",
        "#instance for our svc\n",
        "clf = svm.SVC()\n",
        "#fitting our model\n",
        "clf.fit(X_train,y_train)\n",
        "y_pred = clf.predict(X_test)\n",
        "clf.score(X,y)"
      ]
    },
    {
      "cell_type": "code",
      "execution_count": null,
      "metadata": {
        "colab": {
          "base_uri": "https://localhost:8080/"
        },
        "id": "a_hue4OJgRl5",
        "outputId": "269dfc3c-161a-4b81-9e1b-1167fbf46ab2"
      },
      "outputs": [
        {
          "output_type": "stream",
          "name": "stdout",
          "text": [
            "              precision    recall  f1-score   support\n",
            "\n",
            "         0.0       0.91      0.64      0.75     11376\n",
            "         1.0       0.32      0.74      0.45      2618\n",
            "\n",
            "    accuracy                           0.66     13994\n",
            "   macro avg       0.62      0.69      0.60     13994\n",
            "weighted avg       0.80      0.66      0.69     13994\n",
            "\n"
          ]
        }
      ],
      "source": [
        "print(classification_report(y_test, y_pred))"
      ]
    },
    {
      "cell_type": "code",
      "execution_count": null,
      "metadata": {
        "colab": {
          "base_uri": "https://localhost:8080/"
        },
        "id": "VHaLnESEgthn",
        "outputId": "3971f2ea-2843-4441-dfaa-0f70182d364d"
      },
      "outputs": [
        {
          "output_type": "execute_result",
          "data": {
            "text/plain": [
              "array([[7266, 4110],\n",
              "       [ 688, 1930]])"
            ]
          },
          "metadata": {},
          "execution_count": 55
        }
      ],
      "source": [
        "# confusion matrix\n",
        "from sklearn.metrics import confusion_matrix\n",
        "test_conf_mat = confusion_matrix(y_test, y_pred)\n",
        "#print results \n",
        "test_conf_mat"
      ]
    },
    {
      "cell_type": "code",
      "execution_count": null,
      "metadata": {
        "colab": {
          "base_uri": "https://localhost:8080/"
        },
        "id": "GwZkhPOXgwJ7",
        "outputId": "1fee727e-0921-4893-95be-95f4631f9341"
      },
      "outputs": [
        {
          "output_type": "stream",
          "name": "stdout",
          "text": [
            "auc score: 0.6879585263334332\n"
          ]
        }
      ],
      "source": [
        "# print roc score\n",
        "from sklearn.metrics import roc_auc_score\n",
        "\n",
        "auc = roc_auc_score(y_test, y_pred)\n",
        "print('auc score:', auc)"
      ]
    },
    {
      "cell_type": "code",
      "execution_count": null,
      "metadata": {
        "colab": {
          "base_uri": "https://localhost:8080/",
          "height": 334
        },
        "id": "lejyoTs1gyv4",
        "outputId": "740629c4-ae19-45b2-d646-e1d38e8683f5"
      },
      "outputs": [
        {
          "output_type": "stream",
          "name": "stderr",
          "text": [
            "/usr/local/lib/python3.7/dist-packages/sklearn/utils/deprecation.py:87: FutureWarning: Function plot_roc_curve is deprecated; Function :func:`plot_roc_curve` is deprecated in 1.0 and will be removed in 1.2. Use one of the class methods: :meth:`sklearn.metric.RocCurveDisplay.from_predictions` or :meth:`sklearn.metric.RocCurveDisplay.from_estimator`.\n",
            "  warnings.warn(msg, category=FutureWarning)\n"
          ]
        },
        {
          "output_type": "display_data",
          "data": {
            "text/plain": [
              "<Figure size 432x288 with 1 Axes>"
            ],
            "image/png": "[encoded data removed]"
          },
          "metadata": {
            "needs_background": "light"
          }
        }
      ],
      "source": [
        "metrics.plot_roc_curve(clf, X_test, y_test) \n",
        "plt.plot([0, 1], [0, 1], 'c--', label = 'support vector classifier');\n",
        "plt.show()"
      ]
    },
    {
      "cell_type": "markdown",
      "source": [
        "###**Random Forest Classifier and metrics**"
      ],
      "metadata": {
        "id": "mp_N34XPdtZU"
      }
    },
    {
      "cell_type": "code",
      "execution_count": null,
      "metadata": {
        "colab": {
          "base_uri": "https://localhost:8080/"
        },
        "id": "agONbmaIdrGU",
        "outputId": "957f5ace-e22b-4481-cf88-9ac4a8adb0ce"
      },
      "outputs": [
        {
          "output_type": "execute_result",
          "data": {
            "text/plain": [
              "0.9697298842361012"
            ]
          },
          "metadata": {},
          "execution_count": 58
        }
      ],
      "source": [
        "# random forest classifier\n",
        "from sklearn.ensemble import RandomForestClassifier\n",
        "from sklearn.ensemble import RandomForestRegressor\n",
        "forest = RandomForestClassifier()\n",
        "model = forest.fit(X_train,y_train)\n",
        "y_pred = model.predict(X_test)\n",
        "model.score(X,y)"
      ]
    },
    {
      "cell_type": "code",
      "execution_count": null,
      "metadata": {
        "colab": {
          "base_uri": "https://localhost:8080/"
        },
        "id": "GcnnsZFmmscM",
        "outputId": "d945677d-8775-41e3-b445-1b0d66f8fcea"
      },
      "outputs": [
        {
          "output_type": "stream",
          "name": "stdout",
          "text": [
            "              precision    recall  f1-score   support\n",
            "\n",
            "         0.0       0.89      0.94      0.92     11376\n",
            "         1.0       0.67      0.50      0.57      2618\n",
            "\n",
            "    accuracy                           0.86     13994\n",
            "   macro avg       0.78      0.72      0.74     13994\n",
            "weighted avg       0.85      0.86      0.85     13994\n",
            "\n"
          ]
        }
      ],
      "source": [
        "print(classification_report(y_test, y_pred))"
      ]
    },
    {
      "cell_type": "code",
      "execution_count": null,
      "metadata": {
        "colab": {
          "base_uri": "https://localhost:8080/"
        },
        "id": "18XMKcMgmyVW",
        "outputId": "f8dbde3d-973e-4e7f-8916-3cf4ccf470f0"
      },
      "outputs": [
        {
          "output_type": "execute_result",
          "data": {
            "text/plain": [
              "array([[10746,   630],\n",
              "       [ 1314,  1304]])"
            ]
          },
          "metadata": {},
          "execution_count": 60
        }
      ],
      "source": [
        "# create confusion matrix\n",
        "from sklearn.metrics import confusion_matrix\n",
        "test_conf_mat = confusion_matrix(y_test, y_pred)\n",
        "#print results \n",
        "test_conf_mat"
      ]
    },
    {
      "cell_type": "code",
      "execution_count": null,
      "metadata": {
        "id": "iPsi4awfm08J",
        "colab": {
          "base_uri": "https://localhost:8080/"
        },
        "outputId": "72bd8bb9-4c5a-4214-e648-30498433a13a"
      },
      "outputs": [
        {
          "output_type": "stream",
          "name": "stdout",
          "text": [
            "auc score: 0.7213551991567629\n"
          ]
        }
      ],
      "source": [
        "# print roc score\n",
        "from sklearn.metrics import roc_auc_score\n",
        "\n",
        "auc = roc_auc_score(y_test, y_pred)\n",
        "print('auc score:', auc)"
      ]
    },
    {
      "cell_type": "code",
      "execution_count": null,
      "metadata": {
        "colab": {
          "base_uri": "https://localhost:8080/",
          "height": 334
        },
        "id": "i-TAf-_Y3Jgt",
        "outputId": "6bed9934-527f-4cc8-b30c-a8e522d8b6c0"
      },
      "outputs": [
        {
          "output_type": "stream",
          "name": "stderr",
          "text": [
            "/usr/local/lib/python3.7/dist-packages/sklearn/utils/deprecation.py:87: FutureWarning: Function plot_roc_curve is deprecated; Function :func:`plot_roc_curve` is deprecated in 1.0 and will be removed in 1.2. Use one of the class methods: :meth:`sklearn.metric.RocCurveDisplay.from_predictions` or :meth:`sklearn.metric.RocCurveDisplay.from_estimator`.\n",
            "  warnings.warn(msg, category=FutureWarning)\n"
          ]
        },
        {
          "output_type": "display_data",
          "data": {
            "text/plain": [
              "<Figure size 432x288 with 1 Axes>"
            ],
            "image/png": "[encoded data removed]"
          },
          "metadata": {
            "needs_background": "light"
          }
        }
      ],
      "source": [
        "metrics.plot_roc_curve(forest, X_test, y_test) \n",
        "plt.plot([0, 1], [0, 1], 'c--', label = 'random forest classifier');\n",
        "plt.show()"
      ]
    },
    {
      "cell_type": "markdown",
      "source": [
        "##**Decision Tree Classifier and metrics**"
      ],
      "metadata": {
        "id": "PcighnmEdyBl"
      }
    },
    {
      "cell_type": "code",
      "execution_count": null,
      "metadata": {
        "colab": {
          "base_uri": "https://localhost:8080/"
        },
        "id": "Ffk_JgyM5LC5",
        "outputId": "ee846b8c-bc15-47bc-cf9c-95ef5cb53db5"
      },
      "outputs": [
        {
          "output_type": "execute_result",
          "data": {
            "text/plain": [
              "0.7160783192796913"
            ]
          },
          "metadata": {},
          "execution_count": 63
        }
      ],
      "source": [
        "# decision Tree classifier model\n",
        "from sklearn.tree import DecisionTreeClassifier\n",
        "dtree = DecisionTreeClassifier(max_depth=10, random_state=101, max_features=None, min_samples_leaf=15)\n",
        "model = dtree.fit(X_train, y_train)\n",
        "y_pred = dtree.predict(X_test)\n",
        "dtree.score(X,y)"
      ]
    },
    {
      "cell_type": "code",
      "execution_count": null,
      "metadata": {
        "id": "LVRkh7Lxgwuk",
        "colab": {
          "base_uri": "https://localhost:8080/"
        },
        "outputId": "7924d444-0195-4d21-c525-9428522cc10e"
      },
      "outputs": [
        {
          "output_type": "stream",
          "name": "stdout",
          "text": [
            "              precision    recall  f1-score   support\n",
            "\n",
            "         0.0       0.88      0.74      0.81     11376\n",
            "         1.0       0.34      0.56      0.42      2618\n",
            "\n",
            "    accuracy                           0.71     13994\n",
            "   macro avg       0.61      0.65      0.61     13994\n",
            "weighted avg       0.78      0.71      0.73     13994\n",
            "\n"
          ]
        }
      ],
      "source": [
        "#  print classification report\n",
        "from sklearn.metrics import accuracy_score\n",
        "from sklearn.metrics import classification_report\n",
        "from sklearn.metrics import roc_auc_score\n",
        "from sklearn.metrics import log_loss\n",
        "from sklearn.metrics import f1_score\n",
        "from sklearn.metrics import precision_score\n",
        "from sklearn.metrics import recall_score\n",
        "print(classification_report(y_test, y_pred))\n"
      ]
    },
    {
      "cell_type": "code",
      "execution_count": null,
      "metadata": {
        "id": "0s_DPaR_728k",
        "colab": {
          "base_uri": "https://localhost:8080/"
        },
        "outputId": "e32af0e8-5af5-43fb-f096-f81b4d7453c3"
      },
      "outputs": [
        {
          "output_type": "execute_result",
          "data": {
            "text/plain": [
              "array([[8458, 2918],\n",
              "       [1143, 1475]])"
            ]
          },
          "metadata": {},
          "execution_count": 65
        }
      ],
      "source": [
        "# create confusion matrix\n",
        "from sklearn.metrics import confusion_matrix\n",
        "test_conf_mat = confusion_matrix(y_test, y_pred)\n",
        "#print results \n",
        "test_conf_mat"
      ]
    },
    {
      "cell_type": "code",
      "execution_count": null,
      "metadata": {
        "id": "Ihwx-1Bg8jPa",
        "colab": {
          "base_uri": "https://localhost:8080/"
        },
        "outputId": "9706e80b-7d88-49cd-d11c-1709a58f8caf"
      },
      "outputs": [
        {
          "output_type": "stream",
          "name": "stdout",
          "text": [
            "auc score: 0.6534511292050383\n"
          ]
        }
      ],
      "source": [
        "# print roc score\n",
        "from sklearn.metrics import roc_auc_score\n",
        "\n",
        "auc = roc_auc_score(y_test, y_pred)\n",
        "print('auc score:', auc)"
      ]
    },
    {
      "cell_type": "code",
      "execution_count": null,
      "metadata": {
        "id": "8zStU4kK8MeI",
        "colab": {
          "base_uri": "https://localhost:8080/",
          "height": 295
        },
        "outputId": "d35cfe44-6ee4-434c-fbc4-fa6958acca2a"
      },
      "outputs": [
        {
          "output_type": "display_data",
          "data": {
            "text/plain": [
              "<Figure size 432x288 with 1 Axes>"
            ],
            "image/png": "[encoded data removed]"
          },
          "metadata": {
            "needs_background": "light"
          }
        }
      ],
      "source": [
        "#referred from M_Fried_M8_assn notebook\n",
        "# create roc graph\n",
        "from sklearn.metrics import roc_auc_score\n",
        "from sklearn.metrics import roc_curve\n",
        "logit_roc_auc = roc_auc_score(y_test, forest.predict(X_test))\n",
        "fpr, tpr, thresholds = roc_curve(y_test, forest.predict_proba(X_test)[:,1])\n",
        "plt.figure()\n",
        "plt.plot(fpr, tpr, label='Decision Tree Classifier (area = %0.2f)' % logit_roc_auc)\n",
        "plt.plot([0, 1], [0, 1],'r--')\n",
        "plt.xlim([0.0, 1.0])\n",
        "plt.ylim([0.0, 1.05])\n",
        "plt.xlabel('False Positive Rate')\n",
        "plt.ylabel('True Positive Rate')\n",
        "plt.title('Receiver operating characteristic curve')\n",
        "plt.legend(loc=\"lower right\")\n",
        "plt.savefig('Log_ROC')\n",
        "plt.show() "
      ]
    },
    {
      "cell_type": "markdown",
      "source": [
        "###**Gaussian Naive Bayes**"
      ],
      "metadata": {
        "id": "656L3NOOd7FY"
      }
    },
    {
      "cell_type": "code",
      "execution_count": null,
      "metadata": {
        "id": "HdzC_hBGO0bo",
        "colab": {
          "base_uri": "https://localhost:8080/"
        },
        "outputId": "48da030f-ed3a-41e3-dbc5-d41c313f27b3"
      },
      "outputs": [
        {
          "output_type": "execute_result",
          "data": {
            "text/plain": [
              "0.6081320565956838"
            ]
          },
          "metadata": {},
          "execution_count": 68
        }
      ],
      "source": [
        "# naive bayes model\n",
        "from sklearn.model_selection import train_test_split\n",
        "from sklearn.naive_bayes import GaussianNB\n",
        "gnb = GaussianNB()\n",
        "model = gnb.fit(X_train, y_train)\n",
        "y_pred = model.predict(X_test)\n",
        "model.score(X,y)"
      ]
    },
    {
      "cell_type": "code",
      "execution_count": null,
      "metadata": {
        "id": "QRJhOVdfRJf3",
        "colab": {
          "base_uri": "https://localhost:8080/"
        },
        "outputId": "5363b2c6-2d97-4f21-84ea-3e7d581b7bd2"
      },
      "outputs": [
        {
          "output_type": "stream",
          "name": "stdout",
          "text": [
            "              precision    recall  f1-score   support\n",
            "\n",
            "         0.0       0.90      0.59      0.71     11376\n",
            "         1.0       0.29      0.73      0.41      2618\n",
            "\n",
            "    accuracy                           0.61     13994\n",
            "   macro avg       0.60      0.66      0.56     13994\n",
            "weighted avg       0.79      0.61      0.66     13994\n",
            "\n"
          ]
        }
      ],
      "source": [
        "print(classification_report(y_test, y_pred))"
      ]
    },
    {
      "cell_type": "code",
      "execution_count": null,
      "metadata": {
        "id": "6htCGF7dRLk2",
        "colab": {
          "base_uri": "https://localhost:8080/"
        },
        "outputId": "f769bff2-15b7-46e3-9ccc-737758b95a1b"
      },
      "outputs": [
        {
          "output_type": "execute_result",
          "data": {
            "text/plain": [
              "array([[6692, 4684],\n",
              "       [ 716, 1902]])"
            ]
          },
          "metadata": {},
          "execution_count": 70
        }
      ],
      "source": [
        "# confusion matrix\n",
        "from sklearn.metrics import confusion_matrix\n",
        "test_conf_mat = confusion_matrix(y_test, y_pred)\n",
        "#print results \n",
        "test_conf_mat"
      ]
    },
    {
      "cell_type": "code",
      "execution_count": null,
      "metadata": {
        "id": "_62kmnG9RO50",
        "colab": {
          "base_uri": "https://localhost:8080/"
        },
        "outputId": "a81cb7eb-c642-4b15-b7f4-5b990efe23c1"
      },
      "outputs": [
        {
          "output_type": "stream",
          "name": "stdout",
          "text": [
            "auc score: 0.6573823814143993\n"
          ]
        }
      ],
      "source": [
        "# print roc score\n",
        "from sklearn.metrics import roc_auc_score\n",
        "\n",
        "auc = roc_auc_score(y_test, y_pred)\n",
        "print('auc score:', auc)"
      ]
    },
    {
      "cell_type": "code",
      "execution_count": null,
      "metadata": {
        "id": "h2ztPtsiRQ4i",
        "colab": {
          "base_uri": "https://localhost:8080/",
          "height": 334
        },
        "outputId": "d93acb05-251a-43c0-b5a2-436ecb9ce67a"
      },
      "outputs": [
        {
          "output_type": "stream",
          "name": "stderr",
          "text": [
            "/usr/local/lib/python3.7/dist-packages/sklearn/utils/deprecation.py:87: FutureWarning: Function plot_roc_curve is deprecated; Function :func:`plot_roc_curve` is deprecated in 1.0 and will be removed in 1.2. Use one of the class methods: :meth:`sklearn.metric.RocCurveDisplay.from_predictions` or :meth:`sklearn.metric.RocCurveDisplay.from_estimator`.\n",
            "  warnings.warn(msg, category=FutureWarning)\n"
          ]
        },
        {
          "output_type": "display_data",
          "data": {
            "text/plain": [
              "<Figure size 432x288 with 1 Axes>"
            ],
            "image/png": "[encoded data removed]"
          },
          "metadata": {
            "needs_background": "light"
          }
        }
      ],
      "source": [
        "metrics.plot_roc_curve(gnb, X_test, y_test) \n",
        "plt.plot([0, 1], [0, 1], 'c--', label = 'naive classifier');\n",
        "plt.show()"
      ]
    },
    {
      "cell_type": "markdown",
      "source": [
        "###**Logistic Regression and Metrics**"
      ],
      "metadata": {
        "id": "SWY7gb13956U"
      }
    },
    {
      "cell_type": "code",
      "source": [
        "from sklearn.linear_model import LogisticRegression\n",
        "from sklearn import metrics\n",
        "logreg = LogisticRegression()\n",
        "model = logreg.fit(X_train, y_train)\n",
        "y_pred = model.predict(X_test)\n",
        "model.score(X,y)"
      ],
      "metadata": {
        "id": "f1oC8Fsf-i6n",
        "colab": {
          "base_uri": "https://localhost:8080/"
        },
        "outputId": "b05a88fa-de06-44f7-8be4-f435debc9697"
      },
      "execution_count": 18,
      "outputs": [
        {
          "output_type": "execute_result",
          "data": {
            "text/plain": [
              "0.6484064599113906"
            ]
          },
          "metadata": {},
          "execution_count": 18
        }
      ]
    },
    {
      "cell_type": "code",
      "source": [
        "print(classification_report(y_test, y_pred))"
      ],
      "metadata": {
        "colab": {
          "base_uri": "https://localhost:8080/"
        },
        "id": "0SduMC6P9a9M",
        "outputId": "0f84a9e7-8bae-4e21-8bd9-b831acae5c4e"
      },
      "execution_count": 19,
      "outputs": [
        {
          "output_type": "stream",
          "name": "stdout",
          "text": [
            "              precision    recall  f1-score   support\n",
            "\n",
            "         0.0       0.90      0.64      0.75     11364\n",
            "         1.0       0.30      0.68      0.42      2630\n",
            "\n",
            "    accuracy                           0.65     13994\n",
            "   macro avg       0.60      0.66      0.58     13994\n",
            "weighted avg       0.78      0.65      0.68     13994\n",
            "\n"
          ]
        }
      ]
    },
    {
      "cell_type": "code",
      "source": [
        "# confusion matrix\n",
        "from sklearn.metrics import confusion_matrix\n",
        "test_conf_mat = confusion_matrix(y_test, y_pred)\n",
        "#print results \n",
        "test_conf_mat"
      ],
      "metadata": {
        "colab": {
          "base_uri": "https://localhost:8080/"
        },
        "id": "qd3BXzme9fTb",
        "outputId": "f94cc39c-146d-43ea-fb9b-5656cf88c332"
      },
      "execution_count": 20,
      "outputs": [
        {
          "output_type": "execute_result",
          "data": {
            "text/plain": [
              "array([[7275, 4089],\n",
              "       [ 852, 1778]])"
            ]
          },
          "metadata": {},
          "execution_count": 20
        }
      ]
    },
    {
      "cell_type": "code",
      "source": [
        "# print roc score\n",
        "from sklearn.metrics import roc_auc_score\n",
        "\n",
        "auc = roc_auc_score(y_test, y_pred)\n",
        "print('auc score:', auc)"
      ],
      "metadata": {
        "colab": {
          "base_uri": "https://localhost:8080/"
        },
        "id": "9WpYzR8_9j2q",
        "outputId": "23513866-e4b0-454b-d747-c668d8674d74"
      },
      "execution_count": 21,
      "outputs": [
        {
          "output_type": "stream",
          "name": "stdout",
          "text": [
            "auc score: 0.6581125708159847\n"
          ]
        }
      ]
    },
    {
      "cell_type": "code",
      "source": [
        "metrics.plot_roc_curve(logreg, X_test, y_test) \n",
        "plt.plot([0, 1], [0, 1], 'c--', label = 'logistic regression');\n",
        "plt.show()"
      ],
      "metadata": {
        "colab": {
          "base_uri": "https://localhost:8080/",
          "height": 334
        },
        "id": "VjQL2Shy9nkn",
        "outputId": "f289c515-2afc-457f-8735-9c192ae43b61"
      },
      "execution_count": 23,
      "outputs": [
        {
          "output_type": "stream",
          "name": "stderr",
          "text": [
            "/usr/local/lib/python3.7/dist-packages/sklearn/utils/deprecation.py:87: FutureWarning: Function plot_roc_curve is deprecated; Function :func:`plot_roc_curve` is deprecated in 1.0 and will be removed in 1.2. Use one of the class methods: :meth:`sklearn.metric.RocCurveDisplay.from_predictions` or :meth:`sklearn.metric.RocCurveDisplay.from_estimator`.\n",
            "  warnings.warn(msg, category=FutureWarning)\n"
          ]
        },
        {
          "output_type": "display_data",
          "data": {
            "text/plain": [
              "<Figure size 432x288 with 1 Axes>"
            ],
            "image/png": "[encoded data removed]"
          },
          "metadata": {
            "needs_background": "light"
          }
        }
      ]
    },
    {
      "cell_type": "markdown",
      "metadata": {
        "id": "gbg01lo8FDqS"
      },
      "source": [
        "#**Conclusion**\n",
        "\n",
        "* Our project began with issues finding a dataset until we ultimately landed on one our group member was passionate about. Which is how we landed upon the football transfer dataset. Working with this dataset turned out to create some issues, the response variable we wanted to work with had a lot of NaN values. At this point we had to make a decision, we use our domain knowledge to drop all the rows that had NaN variables where the transfer market fee was NaN's because from our domain knowledge we knew a lot of clubs do not disclose their player transfer details including the fee. However, this would have severely cut our dataset by more than 60% which is why we came upon the decision to use KNN imputer to fill the NaN values. This strategy was successful because the rows were grouped by the club which bought the players \"team_name\". We did this because the rows are sorted by club which meant we can look to our neighbors to fill the NaN values which are relevant and would give us the most accurate evaluations. \n",
        "\n",
        "* With our new data frame we began Exploratory Data Analysis, we gained a lot of information from univariate and multivariate graphs. At this point, we created a new column to our data frame that would determine whether a player was considered expensive or not. The threshold for determining whether they were expensive was the mean of \"market_val_amt\" if they were lower than the mean they were not considered expensive however if they were over it they were categorized as expensive.  With the new column, we did data scaling to normalize our data.\n",
        "\n",
        "* We trained the data frame without balancing the data first(response variable) however it resulted in extremely bad scores for f1, recall, and precision for our true values (1). As a result, we looked into SMOTE to balance our data, and then we began to write our four models (SVC, Random Forest Classifier, Gaussian Naive Bayes, Decision Tree Model) and then we compared the results of the models by classification report and the ROC Curve.\n",
        "\n",
        "* Ultimately we decided that the ensemble model, Random Forest Classifier was the best out of the four we made based on the Model Score, the curve of the ROC Score, and the f1-score.\n",
        "\n",
        "* **Issues we encountered:** A couple of issues we encountered were that KNN imputer took 5 minutes to run and SVC took 15 minutes. This made working on our project extremely time-consuming. \n",
        "\n",
        "* **Result of Research Question:**  We were also able to answer our hypothesis and we came to realize it was wrong. England on an average did not have the highest market value for their players but rather France did. This could be explained due to recent world cup winnings in 2018 which might have inflated the evaluations of the French player base. France was closely followed by Italy and then Spain."
      ]
    }
  ],
  "metadata": {
    "colab": {
      "collapsed_sections": [],
      "name": "final_project.ipynb",
      "provenance": [],
      "include_colab_link": true
    },
    "kernelspec": {
      "display_name": "Python 3.9.12 64-bit",
      "language": "python",
      "name": "python3"
    },
    "language_info": {
      "codemirror_mode": {
        "name": "ipython",
        "version": 3
      },
      "file_extension": ".py",
      "mimetype": "text/x-python",
      "name": "python",
      "nbconvert_exporter": "python",
      "pygments_lexer": "ipython3",
      "version": "3.9.12"
    },
    "vscode": {
      "interpreter": {
        "hash": "aee8b7b246df8f9039afb4144a1f6fd8d2ca17a180786b69acc140d282b71a49"
      }
    }
  },
  "nbformat": 4,
  "nbformat_minor": 0
}